{
 "cells": [
  {
   "cell_type": "code",
   "execution_count": null,
   "metadata": {},
   "outputs": [],
   "source": [
    "import pandas as pd\n",
    "import numpy as np\n",
    "import matplotlib.pyplot as plt \n",
    "import glob\n",
    "import os"
   ]
  },
  {
   "cell_type": "code",
   "execution_count": null,
   "metadata": {},
   "outputs": [],
   "source": [
    "#path_folder = \"Users\\uic33116\\Documents\\documents\\ariel-data-challenge-2024\"\n",
    "files = glob.glob(os.path.join('train/', '*/*'))"
   ]
  },
  {
   "cell_type": "code",
   "execution_count": null,
   "metadata": {},
   "outputs": [],
   "source": [
    "stars = []\n",
    "for file in files:\n",
    "    file_name = file.split('\\\\')[1]\n",
    "    stars.append(file_name)\n",
    "stars = np.unique(stars)\n",
    "    "
   ]
  },
  {
   "cell_type": "code",
   "execution_count": null,
   "metadata": {},
   "outputs": [],
   "source": [
    "# each pixel in airs, fsg is acting as an charge accumulator\n",
    "# pixels are reset at beginning and after a while of recording to be sensitive to rapid changes\n",
    "# -> pixels constantly reset\n",
    "\n",
    "# as exoplanet is passing infront of host star a small amount of photons is sent through the atmosphere (50-200 photons per million = 0.005% - 0.02%)\n",
    "# lots of noise in the system since in space stability is created by spinning wheels -> lots of added noise on signal\n",
    "\n",
    "# we have a sequence of 2d images (infrared & visual light)\n",
    "# ariel data:\n",
    "#   - spacial vs spectral per frame -> x axis = wavelength, y axis = space -> tells us the intensity of different wavelengths per space\n",
    "\n",
    "# GOAL: estimate the spectrum of each detection & uncertainty of prediction! \n",
    "# output: 1*284 Rp/Rs over wavelength\n",
    "# light = electromagnetic wave = 2 dimensions parallel to direction of motion -> split the two dimensions in parallel to surface & perpendicular to surface\n",
    "# Rp = reflected light parallel to surface\n",
    "# Rs = reflected light perpendicular to surface\n",
    "# Rp/Rs characterices material, changes with wavelength\n",
    "# as planet passes before star, we have multiple phases\n",
    "# 1. no planet, pure star -> full star light\n",
    "# 2. planet enters star   -> reflectance is incresing\n",
    "# 3. planet infront of star -> reflectance is highest\n",
    "# 4. planet leaves star -> reflectance is decreasing\n",
    "\n",
    "# approach 1:\n",
    "#   - summing up the fluxes per wavelength -> lighter data -> faster training ->  n_wavelengths * n_frames \n",
    "# approach 2:\n",
    "#   - training directly on 2d images -> very expensive -> n_spatial * n_wavelengths * n_frames input"
   ]
  },
  {
   "cell_type": "code",
   "execution_count": null,
   "metadata": {},
   "outputs": [],
   "source": [
    "# how to calculate the rp/rs ratio\n",
    "\n",
    "# 1. calibrate                                   -> normalize the images \n",
    "# 2. weighted sum of all pixels per wavelength   -> some attention / filtering per wavelength to get sum -> sum of pixels to be done by neurons\n",
    "# 3. subtract background\n",
    "# 4. subtract the in transit vs out of transit to get rp/rs ratio"
   ]
  },
  {
   "cell_type": "code",
   "execution_count": null,
   "metadata": {},
   "outputs": [],
   "source": [
    "starId =\"612015401\"\n",
    "starId = stars[100]# 100\n",
    "airs_signal = pd.read_parquet(\"train/\"+starId+\"/AIRS-CH0_signal.parquet\")\n",
    "fsg1_signal = pd.read_parquet(\"train/\"+starId+\"/FGS1_signal.parquet\")"
   ]
  },
  {
   "cell_type": "code",
   "execution_count": null,
   "metadata": {},
   "outputs": [],
   "source": [
    "# 11250 x 32 x 356\n",
    "# 1.9-3.9 mycro meters, infrared sensor\n",
    "signal = airs_signal.values.astype(np.float64).reshape((airs_signal.shape[0], 32, 356))\n",
    "signal.shape"
   ]
  },
  {
   "cell_type": "code",
   "execution_count": null,
   "metadata": {},
   "outputs": [],
   "source": [
    "# 135000 x 32 x 32\n",
    "# high resolution of visible light 0.6-0.8 mycro meters wavelength\n",
    "signal = fsg1_signal.values.astype(np.float64).reshape((fsg1_signal.shape[0], 32, 32))\n",
    "signal.shape"
   ]
  },
  {
   "cell_type": "code",
   "execution_count": null,
   "metadata": {},
   "outputs": [],
   "source": [
    "for i in range(10):\n",
    "    plt.imshow(signal[1000*i,:,:].T, aspect = 'auto')\n",
    "    plt.show()"
   ]
  },
  {
   "cell_type": "code",
   "execution_count": null,
   "metadata": {},
   "outputs": [],
   "source": [
    "# chemical spectrum of exo planets\n",
    "labels = pd.read_csv('train_labels.csv')"
   ]
  },
  {
   "cell_type": "code",
   "execution_count": null,
   "metadata": {},
   "outputs": [],
   "source": [
    "labels"
   ]
  },
  {
   "cell_type": "code",
   "execution_count": null,
   "metadata": {},
   "outputs": [],
   "source": []
  }
 ],
 "metadata": {
  "kernelspec": {
   "display_name": "base",
   "language": "python",
   "name": "python3"
  },
  "language_info": {
   "codemirror_mode": {
    "name": "ipython",
    "version": 3
   },
   "file_extension": ".py",
   "mimetype": "text/x-python",
   "name": "python",
   "nbconvert_exporter": "python",
   "pygments_lexer": "ipython3",
   "version": "3.12.4"
  }
 },
 "nbformat": 4,
 "nbformat_minor": 2
}
