{
 "cells": [
  {
   "cell_type": "code",
   "execution_count": 1,
   "metadata": {},
   "outputs": [],
   "source": [
    "import os\n",
    "import glob\n",
    "import numpy as np\n",
    "import tensorflow as tf\n",
    "import pandas as pd\n",
    "import matplotlib.pyplot as plt\n",
    "import plotly.express as px\n",
    "import plotly.graph_objects as go\n",
    "import scipy"
   ]
  },
  {
   "cell_type": "code",
   "execution_count": null,
   "metadata": {},
   "outputs": [],
   "source": [
    "labelDf0 = pd.read_csv(\"train_labels.csv\")\n",
    "labelDf0 = labelDf0.set_index('planet_id')\n",
    "labelDf0"
   ]
  },
  {
   "cell_type": "markdown",
   "metadata": {},
   "source": [
    "# data"
   ]
  },
  {
   "cell_type": "code",
   "execution_count": 2,
   "metadata": {},
   "outputs": [],
   "source": [
    "tf.random.set_seed(42)\n",
    "files = glob.glob(os.path.join('train/', '*/*'))\n",
    "stars = []\n",
    "for file in files:\n",
    "    file_name = file.split('\\\\')[1]\n",
    "    stars.append(file_name)\n",
    "stars = np.unique(stars)\n",
    "\n",
    "import random\n",
    "random.seed(42)\n",
    "\n",
    "def split_star_list(file_list, test_ratio=0.6):\n",
    "    random.shuffle(file_list)\n",
    "    split_index = int(len(file_list) * (1 - test_ratio))\n",
    "    train_files = file_list[:split_index]\n",
    "    test_files = file_list[split_index:]\n",
    "    return train_files, test_files\n",
    "\n",
    "train_stars, test_stars = split_star_list(stars)\n",
    "\n",
    "labelDf = pd.read_csv(\"train_labels.csv\")\n",
    "labelDf = labelDf.set_index('planet_id')\n",
    "meanLabels = np.mean(labelDf.mean())\n",
    "stdLabels = np.std(labelDf.std())\n",
    "maxLabels = np.max(labelDf.max())\n",
    "minLabels = np.min(labelDf.min())\n",
    "\n",
    "trainLabels = labelDf.loc[[int(star) for star in train_stars]]\n",
    "meanTrainLabels = np.mean(trainLabels.mean())\n",
    "stdTrainLabels = np.std(trainLabels.std())\n",
    "maxTrainLabels = np.max(trainLabels.max())\n",
    "minTrainLabels = np.min(trainLabels.min())\n",
    "\n",
    "for col in labelDf.columns:\n",
    "    labelDf.loc[:,col] = (labelDf[col]) / (maxTrainLabels)\n",
    "\n",
    "# normalize over time and all samples, so we have a mean and a std dev per wavelength for all samples\n",
    "def calcMeanAndStdOfTrain(train_stars):\n",
    "    i = 0\n",
    "    for star in train_stars:\n",
    "        file_path = 'train/'+str(star)+'/combined.npz'\n",
    "        with np.load(file_path) as data:\n",
    "            x = data['a'][0,:,0:283,:]\n",
    "            if i ==0:\n",
    "                mean = np.mean(x,axis=(0))\n",
    "                sumS = np.sum(x**2,axis=0)\n",
    "            else:\n",
    "                mean = mean + np.mean(x, axis=(0))\n",
    "                sumS += np.sum(x**2,axis=0)\n",
    "            i=i+1\n",
    "    meanTrain = mean / i\n",
    "    stdTrain = np.sqrt(sumS / (i*x.shape[0]) - meanTrain**2)    \n",
    "    return meanTrain, stdTrain\n",
    "meanTrain, stdTrain = calcMeanAndStdOfTrain(train_stars)\n",
    "\n",
    "def normalize_over_train(features, labels):\n",
    "    features = (features - meanTrain) / (stdTrain + 1e-6)\n",
    "    return features, labels\n",
    "\n",
    "# normalize over time per samples, so we have a mean and a std dev per wavelength for all samples\n",
    "def calcMeanAndStdOfTrainPerStar(x):\n",
    "    mean = np.mean(x,axis=(0))\n",
    "    sumS = np.sum(x**2,axis=0)\n",
    "    stdTrain = np.sqrt(sumS / (x.shape[0]) - mean**2)    \n",
    "    return mean, stdTrain\n",
    "def normalize_per_sample(features, labels):\n",
    "    m,s = calcMeanAndStdOfTrainPerStar(features)\n",
    "    features = (features) / (s + 1e-6)\n",
    "    return features, labels\n",
    "\n",
    "\n",
    "\n",
    "\n",
    "def load_npz(star):\n",
    "    integer_value = tf.strings.to_number(star, out_type=tf.int64)\n",
    "    python_int = integer_value.numpy()\n",
    "\n",
    "    file_path = 'train/'+str(python_int)+'/combined.npz'\n",
    "    try:\n",
    "        with np.load(file_path) as data:\n",
    "            features = data['a'][0,:,0:283,:]\n",
    "            labels = labelDf.loc[python_int].to_numpy()\n",
    "            features = np.reshape(features,(-1,25,283,4))\n",
    "            features = np.mean(features,axis=1)\n",
    "            #features, labels = normalize_per_sample(features,labels)\n",
    "            features, labels = normalize_over_train(features,labels)\n",
    "            return features, labels\n",
    "    except Exception as e:\n",
    "        print(\"Error loading file:\", e, python_int)\n",
    "    \n",
    "\n",
    "def create_dataset(star_list, batch_size, shuffle=True):\n",
    "    dataset = tf.data.Dataset.from_tensor_slices(star_list)\n",
    "    if shuffle:\n",
    "        dataset = dataset.shuffle(buffer_size=len(star_list))\n",
    "    def load_and_process(x):\n",
    "        features, labels = tf.py_function(\n",
    "            func=load_npz,\n",
    "            inp=[x],\n",
    "            Tout=[tf.float64, tf.float32]\n",
    "        )\n",
    "        return features, labels\n",
    "\n",
    "    dataset = dataset.map(load_and_process, num_parallel_calls=tf.data.AUTOTUNE)\n",
    "    dataset = dataset.map(lambda x, y: (tf.ensure_shape(x,tf.TensorShape([225, 283, 4])), tf.ensure_shape(y, tf.TensorShape([283])))) #5625\n",
    "    dataset = dataset.batch(batch_size)\n",
    "    dataset = dataset.prefetch(tf.data.AUTOTUNE)\n",
    "    return dataset\n"
   ]
  },
  {
   "cell_type": "code",
   "execution_count": 24,
   "metadata": {},
   "outputs": [],
   "source": [
    "np.savez('helpers_origiData.npz',meanTrain=meanTrain, stdTrain=stdTrain,meanLabels=meanLabels,stdLabels=stdLabels,maxTrainLabels=maxTrainLabels)"
   ]
  },
  {
   "cell_type": "code",
   "execution_count": 3,
   "metadata": {},
   "outputs": [],
   "source": [
    "tf.random.set_seed(42)\n",
    "batch_size = 64\n",
    "\n",
    "train_dataset = create_dataset(train_stars, batch_size, shuffle=True)\n",
    "test_dataset = create_dataset(test_stars, batch_size, shuffle=False)"
   ]
  },
  {
   "cell_type": "markdown",
   "metadata": {},
   "source": [
    "# CNN"
   ]
  },
  {
   "cell_type": "code",
   "execution_count": 4,
   "metadata": {},
   "outputs": [
    {
     "name": "stdout",
     "output_type": "stream",
     "text": [
      "WARNING:tensorflow:From c:\\Users\\uic33116\\AppData\\Local\\anaconda3\\Lib\\site-packages\\keras\\src\\backend\\tensorflow\\core.py:204: The name tf.placeholder is deprecated. Please use tf.compat.v1.placeholder instead.\n",
      "\n"
     ]
    },
    {
     "data": {
      "text/html": [
       "<pre style=\"white-space:pre;overflow-x:auto;line-height:normal;font-family:Menlo,'DejaVu Sans Mono',consolas,'Courier New',monospace\"><span style=\"font-weight: bold\">Model: \"functional\"</span>\n",
       "</pre>\n"
      ],
      "text/plain": [
       "\u001b[1mModel: \"functional\"\u001b[0m\n"
      ]
     },
     "metadata": {},
     "output_type": "display_data"
    },
    {
     "data": {
      "text/html": [
       "<pre style=\"white-space:pre;overflow-x:auto;line-height:normal;font-family:Menlo,'DejaVu Sans Mono',consolas,'Courier New',monospace\">┏━━━━━━━━━━━━━━━━━━━━━┳━━━━━━━━━━━━━━━━━━━┳━━━━━━━━━━━━┳━━━━━━━━━━━━━━━━━━━┓\n",
       "┃<span style=\"font-weight: bold\"> Layer (type)        </span>┃<span style=\"font-weight: bold\"> Output Shape      </span>┃<span style=\"font-weight: bold\">    Param # </span>┃<span style=\"font-weight: bold\"> Connected to      </span>┃\n",
       "┡━━━━━━━━━━━━━━━━━━━━━╇━━━━━━━━━━━━━━━━━━━╇━━━━━━━━━━━━╇━━━━━━━━━━━━━━━━━━━┩\n",
       "│ input_layer         │ (<span style=\"color: #00d7ff; text-decoration-color: #00d7ff\">None</span>, <span style=\"color: #00af00; text-decoration-color: #00af00\">225</span>, <span style=\"color: #00af00; text-decoration-color: #00af00\">283</span>,  │          <span style=\"color: #00af00; text-decoration-color: #00af00\">0</span> │ -                 │\n",
       "│ (<span style=\"color: #0087ff; text-decoration-color: #0087ff\">InputLayer</span>)        │ <span style=\"color: #00af00; text-decoration-color: #00af00\">4</span>)                │            │                   │\n",
       "├─────────────────────┼───────────────────┼────────────┼───────────────────┤\n",
       "│ get_item (<span style=\"color: #0087ff; text-decoration-color: #0087ff\">GetItem</span>)  │ (<span style=\"color: #00d7ff; text-decoration-color: #00d7ff\">None</span>, <span style=\"color: #00af00; text-decoration-color: #00af00\">225</span>, <span style=\"color: #00af00; text-decoration-color: #00af00\">283</span>)  │          <span style=\"color: #00af00; text-decoration-color: #00af00\">0</span> │ input_layer[<span style=\"color: #00af00; text-decoration-color: #00af00\">0</span>][<span style=\"color: #00af00; text-decoration-color: #00af00\">0</span>] │\n",
       "├─────────────────────┼───────────────────┼────────────┼───────────────────┤\n",
       "│ mean_of_wavelengths │ (<span style=\"color: #00d7ff; text-decoration-color: #00d7ff\">None</span>, <span style=\"color: #00af00; text-decoration-color: #00af00\">225</span>, <span style=\"color: #00af00; text-decoration-color: #00af00\">284</span>)  │          <span style=\"color: #00af00; text-decoration-color: #00af00\">0</span> │ get_item[<span style=\"color: #00af00; text-decoration-color: #00af00\">0</span>][<span style=\"color: #00af00; text-decoration-color: #00af00\">0</span>]    │\n",
       "│ (<span style=\"color: #0087ff; text-decoration-color: #0087ff\">meanOfWavelengths</span>) │                   │            │                   │\n",
       "├─────────────────────┼───────────────────┼────────────┼───────────────────┤\n",
       "│ conv1d (<span style=\"color: #0087ff; text-decoration-color: #0087ff\">Conv1D</span>)     │ (<span style=\"color: #00d7ff; text-decoration-color: #00d7ff\">None</span>, <span style=\"color: #00af00; text-decoration-color: #00af00\">221</span>, <span style=\"color: #00af00; text-decoration-color: #00af00\">284</span>)  │    <span style=\"color: #00af00; text-decoration-color: #00af00\">403,564</span> │ mean_of_waveleng… │\n",
       "├─────────────────────┼───────────────────┼────────────┼───────────────────┤\n",
       "│ average_pooling1d   │ (<span style=\"color: #00d7ff; text-decoration-color: #00d7ff\">None</span>, <span style=\"color: #00af00; text-decoration-color: #00af00\">110</span>, <span style=\"color: #00af00; text-decoration-color: #00af00\">284</span>)  │          <span style=\"color: #00af00; text-decoration-color: #00af00\">0</span> │ conv1d[<span style=\"color: #00af00; text-decoration-color: #00af00\">0</span>][<span style=\"color: #00af00; text-decoration-color: #00af00\">0</span>]      │\n",
       "│ (<span style=\"color: #0087ff; text-decoration-color: #0087ff\">AveragePooling1D</span>)  │                   │            │                   │\n",
       "├─────────────────────┼───────────────────┼────────────┼───────────────────┤\n",
       "│ conv1d_1 (<span style=\"color: #0087ff; text-decoration-color: #0087ff\">Conv1D</span>)   │ (<span style=\"color: #00d7ff; text-decoration-color: #00d7ff\">None</span>, <span style=\"color: #00af00; text-decoration-color: #00af00\">106</span>, <span style=\"color: #00af00; text-decoration-color: #00af00\">284</span>)  │    <span style=\"color: #00af00; text-decoration-color: #00af00\">403,564</span> │ average_pooling1… │\n",
       "├─────────────────────┼───────────────────┼────────────┼───────────────────┤\n",
       "│ average_pooling1d_1 │ (<span style=\"color: #00d7ff; text-decoration-color: #00d7ff\">None</span>, <span style=\"color: #00af00; text-decoration-color: #00af00\">53</span>, <span style=\"color: #00af00; text-decoration-color: #00af00\">284</span>)   │          <span style=\"color: #00af00; text-decoration-color: #00af00\">0</span> │ conv1d_1[<span style=\"color: #00af00; text-decoration-color: #00af00\">0</span>][<span style=\"color: #00af00; text-decoration-color: #00af00\">0</span>]    │\n",
       "│ (<span style=\"color: #0087ff; text-decoration-color: #0087ff\">AveragePooling1D</span>)  │                   │            │                   │\n",
       "├─────────────────────┼───────────────────┼────────────┼───────────────────┤\n",
       "│ conv1d_2 (<span style=\"color: #0087ff; text-decoration-color: #0087ff\">Conv1D</span>)   │ (<span style=\"color: #00d7ff; text-decoration-color: #00d7ff\">None</span>, <span style=\"color: #00af00; text-decoration-color: #00af00\">49</span>, <span style=\"color: #00af00; text-decoration-color: #00af00\">284</span>)   │    <span style=\"color: #00af00; text-decoration-color: #00af00\">403,564</span> │ average_pooling1… │\n",
       "├─────────────────────┼───────────────────┼────────────┼───────────────────┤\n",
       "│ average_pooling1d_2 │ (<span style=\"color: #00d7ff; text-decoration-color: #00d7ff\">None</span>, <span style=\"color: #00af00; text-decoration-color: #00af00\">24</span>, <span style=\"color: #00af00; text-decoration-color: #00af00\">284</span>)   │          <span style=\"color: #00af00; text-decoration-color: #00af00\">0</span> │ conv1d_2[<span style=\"color: #00af00; text-decoration-color: #00af00\">0</span>][<span style=\"color: #00af00; text-decoration-color: #00af00\">0</span>]    │\n",
       "│ (<span style=\"color: #0087ff; text-decoration-color: #0087ff\">AveragePooling1D</span>)  │                   │            │                   │\n",
       "├─────────────────────┼───────────────────┼────────────┼───────────────────┤\n",
       "│ reshape11           │ (<span style=\"color: #00d7ff; text-decoration-color: #00d7ff\">None</span>, <span style=\"color: #00af00; text-decoration-color: #00af00\">284</span>, <span style=\"color: #00af00; text-decoration-color: #00af00\">24</span>)   │          <span style=\"color: #00af00; text-decoration-color: #00af00\">0</span> │ average_pooling1… │\n",
       "│ (<span style=\"color: #0087ff; text-decoration-color: #0087ff\">Reshape11</span>)         │                   │            │                   │\n",
       "├─────────────────────┼───────────────────┼────────────┼───────────────────┤\n",
       "│ dense (<span style=\"color: #0087ff; text-decoration-color: #0087ff\">Dense</span>)       │ (<span style=\"color: #00d7ff; text-decoration-color: #00d7ff\">None</span>, <span style=\"color: #00af00; text-decoration-color: #00af00\">284</span>, <span style=\"color: #00af00; text-decoration-color: #00af00\">1000</span>) │     <span style=\"color: #00af00; text-decoration-color: #00af00\">25,000</span> │ reshape11[<span style=\"color: #00af00; text-decoration-color: #00af00\">0</span>][<span style=\"color: #00af00; text-decoration-color: #00af00\">0</span>]   │\n",
       "├─────────────────────┼───────────────────┼────────────┼───────────────────┤\n",
       "│ flatten (<span style=\"color: #0087ff; text-decoration-color: #0087ff\">Flatten</span>)   │ (<span style=\"color: #00d7ff; text-decoration-color: #00d7ff\">None</span>, <span style=\"color: #00af00; text-decoration-color: #00af00\">284000</span>)    │          <span style=\"color: #00af00; text-decoration-color: #00af00\">0</span> │ dense[<span style=\"color: #00af00; text-decoration-color: #00af00\">0</span>][<span style=\"color: #00af00; text-decoration-color: #00af00\">0</span>]       │\n",
       "├─────────────────────┼───────────────────┼────────────┼───────────────────┤\n",
       "│ dense_1 (<span style=\"color: #0087ff; text-decoration-color: #0087ff\">Dense</span>)     │ (<span style=\"color: #00d7ff; text-decoration-color: #00d7ff\">None</span>, <span style=\"color: #00af00; text-decoration-color: #00af00\">1000</span>)      │ <span style=\"color: #00af00; text-decoration-color: #00af00\">284,001,0…</span> │ flatten[<span style=\"color: #00af00; text-decoration-color: #00af00\">0</span>][<span style=\"color: #00af00; text-decoration-color: #00af00\">0</span>]     │\n",
       "├─────────────────────┼───────────────────┼────────────┼───────────────────┤\n",
       "│ dense_2 (<span style=\"color: #0087ff; text-decoration-color: #0087ff\">Dense</span>)     │ (<span style=\"color: #00d7ff; text-decoration-color: #00d7ff\">None</span>, <span style=\"color: #00af00; text-decoration-color: #00af00\">100</span>)       │    <span style=\"color: #00af00; text-decoration-color: #00af00\">100,100</span> │ dense_1[<span style=\"color: #00af00; text-decoration-color: #00af00\">0</span>][<span style=\"color: #00af00; text-decoration-color: #00af00\">0</span>]     │\n",
       "├─────────────────────┼───────────────────┼────────────┼───────────────────┤\n",
       "│ dense_3 (<span style=\"color: #0087ff; text-decoration-color: #0087ff\">Dense</span>)     │ (<span style=\"color: #00d7ff; text-decoration-color: #00d7ff\">None</span>, <span style=\"color: #00af00; text-decoration-color: #00af00\">50</span>)        │      <span style=\"color: #00af00; text-decoration-color: #00af00\">5,050</span> │ dense_2[<span style=\"color: #00af00; text-decoration-color: #00af00\">0</span>][<span style=\"color: #00af00; text-decoration-color: #00af00\">0</span>]     │\n",
       "├─────────────────────┼───────────────────┼────────────┼───────────────────┤\n",
       "│ dense_5 (<span style=\"color: #0087ff; text-decoration-color: #0087ff\">Dense</span>)     │ (<span style=\"color: #00d7ff; text-decoration-color: #00d7ff\">None</span>, <span style=\"color: #00af00; text-decoration-color: #00af00\">283</span>)       │    <span style=\"color: #00af00; text-decoration-color: #00af00\">283,283</span> │ dense_1[<span style=\"color: #00af00; text-decoration-color: #00af00\">0</span>][<span style=\"color: #00af00; text-decoration-color: #00af00\">0</span>]     │\n",
       "├─────────────────────┼───────────────────┼────────────┼───────────────────┤\n",
       "│ dense_4 (<span style=\"color: #0087ff; text-decoration-color: #0087ff\">Dense</span>)     │ (<span style=\"color: #00d7ff; text-decoration-color: #00d7ff\">None</span>, <span style=\"color: #00af00; text-decoration-color: #00af00\">1</span>)         │         <span style=\"color: #00af00; text-decoration-color: #00af00\">51</span> │ dense_3[<span style=\"color: #00af00; text-decoration-color: #00af00\">0</span>][<span style=\"color: #00af00; text-decoration-color: #00af00\">0</span>]     │\n",
       "├─────────────────────┼───────────────────┼────────────┼───────────────────┤\n",
       "│ dense_6 (<span style=\"color: #0087ff; text-decoration-color: #0087ff\">Dense</span>)     │ (<span style=\"color: #00d7ff; text-decoration-color: #00d7ff\">None</span>, <span style=\"color: #00af00; text-decoration-color: #00af00\">283</span>)       │    <span style=\"color: #00af00; text-decoration-color: #00af00\">283,283</span> │ dense_1[<span style=\"color: #00af00; text-decoration-color: #00af00\">0</span>][<span style=\"color: #00af00; text-decoration-color: #00af00\">0</span>]     │\n",
       "├─────────────────────┼───────────────────┼────────────┼───────────────────┤\n",
       "│ tile (<span style=\"color: #0087ff; text-decoration-color: #0087ff\">tile</span>)         │ (<span style=\"color: #00d7ff; text-decoration-color: #00d7ff\">None</span>, <span style=\"color: #00af00; text-decoration-color: #00af00\">284</span>)       │          <span style=\"color: #00af00; text-decoration-color: #00af00\">0</span> │ dense_5[<span style=\"color: #00af00; text-decoration-color: #00af00\">0</span>][<span style=\"color: #00af00; text-decoration-color: #00af00\">0</span>],    │\n",
       "│                     │                   │            │ dense_4[<span style=\"color: #00af00; text-decoration-color: #00af00\">0</span>][<span style=\"color: #00af00; text-decoration-color: #00af00\">0</span>]     │\n",
       "├─────────────────────┼───────────────────┼────────────┼───────────────────┤\n",
       "│ tile_1 (<span style=\"color: #0087ff; text-decoration-color: #0087ff\">tile</span>)       │ (<span style=\"color: #00d7ff; text-decoration-color: #00d7ff\">None</span>, <span style=\"color: #00af00; text-decoration-color: #00af00\">284</span>)       │          <span style=\"color: #00af00; text-decoration-color: #00af00\">0</span> │ dense_6[<span style=\"color: #00af00; text-decoration-color: #00af00\">0</span>][<span style=\"color: #00af00; text-decoration-color: #00af00\">0</span>],    │\n",
       "│                     │                   │            │ dense_4[<span style=\"color: #00af00; text-decoration-color: #00af00\">0</span>][<span style=\"color: #00af00; text-decoration-color: #00af00\">0</span>]     │\n",
       "├─────────────────────┼───────────────────┼────────────┼───────────────────┤\n",
       "│ reshape22           │ (<span style=\"color: #00d7ff; text-decoration-color: #00d7ff\">None</span>, <span style=\"color: #00af00; text-decoration-color: #00af00\">284</span>, <span style=\"color: #00af00; text-decoration-color: #00af00\">2</span>)    │          <span style=\"color: #00af00; text-decoration-color: #00af00\">0</span> │ tile[<span style=\"color: #00af00; text-decoration-color: #00af00\">0</span>][<span style=\"color: #00af00; text-decoration-color: #00af00\">0</span>],       │\n",
       "│ (<span style=\"color: #0087ff; text-decoration-color: #0087ff\">Reshape22</span>)         │                   │            │ tile_1[<span style=\"color: #00af00; text-decoration-color: #00af00\">0</span>][<span style=\"color: #00af00; text-decoration-color: #00af00\">0</span>]      │\n",
       "└─────────────────────┴───────────────────┴────────────┴───────────────────┘\n",
       "</pre>\n"
      ],
      "text/plain": [
       "┏━━━━━━━━━━━━━━━━━━━━━┳━━━━━━━━━━━━━━━━━━━┳━━━━━━━━━━━━┳━━━━━━━━━━━━━━━━━━━┓\n",
       "┃\u001b[1m \u001b[0m\u001b[1mLayer (type)       \u001b[0m\u001b[1m \u001b[0m┃\u001b[1m \u001b[0m\u001b[1mOutput Shape     \u001b[0m\u001b[1m \u001b[0m┃\u001b[1m \u001b[0m\u001b[1m   Param #\u001b[0m\u001b[1m \u001b[0m┃\u001b[1m \u001b[0m\u001b[1mConnected to     \u001b[0m\u001b[1m \u001b[0m┃\n",
       "┡━━━━━━━━━━━━━━━━━━━━━╇━━━━━━━━━━━━━━━━━━━╇━━━━━━━━━━━━╇━━━━━━━━━━━━━━━━━━━┩\n",
       "│ input_layer         │ (\u001b[38;5;45mNone\u001b[0m, \u001b[38;5;34m225\u001b[0m, \u001b[38;5;34m283\u001b[0m,  │          \u001b[38;5;34m0\u001b[0m │ -                 │\n",
       "│ (\u001b[38;5;33mInputLayer\u001b[0m)        │ \u001b[38;5;34m4\u001b[0m)                │            │                   │\n",
       "├─────────────────────┼───────────────────┼────────────┼───────────────────┤\n",
       "│ get_item (\u001b[38;5;33mGetItem\u001b[0m)  │ (\u001b[38;5;45mNone\u001b[0m, \u001b[38;5;34m225\u001b[0m, \u001b[38;5;34m283\u001b[0m)  │          \u001b[38;5;34m0\u001b[0m │ input_layer[\u001b[38;5;34m0\u001b[0m][\u001b[38;5;34m0\u001b[0m] │\n",
       "├─────────────────────┼───────────────────┼────────────┼───────────────────┤\n",
       "│ mean_of_wavelengths │ (\u001b[38;5;45mNone\u001b[0m, \u001b[38;5;34m225\u001b[0m, \u001b[38;5;34m284\u001b[0m)  │          \u001b[38;5;34m0\u001b[0m │ get_item[\u001b[38;5;34m0\u001b[0m][\u001b[38;5;34m0\u001b[0m]    │\n",
       "│ (\u001b[38;5;33mmeanOfWavelengths\u001b[0m) │                   │            │                   │\n",
       "├─────────────────────┼───────────────────┼────────────┼───────────────────┤\n",
       "│ conv1d (\u001b[38;5;33mConv1D\u001b[0m)     │ (\u001b[38;5;45mNone\u001b[0m, \u001b[38;5;34m221\u001b[0m, \u001b[38;5;34m284\u001b[0m)  │    \u001b[38;5;34m403,564\u001b[0m │ mean_of_waveleng… │\n",
       "├─────────────────────┼───────────────────┼────────────┼───────────────────┤\n",
       "│ average_pooling1d   │ (\u001b[38;5;45mNone\u001b[0m, \u001b[38;5;34m110\u001b[0m, \u001b[38;5;34m284\u001b[0m)  │          \u001b[38;5;34m0\u001b[0m │ conv1d[\u001b[38;5;34m0\u001b[0m][\u001b[38;5;34m0\u001b[0m]      │\n",
       "│ (\u001b[38;5;33mAveragePooling1D\u001b[0m)  │                   │            │                   │\n",
       "├─────────────────────┼───────────────────┼────────────┼───────────────────┤\n",
       "│ conv1d_1 (\u001b[38;5;33mConv1D\u001b[0m)   │ (\u001b[38;5;45mNone\u001b[0m, \u001b[38;5;34m106\u001b[0m, \u001b[38;5;34m284\u001b[0m)  │    \u001b[38;5;34m403,564\u001b[0m │ average_pooling1… │\n",
       "├─────────────────────┼───────────────────┼────────────┼───────────────────┤\n",
       "│ average_pooling1d_1 │ (\u001b[38;5;45mNone\u001b[0m, \u001b[38;5;34m53\u001b[0m, \u001b[38;5;34m284\u001b[0m)   │          \u001b[38;5;34m0\u001b[0m │ conv1d_1[\u001b[38;5;34m0\u001b[0m][\u001b[38;5;34m0\u001b[0m]    │\n",
       "│ (\u001b[38;5;33mAveragePooling1D\u001b[0m)  │                   │            │                   │\n",
       "├─────────────────────┼───────────────────┼────────────┼───────────────────┤\n",
       "│ conv1d_2 (\u001b[38;5;33mConv1D\u001b[0m)   │ (\u001b[38;5;45mNone\u001b[0m, \u001b[38;5;34m49\u001b[0m, \u001b[38;5;34m284\u001b[0m)   │    \u001b[38;5;34m403,564\u001b[0m │ average_pooling1… │\n",
       "├─────────────────────┼───────────────────┼────────────┼───────────────────┤\n",
       "│ average_pooling1d_2 │ (\u001b[38;5;45mNone\u001b[0m, \u001b[38;5;34m24\u001b[0m, \u001b[38;5;34m284\u001b[0m)   │          \u001b[38;5;34m0\u001b[0m │ conv1d_2[\u001b[38;5;34m0\u001b[0m][\u001b[38;5;34m0\u001b[0m]    │\n",
       "│ (\u001b[38;5;33mAveragePooling1D\u001b[0m)  │                   │            │                   │\n",
       "├─────────────────────┼───────────────────┼────────────┼───────────────────┤\n",
       "│ reshape11           │ (\u001b[38;5;45mNone\u001b[0m, \u001b[38;5;34m284\u001b[0m, \u001b[38;5;34m24\u001b[0m)   │          \u001b[38;5;34m0\u001b[0m │ average_pooling1… │\n",
       "│ (\u001b[38;5;33mReshape11\u001b[0m)         │                   │            │                   │\n",
       "├─────────────────────┼───────────────────┼────────────┼───────────────────┤\n",
       "│ dense (\u001b[38;5;33mDense\u001b[0m)       │ (\u001b[38;5;45mNone\u001b[0m, \u001b[38;5;34m284\u001b[0m, \u001b[38;5;34m1000\u001b[0m) │     \u001b[38;5;34m25,000\u001b[0m │ reshape11[\u001b[38;5;34m0\u001b[0m][\u001b[38;5;34m0\u001b[0m]   │\n",
       "├─────────────────────┼───────────────────┼────────────┼───────────────────┤\n",
       "│ flatten (\u001b[38;5;33mFlatten\u001b[0m)   │ (\u001b[38;5;45mNone\u001b[0m, \u001b[38;5;34m284000\u001b[0m)    │          \u001b[38;5;34m0\u001b[0m │ dense[\u001b[38;5;34m0\u001b[0m][\u001b[38;5;34m0\u001b[0m]       │\n",
       "├─────────────────────┼───────────────────┼────────────┼───────────────────┤\n",
       "│ dense_1 (\u001b[38;5;33mDense\u001b[0m)     │ (\u001b[38;5;45mNone\u001b[0m, \u001b[38;5;34m1000\u001b[0m)      │ \u001b[38;5;34m284,001,0…\u001b[0m │ flatten[\u001b[38;5;34m0\u001b[0m][\u001b[38;5;34m0\u001b[0m]     │\n",
       "├─────────────────────┼───────────────────┼────────────┼───────────────────┤\n",
       "│ dense_2 (\u001b[38;5;33mDense\u001b[0m)     │ (\u001b[38;5;45mNone\u001b[0m, \u001b[38;5;34m100\u001b[0m)       │    \u001b[38;5;34m100,100\u001b[0m │ dense_1[\u001b[38;5;34m0\u001b[0m][\u001b[38;5;34m0\u001b[0m]     │\n",
       "├─────────────────────┼───────────────────┼────────────┼───────────────────┤\n",
       "│ dense_3 (\u001b[38;5;33mDense\u001b[0m)     │ (\u001b[38;5;45mNone\u001b[0m, \u001b[38;5;34m50\u001b[0m)        │      \u001b[38;5;34m5,050\u001b[0m │ dense_2[\u001b[38;5;34m0\u001b[0m][\u001b[38;5;34m0\u001b[0m]     │\n",
       "├─────────────────────┼───────────────────┼────────────┼───────────────────┤\n",
       "│ dense_5 (\u001b[38;5;33mDense\u001b[0m)     │ (\u001b[38;5;45mNone\u001b[0m, \u001b[38;5;34m283\u001b[0m)       │    \u001b[38;5;34m283,283\u001b[0m │ dense_1[\u001b[38;5;34m0\u001b[0m][\u001b[38;5;34m0\u001b[0m]     │\n",
       "├─────────────────────┼───────────────────┼────────────┼───────────────────┤\n",
       "│ dense_4 (\u001b[38;5;33mDense\u001b[0m)     │ (\u001b[38;5;45mNone\u001b[0m, \u001b[38;5;34m1\u001b[0m)         │         \u001b[38;5;34m51\u001b[0m │ dense_3[\u001b[38;5;34m0\u001b[0m][\u001b[38;5;34m0\u001b[0m]     │\n",
       "├─────────────────────┼───────────────────┼────────────┼───────────────────┤\n",
       "│ dense_6 (\u001b[38;5;33mDense\u001b[0m)     │ (\u001b[38;5;45mNone\u001b[0m, \u001b[38;5;34m283\u001b[0m)       │    \u001b[38;5;34m283,283\u001b[0m │ dense_1[\u001b[38;5;34m0\u001b[0m][\u001b[38;5;34m0\u001b[0m]     │\n",
       "├─────────────────────┼───────────────────┼────────────┼───────────────────┤\n",
       "│ tile (\u001b[38;5;33mtile\u001b[0m)         │ (\u001b[38;5;45mNone\u001b[0m, \u001b[38;5;34m284\u001b[0m)       │          \u001b[38;5;34m0\u001b[0m │ dense_5[\u001b[38;5;34m0\u001b[0m][\u001b[38;5;34m0\u001b[0m],    │\n",
       "│                     │                   │            │ dense_4[\u001b[38;5;34m0\u001b[0m][\u001b[38;5;34m0\u001b[0m]     │\n",
       "├─────────────────────┼───────────────────┼────────────┼───────────────────┤\n",
       "│ tile_1 (\u001b[38;5;33mtile\u001b[0m)       │ (\u001b[38;5;45mNone\u001b[0m, \u001b[38;5;34m284\u001b[0m)       │          \u001b[38;5;34m0\u001b[0m │ dense_6[\u001b[38;5;34m0\u001b[0m][\u001b[38;5;34m0\u001b[0m],    │\n",
       "│                     │                   │            │ dense_4[\u001b[38;5;34m0\u001b[0m][\u001b[38;5;34m0\u001b[0m]     │\n",
       "├─────────────────────┼───────────────────┼────────────┼───────────────────┤\n",
       "│ reshape22           │ (\u001b[38;5;45mNone\u001b[0m, \u001b[38;5;34m284\u001b[0m, \u001b[38;5;34m2\u001b[0m)    │          \u001b[38;5;34m0\u001b[0m │ tile[\u001b[38;5;34m0\u001b[0m][\u001b[38;5;34m0\u001b[0m],       │\n",
       "│ (\u001b[38;5;33mReshape22\u001b[0m)         │                   │            │ tile_1[\u001b[38;5;34m0\u001b[0m][\u001b[38;5;34m0\u001b[0m]      │\n",
       "└─────────────────────┴───────────────────┴────────────┴───────────────────┘\n"
      ]
     },
     "metadata": {},
     "output_type": "display_data"
    },
    {
     "data": {
      "text/html": [
       "<pre style=\"white-space:pre;overflow-x:auto;line-height:normal;font-family:Menlo,'DejaVu Sans Mono',consolas,'Courier New',monospace\"><span style=\"font-weight: bold\"> Total params: </span><span style=\"color: #00af00; text-decoration-color: #00af00\">285,908,459</span> (1.07 GB)\n",
       "</pre>\n"
      ],
      "text/plain": [
       "\u001b[1m Total params: \u001b[0m\u001b[38;5;34m285,908,459\u001b[0m (1.07 GB)\n"
      ]
     },
     "metadata": {},
     "output_type": "display_data"
    },
    {
     "data": {
      "text/html": [
       "<pre style=\"white-space:pre;overflow-x:auto;line-height:normal;font-family:Menlo,'DejaVu Sans Mono',consolas,'Courier New',monospace\"><span style=\"font-weight: bold\"> Trainable params: </span><span style=\"color: #00af00; text-decoration-color: #00af00\">285,908,459</span> (1.07 GB)\n",
       "</pre>\n"
      ],
      "text/plain": [
       "\u001b[1m Trainable params: \u001b[0m\u001b[38;5;34m285,908,459\u001b[0m (1.07 GB)\n"
      ]
     },
     "metadata": {},
     "output_type": "display_data"
    },
    {
     "data": {
      "text/html": [
       "<pre style=\"white-space:pre;overflow-x:auto;line-height:normal;font-family:Menlo,'DejaVu Sans Mono',consolas,'Courier New',monospace\"><span style=\"font-weight: bold\"> Non-trainable params: </span><span style=\"color: #00af00; text-decoration-color: #00af00\">0</span> (0.00 B)\n",
       "</pre>\n"
      ],
      "text/plain": [
       "\u001b[1m Non-trainable params: \u001b[0m\u001b[38;5;34m0\u001b[0m (0.00 B)\n"
      ]
     },
     "metadata": {},
     "output_type": "display_data"
    }
   ],
   "source": [
    "class Reshape1(tf.keras.layers.Layer):\n",
    "    def __init__(self, **kwargs):\n",
    "        super().__init__(**kwargs)\n",
    "    def call(self, x):\n",
    "        x = tf.transpose(x, perm=[0,2,1,3])\n",
    "        #x = tf.reshape(x, [-1, self.timepoints, tf.cast(self.wavelengths * self.representations, tf.int32)])\n",
    "        return x\n",
    "    \n",
    "class Reshape11(tf.keras.layers.Layer):\n",
    "    def __init__(self, **kwargs):\n",
    "        super().__init__(**kwargs)\n",
    "    def call(self, x):\n",
    "        x = tf.transpose(x, perm=[0,2,1])\n",
    "        #x = tf.reshape(x, [-1, self.timepoints, tf.cast(self.wavelengths * self.representations, tf.int32)])\n",
    "        return x\n",
    "\n",
    "class Reshape2(tf.keras.layers.Layer):\n",
    "    def __init__(self, **kwargs):\n",
    "        super().__init__(**kwargs)\n",
    "    def call(self, x_pred, x_confidence):\n",
    "        x = tf.concat([x_pred, x_confidence], axis = -1)\n",
    "        \n",
    "        return x\n",
    "    \n",
    "class Reshape22(tf.keras.layers.Layer):\n",
    "    def __init__(self, **kwargs):\n",
    "        super().__init__(**kwargs)\n",
    "    def call(self, x_pred, x_confidence):\n",
    "        x_pred = tf.expand_dims(x_pred, axis=-1)\n",
    "        x_confidence = tf.expand_dims(x_confidence, axis=-1)\n",
    "        x = tf.concat([x_pred, x_confidence], axis = -1)\n",
    "        return x\n",
    "    \n",
    "class reduce(tf.keras.layers.Layer):\n",
    "    def __init__(self, **kwargs):\n",
    "        super().__init__(**kwargs)\n",
    "    def call(self, x):\n",
    "        mean = tf.reduce_sum(x,axis=-1)\n",
    "        mean = tf.expand_dims(mean, axis=-1)\n",
    "        return mean\n",
    "class reduce1(tf.keras.layers.Layer):\n",
    "    def __init__(self, **kwargs):\n",
    "        super().__init__(**kwargs)\n",
    "    def call(self, x):\n",
    "        mean = tf.reduce_sum(x,axis=-1)\n",
    "        return mean\n",
    "    \n",
    "class tile(tf.keras.layers.Layer):\n",
    "    def __init__(self, **kwargs):\n",
    "        super().__init__(**kwargs)\n",
    "    def call(self, x,mean):\n",
    "        x = tf.concat([x,mean],axis=-1)\n",
    "        return x\n",
    "    \n",
    "class meanOfWavelengths(tf.keras.layers.Layer):\n",
    "    def __init__(self, concat=True,**kwargs):\n",
    "        self.concat=concat\n",
    "        super().__init__(**kwargs)\n",
    "    def call(self, x):\n",
    "        m = tf.expand_dims(tf.reduce_mean(x,axis=-1),axis=-1)\n",
    "        x = tf.concat([x,m],axis=-1)\n",
    "        return x if self.concat else m\n",
    "\n",
    "\n",
    "timepoints = 225\n",
    "representations = 4\n",
    "wavelengths = 283\n",
    "targetWavelengths = 283\n",
    "\n",
    "def cnnM(outputDim = 283):\n",
    "    inp = tf.keras.Input(shape=(timepoints, wavelengths, representations))\n",
    "    x = inp[:,:,:,1]\n",
    "    x = meanOfWavelengths()(x)\n",
    "    \n",
    "    #x = Reshape11()(x)\n",
    "    dim = timepoints\n",
    "    for i in range(3):\n",
    "        x = tf.keras.layers.Conv1D(filters=284, kernel_size=(5), padding='valid')(x)\n",
    "        x = tf.keras.layers.AveragePooling1D(2)(x)\n",
    "\n",
    "    x = Reshape11()(x)\n",
    "    x = tf.keras.layers.Dense(1000)(x)\n",
    "    x = tf.keras.layers.Flatten()(x)\n",
    "    x = tf.keras.layers.Dense(1000)(x)\n",
    "    mean = tf.keras.layers.Dense(100,activation='relu')(x)\n",
    "    mean = tf.keras.layers.Dense(50,activation='relu')(mean)\n",
    "    mean = tf.keras.layers.Dense(1,activation='linear')(mean)\n",
    "    x_pred = tf.keras.layers.Dense(283, activation='linear')(x)\n",
    "    x_pred = tile()(x_pred,mean)\n",
    "    #x_pred = x_pred+mean\n",
    "    x_confidence = tf.keras.layers.Dense(283, activation='linear')(x)\n",
    "    x_confidence = tile()(x_confidence,mean)\n",
    "    x = Reshape22()(x_pred, x_confidence)\n",
    "\n",
    "    model = tf.keras.Model(inp, x)\n",
    "    return model\n",
    "\n",
    "\n",
    "def cnnMeanOnly(outputDim = 283):\n",
    "    inp = tf.keras.Input(shape=(timepoints, wavelengths, representations))\n",
    "    x = inp[:,:,:,1]\n",
    "    x = meanOfWavelengths(False)(x) #\n",
    "    \n",
    "    #x = Reshape11()(x)\n",
    "    #dim = timepoints\n",
    "    for i in range(3):\n",
    "        x = tf.keras.layers.Conv1D(filters=40*(i+1), kernel_size=(5), padding='valid')(x)\n",
    "        x = tf.keras.layers.MaxPooling1D()(x)\n",
    "\n",
    "    x = tf.keras.layers.Flatten()(x)\n",
    "    x = tf.keras.layers.Dense(1000)(x)\n",
    "    #mean = tf.keras.layers.Dense(100,activation='relu')(x)\n",
    "    #mean = tf.keras.layers.Dense(50,activation='relu')(mean)\n",
    "    mean = tf.keras.layers.Dense(1,activation='linear')(x)\n",
    "    x_pred = tf.keras.layers.Dense(283, activation='linear')(x)\n",
    "    x_pred = tile()(x_pred,mean)\n",
    "    #x_pred = x_pred+mean\n",
    "    x_confidence = tf.keras.layers.Dense(283, activation='linear')(x)\n",
    "    x_confidence = tile()(x_confidence,mean)\n",
    "    x = Reshape22()(x_pred, x_confidence)\n",
    "\n",
    "    model = tf.keras.Model(inp, x)\n",
    "    return model\n",
    "\n",
    "\n",
    "model = cnnM() \n",
    "model.summary()"
   ]
  },
  {
   "cell_type": "code",
   "execution_count": 5,
   "metadata": {},
   "outputs": [
    {
     "data": {
      "text/plain": [
       "(tf.float64,\n",
       " tf.float32,\n",
       " tf.float32,\n",
       " TensorShape([64, 225, 283, 4]),\n",
       " TensorShape([64, 283]),\n",
       " TensorShape([64, 284, 2]))"
      ]
     },
     "execution_count": 5,
     "metadata": {},
     "output_type": "execute_result"
    }
   ],
   "source": [
    "batch = next(iter(train_dataset))\n",
    "out = model(batch[0])\n",
    "test_batch = next(iter(test_dataset))\n",
    "batch[0].dtype ,batch[1].dtype, out.dtype,batch[0].shape ,batch[1].shape, out.shape"
   ]
  },
  {
   "cell_type": "code",
   "execution_count": 6,
   "metadata": {},
   "outputs": [
    {
     "data": {
      "text/plain": [
       "(<tf.Tensor: shape=(), dtype=float32, numpy=1.0>, 0.9999999999998187)"
      ]
     },
     "execution_count": 6,
     "metadata": {},
     "output_type": "execute_result"
    }
   ],
   "source": [
    "def log_likelihood_maxScaling(y_trueMax, y_predAll):\n",
    "    # stdDev_zScorePred = 1/n * sqrt((y_zScore - y_zScoreMean)^2) = 1/n *sqrt(sum( (y-mean)/std - (y_mean-mean)/std )^2) = 1/n * sqrt(sum( (y-y_mean)/std )^2 )) = 1/std * 1/n * sqrt(sum(y-y_mean)^2) = stdDev / std\n",
    "    # stdDev_zScorePred = stdDev_pred / std\n",
    "    # y_pred contains 1. y_zScore 2. log(stdDev_zScore)\n",
    "    y_pred=y_predAll[:,0:283,:]\n",
    "    y_predMean = y_predAll[:,283,0:1]\n",
    "\n",
    "    y_true = y_trueMax * maxTrainLabels #std + mean   # y_zScore = (y - mean) / std -> y = y_zScore *std + mean\n",
    "\n",
    "    y_predMax = y_pred[:, :,0]+y_predMean\n",
    "    log_sigma = y_pred[:, :,1]  # Log of the standard deviation / we predict log(stdDev_zScore) = log(stdDev / std) = log(stdDev) - log(std) -> log(stdDev) = log(stdDev_zScore) + log(std)\n",
    "\n",
    "    y_pred0 = y_predMax *maxTrainLabels #* std + mean\n",
    "    sigma = tf.exp(log_sigma)*maxTrainLabels  # Exponentiate to get variance + scale back from zscore \n",
    "    logStdDev = tf.math.log(sigma*sigma)# + tf.math.log(max)\n",
    "\n",
    "    L_pred = -0.5*(tf.math.log(2*np.pi) + logStdDev + tf.square((y_true - y_pred0) / sigma))\n",
    "    L_ref = -0.5*(tf.math.log(2*np.pi) +  tf.math.log(stdLabels**4) + tf.square((y_true - meanLabels)/(stdLabels*stdLabels)))   # ( (y_true - mean)/std )^2 = y_trueZScore^2  (y_true = y_trueZScore * std + mean)\n",
    "    L_ideal = -0.5*(tf.math.log(2*np.pi) + tf.math.log((1e-5)**4)) * tf.ones_like(y_predMax)\n",
    "    #print(L_pred)\n",
    "    #print(L_ref)\n",
    "    #print(L_ideal)\n",
    "    #print(tf.reduce_sum(L_pred),tf.reduce_sum(L_ideal),tf.reduce_sum(L_ref))\n",
    "    L = (tf.reduce_sum(L_pred) -tf.reduce_sum(L_ref)) / (tf.reduce_sum(L_ideal) - tf.reduce_sum(L_ref))\n",
    "    \n",
    "    return L\n",
    "\n",
    "def log_likelihood_maxScaling_scipy(y_trueMax, y_predAll):\n",
    "    # stdDev_zScorePred = 1/n * sqrt((y_zScore - y_zScoreMean)^2) = 1/n *sqrt(sum( (y-mean)/std - (y_mean-mean)/std )^2) = 1/n * sqrt(sum( (y-y_mean)/std )^2 )) = 1/std * 1/n * sqrt(sum(y-y_mean)^2) = stdDev / std\n",
    "    # stdDev_zScorePred = stdDev_pred / std\n",
    "    # y_pred contains 1. y_zScore 2. log(stdDev_zScore)\n",
    "    y_pred=y_predAll[:,0:283,:]\n",
    "    y_predMean =y_predAll[:,283,0:1]\n",
    "\n",
    "    y_true = y_trueMax * maxTrainLabels #std + mean   # y_zScore = (y - mean) / std -> y = y_zScore *std + mean\n",
    "\n",
    "    y_predMax = y_pred[:, :,0]+y_predMean\n",
    "    log_sigma = y_pred[:, :,1]  # Log of the standard deviation / we predict log(stdDev_zScore) = log(stdDev / std) = log(stdDev) - log(std) -> log(stdDev) = log(stdDev_zScore) + log(std)\n",
    "\n",
    "    y_pred0 = y_predMax *maxTrainLabels #* std + mean\n",
    "    sigma = tf.exp(log_sigma)*maxTrainLabels  # Exponentiate to get variance + scale back from zscore \n",
    "\n",
    "    GLL_pred = np.sum(scipy.stats.norm.logpdf(y_true, loc=y_pred0, scale=sigma))\n",
    "    GLL_true = np.sum(scipy.stats.norm.logpdf(y_true, loc=y_true, scale=(1e-10) * np.ones_like(y_true)))\n",
    "    GLL_mean = np.sum(scipy.stats.norm.logpdf(y_true, loc=meanLabels * np.ones_like(y_true), scale=(stdLabels*stdLabels) * np.ones_like(y_true)))\n",
    "\n",
    "    submit_score = (GLL_pred - GLL_mean)/(GLL_true - GLL_mean)\n",
    "    #print(GLL_pred, GLL_true, GLL_mean)\n",
    "    \n",
    "    return submit_score\n",
    "\n",
    "log_likelihood_maxScaling(batch[1], out),log_likelihood_maxScaling_scipy(batch[1],out)"
   ]
  },
  {
   "cell_type": "code",
   "execution_count": 7,
   "metadata": {},
   "outputs": [
    {
     "data": {
      "text/plain": [
       "<tf.Tensor: shape=(64,), dtype=float32, numpy=\n",
       "array([200.58853 , 291.37634 , 185.52382 , 304.69046 ,  98.37875 ,\n",
       "       128.38081 , 218.5743  ,  72.81677 , 146.78787 , 229.46165 ,\n",
       "        94.20501 , 121.31223 , 191.08269 ,  90.13435 , 179.96509 ,\n",
       "        99.27334 ,  74.43815 , 227.82185 , 184.8443  , 179.83688 ,\n",
       "       129.53233 , 201.32225 , 176.18347 ,  89.7445  , 145.19513 ,\n",
       "       175.1147  , 264.25873 ,  69.613716, 148.03766 , 161.03056 ,\n",
       "       285.20288 , 111.00862 ,  82.987564,  86.37798 , 289.5864  ,\n",
       "       178.43384 ,  76.38225 , 153.18478 ,  82.0846  , 120.81264 ,\n",
       "       155.56871 , 381.3242  , 167.26807 , 226.75273 , 154.98643 ,\n",
       "       141.07056 , 137.52339 , 170.2817  , 501.65    ,  67.45002 ,\n",
       "       123.131805, 305.17163 , 283.809   , 136.69472 , 283.517   ,\n",
       "        86.23202 , 136.75888 , 258.12216 , 102.41687 , 358.9658  ,\n",
       "       135.1946  , 237.43265 , 225.93674 , 252.67183 ], dtype=float32)>"
      ]
     },
     "execution_count": 7,
     "metadata": {},
     "output_type": "execute_result"
    }
   ],
   "source": [
    "def combined_loss_mse(y_trueScaled, y_predAll):\n",
    "    y_pred=y_predAll[:,0:283,:]\n",
    "    y_predMean =y_predAll[:,283,0:1]\n",
    "\n",
    "    y_trueMean = tf.expand_dims(tf.reduce_mean(y_trueScaled,axis=-1),axis=-1)\n",
    "    lossMean = tf.square(y_predMean-y_trueMean)\n",
    "    y_predScaled = y_pred[:, :,0]\n",
    "    y_trueDiff2Mean = y_trueScaled - y_trueMean\n",
    "    lossDiff2Mean = tf.square(y_trueDiff2Mean - y_predScaled)#tf.math.abs(y_true_zScore-y_predZScore)\n",
    "\n",
    "    logConfidence = tf.math.exp(y_pred[:, :,1]) # logSigma = log(sigma / std)  we predict sigma NOT stdDev!!\n",
    "    largerThanT = tf.greater(logConfidence, tf.exp(20.0))\n",
    "    logConfidence = tf.where(largerThanT, y_pred[:,:,1] + tf.exp(20.0), logConfidence)\n",
    "\n",
    "    lossPred =lossMean + lossDiff2Mean\n",
    "    \n",
    "\n",
    "    loss_2 = tf.square(lossPred-(logConfidence))\n",
    "\n",
    "\n",
    "    combinedLoss = tf.reduce_sum(lossMean*10+lossDiff2Mean+loss_2*0.1, axis=-1)\n",
    "    return combinedLoss\n",
    "\n",
    "def mean_mae(y_trueScaled, y_predAll):\n",
    "    y_predMean =y_predAll[:,283,0:1]\n",
    "    y_trueMean = tf.expand_dims(tf.reduce_mean(y_trueScaled,axis=-1),axis=-1)\n",
    "    return tf.abs(y_predMean-y_trueMean)\n",
    "\n",
    "def deviation_mae(y_trueScaled, y_predAll):\n",
    "    y_pred=y_predAll[:,0:283,:]\n",
    "    y_trueMean = tf.expand_dims(tf.reduce_mean(y_trueScaled,axis=-1),axis=-1)\n",
    "    y_predScaled = y_pred[:, :,0]\n",
    "    y_trueDiff2Mean = y_trueScaled - y_trueMean\n",
    "    lossPred = tf.abs(y_trueDiff2Mean - y_predScaled)#tf.math.abs(y_true_zScore-y_predZScore)\n",
    "\n",
    "    combinedLoss = tf.reduce_sum(lossPred, axis=-1)\n",
    "    return combinedLoss\n",
    "\n",
    "def log_loss_maxScaling(y_trueMax, y_pred):\n",
    "    y_true = y_trueMax * maxTrainLabels #std + mean   # y_zScore = (y - mean) / std -> y = y_zScore *std + mean\n",
    "\n",
    "    y_predMax = y_pred[:, :,0]\n",
    "    log_sigma = y_pred[:, :,1]  # Log of the standard deviation / we predict log(stdDev_zScore) = log(stdDev / std) = log(stdDev) - log(std) -> log(stdDev) = log(stdDev_zScore) + log(std)\n",
    "\n",
    "    y_pred0 = y_predMax *maxTrainLabels #* std + mean\n",
    "    sigma = tf.exp(log_sigma)*maxTrainLabels  # Exponentiate to get variance + scale back from zscore \n",
    "    logStdDev = tf.math.log(sigma*sigma)# + tf.math.log(max)\n",
    "\n",
    "    L_pred = -0.5*(tf.math.log(2*np.pi) + logStdDev + tf.square((y_true - y_pred0) / sigma))\n",
    "    L_ref = -0.5*(tf.math.log(2*np.pi) +  tf.math.log(stdLabels**4) + tf.square((y_true - meanLabels)/(stdLabels*stdLabels)))   # ( (y_true - mean)/std )^2 = y_trueZScore^2  (y_true = y_trueZScore * std + mean)\n",
    "    L_ideal = -0.5*(tf.math.log(2*np.pi) + tf.math.log((1e-5)**4)) * tf.ones_like(y_predMax)\n",
    "    L = -((tf.reduce_sum(L_pred) -tf.reduce_sum(L_ref)) / (tf.reduce_sum(L_ideal) - tf.reduce_sum(L_ref)) -1)\n",
    "    return L\n",
    "\n",
    "#loss_mse(batch[1],out)\n",
    "combined_loss_mse(batch[1],out)"
   ]
  },
  {
   "cell_type": "code",
   "execution_count": 9,
   "metadata": {},
   "outputs": [
    {
     "name": "stdout",
     "output_type": "stream",
     "text": [
      "Epoch 1/800\n",
      "\u001b[1m5/5\u001b[0m \u001b[32m━━━━━━━━━━━━━━━━━━━━\u001b[0m\u001b[37m\u001b[0m \u001b[1m17s\u001b[0m 3s/step - deviation_mae: 121.3188 - loss: 4682.9482 - mean_mae: 1.1281 - val_deviation_mae: 224.8572 - val_loss: 1787.3831 - val_mean_mae: 0.6179\n",
      "Epoch 2/800\n",
      "\u001b[1m5/5\u001b[0m \u001b[32m━━━━━━━━━━━━━━━━━━━━\u001b[0m\u001b[37m\u001b[0m \u001b[1m15s\u001b[0m 3s/step - deviation_mae: 234.9818 - loss: 1255.4044 - mean_mae: 0.4599 - val_deviation_mae: 259.4192 - val_loss: 1112.4124 - val_mean_mae: 0.4148\n",
      "Epoch 3/800\n",
      "\u001b[1m5/5\u001b[0m \u001b[32m━━━━━━━━━━━━━━━━━━━━\u001b[0m\u001b[37m\u001b[0m \u001b[1m15s\u001b[0m 3s/step - deviation_mae: 259.3679 - loss: 963.4374 - mean_mae: 0.3324 - val_deviation_mae: 250.5096 - val_loss: 608.6213 - val_mean_mae: 0.1752\n",
      "Epoch 4/800\n",
      "\u001b[1m5/5\u001b[0m \u001b[32m━━━━━━━━━━━━━━━━━━━━\u001b[0m\u001b[37m\u001b[0m \u001b[1m15s\u001b[0m 3s/step - deviation_mae: 245.6845 - loss: 636.1606 - mean_mae: 0.1954 - val_deviation_mae: 222.4681 - val_loss: 617.0838 - val_mean_mae: 0.2425\n",
      "Epoch 5/800\n",
      "\u001b[1m5/5\u001b[0m \u001b[32m━━━━━━━━━━━━━━━━━━━━\u001b[0m\u001b[37m\u001b[0m \u001b[1m15s\u001b[0m 3s/step - deviation_mae: 216.0298 - loss: 514.8395 - mean_mae: 0.1903 - val_deviation_mae: 190.2899 - val_loss: 355.2830 - val_mean_mae: 0.1421\n",
      "Epoch 6/800\n",
      "\u001b[1m5/5\u001b[0m \u001b[32m━━━━━━━━━━━━━━━━━━━━\u001b[0m\u001b[37m\u001b[0m \u001b[1m15s\u001b[0m 3s/step - deviation_mae: 183.8066 - loss: 374.7396 - mean_mae: 0.1636 - val_deviation_mae: 160.5097 - val_loss: 396.7446 - val_mean_mae: 0.2053\n",
      "Epoch 7/800\n",
      "\u001b[1m5/5\u001b[0m \u001b[32m━━━━━━━━━━━━━━━━━━━━\u001b[0m\u001b[37m\u001b[0m \u001b[1m15s\u001b[0m 3s/step - deviation_mae: 154.8436 - loss: 339.0846 - mean_mae: 0.1724 - val_deviation_mae: 134.5641 - val_loss: 218.4602 - val_mean_mae: 0.1268\n",
      "Epoch 8/800\n",
      "\u001b[1m5/5\u001b[0m \u001b[32m━━━━━━━━━━━━━━━━━━━━\u001b[0m\u001b[37m\u001b[0m \u001b[1m16s\u001b[0m 3s/step - deviation_mae: 130.1626 - loss: 202.4801 - mean_mae: 0.1156 - val_deviation_mae: 113.7269 - val_loss: 193.2570 - val_mean_mae: 0.1376\n",
      "Epoch 9/800\n",
      "\u001b[1m5/5\u001b[0m \u001b[32m━━━━━━━━━━━━━━━━━━━━\u001b[0m\u001b[37m\u001b[0m \u001b[1m16s\u001b[0m 3s/step - deviation_mae: 110.1207 - loss: 182.8819 - mean_mae: 0.1303 - val_deviation_mae: 97.0885 - val_loss: 155.8592 - val_mean_mae: 0.1216\n",
      "Epoch 10/800\n",
      "\u001b[1m5/5\u001b[0m \u001b[32m━━━━━━━━━━━━━━━━━━━━\u001b[0m\u001b[37m\u001b[0m \u001b[1m16s\u001b[0m 3s/step - deviation_mae: 94.2077 - loss: 147.7084 - mean_mae: 0.1191 - val_deviation_mae: 84.0025 - val_loss: 145.1985 - val_mean_mae: 0.1269\n",
      "Epoch 11/800\n",
      "\u001b[1m5/5\u001b[0m \u001b[32m━━━━━━━━━━━━━━━━━━━━\u001b[0m\u001b[37m\u001b[0m \u001b[1m15s\u001b[0m 3s/step - deviation_mae: 81.7687 - loss: 132.4412 - mean_mae: 0.1159 - val_deviation_mae: 73.4181 - val_loss: 143.1985 - val_mean_mae: 0.1261\n",
      "Epoch 12/800\n",
      "\u001b[1m5/5\u001b[0m \u001b[32m━━━━━━━━━━━━━━━━━━━━\u001b[0m\u001b[37m\u001b[0m \u001b[1m15s\u001b[0m 3s/step - deviation_mae: 71.5300 - loss: 137.8089 - mean_mae: 0.1205 - val_deviation_mae: 64.5283 - val_loss: 120.2167 - val_mean_mae: 0.1187\n",
      "Epoch 13/800\n",
      "\u001b[1m5/5\u001b[0m \u001b[32m━━━━━━━━━━━━━━━━━━━━\u001b[0m\u001b[37m\u001b[0m \u001b[1m15s\u001b[0m 3s/step - deviation_mae: 62.8988 - loss: 110.9726 - mean_mae: 0.1079 - val_deviation_mae: 56.9524 - val_loss: 123.6136 - val_mean_mae: 0.1204\n",
      "Epoch 14/800\n",
      "\u001b[1m5/5\u001b[0m \u001b[32m━━━━━━━━━━━━━━━━━━━━\u001b[0m\u001b[37m\u001b[0m \u001b[1m15s\u001b[0m 3s/step - deviation_mae: 55.5936 - loss: 111.7075 - mean_mae: 0.1123 - val_deviation_mae: 50.5343 - val_loss: 110.8459 - val_mean_mae: 0.1181\n",
      "Epoch 15/800\n",
      "\u001b[1m5/5\u001b[0m \u001b[32m━━━━━━━━━━━━━━━━━━━━\u001b[0m\u001b[37m\u001b[0m \u001b[1m15s\u001b[0m 3s/step - deviation_mae: 49.4069 - loss: 110.8885 - mean_mae: 0.1155 - val_deviation_mae: 45.2695 - val_loss: 117.6617 - val_mean_mae: 0.1347\n",
      "Epoch 16/800\n",
      "\u001b[1m5/5\u001b[0m \u001b[32m━━━━━━━━━━━━━━━━━━━━\u001b[0m\u001b[37m\u001b[0m \u001b[1m15s\u001b[0m 3s/step - deviation_mae: 44.2943 - loss: 108.4960 - mean_mae: 0.1211 - val_deviation_mae: 40.7944 - val_loss: 147.6799 - val_mean_mae: 0.1520\n",
      "Epoch 17/800\n",
      "\u001b[1m5/5\u001b[0m \u001b[32m━━━━━━━━━━━━━━━━━━━━\u001b[0m\u001b[37m\u001b[0m \u001b[1m15s\u001b[0m 3s/step - deviation_mae: 39.9874 - loss: 128.8056 - mean_mae: 0.1372 - val_deviation_mae: 37.0169 - val_loss: 103.1019 - val_mean_mae: 0.1164\n",
      "Epoch 18/800\n",
      "\u001b[1m5/5\u001b[0m \u001b[32m━━━━━━━━━━━━━━━━━━━━\u001b[0m\u001b[37m\u001b[0m \u001b[1m15s\u001b[0m 3s/step - deviation_mae: 36.3661 - loss: 106.8993 - mean_mae: 0.1137 - val_deviation_mae: 34.0753 - val_loss: 208.3223 - val_mean_mae: 0.1704\n",
      "Epoch 19/800\n",
      "\u001b[1m5/5\u001b[0m \u001b[32m━━━━━━━━━━━━━━━━━━━━\u001b[0m\u001b[37m\u001b[0m \u001b[1m15s\u001b[0m 3s/step - deviation_mae: 33.4668 - loss: 162.2450 - mean_mae: 0.1455 - val_deviation_mae: 31.5223 - val_loss: 170.4230 - val_mean_mae: 0.1478\n",
      "Epoch 20/800\n",
      "\u001b[1m5/5\u001b[0m \u001b[32m━━━━━━━━━━━━━━━━━━━━\u001b[0m\u001b[37m\u001b[0m \u001b[1m15s\u001b[0m 3s/step - deviation_mae: 31.1206 - loss: 154.7493 - mean_mae: 0.1427 - val_deviation_mae: 29.4186 - val_loss: 106.3052 - val_mean_mae: 0.1279\n",
      "Epoch 21/800\n",
      "\u001b[1m5/5\u001b[0m \u001b[32m━━━━━━━━━━━━━━━━━━━━\u001b[0m\u001b[37m\u001b[0m \u001b[1m15s\u001b[0m 3s/step - deviation_mae: 29.3490 - loss: 149.5826 - mean_mae: 0.1439 - val_deviation_mae: 28.4995 - val_loss: 274.2886 - val_mean_mae: 0.2209\n",
      "Epoch 22/800\n",
      "\u001b[1m5/5\u001b[0m \u001b[32m━━━━━━━━━━━━━━━━━━━━\u001b[0m\u001b[37m\u001b[0m \u001b[1m15s\u001b[0m 3s/step - deviation_mae: 28.3184 - loss: 189.8535 - mean_mae: 0.1729 - val_deviation_mae: 27.5226 - val_loss: 94.6661 - val_mean_mae: 0.1135\n",
      "Epoch 23/800\n",
      "\u001b[1m5/5\u001b[0m \u001b[32m━━━━━━━━━━━━━━━━━━━━\u001b[0m\u001b[37m\u001b[0m \u001b[1m15s\u001b[0m 3s/step - deviation_mae: 27.5649 - loss: 117.3248 - mean_mae: 0.1251 - val_deviation_mae: 27.2871 - val_loss: 222.5636 - val_mean_mae: 0.1810\n",
      "Epoch 24/800\n",
      "\u001b[1m5/5\u001b[0m \u001b[32m━━━━━━━━━━━━━━━━━━━━\u001b[0m\u001b[37m\u001b[0m \u001b[1m15s\u001b[0m 3s/step - deviation_mae: 27.1056 - loss: 150.0179 - mean_mae: 0.1393 - val_deviation_mae: 26.2882 - val_loss: 134.8265 - val_mean_mae: 0.1371\n",
      "Epoch 25/800\n",
      "\u001b[1m5/5\u001b[0m \u001b[32m━━━━━━━━━━━━━━━━━━━━\u001b[0m\u001b[37m\u001b[0m \u001b[1m15s\u001b[0m 3s/step - deviation_mae: 26.2356 - loss: 125.3887 - mean_mae: 0.1304 - val_deviation_mae: 25.4452 - val_loss: 132.4725 - val_mean_mae: 0.1374\n",
      "Epoch 26/800\n",
      "\u001b[1m5/5\u001b[0m \u001b[32m━━━━━━━━━━━━━━━━━━━━\u001b[0m\u001b[37m\u001b[0m \u001b[1m15s\u001b[0m 3s/step - deviation_mae: 25.3145 - loss: 128.6056 - mean_mae: 0.1339 - val_deviation_mae: 24.4499 - val_loss: 102.8783 - val_mean_mae: 0.1274\n",
      "Epoch 27/800\n",
      "\u001b[1m5/5\u001b[0m \u001b[32m━━━━━━━━━━━━━━━━━━━━\u001b[0m\u001b[37m\u001b[0m \u001b[1m15s\u001b[0m 3s/step - deviation_mae: 24.1880 - loss: 96.5576 - mean_mae: 0.1169 - val_deviation_mae: 23.2072 - val_loss: 123.1372 - val_mean_mae: 0.1445\n",
      "Epoch 28/800\n",
      "\u001b[1m5/5\u001b[0m \u001b[32m━━━━━━━━━━━━━━━━━━━━\u001b[0m\u001b[37m\u001b[0m \u001b[1m16s\u001b[0m 3s/step - deviation_mae: 22.9409 - loss: 116.0064 - mean_mae: 0.1343 - val_deviation_mae: 21.6634 - val_loss: 95.3268 - val_mean_mae: 0.1193\n",
      "Epoch 29/800\n",
      "\u001b[1m5/5\u001b[0m \u001b[32m━━━━━━━━━━━━━━━━━━━━\u001b[0m\u001b[37m\u001b[0m \u001b[1m15s\u001b[0m 3s/step - deviation_mae: 21.6054 - loss: 98.5546 - mean_mae: 0.1161 - val_deviation_mae: 20.3253 - val_loss: 105.6378 - val_mean_mae: 0.1216\n",
      "Epoch 30/800\n",
      "\u001b[1m5/5\u001b[0m \u001b[32m━━━━━━━━━━━━━━━━━━━━\u001b[0m\u001b[37m\u001b[0m \u001b[1m15s\u001b[0m 3s/step - deviation_mae: 20.1839 - loss: 100.7276 - mean_mae: 0.1170 - val_deviation_mae: 19.0782 - val_loss: 115.1713 - val_mean_mae: 0.1221\n",
      "Epoch 31/800\n",
      "\u001b[1m5/5\u001b[0m \u001b[32m━━━━━━━━━━━━━━━━━━━━\u001b[0m\u001b[37m\u001b[0m \u001b[1m15s\u001b[0m 3s/step - deviation_mae: 18.8455 - loss: 99.5178 - mean_mae: 0.1150 - val_deviation_mae: 17.6003 - val_loss: 89.7547 - val_mean_mae: 0.1126\n",
      "Epoch 32/800\n",
      "\u001b[1m5/5\u001b[0m \u001b[32m━━━━━━━━━━━━━━━━━━━━\u001b[0m\u001b[37m\u001b[0m \u001b[1m15s\u001b[0m 3s/step - deviation_mae: 17.5400 - loss: 83.3705 - mean_mae: 0.1044 - val_deviation_mae: 16.3153 - val_loss: 92.7809 - val_mean_mae: 0.1182\n",
      "Epoch 33/800\n",
      "\u001b[1m5/5\u001b[0m \u001b[32m━━━━━━━━━━━━━━━━━━━━\u001b[0m\u001b[37m\u001b[0m \u001b[1m15s\u001b[0m 3s/step - deviation_mae: 16.2837 - loss: 90.5636 - mean_mae: 0.1161 - val_deviation_mae: 15.1655 - val_loss: 93.0542 - val_mean_mae: 0.1195\n",
      "Epoch 34/800\n",
      "\u001b[1m5/5\u001b[0m \u001b[32m━━━━━━━━━━━━━━━━━━━━\u001b[0m\u001b[37m\u001b[0m \u001b[1m15s\u001b[0m 3s/step - deviation_mae: 15.0769 - loss: 82.6351 - mean_mae: 0.1065 - val_deviation_mae: 14.3411 - val_loss: 110.9353 - val_mean_mae: 0.1205\n",
      "Epoch 35/800\n",
      "\u001b[1m5/5\u001b[0m \u001b[32m━━━━━━━━━━━━━━━━━━━━\u001b[0m\u001b[37m\u001b[0m \u001b[1m15s\u001b[0m 3s/step - deviation_mae: 14.2927 - loss: 97.7367 - mean_mae: 0.1144 - val_deviation_mae: 13.3433 - val_loss: 89.0668 - val_mean_mae: 0.1148\n",
      "Epoch 36/800\n",
      "\u001b[1m5/5\u001b[0m \u001b[32m━━━━━━━━━━━━━━━━━━━━\u001b[0m\u001b[37m\u001b[0m \u001b[1m15s\u001b[0m 3s/step - deviation_mae: 13.3292 - loss: 89.5159 - mean_mae: 0.1091 - val_deviation_mae: 12.6042 - val_loss: 87.4302 - val_mean_mae: 0.1128\n",
      "Epoch 37/800\n",
      "\u001b[1m5/5\u001b[0m \u001b[32m━━━━━━━━━━━━━━━━━━━━\u001b[0m\u001b[37m\u001b[0m \u001b[1m15s\u001b[0m 3s/step - deviation_mae: 12.6365 - loss: 82.9497 - mean_mae: 0.1068 - val_deviation_mae: 11.9859 - val_loss: 97.3318 - val_mean_mae: 0.1271\n",
      "Epoch 38/800\n",
      "\u001b[1m5/5\u001b[0m \u001b[32m━━━━━━━━━━━━━━━━━━━━\u001b[0m\u001b[37m\u001b[0m \u001b[1m15s\u001b[0m 3s/step - deviation_mae: 12.0471 - loss: 87.9309 - mean_mae: 0.1128 - val_deviation_mae: 11.3633 - val_loss: 100.2941 - val_mean_mae: 0.1176\n",
      "Epoch 39/800\n",
      "\u001b[1m5/5\u001b[0m \u001b[32m━━━━━━━━━━━━━━━━━━━━\u001b[0m\u001b[37m\u001b[0m \u001b[1m15s\u001b[0m 3s/step - deviation_mae: 11.3365 - loss: 98.5611 - mean_mae: 0.1175 - val_deviation_mae: 10.7140 - val_loss: 100.0292 - val_mean_mae: 0.1169\n",
      "Epoch 40/800\n",
      "\u001b[1m5/5\u001b[0m \u001b[32m━━━━━━━━━━━━━━━━━━━━\u001b[0m\u001b[37m\u001b[0m \u001b[1m16s\u001b[0m 3s/step - deviation_mae: 10.7727 - loss: 92.3376 - mean_mae: 0.1105 - val_deviation_mae: 10.3052 - val_loss: 105.1511 - val_mean_mae: 0.1233\n",
      "Epoch 41/800\n",
      "\u001b[1m5/5\u001b[0m \u001b[32m━━━━━━━━━━━━━━━━━━━━\u001b[0m\u001b[37m\u001b[0m \u001b[1m15s\u001b[0m 3s/step - deviation_mae: 10.2638 - loss: 88.8236 - mean_mae: 0.1083 - val_deviation_mae: 9.8282 - val_loss: 88.9607 - val_mean_mae: 0.1132\n",
      "Epoch 42/800\n",
      "\u001b[1m5/5\u001b[0m \u001b[32m━━━━━━━━━━━━━━━━━━━━\u001b[0m\u001b[37m\u001b[0m \u001b[1m15s\u001b[0m 3s/step - deviation_mae: 9.9679 - loss: 92.1459 - mean_mae: 0.1100 - val_deviation_mae: 9.6595 - val_loss: 95.5884 - val_mean_mae: 0.1180\n",
      "Epoch 43/800\n",
      "\u001b[1m5/5\u001b[0m \u001b[32m━━━━━━━━━━━━━━━━━━━━\u001b[0m\u001b[37m\u001b[0m \u001b[1m15s\u001b[0m 3s/step - deviation_mae: 9.7288 - loss: 91.5609 - mean_mae: 0.1108 - val_deviation_mae: 9.2814 - val_loss: 88.2519 - val_mean_mae: 0.1172\n",
      "Epoch 44/800\n",
      "\u001b[1m5/5\u001b[0m \u001b[32m━━━━━━━━━━━━━━━━━━━━\u001b[0m\u001b[37m\u001b[0m \u001b[1m15s\u001b[0m 3s/step - deviation_mae: 9.3984 - loss: 81.8582 - mean_mae: 0.1076 - val_deviation_mae: 8.9662 - val_loss: 90.7722 - val_mean_mae: 0.1215\n",
      "Epoch 45/800\n",
      "\u001b[1m5/5\u001b[0m \u001b[32m━━━━━━━━━━━━━━━━━━━━\u001b[0m\u001b[37m\u001b[0m \u001b[1m15s\u001b[0m 3s/step - deviation_mae: 9.0391 - loss: 86.0450 - mean_mae: 0.1151 - val_deviation_mae: 8.5593 - val_loss: 85.0795 - val_mean_mae: 0.1113\n",
      "Epoch 46/800\n",
      "\u001b[1m5/5\u001b[0m \u001b[32m━━━━━━━━━━━━━━━━━━━━\u001b[0m\u001b[37m\u001b[0m \u001b[1m15s\u001b[0m 3s/step - deviation_mae: 8.6808 - loss: 82.7627 - mean_mae: 0.1084 - val_deviation_mae: 8.1787 - val_loss: 90.6761 - val_mean_mae: 0.1172\n",
      "Epoch 47/800\n",
      "\u001b[1m5/5\u001b[0m \u001b[32m━━━━━━━━━━━━━━━━━━━━\u001b[0m\u001b[37m\u001b[0m \u001b[1m15s\u001b[0m 3s/step - deviation_mae: 8.2889 - loss: 87.7463 - mean_mae: 0.1144 - val_deviation_mae: 7.8657 - val_loss: 89.8687 - val_mean_mae: 0.1171\n",
      "Epoch 48/800\n",
      "\u001b[1m5/5\u001b[0m \u001b[32m━━━━━━━━━━━━━━━━━━━━\u001b[0m\u001b[37m\u001b[0m \u001b[1m15s\u001b[0m 3s/step - deviation_mae: 7.9211 - loss: 85.7713 - mean_mae: 0.1127 - val_deviation_mae: 7.6638 - val_loss: 104.2760 - val_mean_mae: 0.1222\n",
      "Epoch 49/800\n",
      "\u001b[1m5/5\u001b[0m \u001b[32m━━━━━━━━━━━━━━━━━━━━\u001b[0m\u001b[37m\u001b[0m \u001b[1m15s\u001b[0m 3s/step - deviation_mae: 7.8041 - loss: 94.8014 - mean_mae: 0.1170 - val_deviation_mae: 7.3515 - val_loss: 115.6953 - val_mean_mae: 0.1562\n",
      "Epoch 50/800\n",
      "\u001b[1m5/5\u001b[0m \u001b[32m━━━━━━━━━━━━━━━━━━━━\u001b[0m\u001b[37m\u001b[0m \u001b[1m15s\u001b[0m 3s/step - deviation_mae: 7.6002 - loss: 115.6397 - mean_mae: 0.1499 - val_deviation_mae: 7.4785 - val_loss: 100.8673 - val_mean_mae: 0.1224\n",
      "Epoch 51/800\n",
      "\u001b[1m5/5\u001b[0m \u001b[32m━━━━━━━━━━━━━━━━━━━━\u001b[0m\u001b[37m\u001b[0m \u001b[1m15s\u001b[0m 3s/step - deviation_mae: 7.8854 - loss: 118.5783 - mean_mae: 0.1467 - val_deviation_mae: 8.6511 - val_loss: 139.2796 - val_mean_mae: 0.1679\n",
      "Epoch 52/800\n",
      "\u001b[1m5/5\u001b[0m \u001b[32m━━━━━━━━━━━━━━━━━━━━\u001b[0m\u001b[37m\u001b[0m \u001b[1m15s\u001b[0m 3s/step - deviation_mae: 8.8234 - loss: 109.8223 - mean_mae: 0.1367 - val_deviation_mae: 9.5679 - val_loss: 112.8717 - val_mean_mae: 0.1553\n",
      "Epoch 53/800\n",
      "\u001b[1m5/5\u001b[0m \u001b[32m━━━━━━━━━━━━━━━━━━━━\u001b[0m\u001b[37m\u001b[0m \u001b[1m14s\u001b[0m 3s/step - deviation_mae: 9.9868 - loss: 108.3255 - mean_mae: 0.1412 - val_deviation_mae: 10.4045 - val_loss: 106.6983 - val_mean_mae: 0.1337\n",
      "Epoch 54/800\n",
      "\u001b[1m5/5\u001b[0m \u001b[32m━━━━━━━━━━━━━━━━━━━━\u001b[0m\u001b[37m\u001b[0m \u001b[1m14s\u001b[0m 3s/step - deviation_mae: 10.7901 - loss: 92.3656 - mean_mae: 0.1196 - val_deviation_mae: 10.9389 - val_loss: 84.2529 - val_mean_mae: 0.1106\n",
      "Epoch 55/800\n",
      "\u001b[1m5/5\u001b[0m \u001b[32m━━━━━━━━━━━━━━━━━━━━\u001b[0m\u001b[37m\u001b[0m \u001b[1m14s\u001b[0m 3s/step - deviation_mae: 11.0482 - loss: 86.0737 - mean_mae: 0.1103 - val_deviation_mae: 11.2198 - val_loss: 121.6198 - val_mean_mae: 0.1342\n",
      "Epoch 56/800\n",
      "\u001b[1m5/5\u001b[0m \u001b[32m━━━━━━━━━━━━━━━━━━━━\u001b[0m\u001b[37m\u001b[0m \u001b[1m15s\u001b[0m 3s/step - deviation_mae: 11.1003 - loss: 99.8078 - mean_mae: 0.1188 - val_deviation_mae: 10.3816 - val_loss: 90.0295 - val_mean_mae: 0.1161\n",
      "Epoch 57/800\n",
      "\u001b[1m5/5\u001b[0m \u001b[32m━━━━━━━━━━━━━━━━━━━━\u001b[0m\u001b[37m\u001b[0m \u001b[1m15s\u001b[0m 3s/step - deviation_mae: 10.4492 - loss: 81.3372 - mean_mae: 0.1078 - val_deviation_mae: 9.6670 - val_loss: 91.8316 - val_mean_mae: 0.1162\n",
      "Epoch 58/800\n",
      "\u001b[1m5/5\u001b[0m \u001b[32m━━━━━━━━━━━━━━━━━━━━\u001b[0m\u001b[37m\u001b[0m \u001b[1m15s\u001b[0m 3s/step - deviation_mae: 9.6925 - loss: 81.5146 - mean_mae: 0.1086 - val_deviation_mae: 8.7406 - val_loss: 82.6657 - val_mean_mae: 0.1086\n",
      "Epoch 59/800\n",
      "\u001b[1m5/5\u001b[0m \u001b[32m━━━━━━━━━━━━━━━━━━━━\u001b[0m\u001b[37m\u001b[0m \u001b[1m15s\u001b[0m 3s/step - deviation_mae: 8.8029 - loss: 77.7050 - mean_mae: 0.1013 - val_deviation_mae: 8.0474 - val_loss: 92.1668 - val_mean_mae: 0.1228\n",
      "Epoch 60/800\n",
      "\u001b[1m5/5\u001b[0m \u001b[32m━━━━━━━━━━━━━━━━━━━━\u001b[0m\u001b[37m\u001b[0m \u001b[1m15s\u001b[0m 3s/step - deviation_mae: 8.0075 - loss: 87.7819 - mean_mae: 0.1134 - val_deviation_mae: 7.3326 - val_loss: 82.5111 - val_mean_mae: 0.1068\n",
      "Epoch 61/800\n",
      "\u001b[1m5/5\u001b[0m \u001b[32m━━━━━━━━━━━━━━━━━━━━\u001b[0m\u001b[37m\u001b[0m \u001b[1m15s\u001b[0m 3s/step - deviation_mae: 7.4106 - loss: 83.1571 - mean_mae: 0.1078 - val_deviation_mae: 6.9144 - val_loss: 82.1656 - val_mean_mae: 0.1061\n",
      "Epoch 62/800\n",
      "\u001b[1m5/5\u001b[0m \u001b[32m━━━━━━━━━━━━━━━━━━━━\u001b[0m\u001b[37m\u001b[0m \u001b[1m15s\u001b[0m 3s/step - deviation_mae: 7.0155 - loss: 71.3262 - mean_mae: 0.0928 - val_deviation_mae: 6.5460 - val_loss: 83.5178 - val_mean_mae: 0.1132\n",
      "Epoch 63/800\n",
      "\u001b[1m5/5\u001b[0m \u001b[32m━━━━━━━━━━━━━━━━━━━━\u001b[0m\u001b[37m\u001b[0m \u001b[1m14s\u001b[0m 3s/step - deviation_mae: 6.6693 - loss: 74.3748 - mean_mae: 0.0989 - val_deviation_mae: 6.0555 - val_loss: 83.3338 - val_mean_mae: 0.1090\n",
      "Epoch 64/800\n",
      "\u001b[1m5/5\u001b[0m \u001b[32m━━━━━━━━━━━━━━━━━━━━\u001b[0m\u001b[37m\u001b[0m \u001b[1m15s\u001b[0m 3s/step - deviation_mae: 6.2086 - loss: 76.6117 - mean_mae: 0.0998 - val_deviation_mae: 5.9774 - val_loss: 98.5557 - val_mean_mae: 0.1133\n",
      "Epoch 65/800\n",
      "\u001b[1m5/5\u001b[0m \u001b[32m━━━━━━━━━━━━━━━━━━━━\u001b[0m\u001b[37m\u001b[0m \u001b[1m15s\u001b[0m 3s/step - deviation_mae: 6.0635 - loss: 85.6979 - mean_mae: 0.1033 - val_deviation_mae: 5.5099 - val_loss: 79.7183 - val_mean_mae: 0.1074\n",
      "Epoch 66/800\n",
      "\u001b[1m5/5\u001b[0m \u001b[32m━━━━━━━━━━━━━━━━━━━━\u001b[0m\u001b[37m\u001b[0m \u001b[1m15s\u001b[0m 3s/step - deviation_mae: 5.7110 - loss: 84.1571 - mean_mae: 0.1052 - val_deviation_mae: 5.3961 - val_loss: 99.3085 - val_mean_mae: 0.1180\n",
      "Epoch 67/800\n",
      "\u001b[1m5/5\u001b[0m \u001b[32m━━━━━━━━━━━━━━━━━━━━\u001b[0m\u001b[37m\u001b[0m \u001b[1m15s\u001b[0m 3s/step - deviation_mae: 5.5884 - loss: 84.5151 - mean_mae: 0.1058 - val_deviation_mae: 5.5766 - val_loss: 129.8300 - val_mean_mae: 0.1328\n",
      "Epoch 68/800\n",
      "\u001b[1m5/5\u001b[0m \u001b[32m━━━━━━━━━━━━━━━━━━━━\u001b[0m\u001b[37m\u001b[0m \u001b[1m14s\u001b[0m 3s/step - deviation_mae: 5.5139 - loss: 115.9751 - mean_mae: 0.1272 - val_deviation_mae: 5.0672 - val_loss: 79.6783 - val_mean_mae: 0.1050\n",
      "Epoch 69/800\n",
      "\u001b[1m5/5\u001b[0m \u001b[32m━━━━━━━━━━━━━━━━━━━━\u001b[0m\u001b[37m\u001b[0m \u001b[1m14s\u001b[0m 3s/step - deviation_mae: 5.3496 - loss: 81.6612 - mean_mae: 0.1027 - val_deviation_mae: 5.1961 - val_loss: 89.8435 - val_mean_mae: 0.1210\n",
      "Epoch 70/800\n",
      "\u001b[1m5/5\u001b[0m \u001b[32m━━━━━━━━━━━━━━━━━━━━\u001b[0m\u001b[37m\u001b[0m \u001b[1m14s\u001b[0m 3s/step - deviation_mae: 5.2740 - loss: 77.0702 - mean_mae: 0.1052 - val_deviation_mae: 4.9951 - val_loss: 80.6163 - val_mean_mae: 0.1041\n",
      "Epoch 71/800\n",
      "\u001b[1m5/5\u001b[0m \u001b[32m━━━━━━━━━━━━━━━━━━━━\u001b[0m\u001b[37m\u001b[0m \u001b[1m15s\u001b[0m 3s/step - deviation_mae: 5.2013 - loss: 76.6767 - mean_mae: 0.1023 - val_deviation_mae: 4.8500 - val_loss: 81.2717 - val_mean_mae: 0.1040\n",
      "Epoch 72/800\n",
      "\u001b[1m5/5\u001b[0m \u001b[32m━━━━━━━━━━━━━━━━━━━━\u001b[0m\u001b[37m\u001b[0m \u001b[1m14s\u001b[0m 3s/step - deviation_mae: 5.0449 - loss: 76.5031 - mean_mae: 0.1005 - val_deviation_mae: 4.6843 - val_loss: 84.5804 - val_mean_mae: 0.1057\n",
      "Epoch 73/800\n",
      "\u001b[1m5/5\u001b[0m \u001b[32m━━━━━━━━━━━━━━━━━━━━\u001b[0m\u001b[37m\u001b[0m \u001b[1m15s\u001b[0m 3s/step - deviation_mae: 4.8594 - loss: 81.4173 - mean_mae: 0.1011 - val_deviation_mae: 4.6618 - val_loss: 99.7528 - val_mean_mae: 0.1182\n",
      "Epoch 74/800\n",
      "\u001b[1m5/5\u001b[0m \u001b[32m━━━━━━━━━━━━━━━━━━━━\u001b[0m\u001b[37m\u001b[0m \u001b[1m15s\u001b[0m 3s/step - deviation_mae: 4.7180 - loss: 86.8580 - mean_mae: 0.1041 - val_deviation_mae: 4.4469 - val_loss: 84.5010 - val_mean_mae: 0.1108\n",
      "Epoch 75/800\n",
      "\u001b[1m5/5\u001b[0m \u001b[32m━━━━━━━━━━━━━━━━━━━━\u001b[0m\u001b[37m\u001b[0m \u001b[1m14s\u001b[0m 3s/step - deviation_mae: 4.8610 - loss: 94.3832 - mean_mae: 0.1148 - val_deviation_mae: 5.0412 - val_loss: 128.2560 - val_mean_mae: 0.1308\n",
      "Epoch 76/800\n",
      "\u001b[1m5/5\u001b[0m \u001b[32m━━━━━━━━━━━━━━━━━━━━\u001b[0m\u001b[37m\u001b[0m \u001b[1m15s\u001b[0m 3s/step - deviation_mae: 5.1197 - loss: 101.3992 - mean_mae: 0.1148 - val_deviation_mae: 4.9399 - val_loss: 82.9893 - val_mean_mae: 0.1106\n",
      "Epoch 77/800\n",
      "\u001b[1m5/5\u001b[0m \u001b[32m━━━━━━━━━━━━━━━━━━━━\u001b[0m\u001b[37m\u001b[0m \u001b[1m14s\u001b[0m 3s/step - deviation_mae: 5.5615 - loss: 100.0724 - mean_mae: 0.1131 - val_deviation_mae: 6.0652 - val_loss: 124.9482 - val_mean_mae: 0.1337\n",
      "Epoch 78/800\n",
      "\u001b[1m5/5\u001b[0m \u001b[32m━━━━━━━━━━━━━━━━━━━━\u001b[0m\u001b[37m\u001b[0m \u001b[1m14s\u001b[0m 3s/step - deviation_mae: 6.2762 - loss: 114.2365 - mean_mae: 0.1297 - val_deviation_mae: 6.5976 - val_loss: 91.5465 - val_mean_mae: 0.1128\n",
      "Epoch 79/800\n",
      "\u001b[1m5/5\u001b[0m \u001b[32m━━━━━━━━━━━━━━━━━━━━\u001b[0m\u001b[37m\u001b[0m \u001b[1m14s\u001b[0m 3s/step - deviation_mae: 6.8591 - loss: 82.9828 - mean_mae: 0.1048 - val_deviation_mae: 6.7209 - val_loss: 78.3526 - val_mean_mae: 0.1055\n",
      "Epoch 80/800\n",
      "\u001b[1m5/5\u001b[0m \u001b[32m━━━━━━━━━━━━━━━━━━━━\u001b[0m\u001b[37m\u001b[0m \u001b[1m14s\u001b[0m 3s/step - deviation_mae: 6.8792 - loss: 74.2485 - mean_mae: 0.0974 - val_deviation_mae: 6.3924 - val_loss: 78.8111 - val_mean_mae: 0.1068\n",
      "Epoch 81/800\n",
      "\u001b[1m5/5\u001b[0m \u001b[32m━━━━━━━━━━━━━━━━━━━━\u001b[0m\u001b[37m\u001b[0m \u001b[1m14s\u001b[0m 3s/step - deviation_mae: 6.4340 - loss: 71.1260 - mean_mae: 0.0967 - val_deviation_mae: 5.7873 - val_loss: 86.3986 - val_mean_mae: 0.1071\n",
      "Epoch 82/800\n",
      "\u001b[1m5/5\u001b[0m \u001b[32m━━━━━━━━━━━━━━━━━━━━\u001b[0m\u001b[37m\u001b[0m \u001b[1m14s\u001b[0m 3s/step - deviation_mae: 5.8065 - loss: 77.0909 - mean_mae: 0.1001 - val_deviation_mae: 4.9745 - val_loss: 76.4871 - val_mean_mae: 0.1030\n",
      "Epoch 83/800\n",
      "\u001b[1m5/5\u001b[0m \u001b[32m━━━━━━━━━━━━━━━━━━━━\u001b[0m\u001b[37m\u001b[0m \u001b[1m15s\u001b[0m 3s/step - deviation_mae: 5.1847 - loss: 77.6058 - mean_mae: 0.1003 - val_deviation_mae: 4.6809 - val_loss: 88.8023 - val_mean_mae: 0.1130\n",
      "Epoch 84/800\n",
      "\u001b[1m5/5\u001b[0m \u001b[32m━━━━━━━━━━━━━━━━━━━━\u001b[0m\u001b[37m\u001b[0m \u001b[1m15s\u001b[0m 3s/step - deviation_mae: 4.7589 - loss: 83.5316 - mean_mae: 0.1058 - val_deviation_mae: 4.1722 - val_loss: 78.6171 - val_mean_mae: 0.1029\n",
      "Epoch 85/800\n",
      "\u001b[1m5/5\u001b[0m \u001b[32m━━━━━━━━━━━━━━━━━━━━\u001b[0m\u001b[37m\u001b[0m \u001b[1m15s\u001b[0m 3s/step - deviation_mae: 4.2959 - loss: 70.6248 - mean_mae: 0.0940 - val_deviation_mae: 3.9943 - val_loss: 81.0347 - val_mean_mae: 0.1031\n",
      "Epoch 86/800\n",
      "\u001b[1m5/5\u001b[0m \u001b[32m━━━━━━━━━━━━━━━━━━━━\u001b[0m\u001b[37m\u001b[0m \u001b[1m14s\u001b[0m 3s/step - deviation_mae: 4.1913 - loss: 76.6978 - mean_mae: 0.0968 - val_deviation_mae: 4.2867 - val_loss: 110.9966 - val_mean_mae: 0.1247\n",
      "Epoch 87/800\n",
      "\u001b[1m5/5\u001b[0m \u001b[32m━━━━━━━━━━━━━━━━━━━━\u001b[0m\u001b[37m\u001b[0m \u001b[1m14s\u001b[0m 3s/step - deviation_mae: 4.3618 - loss: 93.6601 - mean_mae: 0.1094 - val_deviation_mae: 3.8683 - val_loss: 87.3127 - val_mean_mae: 0.1055\n",
      "Epoch 88/800\n",
      "\u001b[1m5/5\u001b[0m \u001b[32m━━━━━━━━━━━━━━━━━━━━\u001b[0m\u001b[37m\u001b[0m \u001b[1m14s\u001b[0m 3s/step - deviation_mae: 4.1512 - loss: 88.1116 - mean_mae: 0.1063 - val_deviation_mae: 4.2154 - val_loss: 100.4988 - val_mean_mae: 0.1158\n",
      "Epoch 89/800\n",
      "\u001b[1m5/5\u001b[0m \u001b[32m━━━━━━━━━━━━━━━━━━━━\u001b[0m\u001b[37m\u001b[0m \u001b[1m14s\u001b[0m 3s/step - deviation_mae: 4.5649 - loss: 101.4008 - mean_mae: 0.1113 - val_deviation_mae: 5.7104 - val_loss: 193.8685 - val_mean_mae: 0.1778\n",
      "Epoch 90/800\n",
      "\u001b[1m5/5\u001b[0m \u001b[32m━━━━━━━━━━━━━━━━━━━━\u001b[0m\u001b[37m\u001b[0m \u001b[1m14s\u001b[0m 3s/step - deviation_mae: 5.8217 - loss: 132.4534 - mean_mae: 0.1359 - val_deviation_mae: 7.3180 - val_loss: 192.7580 - val_mean_mae: 0.1736\n",
      "Epoch 91/800\n",
      "\u001b[1m5/5\u001b[0m \u001b[32m━━━━━━━━━━━━━━━━━━━━\u001b[0m\u001b[37m\u001b[0m \u001b[1m14s\u001b[0m 3s/step - deviation_mae: 7.2200 - loss: 121.9010 - mean_mae: 0.1285 - val_deviation_mae: 7.5906 - val_loss: 123.8383 - val_mean_mae: 0.1395\n",
      "Epoch 92/800\n",
      "\u001b[1m5/5\u001b[0m \u001b[32m━━━━━━━━━━━━━━━━━━━━\u001b[0m\u001b[37m\u001b[0m \u001b[1m14s\u001b[0m 3s/step - deviation_mae: 7.7345 - loss: 92.8237 - mean_mae: 0.1130 - val_deviation_mae: 7.7389 - val_loss: 92.0856 - val_mean_mae: 0.1080\n",
      "Epoch 93/800\n",
      "\u001b[1m5/5\u001b[0m \u001b[32m━━━━━━━━━━━━━━━━━━━━\u001b[0m\u001b[37m\u001b[0m \u001b[1m14s\u001b[0m 3s/step - deviation_mae: 7.9645 - loss: 79.7731 - mean_mae: 0.1035 - val_deviation_mae: 7.9213 - val_loss: 77.1252 - val_mean_mae: 0.1042\n",
      "Epoch 94/800\n",
      "\u001b[1m5/5\u001b[0m \u001b[32m━━━━━━━━━━━━━━━━━━━━\u001b[0m\u001b[37m\u001b[0m \u001b[1m14s\u001b[0m 3s/step - deviation_mae: 7.9500 - loss: 76.7179 - mean_mae: 0.0975 - val_deviation_mae: 7.5632 - val_loss: 77.8761 - val_mean_mae: 0.1073\n",
      "Epoch 95/800\n",
      "\u001b[1m5/5\u001b[0m \u001b[32m━━━━━━━━━━━━━━━━━━━━\u001b[0m\u001b[37m\u001b[0m \u001b[1m15s\u001b[0m 3s/step - deviation_mae: 7.5501 - loss: 69.4768 - mean_mae: 0.0958 - val_deviation_mae: 6.9636 - val_loss: 75.8945 - val_mean_mae: 0.1031\n",
      "Epoch 96/800\n",
      "\u001b[1m5/5\u001b[0m \u001b[32m━━━━━━━━━━━━━━━━━━━━\u001b[0m\u001b[37m\u001b[0m \u001b[1m14s\u001b[0m 3s/step - deviation_mae: 6.9680 - loss: 69.8281 - mean_mae: 0.0945 - val_deviation_mae: 6.1484 - val_loss: 80.8133 - val_mean_mae: 0.1045\n",
      "Epoch 97/800\n",
      "\u001b[1m5/5\u001b[0m \u001b[32m━━━━━━━━━━━━━━━━━━━━\u001b[0m\u001b[37m\u001b[0m \u001b[1m14s\u001b[0m 3s/step - deviation_mae: 6.1465 - loss: 75.4075 - mean_mae: 0.0967 - val_deviation_mae: 5.6984 - val_loss: 75.4552 - val_mean_mae: 0.1039\n",
      "Epoch 98/800\n",
      "\u001b[1m5/5\u001b[0m \u001b[32m━━━━━━━━━━━━━━━━━━━━\u001b[0m\u001b[37m\u001b[0m \u001b[1m14s\u001b[0m 3s/step - deviation_mae: 5.7984 - loss: 70.0826 - mean_mae: 0.0973 - val_deviation_mae: 5.1635 - val_loss: 78.9089 - val_mean_mae: 0.1010\n",
      "Epoch 99/800\n",
      "\u001b[1m5/5\u001b[0m \u001b[32m━━━━━━━━━━━━━━━━━━━━\u001b[0m\u001b[37m\u001b[0m \u001b[1m14s\u001b[0m 3s/step - deviation_mae: 5.3033 - loss: 74.4025 - mean_mae: 0.0982 - val_deviation_mae: 4.9523 - val_loss: 74.5201 - val_mean_mae: 0.1023\n",
      "Epoch 100/800\n",
      "\u001b[1m4/5\u001b[0m \u001b[32m━━━━━━━━━━━━━━━━\u001b[0m\u001b[37m━━━━\u001b[0m \u001b[1m1s\u001b[0m 2s/step - deviation_mae: 5.0736 - loss: 68.6116 - mean_mae: 0.0939\n",
      "Epoch 100: saving model to C:/Users/uic33116/Documents/documents/ariel-data-challenge-2024/training_full_model/model-100.weights.h5\n",
      "\u001b[1m5/5\u001b[0m \u001b[32m━━━━━━━━━━━━━━━━━━━━\u001b[0m\u001b[37m\u001b[0m \u001b[1m19s\u001b[0m 4s/step - deviation_mae: 5.0565 - loss: 68.5971 - mean_mae: 0.0936 - val_deviation_mae: 4.6018 - val_loss: 75.5273 - val_mean_mae: 0.1012\n",
      "Epoch 101/800\n",
      "\u001b[1m5/5\u001b[0m \u001b[32m━━━━━━━━━━━━━━━━━━━━\u001b[0m\u001b[37m\u001b[0m \u001b[1m15s\u001b[0m 3s/step - deviation_mae: 4.8394 - loss: 68.5402 - mean_mae: 0.0920 - val_deviation_mae: 4.4399 - val_loss: 72.6621 - val_mean_mae: 0.0993\n",
      "Epoch 102/800\n",
      "\u001b[1m5/5\u001b[0m \u001b[32m━━━━━━━━━━━━━━━━━━━━\u001b[0m\u001b[37m\u001b[0m \u001b[1m15s\u001b[0m 3s/step - deviation_mae: 4.5654 - loss: 70.6852 - mean_mae: 0.0934 - val_deviation_mae: 4.3118 - val_loss: 73.3305 - val_mean_mae: 0.1017\n",
      "Epoch 103/800\n",
      "\u001b[1m5/5\u001b[0m \u001b[32m━━━━━━━━━━━━━━━━━━━━\u001b[0m\u001b[37m\u001b[0m \u001b[1m15s\u001b[0m 3s/step - deviation_mae: 4.5140 - loss: 69.7150 - mean_mae: 0.0946 - val_deviation_mae: 4.1720 - val_loss: 75.4924 - val_mean_mae: 0.1002\n",
      "Epoch 104/800\n",
      "\u001b[1m5/5\u001b[0m \u001b[32m━━━━━━━━━━━━━━━━━━━━\u001b[0m\u001b[37m\u001b[0m \u001b[1m15s\u001b[0m 3s/step - deviation_mae: 4.3109 - loss: 69.0111 - mean_mae: 0.0928 - val_deviation_mae: 4.2709 - val_loss: 79.2997 - val_mean_mae: 0.1046\n",
      "Epoch 105/800\n",
      "\u001b[1m5/5\u001b[0m \u001b[32m━━━━━━━━━━━━━━━━━━━━\u001b[0m\u001b[37m\u001b[0m \u001b[1m15s\u001b[0m 3s/step - deviation_mae: 4.5216 - loss: 76.2122 - mean_mae: 0.0999 - val_deviation_mae: 3.8921 - val_loss: 77.5242 - val_mean_mae: 0.0993\n",
      "Epoch 106/800\n",
      "\u001b[1m5/5\u001b[0m \u001b[32m━━━━━━━━━━━━━━━━━━━━\u001b[0m\u001b[37m\u001b[0m \u001b[1m15s\u001b[0m 3s/step - deviation_mae: 4.0856 - loss: 66.9240 - mean_mae: 0.0886 - val_deviation_mae: 3.7429 - val_loss: 72.2179 - val_mean_mae: 0.1008\n",
      "Epoch 107/800\n",
      "\u001b[1m5/5\u001b[0m \u001b[32m━━━━━━━━━━━━━━━━━━━━\u001b[0m\u001b[37m\u001b[0m \u001b[1m15s\u001b[0m 3s/step - deviation_mae: 3.9096 - loss: 73.1193 - mean_mae: 0.0958 - val_deviation_mae: 3.6411 - val_loss: 74.7290 - val_mean_mae: 0.1032\n",
      "Epoch 108/800\n",
      "\u001b[1m5/5\u001b[0m \u001b[32m━━━━━━━━━━━━━━━━━━━━\u001b[0m\u001b[37m\u001b[0m \u001b[1m15s\u001b[0m 3s/step - deviation_mae: 3.8204 - loss: 70.1175 - mean_mae: 0.0961 - val_deviation_mae: 3.4994 - val_loss: 72.9981 - val_mean_mae: 0.1029\n",
      "Epoch 109/800\n",
      "\u001b[1m5/5\u001b[0m \u001b[32m━━━━━━━━━━━━━━━━━━━━\u001b[0m\u001b[37m\u001b[0m \u001b[1m15s\u001b[0m 3s/step - deviation_mae: 3.6201 - loss: 68.4507 - mean_mae: 0.0953 - val_deviation_mae: 3.4323 - val_loss: 72.5193 - val_mean_mae: 0.1007\n",
      "Epoch 110/800\n",
      "\u001b[1m5/5\u001b[0m \u001b[32m━━━━━━━━━━━━━━━━━━━━\u001b[0m\u001b[37m\u001b[0m \u001b[1m15s\u001b[0m 3s/step - deviation_mae: 3.8082 - loss: 70.4684 - mean_mae: 0.0961 - val_deviation_mae: 3.2525 - val_loss: 73.0280 - val_mean_mae: 0.0983\n",
      "Epoch 111/800\n",
      "\u001b[1m5/5\u001b[0m \u001b[32m━━━━━━━━━━━━━━━━━━━━\u001b[0m\u001b[37m\u001b[0m \u001b[1m15s\u001b[0m 3s/step - deviation_mae: 3.5124 - loss: 69.3326 - mean_mae: 0.0924 - val_deviation_mae: 3.2588 - val_loss: 71.7170 - val_mean_mae: 0.1008\n",
      "Epoch 112/800\n",
      "\u001b[1m5/5\u001b[0m \u001b[32m━━━━━━━━━━━━━━━━━━━━\u001b[0m\u001b[37m\u001b[0m \u001b[1m15s\u001b[0m 3s/step - deviation_mae: 3.4401 - loss: 63.2445 - mean_mae: 0.0876 - val_deviation_mae: 3.1520 - val_loss: 69.7967 - val_mean_mae: 0.0972\n",
      "Epoch 113/800\n",
      "\u001b[1m5/5\u001b[0m \u001b[32m━━━━━━━━━━━━━━━━━━━━\u001b[0m\u001b[37m\u001b[0m \u001b[1m15s\u001b[0m 3s/step - deviation_mae: 3.5317 - loss: 68.1631 - mean_mae: 0.0936 - val_deviation_mae: 3.1384 - val_loss: 70.4484 - val_mean_mae: 0.0966\n",
      "Epoch 114/800\n",
      "\u001b[1m5/5\u001b[0m \u001b[32m━━━━━━━━━━━━━━━━━━━━\u001b[0m\u001b[37m\u001b[0m \u001b[1m15s\u001b[0m 3s/step - deviation_mae: 3.3638 - loss: 65.2420 - mean_mae: 0.0921 - val_deviation_mae: 3.2084 - val_loss: 71.6886 - val_mean_mae: 0.1021\n",
      "Epoch 115/800\n",
      "\u001b[1m5/5\u001b[0m \u001b[32m━━━━━━━━━━━━━━━━━━━━\u001b[0m\u001b[37m\u001b[0m \u001b[1m15s\u001b[0m 3s/step - deviation_mae: 3.4372 - loss: 64.7585 - mean_mae: 0.0897 - val_deviation_mae: 3.2397 - val_loss: 69.9644 - val_mean_mae: 0.0976\n",
      "Epoch 116/800\n",
      "\u001b[1m5/5\u001b[0m \u001b[32m━━━━━━━━━━━━━━━━━━━━\u001b[0m\u001b[37m\u001b[0m \u001b[1m15s\u001b[0m 3s/step - deviation_mae: 3.6752 - loss: 64.2961 - mean_mae: 0.0894 - val_deviation_mae: 3.2868 - val_loss: 74.7010 - val_mean_mae: 0.0963\n",
      "Epoch 117/800\n",
      "\u001b[1m5/5\u001b[0m \u001b[32m━━━━━━━━━━━━━━━━━━━━\u001b[0m\u001b[37m\u001b[0m \u001b[1m15s\u001b[0m 3s/step - deviation_mae: 3.5108 - loss: 69.0162 - mean_mae: 0.0904 - val_deviation_mae: 3.2708 - val_loss: 69.3114 - val_mean_mae: 0.0977\n",
      "Epoch 118/800\n",
      "\u001b[1m5/5\u001b[0m \u001b[32m━━━━━━━━━━━━━━━━━━━━\u001b[0m\u001b[37m\u001b[0m \u001b[1m15s\u001b[0m 3s/step - deviation_mae: 3.4430 - loss: 63.4325 - mean_mae: 0.0880 - val_deviation_mae: 3.2590 - val_loss: 69.5869 - val_mean_mae: 0.0963\n",
      "Epoch 119/800\n",
      "\u001b[1m5/5\u001b[0m \u001b[32m━━━━━━━━━━━━━━━━━━━━\u001b[0m\u001b[37m\u001b[0m \u001b[1m15s\u001b[0m 3s/step - deviation_mae: 3.4504 - loss: 68.6429 - mean_mae: 0.0940 - val_deviation_mae: 3.1593 - val_loss: 68.9954 - val_mean_mae: 0.0939\n",
      "Epoch 120/800\n",
      "\u001b[1m5/5\u001b[0m \u001b[32m━━━━━━━━━━━━━━━━━━━━\u001b[0m\u001b[37m\u001b[0m \u001b[1m15s\u001b[0m 3s/step - deviation_mae: 3.3944 - loss: 61.8863 - mean_mae: 0.0851 - val_deviation_mae: 3.1959 - val_loss: 74.5289 - val_mean_mae: 0.1062\n",
      "Epoch 121/800\n",
      "\u001b[1m5/5\u001b[0m \u001b[32m━━━━━━━━━━━━━━━━━━━━\u001b[0m\u001b[37m\u001b[0m \u001b[1m15s\u001b[0m 3s/step - deviation_mae: 3.2842 - loss: 67.0107 - mean_mae: 0.0938 - val_deviation_mae: 3.1159 - val_loss: 68.0085 - val_mean_mae: 0.0953\n",
      "Epoch 122/800\n",
      "\u001b[1m5/5\u001b[0m \u001b[32m━━━━━━━━━━━━━━━━━━━━\u001b[0m\u001b[37m\u001b[0m \u001b[1m15s\u001b[0m 3s/step - deviation_mae: 3.4224 - loss: 62.8702 - mean_mae: 0.0864 - val_deviation_mae: 3.0506 - val_loss: 70.4831 - val_mean_mae: 0.0988\n",
      "Epoch 123/800\n",
      "\u001b[1m5/5\u001b[0m \u001b[32m━━━━━━━━━━━━━━━━━━━━\u001b[0m\u001b[37m\u001b[0m \u001b[1m15s\u001b[0m 3s/step - deviation_mae: 3.2539 - loss: 61.6300 - mean_mae: 0.0875 - val_deviation_mae: 2.9194 - val_loss: 68.2312 - val_mean_mae: 0.0962\n",
      "Epoch 124/800\n",
      "\u001b[1m5/5\u001b[0m \u001b[32m━━━━━━━━━━━━━━━━━━━━\u001b[0m\u001b[37m\u001b[0m \u001b[1m15s\u001b[0m 3s/step - deviation_mae: 3.1030 - loss: 65.3279 - mean_mae: 0.0908 - val_deviation_mae: 2.9106 - val_loss: 71.7143 - val_mean_mae: 0.1051\n",
      "Epoch 125/800\n",
      "\u001b[1m5/5\u001b[0m \u001b[32m━━━━━━━━━━━━━━━━━━━━\u001b[0m\u001b[37m\u001b[0m \u001b[1m15s\u001b[0m 3s/step - deviation_mae: 3.0877 - loss: 64.7545 - mean_mae: 0.0922 - val_deviation_mae: 2.7877 - val_loss: 68.0083 - val_mean_mae: 0.0966\n",
      "Epoch 126/800\n",
      "\u001b[1m5/5\u001b[0m \u001b[32m━━━━━━━━━━━━━━━━━━━━\u001b[0m\u001b[37m\u001b[0m \u001b[1m15s\u001b[0m 3s/step - deviation_mae: 2.9873 - loss: 63.0419 - mean_mae: 0.0902 - val_deviation_mae: 2.6934 - val_loss: 65.6463 - val_mean_mae: 0.0922\n",
      "Epoch 127/800\n",
      "\u001b[1m5/5\u001b[0m \u001b[32m━━━━━━━━━━━━━━━━━━━━\u001b[0m\u001b[37m\u001b[0m \u001b[1m15s\u001b[0m 3s/step - deviation_mae: 2.9792 - loss: 61.1665 - mean_mae: 0.0855 - val_deviation_mae: 2.6806 - val_loss: 65.5170 - val_mean_mae: 0.0933\n",
      "Epoch 128/800\n",
      "\u001b[1m5/5\u001b[0m \u001b[32m━━━━━━━━━━━━━━━━━━━━\u001b[0m\u001b[37m\u001b[0m \u001b[1m15s\u001b[0m 3s/step - deviation_mae: 3.0217 - loss: 62.1141 - mean_mae: 0.0878 - val_deviation_mae: 2.7365 - val_loss: 72.3440 - val_mean_mae: 0.0945\n",
      "Epoch 129/800\n",
      "\u001b[1m5/5\u001b[0m \u001b[32m━━━━━━━━━━━━━━━━━━━━\u001b[0m\u001b[37m\u001b[0m \u001b[1m15s\u001b[0m 3s/step - deviation_mae: 2.9714 - loss: 63.4433 - mean_mae: 0.0827 - val_deviation_mae: 2.8239 - val_loss: 75.0082 - val_mean_mae: 0.1039\n",
      "Epoch 130/800\n",
      "\u001b[1m5/5\u001b[0m \u001b[32m━━━━━━━━━━━━━━━━━━━━\u001b[0m\u001b[37m\u001b[0m \u001b[1m15s\u001b[0m 3s/step - deviation_mae: 3.0388 - loss: 68.6020 - mean_mae: 0.0926 - val_deviation_mae: 2.6352 - val_loss: 70.4530 - val_mean_mae: 0.0958\n",
      "Epoch 131/800\n",
      "\u001b[1m5/5\u001b[0m \u001b[32m━━━━━━━━━━━━━━━━━━━━\u001b[0m\u001b[37m\u001b[0m \u001b[1m15s\u001b[0m 3s/step - deviation_mae: 2.9601 - loss: 72.8616 - mean_mae: 0.0968 - val_deviation_mae: 2.5443 - val_loss: 65.0521 - val_mean_mae: 0.0900\n",
      "Epoch 132/800\n",
      "\u001b[1m5/5\u001b[0m \u001b[32m━━━━━━━━━━━━━━━━━━━━\u001b[0m\u001b[37m\u001b[0m \u001b[1m15s\u001b[0m 3s/step - deviation_mae: 2.8843 - loss: 60.9289 - mean_mae: 0.0853 - val_deviation_mae: 2.7848 - val_loss: 69.9342 - val_mean_mae: 0.0941\n",
      "Epoch 133/800\n",
      "\u001b[1m5/5\u001b[0m \u001b[32m━━━━━━━━━━━━━━━━━━━━\u001b[0m\u001b[37m\u001b[0m \u001b[1m15s\u001b[0m 3s/step - deviation_mae: 3.1222 - loss: 63.6530 - mean_mae: 0.0862 - val_deviation_mae: 3.1905 - val_loss: 94.5303 - val_mean_mae: 0.1124\n",
      "Epoch 134/800\n",
      "\u001b[1m5/5\u001b[0m \u001b[32m━━━━━━━━━━━━━━━━━━━━\u001b[0m\u001b[37m\u001b[0m \u001b[1m15s\u001b[0m 3s/step - deviation_mae: 3.2699 - loss: 77.2940 - mean_mae: 0.0973 - val_deviation_mae: 3.1635 - val_loss: 75.0190 - val_mean_mae: 0.0945\n",
      "Epoch 135/800\n",
      "\u001b[1m5/5\u001b[0m \u001b[32m━━━━━━━━━━━━━━━━━━━━\u001b[0m\u001b[37m\u001b[0m \u001b[1m15s\u001b[0m 3s/step - deviation_mae: 3.4729 - loss: 68.8852 - mean_mae: 0.0906 - val_deviation_mae: 3.4309 - val_loss: 70.6972 - val_mean_mae: 0.0926\n",
      "Epoch 136/800\n",
      "\u001b[1m5/5\u001b[0m \u001b[32m━━━━━━━━━━━━━━━━━━━━\u001b[0m\u001b[37m\u001b[0m \u001b[1m15s\u001b[0m 3s/step - deviation_mae: 3.8039 - loss: 74.6075 - mean_mae: 0.0917 - val_deviation_mae: 4.2759 - val_loss: 114.3736 - val_mean_mae: 0.1270\n",
      "Epoch 137/800\n",
      "\u001b[1m5/5\u001b[0m \u001b[32m━━━━━━━━━━━━━━━━━━━━\u001b[0m\u001b[37m\u001b[0m \u001b[1m15s\u001b[0m 3s/step - deviation_mae: 4.5506 - loss: 92.8226 - mean_mae: 0.1098 - val_deviation_mae: 4.8764 - val_loss: 91.0586 - val_mean_mae: 0.1054\n",
      "Epoch 138/800\n",
      "\u001b[1m5/5\u001b[0m \u001b[32m━━━━━━━━━━━━━━━━━━━━\u001b[0m\u001b[37m\u001b[0m \u001b[1m15s\u001b[0m 3s/step - deviation_mae: 5.1510 - loss: 70.0001 - mean_mae: 0.0864 - val_deviation_mae: 5.2942 - val_loss: 68.1516 - val_mean_mae: 0.0965\n",
      "Epoch 139/800\n",
      "\u001b[1m5/5\u001b[0m \u001b[32m━━━━━━━━━━━━━━━━━━━━\u001b[0m\u001b[37m\u001b[0m \u001b[1m15s\u001b[0m 3s/step - deviation_mae: 5.6275 - loss: 74.4868 - mean_mae: 0.0940 - val_deviation_mae: 5.5741 - val_loss: 74.2135 - val_mean_mae: 0.0984\n",
      "Epoch 140/800\n",
      "\u001b[1m5/5\u001b[0m \u001b[32m━━━━━━━━━━━━━━━━━━━━\u001b[0m\u001b[37m\u001b[0m \u001b[1m15s\u001b[0m 3s/step - deviation_mae: 5.8183 - loss: 79.5418 - mean_mae: 0.1022 - val_deviation_mae: 5.7905 - val_loss: 89.9263 - val_mean_mae: 0.1048\n",
      "Epoch 141/800\n",
      "\u001b[1m5/5\u001b[0m \u001b[32m━━━━━━━━━━━━━━━━━━━━\u001b[0m\u001b[37m\u001b[0m \u001b[1m15s\u001b[0m 3s/step - deviation_mae: 5.8909 - loss: 85.1768 - mean_mae: 0.1009 - val_deviation_mae: 5.6346 - val_loss: 82.2230 - val_mean_mae: 0.1078\n",
      "Epoch 142/800\n",
      "\u001b[1m5/5\u001b[0m \u001b[32m━━━━━━━━━━━━━━━━━━━━\u001b[0m\u001b[37m\u001b[0m \u001b[1m15s\u001b[0m 3s/step - deviation_mae: 5.6776 - loss: 72.7249 - mean_mae: 0.0977 - val_deviation_mae: 5.0442 - val_loss: 73.3816 - val_mean_mae: 0.0936\n",
      "Epoch 143/800\n",
      "\u001b[1m5/5\u001b[0m \u001b[32m━━━━━━━━━━━━━━━━━━━━\u001b[0m\u001b[37m\u001b[0m \u001b[1m15s\u001b[0m 3s/step - deviation_mae: 5.0635 - loss: 66.3992 - mean_mae: 0.0854 - val_deviation_mae: 4.4458 - val_loss: 65.1634 - val_mean_mae: 0.0937\n",
      "Epoch 144/800\n",
      "\u001b[1m5/5\u001b[0m \u001b[32m━━━━━━━━━━━━━━━━━━━━\u001b[0m\u001b[37m\u001b[0m \u001b[1m15s\u001b[0m 3s/step - deviation_mae: 4.4875 - loss: 57.8877 - mean_mae: 0.0799 - val_deviation_mae: 3.7598 - val_loss: 63.3698 - val_mean_mae: 0.0883\n",
      "Epoch 145/800\n",
      "\u001b[1m5/5\u001b[0m \u001b[32m━━━━━━━━━━━━━━━━━━━━\u001b[0m\u001b[37m\u001b[0m \u001b[1m15s\u001b[0m 3s/step - deviation_mae: 3.8627 - loss: 56.0406 - mean_mae: 0.0762 - val_deviation_mae: 3.4252 - val_loss: 65.5644 - val_mean_mae: 0.0924\n",
      "Epoch 146/800\n",
      "\u001b[1m5/5\u001b[0m \u001b[32m━━━━━━━━━━━━━━━━━━━━\u001b[0m\u001b[37m\u001b[0m \u001b[1m15s\u001b[0m 3s/step - deviation_mae: 3.5882 - loss: 60.4180 - mean_mae: 0.0849 - val_deviation_mae: 3.1783 - val_loss: 71.2597 - val_mean_mae: 0.0919\n",
      "Epoch 147/800\n",
      "\u001b[1m5/5\u001b[0m \u001b[32m━━━━━━━━━━━━━━━━━━━━\u001b[0m\u001b[37m\u001b[0m \u001b[1m15s\u001b[0m 3s/step - deviation_mae: 3.3425 - loss: 66.6838 - mean_mae: 0.0852 - val_deviation_mae: 3.3459 - val_loss: 76.7972 - val_mean_mae: 0.0995\n",
      "Epoch 148/800\n",
      "\u001b[1m5/5\u001b[0m \u001b[32m━━━━━━━━━━━━━━━━━━━━\u001b[0m\u001b[37m\u001b[0m \u001b[1m15s\u001b[0m 3s/step - deviation_mae: 3.4898 - loss: 66.2525 - mean_mae: 0.0899 - val_deviation_mae: 3.0204 - val_loss: 72.6772 - val_mean_mae: 0.0928\n",
      "Epoch 149/800\n",
      "\u001b[1m5/5\u001b[0m \u001b[32m━━━━━━━━━━━━━━━━━━━━\u001b[0m\u001b[37m\u001b[0m \u001b[1m15s\u001b[0m 3s/step - deviation_mae: 3.2686 - loss: 63.5863 - mean_mae: 0.0851 - val_deviation_mae: 3.0848 - val_loss: 68.2681 - val_mean_mae: 0.0938\n",
      "Epoch 150/800\n",
      "\u001b[1m5/5\u001b[0m \u001b[32m━━━━━━━━━━━━━━━━━━━━\u001b[0m\u001b[37m\u001b[0m \u001b[1m15s\u001b[0m 3s/step - deviation_mae: 3.3529 - loss: 63.6349 - mean_mae: 0.0897 - val_deviation_mae: 2.8938 - val_loss: 62.5671 - val_mean_mae: 0.0869\n",
      "Epoch 151/800\n",
      "\u001b[1m5/5\u001b[0m \u001b[32m━━━━━━━━━━━━━━━━━━━━\u001b[0m\u001b[37m\u001b[0m \u001b[1m15s\u001b[0m 3s/step - deviation_mae: 3.1830 - loss: 59.2694 - mean_mae: 0.0821 - val_deviation_mae: 2.8913 - val_loss: 62.2139 - val_mean_mae: 0.0881\n",
      "Epoch 152/800\n",
      "\u001b[1m5/5\u001b[0m \u001b[32m━━━━━━━━━━━━━━━━━━━━\u001b[0m\u001b[37m\u001b[0m \u001b[1m15s\u001b[0m 3s/step - deviation_mae: 3.1074 - loss: 58.0874 - mean_mae: 0.0809 - val_deviation_mae: 2.8054 - val_loss: 61.8212 - val_mean_mae: 0.0881\n",
      "Epoch 153/800\n",
      "\u001b[1m5/5\u001b[0m \u001b[32m━━━━━━━━━━━━━━━━━━━━\u001b[0m\u001b[37m\u001b[0m \u001b[1m15s\u001b[0m 3s/step - deviation_mae: 2.9591 - loss: 55.2477 - mean_mae: 0.0792 - val_deviation_mae: 2.8136 - val_loss: 63.0268 - val_mean_mae: 0.0887\n",
      "Epoch 154/800\n",
      "\u001b[1m5/5\u001b[0m \u001b[32m━━━━━━━━━━━━━━━━━━━━\u001b[0m\u001b[37m\u001b[0m \u001b[1m15s\u001b[0m 3s/step - deviation_mae: 3.0384 - loss: 56.4063 - mean_mae: 0.0782 - val_deviation_mae: 2.8542 - val_loss: 61.5176 - val_mean_mae: 0.0890\n",
      "Epoch 155/800\n",
      "\u001b[1m5/5\u001b[0m \u001b[32m━━━━━━━━━━━━━━━━━━━━\u001b[0m\u001b[37m\u001b[0m \u001b[1m15s\u001b[0m 3s/step - deviation_mae: 3.1539 - loss: 55.6053 - mean_mae: 0.0794 - val_deviation_mae: 3.0363 - val_loss: 60.4431 - val_mean_mae: 0.0861\n",
      "Epoch 156/800\n",
      "\u001b[1m5/5\u001b[0m \u001b[32m━━━━━━━━━━━━━━━━━━━━\u001b[0m\u001b[37m\u001b[0m \u001b[1m15s\u001b[0m 3s/step - deviation_mae: 3.3802 - loss: 56.7169 - mean_mae: 0.0811 - val_deviation_mae: 3.2185 - val_loss: 62.0273 - val_mean_mae: 0.0848\n",
      "Epoch 157/800\n",
      "\u001b[1m5/5\u001b[0m \u001b[32m━━━━━━━━━━━━━━━━━━━━\u001b[0m\u001b[37m\u001b[0m \u001b[1m15s\u001b[0m 3s/step - deviation_mae: 3.4186 - loss: 55.3023 - mean_mae: 0.0769 - val_deviation_mae: 3.3914 - val_loss: 59.3887 - val_mean_mae: 0.0855\n",
      "Epoch 158/800\n",
      "\u001b[1m5/5\u001b[0m \u001b[32m━━━━━━━━━━━━━━━━━━━━\u001b[0m\u001b[37m\u001b[0m \u001b[1m15s\u001b[0m 3s/step - deviation_mae: 3.7483 - loss: 53.7482 - mean_mae: 0.0756 - val_deviation_mae: 3.5162 - val_loss: 59.1942 - val_mean_mae: 0.0845\n",
      "Epoch 159/800\n",
      "\u001b[1m5/5\u001b[0m \u001b[32m━━━━━━━━━━━━━━━━━━━━\u001b[0m\u001b[37m\u001b[0m \u001b[1m15s\u001b[0m 3s/step - deviation_mae: 3.7245 - loss: 55.8764 - mean_mae: 0.0799 - val_deviation_mae: 3.5242 - val_loss: 58.6099 - val_mean_mae: 0.0823\n",
      "Epoch 160/800\n",
      "\u001b[1m5/5\u001b[0m \u001b[32m━━━━━━━━━━━━━━━━━━━━\u001b[0m\u001b[37m\u001b[0m \u001b[1m15s\u001b[0m 3s/step - deviation_mae: 3.8398 - loss: 52.6594 - mean_mae: 0.0722 - val_deviation_mae: 3.5727 - val_loss: 63.1727 - val_mean_mae: 0.0954\n",
      "Epoch 161/800\n",
      "\u001b[1m5/5\u001b[0m \u001b[32m━━━━━━━━━━━━━━━━━━━━\u001b[0m\u001b[37m\u001b[0m \u001b[1m15s\u001b[0m 3s/step - deviation_mae: 3.7218 - loss: 57.1592 - mean_mae: 0.0841 - val_deviation_mae: 3.3635 - val_loss: 58.1949 - val_mean_mae: 0.0852\n",
      "Epoch 162/800\n",
      "\u001b[1m5/5\u001b[0m \u001b[32m━━━━━━━━━━━━━━━━━━━━\u001b[0m\u001b[37m\u001b[0m \u001b[1m15s\u001b[0m 3s/step - deviation_mae: 3.6794 - loss: 57.1072 - mean_mae: 0.0820 - val_deviation_mae: 3.3092 - val_loss: 71.3192 - val_mean_mae: 0.1099\n",
      "Epoch 163/800\n",
      "\u001b[1m5/5\u001b[0m \u001b[32m━━━━━━━━━━━━━━━━━━━━\u001b[0m\u001b[37m\u001b[0m \u001b[1m15s\u001b[0m 3s/step - deviation_mae: 3.4383 - loss: 64.6105 - mean_mae: 0.0967 - val_deviation_mae: 2.7962 - val_loss: 60.4382 - val_mean_mae: 0.0839\n",
      "Epoch 164/800\n",
      "\u001b[1m5/5\u001b[0m \u001b[32m━━━━━━━━━━━━━━━━━━━━\u001b[0m\u001b[37m\u001b[0m \u001b[1m15s\u001b[0m 3s/step - deviation_mae: 2.9113 - loss: 56.4246 - mean_mae: 0.0803 - val_deviation_mae: 2.8284 - val_loss: 65.1693 - val_mean_mae: 0.0982\n",
      "Epoch 165/800\n",
      "\u001b[1m5/5\u001b[0m \u001b[32m━━━━━━━━━━━━━━━━━━━━\u001b[0m\u001b[37m\u001b[0m \u001b[1m15s\u001b[0m 3s/step - deviation_mae: 2.9685 - loss: 58.2016 - mean_mae: 0.0854 - val_deviation_mae: 2.7704 - val_loss: 60.3762 - val_mean_mae: 0.0858\n",
      "Epoch 166/800\n",
      "\u001b[1m5/5\u001b[0m \u001b[32m━━━━━━━━━━━━━━━━━━━━\u001b[0m\u001b[37m\u001b[0m \u001b[1m15s\u001b[0m 3s/step - deviation_mae: 3.0507 - loss: 53.7398 - mean_mae: 0.0781 - val_deviation_mae: 2.7286 - val_loss: 56.8404 - val_mean_mae: 0.0820\n",
      "Epoch 167/800\n",
      "\u001b[1m5/5\u001b[0m \u001b[32m━━━━━━━━━━━━━━━━━━━━\u001b[0m\u001b[37m\u001b[0m \u001b[1m15s\u001b[0m 3s/step - deviation_mae: 3.0565 - loss: 54.4172 - mean_mae: 0.0749 - val_deviation_mae: 2.6742 - val_loss: 57.5708 - val_mean_mae: 0.0826\n",
      "Epoch 168/800\n",
      "\u001b[1m5/5\u001b[0m \u001b[32m━━━━━━━━━━━━━━━━━━━━\u001b[0m\u001b[37m\u001b[0m \u001b[1m15s\u001b[0m 3s/step - deviation_mae: 2.8572 - loss: 54.1250 - mean_mae: 0.0769 - val_deviation_mae: 2.6131 - val_loss: 57.8929 - val_mean_mae: 0.0849\n",
      "Epoch 169/800\n",
      "\u001b[1m5/5\u001b[0m \u001b[32m━━━━━━━━━━━━━━━━━━━━\u001b[0m\u001b[37m\u001b[0m \u001b[1m15s\u001b[0m 3s/step - deviation_mae: 2.8319 - loss: 55.0608 - mean_mae: 0.0791 - val_deviation_mae: 2.6000 - val_loss: 61.0073 - val_mean_mae: 0.0851\n",
      "Epoch 170/800\n",
      "\u001b[1m5/5\u001b[0m \u001b[32m━━━━━━━━━━━━━━━━━━━━\u001b[0m\u001b[37m\u001b[0m \u001b[1m15s\u001b[0m 3s/step - deviation_mae: 2.8556 - loss: 53.7636 - mean_mae: 0.0754 - val_deviation_mae: 2.5116 - val_loss: 55.8596 - val_mean_mae: 0.0802\n",
      "Epoch 171/800\n",
      "\u001b[1m5/5\u001b[0m \u001b[32m━━━━━━━━━━━━━━━━━━━━\u001b[0m\u001b[37m\u001b[0m \u001b[1m15s\u001b[0m 3s/step - deviation_mae: 2.7578 - loss: 50.5024 - mean_mae: 0.0714 - val_deviation_mae: 2.5527 - val_loss: 55.0671 - val_mean_mae: 0.0793\n",
      "Epoch 172/800\n",
      "\u001b[1m5/5\u001b[0m \u001b[32m━━━━━━━━━━━━━━━━━━━━\u001b[0m\u001b[37m\u001b[0m \u001b[1m15s\u001b[0m 3s/step - deviation_mae: 2.8550 - loss: 50.3097 - mean_mae: 0.0706 - val_deviation_mae: 2.8356 - val_loss: 73.5051 - val_mean_mae: 0.0968\n",
      "Epoch 173/800\n",
      "\u001b[1m5/5\u001b[0m \u001b[32m━━━━━━━━━━━━━━━━━━━━\u001b[0m\u001b[37m\u001b[0m \u001b[1m15s\u001b[0m 3s/step - deviation_mae: 3.0792 - loss: 63.1544 - mean_mae: 0.0840 - val_deviation_mae: 2.5609 - val_loss: 61.0892 - val_mean_mae: 0.0843\n",
      "Epoch 174/800\n",
      "\u001b[1m5/5\u001b[0m \u001b[32m━━━━━━━━━━━━━━━━━━━━\u001b[0m\u001b[37m\u001b[0m \u001b[1m15s\u001b[0m 3s/step - deviation_mae: 2.6632 - loss: 53.3265 - mean_mae: 0.0716 - val_deviation_mae: 2.4730 - val_loss: 54.2938 - val_mean_mae: 0.0781\n",
      "Epoch 175/800\n",
      "\u001b[1m5/5\u001b[0m \u001b[32m━━━━━━━━━━━━━━━━━━━━\u001b[0m\u001b[37m\u001b[0m \u001b[1m15s\u001b[0m 3s/step - deviation_mae: 2.7215 - loss: 57.3741 - mean_mae: 0.0819 - val_deviation_mae: 2.7517 - val_loss: 66.2567 - val_mean_mae: 0.0866\n",
      "Epoch 176/800\n",
      "\u001b[1m5/5\u001b[0m \u001b[32m━━━━━━━━━━━━━━━━━━━━\u001b[0m\u001b[37m\u001b[0m \u001b[1m15s\u001b[0m 3s/step - deviation_mae: 3.0282 - loss: 59.8362 - mean_mae: 0.0782 - val_deviation_mae: 2.9089 - val_loss: 74.1985 - val_mean_mae: 0.0974\n",
      "Epoch 177/800\n",
      "\u001b[1m5/5\u001b[0m \u001b[32m━━━━━━━━━━━━━━━━━━━━\u001b[0m\u001b[37m\u001b[0m \u001b[1m15s\u001b[0m 3s/step - deviation_mae: 3.1652 - loss: 61.9352 - mean_mae: 0.0868 - val_deviation_mae: 3.1707 - val_loss: 71.7128 - val_mean_mae: 0.0904\n",
      "Epoch 178/800\n",
      "\u001b[1m5/5\u001b[0m \u001b[32m━━━━━━━━━━━━━━━━━━━━\u001b[0m\u001b[37m\u001b[0m \u001b[1m15s\u001b[0m 3s/step - deviation_mae: 3.2783 - loss: 58.5435 - mean_mae: 0.0787 - val_deviation_mae: 3.1149 - val_loss: 61.7149 - val_mean_mae: 0.0849\n",
      "Epoch 179/800\n",
      "\u001b[1m5/5\u001b[0m \u001b[32m━━━━━━━━━━━━━━━━━━━━\u001b[0m\u001b[37m\u001b[0m \u001b[1m15s\u001b[0m 3s/step - deviation_mae: 3.4417 - loss: 54.2579 - mean_mae: 0.0735 - val_deviation_mae: 3.0514 - val_loss: 53.6323 - val_mean_mae: 0.0767\n",
      "Epoch 180/800\n",
      "\u001b[1m5/5\u001b[0m \u001b[32m━━━━━━━━━━━━━━━━━━━━\u001b[0m\u001b[37m\u001b[0m \u001b[1m15s\u001b[0m 3s/step - deviation_mae: 3.2580 - loss: 54.4707 - mean_mae: 0.0761 - val_deviation_mae: 3.0531 - val_loss: 61.2342 - val_mean_mae: 0.0824\n",
      "Epoch 181/800\n",
      "\u001b[1m5/5\u001b[0m \u001b[32m━━━━━━━━━━━━━━━━━━━━\u001b[0m\u001b[37m\u001b[0m \u001b[1m15s\u001b[0m 3s/step - deviation_mae: 3.2218 - loss: 55.7541 - mean_mae: 0.0731 - val_deviation_mae: 2.9095 - val_loss: 60.8552 - val_mean_mae: 0.0838\n",
      "Epoch 182/800\n",
      "\u001b[1m5/5\u001b[0m \u001b[32m━━━━━━━━━━━━━━━━━━━━\u001b[0m\u001b[37m\u001b[0m \u001b[1m15s\u001b[0m 3s/step - deviation_mae: 3.1937 - loss: 53.8502 - mean_mae: 0.0745 - val_deviation_mae: 2.7824 - val_loss: 55.6145 - val_mean_mae: 0.0769\n",
      "Epoch 183/800\n",
      "\u001b[1m5/5\u001b[0m \u001b[32m━━━━━━━━━━━━━━━━━━━━\u001b[0m\u001b[37m\u001b[0m \u001b[1m15s\u001b[0m 3s/step - deviation_mae: 2.9628 - loss: 50.7727 - mean_mae: 0.0697 - val_deviation_mae: 2.6253 - val_loss: 55.3974 - val_mean_mae: 0.0819\n",
      "Epoch 184/800\n",
      "\u001b[1m5/5\u001b[0m \u001b[32m━━━━━━━━━━━━━━━━━━━━\u001b[0m\u001b[37m\u001b[0m \u001b[1m15s\u001b[0m 3s/step - deviation_mae: 2.8538 - loss: 49.3163 - mean_mae: 0.0710 - val_deviation_mae: 2.4812 - val_loss: 52.3449 - val_mean_mae: 0.0751\n",
      "Epoch 185/800\n",
      "\u001b[1m5/5\u001b[0m \u001b[32m━━━━━━━━━━━━━━━━━━━━\u001b[0m\u001b[37m\u001b[0m \u001b[1m15s\u001b[0m 3s/step - deviation_mae: 2.7475 - loss: 48.4206 - mean_mae: 0.0684 - val_deviation_mae: 2.5296 - val_loss: 52.2626 - val_mean_mae: 0.0746\n",
      "Epoch 186/800\n",
      "\u001b[1m5/5\u001b[0m \u001b[32m━━━━━━━━━━━━━━━━━━━━\u001b[0m\u001b[37m\u001b[0m \u001b[1m15s\u001b[0m 3s/step - deviation_mae: 2.7839 - loss: 49.4946 - mean_mae: 0.0703 - val_deviation_mae: 2.7378 - val_loss: 56.2745 - val_mean_mae: 0.0852\n",
      "Epoch 187/800\n",
      "\u001b[1m5/5\u001b[0m \u001b[32m━━━━━━━━━━━━━━━━━━━━\u001b[0m\u001b[37m\u001b[0m \u001b[1m15s\u001b[0m 3s/step - deviation_mae: 2.9195 - loss: 50.9814 - mean_mae: 0.0744 - val_deviation_mae: 2.7876 - val_loss: 51.9970 - val_mean_mae: 0.0742\n",
      "Epoch 188/800\n",
      "\u001b[1m5/5\u001b[0m \u001b[32m━━━━━━━━━━━━━━━━━━━━\u001b[0m\u001b[37m\u001b[0m \u001b[1m15s\u001b[0m 3s/step - deviation_mae: 3.0565 - loss: 49.4571 - mean_mae: 0.0704 - val_deviation_mae: 2.8877 - val_loss: 55.8704 - val_mean_mae: 0.0840\n",
      "Epoch 189/800\n",
      "\u001b[1m5/5\u001b[0m \u001b[32m━━━━━━━━━━━━━━━━━━━━\u001b[0m\u001b[37m\u001b[0m \u001b[1m15s\u001b[0m 3s/step - deviation_mae: 3.1959 - loss: 51.1796 - mean_mae: 0.0756 - val_deviation_mae: 2.7437 - val_loss: 50.3223 - val_mean_mae: 0.0725\n",
      "Epoch 190/800\n",
      "\u001b[1m5/5\u001b[0m \u001b[32m━━━━━━━━━━━━━━━━━━━━\u001b[0m\u001b[37m\u001b[0m \u001b[1m15s\u001b[0m 3s/step - deviation_mae: 3.0113 - loss: 47.0726 - mean_mae: 0.0666 - val_deviation_mae: 2.7189 - val_loss: 53.2801 - val_mean_mae: 0.0780\n",
      "Epoch 191/800\n",
      "\u001b[1m5/5\u001b[0m \u001b[32m━━━━━━━━━━━━━━━━━━━━\u001b[0m\u001b[37m\u001b[0m \u001b[1m15s\u001b[0m 3s/step - deviation_mae: 3.0752 - loss: 49.4193 - mean_mae: 0.0705 - val_deviation_mae: 2.7597 - val_loss: 53.6014 - val_mean_mae: 0.0736\n",
      "Epoch 192/800\n",
      "\u001b[1m5/5\u001b[0m \u001b[32m━━━━━━━━━━━━━━━━━━━━\u001b[0m\u001b[37m\u001b[0m \u001b[1m15s\u001b[0m 3s/step - deviation_mae: 3.0194 - loss: 46.9089 - mean_mae: 0.0648 - val_deviation_mae: 2.7353 - val_loss: 50.2221 - val_mean_mae: 0.0721\n",
      "Epoch 193/800\n",
      "\u001b[1m5/5\u001b[0m \u001b[32m━━━━━━━━━━━━━━━━━━━━\u001b[0m\u001b[37m\u001b[0m \u001b[1m15s\u001b[0m 3s/step - deviation_mae: 3.0746 - loss: 45.1132 - mean_mae: 0.0613 - val_deviation_mae: 2.8329 - val_loss: 50.9664 - val_mean_mae: 0.0742\n",
      "Epoch 194/800\n",
      "\u001b[1m5/5\u001b[0m \u001b[32m━━━━━━━━━━━━━━━━━━━━\u001b[0m\u001b[37m\u001b[0m \u001b[1m15s\u001b[0m 3s/step - deviation_mae: 3.0153 - loss: 46.2345 - mean_mae: 0.0640 - val_deviation_mae: 2.9930 - val_loss: 55.2711 - val_mean_mae: 0.0744\n",
      "Epoch 195/800\n",
      "\u001b[1m5/5\u001b[0m \u001b[32m━━━━━━━━━━━━━━━━━━━━\u001b[0m\u001b[37m\u001b[0m \u001b[1m15s\u001b[0m 3s/step - deviation_mae: 3.2519 - loss: 47.5615 - mean_mae: 0.0633 - val_deviation_mae: 2.9498 - val_loss: 54.1910 - val_mean_mae: 0.0773\n",
      "Epoch 196/800\n",
      "\u001b[1m5/5\u001b[0m \u001b[32m━━━━━━━━━━━━━━━━━━━━\u001b[0m\u001b[37m\u001b[0m \u001b[1m15s\u001b[0m 3s/step - deviation_mae: 3.2765 - loss: 48.0205 - mean_mae: 0.0669 - val_deviation_mae: 3.0054 - val_loss: 73.4494 - val_mean_mae: 0.0997\n",
      "Epoch 197/800\n",
      "\u001b[1m5/5\u001b[0m \u001b[32m━━━━━━━━━━━━━━━━━━━━\u001b[0m\u001b[37m\u001b[0m \u001b[1m15s\u001b[0m 3s/step - deviation_mae: 3.1461 - loss: 68.6152 - mean_mae: 0.0953 - val_deviation_mae: 3.2100 - val_loss: 74.0839 - val_mean_mae: 0.0961\n",
      "Epoch 198/800\n",
      "\u001b[1m5/5\u001b[0m \u001b[32m━━━━━━━━━━━━━━━━━━━━\u001b[0m\u001b[37m\u001b[0m \u001b[1m15s\u001b[0m 3s/step - deviation_mae: 3.5676 - loss: 60.5168 - mean_mae: 0.0867 - val_deviation_mae: 4.4573 - val_loss: 60.9890 - val_mean_mae: 0.0952\n",
      "Epoch 199/800\n",
      "\u001b[1m5/5\u001b[0m \u001b[32m━━━━━━━━━━━━━━━━━━━━\u001b[0m\u001b[37m\u001b[0m \u001b[1m15s\u001b[0m 3s/step - deviation_mae: 5.1348 - loss: 56.8925 - mean_mae: 0.0816 - val_deviation_mae: 6.2245 - val_loss: 52.8048 - val_mean_mae: 0.0770\n",
      "Epoch 200/800\n",
      "\u001b[1m4/5\u001b[0m \u001b[32m━━━━━━━━━━━━━━━━\u001b[0m\u001b[37m━━━━\u001b[0m \u001b[1m1s\u001b[0m 2s/step - deviation_mae: 6.3850 - loss: 49.2192 - mean_mae: 0.0718\n",
      "Epoch 200: saving model to C:/Users/uic33116/Documents/documents/ariel-data-challenge-2024/training_full_model/model-200.weights.h5\n",
      "\u001b[1m5/5\u001b[0m \u001b[32m━━━━━━━━━━━━━━━━━━━━\u001b[0m\u001b[37m\u001b[0m \u001b[1m19s\u001b[0m 4s/step - deviation_mae: 6.4219 - loss: 49.9458 - mean_mae: 0.0728 - val_deviation_mae: 6.5994 - val_loss: 50.8902 - val_mean_mae: 0.0721\n",
      "Epoch 201/800\n",
      "\u001b[1m5/5\u001b[0m \u001b[32m━━━━━━━━━━━━━━━━━━━━\u001b[0m\u001b[37m\u001b[0m \u001b[1m15s\u001b[0m 3s/step - deviation_mae: 6.8772 - loss: 49.0060 - mean_mae: 0.0694 - val_deviation_mae: 6.2098 - val_loss: 55.4438 - val_mean_mae: 0.0791\n",
      "Epoch 202/800\n",
      "\u001b[1m5/5\u001b[0m \u001b[32m━━━━━━━━━━━━━━━━━━━━\u001b[0m\u001b[37m\u001b[0m \u001b[1m15s\u001b[0m 3s/step - deviation_mae: 6.1754 - loss: 50.0344 - mean_mae: 0.0705 - val_deviation_mae: 5.2991 - val_loss: 54.4098 - val_mean_mae: 0.0741\n",
      "Epoch 203/800\n",
      "\u001b[1m5/5\u001b[0m \u001b[32m━━━━━━━━━━━━━━━━━━━━\u001b[0m\u001b[37m\u001b[0m \u001b[1m15s\u001b[0m 3s/step - deviation_mae: 5.2145 - loss: 48.3053 - mean_mae: 0.0666 - val_deviation_mae: 4.5069 - val_loss: 56.1541 - val_mean_mae: 0.0792\n",
      "Epoch 204/800\n",
      "\u001b[1m5/5\u001b[0m \u001b[32m━━━━━━━━━━━━━━━━━━━━\u001b[0m\u001b[37m\u001b[0m \u001b[1m15s\u001b[0m 3s/step - deviation_mae: 4.6185 - loss: 47.5337 - mean_mae: 0.0666 - val_deviation_mae: 3.9754 - val_loss: 56.6099 - val_mean_mae: 0.0757\n",
      "Epoch 205/800\n",
      "\u001b[1m5/5\u001b[0m \u001b[32m━━━━━━━━━━━━━━━━━━━━\u001b[0m\u001b[37m\u001b[0m \u001b[1m15s\u001b[0m 3s/step - deviation_mae: 4.1153 - loss: 48.7293 - mean_mae: 0.0649 - val_deviation_mae: 3.8032 - val_loss: 53.6227 - val_mean_mae: 0.0754\n",
      "Epoch 206/800\n",
      "\u001b[1m5/5\u001b[0m \u001b[32m━━━━━━━━━━━━━━━━━━━━\u001b[0m\u001b[37m\u001b[0m \u001b[1m15s\u001b[0m 3s/step - deviation_mae: 4.0639 - loss: 47.0945 - mean_mae: 0.0678 - val_deviation_mae: 3.6763 - val_loss: 52.4876 - val_mean_mae: 0.0718\n",
      "Epoch 207/800\n",
      "\u001b[1m5/5\u001b[0m \u001b[32m━━━━━━━━━━━━━━━━━━━━\u001b[0m\u001b[37m\u001b[0m \u001b[1m15s\u001b[0m 3s/step - deviation_mae: 3.8217 - loss: 46.0113 - mean_mae: 0.0605 - val_deviation_mae: 3.6839 - val_loss: 53.4089 - val_mean_mae: 0.0761\n",
      "Epoch 208/800\n",
      "\u001b[1m5/5\u001b[0m \u001b[32m━━━━━━━━━━━━━━━━━━━━\u001b[0m\u001b[37m\u001b[0m \u001b[1m15s\u001b[0m 3s/step - deviation_mae: 3.8738 - loss: 46.1098 - mean_mae: 0.0650 - val_deviation_mae: 3.5516 - val_loss: 46.8613 - val_mean_mae: 0.0668\n",
      "Epoch 209/800\n",
      "\u001b[1m5/5\u001b[0m \u001b[32m━━━━━━━━━━━━━━━━━━━━\u001b[0m\u001b[37m\u001b[0m \u001b[1m15s\u001b[0m 3s/step - deviation_mae: 3.8553 - loss: 45.3038 - mean_mae: 0.0619 - val_deviation_mae: 3.4979 - val_loss: 47.8421 - val_mean_mae: 0.0667\n",
      "Epoch 210/800\n",
      "\u001b[1m5/5\u001b[0m \u001b[32m━━━━━━━━━━━━━━━━━━━━\u001b[0m\u001b[37m\u001b[0m \u001b[1m15s\u001b[0m 3s/step - deviation_mae: 3.7373 - loss: 46.1900 - mean_mae: 0.0627 - val_deviation_mae: 3.4279 - val_loss: 49.0285 - val_mean_mae: 0.0701\n",
      "Epoch 211/800\n",
      "\u001b[1m5/5\u001b[0m \u001b[32m━━━━━━━━━━━━━━━━━━━━\u001b[0m\u001b[37m\u001b[0m \u001b[1m15s\u001b[0m 3s/step - deviation_mae: 3.7086 - loss: 43.7781 - mean_mae: 0.0607 - val_deviation_mae: 3.3529 - val_loss: 46.6258 - val_mean_mae: 0.0666\n",
      "Epoch 212/800\n",
      "\u001b[1m5/5\u001b[0m \u001b[32m━━━━━━━━━━━━━━━━━━━━\u001b[0m\u001b[37m\u001b[0m \u001b[1m15s\u001b[0m 3s/step - deviation_mae: 3.5156 - loss: 42.2641 - mean_mae: 0.0578 - val_deviation_mae: 3.4375 - val_loss: 48.9087 - val_mean_mae: 0.0694\n",
      "Epoch 213/800\n",
      "\u001b[1m5/5\u001b[0m \u001b[32m━━━━━━━━━━━━━━━━━━━━\u001b[0m\u001b[37m\u001b[0m \u001b[1m15s\u001b[0m 3s/step - deviation_mae: 3.7306 - loss: 43.9478 - mean_mae: 0.0611 - val_deviation_mae: 3.4759 - val_loss: 45.0419 - val_mean_mae: 0.0636\n",
      "Epoch 214/800\n",
      "\u001b[1m5/5\u001b[0m \u001b[32m━━━━━━━━━━━━━━━━━━━━\u001b[0m\u001b[37m\u001b[0m \u001b[1m15s\u001b[0m 3s/step - deviation_mae: 3.7156 - loss: 42.8273 - mean_mae: 0.0588 - val_deviation_mae: 3.5395 - val_loss: 45.6857 - val_mean_mae: 0.0646\n",
      "Epoch 215/800\n",
      "\u001b[1m5/5\u001b[0m \u001b[32m━━━━━━━━━━━━━━━━━━━━\u001b[0m\u001b[37m\u001b[0m \u001b[1m15s\u001b[0m 3s/step - deviation_mae: 3.7734 - loss: 40.9018 - mean_mae: 0.0545 - val_deviation_mae: 3.5926 - val_loss: 44.0507 - val_mean_mae: 0.0621\n",
      "Epoch 216/800\n",
      "\u001b[1m5/5\u001b[0m \u001b[32m━━━━━━━━━━━━━━━━━━━━\u001b[0m\u001b[37m\u001b[0m \u001b[1m15s\u001b[0m 3s/step - deviation_mae: 3.9983 - loss: 41.1335 - mean_mae: 0.0548 - val_deviation_mae: 3.7318 - val_loss: 53.9445 - val_mean_mae: 0.0744\n",
      "Epoch 217/800\n",
      "\u001b[1m5/5\u001b[0m \u001b[32m━━━━━━━━━━━━━━━━━━━━\u001b[0m\u001b[37m\u001b[0m \u001b[1m15s\u001b[0m 3s/step - deviation_mae: 3.8585 - loss: 46.9321 - mean_mae: 0.0655 - val_deviation_mae: 3.4543 - val_loss: 43.5287 - val_mean_mae: 0.0612\n",
      "Epoch 218/800\n",
      "\u001b[1m5/5\u001b[0m \u001b[32m━━━━━━━━━━━━━━━━━━━━\u001b[0m\u001b[37m\u001b[0m \u001b[1m15s\u001b[0m 3s/step - deviation_mae: 3.7177 - loss: 43.6260 - mean_mae: 0.0604 - val_deviation_mae: 3.1182 - val_loss: 43.5519 - val_mean_mae: 0.0611\n",
      "Epoch 219/800\n",
      "\u001b[1m5/5\u001b[0m \u001b[32m━━━━━━━━━━━━━━━━━━━━\u001b[0m\u001b[37m\u001b[0m \u001b[1m15s\u001b[0m 3s/step - deviation_mae: 3.4020 - loss: 40.6219 - mean_mae: 0.0550 - val_deviation_mae: 3.1041 - val_loss: 48.3229 - val_mean_mae: 0.0661\n",
      "Epoch 220/800\n",
      "\u001b[1m5/5\u001b[0m \u001b[32m━━━━━━━━━━━━━━━━━━━━\u001b[0m\u001b[37m\u001b[0m \u001b[1m15s\u001b[0m 3s/step - deviation_mae: 3.2811 - loss: 43.3362 - mean_mae: 0.0585 - val_deviation_mae: 2.9932 - val_loss: 43.2912 - val_mean_mae: 0.0611\n",
      "Epoch 221/800\n",
      "\u001b[1m5/5\u001b[0m \u001b[32m━━━━━━━━━━━━━━━━━━━━\u001b[0m\u001b[37m\u001b[0m \u001b[1m15s\u001b[0m 3s/step - deviation_mae: 3.2117 - loss: 40.5251 - mean_mae: 0.0518 - val_deviation_mae: 2.9724 - val_loss: 48.3195 - val_mean_mae: 0.0685\n",
      "Epoch 222/800\n",
      "\u001b[1m5/5\u001b[0m \u001b[32m━━━━━━━━━━━━━━━━━━━━\u001b[0m\u001b[37m\u001b[0m \u001b[1m15s\u001b[0m 3s/step - deviation_mae: 3.1464 - loss: 43.0249 - mean_mae: 0.0588 - val_deviation_mae: 3.0994 - val_loss: 51.9502 - val_mean_mae: 0.0723\n",
      "Epoch 223/800\n",
      "\u001b[1m5/5\u001b[0m \u001b[32m━━━━━━━━━━━━━━━━━━━━\u001b[0m\u001b[37m\u001b[0m \u001b[1m15s\u001b[0m 3s/step - deviation_mae: 3.3590 - loss: 46.4605 - mean_mae: 0.0665 - val_deviation_mae: 2.8820 - val_loss: 46.5264 - val_mean_mae: 0.0654\n",
      "Epoch 224/800\n",
      "\u001b[1m5/5\u001b[0m \u001b[32m━━━━━━━━━━━━━━━━━━━━\u001b[0m\u001b[37m\u001b[0m \u001b[1m15s\u001b[0m 3s/step - deviation_mae: 3.1995 - loss: 42.7065 - mean_mae: 0.0589 - val_deviation_mae: 2.8641 - val_loss: 45.1209 - val_mean_mae: 0.0660\n",
      "Epoch 225/800\n",
      "\u001b[1m5/5\u001b[0m \u001b[32m━━━━━━━━━━━━━━━━━━━━\u001b[0m\u001b[37m\u001b[0m \u001b[1m15s\u001b[0m 3s/step - deviation_mae: 3.1256 - loss: 41.8114 - mean_mae: 0.0579 - val_deviation_mae: 2.9128 - val_loss: 45.6825 - val_mean_mae: 0.0614\n",
      "Epoch 226/800\n",
      "\u001b[1m5/5\u001b[0m \u001b[32m━━━━━━━━━━━━━━━━━━━━\u001b[0m\u001b[37m\u001b[0m \u001b[1m15s\u001b[0m 3s/step - deviation_mae: 3.0873 - loss: 41.7753 - mean_mae: 0.0534 - val_deviation_mae: 2.8123 - val_loss: 46.8174 - val_mean_mae: 0.0654\n",
      "Epoch 227/800\n",
      "\u001b[1m5/5\u001b[0m \u001b[32m━━━━━━━━━━━━━━━━━━━━\u001b[0m\u001b[37m\u001b[0m \u001b[1m15s\u001b[0m 3s/step - deviation_mae: 2.9376 - loss: 41.7384 - mean_mae: 0.0558 - val_deviation_mae: 2.7837 - val_loss: 41.9204 - val_mean_mae: 0.0585\n",
      "Epoch 228/800\n",
      "\u001b[1m5/5\u001b[0m \u001b[32m━━━━━━━━━━━━━━━━━━━━\u001b[0m\u001b[37m\u001b[0m \u001b[1m15s\u001b[0m 3s/step - deviation_mae: 3.0130 - loss: 39.4996 - mean_mae: 0.0532 - val_deviation_mae: 2.8219 - val_loss: 42.9364 - val_mean_mae: 0.0606\n",
      "Epoch 229/800\n",
      "\u001b[1m5/5\u001b[0m \u001b[32m━━━━━━━━━━━━━━━━━━━━\u001b[0m\u001b[37m\u001b[0m \u001b[1m15s\u001b[0m 3s/step - deviation_mae: 3.1233 - loss: 38.5268 - mean_mae: 0.0510 - val_deviation_mae: 2.8814 - val_loss: 43.3902 - val_mean_mae: 0.0600\n",
      "Epoch 230/800\n",
      "\u001b[1m5/5\u001b[0m \u001b[32m━━━━━━━━━━━━━━━━━━━━\u001b[0m\u001b[37m\u001b[0m \u001b[1m15s\u001b[0m 3s/step - deviation_mae: 3.0992 - loss: 39.2131 - mean_mae: 0.0514 - val_deviation_mae: 2.9985 - val_loss: 42.4906 - val_mean_mae: 0.0593\n",
      "Epoch 231/800\n",
      "\u001b[1m5/5\u001b[0m \u001b[32m━━━━━━━━━━━━━━━━━━━━\u001b[0m\u001b[37m\u001b[0m \u001b[1m15s\u001b[0m 3s/step - deviation_mae: 3.1754 - loss: 39.9106 - mean_mae: 0.0537 - val_deviation_mae: 3.0974 - val_loss: 41.0652 - val_mean_mae: 0.0570\n",
      "Epoch 232/800\n",
      "\u001b[1m5/5\u001b[0m \u001b[32m━━━━━━━━━━━━━━━━━━━━\u001b[0m\u001b[37m\u001b[0m \u001b[1m15s\u001b[0m 3s/step - deviation_mae: 3.3350 - loss: 39.0617 - mean_mae: 0.0525 - val_deviation_mae: 3.2150 - val_loss: 42.0691 - val_mean_mae: 0.0564\n",
      "Epoch 233/800\n",
      "\u001b[1m5/5\u001b[0m \u001b[32m━━━━━━━━━━━━━━━━━━━━\u001b[0m\u001b[37m\u001b[0m \u001b[1m15s\u001b[0m 3s/step - deviation_mae: 3.4018 - loss: 38.4883 - mean_mae: 0.0491 - val_deviation_mae: 3.2759 - val_loss: 41.0860 - val_mean_mae: 0.0564\n",
      "Epoch 234/800\n",
      "\u001b[1m5/5\u001b[0m \u001b[32m━━━━━━━━━━━━━━━━━━━━\u001b[0m\u001b[37m\u001b[0m \u001b[1m15s\u001b[0m 3s/step - deviation_mae: 3.4817 - loss: 37.9092 - mean_mae: 0.0471 - val_deviation_mae: 3.3387 - val_loss: 40.3765 - val_mean_mae: 0.0558\n",
      "Epoch 235/800\n",
      "\u001b[1m5/5\u001b[0m \u001b[32m━━━━━━━━━━━━━━━━━━━━\u001b[0m\u001b[37m\u001b[0m \u001b[1m15s\u001b[0m 3s/step - deviation_mae: 3.5235 - loss: 37.1269 - mean_mae: 0.0479 - val_deviation_mae: 3.4440 - val_loss: 40.9154 - val_mean_mae: 0.0574\n",
      "Epoch 236/800\n",
      "\u001b[1m5/5\u001b[0m \u001b[32m━━━━━━━━━━━━━━━━━━━━\u001b[0m\u001b[37m\u001b[0m \u001b[1m15s\u001b[0m 3s/step - deviation_mae: 3.6028 - loss: 38.1744 - mean_mae: 0.0504 - val_deviation_mae: 3.4984 - val_loss: 39.7632 - val_mean_mae: 0.0545\n",
      "Epoch 237/800\n",
      "\u001b[1m5/5\u001b[0m \u001b[32m━━━━━━━━━━━━━━━━━━━━\u001b[0m\u001b[37m\u001b[0m \u001b[1m15s\u001b[0m 3s/step - deviation_mae: 3.8550 - loss: 37.6934 - mean_mae: 0.0502 - val_deviation_mae: 3.7789 - val_loss: 41.6418 - val_mean_mae: 0.0570\n",
      "Epoch 238/800\n",
      "\u001b[1m5/5\u001b[0m \u001b[32m━━━━━━━━━━━━━━━━━━━━\u001b[0m\u001b[37m\u001b[0m \u001b[1m15s\u001b[0m 3s/step - deviation_mae: 3.9396 - loss: 38.8859 - mean_mae: 0.0522 - val_deviation_mae: 3.8125 - val_loss: 40.2237 - val_mean_mae: 0.0541\n",
      "Epoch 239/800\n",
      "\u001b[1m5/5\u001b[0m \u001b[32m━━━━━━━━━━━━━━━━━━━━\u001b[0m\u001b[37m\u001b[0m \u001b[1m15s\u001b[0m 3s/step - deviation_mae: 3.9698 - loss: 37.9729 - mean_mae: 0.0498 - val_deviation_mae: 3.7742 - val_loss: 43.2477 - val_mean_mae: 0.0601\n",
      "Epoch 240/800\n",
      "\u001b[1m5/5\u001b[0m \u001b[32m━━━━━━━━━━━━━━━━━━━━\u001b[0m\u001b[37m\u001b[0m \u001b[1m16s\u001b[0m 3s/step - deviation_mae: 3.8703 - loss: 40.1833 - mean_mae: 0.0551 - val_deviation_mae: 3.6316 - val_loss: 41.6931 - val_mean_mae: 0.0539\n",
      "Epoch 241/800\n",
      "\u001b[1m5/5\u001b[0m \u001b[32m━━━━━━━━━━━━━━━━━━━━\u001b[0m\u001b[37m\u001b[0m \u001b[1m17s\u001b[0m 4s/step - deviation_mae: 3.8033 - loss: 40.5029 - mean_mae: 0.0540 - val_deviation_mae: 3.4563 - val_loss: 42.5108 - val_mean_mae: 0.0609\n",
      "Epoch 242/800\n",
      "\u001b[1m5/5\u001b[0m \u001b[32m━━━━━━━━━━━━━━━━━━━━\u001b[0m\u001b[37m\u001b[0m \u001b[1m17s\u001b[0m 4s/step - deviation_mae: 3.7461 - loss: 39.4766 - mean_mae: 0.0523 - val_deviation_mae: 3.3716 - val_loss: 45.8855 - val_mean_mae: 0.0690\n",
      "Epoch 243/800\n",
      "\u001b[1m5/5\u001b[0m \u001b[32m━━━━━━━━━━━━━━━━━━━━\u001b[0m\u001b[37m\u001b[0m \u001b[1m16s\u001b[0m 4s/step - deviation_mae: 3.6593 - loss: 39.4668 - mean_mae: 0.0539 - val_deviation_mae: 3.2853 - val_loss: 38.2078 - val_mean_mae: 0.0505\n",
      "Epoch 244/800\n",
      "\u001b[1m5/5\u001b[0m \u001b[32m━━━━━━━━━━━━━━━━━━━━\u001b[0m\u001b[37m\u001b[0m \u001b[1m17s\u001b[0m 4s/step - deviation_mae: 3.4115 - loss: 36.5649 - mean_mae: 0.0465 - val_deviation_mae: 3.2392 - val_loss: 39.7899 - val_mean_mae: 0.0531\n",
      "Epoch 245/800\n",
      "\u001b[1m5/5\u001b[0m \u001b[32m━━━━━━━━━━━━━━━━━━━━\u001b[0m\u001b[37m\u001b[0m \u001b[1m16s\u001b[0m 3s/step - deviation_mae: 3.4187 - loss: 36.0313 - mean_mae: 0.0439 - val_deviation_mae: 3.1527 - val_loss: 41.4402 - val_mean_mae: 0.0558\n",
      "Epoch 246/800\n",
      "\u001b[1m5/5\u001b[0m \u001b[32m━━━━━━━━━━━━━━━━━━━━\u001b[0m\u001b[37m\u001b[0m \u001b[1m16s\u001b[0m 3s/step - deviation_mae: 3.4553 - loss: 38.1760 - mean_mae: 0.0490 - val_deviation_mae: 3.1042 - val_loss: 40.9097 - val_mean_mae: 0.0548\n",
      "Epoch 247/800\n",
      "\u001b[1m5/5\u001b[0m \u001b[32m━━━━━━━━━━━━━━━━━━━━\u001b[0m\u001b[37m\u001b[0m \u001b[1m16s\u001b[0m 4s/step - deviation_mae: 3.4141 - loss: 39.9813 - mean_mae: 0.0522 - val_deviation_mae: 3.0754 - val_loss: 37.3135 - val_mean_mae: 0.0478\n",
      "Epoch 248/800\n",
      "\u001b[1m5/5\u001b[0m \u001b[32m━━━━━━━━━━━━━━━━━━━━\u001b[0m\u001b[37m\u001b[0m \u001b[1m16s\u001b[0m 3s/step - deviation_mae: 3.4269 - loss: 38.2531 - mean_mae: 0.0494 - val_deviation_mae: 3.1644 - val_loss: 44.5345 - val_mean_mae: 0.0589\n",
      "Epoch 249/800\n",
      "\u001b[1m5/5\u001b[0m \u001b[32m━━━━━━━━━━━━━━━━━━━━\u001b[0m\u001b[37m\u001b[0m \u001b[1m16s\u001b[0m 3s/step - deviation_mae: 3.2916 - loss: 39.3546 - mean_mae: 0.0487 - val_deviation_mae: 3.1543 - val_loss: 41.9973 - val_mean_mae: 0.0573\n",
      "Epoch 250/800\n",
      "\u001b[1m5/5\u001b[0m \u001b[32m━━━━━━━━━━━━━━━━━━━━\u001b[0m\u001b[37m\u001b[0m \u001b[1m15s\u001b[0m 3s/step - deviation_mae: 3.3639 - loss: 40.0217 - mean_mae: 0.0521 - val_deviation_mae: 3.1441 - val_loss: 37.7701 - val_mean_mae: 0.0495\n",
      "Epoch 251/800\n",
      "\u001b[1m5/5\u001b[0m \u001b[32m━━━━━━━━━━━━━━━━━━━━\u001b[0m\u001b[37m\u001b[0m \u001b[1m15s\u001b[0m 3s/step - deviation_mae: 3.3409 - loss: 35.4021 - mean_mae: 0.0419 - val_deviation_mae: 3.1642 - val_loss: 40.8377 - val_mean_mae: 0.0551\n",
      "Epoch 252/800\n",
      "\u001b[1m5/5\u001b[0m \u001b[32m━━━━━━━━━━━━━━━━━━━━\u001b[0m\u001b[37m\u001b[0m \u001b[1m15s\u001b[0m 3s/step - deviation_mae: 3.4117 - loss: 36.4097 - mean_mae: 0.0455 - val_deviation_mae: 3.1522 - val_loss: 37.8162 - val_mean_mae: 0.0486\n",
      "Epoch 253/800\n",
      "\u001b[1m5/5\u001b[0m \u001b[32m━━━━━━━━━━━━━━━━━━━━\u001b[0m\u001b[37m\u001b[0m \u001b[1m15s\u001b[0m 3s/step - deviation_mae: 3.3138 - loss: 36.5840 - mean_mae: 0.0449 - val_deviation_mae: 3.1208 - val_loss: 41.7888 - val_mean_mae: 0.0535\n",
      "Epoch 254/800\n",
      "\u001b[1m5/5\u001b[0m \u001b[32m━━━━━━━━━━━━━━━━━━━━\u001b[0m\u001b[37m\u001b[0m \u001b[1m15s\u001b[0m 3s/step - deviation_mae: 3.2367 - loss: 37.1860 - mean_mae: 0.0440 - val_deviation_mae: 2.9403 - val_loss: 37.3587 - val_mean_mae: 0.0484\n",
      "Epoch 255/800\n",
      "\u001b[1m5/5\u001b[0m \u001b[32m━━━━━━━━━━━━━━━━━━━━\u001b[0m\u001b[37m\u001b[0m \u001b[1m15s\u001b[0m 3s/step - deviation_mae: 3.1790 - loss: 35.0039 - mean_mae: 0.0414 - val_deviation_mae: 2.9410 - val_loss: 39.3713 - val_mean_mae: 0.0540\n",
      "Epoch 256/800\n",
      "\u001b[1m5/5\u001b[0m \u001b[32m━━━━━━━━━━━━━━━━━━━━\u001b[0m\u001b[37m\u001b[0m \u001b[1m15s\u001b[0m 3s/step - deviation_mae: 3.2360 - loss: 35.5714 - mean_mae: 0.0435 - val_deviation_mae: 2.9347 - val_loss: 36.8362 - val_mean_mae: 0.0465\n",
      "Epoch 257/800\n",
      "\u001b[1m5/5\u001b[0m \u001b[32m━━━━━━━━━━━━━━━━━━━━\u001b[0m\u001b[37m\u001b[0m \u001b[1m16s\u001b[0m 3s/step - deviation_mae: 3.1418 - loss: 34.1670 - mean_mae: 0.0394 - val_deviation_mae: 3.0090 - val_loss: 36.3939 - val_mean_mae: 0.0454\n",
      "Epoch 258/800\n",
      "\u001b[1m5/5\u001b[0m \u001b[32m━━━━━━━━━━━━━━━━━━━━\u001b[0m\u001b[37m\u001b[0m \u001b[1m15s\u001b[0m 3s/step - deviation_mae: 3.3308 - loss: 33.4778 - mean_mae: 0.0380 - val_deviation_mae: 3.1594 - val_loss: 37.9141 - val_mean_mae: 0.0467\n",
      "Epoch 259/800\n",
      "\u001b[1m5/5\u001b[0m \u001b[32m━━━━━━━━━━━━━━━━━━━━\u001b[0m\u001b[37m\u001b[0m \u001b[1m16s\u001b[0m 3s/step - deviation_mae: 3.4206 - loss: 34.6224 - mean_mae: 0.0377 - val_deviation_mae: 3.2402 - val_loss: 38.7977 - val_mean_mae: 0.0521\n",
      "Epoch 260/800\n",
      "\u001b[1m5/5\u001b[0m \u001b[32m━━━━━━━━━━━━━━━━━━━━\u001b[0m\u001b[37m\u001b[0m \u001b[1m15s\u001b[0m 3s/step - deviation_mae: 3.4839 - loss: 34.4473 - mean_mae: 0.0412 - val_deviation_mae: 3.2893 - val_loss: 35.3792 - val_mean_mae: 0.0430\n",
      "Epoch 261/800\n",
      "\u001b[1m5/5\u001b[0m \u001b[32m━━━━━━━━━━━━━━━━━━━━\u001b[0m\u001b[37m\u001b[0m \u001b[1m15s\u001b[0m 3s/step - deviation_mae: 3.4362 - loss: 33.0482 - mean_mae: 0.0360 - val_deviation_mae: 3.3736 - val_loss: 36.7129 - val_mean_mae: 0.0468\n",
      "Epoch 262/800\n",
      "\u001b[1m5/5\u001b[0m \u001b[32m━━━━━━━━━━━━━━━━━━━━\u001b[0m\u001b[37m\u001b[0m \u001b[1m16s\u001b[0m 3s/step - deviation_mae: 3.5188 - loss: 33.7367 - mean_mae: 0.0392 - val_deviation_mae: 3.4486 - val_loss: 39.5409 - val_mean_mae: 0.0529\n",
      "Epoch 263/800\n",
      "\u001b[1m5/5\u001b[0m \u001b[32m━━━━━━━━━━━━━━━━━━━━\u001b[0m\u001b[37m\u001b[0m \u001b[1m15s\u001b[0m 3s/step - deviation_mae: 3.5736 - loss: 35.7409 - mean_mae: 0.0453 - val_deviation_mae: 3.4184 - val_loss: 36.3032 - val_mean_mae: 0.0443\n",
      "Epoch 264/800\n",
      "\u001b[1m5/5\u001b[0m \u001b[32m━━━━━━━━━━━━━━━━━━━━\u001b[0m\u001b[37m\u001b[0m \u001b[1m15s\u001b[0m 3s/step - deviation_mae: 3.6482 - loss: 33.8335 - mean_mae: 0.0385 - val_deviation_mae: 3.3452 - val_loss: 34.8062 - val_mean_mae: 0.0402\n",
      "Epoch 265/800\n",
      "\u001b[1m5/5\u001b[0m \u001b[32m━━━━━━━━━━━━━━━━━━━━\u001b[0m\u001b[37m\u001b[0m \u001b[1m16s\u001b[0m 3s/step - deviation_mae: 3.4809 - loss: 32.7820 - mean_mae: 0.0341 - val_deviation_mae: 3.3311 - val_loss: 35.3001 - val_mean_mae: 0.0429\n",
      "Epoch 266/800\n",
      "\u001b[1m5/5\u001b[0m \u001b[32m━━━━━━━━━━━━━━━━━━━━\u001b[0m\u001b[37m\u001b[0m \u001b[1m16s\u001b[0m 3s/step - deviation_mae: 3.5164 - loss: 32.4509 - mean_mae: 0.0342 - val_deviation_mae: 3.3830 - val_loss: 40.3218 - val_mean_mae: 0.0559\n",
      "Epoch 267/800\n",
      "\u001b[1m5/5\u001b[0m \u001b[32m━━━━━━━━━━━━━━━━━━━━\u001b[0m\u001b[37m\u001b[0m \u001b[1m16s\u001b[0m 3s/step - deviation_mae: 3.5813 - loss: 37.2062 - mean_mae: 0.0480 - val_deviation_mae: 3.3003 - val_loss: 34.3489 - val_mean_mae: 0.0390\n",
      "Epoch 268/800\n",
      "\u001b[1m5/5\u001b[0m \u001b[32m━━━━━━━━━━━━━━━━━━━━\u001b[0m\u001b[37m\u001b[0m \u001b[1m14s\u001b[0m 3s/step - deviation_mae: 3.3937 - loss: 33.6812 - mean_mae: 0.0374 - val_deviation_mae: 3.1849 - val_loss: 34.2460 - val_mean_mae: 0.0389\n",
      "Epoch 269/800\n",
      "\u001b[1m5/5\u001b[0m \u001b[32m━━━━━━━━━━━━━━━━━━━━\u001b[0m\u001b[37m\u001b[0m \u001b[1m14s\u001b[0m 3s/step - deviation_mae: 3.3263 - loss: 32.0759 - mean_mae: 0.0317 - val_deviation_mae: 3.1580 - val_loss: 34.1416 - val_mean_mae: 0.0386\n",
      "Epoch 270/800\n",
      "\u001b[1m5/5\u001b[0m \u001b[32m━━━━━━━━━━━━━━━━━━━━\u001b[0m\u001b[37m\u001b[0m \u001b[1m14s\u001b[0m 3s/step - deviation_mae: 3.3372 - loss: 32.4464 - mean_mae: 0.0346 - val_deviation_mae: 3.1826 - val_loss: 34.3653 - val_mean_mae: 0.0388\n",
      "Epoch 271/800\n",
      "\u001b[1m5/5\u001b[0m \u001b[32m━━━━━━━━━━━━━━━━━━━━\u001b[0m\u001b[37m\u001b[0m \u001b[1m14s\u001b[0m 3s/step - deviation_mae: 3.4094 - loss: 31.9189 - mean_mae: 0.0307 - val_deviation_mae: 3.1773 - val_loss: 34.1422 - val_mean_mae: 0.0393\n",
      "Epoch 272/800\n",
      "\u001b[1m5/5\u001b[0m \u001b[32m━━━━━━━━━━━━━━━━━━━━\u001b[0m\u001b[37m\u001b[0m \u001b[1m14s\u001b[0m 3s/step - deviation_mae: 3.3830 - loss: 32.0281 - mean_mae: 0.0325 - val_deviation_mae: 3.2245 - val_loss: 34.1424 - val_mean_mae: 0.0396\n",
      "Epoch 273/800\n",
      "\u001b[1m5/5\u001b[0m \u001b[32m━━━━━━━━━━━━━━━━━━━━\u001b[0m\u001b[37m\u001b[0m \u001b[1m14s\u001b[0m 3s/step - deviation_mae: 3.5268 - loss: 31.6435 - mean_mae: 0.0309 - val_deviation_mae: 3.3034 - val_loss: 36.3396 - val_mean_mae: 0.0459\n",
      "Epoch 274/800\n",
      "\u001b[1m5/5\u001b[0m \u001b[32m━━━━━━━━━━━━━━━━━━━━\u001b[0m\u001b[37m\u001b[0m \u001b[1m15s\u001b[0m 3s/step - deviation_mae: 3.6070 - loss: 33.1519 - mean_mae: 0.0361 - val_deviation_mae: 3.3807 - val_loss: 40.6825 - val_mean_mae: 0.0555\n",
      "Epoch 275/800\n",
      "\u001b[1m5/5\u001b[0m \u001b[32m━━━━━━━━━━━━━━━━━━━━\u001b[0m\u001b[37m\u001b[0m \u001b[1m14s\u001b[0m 3s/step - deviation_mae: 3.4986 - loss: 36.2627 - mean_mae: 0.0439 - val_deviation_mae: 3.2789 - val_loss: 37.6905 - val_mean_mae: 0.0486\n",
      "Epoch 276/800\n",
      "\u001b[1m5/5\u001b[0m \u001b[32m━━━━━━━━━━━━━━━━━━━━\u001b[0m\u001b[37m\u001b[0m \u001b[1m15s\u001b[0m 3s/step - deviation_mae: 3.5300 - loss: 33.4577 - mean_mae: 0.0369 - val_deviation_mae: 3.1821 - val_loss: 34.9305 - val_mean_mae: 0.0407\n",
      "Epoch 277/800\n",
      "\u001b[1m5/5\u001b[0m \u001b[32m━━━━━━━━━━━━━━━━━━━━\u001b[0m\u001b[37m\u001b[0m \u001b[1m14s\u001b[0m 3s/step - deviation_mae: 3.4392 - loss: 32.0530 - mean_mae: 0.0321 - val_deviation_mae: 3.1612 - val_loss: 37.0659 - val_mean_mae: 0.0478\n",
      "Epoch 278/800\n",
      "\u001b[1m5/5\u001b[0m \u001b[32m━━━━━━━━━━━━━━━━━━━━\u001b[0m\u001b[37m\u001b[0m \u001b[1m14s\u001b[0m 3s/step - deviation_mae: 3.3939 - loss: 33.8564 - mean_mae: 0.0390 - val_deviation_mae: 3.1196 - val_loss: 34.0149 - val_mean_mae: 0.0389\n",
      "Epoch 279/800\n",
      "\u001b[1m5/5\u001b[0m \u001b[32m━━━━━━━━━━━━━━━━━━━━\u001b[0m\u001b[37m\u001b[0m \u001b[1m15s\u001b[0m 3s/step - deviation_mae: 3.3481 - loss: 31.5090 - mean_mae: 0.0308 - val_deviation_mae: 3.1153 - val_loss: 33.7043 - val_mean_mae: 0.0374\n",
      "Epoch 280/800\n",
      "\u001b[1m5/5\u001b[0m \u001b[32m━━━━━━━━━━━━━━━━━━━━\u001b[0m\u001b[37m\u001b[0m \u001b[1m14s\u001b[0m 3s/step - deviation_mae: 3.2742 - loss: 31.3469 - mean_mae: 0.0300 - val_deviation_mae: 3.1205 - val_loss: 36.8260 - val_mean_mae: 0.0487\n",
      "Epoch 281/800\n",
      "\u001b[1m5/5\u001b[0m \u001b[32m━━━━━━━━━━━━━━━━━━━━\u001b[0m\u001b[37m\u001b[0m \u001b[1m14s\u001b[0m 3s/step - deviation_mae: 3.3467 - loss: 33.4719 - mean_mae: 0.0382 - val_deviation_mae: 3.1739 - val_loss: 44.7821 - val_mean_mae: 0.0705\n",
      "Epoch 282/800\n",
      "\u001b[1m5/5\u001b[0m \u001b[32m━━━━━━━━━━━━━━━━━━━━\u001b[0m\u001b[37m\u001b[0m \u001b[1m14s\u001b[0m 3s/step - deviation_mae: 3.4551 - loss: 37.7799 - mean_mae: 0.0518 - val_deviation_mae: 3.1675 - val_loss: 40.4690 - val_mean_mae: 0.0567\n",
      "Epoch 283/800\n",
      "\u001b[1m5/5\u001b[0m \u001b[32m━━━━━━━━━━━━━━━━━━━━\u001b[0m\u001b[37m\u001b[0m \u001b[1m14s\u001b[0m 3s/step - deviation_mae: 3.5033 - loss: 35.6726 - mean_mae: 0.0424 - val_deviation_mae: 3.2639 - val_loss: 41.4277 - val_mean_mae: 0.0577\n",
      "Epoch 284/800\n",
      "\u001b[1m5/5\u001b[0m \u001b[32m━━━━━━━━━━━━━━━━━━━━\u001b[0m\u001b[37m\u001b[0m \u001b[1m14s\u001b[0m 3s/step - deviation_mae: 3.5720 - loss: 36.0515 - mean_mae: 0.0454 - val_deviation_mae: 3.4666 - val_loss: 49.4141 - val_mean_mae: 0.0769\n",
      "Epoch 285/800\n",
      "\u001b[1m5/5\u001b[0m \u001b[32m━━━━━━━━━━━━━━━━━━━━\u001b[0m\u001b[37m\u001b[0m \u001b[1m14s\u001b[0m 3s/step - deviation_mae: 3.7403 - loss: 40.7704 - mean_mae: 0.0587 - val_deviation_mae: 3.6336 - val_loss: 39.4109 - val_mean_mae: 0.0558\n",
      "Epoch 286/800\n",
      "\u001b[1m5/5\u001b[0m \u001b[32m━━━━━━━━━━━━━━━━━━━━\u001b[0m\u001b[37m\u001b[0m \u001b[1m14s\u001b[0m 3s/step - deviation_mae: 3.9073 - loss: 36.0547 - mean_mae: 0.0468 - val_deviation_mae: 3.9036 - val_loss: 34.7308 - val_mean_mae: 0.0411\n",
      "Epoch 287/800\n",
      "\u001b[1m5/5\u001b[0m \u001b[32m━━━━━━━━━━━━━━━━━━━━\u001b[0m\u001b[37m\u001b[0m \u001b[1m14s\u001b[0m 3s/step - deviation_mae: 4.1343 - loss: 33.7068 - mean_mae: 0.0394 - val_deviation_mae: 4.0030 - val_loss: 35.4507 - val_mean_mae: 0.0407\n",
      "Epoch 288/800\n",
      "\u001b[1m5/5\u001b[0m \u001b[32m━━━━━━━━━━━━━━━━━━━━\u001b[0m\u001b[37m\u001b[0m \u001b[1m14s\u001b[0m 3s/step - deviation_mae: 4.1628 - loss: 32.7683 - mean_mae: 0.0347 - val_deviation_mae: 3.8131 - val_loss: 34.4833 - val_mean_mae: 0.0395\n",
      "Epoch 289/800\n",
      "\u001b[1m5/5\u001b[0m \u001b[32m━━━━━━━━━━━━━━━━━━━━\u001b[0m\u001b[37m\u001b[0m \u001b[1m14s\u001b[0m 3s/step - deviation_mae: 3.9082 - loss: 32.0696 - mean_mae: 0.0322 - val_deviation_mae: 3.5363 - val_loss: 35.0144 - val_mean_mae: 0.0423\n",
      "Epoch 290/800\n",
      "\u001b[1m5/5\u001b[0m \u001b[32m━━━━━━━━━━━━━━━━━━━━\u001b[0m\u001b[37m\u001b[0m \u001b[1m14s\u001b[0m 3s/step - deviation_mae: 3.6218 - loss: 31.8161 - mean_mae: 0.0321 - val_deviation_mae: 3.3144 - val_loss: 34.3781 - val_mean_mae: 0.0401\n",
      "Epoch 291/800\n",
      "\u001b[1m5/5\u001b[0m \u001b[32m━━━━━━━━━━━━━━━━━━━━\u001b[0m\u001b[37m\u001b[0m \u001b[1m14s\u001b[0m 3s/step - deviation_mae: 3.5498 - loss: 31.9345 - mean_mae: 0.0323 - val_deviation_mae: 3.2022 - val_loss: 33.3277 - val_mean_mae: 0.0367\n",
      "Epoch 292/800\n",
      "\u001b[1m5/5\u001b[0m \u001b[32m━━━━━━━━━━━━━━━━━━━━\u001b[0m\u001b[37m\u001b[0m \u001b[1m14s\u001b[0m 3s/step - deviation_mae: 3.5028 - loss: 30.8933 - mean_mae: 0.0289 - val_deviation_mae: 3.1624 - val_loss: 33.2086 - val_mean_mae: 0.0363\n",
      "Epoch 293/800\n",
      "\u001b[1m5/5\u001b[0m \u001b[32m━━━━━━━━━━━━━━━━━━━━\u001b[0m\u001b[37m\u001b[0m \u001b[1m14s\u001b[0m 3s/step - deviation_mae: 3.2812 - loss: 31.3897 - mean_mae: 0.0303 - val_deviation_mae: 3.2136 - val_loss: 37.4819 - val_mean_mae: 0.0466\n",
      "Epoch 294/800\n",
      "\u001b[1m5/5\u001b[0m \u001b[32m━━━━━━━━━━━━━━━━━━━━\u001b[0m\u001b[37m\u001b[0m \u001b[1m14s\u001b[0m 3s/step - deviation_mae: 3.3504 - loss: 33.4837 - mean_mae: 0.0382 - val_deviation_mae: 3.1806 - val_loss: 35.2901 - val_mean_mae: 0.0407\n",
      "Epoch 295/800\n",
      "\u001b[1m5/5\u001b[0m \u001b[32m━━━━━━━━━━━━━━━━━━━━\u001b[0m\u001b[37m\u001b[0m \u001b[1m14s\u001b[0m 3s/step - deviation_mae: 3.2964 - loss: 33.3809 - mean_mae: 0.0362 - val_deviation_mae: 3.2620 - val_loss: 33.0849 - val_mean_mae: 0.0346\n",
      "Epoch 296/800\n",
      "\u001b[1m5/5\u001b[0m \u001b[32m━━━━━━━━━━━━━━━━━━━━\u001b[0m\u001b[37m\u001b[0m \u001b[1m14s\u001b[0m 3s/step - deviation_mae: 3.6011 - loss: 32.5958 - mean_mae: 0.0333 - val_deviation_mae: 3.3849 - val_loss: 32.9083 - val_mean_mae: 0.0340\n",
      "Epoch 297/800\n",
      "\u001b[1m5/5\u001b[0m \u001b[32m━━━━━━━━━━━━━━━━━━━━\u001b[0m\u001b[37m\u001b[0m \u001b[1m14s\u001b[0m 3s/step - deviation_mae: 3.7040 - loss: 31.4147 - mean_mae: 0.0305 - val_deviation_mae: 3.3870 - val_loss: 32.4693 - val_mean_mae: 0.0331\n",
      "Epoch 298/800\n",
      "\u001b[1m5/5\u001b[0m \u001b[32m━━━━━━━━━━━━━━━━━━━━\u001b[0m\u001b[37m\u001b[0m \u001b[1m14s\u001b[0m 3s/step - deviation_mae: 3.5183 - loss: 31.9395 - mean_mae: 0.0307 - val_deviation_mae: 3.3618 - val_loss: 32.3909 - val_mean_mae: 0.0334\n",
      "Epoch 299/800\n",
      "\u001b[1m5/5\u001b[0m \u001b[32m━━━━━━━━━━━━━━━━━━━━\u001b[0m\u001b[37m\u001b[0m \u001b[1m14s\u001b[0m 3s/step - deviation_mae: 3.4858 - loss: 31.1172 - mean_mae: 0.0299 - val_deviation_mae: 3.3056 - val_loss: 36.9590 - val_mean_mae: 0.0493\n",
      "Epoch 300/800\n",
      "\u001b[1m4/5\u001b[0m \u001b[32m━━━━━━━━━━━━━━━━\u001b[0m\u001b[37m━━━━\u001b[0m \u001b[1m1s\u001b[0m 2s/step - deviation_mae: 3.3810 - loss: 33.8613 - mean_mae: 0.0388\n",
      "Epoch 300: saving model to C:/Users/uic33116/Documents/documents/ariel-data-challenge-2024/training_full_model/model-300.weights.h5\n",
      "\u001b[1m5/5\u001b[0m \u001b[32m━━━━━━━━━━━━━━━━━━━━\u001b[0m\u001b[37m\u001b[0m \u001b[1m18s\u001b[0m 4s/step - deviation_mae: 3.4330 - loss: 33.6735 - mean_mae: 0.0379 - val_deviation_mae: 3.2598 - val_loss: 37.0317 - val_mean_mae: 0.0491\n",
      "Epoch 301/800\n",
      "\u001b[1m5/5\u001b[0m \u001b[32m━━━━━━━━━━━━━━━━━━━━\u001b[0m\u001b[37m\u001b[0m \u001b[1m15s\u001b[0m 3s/step - deviation_mae: 3.5020 - loss: 33.1857 - mean_mae: 0.0359 - val_deviation_mae: 3.1983 - val_loss: 32.9367 - val_mean_mae: 0.0362\n",
      "Epoch 302/800\n",
      "\u001b[1m5/5\u001b[0m \u001b[32m━━━━━━━━━━━━━━━━━━━━\u001b[0m\u001b[37m\u001b[0m \u001b[1m15s\u001b[0m 3s/step - deviation_mae: 3.3738 - loss: 30.6625 - mean_mae: 0.0278 - val_deviation_mae: 3.2009 - val_loss: 33.4564 - val_mean_mae: 0.0367\n",
      "Epoch 303/800\n",
      "\u001b[1m5/5\u001b[0m \u001b[32m━━━━━━━━━━━━━━━━━━━━\u001b[0m\u001b[37m\u001b[0m \u001b[1m15s\u001b[0m 3s/step - deviation_mae: 3.3053 - loss: 31.5877 - mean_mae: 0.0321 - val_deviation_mae: 3.2021 - val_loss: 33.9520 - val_mean_mae: 0.0373\n",
      "Epoch 304/800\n",
      "\u001b[1m5/5\u001b[0m \u001b[32m━━━━━━━━━━━━━━━━━━━━\u001b[0m\u001b[37m\u001b[0m \u001b[1m15s\u001b[0m 3s/step - deviation_mae: 3.2615 - loss: 32.1092 - mean_mae: 0.0320 - val_deviation_mae: 3.1505 - val_loss: 32.9203 - val_mean_mae: 0.0343\n",
      "Epoch 305/800\n",
      "\u001b[1m5/5\u001b[0m \u001b[32m━━━━━━━━━━━━━━━━━━━━\u001b[0m\u001b[37m\u001b[0m \u001b[1m15s\u001b[0m 3s/step - deviation_mae: 3.3133 - loss: 30.6340 - mean_mae: 0.0278 - val_deviation_mae: 3.0936 - val_loss: 32.3097 - val_mean_mae: 0.0340\n",
      "Epoch 306/800\n",
      "\u001b[1m5/5\u001b[0m \u001b[32m━━━━━━━━━━━━━━━━━━━━\u001b[0m\u001b[37m\u001b[0m \u001b[1m15s\u001b[0m 3s/step - deviation_mae: 3.3470 - loss: 30.2483 - mean_mae: 0.0255 - val_deviation_mae: 3.1137 - val_loss: 31.8133 - val_mean_mae: 0.0313\n",
      "Epoch 307/800\n",
      "\u001b[1m5/5\u001b[0m \u001b[32m━━━━━━━━━━━━━━━━━━━━\u001b[0m\u001b[37m\u001b[0m \u001b[1m15s\u001b[0m 3s/step - deviation_mae: 3.4392 - loss: 30.0272 - mean_mae: 0.0249 - val_deviation_mae: 3.1921 - val_loss: 32.2265 - val_mean_mae: 0.0314\n",
      "Epoch 308/800\n",
      "\u001b[1m5/5\u001b[0m \u001b[32m━━━━━━━━━━━━━━━━━━━━\u001b[0m\u001b[37m\u001b[0m \u001b[1m15s\u001b[0m 3s/step - deviation_mae: 3.4346 - loss: 30.5478 - mean_mae: 0.0264 - val_deviation_mae: 3.2226 - val_loss: 31.6222 - val_mean_mae: 0.0297\n",
      "Epoch 309/800\n",
      "\u001b[1m5/5\u001b[0m \u001b[32m━━━━━━━━━━━━━━━━━━━━\u001b[0m\u001b[37m\u001b[0m \u001b[1m15s\u001b[0m 3s/step - deviation_mae: 3.4331 - loss: 30.2415 - mean_mae: 0.0257 - val_deviation_mae: 3.2821 - val_loss: 32.6666 - val_mean_mae: 0.0354\n",
      "Epoch 310/800\n",
      "\u001b[1m5/5\u001b[0m \u001b[32m━━━━━━━━━━━━━━━━━━━━\u001b[0m\u001b[37m\u001b[0m \u001b[1m15s\u001b[0m 3s/step - deviation_mae: 3.4059 - loss: 30.4191 - mean_mae: 0.0269 - val_deviation_mae: 3.2904 - val_loss: 31.4701 - val_mean_mae: 0.0292\n",
      "Epoch 311/800\n",
      "\u001b[1m5/5\u001b[0m \u001b[32m━━━━━━━━━━━━━━━━━━━━\u001b[0m\u001b[37m\u001b[0m \u001b[1m15s\u001b[0m 3s/step - deviation_mae: 3.5045 - loss: 29.9129 - mean_mae: 0.0248 - val_deviation_mae: 3.3163 - val_loss: 32.4428 - val_mean_mae: 0.0319\n",
      "Epoch 312/800\n",
      "\u001b[1m5/5\u001b[0m \u001b[32m━━━━━━━━━━━━━━━━━━━━\u001b[0m\u001b[37m\u001b[0m \u001b[1m15s\u001b[0m 3s/step - deviation_mae: 3.4584 - loss: 31.0637 - mean_mae: 0.0294 - val_deviation_mae: 3.2568 - val_loss: 31.5315 - val_mean_mae: 0.0293\n",
      "Epoch 313/800\n",
      "\u001b[1m5/5\u001b[0m \u001b[32m━━━━━━━━━━━━━━━━━━━━\u001b[0m\u001b[37m\u001b[0m \u001b[1m15s\u001b[0m 3s/step - deviation_mae: 3.4532 - loss: 29.9358 - mean_mae: 0.0238 - val_deviation_mae: 3.2508 - val_loss: 33.9370 - val_mean_mae: 0.0384\n",
      "Epoch 314/800\n",
      "\u001b[1m5/5\u001b[0m \u001b[32m━━━━━━━━━━━━━━━━━━━━\u001b[0m\u001b[37m\u001b[0m \u001b[1m15s\u001b[0m 3s/step - deviation_mae: 3.4681 - loss: 31.2495 - mean_mae: 0.0302 - val_deviation_mae: 3.2048 - val_loss: 32.2565 - val_mean_mae: 0.0330\n",
      "Epoch 315/800\n",
      "\u001b[1m5/5\u001b[0m \u001b[32m━━━━━━━━━━━━━━━━━━━━\u001b[0m\u001b[37m\u001b[0m \u001b[1m15s\u001b[0m 3s/step - deviation_mae: 3.4032 - loss: 30.5483 - mean_mae: 0.0285 - val_deviation_mae: 3.1723 - val_loss: 31.5309 - val_mean_mae: 0.0301\n",
      "Epoch 316/800\n",
      "\u001b[1m5/5\u001b[0m \u001b[32m━━━━━━━━━━━━━━━━━━━━\u001b[0m\u001b[37m\u001b[0m \u001b[1m15s\u001b[0m 3s/step - deviation_mae: 3.3857 - loss: 30.0389 - mean_mae: 0.0260 - val_deviation_mae: 3.1251 - val_loss: 34.1387 - val_mean_mae: 0.0426\n",
      "Epoch 317/800\n",
      "\u001b[1m5/5\u001b[0m \u001b[32m━━━━━━━━━━━━━━━━━━━━\u001b[0m\u001b[37m\u001b[0m \u001b[1m15s\u001b[0m 3s/step - deviation_mae: 3.3907 - loss: 31.5174 - mean_mae: 0.0323 - val_deviation_mae: 3.1028 - val_loss: 31.9503 - val_mean_mae: 0.0337\n",
      "Epoch 318/800\n",
      "\u001b[1m5/5\u001b[0m \u001b[32m━━━━━━━━━━━━━━━━━━━━\u001b[0m\u001b[37m\u001b[0m \u001b[1m15s\u001b[0m 3s/step - deviation_mae: 3.3582 - loss: 30.2234 - mean_mae: 0.0269 - val_deviation_mae: 3.0949 - val_loss: 32.5120 - val_mean_mae: 0.0365\n",
      "Epoch 319/800\n",
      "\u001b[1m5/5\u001b[0m \u001b[32m━━━━━━━━━━━━━━━━━━━━\u001b[0m\u001b[37m\u001b[0m \u001b[1m15s\u001b[0m 3s/step - deviation_mae: 3.3123 - loss: 29.6753 - mean_mae: 0.0249 - val_deviation_mae: 3.0954 - val_loss: 34.4086 - val_mean_mae: 0.0437\n",
      "Epoch 320/800\n",
      "\u001b[1m5/5\u001b[0m \u001b[32m━━━━━━━━━━━━━━━━━━━━\u001b[0m\u001b[37m\u001b[0m \u001b[1m15s\u001b[0m 3s/step - deviation_mae: 3.2628 - loss: 31.2460 - mean_mae: 0.0324 - val_deviation_mae: 3.0877 - val_loss: 36.3569 - val_mean_mae: 0.0489\n",
      "Epoch 321/800\n",
      "\u001b[1m5/5\u001b[0m \u001b[32m━━━━━━━━━━━━━━━━━━━━\u001b[0m\u001b[37m\u001b[0m \u001b[1m14s\u001b[0m 3s/step - deviation_mae: 3.2181 - loss: 32.1763 - mean_mae: 0.0348 - val_deviation_mae: 3.0825 - val_loss: 32.0238 - val_mean_mae: 0.0345\n",
      "Epoch 322/800\n",
      "\u001b[1m5/5\u001b[0m \u001b[32m━━━━━━━━━━━━━━━━━━━━\u001b[0m\u001b[37m\u001b[0m \u001b[1m15s\u001b[0m 3s/step - deviation_mae: 3.2435 - loss: 30.1042 - mean_mae: 0.0264 - val_deviation_mae: 3.0905 - val_loss: 31.0035 - val_mean_mae: 0.0286\n",
      "Epoch 323/800\n",
      "\u001b[1m5/5\u001b[0m \u001b[32m━━━━━━━━━━━━━━━━━━━━\u001b[0m\u001b[37m\u001b[0m \u001b[1m14s\u001b[0m 3s/step - deviation_mae: 3.3809 - loss: 29.6427 - mean_mae: 0.0242 - val_deviation_mae: 3.0745 - val_loss: 32.3256 - val_mean_mae: 0.0360\n",
      "Epoch 324/800\n",
      "\u001b[1m5/5\u001b[0m \u001b[32m━━━━━━━━━━━━━━━━━━━━\u001b[0m\u001b[37m\u001b[0m \u001b[1m15s\u001b[0m 3s/step - deviation_mae: 3.3788 - loss: 29.6804 - mean_mae: 0.0240 - val_deviation_mae: 3.1096 - val_loss: 31.7148 - val_mean_mae: 0.0301\n",
      "Epoch 325/800\n",
      "\u001b[1m5/5\u001b[0m \u001b[32m━━━━━━━━━━━━━━━━━━━━\u001b[0m\u001b[37m\u001b[0m \u001b[1m15s\u001b[0m 3s/step - deviation_mae: 3.1569 - loss: 29.8561 - mean_mae: 0.0231 - val_deviation_mae: 3.1178 - val_loss: 34.8176 - val_mean_mae: 0.0452\n",
      "Epoch 326/800\n",
      "\u001b[1m5/5\u001b[0m \u001b[32m━━━━━━━━━━━━━━━━━━━━\u001b[0m\u001b[37m\u001b[0m \u001b[1m15s\u001b[0m 3s/step - deviation_mae: 3.4638 - loss: 30.7022 - mean_mae: 0.0294 - val_deviation_mae: 3.1678 - val_loss: 39.0731 - val_mean_mae: 0.0584\n",
      "Epoch 327/800\n",
      "\u001b[1m5/5\u001b[0m \u001b[32m━━━━━━━━━━━━━━━━━━━━\u001b[0m\u001b[37m\u001b[0m \u001b[1m15s\u001b[0m 3s/step - deviation_mae: 3.2609 - loss: 34.4665 - mean_mae: 0.0442 - val_deviation_mae: 3.0871 - val_loss: 34.1124 - val_mean_mae: 0.0433\n",
      "Epoch 328/800\n",
      "\u001b[1m5/5\u001b[0m \u001b[32m━━━━━━━━━━━━━━━━━━━━\u001b[0m\u001b[37m\u001b[0m \u001b[1m15s\u001b[0m 3s/step - deviation_mae: 3.3454 - loss: 31.4504 - mean_mae: 0.0329 - val_deviation_mae: 3.1503 - val_loss: 34.5171 - val_mean_mae: 0.0447\n",
      "Epoch 329/800\n",
      "\u001b[1m5/5\u001b[0m \u001b[32m━━━━━━━━━━━━━━━━━━━━\u001b[0m\u001b[37m\u001b[0m \u001b[1m14s\u001b[0m 3s/step - deviation_mae: 3.2547 - loss: 31.2065 - mean_mae: 0.0329 - val_deviation_mae: 3.2340 - val_loss: 37.6506 - val_mean_mae: 0.0538\n",
      "Epoch 330/800\n",
      "\u001b[1m5/5\u001b[0m \u001b[32m━━━━━━━━━━━━━━━━━━━━\u001b[0m\u001b[37m\u001b[0m \u001b[1m15s\u001b[0m 3s/step - deviation_mae: 3.3408 - loss: 34.1697 - mean_mae: 0.0405 - val_deviation_mae: 3.3004 - val_loss: 34.0496 - val_mean_mae: 0.0421\n",
      "Epoch 331/800\n",
      "\u001b[1m5/5\u001b[0m \u001b[32m━━━━━━━━━━━━━━━━━━━━\u001b[0m\u001b[37m\u001b[0m \u001b[1m15s\u001b[0m 3s/step - deviation_mae: 3.4977 - loss: 32.8322 - mean_mae: 0.0371 - val_deviation_mae: 3.4026 - val_loss: 31.2767 - val_mean_mae: 0.0305\n",
      "Epoch 332/800\n",
      "\u001b[1m5/5\u001b[0m \u001b[32m━━━━━━━━━━━━━━━━━━━━\u001b[0m\u001b[37m\u001b[0m \u001b[1m14s\u001b[0m 3s/step - deviation_mae: 3.6455 - loss: 30.1288 - mean_mae: 0.0273 - val_deviation_mae: 3.4696 - val_loss: 32.0857 - val_mean_mae: 0.0314\n",
      "Epoch 333/800\n",
      "\u001b[1m5/5\u001b[0m \u001b[32m━━━━━━━━━━━━━━━━━━━━\u001b[0m\u001b[37m\u001b[0m \u001b[1m14s\u001b[0m 3s/step - deviation_mae: 3.7427 - loss: 31.1764 - mean_mae: 0.0294 - val_deviation_mae: 3.4560 - val_loss: 33.3371 - val_mean_mae: 0.0355\n",
      "Epoch 334/800\n",
      "\u001b[1m5/5\u001b[0m \u001b[32m━━━━━━━━━━━━━━━━━━━━\u001b[0m\u001b[37m\u001b[0m \u001b[1m15s\u001b[0m 3s/step - deviation_mae: 3.6175 - loss: 30.6240 - mean_mae: 0.0288 - val_deviation_mae: 3.3369 - val_loss: 31.3596 - val_mean_mae: 0.0298\n",
      "Epoch 335/800\n",
      "\u001b[1m5/5\u001b[0m \u001b[32m━━━━━━━━━━━━━━━━━━━━\u001b[0m\u001b[37m\u001b[0m \u001b[1m14s\u001b[0m 3s/step - deviation_mae: 3.4141 - loss: 29.1123 - mean_mae: 0.0213 - val_deviation_mae: 3.2284 - val_loss: 32.3012 - val_mean_mae: 0.0352\n",
      "Epoch 336/800\n",
      "\u001b[1m5/5\u001b[0m \u001b[32m━━━━━━━━━━━━━━━━━━━━\u001b[0m\u001b[37m\u001b[0m \u001b[1m14s\u001b[0m 3s/step - deviation_mae: 3.4005 - loss: 29.9696 - mean_mae: 0.0260 - val_deviation_mae: 3.1719 - val_loss: 32.3718 - val_mean_mae: 0.0334\n",
      "Epoch 337/800\n",
      "\u001b[1m5/5\u001b[0m \u001b[32m━━━━━━━━━━━━━━━━━━━━\u001b[0m\u001b[37m\u001b[0m \u001b[1m14s\u001b[0m 3s/step - deviation_mae: 3.5052 - loss: 30.3874 - mean_mae: 0.0278 - val_deviation_mae: 3.2012 - val_loss: 36.4786 - val_mean_mae: 0.0474\n",
      "Epoch 338/800\n",
      "\u001b[1m5/5\u001b[0m \u001b[32m━━━━━━━━━━━━━━━━━━━━\u001b[0m\u001b[37m\u001b[0m \u001b[1m14s\u001b[0m 3s/step - deviation_mae: 3.3263 - loss: 32.5904 - mean_mae: 0.0380 - val_deviation_mae: 3.1979 - val_loss: 36.3313 - val_mean_mae: 0.0463\n",
      "Epoch 339/800\n",
      "\u001b[1m5/5\u001b[0m \u001b[32m━━━━━━━━━━━━━━━━━━━━\u001b[0m\u001b[37m\u001b[0m \u001b[1m15s\u001b[0m 3s/step - deviation_mae: 3.4767 - loss: 32.6214 - mean_mae: 0.0360 - val_deviation_mae: 3.2291 - val_loss: 37.4837 - val_mean_mae: 0.0493\n",
      "Epoch 340/800\n",
      "\u001b[1m5/5\u001b[0m \u001b[32m━━━━━━━━━━━━━━━━━━━━\u001b[0m\u001b[37m\u001b[0m \u001b[1m15s\u001b[0m 3s/step - deviation_mae: 3.4006 - loss: 33.2416 - mean_mae: 0.0385 - val_deviation_mae: 3.1616 - val_loss: 33.4902 - val_mean_mae: 0.0409\n",
      "Epoch 341/800\n",
      "\u001b[1m5/5\u001b[0m \u001b[32m━━━━━━━━━━━━━━━━━━━━\u001b[0m\u001b[37m\u001b[0m \u001b[1m15s\u001b[0m 3s/step - deviation_mae: 3.5615 - loss: 31.0357 - mean_mae: 0.0321 - val_deviation_mae: 3.2597 - val_loss: 32.5691 - val_mean_mae: 0.0353\n",
      "Epoch 342/800\n",
      "\u001b[1m5/5\u001b[0m \u001b[32m━━━━━━━━━━━━━━━━━━━━\u001b[0m\u001b[37m\u001b[0m \u001b[1m14s\u001b[0m 3s/step - deviation_mae: 3.6100 - loss: 31.3291 - mean_mae: 0.0315 - val_deviation_mae: 3.2836 - val_loss: 31.4786 - val_mean_mae: 0.0297\n",
      "Epoch 343/800\n",
      "\u001b[1m5/5\u001b[0m \u001b[32m━━━━━━━━━━━━━━━━━━━━\u001b[0m\u001b[37m\u001b[0m \u001b[1m14s\u001b[0m 3s/step - deviation_mae: 3.4703 - loss: 30.3528 - mean_mae: 0.0265 - val_deviation_mae: 3.2881 - val_loss: 32.9658 - val_mean_mae: 0.0348\n",
      "Epoch 344/800\n",
      "\u001b[1m5/5\u001b[0m \u001b[32m━━━━━━━━━━━━━━━━━━━━\u001b[0m\u001b[37m\u001b[0m \u001b[1m14s\u001b[0m 3s/step - deviation_mae: 3.5067 - loss: 30.1799 - mean_mae: 0.0268 - val_deviation_mae: 3.1924 - val_loss: 32.1618 - val_mean_mae: 0.0349\n",
      "Epoch 345/800\n",
      "\u001b[1m5/5\u001b[0m \u001b[32m━━━━━━━━━━━━━━━━━━━━\u001b[0m\u001b[37m\u001b[0m \u001b[1m14s\u001b[0m 3s/step - deviation_mae: 3.6119 - loss: 29.2977 - mean_mae: 0.0237 - val_deviation_mae: 3.1302 - val_loss: 33.0281 - val_mean_mae: 0.0386\n",
      "Epoch 346/800\n",
      "\u001b[1m5/5\u001b[0m \u001b[32m━━━━━━━━━━━━━━━━━━━━\u001b[0m\u001b[37m\u001b[0m \u001b[1m14s\u001b[0m 3s/step - deviation_mae: 3.2192 - loss: 30.3660 - mean_mae: 0.0286 - val_deviation_mae: 3.0869 - val_loss: 30.9233 - val_mean_mae: 0.0292\n",
      "Epoch 347/800\n",
      "\u001b[1m5/5\u001b[0m \u001b[32m━━━━━━━━━━━━━━━━━━━━\u001b[0m\u001b[37m\u001b[0m \u001b[1m14s\u001b[0m 3s/step - deviation_mae: 3.2567 - loss: 29.7523 - mean_mae: 0.0253 - val_deviation_mae: 3.0588 - val_loss: 30.8836 - val_mean_mae: 0.0282\n",
      "Epoch 348/800\n",
      "\u001b[1m5/5\u001b[0m \u001b[32m━━━━━━━━━━━━━━━━━━━━\u001b[0m\u001b[37m\u001b[0m \u001b[1m14s\u001b[0m 3s/step - deviation_mae: 3.3398 - loss: 28.9908 - mean_mae: 0.0233 - val_deviation_mae: 3.0733 - val_loss: 31.6126 - val_mean_mae: 0.0304\n",
      "Epoch 349/800\n",
      "\u001b[1m5/5\u001b[0m \u001b[32m━━━━━━━━━━━━━━━━━━━━\u001b[0m\u001b[37m\u001b[0m \u001b[1m14s\u001b[0m 3s/step - deviation_mae: 3.2514 - loss: 29.2094 - mean_mae: 0.0229 - val_deviation_mae: 3.0501 - val_loss: 30.7450 - val_mean_mae: 0.0283\n",
      "Epoch 350/800\n",
      "\u001b[1m5/5\u001b[0m \u001b[32m━━━━━━━━━━━━━━━━━━━━\u001b[0m\u001b[37m\u001b[0m \u001b[1m14s\u001b[0m 3s/step - deviation_mae: 3.3763 - loss: 29.2467 - mean_mae: 0.0235 - val_deviation_mae: 3.0624 - val_loss: 31.7845 - val_mean_mae: 0.0342\n",
      "Epoch 351/800\n",
      "\u001b[1m5/5\u001b[0m \u001b[32m━━━━━━━━━━━━━━━━━━━━\u001b[0m\u001b[37m\u001b[0m \u001b[1m14s\u001b[0m 3s/step - deviation_mae: 3.2903 - loss: 29.2803 - mean_mae: 0.0235 - val_deviation_mae: 3.0566 - val_loss: 30.8791 - val_mean_mae: 0.0304\n",
      "Epoch 352/800\n",
      "\u001b[1m5/5\u001b[0m \u001b[32m━━━━━━━━━━━━━━━━━━━━\u001b[0m\u001b[37m\u001b[0m \u001b[1m14s\u001b[0m 3s/step - deviation_mae: 3.2999 - loss: 28.6686 - mean_mae: 0.0207 - val_deviation_mae: 3.0756 - val_loss: 30.6806 - val_mean_mae: 0.0286\n",
      "Epoch 353/800\n",
      "\u001b[1m5/5\u001b[0m \u001b[32m━━━━━━━━━━━━━━━━━━━━\u001b[0m\u001b[37m\u001b[0m \u001b[1m14s\u001b[0m 3s/step - deviation_mae: 3.2112 - loss: 28.9955 - mean_mae: 0.0226 - val_deviation_mae: 3.1136 - val_loss: 30.4492 - val_mean_mae: 0.0268\n",
      "Epoch 354/800\n",
      "\u001b[1m5/5\u001b[0m \u001b[32m━━━━━━━━━━━━━━━━━━━━\u001b[0m\u001b[37m\u001b[0m \u001b[1m14s\u001b[0m 3s/step - deviation_mae: 3.3600 - loss: 28.8668 - mean_mae: 0.0215 - val_deviation_mae: 3.1755 - val_loss: 30.4197 - val_mean_mae: 0.0261\n",
      "Epoch 355/800\n",
      "\u001b[1m5/5\u001b[0m \u001b[32m━━━━━━━━━━━━━━━━━━━━\u001b[0m\u001b[37m\u001b[0m \u001b[1m14s\u001b[0m 3s/step - deviation_mae: 3.3541 - loss: 29.0967 - mean_mae: 0.0219 - val_deviation_mae: 3.2062 - val_loss: 31.0684 - val_mean_mae: 0.0284\n",
      "Epoch 356/800\n",
      "\u001b[1m5/5\u001b[0m \u001b[32m━━━━━━━━━━━━━━━━━━━━\u001b[0m\u001b[37m\u001b[0m \u001b[1m14s\u001b[0m 3s/step - deviation_mae: 3.3361 - loss: 29.4872 - mean_mae: 0.0249 - val_deviation_mae: 3.1881 - val_loss: 31.4448 - val_mean_mae: 0.0300\n",
      "Epoch 357/800\n",
      "\u001b[1m5/5\u001b[0m \u001b[32m━━━━━━━━━━━━━━━━━━━━\u001b[0m\u001b[37m\u001b[0m \u001b[1m14s\u001b[0m 3s/step - deviation_mae: 3.4917 - loss: 29.8910 - mean_mae: 0.0260 - val_deviation_mae: 3.1135 - val_loss: 30.2493 - val_mean_mae: 0.0259\n",
      "Epoch 358/800\n",
      "\u001b[1m5/5\u001b[0m \u001b[32m━━━━━━━━━━━━━━━━━━━━\u001b[0m\u001b[37m\u001b[0m \u001b[1m14s\u001b[0m 3s/step - deviation_mae: 3.3817 - loss: 28.9399 - mean_mae: 0.0214 - val_deviation_mae: 3.1066 - val_loss: 31.1045 - val_mean_mae: 0.0292\n",
      "Epoch 359/800\n",
      "\u001b[1m5/5\u001b[0m \u001b[32m━━━━━━━━━━━━━━━━━━━━\u001b[0m\u001b[37m\u001b[0m \u001b[1m14s\u001b[0m 3s/step - deviation_mae: 3.1922 - loss: 29.8244 - mean_mae: 0.0268 - val_deviation_mae: 3.0675 - val_loss: 31.4705 - val_mean_mae: 0.0334\n",
      "Epoch 360/800\n",
      "\u001b[1m5/5\u001b[0m \u001b[32m━━━━━━━━━━━━━━━━━━━━\u001b[0m\u001b[37m\u001b[0m \u001b[1m14s\u001b[0m 3s/step - deviation_mae: 3.2496 - loss: 29.8296 - mean_mae: 0.0271 - val_deviation_mae: 3.0485 - val_loss: 31.6374 - val_mean_mae: 0.0345\n",
      "Epoch 361/800\n",
      "\u001b[1m5/5\u001b[0m \u001b[32m━━━━━━━━━━━━━━━━━━━━\u001b[0m\u001b[37m\u001b[0m \u001b[1m14s\u001b[0m 3s/step - deviation_mae: 3.2775 - loss: 29.1811 - mean_mae: 0.0246 - val_deviation_mae: 3.0512 - val_loss: 34.8118 - val_mean_mae: 0.0454\n",
      "Epoch 362/800\n",
      "\u001b[1m5/5\u001b[0m \u001b[32m━━━━━━━━━━━━━━━━━━━━\u001b[0m\u001b[37m\u001b[0m \u001b[1m14s\u001b[0m 3s/step - deviation_mae: 3.2896 - loss: 31.0884 - mean_mae: 0.0327 - val_deviation_mae: 3.0604 - val_loss: 33.4057 - val_mean_mae: 0.0412\n",
      "Epoch 363/800\n",
      "\u001b[1m5/5\u001b[0m \u001b[32m━━━━━━━━━━━━━━━━━━━━\u001b[0m\u001b[37m\u001b[0m \u001b[1m14s\u001b[0m 3s/step - deviation_mae: 3.1353 - loss: 30.9386 - mean_mae: 0.0323 - val_deviation_mae: 3.0989 - val_loss: 30.5294 - val_mean_mae: 0.0274\n",
      "Epoch 364/800\n",
      "\u001b[1m5/5\u001b[0m \u001b[32m━━━━━━━━━━━━━━━━━━━━\u001b[0m\u001b[37m\u001b[0m \u001b[1m14s\u001b[0m 3s/step - deviation_mae: 3.2212 - loss: 28.8095 - mean_mae: 0.0232 - val_deviation_mae: 3.1011 - val_loss: 32.7624 - val_mean_mae: 0.0380\n",
      "Epoch 365/800\n",
      "\u001b[1m5/5\u001b[0m \u001b[32m━━━━━━━━━━━━━━━━━━━━\u001b[0m\u001b[37m\u001b[0m \u001b[1m14s\u001b[0m 3s/step - deviation_mae: 3.1866 - loss: 30.4419 - mean_mae: 0.0310 - val_deviation_mae: 3.1100 - val_loss: 32.2117 - val_mean_mae: 0.0336\n",
      "Epoch 366/800\n",
      "\u001b[1m5/5\u001b[0m \u001b[32m━━━━━━━━━━━━━━━━━━━━\u001b[0m\u001b[37m\u001b[0m \u001b[1m14s\u001b[0m 3s/step - deviation_mae: 3.3333 - loss: 30.9454 - mean_mae: 0.0318 - val_deviation_mae: 3.1608 - val_loss: 31.0841 - val_mean_mae: 0.0297\n",
      "Epoch 367/800\n",
      "\u001b[1m5/5\u001b[0m \u001b[32m━━━━━━━━━━━━━━━━━━━━\u001b[0m\u001b[37m\u001b[0m \u001b[1m14s\u001b[0m 3s/step - deviation_mae: 3.3775 - loss: 29.7600 - mean_mae: 0.0265 - val_deviation_mae: 3.2360 - val_loss: 30.2434 - val_mean_mae: 0.0263\n",
      "Epoch 368/800\n",
      "\u001b[1m5/5\u001b[0m \u001b[32m━━━━━━━━━━━━━━━━━━━━\u001b[0m\u001b[37m\u001b[0m \u001b[1m14s\u001b[0m 3s/step - deviation_mae: 3.5972 - loss: 29.6033 - mean_mae: 0.0248 - val_deviation_mae: 3.2499 - val_loss: 30.1608 - val_mean_mae: 0.0262\n",
      "Epoch 369/800\n",
      "\u001b[1m5/5\u001b[0m \u001b[32m━━━━━━━━━━━━━━━━━━━━\u001b[0m\u001b[37m\u001b[0m \u001b[1m14s\u001b[0m 3s/step - deviation_mae: 3.4896 - loss: 28.7532 - mean_mae: 0.0202 - val_deviation_mae: 3.1814 - val_loss: 31.5406 - val_mean_mae: 0.0347\n",
      "Epoch 370/800\n",
      "\u001b[1m5/5\u001b[0m \u001b[32m━━━━━━━━━━━━━━━━━━━━\u001b[0m\u001b[37m\u001b[0m \u001b[1m14s\u001b[0m 3s/step - deviation_mae: 3.2846 - loss: 29.0730 - mean_mae: 0.0246 - val_deviation_mae: 3.1539 - val_loss: 33.2274 - val_mean_mae: 0.0403\n",
      "Epoch 371/800\n",
      "\u001b[1m5/5\u001b[0m \u001b[32m━━━━━━━━━━━━━━━━━━━━\u001b[0m\u001b[37m\u001b[0m \u001b[1m14s\u001b[0m 3s/step - deviation_mae: 3.4164 - loss: 29.7263 - mean_mae: 0.0282 - val_deviation_mae: 3.0841 - val_loss: 31.0330 - val_mean_mae: 0.0296\n",
      "Epoch 372/800\n",
      "\u001b[1m5/5\u001b[0m \u001b[32m━━━━━━━━━━━━━━━━━━━━\u001b[0m\u001b[37m\u001b[0m \u001b[1m14s\u001b[0m 3s/step - deviation_mae: 3.3379 - loss: 28.8456 - mean_mae: 0.0227 - val_deviation_mae: 3.0828 - val_loss: 32.5028 - val_mean_mae: 0.0345\n",
      "Epoch 373/800\n",
      "\u001b[1m5/5\u001b[0m \u001b[32m━━━━━━━━━━━━━━━━━━━━\u001b[0m\u001b[37m\u001b[0m \u001b[1m14s\u001b[0m 3s/step - deviation_mae: 3.3954 - loss: 30.6378 - mean_mae: 0.0283 - val_deviation_mae: 3.0473 - val_loss: 30.9080 - val_mean_mae: 0.0290\n",
      "Epoch 374/800\n",
      "\u001b[1m5/5\u001b[0m \u001b[32m━━━━━━━━━━━━━━━━━━━━\u001b[0m\u001b[37m\u001b[0m \u001b[1m14s\u001b[0m 3s/step - deviation_mae: 3.4362 - loss: 29.2020 - mean_mae: 0.0232 - val_deviation_mae: 3.0395 - val_loss: 30.5549 - val_mean_mae: 0.0275\n",
      "Epoch 375/800\n",
      "\u001b[1m5/5\u001b[0m \u001b[32m━━━━━━━━━━━━━━━━━━━━\u001b[0m\u001b[37m\u001b[0m \u001b[1m14s\u001b[0m 3s/step - deviation_mae: 3.2090 - loss: 29.5092 - mean_mae: 0.0244 - val_deviation_mae: 3.0222 - val_loss: 30.0296 - val_mean_mae: 0.0277\n",
      "Epoch 376/800\n",
      "\u001b[1m5/5\u001b[0m \u001b[32m━━━━━━━━━━━━━━━━━━━━\u001b[0m\u001b[37m\u001b[0m \u001b[1m14s\u001b[0m 3s/step - deviation_mae: 3.4621 - loss: 29.4475 - mean_mae: 0.0257 - val_deviation_mae: 3.1113 - val_loss: 33.5290 - val_mean_mae: 0.0420\n",
      "Epoch 377/800\n",
      "\u001b[1m5/5\u001b[0m \u001b[32m━━━━━━━━━━━━━━━━━━━━\u001b[0m\u001b[37m\u001b[0m \u001b[1m14s\u001b[0m 3s/step - deviation_mae: 3.4583 - loss: 29.9273 - mean_mae: 0.0293 - val_deviation_mae: 3.1116 - val_loss: 33.2110 - val_mean_mae: 0.0409\n",
      "Epoch 378/800\n",
      "\u001b[1m5/5\u001b[0m \u001b[32m━━━━━━━━━━━━━━━━━━━━\u001b[0m\u001b[37m\u001b[0m \u001b[1m14s\u001b[0m 3s/step - deviation_mae: 3.2913 - loss: 30.6730 - mean_mae: 0.0313 - val_deviation_mae: 3.1172 - val_loss: 33.0225 - val_mean_mae: 0.0369\n",
      "Epoch 379/800\n",
      "\u001b[1m5/5\u001b[0m \u001b[32m━━━━━━━━━━━━━━━━━━━━\u001b[0m\u001b[37m\u001b[0m \u001b[1m14s\u001b[0m 3s/step - deviation_mae: 3.2884 - loss: 29.9720 - mean_mae: 0.0296 - val_deviation_mae: 3.1291 - val_loss: 31.6280 - val_mean_mae: 0.0315\n",
      "Epoch 380/800\n",
      "\u001b[1m5/5\u001b[0m \u001b[32m━━━━━━━━━━━━━━━━━━━━\u001b[0m\u001b[37m\u001b[0m \u001b[1m14s\u001b[0m 3s/step - deviation_mae: 3.4281 - loss: 29.9664 - mean_mae: 0.0272 - val_deviation_mae: 3.1293 - val_loss: 31.3128 - val_mean_mae: 0.0335\n",
      "Epoch 381/800\n",
      "\u001b[1m5/5\u001b[0m \u001b[32m━━━━━━━━━━━━━━━━━━━━\u001b[0m\u001b[37m\u001b[0m \u001b[1m14s\u001b[0m 3s/step - deviation_mae: 3.4451 - loss: 29.4208 - mean_mae: 0.0265 - val_deviation_mae: 3.1014 - val_loss: 30.4843 - val_mean_mae: 0.0295\n",
      "Epoch 382/800\n",
      "\u001b[1m5/5\u001b[0m \u001b[32m━━━━━━━━━━━━━━━━━━━━\u001b[0m\u001b[37m\u001b[0m \u001b[1m14s\u001b[0m 3s/step - deviation_mae: 3.3272 - loss: 28.9906 - mean_mae: 0.0245 - val_deviation_mae: 3.1287 - val_loss: 32.4282 - val_mean_mae: 0.0384\n",
      "Epoch 383/800\n",
      "\u001b[1m5/5\u001b[0m \u001b[32m━━━━━━━━━━━━━━━━━━━━\u001b[0m\u001b[37m\u001b[0m \u001b[1m14s\u001b[0m 3s/step - deviation_mae: 3.3172 - loss: 29.7931 - mean_mae: 0.0292 - val_deviation_mae: 3.1922 - val_loss: 29.7772 - val_mean_mae: 0.0263\n",
      "Epoch 384/800\n",
      "\u001b[1m5/5\u001b[0m \u001b[32m━━━━━━━━━━━━━━━━━━━━\u001b[0m\u001b[37m\u001b[0m \u001b[1m14s\u001b[0m 3s/step - deviation_mae: 3.3613 - loss: 28.1580 - mean_mae: 0.0208 - val_deviation_mae: 3.2051 - val_loss: 30.4417 - val_mean_mae: 0.0282\n",
      "Epoch 385/800\n",
      "\u001b[1m5/5\u001b[0m \u001b[32m━━━━━━━━━━━━━━━━━━━━\u001b[0m\u001b[37m\u001b[0m \u001b[1m14s\u001b[0m 3s/step - deviation_mae: 3.3726 - loss: 28.5656 - mean_mae: 0.0209 - val_deviation_mae: 3.0892 - val_loss: 30.2122 - val_mean_mae: 0.0282\n",
      "Epoch 386/800\n",
      "\u001b[1m5/5\u001b[0m \u001b[32m━━━━━━━━━━━━━━━━━━━━\u001b[0m\u001b[37m\u001b[0m \u001b[1m14s\u001b[0m 3s/step - deviation_mae: 3.2220 - loss: 27.9721 - mean_mae: 0.0202 - val_deviation_mae: 3.0800 - val_loss: 29.6731 - val_mean_mae: 0.0254\n",
      "Epoch 387/800\n",
      "\u001b[1m5/5\u001b[0m \u001b[32m━━━━━━━━━━━━━━━━━━━━\u001b[0m\u001b[37m\u001b[0m \u001b[1m14s\u001b[0m 3s/step - deviation_mae: 3.2339 - loss: 28.0979 - mean_mae: 0.0197 - val_deviation_mae: 3.1223 - val_loss: 30.0030 - val_mean_mae: 0.0260\n",
      "Epoch 388/800\n",
      "\u001b[1m5/5\u001b[0m \u001b[32m━━━━━━━━━━━━━━━━━━━━\u001b[0m\u001b[37m\u001b[0m \u001b[1m14s\u001b[0m 3s/step - deviation_mae: 3.3357 - loss: 28.5841 - mean_mae: 0.0213 - val_deviation_mae: 3.1458 - val_loss: 30.1279 - val_mean_mae: 0.0264\n",
      "Epoch 389/800\n",
      "\u001b[1m5/5\u001b[0m \u001b[32m━━━━━━━━━━━━━━━━━━━━\u001b[0m\u001b[37m\u001b[0m \u001b[1m15s\u001b[0m 3s/step - deviation_mae: 3.4728 - loss: 28.7525 - mean_mae: 0.0226 - val_deviation_mae: 3.1021 - val_loss: 29.8313 - val_mean_mae: 0.0280\n",
      "Epoch 390/800\n",
      "\u001b[1m5/5\u001b[0m \u001b[32m━━━━━━━━━━━━━━━━━━━━\u001b[0m\u001b[37m\u001b[0m \u001b[1m15s\u001b[0m 3s/step - deviation_mae: 3.2887 - loss: 28.2674 - mean_mae: 0.0217 - val_deviation_mae: 3.0906 - val_loss: 30.9719 - val_mean_mae: 0.0344\n",
      "Epoch 391/800\n",
      "\u001b[1m5/5\u001b[0m \u001b[32m━━━━━━━━━━━━━━━━━━━━\u001b[0m\u001b[37m\u001b[0m \u001b[1m15s\u001b[0m 3s/step - deviation_mae: 3.2946 - loss: 28.4358 - mean_mae: 0.0230 - val_deviation_mae: 3.0889 - val_loss: 29.8769 - val_mean_mae: 0.0288\n",
      "Epoch 392/800\n",
      "\u001b[1m5/5\u001b[0m \u001b[32m━━━━━━━━━━━━━━━━━━━━\u001b[0m\u001b[37m\u001b[0m \u001b[1m14s\u001b[0m 3s/step - deviation_mae: 3.3995 - loss: 27.7613 - mean_mae: 0.0191 - val_deviation_mae: 3.0809 - val_loss: 29.3104 - val_mean_mae: 0.0250\n",
      "Epoch 393/800\n",
      "\u001b[1m5/5\u001b[0m \u001b[32m━━━━━━━━━━━━━━━━━━━━\u001b[0m\u001b[37m\u001b[0m \u001b[1m14s\u001b[0m 3s/step - deviation_mae: 3.2403 - loss: 27.6598 - mean_mae: 0.0185 - val_deviation_mae: 3.0790 - val_loss: 29.2677 - val_mean_mae: 0.0238\n",
      "Epoch 394/800\n",
      "\u001b[1m5/5\u001b[0m \u001b[32m━━━━━━━━━━━━━━━━━━━━\u001b[0m\u001b[37m\u001b[0m \u001b[1m14s\u001b[0m 3s/step - deviation_mae: 3.3053 - loss: 27.3699 - mean_mae: 0.0166 - val_deviation_mae: 3.0688 - val_loss: 29.9005 - val_mean_mae: 0.0292\n",
      "Epoch 395/800\n",
      "\u001b[1m5/5\u001b[0m \u001b[32m━━━━━━━━━━━━━━━━━━━━\u001b[0m\u001b[37m\u001b[0m \u001b[1m14s\u001b[0m 3s/step - deviation_mae: 3.3848 - loss: 27.7325 - mean_mae: 0.0201 - val_deviation_mae: 3.1001 - val_loss: 29.1270 - val_mean_mae: 0.0241\n",
      "Epoch 396/800\n",
      "\u001b[1m5/5\u001b[0m \u001b[32m━━━━━━━━━━━━━━━━━━━━\u001b[0m\u001b[37m\u001b[0m \u001b[1m14s\u001b[0m 3s/step - deviation_mae: 3.2934 - loss: 27.6897 - mean_mae: 0.0178 - val_deviation_mae: 3.1200 - val_loss: 29.0499 - val_mean_mae: 0.0238\n",
      "Epoch 397/800\n",
      "\u001b[1m5/5\u001b[0m \u001b[32m━━━━━━━━━━━━━━━━━━━━\u001b[0m\u001b[37m\u001b[0m \u001b[1m14s\u001b[0m 3s/step - deviation_mae: 3.2473 - loss: 27.7787 - mean_mae: 0.0194 - val_deviation_mae: 3.1398 - val_loss: 28.9706 - val_mean_mae: 0.0231\n",
      "Epoch 398/800\n",
      "\u001b[1m5/5\u001b[0m \u001b[32m━━━━━━━━━━━━━━━━━━━━\u001b[0m\u001b[37m\u001b[0m \u001b[1m14s\u001b[0m 3s/step - deviation_mae: 3.5033 - loss: 27.5707 - mean_mae: 0.0185 - val_deviation_mae: 3.1527 - val_loss: 29.0830 - val_mean_mae: 0.0236\n",
      "Epoch 399/800\n",
      "\u001b[1m5/5\u001b[0m \u001b[32m━━━━━━━━━━━━━━━━━━━━\u001b[0m\u001b[37m\u001b[0m \u001b[1m14s\u001b[0m 3s/step - deviation_mae: 3.5118 - loss: 27.3641 - mean_mae: 0.0178 - val_deviation_mae: 3.1772 - val_loss: 29.4399 - val_mean_mae: 0.0245\n",
      "Epoch 400/800\n",
      "\u001b[1m4/5\u001b[0m \u001b[32m━━━━━━━━━━━━━━━━\u001b[0m\u001b[37m━━━━\u001b[0m \u001b[1m1s\u001b[0m 2s/step - deviation_mae: 3.4346 - loss: 27.7707 - mean_mae: 0.0204\n",
      "Epoch 400: saving model to C:/Users/uic33116/Documents/documents/ariel-data-challenge-2024/training_full_model/model-400.weights.h5\n",
      "\u001b[1m5/5\u001b[0m \u001b[32m━━━━━━━━━━━━━━━━━━━━\u001b[0m\u001b[37m\u001b[0m \u001b[1m19s\u001b[0m 4s/step - deviation_mae: 3.4160 - loss: 27.8615 - mean_mae: 0.0209 - val_deviation_mae: 3.1541 - val_loss: 29.3200 - val_mean_mae: 0.0260\n",
      "Epoch 401/800\n",
      "\u001b[1m5/5\u001b[0m \u001b[32m━━━━━━━━━━━━━━━━━━━━\u001b[0m\u001b[37m\u001b[0m \u001b[1m15s\u001b[0m 3s/step - deviation_mae: 3.3708 - loss: 28.2039 - mean_mae: 0.0224 - val_deviation_mae: 3.1462 - val_loss: 28.8715 - val_mean_mae: 0.0230\n",
      "Epoch 402/800\n",
      "\u001b[1m5/5\u001b[0m \u001b[32m━━━━━━━━━━━━━━━━━━━━\u001b[0m\u001b[37m\u001b[0m \u001b[1m15s\u001b[0m 3s/step - deviation_mae: 3.3988 - loss: 28.0799 - mean_mae: 0.0202 - val_deviation_mae: 3.1244 - val_loss: 28.9588 - val_mean_mae: 0.0248\n",
      "Epoch 403/800\n",
      "\u001b[1m5/5\u001b[0m \u001b[32m━━━━━━━━━━━━━━━━━━━━\u001b[0m\u001b[37m\u001b[0m \u001b[1m15s\u001b[0m 3s/step - deviation_mae: 3.4176 - loss: 27.3451 - mean_mae: 0.0186 - val_deviation_mae: 3.1547 - val_loss: 28.9628 - val_mean_mae: 0.0230\n",
      "Epoch 404/800\n",
      "\u001b[1m5/5\u001b[0m \u001b[32m━━━━━━━━━━━━━━━━━━━━\u001b[0m\u001b[37m\u001b[0m \u001b[1m15s\u001b[0m 3s/step - deviation_mae: 3.2582 - loss: 27.7114 - mean_mae: 0.0173 - val_deviation_mae: 3.1548 - val_loss: 29.2301 - val_mean_mae: 0.0247\n",
      "Epoch 405/800\n",
      "\u001b[1m5/5\u001b[0m \u001b[32m━━━━━━━━━━━━━━━━━━━━\u001b[0m\u001b[37m\u001b[0m \u001b[1m15s\u001b[0m 3s/step - deviation_mae: 3.3929 - loss: 27.8505 - mean_mae: 0.0199 - val_deviation_mae: 3.1412 - val_loss: 28.7643 - val_mean_mae: 0.0240\n",
      "Epoch 406/800\n",
      "\u001b[1m5/5\u001b[0m \u001b[32m━━━━━━━━━━━━━━━━━━━━\u001b[0m\u001b[37m\u001b[0m \u001b[1m15s\u001b[0m 3s/step - deviation_mae: 3.2554 - loss: 27.4254 - mean_mae: 0.0170 - val_deviation_mae: 3.1551 - val_loss: 29.8156 - val_mean_mae: 0.0288\n",
      "Epoch 407/800\n",
      "\u001b[1m5/5\u001b[0m \u001b[32m━━━━━━━━━━━━━━━━━━━━\u001b[0m\u001b[37m\u001b[0m \u001b[1m16s\u001b[0m 3s/step - deviation_mae: 3.5098 - loss: 27.8012 - mean_mae: 0.0205 - val_deviation_mae: 3.1373 - val_loss: 29.1825 - val_mean_mae: 0.0273\n",
      "Epoch 408/800\n",
      "\u001b[1m5/5\u001b[0m \u001b[32m━━━━━━━━━━━━━━━━━━━━\u001b[0m\u001b[37m\u001b[0m \u001b[1m15s\u001b[0m 3s/step - deviation_mae: 3.4017 - loss: 27.5389 - mean_mae: 0.0192 - val_deviation_mae: 3.1575 - val_loss: 28.6634 - val_mean_mae: 0.0226\n",
      "Epoch 409/800\n",
      "\u001b[1m5/5\u001b[0m \u001b[32m━━━━━━━━━━━━━━━━━━━━\u001b[0m\u001b[37m\u001b[0m \u001b[1m15s\u001b[0m 3s/step - deviation_mae: 3.2964 - loss: 27.3949 - mean_mae: 0.0178 - val_deviation_mae: 3.1677 - val_loss: 29.3038 - val_mean_mae: 0.0264\n",
      "Epoch 410/800\n",
      "\u001b[1m5/5\u001b[0m \u001b[32m━━━━━━━━━━━━━━━━━━━━\u001b[0m\u001b[37m\u001b[0m \u001b[1m15s\u001b[0m 3s/step - deviation_mae: 3.3418 - loss: 27.2724 - mean_mae: 0.0181 - val_deviation_mae: 3.1566 - val_loss: 29.0747 - val_mean_mae: 0.0271\n",
      "Epoch 411/800\n",
      "\u001b[1m5/5\u001b[0m \u001b[32m━━━━━━━━━━━━━━━━━━━━\u001b[0m\u001b[37m\u001b[0m \u001b[1m15s\u001b[0m 3s/step - deviation_mae: 3.3511 - loss: 27.2360 - mean_mae: 0.0180 - val_deviation_mae: 3.1686 - val_loss: 29.7601 - val_mean_mae: 0.0313\n",
      "Epoch 412/800\n",
      "\u001b[1m5/5\u001b[0m \u001b[32m━━━━━━━━━━━━━━━━━━━━\u001b[0m\u001b[37m\u001b[0m \u001b[1m15s\u001b[0m 3s/step - deviation_mae: 3.4126 - loss: 28.6074 - mean_mae: 0.0263 - val_deviation_mae: 3.1622 - val_loss: 29.2520 - val_mean_mae: 0.0282\n",
      "Epoch 413/800\n",
      "\u001b[1m5/5\u001b[0m \u001b[32m━━━━━━━━━━━━━━━━━━━━\u001b[0m\u001b[37m\u001b[0m \u001b[1m15s\u001b[0m 3s/step - deviation_mae: 3.4306 - loss: 28.4197 - mean_mae: 0.0263 - val_deviation_mae: 3.2287 - val_loss: 30.4372 - val_mean_mae: 0.0300\n",
      "Epoch 414/800\n",
      "\u001b[1m5/5\u001b[0m \u001b[32m━━━━━━━━━━━━━━━━━━━━\u001b[0m\u001b[37m\u001b[0m \u001b[1m15s\u001b[0m 3s/step - deviation_mae: 3.3258 - loss: 29.0322 - mean_mae: 0.0264 - val_deviation_mae: 3.2746 - val_loss: 30.7968 - val_mean_mae: 0.0314\n",
      "Epoch 415/800\n",
      "\u001b[1m5/5\u001b[0m \u001b[32m━━━━━━━━━━━━━━━━━━━━\u001b[0m\u001b[37m\u001b[0m \u001b[1m15s\u001b[0m 3s/step - deviation_mae: 3.4695 - loss: 28.8890 - mean_mae: 0.0271 - val_deviation_mae: 3.3014 - val_loss: 29.3819 - val_mean_mae: 0.0258\n",
      "Epoch 416/800\n",
      "\u001b[1m5/5\u001b[0m \u001b[32m━━━━━━━━━━━━━━━━━━━━\u001b[0m\u001b[37m\u001b[0m \u001b[1m15s\u001b[0m 3s/step - deviation_mae: 3.5329 - loss: 28.1267 - mean_mae: 0.0223 - val_deviation_mae: 3.2838 - val_loss: 28.7169 - val_mean_mae: 0.0235\n",
      "Epoch 417/800\n",
      "\u001b[1m5/5\u001b[0m \u001b[32m━━━━━━━━━━━━━━━━━━━━\u001b[0m\u001b[37m\u001b[0m \u001b[1m15s\u001b[0m 3s/step - deviation_mae: 3.4941 - loss: 27.5837 - mean_mae: 0.0193 - val_deviation_mae: 3.2984 - val_loss: 28.7917 - val_mean_mae: 0.0259\n",
      "Epoch 418/800\n",
      "\u001b[1m5/5\u001b[0m \u001b[32m━━━━━━━━━━━━━━━━━━━━\u001b[0m\u001b[37m\u001b[0m \u001b[1m15s\u001b[0m 3s/step - deviation_mae: 3.4770 - loss: 27.0587 - mean_mae: 0.0171 - val_deviation_mae: 3.2994 - val_loss: 29.0895 - val_mean_mae: 0.0278\n",
      "Epoch 419/800\n",
      "\u001b[1m5/5\u001b[0m \u001b[32m━━━━━━━━━━━━━━━━━━━━\u001b[0m\u001b[37m\u001b[0m \u001b[1m16s\u001b[0m 3s/step - deviation_mae: 3.4233 - loss: 26.8683 - mean_mae: 0.0177 - val_deviation_mae: 3.2719 - val_loss: 28.6849 - val_mean_mae: 0.0259\n",
      "Epoch 420/800\n",
      "\u001b[1m5/5\u001b[0m \u001b[32m━━━━━━━━━━━━━━━━━━━━\u001b[0m\u001b[37m\u001b[0m \u001b[1m15s\u001b[0m 3s/step - deviation_mae: 3.4901 - loss: 26.9123 - mean_mae: 0.0177 - val_deviation_mae: 3.2580 - val_loss: 28.8687 - val_mean_mae: 0.0271\n",
      "Epoch 421/800\n",
      "\u001b[1m5/5\u001b[0m \u001b[32m━━━━━━━━━━━━━━━━━━━━\u001b[0m\u001b[37m\u001b[0m \u001b[1m15s\u001b[0m 3s/step - deviation_mae: 3.4365 - loss: 26.7807 - mean_mae: 0.0178 - val_deviation_mae: 3.2475 - val_loss: 28.4533 - val_mean_mae: 0.0248\n",
      "Epoch 422/800\n",
      "\u001b[1m5/5\u001b[0m \u001b[32m━━━━━━━━━━━━━━━━━━━━\u001b[0m\u001b[37m\u001b[0m \u001b[1m15s\u001b[0m 3s/step - deviation_mae: 3.3719 - loss: 26.9073 - mean_mae: 0.0176 - val_deviation_mae: 3.2398 - val_loss: 28.9590 - val_mean_mae: 0.0282\n",
      "Epoch 423/800\n",
      "\u001b[1m5/5\u001b[0m \u001b[32m━━━━━━━━━━━━━━━━━━━━\u001b[0m\u001b[37m\u001b[0m \u001b[1m15s\u001b[0m 3s/step - deviation_mae: 3.4331 - loss: 28.5060 - mean_mae: 0.0255 - val_deviation_mae: 3.3062 - val_loss: 28.3527 - val_mean_mae: 0.0232\n",
      "Epoch 424/800\n",
      "\u001b[1m5/5\u001b[0m \u001b[32m━━━━━━━━━━━━━━━━━━━━\u001b[0m\u001b[37m\u001b[0m \u001b[1m15s\u001b[0m 3s/step - deviation_mae: 3.4134 - loss: 27.3226 - mean_mae: 0.0204 - val_deviation_mae: 3.3305 - val_loss: 28.4881 - val_mean_mae: 0.0254\n",
      "Epoch 425/800\n",
      "\u001b[1m5/5\u001b[0m \u001b[32m━━━━━━━━━━━━━━━━━━━━\u001b[0m\u001b[37m\u001b[0m \u001b[1m15s\u001b[0m 3s/step - deviation_mae: 3.5655 - loss: 27.2764 - mean_mae: 0.0203 - val_deviation_mae: 3.3429 - val_loss: 30.6337 - val_mean_mae: 0.0319\n",
      "Epoch 426/800\n",
      "\u001b[1m5/5\u001b[0m \u001b[32m━━━━━━━━━━━━━━━━━━━━\u001b[0m\u001b[37m\u001b[0m \u001b[1m15s\u001b[0m 3s/step - deviation_mae: 3.4111 - loss: 28.2071 - mean_mae: 0.0233 - val_deviation_mae: 3.3140 - val_loss: 28.4722 - val_mean_mae: 0.0234\n",
      "Epoch 427/800\n",
      "\u001b[1m5/5\u001b[0m \u001b[32m━━━━━━━━━━━━━━━━━━━━\u001b[0m\u001b[37m\u001b[0m \u001b[1m15s\u001b[0m 3s/step - deviation_mae: 3.4701 - loss: 27.3323 - mean_mae: 0.0188 - val_deviation_mae: 3.3140 - val_loss: 28.6555 - val_mean_mae: 0.0272\n",
      "Epoch 428/800\n",
      "\u001b[1m5/5\u001b[0m \u001b[32m━━━━━━━━━━━━━━━━━━━━\u001b[0m\u001b[37m\u001b[0m \u001b[1m15s\u001b[0m 3s/step - deviation_mae: 3.5887 - loss: 26.8741 - mean_mae: 0.0177 - val_deviation_mae: 3.3032 - val_loss: 28.2736 - val_mean_mae: 0.0250\n",
      "Epoch 429/800\n",
      "\u001b[1m5/5\u001b[0m \u001b[32m━━━━━━━━━━━━━━━━━━━━\u001b[0m\u001b[37m\u001b[0m \u001b[1m14s\u001b[0m 3s/step - deviation_mae: 3.4270 - loss: 26.4205 - mean_mae: 0.0160 - val_deviation_mae: 3.3414 - val_loss: 28.0766 - val_mean_mae: 0.0229\n",
      "Epoch 430/800\n",
      "\u001b[1m5/5\u001b[0m \u001b[32m━━━━━━━━━━━━━━━━━━━━\u001b[0m\u001b[37m\u001b[0m \u001b[1m14s\u001b[0m 3s/step - deviation_mae: 3.5169 - loss: 26.2758 - mean_mae: 0.0154 - val_deviation_mae: 3.3741 - val_loss: 28.4880 - val_mean_mae: 0.0269\n",
      "Epoch 431/800\n",
      "\u001b[1m5/5\u001b[0m \u001b[32m━━━━━━━━━━━━━━━━━━━━\u001b[0m\u001b[37m\u001b[0m \u001b[1m14s\u001b[0m 3s/step - deviation_mae: 3.6110 - loss: 26.5007 - mean_mae: 0.0176 - val_deviation_mae: 3.3654 - val_loss: 28.1303 - val_mean_mae: 0.0249\n",
      "Epoch 432/800\n",
      "\u001b[1m5/5\u001b[0m \u001b[32m━━━━━━━━━━━━━━━━━━━━\u001b[0m\u001b[37m\u001b[0m \u001b[1m15s\u001b[0m 3s/step - deviation_mae: 3.6220 - loss: 26.8278 - mean_mae: 0.0188 - val_deviation_mae: 3.3658 - val_loss: 28.5589 - val_mean_mae: 0.0278\n",
      "Epoch 433/800\n",
      "\u001b[1m5/5\u001b[0m \u001b[32m━━━━━━━━━━━━━━━━━━━━\u001b[0m\u001b[37m\u001b[0m \u001b[1m14s\u001b[0m 3s/step - deviation_mae: 3.5929 - loss: 27.1719 - mean_mae: 0.0214 - val_deviation_mae: 3.3862 - val_loss: 28.1569 - val_mean_mae: 0.0233\n",
      "Epoch 434/800\n",
      "\u001b[1m5/5\u001b[0m \u001b[32m━━━━━━━━━━━━━━━━━━━━\u001b[0m\u001b[37m\u001b[0m \u001b[1m14s\u001b[0m 3s/step - deviation_mae: 3.6467 - loss: 26.6871 - mean_mae: 0.0195 - val_deviation_mae: 3.4236 - val_loss: 28.8939 - val_mean_mae: 0.0262\n",
      "Epoch 435/800\n",
      "\u001b[1m5/5\u001b[0m \u001b[32m━━━━━━━━━━━━━━━━━━━━\u001b[0m\u001b[37m\u001b[0m \u001b[1m15s\u001b[0m 3s/step - deviation_mae: 3.7348 - loss: 27.4511 - mean_mae: 0.0241 - val_deviation_mae: 3.4326 - val_loss: 29.4637 - val_mean_mae: 0.0285\n",
      "Epoch 436/800\n",
      "\u001b[1m5/5\u001b[0m \u001b[32m━━━━━━━━━━━━━━━━━━━━\u001b[0m\u001b[37m\u001b[0m \u001b[1m14s\u001b[0m 3s/step - deviation_mae: 3.5838 - loss: 27.7629 - mean_mae: 0.0261 - val_deviation_mae: 3.4214 - val_loss: 27.8356 - val_mean_mae: 0.0225\n",
      "Epoch 437/800\n",
      "\u001b[1m5/5\u001b[0m \u001b[32m━━━━━━━━━━━━━━━━━━━━\u001b[0m\u001b[37m\u001b[0m \u001b[1m15s\u001b[0m 3s/step - deviation_mae: 3.6982 - loss: 27.0370 - mean_mae: 0.0202 - val_deviation_mae: 3.4784 - val_loss: 29.1275 - val_mean_mae: 0.0309\n",
      "Epoch 438/800\n",
      "\u001b[1m5/5\u001b[0m \u001b[32m━━━━━━━━━━━━━━━━━━━━\u001b[0m\u001b[37m\u001b[0m \u001b[1m15s\u001b[0m 3s/step - deviation_mae: 3.6577 - loss: 27.5666 - mean_mae: 0.0234 - val_deviation_mae: 3.5428 - val_loss: 28.8364 - val_mean_mae: 0.0299\n",
      "Epoch 439/800\n",
      "\u001b[1m5/5\u001b[0m \u001b[32m━━━━━━━━━━━━━━━━━━━━\u001b[0m\u001b[37m\u001b[0m \u001b[1m15s\u001b[0m 3s/step - deviation_mae: 3.7461 - loss: 26.5354 - mean_mae: 0.0186 - val_deviation_mae: 3.5008 - val_loss: 27.8203 - val_mean_mae: 0.0236\n",
      "Epoch 440/800\n",
      "\u001b[1m5/5\u001b[0m \u001b[32m━━━━━━━━━━━━━━━━━━━━\u001b[0m\u001b[37m\u001b[0m \u001b[1m15s\u001b[0m 3s/step - deviation_mae: 3.7029 - loss: 26.2098 - mean_mae: 0.0163 - val_deviation_mae: 3.5016 - val_loss: 30.0522 - val_mean_mae: 0.0328\n",
      "Epoch 441/800\n",
      "\u001b[1m5/5\u001b[0m \u001b[32m━━━━━━━━━━━━━━━━━━━━\u001b[0m\u001b[37m\u001b[0m \u001b[1m15s\u001b[0m 3s/step - deviation_mae: 3.7958 - loss: 27.9019 - mean_mae: 0.0264 - val_deviation_mae: 3.5119 - val_loss: 28.6791 - val_mean_mae: 0.0271\n",
      "Epoch 442/800\n",
      "\u001b[1m5/5\u001b[0m \u001b[32m━━━━━━━━━━━━━━━━━━━━\u001b[0m\u001b[37m\u001b[0m \u001b[1m14s\u001b[0m 3s/step - deviation_mae: 3.7244 - loss: 27.3064 - mean_mae: 0.0223 - val_deviation_mae: 3.5582 - val_loss: 28.2986 - val_mean_mae: 0.0276\n",
      "Epoch 443/800\n",
      "\u001b[1m5/5\u001b[0m \u001b[32m━━━━━━━━━━━━━━━━━━━━\u001b[0m\u001b[37m\u001b[0m \u001b[1m15s\u001b[0m 3s/step - deviation_mae: 3.7457 - loss: 26.6436 - mean_mae: 0.0216 - val_deviation_mae: 3.5872 - val_loss: 28.5165 - val_mean_mae: 0.0296\n",
      "Epoch 444/800\n",
      "\u001b[1m5/5\u001b[0m \u001b[32m━━━━━━━━━━━━━━━━━━━━\u001b[0m\u001b[37m\u001b[0m \u001b[1m15s\u001b[0m 3s/step - deviation_mae: 3.7676 - loss: 26.7392 - mean_mae: 0.0221 - val_deviation_mae: 3.5856 - val_loss: 28.8077 - val_mean_mae: 0.0311\n",
      "Epoch 445/800\n",
      "\u001b[1m5/5\u001b[0m \u001b[32m━━━━━━━━━━━━━━━━━━━━\u001b[0m\u001b[37m\u001b[0m \u001b[1m14s\u001b[0m 3s/step - deviation_mae: 3.8422 - loss: 27.1714 - mean_mae: 0.0246 - val_deviation_mae: 3.5715 - val_loss: 30.2005 - val_mean_mae: 0.0369\n",
      "Epoch 446/800\n",
      "\u001b[1m5/5\u001b[0m \u001b[32m━━━━━━━━━━━━━━━━━━━━\u001b[0m\u001b[37m\u001b[0m \u001b[1m15s\u001b[0m 3s/step - deviation_mae: 3.7989 - loss: 27.7325 - mean_mae: 0.0287 - val_deviation_mae: 3.5679 - val_loss: 27.6058 - val_mean_mae: 0.0237\n",
      "Epoch 447/800\n",
      "\u001b[1m5/5\u001b[0m \u001b[32m━━━━━━━━━━━━━━━━━━━━\u001b[0m\u001b[37m\u001b[0m \u001b[1m14s\u001b[0m 3s/step - deviation_mae: 3.7739 - loss: 25.9509 - mean_mae: 0.0176 - val_deviation_mae: 3.5890 - val_loss: 28.2091 - val_mean_mae: 0.0251\n",
      "Epoch 448/800\n",
      "\u001b[1m5/5\u001b[0m \u001b[32m━━━━━━━━━━━━━━━━━━━━\u001b[0m\u001b[37m\u001b[0m \u001b[1m14s\u001b[0m 3s/step - deviation_mae: 3.8487 - loss: 26.4044 - mean_mae: 0.0185 - val_deviation_mae: 3.5865 - val_loss: 27.5182 - val_mean_mae: 0.0244\n",
      "Epoch 449/800\n",
      "\u001b[1m5/5\u001b[0m \u001b[32m━━━━━━━━━━━━━━━━━━━━\u001b[0m\u001b[37m\u001b[0m \u001b[1m15s\u001b[0m 3s/step - deviation_mae: 3.8007 - loss: 25.6708 - mean_mae: 0.0146 - val_deviation_mae: 3.6139 - val_loss: 27.2981 - val_mean_mae: 0.0225\n",
      "Epoch 450/800\n",
      "\u001b[1m5/5\u001b[0m \u001b[32m━━━━━━━━━━━━━━━━━━━━\u001b[0m\u001b[37m\u001b[0m \u001b[1m14s\u001b[0m 3s/step - deviation_mae: 4.0971 - loss: 25.4937 - mean_mae: 0.0141 - val_deviation_mae: 3.6583 - val_loss: 27.5349 - val_mean_mae: 0.0253\n",
      "Epoch 451/800\n",
      "\u001b[1m5/5\u001b[0m \u001b[32m━━━━━━━━━━━━━━━━━━━━\u001b[0m\u001b[37m\u001b[0m \u001b[1m14s\u001b[0m 3s/step - deviation_mae: 3.9240 - loss: 25.5670 - mean_mae: 0.0150 - val_deviation_mae: 3.6963 - val_loss: 27.2723 - val_mean_mae: 0.0223\n",
      "Epoch 452/800\n",
      "\u001b[1m5/5\u001b[0m \u001b[32m━━━━━━━━━━━━━━━━━━━━\u001b[0m\u001b[37m\u001b[0m \u001b[1m15s\u001b[0m 3s/step - deviation_mae: 3.9506 - loss: 25.5029 - mean_mae: 0.0147 - val_deviation_mae: 3.7289 - val_loss: 27.3717 - val_mean_mae: 0.0224\n",
      "Epoch 453/800\n",
      "\u001b[1m5/5\u001b[0m \u001b[32m━━━━━━━━━━━━━━━━━━━━\u001b[0m\u001b[37m\u001b[0m \u001b[1m15s\u001b[0m 3s/step - deviation_mae: 3.9027 - loss: 25.9383 - mean_mae: 0.0163 - val_deviation_mae: 3.7316 - val_loss: 27.1672 - val_mean_mae: 0.0241\n",
      "Epoch 454/800\n",
      "\u001b[1m5/5\u001b[0m \u001b[32m━━━━━━━━━━━━━━━━━━━━\u001b[0m\u001b[37m\u001b[0m \u001b[1m14s\u001b[0m 3s/step - deviation_mae: 3.9615 - loss: 25.4842 - mean_mae: 0.0159 - val_deviation_mae: 3.7568 - val_loss: 27.6991 - val_mean_mae: 0.0272\n",
      "Epoch 455/800\n",
      "\u001b[1m5/5\u001b[0m \u001b[32m━━━━━━━━━━━━━━━━━━━━\u001b[0m\u001b[37m\u001b[0m \u001b[1m14s\u001b[0m 3s/step - deviation_mae: 3.9255 - loss: 26.2177 - mean_mae: 0.0214 - val_deviation_mae: 3.7656 - val_loss: 27.7834 - val_mean_mae: 0.0285\n",
      "Epoch 456/800\n",
      "\u001b[1m5/5\u001b[0m \u001b[32m━━━━━━━━━━━━━━━━━━━━\u001b[0m\u001b[37m\u001b[0m \u001b[1m15s\u001b[0m 3s/step - deviation_mae: 3.9534 - loss: 25.7587 - mean_mae: 0.0181 - val_deviation_mae: 3.7926 - val_loss: 27.2289 - val_mean_mae: 0.0252\n",
      "Epoch 457/800\n",
      "\u001b[1m5/5\u001b[0m \u001b[32m━━━━━━━━━━━━━━━━━━━━\u001b[0m\u001b[37m\u001b[0m \u001b[1m15s\u001b[0m 3s/step - deviation_mae: 3.9553 - loss: 25.4909 - mean_mae: 0.0167 - val_deviation_mae: 3.8264 - val_loss: 26.8066 - val_mean_mae: 0.0214\n",
      "Epoch 458/800\n",
      "\u001b[1m5/5\u001b[0m \u001b[32m━━━━━━━━━━━━━━━━━━━━\u001b[0m\u001b[37m\u001b[0m \u001b[1m15s\u001b[0m 3s/step - deviation_mae: 4.0778 - loss: 25.2148 - mean_mae: 0.0161 - val_deviation_mae: 3.8326 - val_loss: 26.7667 - val_mean_mae: 0.0212\n",
      "Epoch 459/800\n",
      "\u001b[1m5/5\u001b[0m \u001b[32m━━━━━━━━━━━━━━━━━━━━\u001b[0m\u001b[37m\u001b[0m \u001b[1m15s\u001b[0m 3s/step - deviation_mae: 3.9523 - loss: 25.6742 - mean_mae: 0.0172 - val_deviation_mae: 3.8426 - val_loss: 26.5798 - val_mean_mae: 0.0209\n",
      "Epoch 460/800\n",
      "\u001b[1m5/5\u001b[0m \u001b[32m━━━━━━━━━━━━━━━━━━━━\u001b[0m\u001b[37m\u001b[0m \u001b[1m14s\u001b[0m 3s/step - deviation_mae: 3.9248 - loss: 25.3311 - mean_mae: 0.0169 - val_deviation_mae: 3.8479 - val_loss: 27.3340 - val_mean_mae: 0.0274\n",
      "Epoch 461/800\n",
      "\u001b[1m5/5\u001b[0m \u001b[32m━━━━━━━━━━━━━━━━━━━━\u001b[0m\u001b[37m\u001b[0m \u001b[1m14s\u001b[0m 3s/step - deviation_mae: 4.1088 - loss: 25.4285 - mean_mae: 0.0188 - val_deviation_mae: 3.8796 - val_loss: 27.8841 - val_mean_mae: 0.0305\n",
      "Epoch 462/800\n",
      "\u001b[1m5/5\u001b[0m \u001b[32m━━━━━━━━━━━━━━━━━━━━\u001b[0m\u001b[37m\u001b[0m \u001b[1m14s\u001b[0m 3s/step - deviation_mae: 4.1889 - loss: 26.0910 - mean_mae: 0.0214 - val_deviation_mae: 3.9337 - val_loss: 26.5238 - val_mean_mae: 0.0216\n",
      "Epoch 463/800\n",
      "\u001b[1m5/5\u001b[0m \u001b[32m━━━━━━━━━━━━━━━━━━━━\u001b[0m\u001b[37m\u001b[0m \u001b[1m14s\u001b[0m 3s/step - deviation_mae: 4.1000 - loss: 24.8279 - mean_mae: 0.0153 - val_deviation_mae: 3.9403 - val_loss: 26.6284 - val_mean_mae: 0.0227\n",
      "Epoch 464/800\n",
      "\u001b[1m5/5\u001b[0m \u001b[32m━━━━━━━━━━━━━━━━━━━━\u001b[0m\u001b[37m\u001b[0m \u001b[1m14s\u001b[0m 3s/step - deviation_mae: 4.0524 - loss: 25.1395 - mean_mae: 0.0163 - val_deviation_mae: 3.9464 - val_loss: 26.9070 - val_mean_mae: 0.0243\n",
      "Epoch 465/800\n",
      "\u001b[1m5/5\u001b[0m \u001b[32m━━━━━━━━━━━━━━━━━━━━\u001b[0m\u001b[37m\u001b[0m \u001b[1m14s\u001b[0m 3s/step - deviation_mae: 4.1791 - loss: 24.8627 - mean_mae: 0.0163 - val_deviation_mae: 3.9648 - val_loss: 26.3564 - val_mean_mae: 0.0221\n",
      "Epoch 466/800\n",
      "\u001b[1m5/5\u001b[0m \u001b[32m━━━━━━━━━━━━━━━━━━━━\u001b[0m\u001b[37m\u001b[0m \u001b[1m14s\u001b[0m 3s/step - deviation_mae: 4.1864 - loss: 24.4099 - mean_mae: 0.0126 - val_deviation_mae: 3.9931 - val_loss: 27.5920 - val_mean_mae: 0.0306\n",
      "Epoch 467/800\n",
      "\u001b[1m5/5\u001b[0m \u001b[32m━━━━━━━━━━━━━━━━━━━━\u001b[0m\u001b[37m\u001b[0m \u001b[1m14s\u001b[0m 3s/step - deviation_mae: 4.2319 - loss: 25.3012 - mean_mae: 0.0189 - val_deviation_mae: 4.0149 - val_loss: 27.7052 - val_mean_mae: 0.0309\n",
      "Epoch 468/800\n",
      "\u001b[1m5/5\u001b[0m \u001b[32m━━━━━━━━━━━━━━━━━━━━\u001b[0m\u001b[37m\u001b[0m \u001b[1m15s\u001b[0m 3s/step - deviation_mae: 4.2369 - loss: 25.4623 - mean_mae: 0.0209 - val_deviation_mae: 4.0613 - val_loss: 26.5180 - val_mean_mae: 0.0222\n",
      "Epoch 469/800\n",
      "\u001b[1m5/5\u001b[0m \u001b[32m━━━━━━━━━━━━━━━━━━━━\u001b[0m\u001b[37m\u001b[0m \u001b[1m15s\u001b[0m 3s/step - deviation_mae: 4.2401 - loss: 25.3643 - mean_mae: 0.0203 - val_deviation_mae: 4.0960 - val_loss: 28.1327 - val_mean_mae: 0.0292\n",
      "Epoch 470/800\n",
      "\u001b[1m5/5\u001b[0m \u001b[32m━━━━━━━━━━━━━━━━━━━━\u001b[0m\u001b[37m\u001b[0m \u001b[1m14s\u001b[0m 3s/step - deviation_mae: 4.3676 - loss: 26.0865 - mean_mae: 0.0247 - val_deviation_mae: 4.1003 - val_loss: 26.1146 - val_mean_mae: 0.0219\n",
      "Epoch 471/800\n",
      "\u001b[1m5/5\u001b[0m \u001b[32m━━━━━━━━━━━━━━━━━━━━\u001b[0m\u001b[37m\u001b[0m \u001b[1m14s\u001b[0m 3s/step - deviation_mae: 4.2883 - loss: 25.0726 - mean_mae: 0.0182 - val_deviation_mae: 4.1173 - val_loss: 26.3907 - val_mean_mae: 0.0249\n",
      "Epoch 472/800\n",
      "\u001b[1m5/5\u001b[0m \u001b[32m━━━━━━━━━━━━━━━━━━━━\u001b[0m\u001b[37m\u001b[0m \u001b[1m14s\u001b[0m 3s/step - deviation_mae: 4.2590 - loss: 24.8112 - mean_mae: 0.0164 - val_deviation_mae: 4.1502 - val_loss: 27.2319 - val_mean_mae: 0.0301\n",
      "Epoch 473/800\n",
      "\u001b[1m5/5\u001b[0m \u001b[32m━━━━━━━━━━━━━━━━━━━━\u001b[0m\u001b[37m\u001b[0m \u001b[1m14s\u001b[0m 3s/step - deviation_mae: 4.2732 - loss: 24.8493 - mean_mae: 0.0173 - val_deviation_mae: 4.1867 - val_loss: 26.1599 - val_mean_mae: 0.0244\n",
      "Epoch 474/800\n",
      "\u001b[1m5/5\u001b[0m \u001b[32m━━━━━━━━━━━━━━━━━━━━\u001b[0m\u001b[37m\u001b[0m \u001b[1m14s\u001b[0m 3s/step - deviation_mae: 4.3767 - loss: 24.3745 - mean_mae: 0.0156 - val_deviation_mae: 4.2150 - val_loss: 26.2700 - val_mean_mae: 0.0225\n",
      "Epoch 475/800\n",
      "\u001b[1m5/5\u001b[0m \u001b[32m━━━━━━━━━━━━━━━━━━━━\u001b[0m\u001b[37m\u001b[0m \u001b[1m14s\u001b[0m 3s/step - deviation_mae: 4.5037 - loss: 24.7054 - mean_mae: 0.0168 - val_deviation_mae: 4.2387 - val_loss: 26.0688 - val_mean_mae: 0.0219\n",
      "Epoch 476/800\n",
      "\u001b[1m5/5\u001b[0m \u001b[32m━━━━━━━━━━━━━━━━━━━━\u001b[0m\u001b[37m\u001b[0m \u001b[1m14s\u001b[0m 3s/step - deviation_mae: 4.4939 - loss: 24.3534 - mean_mae: 0.0159 - val_deviation_mae: 4.2607 - val_loss: 26.1690 - val_mean_mae: 0.0253\n",
      "Epoch 477/800\n",
      "\u001b[1m5/5\u001b[0m \u001b[32m━━━━━━━━━━━━━━━━━━━━\u001b[0m\u001b[37m\u001b[0m \u001b[1m14s\u001b[0m 3s/step - deviation_mae: 4.4729 - loss: 24.3021 - mean_mae: 0.0169 - val_deviation_mae: 4.2923 - val_loss: 26.4325 - val_mean_mae: 0.0276\n",
      "Epoch 478/800\n",
      "\u001b[1m5/5\u001b[0m \u001b[32m━━━━━━━━━━━━━━━━━━━━\u001b[0m\u001b[37m\u001b[0m \u001b[1m14s\u001b[0m 3s/step - deviation_mae: 4.5030 - loss: 24.1992 - mean_mae: 0.0166 - val_deviation_mae: 4.3399 - val_loss: 26.6629 - val_mean_mae: 0.0297\n",
      "Epoch 479/800\n",
      "\u001b[1m5/5\u001b[0m \u001b[32m━━━━━━━━━━━━━━━━━━━━\u001b[0m\u001b[37m\u001b[0m \u001b[1m14s\u001b[0m 3s/step - deviation_mae: 4.4479 - loss: 24.6359 - mean_mae: 0.0199 - val_deviation_mae: 4.3625 - val_loss: 25.8582 - val_mean_mae: 0.0250\n",
      "Epoch 480/800\n",
      "\u001b[1m5/5\u001b[0m \u001b[32m━━━━━━━━━━━━━━━━━━━━\u001b[0m\u001b[37m\u001b[0m \u001b[1m14s\u001b[0m 3s/step - deviation_mae: 4.5198 - loss: 24.6711 - mean_mae: 0.0195 - val_deviation_mae: 4.4120 - val_loss: 26.4510 - val_mean_mae: 0.0257\n",
      "Epoch 481/800\n",
      "\u001b[1m5/5\u001b[0m \u001b[32m━━━━━━━━━━━━━━━━━━━━\u001b[0m\u001b[37m\u001b[0m \u001b[1m14s\u001b[0m 3s/step - deviation_mae: 4.5611 - loss: 24.7657 - mean_mae: 0.0190 - val_deviation_mae: 4.4462 - val_loss: 27.8264 - val_mean_mae: 0.0312\n",
      "Epoch 482/800\n",
      "\u001b[1m5/5\u001b[0m \u001b[32m━━━━━━━━━━━━━━━━━━━━\u001b[0m\u001b[37m\u001b[0m \u001b[1m14s\u001b[0m 3s/step - deviation_mae: 4.6901 - loss: 25.9138 - mean_mae: 0.0236 - val_deviation_mae: 4.4363 - val_loss: 25.5782 - val_mean_mae: 0.0238\n",
      "Epoch 483/800\n",
      "\u001b[1m5/5\u001b[0m \u001b[32m━━━━━━━━━━━━━━━━━━━━\u001b[0m\u001b[37m\u001b[0m \u001b[1m14s\u001b[0m 3s/step - deviation_mae: 4.6259 - loss: 24.3078 - mean_mae: 0.0174 - val_deviation_mae: 4.4589 - val_loss: 26.2617 - val_mean_mae: 0.0293\n",
      "Epoch 484/800\n",
      "\u001b[1m5/5\u001b[0m \u001b[32m━━━━━━━━━━━━━━━━━━━━\u001b[0m\u001b[37m\u001b[0m \u001b[1m14s\u001b[0m 3s/step - deviation_mae: 4.6204 - loss: 24.0490 - mean_mae: 0.0180 - val_deviation_mae: 4.4939 - val_loss: 26.4925 - val_mean_mae: 0.0310\n",
      "Epoch 485/800\n",
      "\u001b[1m5/5\u001b[0m \u001b[32m━━━━━━━━━━━━━━━━━━━━\u001b[0m\u001b[37m\u001b[0m \u001b[1m14s\u001b[0m 3s/step - deviation_mae: 4.6337 - loss: 24.3731 - mean_mae: 0.0221 - val_deviation_mae: 4.5311 - val_loss: 25.0945 - val_mean_mae: 0.0214\n",
      "Epoch 486/800\n",
      "\u001b[1m5/5\u001b[0m \u001b[32m━━━━━━━━━━━━━━━━━━━━\u001b[0m\u001b[37m\u001b[0m \u001b[1m14s\u001b[0m 3s/step - deviation_mae: 4.7152 - loss: 23.7633 - mean_mae: 0.0174 - val_deviation_mae: 4.5626 - val_loss: 25.1274 - val_mean_mae: 0.0210\n",
      "Epoch 487/800\n",
      "\u001b[1m5/5\u001b[0m \u001b[32m━━━━━━━━━━━━━━━━━━━━\u001b[0m\u001b[37m\u001b[0m \u001b[1m14s\u001b[0m 3s/step - deviation_mae: 4.8467 - loss: 23.6847 - mean_mae: 0.0146 - val_deviation_mae: 4.6134 - val_loss: 24.9353 - val_mean_mae: 0.0214\n",
      "Epoch 488/800\n",
      "\u001b[1m5/5\u001b[0m \u001b[32m━━━━━━━━━━━━━━━━━━━━\u001b[0m\u001b[37m\u001b[0m \u001b[1m14s\u001b[0m 3s/step - deviation_mae: 4.7796 - loss: 23.5062 - mean_mae: 0.0146 - val_deviation_mae: 4.6327 - val_loss: 24.9282 - val_mean_mae: 0.0222\n",
      "Epoch 489/800\n",
      "\u001b[1m5/5\u001b[0m \u001b[32m━━━━━━━━━━━━━━━━━━━━\u001b[0m\u001b[37m\u001b[0m \u001b[1m14s\u001b[0m 3s/step - deviation_mae: 4.8626 - loss: 23.0489 - mean_mae: 0.0134 - val_deviation_mae: 4.6425 - val_loss: 25.0183 - val_mean_mae: 0.0238\n",
      "Epoch 490/800\n",
      "\u001b[1m5/5\u001b[0m \u001b[32m━━━━━━━━━━━━━━━━━━━━\u001b[0m\u001b[37m\u001b[0m \u001b[1m14s\u001b[0m 3s/step - deviation_mae: 4.7571 - loss: 23.0994 - mean_mae: 0.0137 - val_deviation_mae: 4.6834 - val_loss: 24.8658 - val_mean_mae: 0.0231\n",
      "Epoch 491/800\n",
      "\u001b[1m5/5\u001b[0m \u001b[32m━━━━━━━━━━━━━━━━━━━━\u001b[0m\u001b[37m\u001b[0m \u001b[1m14s\u001b[0m 3s/step - deviation_mae: 4.9031 - loss: 22.7822 - mean_mae: 0.0126 - val_deviation_mae: 4.7318 - val_loss: 24.6972 - val_mean_mae: 0.0223\n",
      "Epoch 492/800\n",
      "\u001b[1m5/5\u001b[0m \u001b[32m━━━━━━━━━━━━━━━━━━━━\u001b[0m\u001b[37m\u001b[0m \u001b[1m14s\u001b[0m 3s/step - deviation_mae: 4.9217 - loss: 23.1405 - mean_mae: 0.0146 - val_deviation_mae: 4.7781 - val_loss: 24.6723 - val_mean_mae: 0.0232\n",
      "Epoch 493/800\n",
      "\u001b[1m5/5\u001b[0m \u001b[32m━━━━━━━━━━━━━━━━━━━━\u001b[0m\u001b[37m\u001b[0m \u001b[1m14s\u001b[0m 3s/step - deviation_mae: 4.9481 - loss: 22.8488 - mean_mae: 0.0137 - val_deviation_mae: 4.8211 - val_loss: 24.7167 - val_mean_mae: 0.0240\n",
      "Epoch 494/800\n",
      "\u001b[1m5/5\u001b[0m \u001b[32m━━━━━━━━━━━━━━━━━━━━\u001b[0m\u001b[37m\u001b[0m \u001b[1m14s\u001b[0m 3s/step - deviation_mae: 4.9777 - loss: 22.9656 - mean_mae: 0.0166 - val_deviation_mae: 4.8643 - val_loss: 24.9007 - val_mean_mae: 0.0240\n",
      "Epoch 495/800\n",
      "\u001b[1m5/5\u001b[0m \u001b[32m━━━━━━━━━━━━━━━━━━━━\u001b[0m\u001b[37m\u001b[0m \u001b[1m14s\u001b[0m 3s/step - deviation_mae: 5.0645 - loss: 23.1897 - mean_mae: 0.0177 - val_deviation_mae: 4.8997 - val_loss: 24.6821 - val_mean_mae: 0.0231\n",
      "Epoch 496/800\n",
      "\u001b[1m5/5\u001b[0m \u001b[32m━━━━━━━━━━━━━━━━━━━━\u001b[0m\u001b[37m\u001b[0m \u001b[1m14s\u001b[0m 3s/step - deviation_mae: 5.0117 - loss: 23.0378 - mean_mae: 0.0161 - val_deviation_mae: 4.9388 - val_loss: 24.8224 - val_mean_mae: 0.0238\n",
      "Epoch 497/800\n",
      "\u001b[1m5/5\u001b[0m \u001b[32m━━━━━━━━━━━━━━━━━━━━\u001b[0m\u001b[37m\u001b[0m \u001b[1m14s\u001b[0m 3s/step - deviation_mae: 5.1323 - loss: 22.8975 - mean_mae: 0.0164 - val_deviation_mae: 4.9737 - val_loss: 24.0538 - val_mean_mae: 0.0215\n",
      "Epoch 498/800\n",
      "\u001b[1m5/5\u001b[0m \u001b[32m━━━━━━━━━━━━━━━━━━━━\u001b[0m\u001b[37m\u001b[0m \u001b[1m14s\u001b[0m 3s/step - deviation_mae: 5.1453 - loss: 22.5448 - mean_mae: 0.0132 - val_deviation_mae: 5.0145 - val_loss: 24.1187 - val_mean_mae: 0.0226\n",
      "Epoch 499/800\n",
      "\u001b[1m5/5\u001b[0m \u001b[32m━━━━━━━━━━━━━━━━━━━━\u001b[0m\u001b[37m\u001b[0m \u001b[1m14s\u001b[0m 3s/step - deviation_mae: 5.1267 - loss: 22.5825 - mean_mae: 0.0151 - val_deviation_mae: 5.0695 - val_loss: 24.1446 - val_mean_mae: 0.0211\n",
      "Epoch 500/800\n",
      "\u001b[1m4/5\u001b[0m \u001b[32m━━━━━━━━━━━━━━━━\u001b[0m\u001b[37m━━━━\u001b[0m \u001b[1m1s\u001b[0m 2s/step - deviation_mae: 5.2704 - loss: 22.8229 - mean_mae: 0.0179\n",
      "Epoch 500: saving model to C:/Users/uic33116/Documents/documents/ariel-data-challenge-2024/training_full_model/model-500.weights.h5\n",
      "\u001b[1m5/5\u001b[0m \u001b[32m━━━━━━━━━━━━━━━━━━━━\u001b[0m\u001b[37m\u001b[0m \u001b[1m18s\u001b[0m 4s/step - deviation_mae: 5.2546 - loss: 22.8289 - mean_mae: 0.0180 - val_deviation_mae: 5.1233 - val_loss: 26.0074 - val_mean_mae: 0.0297\n",
      "Epoch 501/800\n",
      "\u001b[1m5/5\u001b[0m \u001b[32m━━━━━━━━━━━━━━━━━━━━\u001b[0m\u001b[37m\u001b[0m \u001b[1m15s\u001b[0m 3s/step - deviation_mae: 5.2941 - loss: 23.6128 - mean_mae: 0.0231 - val_deviation_mae: 5.1087 - val_loss: 24.0391 - val_mean_mae: 0.0213\n",
      "Epoch 502/800\n",
      "\u001b[1m5/5\u001b[0m \u001b[32m━━━━━━━━━━━━━━━━━━━━\u001b[0m\u001b[37m\u001b[0m \u001b[1m15s\u001b[0m 3s/step - deviation_mae: 5.2669 - loss: 22.5957 - mean_mae: 0.0161 - val_deviation_mae: 5.1169 - val_loss: 23.7592 - val_mean_mae: 0.0227\n",
      "Epoch 503/800\n",
      "\u001b[1m5/5\u001b[0m \u001b[32m━━━━━━━━━━━━━━━━━━━━\u001b[0m\u001b[37m\u001b[0m \u001b[1m15s\u001b[0m 3s/step - deviation_mae: 5.2889 - loss: 22.0535 - mean_mae: 0.0128 - val_deviation_mae: 5.1513 - val_loss: 23.9561 - val_mean_mae: 0.0243\n",
      "Epoch 504/800\n",
      "\u001b[1m5/5\u001b[0m \u001b[32m━━━━━━━━━━━━━━━━━━━━\u001b[0m\u001b[37m\u001b[0m \u001b[1m15s\u001b[0m 3s/step - deviation_mae: 5.3890 - loss: 21.8530 - mean_mae: 0.0140 - val_deviation_mae: 5.1923 - val_loss: 23.8588 - val_mean_mae: 0.0249\n",
      "Epoch 505/800\n",
      "\u001b[1m5/5\u001b[0m \u001b[32m━━━━━━━━━━━━━━━━━━━━\u001b[0m\u001b[37m\u001b[0m \u001b[1m15s\u001b[0m 3s/step - deviation_mae: 5.4153 - loss: 21.9781 - mean_mae: 0.0152 - val_deviation_mae: 5.2146 - val_loss: 23.5681 - val_mean_mae: 0.0236\n",
      "Epoch 506/800\n",
      "\u001b[1m5/5\u001b[0m \u001b[32m━━━━━━━━━━━━━━━━━━━━\u001b[0m\u001b[37m\u001b[0m \u001b[1m15s\u001b[0m 3s/step - deviation_mae: 5.3042 - loss: 21.7458 - mean_mae: 0.0137 - val_deviation_mae: 5.2500 - val_loss: 23.6985 - val_mean_mae: 0.0250\n",
      "Epoch 507/800\n",
      "\u001b[1m5/5\u001b[0m \u001b[32m━━━━━━━━━━━━━━━━━━━━\u001b[0m\u001b[37m\u001b[0m \u001b[1m15s\u001b[0m 3s/step - deviation_mae: 5.4678 - loss: 21.7805 - mean_mae: 0.0149 - val_deviation_mae: 5.2876 - val_loss: 23.3778 - val_mean_mae: 0.0237\n",
      "Epoch 508/800\n",
      "\u001b[1m5/5\u001b[0m \u001b[32m━━━━━━━━━━━━━━━━━━━━\u001b[0m\u001b[37m\u001b[0m \u001b[1m15s\u001b[0m 3s/step - deviation_mae: 5.4873 - loss: 21.5534 - mean_mae: 0.0156 - val_deviation_mae: 5.3387 - val_loss: 23.5823 - val_mean_mae: 0.0231\n",
      "Epoch 509/800\n",
      "\u001b[1m5/5\u001b[0m \u001b[32m━━━━━━━━━━━━━━━━━━━━\u001b[0m\u001b[37m\u001b[0m \u001b[1m15s\u001b[0m 3s/step - deviation_mae: 5.5686 - loss: 22.1638 - mean_mae: 0.0176 - val_deviation_mae: 5.4059 - val_loss: 23.4258 - val_mean_mae: 0.0222\n",
      "Epoch 510/800\n",
      "\u001b[1m5/5\u001b[0m \u001b[32m━━━━━━━━━━━━━━━━━━━━\u001b[0m\u001b[37m\u001b[0m \u001b[1m15s\u001b[0m 3s/step - deviation_mae: 5.5630 - loss: 21.8491 - mean_mae: 0.0156 - val_deviation_mae: 5.4300 - val_loss: 23.0514 - val_mean_mae: 0.0208\n",
      "Epoch 511/800\n",
      "\u001b[1m5/5\u001b[0m \u001b[32m━━━━━━━━━━━━━━━━━━━━\u001b[0m\u001b[37m\u001b[0m \u001b[1m15s\u001b[0m 3s/step - deviation_mae: 5.5336 - loss: 21.4108 - mean_mae: 0.0141 - val_deviation_mae: 5.4361 - val_loss: 23.0873 - val_mean_mae: 0.0234\n",
      "Epoch 512/800\n",
      "\u001b[1m5/5\u001b[0m \u001b[32m━━━━━━━━━━━━━━━━━━━━\u001b[0m\u001b[37m\u001b[0m \u001b[1m15s\u001b[0m 3s/step - deviation_mae: 5.6501 - loss: 21.5604 - mean_mae: 0.0167 - val_deviation_mae: 5.4672 - val_loss: 23.5345 - val_mean_mae: 0.0281\n",
      "Epoch 513/800\n",
      "\u001b[1m5/5\u001b[0m \u001b[32m━━━━━━━━━━━━━━━━━━━━\u001b[0m\u001b[37m\u001b[0m \u001b[1m15s\u001b[0m 3s/step - deviation_mae: 5.6594 - loss: 21.7721 - mean_mae: 0.0187 - val_deviation_mae: 5.5349 - val_loss: 23.1939 - val_mean_mae: 0.0261\n",
      "Epoch 514/800\n",
      "\u001b[1m5/5\u001b[0m \u001b[32m━━━━━━━━━━━━━━━━━━━━\u001b[0m\u001b[37m\u001b[0m \u001b[1m15s\u001b[0m 3s/step - deviation_mae: 5.6745 - loss: 21.2703 - mean_mae: 0.0175 - val_deviation_mae: 5.5597 - val_loss: 25.8012 - val_mean_mae: 0.0404\n",
      "Epoch 515/800\n",
      "\u001b[1m5/5\u001b[0m \u001b[32m━━━━━━━━━━━━━━━━━━━━\u001b[0m\u001b[37m\u001b[0m \u001b[1m14s\u001b[0m 3s/step - deviation_mae: 5.7191 - loss: 22.5142 - mean_mae: 0.0269 - val_deviation_mae: 5.5849 - val_loss: 23.0090 - val_mean_mae: 0.0265\n",
      "Epoch 516/800\n",
      "\u001b[1m5/5\u001b[0m \u001b[32m━━━━━━━━━━━━━━━━━━━━\u001b[0m\u001b[37m\u001b[0m \u001b[1m15s\u001b[0m 3s/step - deviation_mae: 5.7340 - loss: 21.4807 - mean_mae: 0.0201 - val_deviation_mae: 5.6073 - val_loss: 24.6395 - val_mean_mae: 0.0312\n",
      "Epoch 517/800\n",
      "\u001b[1m5/5\u001b[0m \u001b[32m━━━━━━━━━━━━━━━━━━━━\u001b[0m\u001b[37m\u001b[0m \u001b[1m15s\u001b[0m 3s/step - deviation_mae: 5.7134 - loss: 22.5616 - mean_mae: 0.0253 - val_deviation_mae: 5.6449 - val_loss: 22.6242 - val_mean_mae: 0.0227\n",
      "Epoch 518/800\n",
      "\u001b[1m5/5\u001b[0m \u001b[32m━━━━━━━━━━━━━━━━━━━━\u001b[0m\u001b[37m\u001b[0m \u001b[1m14s\u001b[0m 3s/step - deviation_mae: 5.9471 - loss: 21.2919 - mean_mae: 0.0180 - val_deviation_mae: 5.7107 - val_loss: 22.1261 - val_mean_mae: 0.0212\n",
      "Epoch 519/800\n",
      "\u001b[1m5/5\u001b[0m \u001b[32m━━━━━━━━━━━━━━━━━━━━\u001b[0m\u001b[37m\u001b[0m \u001b[1m14s\u001b[0m 3s/step - deviation_mae: 5.7793 - loss: 20.7285 - mean_mae: 0.0148 - val_deviation_mae: 5.7222 - val_loss: 23.2478 - val_mean_mae: 0.0284\n",
      "Epoch 520/800\n",
      "\u001b[1m5/5\u001b[0m \u001b[32m━━━━━━━━━━━━━━━━━━━━\u001b[0m\u001b[37m\u001b[0m \u001b[1m14s\u001b[0m 3s/step - deviation_mae: 5.8985 - loss: 20.9302 - mean_mae: 0.0174 - val_deviation_mae: 5.7663 - val_loss: 22.5320 - val_mean_mae: 0.0251\n",
      "Epoch 521/800\n",
      "\u001b[1m5/5\u001b[0m \u001b[32m━━━━━━━━━━━━━━━━━━━━\u001b[0m\u001b[37m\u001b[0m \u001b[1m14s\u001b[0m 3s/step - deviation_mae: 5.8259 - loss: 20.7361 - mean_mae: 0.0184 - val_deviation_mae: 5.8152 - val_loss: 22.1556 - val_mean_mae: 0.0230\n",
      "Epoch 522/800\n",
      "\u001b[1m5/5\u001b[0m \u001b[32m━━━━━━━━━━━━━━━━━━━━\u001b[0m\u001b[37m\u001b[0m \u001b[1m14s\u001b[0m 3s/step - deviation_mae: 5.9925 - loss: 20.5341 - mean_mae: 0.0177 - val_deviation_mae: 5.8691 - val_loss: 21.9879 - val_mean_mae: 0.0212\n",
      "Epoch 523/800\n",
      "\u001b[1m5/5\u001b[0m \u001b[32m━━━━━━━━━━━━━━━━━━━━\u001b[0m\u001b[37m\u001b[0m \u001b[1m14s\u001b[0m 3s/step - deviation_mae: 6.0275 - loss: 20.3198 - mean_mae: 0.0166 - val_deviation_mae: 5.9155 - val_loss: 21.5064 - val_mean_mae: 0.0204\n",
      "Epoch 524/800\n",
      "\u001b[1m5/5\u001b[0m \u001b[32m━━━━━━━━━━━━━━━━━━━━\u001b[0m\u001b[37m\u001b[0m \u001b[1m15s\u001b[0m 3s/step - deviation_mae: 6.0359 - loss: 20.0914 - mean_mae: 0.0141 - val_deviation_mae: 5.8445 - val_loss: 22.4593 - val_mean_mae: 0.0281\n",
      "Epoch 525/800\n",
      "\u001b[1m5/5\u001b[0m \u001b[32m━━━━━━━━━━━━━━━━━━━━\u001b[0m\u001b[37m\u001b[0m \u001b[1m14s\u001b[0m 3s/step - deviation_mae: 6.0215 - loss: 20.2601 - mean_mae: 0.0161 - val_deviation_mae: 5.9251 - val_loss: 21.2403 - val_mean_mae: 0.0206\n",
      "Epoch 526/800\n",
      "\u001b[1m5/5\u001b[0m \u001b[32m━━━━━━━━━━━━━━━━━━━━\u001b[0m\u001b[37m\u001b[0m \u001b[1m15s\u001b[0m 3s/step - deviation_mae: 6.2099 - loss: 19.9835 - mean_mae: 0.0145 - val_deviation_mae: 6.0507 - val_loss: 21.3015 - val_mean_mae: 0.0219\n",
      "Epoch 527/800\n",
      "\u001b[1m5/5\u001b[0m \u001b[32m━━━━━━━━━━━━━━━━━━━━\u001b[0m\u001b[37m\u001b[0m \u001b[1m14s\u001b[0m 3s/step - deviation_mae: 6.1652 - loss: 19.4839 - mean_mae: 0.0140 - val_deviation_mae: 5.9900 - val_loss: 21.6183 - val_mean_mae: 0.0257\n",
      "Epoch 528/800\n",
      "\u001b[1m5/5\u001b[0m \u001b[32m━━━━━━━━━━━━━━━━━━━━\u001b[0m\u001b[37m\u001b[0m \u001b[1m14s\u001b[0m 3s/step - deviation_mae: 6.1527 - loss: 19.9403 - mean_mae: 0.0171 - val_deviation_mae: 5.9637 - val_loss: 21.4758 - val_mean_mae: 0.0230\n",
      "Epoch 529/800\n",
      "\u001b[1m5/5\u001b[0m \u001b[32m━━━━━━━━━━━━━━━━━━━━\u001b[0m\u001b[37m\u001b[0m \u001b[1m14s\u001b[0m 3s/step - deviation_mae: 6.1082 - loss: 19.4273 - mean_mae: 0.0149 - val_deviation_mae: 6.0361 - val_loss: 20.7243 - val_mean_mae: 0.0192\n",
      "Epoch 530/800\n",
      "\u001b[1m5/5\u001b[0m \u001b[32m━━━━━━━━━━━━━━━━━━━━\u001b[0m\u001b[37m\u001b[0m \u001b[1m15s\u001b[0m 3s/step - deviation_mae: 6.2058 - loss: 19.3768 - mean_mae: 0.0128 - val_deviation_mae: 6.0368 - val_loss: 20.6673 - val_mean_mae: 0.0210\n",
      "Epoch 531/800\n",
      "\u001b[1m5/5\u001b[0m \u001b[32m━━━━━━━━━━━━━━━━━━━━\u001b[0m\u001b[37m\u001b[0m \u001b[1m15s\u001b[0m 3s/step - deviation_mae: 6.3093 - loss: 19.0155 - mean_mae: 0.0122 - val_deviation_mae: 6.0455 - val_loss: 20.4591 - val_mean_mae: 0.0199\n",
      "Epoch 532/800\n",
      "\u001b[1m5/5\u001b[0m \u001b[32m━━━━━━━━━━━━━━━━━━━━\u001b[0m\u001b[37m\u001b[0m \u001b[1m14s\u001b[0m 3s/step - deviation_mae: 6.1469 - loss: 18.9531 - mean_mae: 0.0132 - val_deviation_mae: 6.0493 - val_loss: 20.6164 - val_mean_mae: 0.0225\n",
      "Epoch 533/800\n",
      "\u001b[1m5/5\u001b[0m \u001b[32m━━━━━━━━━━━━━━━━━━━━\u001b[0m\u001b[37m\u001b[0m \u001b[1m15s\u001b[0m 3s/step - deviation_mae: 6.1736 - loss: 19.1493 - mean_mae: 0.0153 - val_deviation_mae: 6.0856 - val_loss: 20.2477 - val_mean_mae: 0.0194\n",
      "Epoch 534/800\n",
      "\u001b[1m5/5\u001b[0m \u001b[32m━━━━━━━━━━━━━━━━━━━━\u001b[0m\u001b[37m\u001b[0m \u001b[1m14s\u001b[0m 3s/step - deviation_mae: 6.3440 - loss: 18.6850 - mean_mae: 0.0129 - val_deviation_mae: 6.0975 - val_loss: 20.1089 - val_mean_mae: 0.0200\n",
      "Epoch 535/800\n",
      "\u001b[1m5/5\u001b[0m \u001b[32m━━━━━━━━━━━━━━━━━━━━\u001b[0m\u001b[37m\u001b[0m \u001b[1m14s\u001b[0m 3s/step - deviation_mae: 6.2195 - loss: 18.4929 - mean_mae: 0.0114 - val_deviation_mae: 6.1176 - val_loss: 20.0058 - val_mean_mae: 0.0203\n",
      "Epoch 536/800\n",
      "\u001b[1m5/5\u001b[0m \u001b[32m━━━━━━━━━━━━━━━━━━━━\u001b[0m\u001b[37m\u001b[0m \u001b[1m14s\u001b[0m 3s/step - deviation_mae: 6.2222 - loss: 18.5274 - mean_mae: 0.0122 - val_deviation_mae: 6.1519 - val_loss: 20.5095 - val_mean_mae: 0.0231\n",
      "Epoch 537/800\n",
      "\u001b[1m5/5\u001b[0m \u001b[32m━━━━━━━━━━━━━━━━━━━━\u001b[0m\u001b[37m\u001b[0m \u001b[1m15s\u001b[0m 3s/step - deviation_mae: 6.2686 - loss: 19.0054 - mean_mae: 0.0166 - val_deviation_mae: 6.1696 - val_loss: 20.6861 - val_mean_mae: 0.0249\n",
      "Epoch 538/800\n",
      "\u001b[1m5/5\u001b[0m \u001b[32m━━━━━━━━━━━━━━━━━━━━\u001b[0m\u001b[37m\u001b[0m \u001b[1m14s\u001b[0m 3s/step - deviation_mae: 6.2858 - loss: 18.7506 - mean_mae: 0.0172 - val_deviation_mae: 6.1672 - val_loss: 20.1346 - val_mean_mae: 0.0247\n",
      "Epoch 539/800\n",
      "\u001b[1m5/5\u001b[0m \u001b[32m━━━━━━━━━━━━━━━━━━━━\u001b[0m\u001b[37m\u001b[0m \u001b[1m14s\u001b[0m 3s/step - deviation_mae: 6.2915 - loss: 18.1220 - mean_mae: 0.0132 - val_deviation_mae: 6.1773 - val_loss: 20.5133 - val_mean_mae: 0.0265\n",
      "Epoch 540/800\n",
      "\u001b[1m5/5\u001b[0m \u001b[32m━━━━━━━━━━━━━━━━━━━━\u001b[0m\u001b[37m\u001b[0m \u001b[1m14s\u001b[0m 3s/step - deviation_mae: 6.3110 - loss: 18.3945 - mean_mae: 0.0157 - val_deviation_mae: 6.1881 - val_loss: 19.4876 - val_mean_mae: 0.0213\n",
      "Epoch 541/800\n",
      "\u001b[1m5/5\u001b[0m \u001b[32m━━━━━━━━━━━━━━━━━━━━\u001b[0m\u001b[37m\u001b[0m \u001b[1m14s\u001b[0m 3s/step - deviation_mae: 6.3691 - loss: 17.8681 - mean_mae: 0.0129 - val_deviation_mae: 6.2141 - val_loss: 19.4843 - val_mean_mae: 0.0215\n",
      "Epoch 542/800\n",
      "\u001b[1m5/5\u001b[0m \u001b[32m━━━━━━━━━━━━━━━━━━━━\u001b[0m\u001b[37m\u001b[0m \u001b[1m14s\u001b[0m 3s/step - deviation_mae: 6.4274 - loss: 18.0306 - mean_mae: 0.0161 - val_deviation_mae: 6.2337 - val_loss: 19.4369 - val_mean_mae: 0.0219\n",
      "Epoch 543/800\n",
      "\u001b[1m5/5\u001b[0m \u001b[32m━━━━━━━━━━━━━━━━━━━━\u001b[0m\u001b[37m\u001b[0m \u001b[1m14s\u001b[0m 3s/step - deviation_mae: 6.3029 - loss: 17.8475 - mean_mae: 0.0164 - val_deviation_mae: 6.2367 - val_loss: 19.7392 - val_mean_mae: 0.0243\n",
      "Epoch 544/800\n",
      "\u001b[1m5/5\u001b[0m \u001b[32m━━━━━━━━━━━━━━━━━━━━\u001b[0m\u001b[37m\u001b[0m \u001b[1m15s\u001b[0m 3s/step - deviation_mae: 6.3515 - loss: 18.0374 - mean_mae: 0.0169 - val_deviation_mae: 6.2515 - val_loss: 18.9642 - val_mean_mae: 0.0200\n",
      "Epoch 545/800\n",
      "\u001b[1m5/5\u001b[0m \u001b[32m━━━━━━━━━━━━━━━━━━━━\u001b[0m\u001b[37m\u001b[0m \u001b[1m15s\u001b[0m 3s/step - deviation_mae: 6.4457 - loss: 17.1849 - mean_mae: 0.0111 - val_deviation_mae: 6.2756 - val_loss: 18.9352 - val_mean_mae: 0.0195\n",
      "Epoch 546/800\n",
      "\u001b[1m5/5\u001b[0m \u001b[32m━━━━━━━━━━━━━━━━━━━━\u001b[0m\u001b[37m\u001b[0m \u001b[1m15s\u001b[0m 3s/step - deviation_mae: 6.4079 - loss: 17.5507 - mean_mae: 0.0143 - val_deviation_mae: 6.2858 - val_loss: 18.5943 - val_mean_mae: 0.0198\n",
      "Epoch 547/800\n",
      "\u001b[1m5/5\u001b[0m \u001b[32m━━━━━━━━━━━━━━━━━━━━\u001b[0m\u001b[37m\u001b[0m \u001b[1m14s\u001b[0m 3s/step - deviation_mae: 6.3272 - loss: 17.1420 - mean_mae: 0.0126 - val_deviation_mae: 6.2767 - val_loss: 18.9269 - val_mean_mae: 0.0241\n",
      "Epoch 548/800\n",
      "\u001b[1m5/5\u001b[0m \u001b[32m━━━━━━━━━━━━━━━━━━━━\u001b[0m\u001b[37m\u001b[0m \u001b[1m14s\u001b[0m 3s/step - deviation_mae: 6.3963 - loss: 17.2140 - mean_mae: 0.0143 - val_deviation_mae: 6.2675 - val_loss: 18.8181 - val_mean_mae: 0.0244\n",
      "Epoch 549/800\n",
      "\u001b[1m5/5\u001b[0m \u001b[32m━━━━━━━━━━━━━━━━━━━━\u001b[0m\u001b[37m\u001b[0m \u001b[1m14s\u001b[0m 3s/step - deviation_mae: 6.4830 - loss: 16.8290 - mean_mae: 0.0130 - val_deviation_mae: 6.2466 - val_loss: 19.2776 - val_mean_mae: 0.0281\n",
      "Epoch 550/800\n",
      "\u001b[1m5/5\u001b[0m \u001b[32m━━━━━━━━━━━━━━━━━━━━\u001b[0m\u001b[37m\u001b[0m \u001b[1m14s\u001b[0m 3s/step - deviation_mae: 6.4231 - loss: 17.0103 - mean_mae: 0.0156 - val_deviation_mae: 6.2481 - val_loss: 18.3230 - val_mean_mae: 0.0223\n",
      "Epoch 551/800\n",
      "\u001b[1m5/5\u001b[0m \u001b[32m━━━━━━━━━━━━━━━━━━━━\u001b[0m\u001b[37m\u001b[0m \u001b[1m14s\u001b[0m 3s/step - deviation_mae: 6.3669 - loss: 16.6539 - mean_mae: 0.0133 - val_deviation_mae: 6.2515 - val_loss: 17.9667 - val_mean_mae: 0.0199\n",
      "Epoch 552/800\n",
      "\u001b[1m5/5\u001b[0m \u001b[32m━━━━━━━━━━━━━━━━━━━━\u001b[0m\u001b[37m\u001b[0m \u001b[1m14s\u001b[0m 3s/step - deviation_mae: 6.4104 - loss: 16.2548 - mean_mae: 0.0108 - val_deviation_mae: 6.3141 - val_loss: 18.8384 - val_mean_mae: 0.0262\n",
      "Epoch 553/800\n",
      "\u001b[1m5/5\u001b[0m \u001b[32m━━━━━━━━━━━━━━━━━━━━\u001b[0m\u001b[37m\u001b[0m \u001b[1m14s\u001b[0m 3s/step - deviation_mae: 6.3745 - loss: 17.0363 - mean_mae: 0.0184 - val_deviation_mae: 6.2833 - val_loss: 17.6843 - val_mean_mae: 0.0197\n",
      "Epoch 554/800\n",
      "\u001b[1m5/5\u001b[0m \u001b[32m━━━━━━━━━━━━━━━━━━━━\u001b[0m\u001b[37m\u001b[0m \u001b[1m14s\u001b[0m 3s/step - deviation_mae: 6.4249 - loss: 16.1311 - mean_mae: 0.0127 - val_deviation_mae: 6.2709 - val_loss: 17.6041 - val_mean_mae: 0.0190\n",
      "Epoch 555/800\n",
      "\u001b[1m5/5\u001b[0m \u001b[32m━━━━━━━━━━━━━━━━━━━━\u001b[0m\u001b[37m\u001b[0m \u001b[1m14s\u001b[0m 3s/step - deviation_mae: 6.4079 - loss: 16.1267 - mean_mae: 0.0133 - val_deviation_mae: 6.2565 - val_loss: 17.8271 - val_mean_mae: 0.0215\n",
      "Epoch 556/800\n",
      "\u001b[1m5/5\u001b[0m \u001b[32m━━━━━━━━━━━━━━━━━━━━\u001b[0m\u001b[37m\u001b[0m \u001b[1m14s\u001b[0m 3s/step - deviation_mae: 6.3579 - loss: 16.3420 - mean_mae: 0.0152 - val_deviation_mae: 6.2687 - val_loss: 17.3165 - val_mean_mae: 0.0197\n",
      "Epoch 557/800\n",
      "\u001b[1m5/5\u001b[0m \u001b[32m━━━━━━━━━━━━━━━━━━━━\u001b[0m\u001b[37m\u001b[0m \u001b[1m14s\u001b[0m 3s/step - deviation_mae: 6.3261 - loss: 15.6518 - mean_mae: 0.0115 - val_deviation_mae: 6.2399 - val_loss: 17.7355 - val_mean_mae: 0.0229\n",
      "Epoch 558/800\n",
      "\u001b[1m5/5\u001b[0m \u001b[32m━━━━━━━━━━━━━━━━━━━━\u001b[0m\u001b[37m\u001b[0m \u001b[1m14s\u001b[0m 3s/step - deviation_mae: 6.3645 - loss: 15.9628 - mean_mae: 0.0147 - val_deviation_mae: 6.2317 - val_loss: 17.3436 - val_mean_mae: 0.0231\n",
      "Epoch 559/800\n",
      "\u001b[1m5/5\u001b[0m \u001b[32m━━━━━━━━━━━━━━━━━━━━\u001b[0m\u001b[37m\u001b[0m \u001b[1m14s\u001b[0m 3s/step - deviation_mae: 6.3180 - loss: 15.7398 - mean_mae: 0.0147 - val_deviation_mae: 6.2404 - val_loss: 18.4560 - val_mean_mae: 0.0290\n",
      "Epoch 560/800\n",
      "\u001b[1m5/5\u001b[0m \u001b[32m━━━━━━━━━━━━━━━━━━━━\u001b[0m\u001b[37m\u001b[0m \u001b[1m14s\u001b[0m 3s/step - deviation_mae: 6.2818 - loss: 16.3020 - mean_mae: 0.0202 - val_deviation_mae: 6.2041 - val_loss: 17.0108 - val_mean_mae: 0.0218\n",
      "Epoch 561/800\n",
      "\u001b[1m5/5\u001b[0m \u001b[32m━━━━━━━━━━━━━━━━━━━━\u001b[0m\u001b[37m\u001b[0m \u001b[1m14s\u001b[0m 3s/step - deviation_mae: 6.3565 - loss: 15.3902 - mean_mae: 0.0149 - val_deviation_mae: 6.1789 - val_loss: 16.9127 - val_mean_mae: 0.0205\n",
      "Epoch 562/800\n",
      "\u001b[1m5/5\u001b[0m \u001b[32m━━━━━━━━━━━━━━━━━━━━\u001b[0m\u001b[37m\u001b[0m \u001b[1m14s\u001b[0m 3s/step - deviation_mae: 6.3052 - loss: 15.3478 - mean_mae: 0.0146 - val_deviation_mae: 6.1912 - val_loss: 16.9815 - val_mean_mae: 0.0218\n",
      "Epoch 563/800\n",
      "\u001b[1m5/5\u001b[0m \u001b[32m━━━━━━━━━━━━━━━━━━━━\u001b[0m\u001b[37m\u001b[0m \u001b[1m14s\u001b[0m 3s/step - deviation_mae: 6.3359 - loss: 15.1988 - mean_mae: 0.0138 - val_deviation_mae: 6.1684 - val_loss: 16.3065 - val_mean_mae: 0.0190\n",
      "Epoch 564/800\n",
      "\u001b[1m5/5\u001b[0m \u001b[32m━━━━━━━━━━━━━━━━━━━━\u001b[0m\u001b[37m\u001b[0m \u001b[1m14s\u001b[0m 3s/step - deviation_mae: 6.3456 - loss: 14.9904 - mean_mae: 0.0136 - val_deviation_mae: 6.2105 - val_loss: 16.1541 - val_mean_mae: 0.0186\n",
      "Epoch 565/800\n",
      "\u001b[1m5/5\u001b[0m \u001b[32m━━━━━━━━━━━━━━━━━━━━\u001b[0m\u001b[37m\u001b[0m \u001b[1m14s\u001b[0m 3s/step - deviation_mae: 6.3194 - loss: 14.7272 - mean_mae: 0.0125 - val_deviation_mae: 6.1943 - val_loss: 16.0130 - val_mean_mae: 0.0186\n",
      "Epoch 566/800\n",
      "\u001b[1m5/5\u001b[0m \u001b[32m━━━━━━━━━━━━━━━━━━━━\u001b[0m\u001b[37m\u001b[0m \u001b[1m15s\u001b[0m 3s/step - deviation_mae: 6.2099 - loss: 14.6443 - mean_mae: 0.0124 - val_deviation_mae: 6.1175 - val_loss: 15.9471 - val_mean_mae: 0.0191\n",
      "Epoch 567/800\n",
      "\u001b[1m5/5\u001b[0m \u001b[32m━━━━━━━━━━━━━━━━━━━━\u001b[0m\u001b[37m\u001b[0m \u001b[1m14s\u001b[0m 3s/step - deviation_mae: 6.2315 - loss: 14.3222 - mean_mae: 0.0109 - val_deviation_mae: 6.0717 - val_loss: 15.7566 - val_mean_mae: 0.0194\n",
      "Epoch 568/800\n",
      "\u001b[1m5/5\u001b[0m \u001b[32m━━━━━━━━━━━━━━━━━━━━\u001b[0m\u001b[37m\u001b[0m \u001b[1m14s\u001b[0m 3s/step - deviation_mae: 6.3203 - loss: 14.2653 - mean_mae: 0.0110 - val_deviation_mae: 6.0845 - val_loss: 15.6996 - val_mean_mae: 0.0190\n",
      "Epoch 569/800\n",
      "\u001b[1m5/5\u001b[0m \u001b[32m━━━━━━━━━━━━━━━━━━━━\u001b[0m\u001b[37m\u001b[0m \u001b[1m14s\u001b[0m 3s/step - deviation_mae: 6.1660 - loss: 14.0469 - mean_mae: 0.0112 - val_deviation_mae: 6.0387 - val_loss: 15.6623 - val_mean_mae: 0.0207\n",
      "Epoch 570/800\n",
      "\u001b[1m5/5\u001b[0m \u001b[32m━━━━━━━━━━━━━━━━━━━━\u001b[0m\u001b[37m\u001b[0m \u001b[1m14s\u001b[0m 3s/step - deviation_mae: 6.1884 - loss: 14.0934 - mean_mae: 0.0132 - val_deviation_mae: 6.0061 - val_loss: 15.5691 - val_mean_mae: 0.0213\n",
      "Epoch 571/800\n",
      "\u001b[1m5/5\u001b[0m \u001b[32m━━━━━━━━━━━━━━━━━━━━\u001b[0m\u001b[37m\u001b[0m \u001b[1m14s\u001b[0m 3s/step - deviation_mae: 6.1856 - loss: 13.9255 - mean_mae: 0.0127 - val_deviation_mae: 5.9778 - val_loss: 15.2197 - val_mean_mae: 0.0195\n",
      "Epoch 572/800\n",
      "\u001b[1m5/5\u001b[0m \u001b[32m━━━━━━━━━━━━━━━━━━━━\u001b[0m\u001b[37m\u001b[0m \u001b[1m14s\u001b[0m 3s/step - deviation_mae: 6.1331 - loss: 13.5155 - mean_mae: 0.0097 - val_deviation_mae: 5.9640 - val_loss: 15.1461 - val_mean_mae: 0.0198\n",
      "Epoch 573/800\n",
      "\u001b[1m5/5\u001b[0m \u001b[32m━━━━━━━━━━━━━━━━━━━━\u001b[0m\u001b[37m\u001b[0m \u001b[1m14s\u001b[0m 3s/step - deviation_mae: 6.1545 - loss: 13.7237 - mean_mae: 0.0125 - val_deviation_mae: 5.9962 - val_loss: 15.2649 - val_mean_mae: 0.0227\n",
      "Epoch 574/800\n",
      "\u001b[1m5/5\u001b[0m \u001b[32m━━━━━━━━━━━━━━━━━━━━\u001b[0m\u001b[37m\u001b[0m \u001b[1m14s\u001b[0m 3s/step - deviation_mae: 6.1582 - loss: 13.4002 - mean_mae: 0.0126 - val_deviation_mae: 5.8980 - val_loss: 15.2350 - val_mean_mae: 0.0232\n",
      "Epoch 575/800\n",
      "\u001b[1m5/5\u001b[0m \u001b[32m━━━━━━━━━━━━━━━━━━━━\u001b[0m\u001b[37m\u001b[0m \u001b[1m15s\u001b[0m 3s/step - deviation_mae: 6.0256 - loss: 13.3344 - mean_mae: 0.0129 - val_deviation_mae: 5.8599 - val_loss: 14.6833 - val_mean_mae: 0.0188\n",
      "Epoch 576/800\n",
      "\u001b[1m5/5\u001b[0m \u001b[32m━━━━━━━━━━━━━━━━━━━━\u001b[0m\u001b[37m\u001b[0m \u001b[1m15s\u001b[0m 3s/step - deviation_mae: 6.0381 - loss: 13.4238 - mean_mae: 0.0151 - val_deviation_mae: 5.8436 - val_loss: 14.4939 - val_mean_mae: 0.0185\n",
      "Epoch 577/800\n",
      "\u001b[1m5/5\u001b[0m \u001b[32m━━━━━━━━━━━━━━━━━━━━\u001b[0m\u001b[37m\u001b[0m \u001b[1m14s\u001b[0m 3s/step - deviation_mae: 6.0354 - loss: 12.9744 - mean_mae: 0.0130 - val_deviation_mae: 5.7964 - val_loss: 14.8797 - val_mean_mae: 0.0242\n",
      "Epoch 578/800\n",
      "\u001b[1m5/5\u001b[0m \u001b[32m━━━━━━━━━━━━━━━━━━━━\u001b[0m\u001b[37m\u001b[0m \u001b[1m14s\u001b[0m 3s/step - deviation_mae: 5.9832 - loss: 12.8539 - mean_mae: 0.0123 - val_deviation_mae: 5.7880 - val_loss: 15.3390 - val_mean_mae: 0.0282\n",
      "Epoch 579/800\n",
      "\u001b[1m5/5\u001b[0m \u001b[32m━━━━━━━━━━━━━━━━━━━━\u001b[0m\u001b[37m\u001b[0m \u001b[1m14s\u001b[0m 3s/step - deviation_mae: 5.9974 - loss: 13.0043 - mean_mae: 0.0152 - val_deviation_mae: 5.6796 - val_loss: 14.8176 - val_mean_mae: 0.0242\n",
      "Epoch 580/800\n",
      "\u001b[1m5/5\u001b[0m \u001b[32m━━━━━━━━━━━━━━━━━━━━\u001b[0m\u001b[37m\u001b[0m \u001b[1m14s\u001b[0m 3s/step - deviation_mae: 5.8776 - loss: 12.8784 - mean_mae: 0.0145 - val_deviation_mae: 5.6565 - val_loss: 14.9491 - val_mean_mae: 0.0272\n",
      "Epoch 581/800\n",
      "\u001b[1m5/5\u001b[0m \u001b[32m━━━━━━━━━━━━━━━━━━━━\u001b[0m\u001b[37m\u001b[0m \u001b[1m14s\u001b[0m 3s/step - deviation_mae: 5.9145 - loss: 12.8301 - mean_mae: 0.0161 - val_deviation_mae: 5.5935 - val_loss: 14.4572 - val_mean_mae: 0.0244\n",
      "Epoch 582/800\n",
      "\u001b[1m5/5\u001b[0m \u001b[32m━━━━━━━━━━━━━━━━━━━━\u001b[0m\u001b[37m\u001b[0m \u001b[1m14s\u001b[0m 3s/step - deviation_mae: 5.7796 - loss: 13.0521 - mean_mae: 0.0187 - val_deviation_mae: 5.7772 - val_loss: 14.0081 - val_mean_mae: 0.0195\n",
      "Epoch 583/800\n",
      "\u001b[1m5/5\u001b[0m \u001b[32m━━━━━━━━━━━━━━━━━━━━\u001b[0m\u001b[37m\u001b[0m \u001b[1m14s\u001b[0m 3s/step - deviation_mae: 5.9734 - loss: 13.5712 - mean_mae: 0.0204 - val_deviation_mae: 5.7312 - val_loss: 15.3904 - val_mean_mae: 0.0283\n",
      "Epoch 584/800\n",
      "\u001b[1m5/5\u001b[0m \u001b[32m━━━━━━━━━━━━━━━━━━━━\u001b[0m\u001b[37m\u001b[0m \u001b[1m14s\u001b[0m 3s/step - deviation_mae: 5.7659 - loss: 13.5038 - mean_mae: 0.0241 - val_deviation_mae: 5.6047 - val_loss: 15.2731 - val_mean_mae: 0.0276\n",
      "Epoch 585/800\n",
      "\u001b[1m5/5\u001b[0m \u001b[32m━━━━━━━━━━━━━━━━━━━━\u001b[0m\u001b[37m\u001b[0m \u001b[1m14s\u001b[0m 3s/step - deviation_mae: 5.7394 - loss: 13.6538 - mean_mae: 0.0239 - val_deviation_mae: 5.5617 - val_loss: 13.7974 - val_mean_mae: 0.0207\n",
      "Epoch 586/800\n",
      "\u001b[1m5/5\u001b[0m \u001b[32m━━━━━━━━━━━━━━━━━━━━\u001b[0m\u001b[37m\u001b[0m \u001b[1m14s\u001b[0m 3s/step - deviation_mae: 5.6647 - loss: 12.3940 - mean_mae: 0.0179 - val_deviation_mae: 5.5536 - val_loss: 13.4168 - val_mean_mae: 0.0195\n",
      "Epoch 587/800\n",
      "\u001b[1m5/5\u001b[0m \u001b[32m━━━━━━━━━━━━━━━━━━━━\u001b[0m\u001b[37m\u001b[0m \u001b[1m14s\u001b[0m 3s/step - deviation_mae: 5.6481 - loss: 12.1395 - mean_mae: 0.0154 - val_deviation_mae: 5.5749 - val_loss: 13.3046 - val_mean_mae: 0.0196\n",
      "Epoch 588/800\n",
      "\u001b[1m5/5\u001b[0m \u001b[32m━━━━━━━━━━━━━━━━━━━━\u001b[0m\u001b[37m\u001b[0m \u001b[1m14s\u001b[0m 3s/step - deviation_mae: 5.6053 - loss: 11.8190 - mean_mae: 0.0144 - val_deviation_mae: 5.5479 - val_loss: 13.7022 - val_mean_mae: 0.0240\n",
      "Epoch 589/800\n",
      "\u001b[1m5/5\u001b[0m \u001b[32m━━━━━━━━━━━━━━━━━━━━\u001b[0m\u001b[37m\u001b[0m \u001b[1m14s\u001b[0m 3s/step - deviation_mae: 5.7101 - loss: 12.3772 - mean_mae: 0.0198 - val_deviation_mae: 5.4050 - val_loss: 13.2277 - val_mean_mae: 0.0222\n",
      "Epoch 590/800\n",
      "\u001b[1m5/5\u001b[0m \u001b[32m━━━━━━━━━━━━━━━━━━━━\u001b[0m\u001b[37m\u001b[0m \u001b[1m14s\u001b[0m 3s/step - deviation_mae: 5.4979 - loss: 11.7988 - mean_mae: 0.0160 - val_deviation_mae: 5.2633 - val_loss: 14.2717 - val_mean_mae: 0.0289\n",
      "Epoch 591/800\n",
      "\u001b[1m5/5\u001b[0m \u001b[32m━━━━━━━━━━━━━━━━━━━━\u001b[0m\u001b[37m\u001b[0m \u001b[1m14s\u001b[0m 3s/step - deviation_mae: 5.3978 - loss: 12.1217 - mean_mae: 0.0193 - val_deviation_mae: 5.2147 - val_loss: 13.7206 - val_mean_mae: 0.0270\n",
      "Epoch 592/800\n",
      "\u001b[1m5/5\u001b[0m \u001b[32m━━━━━━━━━━━━━━━━━━━━\u001b[0m\u001b[37m\u001b[0m \u001b[1m14s\u001b[0m 3s/step - deviation_mae: 5.4545 - loss: 11.3667 - mean_mae: 0.0156 - val_deviation_mae: 5.1290 - val_loss: 14.6642 - val_mean_mae: 0.0320\n",
      "Epoch 593/800\n",
      "\u001b[1m5/5\u001b[0m \u001b[32m━━━━━━━━━━━━━━━━━━━━\u001b[0m\u001b[37m\u001b[0m \u001b[1m14s\u001b[0m 3s/step - deviation_mae: 5.2915 - loss: 11.8868 - mean_mae: 0.0179 - val_deviation_mae: 5.0682 - val_loss: 14.4328 - val_mean_mae: 0.0302\n",
      "Epoch 594/800\n",
      "\u001b[1m5/5\u001b[0m \u001b[32m━━━━━━━━━━━━━━━━━━━━\u001b[0m\u001b[37m\u001b[0m \u001b[1m14s\u001b[0m 3s/step - deviation_mae: 5.1692 - loss: 11.7619 - mean_mae: 0.0176 - val_deviation_mae: 5.0722 - val_loss: 13.8754 - val_mean_mae: 0.0289\n",
      "Epoch 595/800\n",
      "\u001b[1m5/5\u001b[0m \u001b[32m━━━━━━━━━━━━━━━━━━━━\u001b[0m\u001b[37m\u001b[0m \u001b[1m14s\u001b[0m 3s/step - deviation_mae: 5.2194 - loss: 11.3340 - mean_mae: 0.0159 - val_deviation_mae: 5.0320 - val_loss: 12.4684 - val_mean_mae: 0.0219\n",
      "Epoch 596/800\n",
      "\u001b[1m5/5\u001b[0m \u001b[32m━━━━━━━━━━━━━━━━━━━━\u001b[0m\u001b[37m\u001b[0m \u001b[1m14s\u001b[0m 3s/step - deviation_mae: 5.0852 - loss: 10.7408 - mean_mae: 0.0123 - val_deviation_mae: 4.9447 - val_loss: 12.2605 - val_mean_mae: 0.0193\n",
      "Epoch 597/800\n",
      "\u001b[1m5/5\u001b[0m \u001b[32m━━━━━━━━━━━━━━━━━━━━\u001b[0m\u001b[37m\u001b[0m \u001b[1m14s\u001b[0m 3s/step - deviation_mae: 5.0790 - loss: 10.5858 - mean_mae: 0.0121 - val_deviation_mae: 4.8416 - val_loss: 12.9300 - val_mean_mae: 0.0255\n",
      "Epoch 598/800\n",
      "\u001b[1m5/5\u001b[0m \u001b[32m━━━━━━━━━━━━━━━━━━━━\u001b[0m\u001b[37m\u001b[0m \u001b[1m14s\u001b[0m 3s/step - deviation_mae: 5.0312 - loss: 10.8855 - mean_mae: 0.0159 - val_deviation_mae: 4.7689 - val_loss: 12.0274 - val_mean_mae: 0.0207\n",
      "Epoch 599/800\n",
      "\u001b[1m5/5\u001b[0m \u001b[32m━━━━━━━━━━━━━━━━━━━━\u001b[0m\u001b[37m\u001b[0m \u001b[1m14s\u001b[0m 3s/step - deviation_mae: 4.8799 - loss: 10.4704 - mean_mae: 0.0136 - val_deviation_mae: 4.6978 - val_loss: 12.2171 - val_mean_mae: 0.0228\n",
      "Epoch 600/800\n",
      "\u001b[1m4/5\u001b[0m \u001b[32m━━━━━━━━━━━━━━━━\u001b[0m\u001b[37m━━━━\u001b[0m \u001b[1m1s\u001b[0m 2s/step - deviation_mae: 4.9877 - loss: 10.4949 - mean_mae: 0.0157\n",
      "Epoch 600: saving model to C:/Users/uic33116/Documents/documents/ariel-data-challenge-2024/training_full_model/model-600.weights.h5\n",
      "\u001b[1m5/5\u001b[0m \u001b[32m━━━━━━━━━━━━━━━━━━━━\u001b[0m\u001b[37m\u001b[0m \u001b[1m18s\u001b[0m 4s/step - deviation_mae: 4.9521 - loss: 10.4238 - mean_mae: 0.0149 - val_deviation_mae: 4.7297 - val_loss: 11.6652 - val_mean_mae: 0.0193\n",
      "Epoch 601/800\n",
      "\u001b[1m5/5\u001b[0m \u001b[32m━━━━━━━━━━━━━━━━━━━━\u001b[0m\u001b[37m\u001b[0m \u001b[1m15s\u001b[0m 3s/step - deviation_mae: 4.9186 - loss: 10.1403 - mean_mae: 0.0119 - val_deviation_mae: 4.5892 - val_loss: 11.7570 - val_mean_mae: 0.0212\n",
      "Epoch 602/800\n",
      "\u001b[1m5/5\u001b[0m \u001b[32m━━━━━━━━━━━━━━━━━━━━\u001b[0m\u001b[37m\u001b[0m \u001b[1m14s\u001b[0m 3s/step - deviation_mae: 4.7987 - loss: 10.0589 - mean_mae: 0.0121 - val_deviation_mae: 4.5420 - val_loss: 11.9025 - val_mean_mae: 0.0230\n",
      "Epoch 603/800\n",
      "\u001b[1m5/5\u001b[0m \u001b[32m━━━━━━━━━━━━━━━━━━━━\u001b[0m\u001b[37m\u001b[0m \u001b[1m14s\u001b[0m 3s/step - deviation_mae: 4.7559 - loss: 10.1961 - mean_mae: 0.0148 - val_deviation_mae: 4.4677 - val_loss: 11.3008 - val_mean_mae: 0.0192\n",
      "Epoch 604/800\n",
      "\u001b[1m5/5\u001b[0m \u001b[32m━━━━━━━━━━━━━━━━━━━━\u001b[0m\u001b[37m\u001b[0m \u001b[1m14s\u001b[0m 3s/step - deviation_mae: 4.6449 - loss: 10.2282 - mean_mae: 0.0148 - val_deviation_mae: 4.3874 - val_loss: 11.5152 - val_mean_mae: 0.0221\n",
      "Epoch 605/800\n",
      "\u001b[1m5/5\u001b[0m \u001b[32m━━━━━━━━━━━━━━━━━━━━\u001b[0m\u001b[37m\u001b[0m \u001b[1m15s\u001b[0m 3s/step - deviation_mae: 4.5400 - loss: 10.2127 - mean_mae: 0.0162 - val_deviation_mae: 4.3209 - val_loss: 11.4963 - val_mean_mae: 0.0237\n",
      "Epoch 606/800\n",
      "\u001b[1m5/5\u001b[0m \u001b[32m━━━━━━━━━━━━━━━━━━━━\u001b[0m\u001b[37m\u001b[0m \u001b[1m14s\u001b[0m 3s/step - deviation_mae: 4.4515 - loss: 9.7354 - mean_mae: 0.0145 - val_deviation_mae: 4.2561 - val_loss: 12.8857 - val_mean_mae: 0.0324\n",
      "Epoch 607/800\n",
      "\u001b[1m5/5\u001b[0m \u001b[32m━━━━━━━━━━━━━━━━━━━━\u001b[0m\u001b[37m\u001b[0m \u001b[1m14s\u001b[0m 3s/step - deviation_mae: 4.3477 - loss: 10.1465 - mean_mae: 0.0188 - val_deviation_mae: 4.3355 - val_loss: 15.3457 - val_mean_mae: 0.0399\n",
      "Epoch 608/800\n",
      "\u001b[1m5/5\u001b[0m \u001b[32m━━━━━━━━━━━━━━━━━━━━\u001b[0m\u001b[37m\u001b[0m \u001b[1m14s\u001b[0m 3s/step - deviation_mae: 4.5617 - loss: 11.1688 - mean_mae: 0.0236 - val_deviation_mae: 4.5052 - val_loss: 12.1978 - val_mean_mae: 0.0280\n",
      "Epoch 609/800\n",
      "\u001b[1m5/5\u001b[0m \u001b[32m━━━━━━━━━━━━━━━━━━━━\u001b[0m\u001b[37m\u001b[0m \u001b[1m15s\u001b[0m 3s/step - deviation_mae: 4.5761 - loss: 9.7823 - mean_mae: 0.0160 - val_deviation_mae: 4.3336 - val_loss: 12.3221 - val_mean_mae: 0.0283\n",
      "Epoch 610/800\n",
      "\u001b[1m5/5\u001b[0m \u001b[32m━━━━━━━━━━━━━━━━━━━━\u001b[0m\u001b[37m\u001b[0m \u001b[1m15s\u001b[0m 3s/step - deviation_mae: 4.3463 - loss: 9.8478 - mean_mae: 0.0170 - val_deviation_mae: 4.1478 - val_loss: 11.6619 - val_mean_mae: 0.0269\n",
      "Epoch 611/800\n",
      "\u001b[1m5/5\u001b[0m \u001b[32m━━━━━━━━━━━━━━━━━━━━\u001b[0m\u001b[37m\u001b[0m \u001b[1m15s\u001b[0m 3s/step - deviation_mae: 4.3028 - loss: 9.6063 - mean_mae: 0.0154 - val_deviation_mae: 4.1092 - val_loss: 12.8102 - val_mean_mae: 0.0336\n",
      "Epoch 612/800\n",
      "\u001b[1m5/5\u001b[0m \u001b[32m━━━━━━━━━━━━━━━━━━━━\u001b[0m\u001b[37m\u001b[0m \u001b[1m14s\u001b[0m 3s/step - deviation_mae: 4.2496 - loss: 10.1204 - mean_mae: 0.0200 - val_deviation_mae: 4.1106 - val_loss: 14.0230 - val_mean_mae: 0.0357\n",
      "Epoch 613/800\n",
      "\u001b[1m5/5\u001b[0m \u001b[32m━━━━━━━━━━━━━━━━━━━━\u001b[0m\u001b[37m\u001b[0m \u001b[1m14s\u001b[0m 3s/step - deviation_mae: 4.2549 - loss: 10.4768 - mean_mae: 0.0213 - val_deviation_mae: 4.0279 - val_loss: 14.9839 - val_mean_mae: 0.0388\n",
      "Epoch 614/800\n",
      "\u001b[1m5/5\u001b[0m \u001b[32m━━━━━━━━━━━━━━━━━━━━\u001b[0m\u001b[37m\u001b[0m \u001b[1m14s\u001b[0m 3s/step - deviation_mae: 4.2932 - loss: 11.4581 - mean_mae: 0.0257 - val_deviation_mae: 3.9924 - val_loss: 13.6125 - val_mean_mae: 0.0345\n",
      "Epoch 615/800\n",
      "\u001b[1m5/5\u001b[0m \u001b[32m━━━━━━━━━━━━━━━━━━━━\u001b[0m\u001b[37m\u001b[0m \u001b[1m14s\u001b[0m 3s/step - deviation_mae: 4.2811 - loss: 10.3022 - mean_mae: 0.0221 - val_deviation_mae: 3.9221 - val_loss: 12.1944 - val_mean_mae: 0.0318\n",
      "Epoch 616/800\n",
      "\u001b[1m5/5\u001b[0m \u001b[32m━━━━━━━━━━━━━━━━━━━━\u001b[0m\u001b[37m\u001b[0m \u001b[1m14s\u001b[0m 3s/step - deviation_mae: 4.1301 - loss: 9.2958 - mean_mae: 0.0168 - val_deviation_mae: 3.9228 - val_loss: 11.1890 - val_mean_mae: 0.0270\n",
      "Epoch 617/800\n",
      "\u001b[1m5/5\u001b[0m \u001b[32m━━━━━━━━━━━━━━━━━━━━\u001b[0m\u001b[37m\u001b[0m \u001b[1m14s\u001b[0m 3s/step - deviation_mae: 4.1191 - loss: 8.7411 - mean_mae: 0.0132 - val_deviation_mae: 3.9447 - val_loss: 11.5517 - val_mean_mae: 0.0284\n",
      "Epoch 618/800\n",
      "\u001b[1m5/5\u001b[0m \u001b[32m━━━━━━━━━━━━━━━━━━━━\u001b[0m\u001b[37m\u001b[0m \u001b[1m14s\u001b[0m 3s/step - deviation_mae: 4.1532 - loss: 9.2424 - mean_mae: 0.0176 - val_deviation_mae: 3.9502 - val_loss: 11.4707 - val_mean_mae: 0.0287\n",
      "Epoch 619/800\n",
      "\u001b[1m5/5\u001b[0m \u001b[32m━━━━━━━━━━━━━━━━━━━━\u001b[0m\u001b[37m\u001b[0m \u001b[1m14s\u001b[0m 3s/step - deviation_mae: 4.1672 - loss: 9.0164 - mean_mae: 0.0158 - val_deviation_mae: 3.7288 - val_loss: 10.0539 - val_mean_mae: 0.0220\n",
      "Epoch 620/800\n",
      "\u001b[1m5/5\u001b[0m \u001b[32m━━━━━━━━━━━━━━━━━━━━\u001b[0m\u001b[37m\u001b[0m \u001b[1m14s\u001b[0m 3s/step - deviation_mae: 3.9636 - loss: 8.2403 - mean_mae: 0.0115 - val_deviation_mae: 3.6301 - val_loss: 10.1618 - val_mean_mae: 0.0234\n",
      "Epoch 621/800\n",
      "\u001b[1m5/5\u001b[0m \u001b[32m━━━━━━━━━━━━━━━━━━━━\u001b[0m\u001b[37m\u001b[0m \u001b[1m14s\u001b[0m 3s/step - deviation_mae: 3.8087 - loss: 8.2201 - mean_mae: 0.0120 - val_deviation_mae: 3.5946 - val_loss: 9.6544 - val_mean_mae: 0.0208\n",
      "Epoch 622/800\n",
      "\u001b[1m5/5\u001b[0m \u001b[32m━━━━━━━━━━━━━━━━━━━━\u001b[0m\u001b[37m\u001b[0m \u001b[1m14s\u001b[0m 3s/step - deviation_mae: 3.7491 - loss: 7.9342 - mean_mae: 0.0102 - val_deviation_mae: 3.5547 - val_loss: 9.6552 - val_mean_mae: 0.0209\n",
      "Epoch 623/800\n",
      "\u001b[1m5/5\u001b[0m \u001b[32m━━━━━━━━━━━━━━━━━━━━\u001b[0m\u001b[37m\u001b[0m \u001b[1m14s\u001b[0m 3s/step - deviation_mae: 3.7273 - loss: 7.8721 - mean_mae: 0.0109 - val_deviation_mae: 3.4945 - val_loss: 9.3467 - val_mean_mae: 0.0194\n",
      "Epoch 624/800\n",
      "\u001b[1m5/5\u001b[0m \u001b[32m━━━━━━━━━━━━━━━━━━━━\u001b[0m\u001b[37m\u001b[0m \u001b[1m14s\u001b[0m 3s/step - deviation_mae: 3.5876 - loss: 7.7036 - mean_mae: 0.0093 - val_deviation_mae: 3.4479 - val_loss: 9.2171 - val_mean_mae: 0.0181\n",
      "Epoch 625/800\n",
      "\u001b[1m5/5\u001b[0m \u001b[32m━━━━━━━━━━━━━━━━━━━━\u001b[0m\u001b[37m\u001b[0m \u001b[1m14s\u001b[0m 3s/step - deviation_mae: 3.6504 - loss: 7.5709 - mean_mae: 0.0101 - val_deviation_mae: 3.4264 - val_loss: 9.8797 - val_mean_mae: 0.0219\n",
      "Epoch 626/800\n",
      "\u001b[1m5/5\u001b[0m \u001b[32m━━━━━━━━━━━━━━━━━━━━\u001b[0m\u001b[37m\u001b[0m \u001b[1m14s\u001b[0m 3s/step - deviation_mae: 3.7316 - loss: 8.8227 - mean_mae: 0.0190 - val_deviation_mae: 3.4107 - val_loss: 10.8868 - val_mean_mae: 0.0310\n",
      "Epoch 627/800\n",
      "\u001b[1m5/5\u001b[0m \u001b[32m━━━━━━━━━━━━━━━━━━━━\u001b[0m\u001b[37m\u001b[0m \u001b[1m14s\u001b[0m 3s/step - deviation_mae: 3.6023 - loss: 9.1086 - mean_mae: 0.0217 - val_deviation_mae: 3.3127 - val_loss: 12.5543 - val_mean_mae: 0.0361\n",
      "Epoch 628/800\n",
      "\u001b[1m5/5\u001b[0m \u001b[32m━━━━━━━━━━━━━━━━━━━━\u001b[0m\u001b[37m\u001b[0m \u001b[1m15s\u001b[0m 3s/step - deviation_mae: 3.5466 - loss: 9.5374 - mean_mae: 0.0228 - val_deviation_mae: 3.4094 - val_loss: 10.4466 - val_mean_mae: 0.0279\n",
      "Epoch 629/800\n",
      "\u001b[1m5/5\u001b[0m \u001b[32m━━━━━━━━━━━━━━━━━━━━\u001b[0m\u001b[37m\u001b[0m \u001b[1m15s\u001b[0m 3s/step - deviation_mae: 3.4982 - loss: 8.4414 - mean_mae: 0.0194 - val_deviation_mae: 3.6174 - val_loss: 10.5991 - val_mean_mae: 0.0292\n",
      "Epoch 630/800\n",
      "\u001b[1m5/5\u001b[0m \u001b[32m━━━━━━━━━━━━━━━━━━━━\u001b[0m\u001b[37m\u001b[0m \u001b[1m14s\u001b[0m 3s/step - deviation_mae: 3.7905 - loss: 8.0372 - mean_mae: 0.0160 - val_deviation_mae: 3.7266 - val_loss: 9.3452 - val_mean_mae: 0.0231\n",
      "Epoch 631/800\n",
      "\u001b[1m5/5\u001b[0m \u001b[32m━━━━━━━━━━━━━━━━━━━━\u001b[0m\u001b[37m\u001b[0m \u001b[1m14s\u001b[0m 3s/step - deviation_mae: 3.8025 - loss: 7.4668 - mean_mae: 0.0124 - val_deviation_mae: 3.3750 - val_loss: 9.0538 - val_mean_mae: 0.0221\n",
      "Epoch 632/800\n",
      "\u001b[1m5/5\u001b[0m \u001b[32m━━━━━━━━━━━━━━━━━━━━\u001b[0m\u001b[37m\u001b[0m \u001b[1m14s\u001b[0m 3s/step - deviation_mae: 3.4898 - loss: 7.1822 - mean_mae: 0.0109 - val_deviation_mae: 3.1972 - val_loss: 8.9064 - val_mean_mae: 0.0216\n",
      "Epoch 633/800\n",
      "\u001b[1m5/5\u001b[0m \u001b[32m━━━━━━━━━━━━━━━━━━━━\u001b[0m\u001b[37m\u001b[0m \u001b[1m14s\u001b[0m 3s/step - deviation_mae: 3.3935 - loss: 6.9766 - mean_mae: 0.0097 - val_deviation_mae: 3.2383 - val_loss: 9.9268 - val_mean_mae: 0.0282\n",
      "Epoch 634/800\n",
      "\u001b[1m5/5\u001b[0m \u001b[32m━━━━━━━━━━━━━━━━━━━━\u001b[0m\u001b[37m\u001b[0m \u001b[1m14s\u001b[0m 3s/step - deviation_mae: 3.4066 - loss: 7.4659 - mean_mae: 0.0150 - val_deviation_mae: 3.1698 - val_loss: 8.7550 - val_mean_mae: 0.0211\n",
      "Epoch 635/800\n",
      "\u001b[1m5/5\u001b[0m \u001b[32m━━━━━━━━━━━━━━━━━━━━\u001b[0m\u001b[37m\u001b[0m \u001b[1m14s\u001b[0m 3s/step - deviation_mae: 3.2681 - loss: 7.0695 - mean_mae: 0.0131 - val_deviation_mae: 3.2394 - val_loss: 9.2395 - val_mean_mae: 0.0248\n",
      "Epoch 636/800\n",
      "\u001b[1m5/5\u001b[0m \u001b[32m━━━━━━━━━━━━━━━━━━━━\u001b[0m\u001b[37m\u001b[0m \u001b[1m14s\u001b[0m 3s/step - deviation_mae: 3.3730 - loss: 7.0956 - mean_mae: 0.0134 - val_deviation_mae: 3.0750 - val_loss: 8.6334 - val_mean_mae: 0.0223\n",
      "Epoch 637/800\n",
      "\u001b[1m5/5\u001b[0m \u001b[32m━━━━━━━━━━━━━━━━━━━━\u001b[0m\u001b[37m\u001b[0m \u001b[1m14s\u001b[0m 3s/step - deviation_mae: 3.1781 - loss: 6.8445 - mean_mae: 0.0129 - val_deviation_mae: 3.0257 - val_loss: 8.3036 - val_mean_mae: 0.0192\n",
      "Epoch 638/800\n",
      "\u001b[1m5/5\u001b[0m \u001b[32m━━━━━━━━━━━━━━━━━━━━\u001b[0m\u001b[37m\u001b[0m \u001b[1m14s\u001b[0m 3s/step - deviation_mae: 3.1086 - loss: 6.7282 - mean_mae: 0.0112 - val_deviation_mae: 2.9809 - val_loss: 8.2738 - val_mean_mae: 0.0194\n",
      "Epoch 639/800\n",
      "\u001b[1m5/5\u001b[0m \u001b[32m━━━━━━━━━━━━━━━━━━━━\u001b[0m\u001b[37m\u001b[0m \u001b[1m14s\u001b[0m 3s/step - deviation_mae: 3.1768 - loss: 6.6526 - mean_mae: 0.0105 - val_deviation_mae: 2.9420 - val_loss: 8.3389 - val_mean_mae: 0.0205\n",
      "Epoch 640/800\n",
      "\u001b[1m5/5\u001b[0m \u001b[32m━━━━━━━━━━━━━━━━━━━━\u001b[0m\u001b[37m\u001b[0m \u001b[1m14s\u001b[0m 3s/step - deviation_mae: 3.2216 - loss: 6.6264 - mean_mae: 0.0112 - val_deviation_mae: 2.9026 - val_loss: 8.6677 - val_mean_mae: 0.0233\n",
      "Epoch 641/800\n",
      "\u001b[1m5/5\u001b[0m \u001b[32m━━━━━━━━━━━━━━━━━━━━\u001b[0m\u001b[37m\u001b[0m \u001b[1m14s\u001b[0m 3s/step - deviation_mae: 3.0684 - loss: 6.5238 - mean_mae: 0.0129 - val_deviation_mae: 2.9106 - val_loss: 8.6867 - val_mean_mae: 0.0218\n",
      "Epoch 642/800\n",
      "\u001b[1m5/5\u001b[0m \u001b[32m━━━━━━━━━━━━━━━━━━━━\u001b[0m\u001b[37m\u001b[0m \u001b[1m14s\u001b[0m 3s/step - deviation_mae: 3.0241 - loss: 6.9757 - mean_mae: 0.0150 - val_deviation_mae: 2.8926 - val_loss: 8.9189 - val_mean_mae: 0.0235\n",
      "Epoch 643/800\n",
      "\u001b[1m5/5\u001b[0m \u001b[32m━━━━━━━━━━━━━━━━━━━━\u001b[0m\u001b[37m\u001b[0m \u001b[1m14s\u001b[0m 3s/step - deviation_mae: 3.1670 - loss: 7.2459 - mean_mae: 0.0169 - val_deviation_mae: 2.8662 - val_loss: 9.9168 - val_mean_mae: 0.0293\n",
      "Epoch 644/800\n",
      "\u001b[1m5/5\u001b[0m \u001b[32m━━━━━━━━━━━━━━━━━━━━\u001b[0m\u001b[37m\u001b[0m \u001b[1m14s\u001b[0m 3s/step - deviation_mae: 3.0179 - loss: 7.7289 - mean_mae: 0.0214 - val_deviation_mae: 2.8573 - val_loss: 8.5242 - val_mean_mae: 0.0252\n",
      "Epoch 645/800\n",
      "\u001b[1m5/5\u001b[0m \u001b[32m━━━━━━━━━━━━━━━━━━━━\u001b[0m\u001b[37m\u001b[0m \u001b[1m14s\u001b[0m 3s/step - deviation_mae: 3.0829 - loss: 7.0140 - mean_mae: 0.0184 - val_deviation_mae: 3.0798 - val_loss: 8.6509 - val_mean_mae: 0.0263\n",
      "Epoch 646/800\n",
      "\u001b[1m5/5\u001b[0m \u001b[32m━━━━━━━━━━━━━━━━━━━━\u001b[0m\u001b[37m\u001b[0m \u001b[1m14s\u001b[0m 3s/step - deviation_mae: 3.4373 - loss: 7.0853 - mean_mae: 0.0186 - val_deviation_mae: 3.7200 - val_loss: 7.6739 - val_mean_mae: 0.0192\n",
      "Epoch 647/800\n",
      "\u001b[1m5/5\u001b[0m \u001b[32m━━━━━━━━━━━━━━━━━━━━\u001b[0m\u001b[37m\u001b[0m \u001b[1m14s\u001b[0m 3s/step - deviation_mae: 3.8777 - loss: 6.0392 - mean_mae: 0.0104 - val_deviation_mae: 3.6114 - val_loss: 7.5410 - val_mean_mae: 0.0182\n",
      "Epoch 648/800\n",
      "\u001b[1m5/5\u001b[0m \u001b[32m━━━━━━━━━━━━━━━━━━━━\u001b[0m\u001b[37m\u001b[0m \u001b[1m14s\u001b[0m 3s/step - deviation_mae: 3.6498 - loss: 5.8707 - mean_mae: 0.0099 - val_deviation_mae: 3.0693 - val_loss: 7.9740 - val_mean_mae: 0.0226\n",
      "Epoch 649/800\n",
      "\u001b[1m5/5\u001b[0m \u001b[32m━━━━━━━━━━━━━━━━━━━━\u001b[0m\u001b[37m\u001b[0m \u001b[1m14s\u001b[0m 3s/step - deviation_mae: 3.3040 - loss: 6.1289 - mean_mae: 0.0134 - val_deviation_mae: 2.9103 - val_loss: 7.5836 - val_mean_mae: 0.0198\n",
      "Epoch 650/800\n",
      "\u001b[1m5/5\u001b[0m \u001b[32m━━━━━━━━━━━━━━━━━━━━\u001b[0m\u001b[37m\u001b[0m \u001b[1m14s\u001b[0m 3s/step - deviation_mae: 3.0947 - loss: 5.8470 - mean_mae: 0.0101 - val_deviation_mae: 2.9365 - val_loss: 7.3459 - val_mean_mae: 0.0192\n",
      "Epoch 651/800\n",
      "\u001b[1m5/5\u001b[0m \u001b[32m━━━━━━━━━━━━━━━━━━━━\u001b[0m\u001b[37m\u001b[0m \u001b[1m14s\u001b[0m 3s/step - deviation_mae: 3.0840 - loss: 5.6739 - mean_mae: 0.0093 - val_deviation_mae: 2.7714 - val_loss: 7.5367 - val_mean_mae: 0.0213\n",
      "Epoch 652/800\n",
      "\u001b[1m5/5\u001b[0m \u001b[32m━━━━━━━━━━━━━━━━━━━━\u001b[0m\u001b[37m\u001b[0m \u001b[1m14s\u001b[0m 3s/step - deviation_mae: 2.9773 - loss: 5.7903 - mean_mae: 0.0115 - val_deviation_mae: 2.7775 - val_loss: 7.7207 - val_mean_mae: 0.0237\n",
      "Epoch 653/800\n",
      "\u001b[1m5/5\u001b[0m \u001b[32m━━━━━━━━━━━━━━━━━━━━\u001b[0m\u001b[37m\u001b[0m \u001b[1m14s\u001b[0m 3s/step - deviation_mae: 2.9550 - loss: 5.7025 - mean_mae: 0.0110 - val_deviation_mae: 2.6666 - val_loss: 7.1429 - val_mean_mae: 0.0194\n",
      "Epoch 654/800\n",
      "\u001b[1m5/5\u001b[0m \u001b[32m━━━━━━━━━━━━━━━━━━━━\u001b[0m\u001b[37m\u001b[0m \u001b[1m14s\u001b[0m 3s/step - deviation_mae: 2.8859 - loss: 5.5245 - mean_mae: 0.0098 - val_deviation_mae: 2.6224 - val_loss: 7.0417 - val_mean_mae: 0.0183\n",
      "Epoch 655/800\n",
      "\u001b[1m5/5\u001b[0m \u001b[32m━━━━━━━━━━━━━━━━━━━━\u001b[0m\u001b[37m\u001b[0m \u001b[1m14s\u001b[0m 3s/step - deviation_mae: 2.8453 - loss: 5.5574 - mean_mae: 0.0100 - val_deviation_mae: 2.5777 - val_loss: 7.8553 - val_mean_mae: 0.0256\n",
      "Epoch 656/800\n",
      "\u001b[1m5/5\u001b[0m \u001b[32m━━━━━━━━━━━━━━━━━━━━\u001b[0m\u001b[37m\u001b[0m \u001b[1m14s\u001b[0m 3s/step - deviation_mae: 2.7003 - loss: 5.7120 - mean_mae: 0.0141 - val_deviation_mae: 2.5422 - val_loss: 7.2249 - val_mean_mae: 0.0194\n",
      "Epoch 657/800\n",
      "\u001b[1m5/5\u001b[0m \u001b[32m━━━━━━━━━━━━━━━━━━━━\u001b[0m\u001b[37m\u001b[0m \u001b[1m14s\u001b[0m 3s/step - deviation_mae: 2.8410 - loss: 5.8711 - mean_mae: 0.0149 - val_deviation_mae: 2.4847 - val_loss: 7.2049 - val_mean_mae: 0.0218\n",
      "Epoch 658/800\n",
      "\u001b[1m5/5\u001b[0m \u001b[32m━━━━━━━━━━━━━━━━━━━━\u001b[0m\u001b[37m\u001b[0m \u001b[1m14s\u001b[0m 3s/step - deviation_mae: 2.6940 - loss: 5.5943 - mean_mae: 0.0140 - val_deviation_mae: 2.6142 - val_loss: 7.0319 - val_mean_mae: 0.0196\n",
      "Epoch 659/800\n",
      "\u001b[1m5/5\u001b[0m \u001b[32m━━━━━━━━━━━━━━━━━━━━\u001b[0m\u001b[37m\u001b[0m \u001b[1m14s\u001b[0m 3s/step - deviation_mae: 2.7675 - loss: 5.4621 - mean_mae: 0.0136 - val_deviation_mae: 2.5964 - val_loss: 6.7873 - val_mean_mae: 0.0191\n",
      "Epoch 660/800\n",
      "\u001b[1m5/5\u001b[0m \u001b[32m━━━━━━━━━━━━━━━━━━━━\u001b[0m\u001b[37m\u001b[0m \u001b[1m14s\u001b[0m 3s/step - deviation_mae: 2.9766 - loss: 5.1408 - mean_mae: 0.0096 - val_deviation_mae: 2.7668 - val_loss: 6.7741 - val_mean_mae: 0.0197\n",
      "Epoch 661/800\n",
      "\u001b[1m5/5\u001b[0m \u001b[32m━━━━━━━━━━━━━━━━━━━━\u001b[0m\u001b[37m\u001b[0m \u001b[1m14s\u001b[0m 3s/step - deviation_mae: 3.0260 - loss: 5.2047 - mean_mae: 0.0103 - val_deviation_mae: 2.7192 - val_loss: 8.3250 - val_mean_mae: 0.0288\n",
      "Epoch 662/800\n",
      "\u001b[1m5/5\u001b[0m \u001b[32m━━━━━━━━━━━━━━━━━━━━\u001b[0m\u001b[37m\u001b[0m \u001b[1m14s\u001b[0m 3s/step - deviation_mae: 2.8087 - loss: 6.0044 - mean_mae: 0.0157 - val_deviation_mae: 2.7272 - val_loss: 8.2693 - val_mean_mae: 0.0283\n",
      "Epoch 663/800\n",
      "\u001b[1m5/5\u001b[0m \u001b[32m━━━━━━━━━━━━━━━━━━━━\u001b[0m\u001b[37m\u001b[0m \u001b[1m14s\u001b[0m 3s/step - deviation_mae: 2.8667 - loss: 6.1173 - mean_mae: 0.0190 - val_deviation_mae: 2.6498 - val_loss: 7.2086 - val_mean_mae: 0.0233\n",
      "Epoch 664/800\n",
      "\u001b[1m5/5\u001b[0m \u001b[32m━━━━━━━━━━━━━━━━━━━━\u001b[0m\u001b[37m\u001b[0m \u001b[1m14s\u001b[0m 3s/step - deviation_mae: 2.8169 - loss: 5.6833 - mean_mae: 0.0170 - val_deviation_mae: 2.5283 - val_loss: 6.6897 - val_mean_mae: 0.0203\n",
      "Epoch 665/800\n",
      "\u001b[1m5/5\u001b[0m \u001b[32m━━━━━━━━━━━━━━━━━━━━\u001b[0m\u001b[37m\u001b[0m \u001b[1m14s\u001b[0m 3s/step - deviation_mae: 2.6606 - loss: 5.4118 - mean_mae: 0.0131 - val_deviation_mae: 2.5649 - val_loss: 6.9632 - val_mean_mae: 0.0209\n",
      "Epoch 666/800\n",
      "\u001b[1m5/5\u001b[0m \u001b[32m━━━━━━━━━━━━━━━━━━━━\u001b[0m\u001b[37m\u001b[0m \u001b[1m14s\u001b[0m 3s/step - deviation_mae: 2.8323 - loss: 5.2670 - mean_mae: 0.0126 - val_deviation_mae: 2.5719 - val_loss: 9.8397 - val_mean_mae: 0.0324\n",
      "Epoch 667/800\n",
      "\u001b[1m5/5\u001b[0m \u001b[32m━━━━━━━━━━━━━━━━━━━━\u001b[0m\u001b[37m\u001b[0m \u001b[1m14s\u001b[0m 3s/step - deviation_mae: 2.8102 - loss: 8.0599 - mean_mae: 0.0315 - val_deviation_mae: 2.5370 - val_loss: 11.0170 - val_mean_mae: 0.0412\n",
      "Epoch 668/800\n",
      "\u001b[1m5/5\u001b[0m \u001b[32m━━━━━━━━━━━━━━━━━━━━\u001b[0m\u001b[37m\u001b[0m \u001b[1m14s\u001b[0m 3s/step - deviation_mae: 3.0487 - loss: 9.0727 - mean_mae: 0.0376 - val_deviation_mae: 2.8579 - val_loss: 8.6524 - val_mean_mae: 0.0305\n",
      "Epoch 669/800\n",
      "\u001b[1m5/5\u001b[0m \u001b[32m━━━━━━━━━━━━━━━━━━━━\u001b[0m\u001b[37m\u001b[0m \u001b[1m14s\u001b[0m 3s/step - deviation_mae: 4.5601 - loss: 6.4226 - mean_mae: 0.0221 - val_deviation_mae: 6.4990 - val_loss: 7.3732 - val_mean_mae: 0.0212\n",
      "Epoch 670/800\n",
      "\u001b[1m5/5\u001b[0m \u001b[32m━━━━━━━━━━━━━━━━━━━━\u001b[0m\u001b[37m\u001b[0m \u001b[1m14s\u001b[0m 3s/step - deviation_mae: 5.8922 - loss: 5.8180 - mean_mae: 0.0162 - val_deviation_mae: 4.1070 - val_loss: 7.0944 - val_mean_mae: 0.0255\n",
      "Epoch 671/800\n",
      "\u001b[1m5/5\u001b[0m \u001b[32m━━━━━━━━━━━━━━━━━━━━\u001b[0m\u001b[37m\u001b[0m \u001b[1m14s\u001b[0m 3s/step - deviation_mae: 4.7956 - loss: 5.1698 - mean_mae: 0.0146 - val_deviation_mae: 4.9943 - val_loss: 7.0598 - val_mean_mae: 0.0243\n",
      "Epoch 672/800\n",
      "\u001b[1m5/5\u001b[0m \u001b[32m━━━━━━━━━━━━━━━━━━━━\u001b[0m\u001b[37m\u001b[0m \u001b[1m14s\u001b[0m 3s/step - deviation_mae: 4.8595 - loss: 5.1989 - mean_mae: 0.0149 - val_deviation_mae: 4.0133 - val_loss: 7.7231 - val_mean_mae: 0.0283\n",
      "Epoch 673/800\n",
      "\u001b[1m5/5\u001b[0m \u001b[32m━━━━━━━━━━━━━━━━━━━━\u001b[0m\u001b[37m\u001b[0m \u001b[1m14s\u001b[0m 3s/step - deviation_mae: 4.2103 - loss: 5.3279 - mean_mae: 0.0153 - val_deviation_mae: 3.7322 - val_loss: 6.8158 - val_mean_mae: 0.0233\n",
      "Epoch 674/800\n",
      "\u001b[1m5/5\u001b[0m \u001b[32m━━━━━━━━━━━━━━━━━━━━\u001b[0m\u001b[37m\u001b[0m \u001b[1m14s\u001b[0m 3s/step - deviation_mae: 3.9220 - loss: 5.1114 - mean_mae: 0.0151 - val_deviation_mae: 3.4782 - val_loss: 6.9281 - val_mean_mae: 0.0259\n",
      "Epoch 675/800\n",
      "\u001b[1m5/5\u001b[0m \u001b[32m━━━━━━━━━━━━━━━━━━━━\u001b[0m\u001b[37m\u001b[0m \u001b[1m14s\u001b[0m 3s/step - deviation_mae: 3.7786 - loss: 4.8115 - mean_mae: 0.0145 - val_deviation_mae: 3.8771 - val_loss: 6.7512 - val_mean_mae: 0.0231\n",
      "Epoch 676/800\n",
      "\u001b[1m5/5\u001b[0m \u001b[32m━━━━━━━━━━━━━━━━━━━━\u001b[0m\u001b[37m\u001b[0m \u001b[1m14s\u001b[0m 3s/step - deviation_mae: 3.8264 - loss: 5.2701 - mean_mae: 0.0170 - val_deviation_mae: 3.0802 - val_loss: 6.8868 - val_mean_mae: 0.0221\n",
      "Epoch 677/800\n",
      "\u001b[1m5/5\u001b[0m \u001b[32m━━━━━━━━━━━━━━━━━━━━\u001b[0m\u001b[37m\u001b[0m \u001b[1m14s\u001b[0m 3s/step - deviation_mae: 3.1878 - loss: 5.0712 - mean_mae: 0.0174 - val_deviation_mae: 2.7716 - val_loss: 6.7408 - val_mean_mae: 0.0236\n",
      "Epoch 678/800\n",
      "\u001b[1m5/5\u001b[0m \u001b[32m━━━━━━━━━━━━━━━━━━━━\u001b[0m\u001b[37m\u001b[0m \u001b[1m14s\u001b[0m 3s/step - deviation_mae: 2.9510 - loss: 4.7737 - mean_mae: 0.0140 - val_deviation_mae: 2.6890 - val_loss: 6.4603 - val_mean_mae: 0.0214\n",
      "Epoch 679/800\n",
      "\u001b[1m5/5\u001b[0m \u001b[32m━━━━━━━━━━━━━━━━━━━━\u001b[0m\u001b[37m\u001b[0m \u001b[1m14s\u001b[0m 3s/step - deviation_mae: 2.9455 - loss: 4.9032 - mean_mae: 0.0140 - val_deviation_mae: 2.6566 - val_loss: 6.4010 - val_mean_mae: 0.0205\n",
      "Epoch 680/800\n",
      "\u001b[1m5/5\u001b[0m \u001b[32m━━━━━━━━━━━━━━━━━━━━\u001b[0m\u001b[37m\u001b[0m \u001b[1m14s\u001b[0m 3s/step - deviation_mae: 2.8692 - loss: 4.6710 - mean_mae: 0.0142 - val_deviation_mae: 2.5122 - val_loss: 6.0990 - val_mean_mae: 0.0208\n",
      "Epoch 681/800\n",
      "\u001b[1m5/5\u001b[0m \u001b[32m━━━━━━━━━━━━━━━━━━━━\u001b[0m\u001b[37m\u001b[0m \u001b[1m14s\u001b[0m 3s/step - deviation_mae: 2.7366 - loss: 4.4916 - mean_mae: 0.0119 - val_deviation_mae: 2.4362 - val_loss: 5.8075 - val_mean_mae: 0.0188\n",
      "Epoch 682/800\n",
      "\u001b[1m5/5\u001b[0m \u001b[32m━━━━━━━━━━━━━━━━━━━━\u001b[0m\u001b[37m\u001b[0m \u001b[1m14s\u001b[0m 3s/step - deviation_mae: 2.5843 - loss: 4.1701 - mean_mae: 0.0096 - val_deviation_mae: 2.3647 - val_loss: 5.9452 - val_mean_mae: 0.0199\n",
      "Epoch 683/800\n",
      "\u001b[1m5/5\u001b[0m \u001b[32m━━━━━━━━━━━━━━━━━━━━\u001b[0m\u001b[37m\u001b[0m \u001b[1m14s\u001b[0m 3s/step - deviation_mae: 2.6523 - loss: 4.4807 - mean_mae: 0.0151 - val_deviation_mae: 2.4418 - val_loss: 5.9348 - val_mean_mae: 0.0214\n",
      "Epoch 684/800\n",
      "\u001b[1m5/5\u001b[0m \u001b[32m━━━━━━━━━━━━━━━━━━━━\u001b[0m\u001b[37m\u001b[0m \u001b[1m14s\u001b[0m 3s/step - deviation_mae: 2.6544 - loss: 4.0818 - mean_mae: 0.0102 - val_deviation_mae: 2.3284 - val_loss: 5.6799 - val_mean_mae: 0.0185\n",
      "Epoch 685/800\n",
      "\u001b[1m5/5\u001b[0m \u001b[32m━━━━━━━━━━━━━━━━━━━━\u001b[0m\u001b[37m\u001b[0m \u001b[1m14s\u001b[0m 3s/step - deviation_mae: 2.3304 - loss: 4.0605 - mean_mae: 0.0105 - val_deviation_mae: 2.2593 - val_loss: 5.7494 - val_mean_mae: 0.0190\n",
      "Epoch 686/800\n",
      "\u001b[1m5/5\u001b[0m \u001b[32m━━━━━━━━━━━━━━━━━━━━\u001b[0m\u001b[37m\u001b[0m \u001b[1m14s\u001b[0m 3s/step - deviation_mae: 2.5230 - loss: 4.3241 - mean_mae: 0.0144 - val_deviation_mae: 2.2299 - val_loss: 6.1504 - val_mean_mae: 0.0240\n",
      "Epoch 687/800\n",
      "\u001b[1m5/5\u001b[0m \u001b[32m━━━━━━━━━━━━━━━━━━━━\u001b[0m\u001b[37m\u001b[0m \u001b[1m14s\u001b[0m 3s/step - deviation_mae: 2.3818 - loss: 4.0185 - mean_mae: 0.0111 - val_deviation_mae: 2.2300 - val_loss: 5.4908 - val_mean_mae: 0.0192\n",
      "Epoch 688/800\n",
      "\u001b[1m5/5\u001b[0m \u001b[32m━━━━━━━━━━━━━━━━━━━━\u001b[0m\u001b[37m\u001b[0m \u001b[1m14s\u001b[0m 3s/step - deviation_mae: 2.3680 - loss: 3.9431 - mean_mae: 0.0104 - val_deviation_mae: 2.2167 - val_loss: 5.4005 - val_mean_mae: 0.0181\n",
      "Epoch 689/800\n",
      "\u001b[1m5/5\u001b[0m \u001b[32m━━━━━━━━━━━━━━━━━━━━\u001b[0m\u001b[37m\u001b[0m \u001b[1m14s\u001b[0m 3s/step - deviation_mae: 2.5081 - loss: 3.9226 - mean_mae: 0.0100 - val_deviation_mae: 2.2078 - val_loss: 5.3935 - val_mean_mae: 0.0181\n",
      "Epoch 690/800\n",
      "\u001b[1m5/5\u001b[0m \u001b[32m━━━━━━━━━━━━━━━━━━━━\u001b[0m\u001b[37m\u001b[0m \u001b[1m14s\u001b[0m 3s/step - deviation_mae: 2.3963 - loss: 4.0058 - mean_mae: 0.0109 - val_deviation_mae: 2.1900 - val_loss: 5.4866 - val_mean_mae: 0.0196\n",
      "Epoch 691/800\n",
      "\u001b[1m5/5\u001b[0m \u001b[32m━━━━━━━━━━━━━━━━━━━━\u001b[0m\u001b[37m\u001b[0m \u001b[1m14s\u001b[0m 3s/step - deviation_mae: 2.3171 - loss: 3.7589 - mean_mae: 0.0096 - val_deviation_mae: 2.1634 - val_loss: 5.3129 - val_mean_mae: 0.0191\n",
      "Epoch 692/800\n",
      "\u001b[1m5/5\u001b[0m \u001b[32m━━━━━━━━━━━━━━━━━━━━\u001b[0m\u001b[37m\u001b[0m \u001b[1m14s\u001b[0m 3s/step - deviation_mae: 2.3438 - loss: 3.7535 - mean_mae: 0.0093 - val_deviation_mae: 2.1680 - val_loss: 5.2996 - val_mean_mae: 0.0189\n",
      "Epoch 693/800\n",
      "\u001b[1m5/5\u001b[0m \u001b[32m━━━━━━━━━━━━━━━━━━━━\u001b[0m\u001b[37m\u001b[0m \u001b[1m14s\u001b[0m 3s/step - deviation_mae: 2.3577 - loss: 3.7658 - mean_mae: 0.0103 - val_deviation_mae: 2.1533 - val_loss: 7.2483 - val_mean_mae: 0.0301\n",
      "Epoch 694/800\n",
      "\u001b[1m5/5\u001b[0m \u001b[32m━━━━━━━━━━━━━━━━━━━━\u001b[0m\u001b[37m\u001b[0m \u001b[1m14s\u001b[0m 3s/step - deviation_mae: 2.3632 - loss: 4.5962 - mean_mae: 0.0158 - val_deviation_mae: 2.2118 - val_loss: 7.0237 - val_mean_mae: 0.0285\n",
      "Epoch 695/800\n",
      "\u001b[1m5/5\u001b[0m \u001b[32m━━━━━━━━━━━━━━━━━━━━\u001b[0m\u001b[37m\u001b[0m \u001b[1m14s\u001b[0m 3s/step - deviation_mae: 2.4086 - loss: 4.4002 - mean_mae: 0.0162 - val_deviation_mae: 2.3536 - val_loss: 5.5443 - val_mean_mae: 0.0211\n",
      "Epoch 696/800\n",
      "\u001b[1m5/5\u001b[0m \u001b[32m━━━━━━━━━━━━━━━━━━━━\u001b[0m\u001b[37m\u001b[0m \u001b[1m14s\u001b[0m 3s/step - deviation_mae: 2.5308 - loss: 3.7574 - mean_mae: 0.0117 - val_deviation_mae: 2.3036 - val_loss: 6.2889 - val_mean_mae: 0.0276\n",
      "Epoch 697/800\n",
      "\u001b[1m5/5\u001b[0m \u001b[32m━━━━━━━━━━━━━━━━━━━━\u001b[0m\u001b[37m\u001b[0m \u001b[1m14s\u001b[0m 3s/step - deviation_mae: 2.6051 - loss: 3.9672 - mean_mae: 0.0141 - val_deviation_mae: 2.2036 - val_loss: 5.4277 - val_mean_mae: 0.0211\n",
      "Epoch 698/800\n",
      "\u001b[1m5/5\u001b[0m \u001b[32m━━━━━━━━━━━━━━━━━━━━\u001b[0m\u001b[37m\u001b[0m \u001b[1m14s\u001b[0m 3s/step - deviation_mae: 2.3110 - loss: 3.6397 - mean_mae: 0.0113 - val_deviation_mae: 2.2083 - val_loss: 5.0743 - val_mean_mae: 0.0182\n",
      "Epoch 699/800\n",
      "\u001b[1m5/5\u001b[0m \u001b[32m━━━━━━━━━━━━━━━━━━━━\u001b[0m\u001b[37m\u001b[0m \u001b[1m14s\u001b[0m 3s/step - deviation_mae: 2.3782 - loss: 3.6109 - mean_mae: 0.0122 - val_deviation_mae: 2.3014 - val_loss: 6.0820 - val_mean_mae: 0.0270\n",
      "Epoch 700/800\n",
      "\u001b[1m4/5\u001b[0m \u001b[32m━━━━━━━━━━━━━━━━\u001b[0m\u001b[37m━━━━\u001b[0m \u001b[1m1s\u001b[0m 2s/step - deviation_mae: 2.7134 - loss: 3.8604 - mean_mae: 0.0140\n",
      "Epoch 700: saving model to C:/Users/uic33116/Documents/documents/ariel-data-challenge-2024/training_full_model/model-700.weights.h5\n",
      "\u001b[1m5/5\u001b[0m \u001b[32m━━━━━━━━━━━━━━━━━━━━\u001b[0m\u001b[37m\u001b[0m \u001b[1m18s\u001b[0m 4s/step - deviation_mae: 2.6498 - loss: 3.7919 - mean_mae: 0.0133 - val_deviation_mae: 2.2346 - val_loss: 5.2208 - val_mean_mae: 0.0194\n",
      "Epoch 701/800\n",
      "\u001b[1m5/5\u001b[0m \u001b[32m━━━━━━━━━━━━━━━━━━━━\u001b[0m\u001b[37m\u001b[0m \u001b[1m14s\u001b[0m 3s/step - deviation_mae: 2.3188 - loss: 3.7185 - mean_mae: 0.0125 - val_deviation_mae: 2.2566 - val_loss: 5.0596 - val_mean_mae: 0.0193\n",
      "Epoch 702/800\n",
      "\u001b[1m5/5\u001b[0m \u001b[32m━━━━━━━━━━━━━━━━━━━━\u001b[0m\u001b[37m\u001b[0m \u001b[1m15s\u001b[0m 3s/step - deviation_mae: 2.4174 - loss: 3.6505 - mean_mae: 0.0130 - val_deviation_mae: 2.2672 - val_loss: 5.3917 - val_mean_mae: 0.0231\n",
      "Epoch 703/800\n",
      "\u001b[1m5/5\u001b[0m \u001b[32m━━━━━━━━━━━━━━━━━━━━\u001b[0m\u001b[37m\u001b[0m \u001b[1m15s\u001b[0m 3s/step - deviation_mae: 2.4935 - loss: 3.5534 - mean_mae: 0.0127 - val_deviation_mae: 2.2645 - val_loss: 5.1692 - val_mean_mae: 0.0196\n",
      "Epoch 704/800\n",
      "\u001b[1m5/5\u001b[0m \u001b[32m━━━━━━━━━━━━━━━━━━━━\u001b[0m\u001b[37m\u001b[0m \u001b[1m14s\u001b[0m 3s/step - deviation_mae: 2.3253 - loss: 3.6490 - mean_mae: 0.0130 - val_deviation_mae: 2.1323 - val_loss: 5.0027 - val_mean_mae: 0.0204\n",
      "Epoch 705/800\n",
      "\u001b[1m5/5\u001b[0m \u001b[32m━━━━━━━━━━━━━━━━━━━━\u001b[0m\u001b[37m\u001b[0m \u001b[1m14s\u001b[0m 3s/step - deviation_mae: 2.3929 - loss: 3.3520 - mean_mae: 0.0108 - val_deviation_mae: 2.1366 - val_loss: 5.0633 - val_mean_mae: 0.0210\n",
      "Epoch 706/800\n",
      "\u001b[1m5/5\u001b[0m \u001b[32m━━━━━━━━━━━━━━━━━━━━\u001b[0m\u001b[37m\u001b[0m \u001b[1m14s\u001b[0m 3s/step - deviation_mae: 2.3092 - loss: 3.6004 - mean_mae: 0.0134 - val_deviation_mae: 2.1430 - val_loss: 5.5756 - val_mean_mae: 0.0221\n",
      "Epoch 707/800\n",
      "\u001b[1m5/5\u001b[0m \u001b[32m━━━━━━━━━━━━━━━━━━━━\u001b[0m\u001b[37m\u001b[0m \u001b[1m14s\u001b[0m 3s/step - deviation_mae: 2.2259 - loss: 3.8048 - mean_mae: 0.0166 - val_deviation_mae: 2.1405 - val_loss: 4.9322 - val_mean_mae: 0.0204\n",
      "Epoch 708/800\n",
      "\u001b[1m5/5\u001b[0m \u001b[32m━━━━━━━━━━━━━━━━━━━━\u001b[0m\u001b[37m\u001b[0m \u001b[1m14s\u001b[0m 3s/step - deviation_mae: 2.3925 - loss: 3.2193 - mean_mae: 0.0100 - val_deviation_mae: 2.1001 - val_loss: 5.1047 - val_mean_mae: 0.0212\n",
      "Epoch 709/800\n",
      "\u001b[1m5/5\u001b[0m \u001b[32m━━━━━━━━━━━━━━━━━━━━\u001b[0m\u001b[37m\u001b[0m \u001b[1m14s\u001b[0m 3s/step - deviation_mae: 2.3143 - loss: 3.2571 - mean_mae: 0.0113 - val_deviation_mae: 2.0894 - val_loss: 4.7648 - val_mean_mae: 0.0187\n",
      "Epoch 710/800\n",
      "\u001b[1m5/5\u001b[0m \u001b[32m━━━━━━━━━━━━━━━━━━━━\u001b[0m\u001b[37m\u001b[0m \u001b[1m14s\u001b[0m 3s/step - deviation_mae: 2.3895 - loss: 3.2409 - mean_mae: 0.0104 - val_deviation_mae: 2.0889 - val_loss: 6.5461 - val_mean_mae: 0.0306\n",
      "Epoch 711/800\n",
      "\u001b[1m5/5\u001b[0m \u001b[32m━━━━━━━━━━━━━━━━━━━━\u001b[0m\u001b[37m\u001b[0m \u001b[1m14s\u001b[0m 3s/step - deviation_mae: 2.3477 - loss: 3.8957 - mean_mae: 0.0165 - val_deviation_mae: 2.1372 - val_loss: 4.6294 - val_mean_mae: 0.0177\n",
      "Epoch 712/800\n",
      "\u001b[1m5/5\u001b[0m \u001b[32m━━━━━━━━━━━━━━━━━━━━\u001b[0m\u001b[37m\u001b[0m \u001b[1m14s\u001b[0m 3s/step - deviation_mae: 2.4135 - loss: 3.1265 - mean_mae: 0.0090 - val_deviation_mae: 2.0999 - val_loss: 5.2652 - val_mean_mae: 0.0229\n",
      "Epoch 713/800\n",
      "\u001b[1m5/5\u001b[0m \u001b[32m━━━━━━━━━━━━━━━━━━━━\u001b[0m\u001b[37m\u001b[0m \u001b[1m14s\u001b[0m 3s/step - deviation_mae: 2.2600 - loss: 3.3265 - mean_mae: 0.0131 - val_deviation_mae: 2.0972 - val_loss: 4.5106 - val_mean_mae: 0.0174\n",
      "Epoch 714/800\n",
      "\u001b[1m5/5\u001b[0m \u001b[32m━━━━━━━━━━━━━━━━━━━━\u001b[0m\u001b[37m\u001b[0m \u001b[1m14s\u001b[0m 3s/step - deviation_mae: 2.1954 - loss: 2.9525 - mean_mae: 0.0085 - val_deviation_mae: 2.0757 - val_loss: 4.5732 - val_mean_mae: 0.0193\n",
      "Epoch 715/800\n",
      "\u001b[1m5/5\u001b[0m \u001b[32m━━━━━━━━━━━━━━━━━━━━\u001b[0m\u001b[37m\u001b[0m \u001b[1m14s\u001b[0m 3s/step - deviation_mae: 2.3404 - loss: 2.9001 - mean_mae: 0.0076 - val_deviation_mae: 2.1053 - val_loss: 4.4841 - val_mean_mae: 0.0175\n",
      "Epoch 716/800\n",
      "\u001b[1m5/5\u001b[0m \u001b[32m━━━━━━━━━━━━━━━━━━━━\u001b[0m\u001b[37m\u001b[0m \u001b[1m14s\u001b[0m 3s/step - deviation_mae: 2.3765 - loss: 2.9410 - mean_mae: 0.0090 - val_deviation_mae: 2.0853 - val_loss: 4.7624 - val_mean_mae: 0.0215\n",
      "Epoch 717/800\n",
      "\u001b[1m5/5\u001b[0m \u001b[32m━━━━━━━━━━━━━━━━━━━━\u001b[0m\u001b[37m\u001b[0m \u001b[1m14s\u001b[0m 3s/step - deviation_mae: 2.3468 - loss: 3.0026 - mean_mae: 0.0105 - val_deviation_mae: 2.0894 - val_loss: 4.5190 - val_mean_mae: 0.0181\n",
      "Epoch 718/800\n",
      "\u001b[1m5/5\u001b[0m \u001b[32m━━━━━━━━━━━━━━━━━━━━\u001b[0m\u001b[37m\u001b[0m \u001b[1m14s\u001b[0m 3s/step - deviation_mae: 2.3795 - loss: 2.9315 - mean_mae: 0.0101 - val_deviation_mae: 2.1053 - val_loss: 4.6111 - val_mean_mae: 0.0203\n",
      "Epoch 719/800\n",
      "\u001b[1m5/5\u001b[0m \u001b[32m━━━━━━━━━━━━━━━━━━━━\u001b[0m\u001b[37m\u001b[0m \u001b[1m14s\u001b[0m 3s/step - deviation_mae: 2.3182 - loss: 2.9260 - mean_mae: 0.0098 - val_deviation_mae: 2.0656 - val_loss: 4.6433 - val_mean_mae: 0.0211\n",
      "Epoch 720/800\n",
      "\u001b[1m5/5\u001b[0m \u001b[32m━━━━━━━━━━━━━━━━━━━━\u001b[0m\u001b[37m\u001b[0m \u001b[1m14s\u001b[0m 3s/step - deviation_mae: 2.3416 - loss: 2.9256 - mean_mae: 0.0103 - val_deviation_mae: 2.2111 - val_loss: 4.8272 - val_mean_mae: 0.0214\n",
      "Epoch 721/800\n",
      "\u001b[1m5/5\u001b[0m \u001b[32m━━━━━━━━━━━━━━━━━━━━\u001b[0m\u001b[37m\u001b[0m \u001b[1m14s\u001b[0m 3s/step - deviation_mae: 2.3974 - loss: 2.9974 - mean_mae: 0.0115 - val_deviation_mae: 2.0731 - val_loss: 7.1850 - val_mean_mae: 0.0362\n",
      "Epoch 722/800\n",
      "\u001b[1m5/5\u001b[0m \u001b[32m━━━━━━━━━━━━━━━━━━━━\u001b[0m\u001b[37m\u001b[0m \u001b[1m14s\u001b[0m 3s/step - deviation_mae: 2.3013 - loss: 4.2476 - mean_mae: 0.0222 - val_deviation_mae: 2.1301 - val_loss: 5.1041 - val_mean_mae: 0.0219\n",
      "Epoch 723/800\n",
      "\u001b[1m5/5\u001b[0m \u001b[32m━━━━━━━━━━━━━━━━━━━━\u001b[0m\u001b[37m\u001b[0m \u001b[1m14s\u001b[0m 3s/step - deviation_mae: 2.2854 - loss: 3.3593 - mean_mae: 0.0156 - val_deviation_mae: 2.1180 - val_loss: 4.6286 - val_mean_mae: 0.0196\n",
      "Epoch 724/800\n",
      "\u001b[1m5/5\u001b[0m \u001b[32m━━━━━━━━━━━━━━━━━━━━\u001b[0m\u001b[37m\u001b[0m \u001b[1m14s\u001b[0m 3s/step - deviation_mae: 2.3028 - loss: 2.9976 - mean_mae: 0.0126 - val_deviation_mae: 2.4069 - val_loss: 4.6799 - val_mean_mae: 0.0211\n",
      "Epoch 725/800\n",
      "\u001b[1m5/5\u001b[0m \u001b[32m━━━━━━━━━━━━━━━━━━━━\u001b[0m\u001b[37m\u001b[0m \u001b[1m14s\u001b[0m 3s/step - deviation_mae: 2.5217 - loss: 2.7783 - mean_mae: 0.0106 - val_deviation_mae: 2.6065 - val_loss: 4.3654 - val_mean_mae: 0.0178\n",
      "Epoch 726/800\n",
      "\u001b[1m5/5\u001b[0m \u001b[32m━━━━━━━━━━━━━━━━━━━━\u001b[0m\u001b[37m\u001b[0m \u001b[1m14s\u001b[0m 3s/step - deviation_mae: 2.7530 - loss: 2.8701 - mean_mae: 0.0106 - val_deviation_mae: 2.4755 - val_loss: 4.5548 - val_mean_mae: 0.0218\n",
      "Epoch 727/800\n",
      "\u001b[1m5/5\u001b[0m \u001b[32m━━━━━━━━━━━━━━━━━━━━\u001b[0m\u001b[37m\u001b[0m \u001b[1m14s\u001b[0m 3s/step - deviation_mae: 2.7443 - loss: 3.0429 - mean_mae: 0.0133 - val_deviation_mae: 2.2851 - val_loss: 4.4558 - val_mean_mae: 0.0191\n",
      "Epoch 728/800\n",
      "\u001b[1m5/5\u001b[0m \u001b[32m━━━━━━━━━━━━━━━━━━━━\u001b[0m\u001b[37m\u001b[0m \u001b[1m14s\u001b[0m 3s/step - deviation_mae: 2.4717 - loss: 3.3705 - mean_mae: 0.0167 - val_deviation_mae: 2.2849 - val_loss: 4.9128 - val_mean_mae: 0.0246\n",
      "Epoch 729/800\n",
      "\u001b[1m5/5\u001b[0m \u001b[32m━━━━━━━━━━━━━━━━━━━━\u001b[0m\u001b[37m\u001b[0m \u001b[1m14s\u001b[0m 3s/step - deviation_mae: 2.4996 - loss: 2.8149 - mean_mae: 0.0116 - val_deviation_mae: 2.3542 - val_loss: 5.0649 - val_mean_mae: 0.0216\n",
      "Epoch 730/800\n",
      "\u001b[1m5/5\u001b[0m \u001b[32m━━━━━━━━━━━━━━━━━━━━\u001b[0m\u001b[37m\u001b[0m \u001b[1m14s\u001b[0m 3s/step - deviation_mae: 2.5467 - loss: 3.4918 - mean_mae: 0.0168 - val_deviation_mae: 2.3342 - val_loss: 4.4512 - val_mean_mae: 0.0213\n",
      "Epoch 731/800\n",
      "\u001b[1m5/5\u001b[0m \u001b[32m━━━━━━━━━━━━━━━━━━━━\u001b[0m\u001b[37m\u001b[0m \u001b[1m14s\u001b[0m 3s/step - deviation_mae: 2.5182 - loss: 3.0344 - mean_mae: 0.0127 - val_deviation_mae: 2.3626 - val_loss: 5.9141 - val_mean_mae: 0.0296\n",
      "Epoch 732/800\n",
      "\u001b[1m5/5\u001b[0m \u001b[32m━━━━━━━━━━━━━━━━━━━━\u001b[0m\u001b[37m\u001b[0m \u001b[1m14s\u001b[0m 3s/step - deviation_mae: 2.4966 - loss: 3.8399 - mean_mae: 0.0212 - val_deviation_mae: 2.3501 - val_loss: 6.5836 - val_mean_mae: 0.0345\n",
      "Epoch 733/800\n",
      "\u001b[1m5/5\u001b[0m \u001b[32m━━━━━━━━━━━━━━━━━━━━\u001b[0m\u001b[37m\u001b[0m \u001b[1m14s\u001b[0m 3s/step - deviation_mae: 2.5107 - loss: 3.7888 - mean_mae: 0.0206 - val_deviation_mae: 2.2233 - val_loss: 4.1189 - val_mean_mae: 0.0183\n",
      "Epoch 734/800\n",
      "\u001b[1m5/5\u001b[0m \u001b[32m━━━━━━━━━━━━━━━━━━━━\u001b[0m\u001b[37m\u001b[0m \u001b[1m14s\u001b[0m 3s/step - deviation_mae: 2.4365 - loss: 2.9759 - mean_mae: 0.0135 - val_deviation_mae: 2.3915 - val_loss: 4.4748 - val_mean_mae: 0.0194\n",
      "Epoch 735/800\n",
      "\u001b[1m5/5\u001b[0m \u001b[32m━━━━━━━━━━━━━━━━━━━━\u001b[0m\u001b[37m\u001b[0m \u001b[1m14s\u001b[0m 3s/step - deviation_mae: 2.6031 - loss: 2.9336 - mean_mae: 0.0147 - val_deviation_mae: 2.1872 - val_loss: 4.8414 - val_mean_mae: 0.0237\n",
      "Epoch 736/800\n",
      "\u001b[1m5/5\u001b[0m \u001b[32m━━━━━━━━━━━━━━━━━━━━\u001b[0m\u001b[37m\u001b[0m \u001b[1m14s\u001b[0m 3s/step - deviation_mae: 2.4309 - loss: 2.8473 - mean_mae: 0.0132 - val_deviation_mae: 2.1428 - val_loss: 4.2855 - val_mean_mae: 0.0195\n",
      "Epoch 737/800\n",
      "\u001b[1m5/5\u001b[0m \u001b[32m━━━━━━━━━━━━━━━━━━━━\u001b[0m\u001b[37m\u001b[0m \u001b[1m14s\u001b[0m 3s/step - deviation_mae: 2.3842 - loss: 2.8060 - mean_mae: 0.0133 - val_deviation_mae: 2.1183 - val_loss: 4.0460 - val_mean_mae: 0.0191\n",
      "Epoch 738/800\n",
      "\u001b[1m5/5\u001b[0m \u001b[32m━━━━━━━━━━━━━━━━━━━━\u001b[0m\u001b[37m\u001b[0m \u001b[1m14s\u001b[0m 3s/step - deviation_mae: 2.4532 - loss: 2.7732 - mean_mae: 0.0122 - val_deviation_mae: 2.1272 - val_loss: 5.2851 - val_mean_mae: 0.0281\n",
      "Epoch 739/800\n",
      "\u001b[1m5/5\u001b[0m \u001b[32m━━━━━━━━━━━━━━━━━━━━\u001b[0m\u001b[37m\u001b[0m \u001b[1m14s\u001b[0m 3s/step - deviation_mae: 2.3738 - loss: 3.0058 - mean_mae: 0.0160 - val_deviation_mae: 2.1221 - val_loss: 5.0483 - val_mean_mae: 0.0256\n",
      "Epoch 740/800\n",
      "\u001b[1m5/5\u001b[0m \u001b[32m━━━━━━━━━━━━━━━━━━━━\u001b[0m\u001b[37m\u001b[0m \u001b[1m14s\u001b[0m 3s/step - deviation_mae: 2.3291 - loss: 3.2431 - mean_mae: 0.0181 - val_deviation_mae: 2.2243 - val_loss: 8.1312 - val_mean_mae: 0.0420\n",
      "Epoch 741/800\n",
      "\u001b[1m5/5\u001b[0m \u001b[32m━━━━━━━━━━━━━━━━━━━━\u001b[0m\u001b[37m\u001b[0m \u001b[1m14s\u001b[0m 3s/step - deviation_mae: 2.6780 - loss: 4.3246 - mean_mae: 0.0247 - val_deviation_mae: 2.7388 - val_loss: 4.6412 - val_mean_mae: 0.0229\n",
      "Epoch 742/800\n",
      "\u001b[1m5/5\u001b[0m \u001b[32m━━━━━━━━━━━━━━━━━━━━\u001b[0m\u001b[37m\u001b[0m \u001b[1m14s\u001b[0m 3s/step - deviation_mae: 2.9307 - loss: 2.8754 - mean_mae: 0.0152 - val_deviation_mae: 2.3101 - val_loss: 4.7441 - val_mean_mae: 0.0238\n",
      "Epoch 743/800\n",
      "\u001b[1m5/5\u001b[0m \u001b[32m━━━━━━━━━━━━━━━━━━━━\u001b[0m\u001b[37m\u001b[0m \u001b[1m14s\u001b[0m 3s/step - deviation_mae: 2.4254 - loss: 2.7624 - mean_mae: 0.0139 - val_deviation_mae: 2.2014 - val_loss: 4.0584 - val_mean_mae: 0.0200\n",
      "Epoch 744/800\n",
      "\u001b[1m5/5\u001b[0m \u001b[32m━━━━━━━━━━━━━━━━━━━━\u001b[0m\u001b[37m\u001b[0m \u001b[1m14s\u001b[0m 3s/step - deviation_mae: 2.3265 - loss: 2.4573 - mean_mae: 0.0100 - val_deviation_mae: 2.1080 - val_loss: 4.0100 - val_mean_mae: 0.0194\n",
      "Epoch 745/800\n",
      "\u001b[1m5/5\u001b[0m \u001b[32m━━━━━━━━━━━━━━━━━━━━\u001b[0m\u001b[37m\u001b[0m \u001b[1m14s\u001b[0m 3s/step - deviation_mae: 2.3080 - loss: 2.5364 - mean_mae: 0.0113 - val_deviation_mae: 2.2464 - val_loss: 4.0655 - val_mean_mae: 0.0183\n",
      "Epoch 746/800\n",
      "\u001b[1m5/5\u001b[0m \u001b[32m━━━━━━━━━━━━━━━━━━━━\u001b[0m\u001b[37m\u001b[0m \u001b[1m14s\u001b[0m 3s/step - deviation_mae: 2.4222 - loss: 2.8679 - mean_mae: 0.0143 - val_deviation_mae: 2.1197 - val_loss: 5.7895 - val_mean_mae: 0.0274\n",
      "Epoch 747/800\n",
      "\u001b[1m5/5\u001b[0m \u001b[32m━━━━━━━━━━━━━━━━━━━━\u001b[0m\u001b[37m\u001b[0m \u001b[1m14s\u001b[0m 3s/step - deviation_mae: 2.3590 - loss: 3.6099 - mean_mae: 0.0185 - val_deviation_mae: 2.1410 - val_loss: 6.2703 - val_mean_mae: 0.0302\n",
      "Epoch 748/800\n",
      "\u001b[1m5/5\u001b[0m \u001b[32m━━━━━━━━━━━━━━━━━━━━\u001b[0m\u001b[37m\u001b[0m \u001b[1m14s\u001b[0m 3s/step - deviation_mae: 2.4191 - loss: 3.7880 - mean_mae: 0.0208 - val_deviation_mae: 2.3234 - val_loss: 4.2914 - val_mean_mae: 0.0193\n",
      "Epoch 749/800\n",
      "\u001b[1m5/5\u001b[0m \u001b[32m━━━━━━━━━━━━━━━━━━━━\u001b[0m\u001b[37m\u001b[0m \u001b[1m14s\u001b[0m 3s/step - deviation_mae: 2.8423 - loss: 2.8634 - mean_mae: 0.0143 - val_deviation_mae: 2.7553 - val_loss: 4.3071 - val_mean_mae: 0.0196\n",
      "Epoch 750/800\n",
      "\u001b[1m5/5\u001b[0m \u001b[32m━━━━━━━━━━━━━━━━━━━━\u001b[0m\u001b[37m\u001b[0m \u001b[1m14s\u001b[0m 3s/step - deviation_mae: 2.8013 - loss: 2.5972 - mean_mae: 0.0114 - val_deviation_mae: 2.5338 - val_loss: 3.9135 - val_mean_mae: 0.0184\n",
      "Epoch 751/800\n",
      "\u001b[1m5/5\u001b[0m \u001b[32m━━━━━━━━━━━━━━━━━━━━\u001b[0m\u001b[37m\u001b[0m \u001b[1m14s\u001b[0m 3s/step - deviation_mae: 2.7035 - loss: 2.3897 - mean_mae: 0.0099 - val_deviation_mae: 2.2548 - val_loss: 5.3961 - val_mean_mae: 0.0292\n",
      "Epoch 752/800\n",
      "\u001b[1m5/5\u001b[0m \u001b[32m━━━━━━━━━━━━━━━━━━━━\u001b[0m\u001b[37m\u001b[0m \u001b[1m14s\u001b[0m 3s/step - deviation_mae: 2.4505 - loss: 3.2414 - mean_mae: 0.0191 - val_deviation_mae: 2.3245 - val_loss: 5.1996 - val_mean_mae: 0.0276\n",
      "Epoch 753/800\n",
      "\u001b[1m5/5\u001b[0m \u001b[32m━━━━━━━━━━━━━━━━━━━━\u001b[0m\u001b[37m\u001b[0m \u001b[1m14s\u001b[0m 3s/step - deviation_mae: 2.4802 - loss: 3.3014 - mean_mae: 0.0207 - val_deviation_mae: 2.1964 - val_loss: 4.2795 - val_mean_mae: 0.0234\n",
      "Epoch 754/800\n",
      "\u001b[1m5/5\u001b[0m \u001b[32m━━━━━━━━━━━━━━━━━━━━\u001b[0m\u001b[37m\u001b[0m \u001b[1m14s\u001b[0m 3s/step - deviation_mae: 2.3508 - loss: 2.3542 - mean_mae: 0.0109 - val_deviation_mae: 2.1766 - val_loss: 3.6604 - val_mean_mae: 0.0172\n",
      "Epoch 755/800\n",
      "\u001b[1m5/5\u001b[0m \u001b[32m━━━━━━━━━━━━━━━━━━━━\u001b[0m\u001b[37m\u001b[0m \u001b[1m14s\u001b[0m 3s/step - deviation_mae: 2.3145 - loss: 2.1849 - mean_mae: 0.0094 - val_deviation_mae: 2.1226 - val_loss: 3.9720 - val_mean_mae: 0.0214\n",
      "Epoch 756/800\n",
      "\u001b[1m5/5\u001b[0m \u001b[32m━━━━━━━━━━━━━━━━━━━━\u001b[0m\u001b[37m\u001b[0m \u001b[1m14s\u001b[0m 3s/step - deviation_mae: 2.3237 - loss: 2.1348 - mean_mae: 0.0092 - val_deviation_mae: 2.1225 - val_loss: 4.1690 - val_mean_mae: 0.0203\n",
      "Epoch 757/800\n",
      "\u001b[1m5/5\u001b[0m \u001b[32m━━━━━━━━━━━━━━━━━━━━\u001b[0m\u001b[37m\u001b[0m \u001b[1m14s\u001b[0m 3s/step - deviation_mae: 2.3984 - loss: 2.4109 - mean_mae: 0.0113 - val_deviation_mae: 2.1180 - val_loss: 4.8908 - val_mean_mae: 0.0230\n",
      "Epoch 758/800\n",
      "\u001b[1m5/5\u001b[0m \u001b[32m━━━━━━━━━━━━━━━━━━━━\u001b[0m\u001b[37m\u001b[0m \u001b[1m14s\u001b[0m 3s/step - deviation_mae: 2.4346 - loss: 3.0850 - mean_mae: 0.0161 - val_deviation_mae: 2.1483 - val_loss: 4.1432 - val_mean_mae: 0.0217\n",
      "Epoch 759/800\n",
      "\u001b[1m5/5\u001b[0m \u001b[32m━━━━━━━━━━━━━━━━━━━━\u001b[0m\u001b[37m\u001b[0m \u001b[1m14s\u001b[0m 3s/step - deviation_mae: 2.3212 - loss: 2.2731 - mean_mae: 0.0118 - val_deviation_mae: 2.0263 - val_loss: 4.1130 - val_mean_mae: 0.0223\n",
      "Epoch 760/800\n",
      "\u001b[1m5/5\u001b[0m \u001b[32m━━━━━━━━━━━━━━━━━━━━\u001b[0m\u001b[37m\u001b[0m \u001b[1m14s\u001b[0m 3s/step - deviation_mae: 2.2630 - loss: 2.2775 - mean_mae: 0.0111 - val_deviation_mae: 2.2517 - val_loss: 3.9600 - val_mean_mae: 0.0207\n",
      "Epoch 761/800\n",
      "\u001b[1m5/5\u001b[0m \u001b[32m━━━━━━━━━━━━━━━━━━━━\u001b[0m\u001b[37m\u001b[0m \u001b[1m14s\u001b[0m 3s/step - deviation_mae: 2.5408 - loss: 2.1645 - mean_mae: 0.0106 - val_deviation_mae: 2.1945 - val_loss: 4.4231 - val_mean_mae: 0.0246\n",
      "Epoch 762/800\n",
      "\u001b[1m5/5\u001b[0m \u001b[32m━━━━━━━━━━━━━━━━━━━━\u001b[0m\u001b[37m\u001b[0m \u001b[1m15s\u001b[0m 3s/step - deviation_mae: 2.3501 - loss: 2.3480 - mean_mae: 0.0115 - val_deviation_mae: 2.0866 - val_loss: 4.7324 - val_mean_mae: 0.0259\n",
      "Epoch 763/800\n",
      "\u001b[1m5/5\u001b[0m \u001b[32m━━━━━━━━━━━━━━━━━━━━\u001b[0m\u001b[37m\u001b[0m \u001b[1m14s\u001b[0m 3s/step - deviation_mae: 2.2440 - loss: 2.7355 - mean_mae: 0.0151 - val_deviation_mae: 2.2858 - val_loss: 3.7078 - val_mean_mae: 0.0191\n",
      "Epoch 764/800\n",
      "\u001b[1m5/5\u001b[0m \u001b[32m━━━━━━━━━━━━━━━━━━━━\u001b[0m\u001b[37m\u001b[0m \u001b[1m14s\u001b[0m 3s/step - deviation_mae: 2.5764 - loss: 2.4114 - mean_mae: 0.0137 - val_deviation_mae: 2.1765 - val_loss: 4.2637 - val_mean_mae: 0.0242\n",
      "Epoch 765/800\n",
      "\u001b[1m5/5\u001b[0m \u001b[32m━━━━━━━━━━━━━━━━━━━━\u001b[0m\u001b[37m\u001b[0m \u001b[1m14s\u001b[0m 3s/step - deviation_mae: 2.3125 - loss: 2.4357 - mean_mae: 0.0140 - val_deviation_mae: 2.4658 - val_loss: 3.6533 - val_mean_mae: 0.0180\n",
      "Epoch 766/800\n",
      "\u001b[1m5/5\u001b[0m \u001b[32m━━━━━━━━━━━━━━━━━━━━\u001b[0m\u001b[37m\u001b[0m \u001b[1m15s\u001b[0m 3s/step - deviation_mae: 2.7906 - loss: 2.1582 - mean_mae: 0.0100 - val_deviation_mae: 2.8153 - val_loss: 3.7750 - val_mean_mae: 0.0187\n",
      "Epoch 767/800\n",
      "\u001b[1m5/5\u001b[0m \u001b[32m━━━━━━━━━━━━━━━━━━━━\u001b[0m\u001b[37m\u001b[0m \u001b[1m14s\u001b[0m 3s/step - deviation_mae: 2.9821 - loss: 2.1877 - mean_mae: 0.0107 - val_deviation_mae: 2.2673 - val_loss: 5.3745 - val_mean_mae: 0.0298\n",
      "Epoch 768/800\n",
      "\u001b[1m5/5\u001b[0m \u001b[32m━━━━━━━━━━━━━━━━━━━━\u001b[0m\u001b[37m\u001b[0m \u001b[1m14s\u001b[0m 3s/step - deviation_mae: 2.3976 - loss: 2.6748 - mean_mae: 0.0158 - val_deviation_mae: 2.0922 - val_loss: 3.5583 - val_mean_mae: 0.0187\n",
      "Epoch 769/800\n",
      "\u001b[1m5/5\u001b[0m \u001b[32m━━━━━━━━━━━━━━━━━━━━\u001b[0m\u001b[37m\u001b[0m \u001b[1m14s\u001b[0m 3s/step - deviation_mae: 2.3275 - loss: 2.1565 - mean_mae: 0.0114 - val_deviation_mae: 2.1305 - val_loss: 3.4872 - val_mean_mae: 0.0179\n",
      "Epoch 770/800\n",
      "\u001b[1m5/5\u001b[0m \u001b[32m━━━━━━━━━━━━━━━━━━━━\u001b[0m\u001b[37m\u001b[0m \u001b[1m14s\u001b[0m 3s/step - deviation_mae: 2.3097 - loss: 1.9899 - mean_mae: 0.0103 - val_deviation_mae: 2.0454 - val_loss: 4.6921 - val_mean_mae: 0.0277\n",
      "Epoch 771/800\n",
      "\u001b[1m5/5\u001b[0m \u001b[32m━━━━━━━━━━━━━━━━━━━━\u001b[0m\u001b[37m\u001b[0m \u001b[1m14s\u001b[0m 3s/step - deviation_mae: 2.1766 - loss: 2.3766 - mean_mae: 0.0144 - val_deviation_mae: 2.0568 - val_loss: 3.5944 - val_mean_mae: 0.0200\n",
      "Epoch 772/800\n",
      "\u001b[1m5/5\u001b[0m \u001b[32m━━━━━━━━━━━━━━━━━━━━\u001b[0m\u001b[37m\u001b[0m \u001b[1m14s\u001b[0m 3s/step - deviation_mae: 2.2183 - loss: 2.0520 - mean_mae: 0.0108 - val_deviation_mae: 2.1189 - val_loss: 3.5375 - val_mean_mae: 0.0177\n",
      "Epoch 773/800\n",
      "\u001b[1m5/5\u001b[0m \u001b[32m━━━━━━━━━━━━━━━━━━━━\u001b[0m\u001b[37m\u001b[0m \u001b[1m14s\u001b[0m 3s/step - deviation_mae: 2.2226 - loss: 2.0198 - mean_mae: 0.0102 - val_deviation_mae: 2.0423 - val_loss: 4.5204 - val_mean_mae: 0.0251\n",
      "Epoch 774/800\n",
      "\u001b[1m5/5\u001b[0m \u001b[32m━━━━━━━━━━━━━━━━━━━━\u001b[0m\u001b[37m\u001b[0m \u001b[1m14s\u001b[0m 3s/step - deviation_mae: 2.3577 - loss: 2.4023 - mean_mae: 0.0144 - val_deviation_mae: 2.1145 - val_loss: 3.8114 - val_mean_mae: 0.0222\n",
      "Epoch 775/800\n",
      "\u001b[1m5/5\u001b[0m \u001b[32m━━━━━━━━━━━━━━━━━━━━\u001b[0m\u001b[37m\u001b[0m \u001b[1m14s\u001b[0m 3s/step - deviation_mae: 2.2688 - loss: 2.1448 - mean_mae: 0.0127 - val_deviation_mae: 2.0583 - val_loss: 4.4722 - val_mean_mae: 0.0249\n",
      "Epoch 776/800\n",
      "\u001b[1m5/5\u001b[0m \u001b[32m━━━━━━━━━━━━━━━━━━━━\u001b[0m\u001b[37m\u001b[0m \u001b[1m14s\u001b[0m 3s/step - deviation_mae: 2.3800 - loss: 2.5094 - mean_mae: 0.0157 - val_deviation_mae: 2.1331 - val_loss: 5.0773 - val_mean_mae: 0.0285\n",
      "Epoch 777/800\n",
      "\u001b[1m5/5\u001b[0m \u001b[32m━━━━━━━━━━━━━━━━━━━━\u001b[0m\u001b[37m\u001b[0m \u001b[1m14s\u001b[0m 3s/step - deviation_mae: 2.3723 - loss: 2.7769 - mean_mae: 0.0153 - val_deviation_mae: 2.3428 - val_loss: 3.5541 - val_mean_mae: 0.0198\n",
      "Epoch 778/800\n",
      "\u001b[1m5/5\u001b[0m \u001b[32m━━━━━━━━━━━━━━━━━━━━\u001b[0m\u001b[37m\u001b[0m \u001b[1m14s\u001b[0m 3s/step - deviation_mae: 2.5625 - loss: 2.8495 - mean_mae: 0.0157 - val_deviation_mae: 2.1391 - val_loss: 4.3752 - val_mean_mae: 0.0245\n",
      "Epoch 779/800\n",
      "\u001b[1m5/5\u001b[0m \u001b[32m━━━━━━━━━━━━━━━━━━━━\u001b[0m\u001b[37m\u001b[0m \u001b[1m14s\u001b[0m 3s/step - deviation_mae: 2.3556 - loss: 2.5557 - mean_mae: 0.0169 - val_deviation_mae: 2.2077 - val_loss: 3.9205 - val_mean_mae: 0.0197\n",
      "Epoch 780/800\n",
      "\u001b[1m5/5\u001b[0m \u001b[32m━━━━━━━━━━━━━━━━━━━━\u001b[0m\u001b[37m\u001b[0m \u001b[1m14s\u001b[0m 3s/step - deviation_mae: 2.5374 - loss: 2.0995 - mean_mae: 0.0117 - val_deviation_mae: 2.1209 - val_loss: 4.0695 - val_mean_mae: 0.0236\n",
      "Epoch 781/800\n",
      "\u001b[1m5/5\u001b[0m \u001b[32m━━━━━━━━━━━━━━━━━━━━\u001b[0m\u001b[37m\u001b[0m \u001b[1m14s\u001b[0m 3s/step - deviation_mae: 2.2695 - loss: 2.0912 - mean_mae: 0.0125 - val_deviation_mae: 2.3951 - val_loss: 4.4186 - val_mean_mae: 0.0244\n",
      "Epoch 782/800\n",
      "\u001b[1m5/5\u001b[0m \u001b[32m━━━━━━━━━━━━━━━━━━━━\u001b[0m\u001b[37m\u001b[0m \u001b[1m14s\u001b[0m 3s/step - deviation_mae: 2.7641 - loss: 2.7906 - mean_mae: 0.0191 - val_deviation_mae: 2.6138 - val_loss: 4.3327 - val_mean_mae: 0.0248\n",
      "Epoch 783/800\n",
      "\u001b[1m5/5\u001b[0m \u001b[32m━━━━━━━━━━━━━━━━━━━━\u001b[0m\u001b[37m\u001b[0m \u001b[1m14s\u001b[0m 3s/step - deviation_mae: 2.5621 - loss: 2.5040 - mean_mae: 0.0176 - val_deviation_mae: 2.2115 - val_loss: 3.7423 - val_mean_mae: 0.0225\n",
      "Epoch 784/800\n",
      "\u001b[1m5/5\u001b[0m \u001b[32m━━━━━━━━━━━━━━━━━━━━\u001b[0m\u001b[37m\u001b[0m \u001b[1m14s\u001b[0m 3s/step - deviation_mae: 2.5376 - loss: 2.3740 - mean_mae: 0.0147 - val_deviation_mae: 2.1393 - val_loss: 4.0395 - val_mean_mae: 0.0234\n",
      "Epoch 785/800\n",
      "\u001b[1m5/5\u001b[0m \u001b[32m━━━━━━━━━━━━━━━━━━━━\u001b[0m\u001b[37m\u001b[0m \u001b[1m14s\u001b[0m 3s/step - deviation_mae: 2.5366 - loss: 2.2774 - mean_mae: 0.0156 - val_deviation_mae: 2.5191 - val_loss: 4.1932 - val_mean_mae: 0.0253\n",
      "Epoch 786/800\n",
      "\u001b[1m5/5\u001b[0m \u001b[32m━━━━━━━━━━━━━━━━━━━━\u001b[0m\u001b[37m\u001b[0m \u001b[1m14s\u001b[0m 3s/step - deviation_mae: 2.8330 - loss: 1.8973 - mean_mae: 0.0105 - val_deviation_mae: 2.4122 - val_loss: 3.5859 - val_mean_mae: 0.0204\n",
      "Epoch 787/800\n",
      "\u001b[1m5/5\u001b[0m \u001b[32m━━━━━━━━━━━━━━━━━━━━\u001b[0m\u001b[37m\u001b[0m \u001b[1m14s\u001b[0m 3s/step - deviation_mae: 2.6128 - loss: 1.9643 - mean_mae: 0.0119 - val_deviation_mae: 2.3883 - val_loss: 3.6624 - val_mean_mae: 0.0214\n",
      "Epoch 788/800\n",
      "\u001b[1m5/5\u001b[0m \u001b[32m━━━━━━━━━━━━━━━━━━━━\u001b[0m\u001b[37m\u001b[0m \u001b[1m14s\u001b[0m 3s/step - deviation_mae: 2.5167 - loss: 1.9689 - mean_mae: 0.0113 - val_deviation_mae: 2.2141 - val_loss: 3.7807 - val_mean_mae: 0.0203\n",
      "Epoch 789/800\n",
      "\u001b[1m5/5\u001b[0m \u001b[32m━━━━━━━━━━━━━━━━━━━━\u001b[0m\u001b[37m\u001b[0m \u001b[1m14s\u001b[0m 3s/step - deviation_mae: 2.3168 - loss: 2.2142 - mean_mae: 0.0129 - val_deviation_mae: 2.1791 - val_loss: 3.5423 - val_mean_mae: 0.0201\n",
      "Epoch 790/800\n",
      "\u001b[1m5/5\u001b[0m \u001b[32m━━━━━━━━━━━━━━━━━━━━\u001b[0m\u001b[37m\u001b[0m \u001b[1m14s\u001b[0m 3s/step - deviation_mae: 2.4307 - loss: 1.6596 - mean_mae: 0.0083 - val_deviation_mae: 2.1925 - val_loss: 3.3795 - val_mean_mae: 0.0180\n",
      "Epoch 791/800\n",
      "\u001b[1m5/5\u001b[0m \u001b[32m━━━━━━━━━━━━━━━━━━━━\u001b[0m\u001b[37m\u001b[0m \u001b[1m14s\u001b[0m 3s/step - deviation_mae: 2.4468 - loss: 1.8430 - mean_mae: 0.0100 - val_deviation_mae: 2.2348 - val_loss: 4.1601 - val_mean_mae: 0.0231\n",
      "Epoch 792/800\n",
      "\u001b[1m5/5\u001b[0m \u001b[32m━━━━━━━━━━━━━━━━━━━━\u001b[0m\u001b[37m\u001b[0m \u001b[1m14s\u001b[0m 3s/step - deviation_mae: 2.4024 - loss: 2.3716 - mean_mae: 0.0150 - val_deviation_mae: 2.1481 - val_loss: 3.1239 - val_mean_mae: 0.0170\n",
      "Epoch 793/800\n",
      "\u001b[1m5/5\u001b[0m \u001b[32m━━━━━━━━━━━━━━━━━━━━\u001b[0m\u001b[37m\u001b[0m \u001b[1m14s\u001b[0m 3s/step - deviation_mae: 2.3083 - loss: 1.7111 - mean_mae: 0.0092 - val_deviation_mae: 2.1760 - val_loss: 3.9932 - val_mean_mae: 0.0239\n",
      "Epoch 794/800\n",
      "\u001b[1m5/5\u001b[0m \u001b[32m━━━━━━━━━━━━━━━━━━━━\u001b[0m\u001b[37m\u001b[0m \u001b[1m14s\u001b[0m 3s/step - deviation_mae: 2.3063 - loss: 2.1430 - mean_mae: 0.0123 - val_deviation_mae: 2.2961 - val_loss: 4.3793 - val_mean_mae: 0.0256\n",
      "Epoch 795/800\n",
      "\u001b[1m5/5\u001b[0m \u001b[32m━━━━━━━━━━━━━━━━━━━━\u001b[0m\u001b[37m\u001b[0m \u001b[1m14s\u001b[0m 3s/step - deviation_mae: 2.4261 - loss: 2.1033 - mean_mae: 0.0127 - val_deviation_mae: 2.1371 - val_loss: 3.4970 - val_mean_mae: 0.0204\n",
      "Epoch 796/800\n",
      "\u001b[1m5/5\u001b[0m \u001b[32m━━━━━━━━━━━━━━━━━━━━\u001b[0m\u001b[37m\u001b[0m \u001b[1m14s\u001b[0m 3s/step - deviation_mae: 2.3629 - loss: 1.6942 - mean_mae: 0.0102 - val_deviation_mae: 2.1298 - val_loss: 3.6854 - val_mean_mae: 0.0227\n",
      "Epoch 797/800\n",
      "\u001b[1m5/5\u001b[0m \u001b[32m━━━━━━━━━━━━━━━━━━━━\u001b[0m\u001b[37m\u001b[0m \u001b[1m14s\u001b[0m 3s/step - deviation_mae: 2.2670 - loss: 1.7340 - mean_mae: 0.0101 - val_deviation_mae: 2.0177 - val_loss: 3.8918 - val_mean_mae: 0.0231\n",
      "Epoch 798/800\n",
      "\u001b[1m5/5\u001b[0m \u001b[32m━━━━━━━━━━━━━━━━━━━━\u001b[0m\u001b[37m\u001b[0m \u001b[1m14s\u001b[0m 3s/step - deviation_mae: 2.2655 - loss: 1.9913 - mean_mae: 0.0140 - val_deviation_mae: 2.0612 - val_loss: 3.4128 - val_mean_mae: 0.0205\n",
      "Epoch 799/800\n",
      "\u001b[1m5/5\u001b[0m \u001b[32m━━━━━━━━━━━━━━━━━━━━\u001b[0m\u001b[37m\u001b[0m \u001b[1m14s\u001b[0m 3s/step - deviation_mae: 2.2139 - loss: 1.6449 - mean_mae: 0.0098 - val_deviation_mae: 2.1792 - val_loss: 3.3433 - val_mean_mae: 0.0204\n",
      "Epoch 800/800\n",
      "\u001b[1m4/5\u001b[0m \u001b[32m━━━━━━━━━━━━━━━━\u001b[0m\u001b[37m━━━━\u001b[0m \u001b[1m1s\u001b[0m 2s/step - deviation_mae: 2.3892 - loss: 1.5892 - mean_mae: 0.0080\n",
      "Epoch 800: saving model to C:/Users/uic33116/Documents/documents/ariel-data-challenge-2024/training_full_model/model-800.weights.h5\n",
      "\u001b[1m5/5\u001b[0m \u001b[32m━━━━━━━━━━━━━━━━━━━━\u001b[0m\u001b[37m\u001b[0m \u001b[1m18s\u001b[0m 4s/step - deviation_mae: 2.3888 - loss: 1.5655 - mean_mae: 0.0078 - val_deviation_mae: 2.1054 - val_loss: 3.0518 - val_mean_mae: 0.0178\n"
     ]
    }
   ],
   "source": [
    "tf.random.set_seed(42)\n",
    "\n",
    "lr_callback = tf.keras.callbacks.LearningRateScheduler(lambda step: LR_SCHEDULE[step], verbose=0)\n",
    "checkpoint_callback = tf.keras.callbacks.ModelCheckpoint(\n",
    "    filepath=\"C:/Users/uic33116/Documents/documents/ariel-data-challenge-2024/training_full_model/model-{epoch:02d}.weights.h5\",\n",
    "    save_weights_only=True,  # Set to False if you want to save the entire model\n",
    "    save_freq=100 * 5,\n",
    "    verbose=1\n",
    ")\n",
    "\n",
    "#optimizer = tf.keras.optimizers.Adam(learning_rate=0.001)\n",
    "optimizer = tf.keras.optimizers.Adam(learning_rate=1e-5)\n",
    "model = cnnM() \n",
    "model.compile(loss=combined_loss_mse            \n",
    "              #,metrics=[log_likelihood_maxScaling]\n",
    "              ,metrics=[mean_mae,deviation_mae]\n",
    "              , optimizer=optimizer)\n",
    "\n",
    "history = model.fit(train_dataset, \n",
    "                    #batch[0],batch[1], #verbose=2,\n",
    "                    validation_data=test_dataset,\n",
    "                    #validation_data=(test_batch[0],test_batch[1]),\n",
    "                    epochs=800, batch_size=batch_size,\n",
    "                    callbacks=[checkpoint_callback]\n",
    "                    #callbacks=[lr_callback]\n",
    "                    )\n"
   ]
  },
  {
   "cell_type": "code",
   "execution_count": null,
   "metadata": {},
   "outputs": [],
   "source": [
    "# experiments with original data (faster processing)\n",
    "# equal weighted loss of mean & stddev -> mse ~ 7/7 -> but can't fit targes at all!!!!!! this is the issue\n",
    "\n",
    "# predicting mean only doesn't work at all, only getting ~0.17 mae on the mean, pretty much 2 modes\n",
    "# solution: mean has to have activation function linear instead of relu!! network has to be able to see that negative values are bad, otherwise no feedback signal!!!\n",
    "\n",
    "# predicting mean only for 1 batch:\n",
    "#   base run -> 0.08 mae\n",
    "#   compensate targets to 0 mean -> no benefit (mae loss:0.3)\n",
    "#   with big model also works, mae < 0.08 for one batch & ones in other outputs\n",
    "\n",
    "# predicting everything for 1 batch:\n",
    "#   loss goes down nicely, hitting <0.7 for mean mae\n",
    "\n",
    "# fitting full thing\n",
    "# massive blowup at epoch 801, before loss 3/3\n",
    "# loss 1.5/3.0 -> we fit train well but test has some issues / wavelengths are not continuous since each point is individually predicted\n"
   ]
  },
  {
   "cell_type": "code",
   "execution_count": 149,
   "metadata": {},
   "outputs": [],
   "source": [
    "#model.save('originalData_fullM_866_epochs_blowup59_63.keras')\n",
    "# Save weights\n",
    "model.save_weights('originalData_fullM_866_epochs_blowup59_63.weights.h5')\n",
    "\n",
    "# Load weights\n",
    "#loaded_weights = model.load_weights('170_epochs_accLoss_reluActivation_23_23.weights.h5')"
   ]
  },
  {
   "cell_type": "code",
   "execution_count": null,
   "metadata": {},
   "outputs": [],
   "source": [
    "loaded_model = tf.keras.models.load_model('120_epochs_accLoss31_30.keras')"
   ]
  },
  {
   "cell_type": "code",
   "execution_count": null,
   "metadata": {},
   "outputs": [],
   "source": [
    "history = model.fit(#train_dataset, \n",
    "                    batch[0],batch[1], #verbose=2,\n",
    "                    #validation_data=test_dataset,\n",
    "                    #validation_data=next(iter(test_dataset)),\n",
    "                    epochs=400, batch_size=batch_size)\n",
    "\n",
    "#one epoch"
   ]
  },
  {
   "cell_type": "code",
   "execution_count": null,
   "metadata": {},
   "outputs": [],
   "source": [
    "# first try couldn't fit the values, just predicted mean if I kept the shape (output layer of shape 1 - tensor 283x100 -> 283x1)\n",
    "# having a flatten layer between converges\n",
    "\n",
    "# flatten layer and 12 samples -> predict the same for all 12 samples, maybe not enough filters\n",
    "\n",
    "# PROBLEM why we can't fit multiple targets: layer normalization!! use batch norm instead\n",
    "\n",
    "#---- with batch norm\n",
    "# cnn model + mean estimation, loss ~80, but predicting differnt mean\n",
    "# fcn model, loss ~81\n",
    "# fcn model / min scaling -> loss 0.8 / 27 (lots of negative predictions)\n",
    "# fcn model / max scaling / relu activation -> 3.1/8 (lots of 0 predictions) / with scale of 100, loss =14.9/43691\n",
    "# cnn model / max scaling / mean pred -> 6.0/inf\n",
    "# cnn ... no layer norm in beginning -> 15\n",
    "\n",
    "# loss function for every output (batch,283) / 100 epochs\n",
    "# cnn 1.5 loss\n",
    "# cnn with smaller LR 0.22(also after 200 epochs)\n",
    "# cnn with separate mean prediction loss 20.5 (lr0.0001) vs 3.5(lr0.0005) / can't even fit 2 samples (0.5 for lr 0.0005)\n",
    "\n",
    "# cnn without mean prediction (2 samples, lr0.0005) 22.4   / lr0.001 0.4 loss, but targets still fit badly / only fitting target noVar 0.08 still bad\n",
    "\n",
    "# difference between train / test = batch norm has significant effect here\n",
    "#fcn + mean, 2 samples LR0.0005 -> \n",
    "#fcn + mean, 2 samples only loss on target -> \n",
    "#fcn + mean, 1 sample, only loss on target -> 0.03 targets are far off\n",
    "#fcn, 1 sample, only loss on target -> 0.4 targets are far off\n",
    "# -> train data was not normalized!!\n",
    "\n",
    "# with regularization / without regularization doesn't matter that much as long as sample is normalized\n",
    "# normalization per sample -> predict the same for all targets ~0.0978\n",
    "# norm per sample + bis estimation -> predict same for all targets (besides 1) ~0.0978\n",
    "\n",
    "# with learning rate schedule -> 0.06 lots more possible to not get stuck in local minima\n",
    "\n",
    "#cnn / norm over train / bias estimation / lr0.01 / only target -> ~45 sum loss\n",
    "#cnn / norm over train / bias estimation / lf0.01 / target + loss2 -> ~47 after 95 epochs (15 after~150epochs)\n",
    "\n",
    "#cnn / norm over train / bais est / lr0.01 / target + loss / activation function relu instead of linear (conf + bias / still nan bc stddev =0, log(0) = nan)\n",
    "# 39/40 but training seems to be a lot more stable\n",
    "# after 170 epochs 23.7/23.5\n",
    "# after 220 epochs 11/19 (but already went down to 14/16)\n",
    "# after 250 epochs 12/16 (but already 16/15)\n",
    "# after 300 epochs 12/17\n",
    "\n",
    "\n",
    "# Assuming 'history' is your model's training history\n",
    "train_loss = history.history['loss']\n",
    "test_loss = history.history['val_loss']\n",
    "\n",
    "epochs = range(1, len(train_loss) + 1)\n",
    "\n",
    "plt.figure(figsize=(12, 6))\n",
    "plt.plot(epochs, train_loss, 'b', label='Training loss')\n",
    "#plt.plot(epochs, test_loss, 'r', label='Test loss')\n",
    "plt.title('Training and Test Loss')\n",
    "plt.xlabel('Epochs')\n",
    "plt.ylabel('Loss')\n",
    "plt.legend()\n",
    "plt.show()"
   ]
  },
  {
   "cell_type": "markdown",
   "metadata": {},
   "source": [
    "# eval"
   ]
  },
  {
   "cell_type": "code",
   "execution_count": 22,
   "metadata": {},
   "outputs": [
    {
     "name": "stdout",
     "output_type": "stream",
     "text": [
      "\u001b[1m2/2\u001b[0m \u001b[32m━━━━━━━━━━━━━━━━━━━━\u001b[0m\u001b[37m\u001b[0m \u001b[1m0s\u001b[0m 52ms/step\n"
     ]
    },
    {
     "data": {
      "text/plain": [
       "(array([[0.00187378, 0.00166583],\n",
       "        [0.00562518, 0.00596149],\n",
       "        [0.00137057, 0.00140423],\n",
       "        [0.00570196, 0.00600335],\n",
       "        [0.00065656, 0.00050392],\n",
       "        [0.00099461, 0.0009486 ],\n",
       "        [0.00180185, 0.0016225 ],\n",
       "        [0.00386571, 0.00387613],\n",
       "        [0.00114225, 0.00106945],\n",
       "        [0.0053457 , 0.00564368]], dtype=float32),\n",
       " <tf.Tensor: shape=(10, 2), dtype=float32, numpy=\n",
       " array([[0.00176686, 0.00192807],\n",
       "        [0.0059238 , 0.00595595],\n",
       "        [0.0012942 , 0.00130819],\n",
       "        [0.00597793, 0.00598887],\n",
       "        [0.00056867, 0.00057237],\n",
       "        [0.00097299, 0.00097   ],\n",
       "        [0.00154366, 0.0015135 ],\n",
       "        [0.00395544, 0.00412291],\n",
       "        [0.00110218, 0.00116648],\n",
       "        [0.0054196 , 0.00539842]], dtype=float32)>,\n",
       " array([[0.00227179, 0.00103955],\n",
       "        [0.00211817, 0.00083442],\n",
       "        [0.00233067, 0.00085062],\n",
       "        [0.00214914, 0.00085246],\n",
       "        [0.0024341 , 0.0009463 ],\n",
       "        [0.00239613, 0.00089858],\n",
       "        [0.00226248, 0.00103141],\n",
       "        [0.00217926, 0.00091787],\n",
       "        [0.00242823, 0.00093307],\n",
       "        [0.0021262 , 0.00084223]], dtype=float32))"
      ]
     },
     "execution_count": 22,
     "metadata": {},
     "output_type": "execute_result"
    }
   ],
   "source": [
    "#pred = model.predict(normData)\n",
    "outputs = model.predict(batch[0])\n",
    "pred = outputs[:,0:283,:]\n",
    "pred[:,:,0] = pred[:,:,0]+outputs[:,283,0:1]\n",
    "pred[0:10:,0:2,0]*maxLabels, batch[1][0:10:,0:2]*maxLabels ,np.exp(pred[0:10:,0:2,1])*maxLabels"
   ]
  },
  {
   "cell_type": "code",
   "execution_count": 16,
   "metadata": {},
   "outputs": [
    {
     "data": {
      "text/plain": [
       "(array([0.22786428, 0.74184114, 0.17844339, 0.75070584, 0.07374062,\n",
       "        0.12456854, 0.22206761, 0.49725994, 0.14132951, 0.70467705,\n",
       "        0.36577362, 0.11324771, 0.18930884, 0.05697635, 0.66372854,\n",
       "        0.07971506, 0.5260155 , 0.21346433, 0.18268244, 0.6774395 ,\n",
       "        0.12163253, 0.18472628, 0.26031348, 0.0621464 , 0.12349464,\n",
       "        0.65935946, 0.24111573, 0.42608798, 0.2867392 , 0.1528645 ,\n",
       "        0.72743195, 0.0894032 , 0.39661342, 0.05149062, 0.26062208,\n",
       "        0.66913337, 0.5159895 , 0.14499585, 0.5408082 , 0.3201041 ,\n",
       "        0.1516736 , 0.30858117, 0.16247599, 0.20790611, 0.15021332,\n",
       "        0.12952949, 0.13214295, 0.25655738, 0.86229515, 0.42842042,\n",
       "        0.30366737, 0.25695425, 0.24392186, 0.2772919 , 0.18254177,\n",
       "        0.5381574 , 0.12664597, 0.23908295, 0.5732894 , 0.7781569 ,\n",
       "        0.1290056 , 0.21150303, 0.21421085, 0.20339306], dtype=float32),\n",
       " array([0.23250966, 0.7439196 , 0.18068463, 0.7506304 , 0.07539625,\n",
       "        0.12374081, 0.22056326, 0.50521547, 0.14478636, 0.6999783 ,\n",
       "        0.35046598, 0.11544593, 0.18811171, 0.06092475, 0.66054904,\n",
       "        0.07584768, 0.5121243 , 0.21800648, 0.18251224, 0.6620261 ,\n",
       "        0.12315056, 0.19693573, 0.25982606, 0.06050039, 0.14305143,\n",
       "        0.6537876 , 0.24579364, 0.41166678, 0.27808076, 0.16022538,\n",
       "        0.74075246, 0.09813656, 0.37235045, 0.05113031, 0.258778  ,\n",
       "        0.6603955 , 0.518264  , 0.15169242, 0.53162384, 0.3140996 ,\n",
       "        0.15433332, 0.31717905, 0.16635445, 0.21682923, 0.15375419,\n",
       "        0.13838838, 0.13348612, 0.25581673, 0.8560697 , 0.42869326,\n",
       "        0.30783668, 0.26916143, 0.2536455 , 0.29525205, 0.17388104,\n",
       "        0.5455156 , 0.13157548, 0.23808841, 0.5716294 , 0.7834631 ,\n",
       "        0.13263609, 0.20554088, 0.2132894 , 0.19404972], dtype=float32))"
      ]
     },
     "execution_count": 16,
     "metadata": {},
     "output_type": "execute_result"
    }
   ],
   "source": [
    "outputs[:,283,0], np.mean(batch[1],axis=-1)"
   ]
  },
  {
   "cell_type": "code",
   "execution_count": null,
   "metadata": {},
   "outputs": [],
   "source": [
    "outputs[1]"
   ]
  },
  {
   "cell_type": "code",
   "execution_count": 21,
   "metadata": {},
   "outputs": [
    {
     "name": "stdout",
     "output_type": "stream",
     "text": [
      "\u001b[1m2/2\u001b[0m \u001b[32m━━━━━━━━━━━━━━━━━━━━\u001b[0m\u001b[37m\u001b[0m \u001b[1m0s\u001b[0m 62ms/step\n",
      "overall tf.Tensor(1.0, shape=(), dtype=float32)\n"
     ]
    }
   ],
   "source": [
    "outputs = model.predict(test_batch[0])\n",
    "print('overall',(log_likelihood_maxScaling(test_batch[1],outputs)))\n",
    "#for i in range(batch_size):\n",
    "#    print(f'batch {i}',(log_likelihood_maxScaling(batch[1][i,:],outputs[i:i+1,:,:])))"
   ]
  },
  {
   "cell_type": "code",
   "execution_count": null,
   "metadata": {},
   "outputs": [],
   "source": [
    "fig = go.Figure()\n",
    "for i in range(4):#[2,6,10,20,100]:\n",
    "    fig.add_trace(go.Scatter(y=batch[0][i,:,0,0],mode='markers',name=f'f_{i}',marker=dict(size=3)))\n",
    "\n",
    "fig.show()"
   ]
  },
  {
   "cell_type": "code",
   "execution_count": 23,
   "metadata": {},
   "outputs": [
    {
     "data": {
      "application/vnd.plotly.v1+json": {
       "config": {
        "plotlyServerURL": "https://plot.ly"
       },
       "data": [
        {
         "marker": {
          "size": 3
         },
         "mode": "markers",
         "name": "gt_0",
         "type": "scatter",
         "y": [
          0.22107931971549988,
          0.2412511706352234,
          0.2378549575805664,
          0.23632703721523285,
          0.235379159450531,
          0.2302902340888977,
          0.23192496597766876,
          0.23992189764976501,
          0.23807919025421143,
          0.23458139598369598,
          0.2347019761800766,
          0.2344798445701599,
          0.23551182448863983,
          0.23262238502502441,
          0.22722500562667847,
          0.22529275715351105,
          0.22558237612247467,
          0.22492672502994537,
          0.2251187264919281,
          0.2263002246618271,
          0.22576694190502167,
          0.22476840019226074,
          0.22315523028373718,
          0.22148370742797852,
          0.2206861674785614,
          0.21969859302043915,
          0.21917514503002167,
          0.21901579201221466,
          0.21876098215579987,
          0.2189486026763916,
          0.21957983076572418,
          0.21970154345035553,
          0.21953579783439636,
          0.2194060981273651,
          0.21928748488426208,
          0.21948124468326569,
          0.2197415679693222,
          0.2196446806192398,
          0.21993201971054077,
          0.22061787545681,
          0.22051404416561127,
          0.2206520140171051,
          0.22229914367198944,
          0.2232724130153656,
          0.22250057756900787,
          0.22210094332695007,
          0.22280564904212952,
          0.22313055396080017,
          0.2224673181772232,
          0.22250430285930634,
          0.2233411818742752,
          0.2244410514831543,
          0.2247348576784134,
          0.2234445959329605,
          0.22279047966003418,
          0.22257481515407562,
          0.22165511548519135,
          0.22163987159729004,
          0.22245846688747406,
          0.22196434438228607,
          0.22159625589847565,
          0.22275348007678986,
          0.22343473136425018,
          0.22306481003761292,
          0.2233252227306366,
          0.22553087770938873,
          0.2290094941854477,
          0.2323475033044815,
          0.23384511470794678,
          0.23264425992965698,
          0.22972315549850464,
          0.22736775875091553,
          0.2281876802444458,
          0.2308303266763687,
          0.23128320276737213,
          0.23066450655460358,
          0.23213043808937073,
          0.2335951179265976,
          0.23372797667980194,
          0.23505717515945435,
          0.2369985580444336,
          0.23705855011940002,
          0.23466642200946808,
          0.23138971626758575,
          0.2315099984407425,
          0.23888923227787018,
          0.2509007453918457,
          0.26099103689193726,
          0.266084223985672,
          0.26876166462898254,
          0.2746312916278839,
          0.28375354409217834,
          0.2877792716026306,
          0.2836880385875702,
          0.2789969742298126,
          0.2777651846408844,
          0.27680692076683044,
          0.2736634612083435,
          0.2700803875923157,
          0.27123239636421204,
          0.2771795094013214,
          0.27961134910583496,
          0.2749800384044647,
          0.2688259184360504,
          0.2657431662082672,
          0.266034871339798,
          0.2700420916080475,
          0.2761025130748749,
          0.2773061990737915,
          0.2728208601474762,
          0.27083244919776917,
          0.2721307575702667,
          0.27079901099205017,
          0.2672010660171509,
          0.26437169313430786,
          0.2626742422580719,
          0.2617717683315277,
          0.26100456714630127,
          0.26026901602745056,
          0.2600300908088684,
          0.2593022286891937,
          0.256441205739975,
          0.25183695554733276,
          0.24846798181533813,
          0.2475758194923401,
          0.24606457352638245,
          0.24296623468399048,
          0.24129453301429749,
          0.24071404337882996,
          0.2388637512922287,
          0.23656271398067474,
          0.23426634073257446,
          0.23136217892169952,
          0.23010800778865814,
          0.232538104057312,
          0.23632223904132843,
          0.23782311379909515,
          0.23661519587039948,
          0.2351999282836914,
          0.23465706408023834,
          0.23354332149028778,
          0.23213109374046326,
          0.2320791780948639,
          0.2317485362291336,
          0.22931770980358124,
          0.2273348718881607,
          0.22764508426189423,
          0.22784686088562012,
          0.22670160233974457,
          0.22616450488567352,
          0.22684279084205627,
          0.22775256633758545,
          0.2292231321334839,
          0.23146088421344757,
          0.23318850994110107,
          0.23381327092647552,
          0.23422272503376007,
          0.23505128920078278,
          0.23576898872852325,
          0.2355312556028366,
          0.23406362533569336,
          0.23253421485424042,
          0.23273709416389465,
          0.23411862552165985,
          0.23406536877155304,
          0.23215670883655548,
          0.23058432340621948,
          0.23038744926452637,
          0.23049354553222656,
          0.23006267845630646,
          0.22926564514636993,
          0.22841757535934448,
          0.22791777551174164,
          0.22804659605026245,
          0.22828362882137299,
          0.22784392535686493,
          0.22707155346870422,
          0.22742605209350586,
          0.23014113306999207,
          0.23515662550926208,
          0.2410149723291397,
          0.2454642355442047,
          0.24678707122802734,
          0.24504323303699493,
          0.24162137508392334,
          0.23783588409423828,
          0.23422802984714508,
          0.23110026121139526,
          0.22907167673110962,
          0.22826611995697021,
          0.2279067039489746,
          0.22731028497219086,
          0.227044478058815,
          0.22830113768577576,
          0.2309049516916275,
          0.23295839130878448,
          0.23291949927806854,
          0.2312898337841034,
          0.22951258718967438,
          0.2282101809978485,
          0.2274979203939438,
          0.22773483395576477,
          0.22875308990478516,
          0.22946593165397644,
          0.22932296991348267,
          0.22898982465267181,
          0.22915905714035034,
          0.22960078716278076,
          0.2295568436384201,
          0.22870203852653503,
          0.22745314240455627,
          0.22650368511676788,
          0.2262096256017685,
          0.2262202948331833,
          0.22611717879772186,
          0.22597044706344604,
          0.22597423195838928,
          0.22594599425792694,
          0.22557231783866882,
          0.22486241161823273,
          0.22411704063415527,
          0.22356945276260376,
          0.22321727871894836,
          0.22290164232254028,
          0.2225659042596817,
          0.22228239476680756,
          0.2220788300037384,
          0.22183313965797424,
          0.22148160636425018,
          0.22112761437892914,
          0.22086697816848755,
          0.22076664865016937,
          0.22087430953979492,
          0.22103852033615112,
          0.22095048427581787,
          0.220544695854187,
          0.22012627124786377,
          0.2199278175830841,
          0.21981483697891235,
          0.21961915493011475,
          0.219485804438591,
          0.21960122883319855,
          0.21982349455356598,
          0.21985945105552673,
          0.21964001655578613,
          0.21932539343833923,
          0.21904978156089783,
          0.21886275708675385,
          0.21879716217517853,
          0.21883589029312134,
          0.2189241349697113,
          0.21904192864894867,
          0.2191571593284607,
          0.2191428691148758,
          0.2189353108406067,
          0.21869482100009918,
          0.21861033141613007,
          0.21865801513195038,
          0.21869000792503357,
          0.21866276860237122,
          0.21861903369426727,
          0.21856079995632172,
          0.21849578619003296,
          0.2184925675392151,
          0.2185693383216858,
          0.21862272918224335,
          0.21855628490447998,
          0.21840885281562805,
          0.2182849645614624,
          0.21821750700473785,
          0.2181791514158249,
          0.2181531935930252,
          0.2181350439786911,
          0.2181093841791153,
          0.2180742621421814,
          0.2180398553609848,
          0.218014657497406,
          0.21804723143577576,
          0.21820437908172607,
          0.2184462994337082,
          0.2185918539762497,
          0.21850040555000305,
          0.21825137734413147
         ]
        },
        {
         "marker": {
          "size": 3
         },
         "mode": "markers",
         "name": "pred_0",
         "type": "scatter",
         "y": [
          0.23445817828178406,
          0.20843885838985443,
          0.22225365042686462,
          0.20774482190608978,
          0.21983739733695984,
          0.2159620225429535,
          0.21380425989627838,
          0.214222252368927,
          0.22577796876430511,
          0.21972525119781494,
          0.2205023169517517,
          0.20984341204166412,
          0.2366890013217926,
          0.22967810928821564,
          0.21688571572303772,
          0.21887506544589996,
          0.2180721014738083,
          0.21178480982780457,
          0.2136116772890091,
          0.21030202507972717,
          0.22340714931488037,
          0.21464133262634277,
          0.2148347795009613,
          0.20539619028568268,
          0.2186001092195511,
          0.21982280910015106,
          0.22379936277866364,
          0.2081782966852188,
          0.2265697866678238,
          0.23412546515464783,
          0.23194479942321777,
          0.22572556138038635,
          0.2183315008878708,
          0.22313226759433746,
          0.24014070630073547,
          0.24179942905902863,
          0.2336965799331665,
          0.24907490611076355,
          0.238322451710701,
          0.22349850833415985,
          0.22126826643943787,
          0.2357739359140396,
          0.24237573146820068,
          0.2161140739917755,
          0.2395510971546173,
          0.20815029740333557,
          0.22765018045902252,
          0.22893685102462769,
          0.24449382722377777,
          0.2315036505460739,
          0.23145362734794617,
          0.23731738328933716,
          0.22598643600940704,
          0.20515598356723785,
          0.2268722504377365,
          0.2178146094083786,
          0.22166068851947784,
          0.19862185418605804,
          0.22393350303173065,
          0.2215198427438736,
          0.21419474482536316,
          0.22822478413581848,
          0.22640550136566162,
          0.20873060822486877,
          0.22869962453842163,
          0.23597024381160736,
          0.23646052181720734,
          0.2431359887123108,
          0.22820869088172913,
          0.20481130480766296,
          0.22882457077503204,
          0.20784984529018402,
          0.2144598811864853,
          0.2223966419696808,
          0.21988968551158905,
          0.20548048615455627,
          0.228327214717865,
          0.22955970466136932,
          0.2102997899055481,
          0.21580228209495544,
          0.23171928524971008,
          0.20943357050418854,
          0.22963960468769073,
          0.20819154381752014,
          0.2344939261674881,
          0.22654934227466583,
          0.2273939996957779,
          0.23388753831386566,
          0.23307135701179504,
          0.22527508437633514,
          0.2475135624408722,
          0.23885641992092133,
          0.21758811175823212,
          0.21937209367752075,
          0.23040352761745453,
          0.24089315533638,
          0.22666463255882263,
          0.25199729204177856,
          0.2151651829481125,
          0.21346299350261688,
          0.2247065305709839,
          0.2254982739686966,
          0.22456321120262146,
          0.19470830261707306,
          0.23729336261749268,
          0.24501186609268188,
          0.2171718180179596,
          0.23608720302581787,
          0.20860730111598969,
          0.23621496558189392,
          0.2286362200975418,
          0.20903827250003815,
          0.2133168876171112,
          0.22263149917125702,
          0.2386883944272995,
          0.23552575707435608,
          0.23043103516101837,
          0.21397614479064941,
          0.21924646198749542,
          0.21377825736999512,
          0.211043581366539,
          0.21512527763843536,
          0.2141999751329422,
          0.22621572017669678,
          0.2298688292503357,
          0.20832589268684387,
          0.22798879444599152,
          0.22687679529190063,
          0.20521052181720734,
          0.20559346675872803,
          0.23038135468959808,
          0.24099983274936676,
          0.22340717911720276,
          0.24446985125541687,
          0.22589410841464996,
          0.24042297899723053,
          0.22171299159526825,
          0.21973975002765656,
          0.22327202558517456,
          0.23958735167980194,
          0.22528919577598572,
          0.24575240910053253,
          0.24378149211406708,
          0.22616751492023468,
          0.230991393327713,
          0.21490809321403503,
          0.23276686668395996,
          0.22766786813735962,
          0.20665250718593597,
          0.23592017590999603,
          0.213128462433815,
          0.23296470940113068,
          0.23059269785881042,
          0.21104861795902252,
          0.22966496646404266,
          0.25604528188705444,
          0.24724668264389038,
          0.22635895013809204,
          0.2474864274263382,
          0.25045210123062134,
          0.2554071843624115,
          0.25030818581581116,
          0.24721147119998932,
          0.23765501379966736,
          0.23383603990077972,
          0.2487044334411621,
          0.25514349341392517,
          0.22990451753139496,
          0.24252672493457794,
          0.2476341277360916,
          0.21705462038516998,
          0.23635554313659668,
          0.2325948178768158,
          0.23570957779884338,
          0.22725921869277954,
          0.2646726071834564,
          0.2361930012702942,
          0.1960509717464447,
          0.21754097938537598,
          0.2320251613855362,
          0.24175938963890076,
          0.2691054046154022,
          0.2483966201543808,
          0.22533032298088074,
          0.24109098315238953,
          0.2639738619327545,
          0.2371300458908081,
          0.23223759233951569,
          0.23136793076992035,
          0.2428252100944519,
          0.22950305044651031,
          0.2101692259311676,
          0.23998764157295227,
          0.23353850841522217,
          0.230647474527359,
          0.2417597770690918,
          0.25258228182792664,
          0.23215433955192566,
          0.24906961619853973,
          0.2484888732433319,
          0.22476348280906677,
          0.23222699761390686,
          0.23559542000293732,
          0.22727906703948975,
          0.24491485953330994,
          0.24988296627998352,
          0.22972331941127777,
          0.23419970273971558,
          0.24638094007968903,
          0.22985903918743134,
          0.22944596409797668,
          0.22979408502578735,
          0.23104657232761383,
          0.2331155687570572,
          0.23408497869968414,
          0.2410057783126831,
          0.2509101331233978,
          0.23921838402748108,
          0.23844364285469055,
          0.2252153754234314,
          0.2425948530435562,
          0.24298450350761414,
          0.2572280764579773,
          0.229274183511734,
          0.23155027627944946,
          0.23035842180252075,
          0.22773125767707825,
          0.24916799366474152,
          0.22787363827228546,
          0.22593028843402863,
          0.23458606004714966,
          0.24393358826637268,
          0.22746092081069946,
          0.23291586339473724,
          0.2127508670091629,
          0.23782441020011902,
          0.24646703898906708,
          0.2361835092306137,
          0.24577884376049042,
          0.23919810354709625,
          0.22514206171035767,
          0.21812506020069122,
          0.221088245511055,
          0.2293233722448349,
          0.21042703092098236,
          0.24766121804714203,
          0.23935332894325256,
          0.21923214197158813,
          0.2278129756450653,
          0.23401618003845215,
          0.20747770369052887,
          0.2225600928068161,
          0.22222767770290375,
          0.23621846735477448,
          0.2180069386959076,
          0.23958587646484375,
          0.20611204206943512,
          0.2106470912694931,
          0.22720171511173248,
          0.22348523139953613,
          0.21969333291053772,
          0.23453862965106964,
          0.23136717081069946,
          0.22177870571613312,
          0.23188284039497375,
          0.22046571969985962,
          0.204421728849411,
          0.21463753283023834,
          0.2192939668893814,
          0.22037102282047272,
          0.2303449660539627,
          0.21493899822235107,
          0.22842974960803986,
          0.22744637727737427,
          0.22047676146030426,
          0.20721681416034698,
          0.22092396020889282,
          0.1952355057001114,
          0.22190499305725098,
          0.2311650812625885,
          0.2215045690536499,
          0.22963660955429077,
          0.22687804698944092
         ]
        },
        {
         "marker": {
          "size": 3
         },
         "mode": "markers",
         "name": "gt_1",
         "type": "scatter",
         "y": [
          0.7412209510803223,
          0.7452429533004761,
          0.7441275119781494,
          0.7428935766220093,
          0.7441025376319885,
          0.7433820366859436,
          0.7422492504119873,
          0.7421635985374451,
          0.7415319085121155,
          0.7412717938423157,
          0.7411085367202759,
          0.7407187223434448,
          0.7406716346740723,
          0.7404690980911255,
          0.7402276396751404,
          0.7400952577590942,
          0.7399219274520874,
          0.7398880124092102,
          0.7399196624755859,
          0.7398736476898193,
          0.7397860884666443,
          0.7399668097496033,
          0.7400338053703308,
          0.7400591969490051,
          0.7402153015136719,
          0.7401169538497925,
          0.7399542331695557,
          0.7399529218673706,
          0.7400346398353577,
          0.7404460906982422,
          0.7410095930099487,
          0.7411179542541504,
          0.7409893274307251,
          0.7408887147903442,
          0.7408775091171265,
          0.7410718202590942,
          0.7412010431289673,
          0.7411227822303772,
          0.7413207292556763,
          0.7417110800743103,
          0.7417154908180237,
          0.7417351007461548,
          0.7422165870666504,
          0.7425053715705872,
          0.7422977685928345,
          0.7422590255737305,
          0.7426542043685913,
          0.7428761720657349,
          0.7425869107246399,
          0.7425602674484253,
          0.7429866194725037,
          0.7434259057044983,
          0.743375837802887,
          0.7427497506141663,
          0.7423959970474243,
          0.7422979474067688,
          0.7419944405555725,
          0.7419693470001221,
          0.7423157691955566,
          0.7422199845314026,
          0.7420884370803833,
          0.742470920085907,
          0.7427049279212952,
          0.7426198720932007,
          0.7428189516067505,
          0.7436971068382263,
          0.7448540329933167,
          0.7458210587501526,
          0.7462927103042603,
          0.74599289894104,
          0.7450972199440002,
          0.7444250583648682,
          0.7448389530181885,
          0.7457469701766968,
          0.7458657622337341,
          0.7456914782524109,
          0.7461443543434143,
          0.7464464902877808,
          0.7462033629417419,
          0.7460570931434631,
          0.746005654335022,
          0.7460020780563354,
          0.7457962036132812,
          0.745151698589325,
          0.7448840737342834,
          0.7454543709754944,
          0.7460588812828064,
          0.7462284564971924,
          0.7464868426322937,
          0.7468962669372559,
          0.746896505355835,
          0.7469250559806824,
          0.7472873330116272,
          0.7469168305397034,
          0.7458539605140686,
          0.7455238103866577,
          0.7462133765220642,
          0.7467303276062012,
          0.7462459802627563,
          0.7458045482635498,
          0.746677041053772,
          0.7481359243392944,
          0.7486134767532349,
          0.7475197315216064,
          0.7458126544952393,
          0.7452865839004517,
          0.7467212677001953,
          0.7487238645553589,
          0.7488951683044434,
          0.7471904158592224,
          0.7459005117416382,
          0.7457266449928284,
          0.745710551738739,
          0.7455636858940125,
          0.7452534437179565,
          0.7448951601982117,
          0.744994044303894,
          0.7455353736877441,
          0.7461045384407043,
          0.746609628200531,
          0.7471246123313904,
          0.7473577857017517,
          0.7470184564590454,
          0.7467198371887207,
          0.7470616698265076,
          0.7472653985023499,
          0.7468273639678955,
          0.7466029524803162,
          0.7467377185821533,
          0.7465636730194092,
          0.746131956577301,
          0.7454923391342163,
          0.7446093559265137,
          0.7443723082542419,
          0.7453960180282593,
          0.7467768788337708,
          0.7472814917564392,
          0.7468258142471313,
          0.7462995052337646,
          0.7461034655570984,
          0.7457955479621887,
          0.7454639077186584,
          0.7455621957778931,
          0.7454637289047241,
          0.744636058807373,
          0.7440257668495178,
          0.7442336678504944,
          0.7444164752960205,
          0.7441495656967163,
          0.7440577745437622,
          0.7443348169326782,
          0.7447289228439331,
          0.7453835010528564,
          0.74626225233078,
          0.7468526363372803,
          0.7470273375511169,
          0.7471767663955688,
          0.7474977970123291,
          0.747771680355072,
          0.7477216720581055,
          0.7472659945487976,
          0.7467743754386902,
          0.7468221783638,
          0.7472444176673889,
          0.7472336888313293,
          0.746681809425354,
          0.746249794960022,
          0.7461772561073303,
          0.7461032867431641,
          0.7458553314208984,
          0.7455732822418213,
          0.7453312873840332,
          0.7451611757278442,
          0.7451027035713196,
          0.7450258731842041,
          0.744744062423706,
          0.7444067597389221,
          0.7445386052131653,
          0.7456060647964478,
          0.7475408315658569,
          0.7496848702430725,
          0.7512044310569763,
          0.7516341209411621,
          0.7511047124862671,
          0.7500562071800232,
          0.7488424777984619,
          0.747601330280304,
          0.7464568614959717,
          0.7456692457199097,
          0.7453276515007019,
          0.7451833486557007,
          0.7449871897697449,
          0.7448837161064148,
          0.7452369332313538,
          0.7460156679153442,
          0.7466641068458557,
          0.7467027306556702,
          0.7462558746337891,
          0.7457473278045654,
          0.7453564405441284,
          0.7451128363609314,
          0.7451592683792114,
          0.745480477809906,
          0.7457246780395508,
          0.7456806302070618,
          0.7455635666847229,
          0.7456251978874207,
          0.7457773089408875,
          0.7457357048988342,
          0.7454020977020264,
          0.7449467778205872,
          0.7445955276489258,
          0.744450569152832,
          0.7444134950637817,
          0.7443772554397583,
          0.7443597912788391,
          0.7443853616714478,
          0.7443708777427673,
          0.7442204356193542,
          0.7439387440681458,
          0.7436203956604004,
          0.7433629035949707,
          0.7431976795196533,
          0.7430668473243713,
          0.7429150938987732,
          0.7427529692649841,
          0.74261474609375,
          0.7424737811088562,
          0.7422952055931091,
          0.7421028017997742,
          0.7419376969337463,
          0.74184650182724,
          0.7418599128723145,
          0.7419076561927795,
          0.7418450713157654,
          0.7416426539421082,
          0.7414443492889404,
          0.7413532733917236,
          0.741289496421814,
          0.7411631345748901,
          0.7410576939582825,
          0.7410843968391418,
          0.7411772608757019,
          0.7411869764328003,
          0.7410796880722046,
          0.7409271597862244,
          0.7407765984535217,
          0.7406464219093323,
          0.7405707836151123,
          0.7405574917793274,
          0.7405778169631958,
          0.7406171560287476,
          0.7406613826751709,
          0.7406481504440308,
          0.7405440211296082,
          0.7404317259788513,
          0.7404083013534546,
          0.7404528260231018,
          0.7404740452766418,
          0.7404432892799377,
          0.7403955459594727,
          0.7403503060340881,
          0.740315318107605,
          0.7403150200843811,
          0.7403504848480225,
          0.74037104845047,
          0.740332305431366,
          0.7402523159980774,
          0.7401796579360962,
          0.7401325702667236,
          0.7401057481765747,
          0.7400956153869629,
          0.7400938868522644,
          0.7400818467140198,
          0.7400553226470947,
          0.7400273680686951,
          0.7400119304656982,
          0.7400343418121338,
          0.7401196956634521,
          0.7402395606040955,
          0.7403028607368469,
          0.7402462363243103,
          0.7401149868965149
         ]
        },
        {
         "marker": {
          "size": 3
         },
         "mode": "markers",
         "name": "pred_1",
         "type": "scatter",
         "y": [
          0.7038560509681702,
          0.7459364533424377,
          0.7278432846069336,
          0.7417609691619873,
          0.7326002717018127,
          0.7309750914573669,
          0.7347749471664429,
          0.7337725162506104,
          0.7224156260490417,
          0.7329915165901184,
          0.7283597588539124,
          0.7390008568763733,
          0.7081572413444519,
          0.715645968914032,
          0.7395671010017395,
          0.7170078158378601,
          0.7259693145751953,
          0.7315331101417542,
          0.732270359992981,
          0.7378848791122437,
          0.733641505241394,
          0.7233325242996216,
          0.73291015625,
          0.7410374879837036,
          0.7351788282394409,
          0.7298496961593628,
          0.7325130701065063,
          0.7386845946311951,
          0.7302839159965515,
          0.7220520377159119,
          0.7287552356719971,
          0.740815281867981,
          0.74546879529953,
          0.7434356808662415,
          0.7299748659133911,
          0.7329688668251038,
          0.7448787689208984,
          0.7157670855522156,
          0.7274932265281677,
          0.7411624193191528,
          0.7435963749885559,
          0.7367731928825378,
          0.7356006503105164,
          0.7510771751403809,
          0.7251455187797546,
          0.7561969757080078,
          0.7238948941230774,
          0.7427524924278259,
          0.7327119708061218,
          0.7480431199073792,
          0.7483494877815247,
          0.749649167060852,
          0.746071457862854,
          0.7596808671951294,
          0.71684730052948,
          0.7405248284339905,
          0.7470518946647644,
          0.7644580602645874,
          0.7384477257728577,
          0.7424245476722717,
          0.7549014091491699,
          0.739647626876831,
          0.7327983379364014,
          0.7556838989257812,
          0.7341334223747253,
          0.7316408157348633,
          0.7308381199836731,
          0.7247989773750305,
          0.7335890531539917,
          0.7590405344963074,
          0.7274017333984375,
          0.7486974000930786,
          0.738924503326416,
          0.7360156774520874,
          0.7387908101081848,
          0.7447939515113831,
          0.7370550632476807,
          0.7316445708274841,
          0.746626079082489,
          0.7496336102485657,
          0.7453156113624573,
          0.7519851922988892,
          0.7335056066513062,
          0.7360038757324219,
          0.7310536503791809,
          0.731892466545105,
          0.7332445383071899,
          0.7316977977752686,
          0.7349364161491394,
          0.7461201548576355,
          0.737617552280426,
          0.7411637306213379,
          0.7590916156768799,
          0.7599999904632568,
          0.7422774434089661,
          0.7359790205955505,
          0.7442430257797241,
          0.718583345413208,
          0.7559825778007507,
          0.7450867295265198,
          0.7461947202682495,
          0.7540622353553772,
          0.7534807324409485,
          0.7639818787574768,
          0.7428992390632629,
          0.7231587767601013,
          0.7538567185401917,
          0.740836501121521,
          0.764930784702301,
          0.7341673374176025,
          0.7354618310928345,
          0.7510541677474976,
          0.7481369376182556,
          0.7440555095672607,
          0.7256091833114624,
          0.7380566000938416,
          0.7331313490867615,
          0.7512896060943604,
          0.7265503406524658,
          0.7489882111549377,
          0.7531624436378479,
          0.7307044863700867,
          0.7502777576446533,
          0.733677864074707,
          0.7397786974906921,
          0.7517762184143066,
          0.7342195510864258,
          0.7316155433654785,
          0.7477405071258545,
          0.7461861968040466,
          0.7311279773712158,
          0.7257066369056702,
          0.732451856136322,
          0.7183895111083984,
          0.7368389964103699,
          0.7381592988967896,
          0.7348136901855469,
          0.7409098744392395,
          0.7406498789787292,
          0.7293059229850769,
          0.7409899830818176,
          0.7345860004425049,
          0.7265738248825073,
          0.7465444207191467,
          0.7390800714492798,
          0.7554269433021545,
          0.7362169027328491,
          0.7331829071044922,
          0.7495220303535461,
          0.7422536611557007,
          0.7675608396530151,
          0.7496902346611023,
          0.7538155913352966,
          0.7708707451820374,
          0.7544121742248535,
          0.7533712387084961,
          0.7473303079605103,
          0.7686057686805725,
          0.7477394938468933,
          0.7455325722694397,
          0.7356008291244507,
          0.7393612265586853,
          0.7419468760490417,
          0.7518428564071655,
          0.7550747990608215,
          0.7444798946380615,
          0.740319550037384,
          0.7544862627983093,
          0.7430688738822937,
          0.7499219179153442,
          0.7687650918960571,
          0.7516223788261414,
          0.757249653339386,
          0.7581849098205566,
          0.7591320276260376,
          0.7180057168006897,
          0.747599184513092,
          0.7804860472679138,
          0.7494164109230042,
          0.7674612402915955,
          0.7705187201499939,
          0.7456779479980469,
          0.769921600818634,
          0.7831832766532898,
          0.7766920328140259,
          0.7406142354011536,
          0.768561840057373,
          0.7554059624671936,
          0.7566449046134949,
          0.7450013756752014,
          0.7547190189361572,
          0.7699487805366516,
          0.7404977083206177,
          0.7457914352416992,
          0.7556015849113464,
          0.75273597240448,
          0.7343849539756775,
          0.7528572678565979,
          0.7371709942817688,
          0.7405362129211426,
          0.7467057108879089,
          0.7559928894042969,
          0.7454559803009033,
          0.7553743124008179,
          0.7367948293685913,
          0.7452624440193176,
          0.7438138723373413,
          0.7600575685501099,
          0.7375224828720093,
          0.7618852853775024,
          0.7613125443458557,
          0.7544707655906677,
          0.7525283694267273,
          0.7601100206375122,
          0.7555791735649109,
          0.7482427358627319,
          0.7453767657279968,
          0.74929279088974,
          0.745712399482727,
          0.7460201978683472,
          0.7304628491401672,
          0.7379667162895203,
          0.726961076259613,
          0.7541924715042114,
          0.7517231702804565,
          0.7494688630104065,
          0.7461858987808228,
          0.737801194190979,
          0.745051920413971,
          0.7525522708892822,
          0.7377246022224426,
          0.7263970375061035,
          0.7488332986831665,
          0.7361446619033813,
          0.7565866708755493,
          0.7367576360702515,
          0.7233777046203613,
          0.7264199256896973,
          0.7295453548431396,
          0.7296650409698486,
          0.7430347204208374,
          0.7476617693901062,
          0.7491071224212646,
          0.7327589988708496,
          0.7432581186294556,
          0.7159513831138611,
          0.7305339574813843,
          0.743776798248291,
          0.7359420657157898,
          0.7274171113967896,
          0.7483221292495728,
          0.738336443901062,
          0.7397476434707642,
          0.7248907089233398,
          0.7435176372528076,
          0.7280837297439575,
          0.7438355684280396,
          0.7403408288955688,
          0.7396517395973206,
          0.7388839721679688,
          0.7426183819770813,
          0.7268564701080322,
          0.7236118316650391,
          0.7547200918197632,
          0.7292238473892212,
          0.733134925365448,
          0.7516677975654602,
          0.743830680847168,
          0.7431049346923828,
          0.735113799571991,
          0.724378764629364,
          0.7386015057563782,
          0.7308173179626465,
          0.7350102066993713,
          0.7444471120834351,
          0.7442421913146973,
          0.7300324440002441,
          0.7470681667327881,
          0.7427791953086853,
          0.7209368348121643,
          0.7397209405899048,
          0.7313961386680603,
          0.7300397157669067
         ]
        },
        {
         "marker": {
          "size": 3
         },
         "mode": "markers",
         "name": "gt_2",
         "type": "scatter",
         "y": [
          0.16193799674510956,
          0.1636883020401001,
          0.16370011866092682,
          0.16344358026981354,
          0.16346172988414764,
          0.16310130059719086,
          0.1634579747915268,
          0.1643955409526825,
          0.16444946825504303,
          0.1644383668899536,
          0.16466271877288818,
          0.16512884199619293,
          0.16590675711631775,
          0.16634273529052734,
          0.16636717319488525,
          0.1664714366197586,
          0.166819766163826,
          0.1670939326286316,
          0.1673581302165985,
          0.16781485080718994,
          0.16827768087387085,
          0.16880632936954498,
          0.16941675543785095,
          0.17000392079353333,
          0.17061522603034973,
          0.17130300402641296,
          0.17209184169769287,
          0.17289525270462036,
          0.17370545864105225,
          0.17462453246116638,
          0.17559805512428284,
          0.1761494278907776,
          0.17614102363586426,
          0.17599797248840332,
          0.17604878544807434,
          0.17630378901958466,
          0.17650024592876434,
          0.17667976021766663,
          0.17709143459796906,
          0.17755857110023499,
          0.17783240973949432,
          0.17789319157600403,
          0.1777431219816208,
          0.1776004284620285,
          0.17792147397994995,
          0.17865882813930511,
          0.17918434739112854,
          0.17919032275676727,
          0.17877879738807678,
          0.17825910449028015,
          0.1781100034713745,
          0.17832103371620178,
          0.17818033695220947,
          0.177438884973526,
          0.1767362505197525,
          0.1764124631881714,
          0.1761506050825119,
          0.17586755752563477,
          0.1758040487766266,
          0.17574767768383026,
          0.17544271051883698,
          0.1750219315290451,
          0.1745932400226593,
          0.17423255741596222,
          0.17394018173217773,
          0.1736975759267807,
          0.1735764443874359,
          0.17350336909294128,
          0.17321373522281647,
          0.17273545265197754,
          0.17234180867671967,
          0.17201434075832367,
          0.17170560359954834,
          0.17154817283153534,
          0.17145311832427979,
          0.17136162519454956,
          0.1713387817144394,
          0.17101821303367615,
          0.1703260838985443,
          0.16988936066627502,
          0.16974258422851562,
          0.16946887969970703,
          0.16904757916927338,
          0.16860823333263397,
          0.16873539984226227,
          0.17035534977912903,
          0.17322281002998352,
          0.1758221685886383,
          0.17723053693771362,
          0.1780955195426941,
          0.17948085069656372,
          0.18125805258750916,
          0.18228355050086975,
          0.18222062289714813,
          0.1819695383310318,
          0.18205298483371735,
          0.18206886947155,
          0.1817038357257843,
          0.18140704929828644,
          0.18183377385139465,
          0.18245923519134521,
          0.18210798501968384,
          0.1809508055448532,
          0.18002037703990936,
          0.17966757714748383,
          0.1795930117368698,
          0.1796022206544876,
          0.17970457673072815,
          0.17955535650253296,
          0.17907895147800446,
          0.17892508208751678,
          0.17909786105155945,
          0.17897969484329224,
          0.17860840260982513,
          0.1782868355512619,
          0.17812104523181915,
          0.1782325953245163,
          0.17851868271827698,
          0.17876356840133667,
          0.17896389961242676,
          0.1790218949317932,
          0.1786835789680481,
          0.17808261513710022,
          0.17774492502212524,
          0.1778089553117752,
          0.17787346243858337,
          0.1777685284614563,
          0.17770402133464813,
          0.17770187556743622,
          0.177690327167511,
          0.1778498888015747,
          0.17823386192321777,
          0.17866270244121552,
          0.17918886244297028,
          0.17996123433113098,
          0.18077977001667023,
          0.18143664300441742,
          0.1821805089712143,
          0.18324658274650574,
          0.18432976305484772,
          0.18510118126869202,
          0.18575561046600342,
          0.18656013906002045,
          0.18737727403640747,
          0.18794456124305725,
          0.18823853135108948,
          0.18850338459014893,
          0.18898867070674896,
          0.1896231472492218,
          0.19013936817646027,
          0.19049187004566193,
          0.19090117514133453,
          0.19155734777450562,
          0.19232454895973206,
          0.1928025484085083,
          0.19285441935062408,
          0.19273445010185242,
          0.19260556995868683,
          0.19235384464263916,
          0.1919369399547577,
          0.19150374829769135,
          0.19122275710105896,
          0.1911529004573822,
          0.19115138053894043,
          0.19100326299667358,
          0.19073893129825592,
          0.19049985706806183,
          0.19021469354629517,
          0.18978548049926758,
          0.18939894437789917,
          0.18925130367279053,
          0.18921633064746857,
          0.18907679617404938,
          0.18886834383010864,
          0.188741073012352,
          0.18873688578605652,
          0.18884827196598053,
          0.18917661905288696,
          0.190006822347641,
          0.1916152685880661,
          0.19386529922485352,
          0.1961151510477066,
          0.19771717488765717,
          0.1984819620847702,
          0.1985393911600113,
          0.19801633059978485,
          0.19699649512767792,
          0.19561448693275452,
          0.19407400488853455,
          0.1926126778125763,
          0.1914118230342865,
          0.19050578773021698,
          0.18982185423374176,
          0.1893530786037445,
          0.1891682893037796,
          0.18923620879650116,
          0.18937548995018005,
          0.189447820186615,
          0.18946419656276703,
          0.1894538849592209,
          0.18939955532550812,
          0.18931113183498383,
          0.1891828328371048,
          0.1889694184064865,
          0.18870344758033752,
          0.18853868544101715,
          0.18853969871997833,
          0.18856868147850037,
          0.18848422169685364,
          0.18834349513053894,
          0.18829883635044098,
          0.18836721777915955,
          0.18845239281654358,
          0.18847383558750153,
          0.18844090402126312,
          0.18841736018657684,
          0.18843653798103333,
          0.1884811818599701,
          0.1885063499212265,
          0.18848729133605957,
          0.18844687938690186,
          0.1884068250656128,
          0.18833912909030914,
          0.1881614476442337,
          0.18782909214496613,
          0.18742574751377106,
          0.18707992136478424,
          0.18681682646274567,
          0.18656332790851593,
          0.186277374625206,
          0.18599125742912292,
          0.18578699231147766,
          0.18571273982524872,
          0.1856973022222519,
          0.18559075891971588,
          0.1853446066379547,
          0.185047909617424,
          0.1847553253173828,
          0.18441621959209442,
          0.1840210109949112,
          0.18368393182754517,
          0.18349367380142212,
          0.18340495228767395,
          0.183309406042099,
          0.18313446640968323,
          0.18285655975341797,
          0.1824878752231598,
          0.18208138644695282,
          0.18171055614948273,
          0.18140994012355804,
          0.18115580081939697,
          0.18089964985847473,
          0.18061083555221558,
          0.1802869439125061,
          0.17995020747184753,
          0.17964868247509003,
          0.17942693829536438,
          0.17928163707256317,
          0.17914679646492004,
          0.1789468675851822,
          0.17866861820220947,
          0.1783670336008072,
          0.17809732258319855,
          0.17786771059036255,
          0.17765477299690247,
          0.17744529247283936,
          0.17725104093551636,
          0.17707550525665283,
          0.1768893599510193,
          0.17666208744049072,
          0.1764097511768341,
          0.17617850005626678,
          0.17599591612815857,
          0.17585107684135437,
          0.17571181058883667,
          0.17555424571037292,
          0.17539037764072418,
          0.17525634169578552,
          0.17515011131763458,
          0.17500914633274078,
          0.17478103935718536,
          0.174498051404953,
          0.1742391586303711
         ]
        },
        {
         "marker": {
          "size": 3
         },
         "mode": "markers",
         "name": "pred_2",
         "type": "scatter",
         "y": [
          0.17149405181407928,
          0.17570573091506958,
          0.17056864500045776,
          0.17261762917041779,
          0.17534461617469788,
          0.16902397572994232,
          0.169625386595726,
          0.1684766262769699,
          0.17427551746368408,
          0.17071223258972168,
          0.17152585089206696,
          0.1711142510175705,
          0.17160454392433167,
          0.17225396633148193,
          0.17249548435211182,
          0.17563362419605255,
          0.17259924113750458,
          0.17594119906425476,
          0.17219509184360504,
          0.17555874586105347,
          0.17068886756896973,
          0.17321275174617767,
          0.17412737011909485,
          0.17437630891799927,
          0.17436327040195465,
          0.17691226303577423,
          0.1750766932964325,
          0.17736466228961945,
          0.1766866147518158,
          0.17316454648971558,
          0.17571844160556793,
          0.17540976405143738,
          0.17564179003238678,
          0.17441391944885254,
          0.17312109470367432,
          0.17226780951023102,
          0.1679164171218872,
          0.17344774305820465,
          0.1775248944759369,
          0.1740972101688385,
          0.1738399863243103,
          0.17209492623806,
          0.17011943459510803,
          0.17699116468429565,
          0.17825323343276978,
          0.18059249222278595,
          0.18179255723953247,
          0.17826080322265625,
          0.17616616189479828,
          0.17045561969280243,
          0.17506401240825653,
          0.17064857482910156,
          0.17806494235992432,
          0.18020734190940857,
          0.1828691065311432,
          0.17701934278011322,
          0.17635993659496307,
          0.17721019685268402,
          0.17545340955257416,
          0.17918778955936432,
          0.1748894602060318,
          0.17274555563926697,
          0.17650042474269867,
          0.17493022978305817,
          0.17367736995220184,
          0.17563098669052124,
          0.17539186775684357,
          0.1714811474084854,
          0.18336309492588043,
          0.17786644399166107,
          0.17689809203147888,
          0.17412517964839935,
          0.1740199476480484,
          0.17976956069469452,
          0.179189994931221,
          0.1759893149137497,
          0.17288431525230408,
          0.17568738758563995,
          0.1767520159482956,
          0.17424537241458893,
          0.17117257416248322,
          0.17533256113529205,
          0.1754673421382904,
          0.1808578073978424,
          0.17608541250228882,
          0.17810973525047302,
          0.1790742129087448,
          0.17723344266414642,
          0.1792687475681305,
          0.18203888833522797,
          0.1739356815814972,
          0.17697811126708984,
          0.17973783612251282,
          0.1811482012271881,
          0.18414147198200226,
          0.17595994472503662,
          0.18292251229286194,
          0.17991749942302704,
          0.17959930002689362,
          0.18689551949501038,
          0.1822095364332199,
          0.18363985419273376,
          0.17786002159118652,
          0.18537336587905884,
          0.17653079330921173,
          0.1759929656982422,
          0.18079128861427307,
          0.17866916954517365,
          0.1805722415447235,
          0.1811450868844986,
          0.17671383917331696,
          0.1805492490530014,
          0.18113717436790466,
          0.18079234659671783,
          0.1805180460214615,
          0.1715324968099594,
          0.17961661517620087,
          0.17940467596054077,
          0.18104134500026703,
          0.18378481268882751,
          0.18297097086906433,
          0.1846449375152588,
          0.18015286326408386,
          0.17956840991973877,
          0.1782769113779068,
          0.18006400763988495,
          0.1783241629600525,
          0.176240935921669,
          0.17906475067138672,
          0.18458107113838196,
          0.17666760087013245,
          0.17748257517814636,
          0.18076805770397186,
          0.17889931797981262,
          0.17846153676509857,
          0.17640216648578644,
          0.1820664405822754,
          0.18037289381027222,
          0.18303731083869934,
          0.17932137846946716,
          0.18192531168460846,
          0.17756305634975433,
          0.18117716908454895,
          0.18012288212776184,
          0.18377742171287537,
          0.18251930177211761,
          0.18201953172683716,
          0.18645435571670532,
          0.18674539029598236,
          0.18336844444274902,
          0.18061284720897675,
          0.18467240035533905,
          0.183944970369339,
          0.18265987932682037,
          0.18813703954219818,
          0.1705252081155777,
          0.17696258425712585,
          0.18679028749465942,
          0.18472950160503387,
          0.17992037534713745,
          0.1851639449596405,
          0.18369373679161072,
          0.18307654559612274,
          0.1840818226337433,
          0.18464457988739014,
          0.1839751899242401,
          0.1814204305410385,
          0.18456009030342102,
          0.18032538890838623,
          0.17715856432914734,
          0.18399211764335632,
          0.17633096873760223,
          0.17617502808570862,
          0.17520081996917725,
          0.17897659540176392,
          0.17968381941318512,
          0.1791621893644333,
          0.18394719064235687,
          0.1851135790348053,
          0.18251711130142212,
          0.17860227823257446,
          0.186178058385849,
          0.18926894664764404,
          0.1842644065618515,
          0.18634028732776642,
          0.18627622723579407,
          0.18419843912124634,
          0.18237705528736115,
          0.185819610953331,
          0.18281857669353485,
          0.18278230726718903,
          0.1815846562385559,
          0.18259437382221222,
          0.18700546026229858,
          0.18293213844299316,
          0.17634813487529755,
          0.18272875249385834,
          0.1811467707157135,
          0.18095789849758148,
          0.18213099241256714,
          0.18472497165203094,
          0.1828313171863556,
          0.18467830121517181,
          0.18578848242759705,
          0.18516206741333008,
          0.1772731989622116,
          0.18010267615318298,
          0.17911767959594727,
          0.18321336805820465,
          0.18152157962322235,
          0.17953017354011536,
          0.17749620974063873,
          0.18300212919712067,
          0.1791742742061615,
          0.17744344472885132,
          0.17875176668167114,
          0.1750842183828354,
          0.1765824258327484,
          0.1827789843082428,
          0.18508213758468628,
          0.1809569150209427,
          0.18050652742385864,
          0.17902003228664398,
          0.17749889194965363,
          0.1809563934803009,
          0.18018479645252228,
          0.1811678558588028,
          0.177833691239357,
          0.18221551179885864,
          0.17817597091197968,
          0.18233689665794373,
          0.17987602949142456,
          0.1763598918914795,
          0.17669807374477386,
          0.18214599788188934,
          0.17863306403160095,
          0.17979593575000763,
          0.1818787008523941,
          0.17739462852478027,
          0.17479661107063293,
          0.17765216529369354,
          0.1808522790670395,
          0.17510953545570374,
          0.18077914416790009,
          0.17654447257518768,
          0.17830625176429749,
          0.17925265431404114,
          0.17503929138183594,
          0.1774565726518631,
          0.17654965817928314,
          0.17916566133499146,
          0.17692133784294128,
          0.17568178474903107,
          0.17571140825748444,
          0.17601393163204193,
          0.17422427237033844,
          0.17675752937793732,
          0.17909185588359833,
          0.17395725846290588,
          0.17131857573986053,
          0.18035370111465454,
          0.17251594364643097,
          0.17743919789791107,
          0.16858236491680145,
          0.1732020378112793,
          0.17560163140296936,
          0.17740392684936523,
          0.17505832016468048,
          0.17313160002231598,
          0.17336860299110413,
          0.1750144213438034,
          0.1737988442182541,
          0.17167344689369202,
          0.17544125020503998,
          0.1725723147392273,
          0.17551596462726593,
          0.1746843159198761,
          0.17955701053142548,
          0.16876128315925598,
          0.1766725778579712,
          0.1721619963645935,
          0.16808998584747314,
          0.1736358106136322
         ]
        },
        {
         "marker": {
          "size": 3
         },
         "mode": "markers",
         "name": "gt_3",
         "type": "scatter",
         "y": [
          0.7479937672615051,
          0.7493627071380615,
          0.7490042448043823,
          0.7488089799880981,
          0.7487541437149048,
          0.7483927011489868,
          0.7485343813896179,
          0.7491351962089539,
          0.7489686012268066,
          0.7487231492996216,
          0.7487158179283142,
          0.7485908269882202,
          0.7485840916633606,
          0.7484344244003296,
          0.7481475472450256,
          0.7480719685554504,
          0.7482008934020996,
          0.7482011914253235,
          0.7481811046600342,
          0.7482390999794006,
          0.7482226490974426,
          0.7482162714004517,
          0.748196005821228,
          0.7481733560562134,
          0.748245358467102,
          0.7482923865318298,
          0.7483957409858704,
          0.7485506534576416,
          0.7487084865570068,
          0.7492268681526184,
          0.7498181462287903,
          0.749880850315094,
          0.749655544757843,
          0.7494666576385498,
          0.7495429515838623,
          0.749867856502533,
          0.7500210404396057,
          0.7500072121620178,
          0.7501524090766907,
          0.7503809928894043,
          0.7505062222480774,
          0.7505128979682922,
          0.7503666281700134,
          0.750180721282959,
          0.7502079606056213,
          0.7504776120185852,
          0.7508500218391418,
          0.7510880827903748,
          0.7509317994117737,
          0.7507597208023071,
          0.7509682774543762,
          0.7511547207832336,
          0.750907838344574,
          0.7503514289855957,
          0.7499287128448486,
          0.7498584985733032,
          0.7498442530632019,
          0.749744176864624,
          0.7497922778129578,
          0.7498442530632019,
          0.7496962547302246,
          0.749509334564209,
          0.7493398189544678,
          0.7492067813873291,
          0.7491725087165833,
          0.7492069005966187,
          0.7493160963058472,
          0.7494878172874451,
          0.749494731426239,
          0.749252200126648,
          0.7489649653434753,
          0.7487891316413879,
          0.7488104701042175,
          0.7489530444145203,
          0.7489883899688721,
          0.7490028738975525,
          0.7491791248321533,
          0.7492976784706116,
          0.7492606043815613,
          0.7493211627006531,
          0.7494639754295349,
          0.7494691610336304,
          0.7492580413818359,
          0.7489451169967651,
          0.7488842606544495,
          0.7494179606437683,
          0.7503942251205444,
          0.7512761354446411,
          0.7517258524894714,
          0.751935601234436,
          0.7524527907371521,
          0.7533228397369385,
          0.7537181377410889,
          0.7532945275306702,
          0.7528096437454224,
          0.7526865005493164,
          0.7525818347930908,
          0.7522339224815369,
          0.7518433332443237,
          0.751973569393158,
          0.7526028752326965,
          0.7528337836265564,
          0.7523524761199951,
          0.7517725825309753,
          0.7515143156051636,
          0.7515695691108704,
          0.7519721388816833,
          0.7525560259819031,
          0.7526425123214722,
          0.7521764039993286,
          0.7519943714141846,
          0.7521475553512573,
          0.7520173788070679,
          0.7516584396362305,
          0.7513684630393982,
          0.7511812448501587,
          0.7511069178581238,
          0.7510546445846558,
          0.7509534955024719,
          0.750884473323822,
          0.7507889866828918,
          0.7504726052284241,
          0.7499814629554749,
          0.7496610283851624,
          0.7496272325515747,
          0.749535083770752,
          0.7492862939834595,
          0.7491846680641174,
          0.7491931915283203,
          0.7490876913070679,
          0.7489677667617798,
          0.7488850355148315,
          0.7487611174583435,
          0.7487583756446838,
          0.7490160465240479,
          0.7493324279785156,
          0.7494738698005676,
          0.7495028972625732,
          0.7496200799942017,
          0.7497931718826294,
          0.749840259552002,
          0.7498430013656616,
          0.7500237226486206,
          0.7502896785736084,
          0.7504091858863831,
          0.7504242062568665,
          0.750522255897522,
          0.7507343292236328,
          0.7509671449661255,
          0.7511795163154602,
          0.751401960849762,
          0.7517182230949402,
          0.7522132992744446,
          0.7527806162834167,
          0.7531354427337646,
          0.7531959414482117,
          0.7531816959381104,
          0.7532446980476379,
          0.7532765865325928,
          0.7531532645225525,
          0.752938985824585,
          0.7528306245803833,
          0.7529515624046326,
          0.7531622052192688,
          0.7532123327255249,
          0.7531003952026367,
          0.7529911994934082,
          0.7528851628303528,
          0.7526989579200745,
          0.7525300979614258,
          0.7524954676628113,
          0.7524937987327576,
          0.7523823380470276,
          0.7521992325782776,
          0.7520290613174438,
          0.7518632411956787,
          0.7517094016075134,
          0.751730740070343,
          0.7522004246711731,
          0.7532268762588501,
          0.7545047402381897,
          0.7554863095283508,
          0.7558483481407166,
          0.7556744813919067,
          0.7551960945129395,
          0.7545751333236694,
          0.753925621509552,
          0.7533574104309082,
          0.7529374957084656,
          0.7526555061340332,
          0.7524480223655701,
          0.7522572875022888,
          0.7520912885665894,
          0.7520485520362854,
          0.7521994113922119,
          0.7524518966674805,
          0.752623438835144,
          0.7526535987854004,
          0.752617597579956,
          0.7525654435157776,
          0.7525060772895813,
          0.7524727582931519,
          0.7524579763412476,
          0.7524053454399109,
          0.7523236274719238,
          0.7523072957992554,
          0.7523955702781677,
          0.7525049448013306,
          0.7525216341018677,
          0.7524210810661316,
          0.7522724270820618,
          0.7521539926528931,
          0.752103328704834,
          0.7521007657051086,
          0.7521311640739441,
          0.7521986961364746,
          0.7522608041763306,
          0.7522478699684143,
          0.7521445751190186,
          0.7519962191581726,
          0.751847505569458,
          0.7517136335372925,
          0.7516091465950012,
          0.7515382170677185,
          0.7514729499816895,
          0.7513811588287354,
          0.7512650489807129,
          0.7511418461799622,
          0.7510207891464233,
          0.750909149646759,
          0.7508108615875244,
          0.7507418990135193,
          0.7507136464118958,
          0.750693142414093,
          0.7506206035614014,
          0.7504944801330566,
          0.7503867745399475,
          0.7503354549407959,
          0.7502818703651428,
          0.7501674890518188,
          0.7500365972518921,
          0.7499681711196899,
          0.7499635219573975,
          0.7499582171440125,
          0.7499064803123474,
          0.7498093843460083,
          0.7496920824050903,
          0.7495854496955872,
          0.7495058178901672,
          0.7494350671768188,
          0.7493559122085571,
          0.7492873072624207,
          0.7492477297782898,
          0.7492119073867798,
          0.7491571307182312,
          0.7491191029548645,
          0.7491458654403687,
          0.7492173314094543,
          0.7492485046386719,
          0.7491872906684875,
          0.7490782141685486,
          0.7490032911300659,
          0.7489834427833557,
          0.7489756345748901,
          0.7489458322525024,
          0.7489061951637268,
          0.7488781213760376,
          0.7488501071929932,
          0.7487959265708923,
          0.7487225532531738,
          0.74867844581604,
          0.748694121837616,
          0.7487369179725647,
          0.748745858669281,
          0.7487073540687561,
          0.7486677765846252,
          0.7486750483512878,
          0.7487269639968872,
          0.7487806677818298,
          0.7487940192222595,
          0.7487573623657227,
          0.7486937046051025,
          0.74863201379776
         ]
        },
        {
         "marker": {
          "size": 3
         },
         "mode": "markers",
         "name": "pred_3",
         "type": "scatter",
         "y": [
          0.713462233543396,
          0.751174807548523,
          0.7401193380355835,
          0.7504274845123291,
          0.742658257484436,
          0.7390714883804321,
          0.7430884838104248,
          0.7426881194114685,
          0.7326677441596985,
          0.7401565313339233,
          0.7352981567382812,
          0.7505934238433838,
          0.7173808217048645,
          0.7240613698959351,
          0.7536275386810303,
          0.7279650568962097,
          0.7325129508972168,
          0.7386136651039124,
          0.7437353134155273,
          0.7479345798492432,
          0.7402686476707458,
          0.7311558127403259,
          0.7425650954246521,
          0.7501962184906006,
          0.7427630424499512,
          0.735100269317627,
          0.7419721484184265,
          0.7500581741333008,
          0.7388782501220703,
          0.7283958196640015,
          0.7350808382034302,
          0.7458339333534241,
          0.7547284960746765,
          0.7548952698707581,
          0.738617479801178,
          0.7397493720054626,
          0.7554526925086975,
          0.7260332703590393,
          0.7357276678085327,
          0.7520955204963684,
          0.7557143568992615,
          0.7478587627410889,
          0.7466035485267639,
          0.7603775858879089,
          0.7310000658035278,
          0.763068437576294,
          0.7301446795463562,
          0.7519342303276062,
          0.7447871565818787,
          0.7571008801460266,
          0.753011167049408,
          0.7572514414787292,
          0.7545973062515259,
          0.7648385763168335,
          0.7253132462501526,
          0.7496862411499023,
          0.7553564310073853,
          0.7680887579917908,
          0.7470587491989136,
          0.747256338596344,
          0.7645297050476074,
          0.7488535046577454,
          0.7435129880905151,
          0.7619299292564392,
          0.7421959042549133,
          0.7423104643821716,
          0.7397782802581787,
          0.7382069230079651,
          0.741144597530365,
          0.7674605250358582,
          0.7384731769561768,
          0.7538895606994629,
          0.7443625330924988,
          0.7410995960235596,
          0.7476187944412231,
          0.7558979988098145,
          0.743914008140564,
          0.7439207434654236,
          0.7565571665763855,
          0.7538931965827942,
          0.7554656863212585,
          0.7634215950965881,
          0.7405210137367249,
          0.743541955947876,
          0.736997127532959,
          0.7379059791564941,
          0.7405301928520203,
          0.7444960474967957,
          0.7435184717178345,
          0.7543087601661682,
          0.7508283257484436,
          0.7549319267272949,
          0.7691201567649841,
          0.7666448354721069,
          0.7463185787200928,
          0.7447373270988464,
          0.7549529671669006,
          0.72934490442276,
          0.7688578963279724,
          0.7548055648803711,
          0.7539926171302795,
          0.7546650171279907,
          0.7622060179710388,
          0.7718714475631714,
          0.7529277801513672,
          0.728455662727356,
          0.757033109664917,
          0.7465966939926147,
          0.7712190747261047,
          0.742213249206543,
          0.7501524090766907,
          0.7621140480041504,
          0.7580568194389343,
          0.7471088171005249,
          0.7361133098602295,
          0.7502734661102295,
          0.7378031015396118,
          0.7636216282844543,
          0.7368287444114685,
          0.7557097673416138,
          0.7636242508888245,
          0.7417717576026917,
          0.7589879035949707,
          0.7405328154563904,
          0.7459146976470947,
          0.762296736240387,
          0.738803505897522,
          0.7467538714408875,
          0.7587703466415405,
          0.7572884559631348,
          0.7412059307098389,
          0.7364368438720703,
          0.7406339049339294,
          0.7267909646034241,
          0.74171382188797,
          0.7544781565666199,
          0.7422946095466614,
          0.7476890087127686,
          0.7499964833259583,
          0.7404313087463379,
          0.7456204891204834,
          0.7466659545898438,
          0.7339681386947632,
          0.7518993020057678,
          0.7469839453697205,
          0.7633800506591797,
          0.7414512038230896,
          0.7422820329666138,
          0.761759877204895,
          0.7445683479309082,
          0.7763502597808838,
          0.7501267194747925,
          0.7572469711303711,
          0.7800184488296509,
          0.7644906044006348,
          0.7654365301132202,
          0.7565240263938904,
          0.7783800959587097,
          0.7585007548332214,
          0.7583936452865601,
          0.748525083065033,
          0.7454134821891785,
          0.7492033243179321,
          0.7655127644538879,
          0.7701201438903809,
          0.7579485774040222,
          0.7505436539649963,
          0.7646089792251587,
          0.7539123892784119,
          0.7618449330329895,
          0.7746013402938843,
          0.7582089900970459,
          0.7698104381561279,
          0.7696722149848938,
          0.7665644288063049,
          0.7265530824661255,
          0.7584683895111084,
          0.7877374887466431,
          0.7580955028533936,
          0.7763606309890747,
          0.7782827019691467,
          0.758577287197113,
          0.7787163257598877,
          0.7928999066352844,
          0.7818169593811035,
          0.7500285506248474,
          0.7755590081214905,
          0.7676971554756165,
          0.7642849087715149,
          0.7578009963035583,
          0.7653380632400513,
          0.778363049030304,
          0.7522143721580505,
          0.7508652806282043,
          0.7636746168136597,
          0.755397617816925,
          0.745040774345398,
          0.7646375894546509,
          0.7470215559005737,
          0.7472675442695618,
          0.7578821778297424,
          0.7637532353401184,
          0.7540811896324158,
          0.7646135687828064,
          0.7468785047531128,
          0.7579424977302551,
          0.7578963041305542,
          0.7716017365455627,
          0.739342451095581,
          0.7702246308326721,
          0.7702584862709045,
          0.7653258442878723,
          0.7627923488616943,
          0.7679128050804138,
          0.7600330114364624,
          0.7521120309829712,
          0.7557553052902222,
          0.759951114654541,
          0.7505183219909668,
          0.7575916647911072,
          0.7360711693763733,
          0.744533896446228,
          0.7394035458564758,
          0.7653218507766724,
          0.7553616166114807,
          0.7563679218292236,
          0.752942681312561,
          0.750771164894104,
          0.7485843896865845,
          0.7598956227302551,
          0.7455930113792419,
          0.7361353635787964,
          0.7587219476699829,
          0.7449440956115723,
          0.7648204565048218,
          0.7387915253639221,
          0.7296808958053589,
          0.7336507439613342,
          0.7333086729049683,
          0.7446001768112183,
          0.7528868913650513,
          0.753616213798523,
          0.7577196359634399,
          0.7424018383026123,
          0.7558496594429016,
          0.7260308265686035,
          0.7377489805221558,
          0.7530327439308167,
          0.7414948344230652,
          0.7373834252357483,
          0.7567310929298401,
          0.7422428131103516,
          0.7494881749153137,
          0.7322365045547485,
          0.7481557726860046,
          0.7355214357376099,
          0.749268651008606,
          0.7519999742507935,
          0.7498065829277039,
          0.7511975765228271,
          0.7483941912651062,
          0.7368746995925903,
          0.7356654405593872,
          0.7588595151901245,
          0.7389281988143921,
          0.7441820502281189,
          0.7634345293045044,
          0.7538154125213623,
          0.754128634929657,
          0.74588942527771,
          0.7331186532974243,
          0.7467111349105835,
          0.7386709451675415,
          0.7406928539276123,
          0.7491671442985535,
          0.7548148036003113,
          0.7384339570999146,
          0.7578144073486328,
          0.7461821436882019,
          0.7273643612861633,
          0.7466486096382141,
          0.7419956922531128,
          0.7387611269950867
         ]
        },
        {
         "marker": {
          "size": 3
         },
         "mode": "markers",
         "name": "gt_4",
         "type": "scatter",
         "y": [
          0.07115500420331955,
          0.07161841541528702,
          0.07155948877334595,
          0.07142195850610733,
          0.07152970880270004,
          0.07146928459405899,
          0.07145386934280396,
          0.07156820595264435,
          0.07160092890262604,
          0.07166675478219986,
          0.07175816595554352,
          0.0718846470117569,
          0.07205936312675476,
          0.07221699506044388,
          0.07235173881053925,
          0.07247541099786758,
          0.07262424379587173,
          0.07277576625347137,
          0.07290612161159515,
          0.07304838299751282,
          0.07319749891757965,
          0.07335356622934341,
          0.07351160794496536,
          0.07365532219409943,
          0.07380127161741257,
          0.07396077364683151,
          0.07413609325885773,
          0.0743107870221138,
          0.07448527216911316,
          0.07469737529754639,
          0.07492426782846451,
          0.07504088431596756,
          0.07502773404121399,
          0.07498885691165924,
          0.07500079274177551,
          0.07506691664457321,
          0.0751129686832428,
          0.07514605671167374,
          0.07523384690284729,
          0.07533399015665054,
          0.07538716495037079,
          0.07539471238851547,
          0.07535513490438461,
          0.07531275600194931,
          0.07537545263767242,
          0.07553678750991821,
          0.0756598711013794,
          0.07567663490772247,
          0.07559680938720703,
          0.07549278438091278,
          0.07548006623983383,
          0.07553848624229431,
          0.07550477236509323,
          0.07533737272024155,
          0.07518426328897476,
          0.0751255601644516,
          0.07508227974176407,
          0.07502298802137375,
          0.07501372694969177,
          0.07501399517059326,
          0.07495395839214325,
          0.07486381381750107,
          0.07477505505084991,
          0.07470482587814331,
          0.07464825361967087,
          0.07459867745637894,
          0.07456862926483154,
          0.07453959435224533,
          0.07447051256895065,
          0.07437526434659958,
          0.07430057972669601,
          0.07423864305019379,
          0.0741729736328125,
          0.07412589341402054,
          0.074098140001297,
          0.0740862488746643,
          0.07408511638641357,
          0.07401597499847412,
          0.07386714965105057,
          0.07375967502593994,
          0.07371513545513153,
          0.07366849482059479,
          0.07358904182910919,
          0.07347594946622849,
          0.07338143140077591,
          0.07335039228200912,
          0.07334838807582855,
          0.07330479472875595,
          0.07322151213884354,
          0.0731588825583458,
          0.07312701642513275,
          0.07314582914113998,
          0.07317861914634705,
          0.07309982180595398,
          0.0729617103934288,
          0.07291534543037415,
          0.07294053584337234,
          0.072926364839077,
          0.07285919040441513,
          0.07287097722291946,
          0.07302035391330719,
          0.07314746826887131,
          0.07312040776014328,
          0.07299000769853592,
          0.07287555187940598,
          0.07286444306373596,
          0.07299404591321945,
          0.07319509983062744,
          0.0732763260602951,
          0.07319296151399612,
          0.07313621044158936,
          0.07318556308746338,
          0.07324524223804474,
          0.07328667491674423,
          0.07333386689424515,
          0.07339364290237427,
          0.07347740978002548,
          0.0735749825835228,
          0.07367883622646332,
          0.07380490750074387,
          0.07392698526382446,
          0.07398360967636108,
          0.0739932581782341,
          0.0740484669804573,
          0.07416604459285736,
          0.07426727563142776,
          0.07432632893323898,
          0.0743933618068695,
          0.074480339884758,
          0.07457418739795685,
          0.07470031082630157,
          0.07485471665859222,
          0.07500097155570984,
          0.07515770196914673,
          0.0753520205616951,
          0.07553665339946747,
          0.07567553222179413,
          0.07583515346050262,
          0.07606785744428635,
          0.07629983127117157,
          0.07645720988512039,
          0.0765853151679039,
          0.07674463093280792,
          0.07690881192684174,
          0.07702372223138809,
          0.07708156853914261,
          0.07713158428668976,
          0.07722905278205872,
          0.07736093550920486,
          0.07746909558773041,
          0.07754383236169815,
          0.07763402163982391,
          0.07777926325798035,
          0.07794737815856934,
          0.07805144786834717,
          0.07806426286697388,
          0.0780445858836174,
          0.07802882790565491,
          0.07798861712217331,
          0.07791051268577576,
          0.07782687246799469,
          0.0777772068977356,
          0.07777539640665054,
          0.07778836786746979,
          0.07776670902967453,
          0.0777168795466423,
          0.07767215371131897,
          0.07761815190315247,
          0.07753187417984009,
          0.0774528980255127,
          0.07742384076118469,
          0.07741621136665344,
          0.07738206535577774,
          0.07733003795146942,
          0.07729271799325943,
          0.07727779448032379,
          0.07728374004364014,
          0.07733646035194397,
          0.07750200480222702,
          0.07783762365579605,
          0.0783025398850441,
          0.07874923944473267,
          0.07904191315174103,
          0.07915282994508743,
          0.07912183552980423,
          0.07898503541946411,
          0.07876716554164886,
          0.07849770039319992,
          0.07821222394704819,
          0.07794950902462006,
          0.07773810625076294,
          0.07758031040430069,
          0.07746095210313797,
          0.07738303393125534,
          0.07736488431692123,
          0.07739860564470291,
          0.07744146138429642,
          0.07746291905641556,
          0.07746792584657669,
          0.07746578007936478,
          0.0774555653333664,
          0.07744134217500687,
          0.07742137461900711,
          0.07738383114337921,
          0.07733425498008728,
          0.07730583846569061,
          0.07731360197067261,
          0.0773288831114769,
          0.07731911540031433,
          0.07729199528694153,
          0.07727836817502975,
          0.0772855132818222,
          0.07729818671941757,
          0.0773014947772026,
          0.07729653269052505,
          0.07729419320821762,
          0.077298104763031,
          0.07730282098054886,
          0.0773002877831459,
          0.07728832215070724,
          0.07727357000112534,
          0.07726044952869415,
          0.07724298536777496,
          0.07720492780208588,
          0.07713762670755386,
          0.07705743610858917,
          0.07698938995599747,
          0.07693822681903839,
          0.07688935101032257,
          0.07683413475751877,
          0.07677876949310303,
          0.0767403319478035,
          0.07672899216413498,
          0.07672908157110214,
          0.07670864462852478,
          0.07665865123271942,
          0.07659992575645447,
          0.07654467970132828,
          0.07648074626922607,
          0.07640386372804642,
          0.07633703202009201,
          0.07629958540201187,
          0.07628350704908371,
          0.07626692205667496,
          0.07623449712991714,
          0.07618095725774765,
          0.07610893994569778,
          0.07602974772453308,
          0.07595867663621902,
          0.07590251415967941,
          0.0758557841181755,
          0.07580824941396713,
          0.07575386762619019,
          0.07569283992052078,
          0.0756305605173111,
          0.0755770355463028,
          0.07554055750370026,
          0.07551925629377365,
          0.07549845427274704,
          0.07546225190162659,
          0.07540920376777649,
          0.07535269856452942,
          0.07530449330806732,
          0.07526461035013199,
          0.07522707432508469,
          0.07519005984067917,
          0.0751568004488945,
          0.07512668520212173,
          0.0750918760895729,
          0.07504687458276749,
          0.07499794661998749,
          0.07495582848787308,
          0.07492408901453018,
          0.07489783316850662,
          0.0748705193400383,
          0.07483968138694763,
          0.07481018453836441,
          0.07479012757539749,
          0.07477766275405884,
          0.07475712895393372,
          0.07471568137407303,
          0.07466019690036774,
          0.07460867613554001
         ]
        },
        {
         "marker": {
          "size": 3
         },
         "mode": "markers",
         "name": "pred_4",
         "type": "scatter",
         "y": [
          0.08215317130088806,
          0.06305378675460815,
          0.07145588845014572,
          0.060138627886772156,
          0.06908348202705383,
          0.06638462096452713,
          0.060215532779693604,
          0.06553980708122253,
          0.07598181068897247,
          0.06736019253730774,
          0.07036736607551575,
          0.06172353774309158,
          0.0820007249712944,
          0.07763826102018356,
          0.06579306721687317,
          0.07988423854112625,
          0.07085823267698288,
          0.06526871025562286,
          0.06632682681083679,
          0.06268905103206635,
          0.06570560485124588,
          0.07178451120853424,
          0.06589892506599426,
          0.06200827285647392,
          0.06691055744886398,
          0.07174422591924667,
          0.06727207452058792,
          0.06691502779722214,
          0.07184288650751114,
          0.07900363951921463,
          0.07614817470312119,
          0.06955668330192566,
          0.06714529544115067,
          0.06717680394649506,
          0.07582803815603256,
          0.0766768604516983,
          0.06638788431882858,
          0.08280462771654129,
          0.07964321970939636,
          0.07151992619037628,
          0.06864083558320999,
          0.07432261854410172,
          0.07397156953811646,
          0.06628698855638504,
          0.08235606551170349,
          0.06685223430395126,
          0.08228081464767456,
          0.07356386631727219,
          0.08010341972112656,
          0.06974756717681885,
          0.06505902111530304,
          0.06370606273412704,
          0.07115641236305237,
          0.0619024932384491,
          0.08908543735742569,
          0.07255811989307404,
          0.06656994670629501,
          0.05510503426194191,
          0.07343360781669617,
          0.07229869067668915,
          0.06124068796634674,
          0.06963574886322021,
          0.07563021779060364,
          0.06119200959801674,
          0.07425804436206818,
          0.07641872763633728,
          0.0754806250333786,
          0.08154022693634033,
          0.0776410773396492,
          0.05923145264387131,
          0.07896160334348679,
          0.06345006823539734,
          0.06758389621973038,
          0.07317860424518585,
          0.07176773995161057,
          0.06816060096025467,
          0.07198117673397064,
          0.07556000351905823,
          0.06583785265684128,
          0.06298041343688965,
          0.06366775929927826,
          0.06241048872470856,
          0.07323378324508667,
          0.07333460450172424,
          0.07400518655776978,
          0.07630803436040878,
          0.07616478204727173,
          0.08226796239614487,
          0.07852206379175186,
          0.07233946025371552,
          0.07671855390071869,
          0.07649421691894531,
          0.0691157802939415,
          0.06657197326421738,
          0.07647651433944702,
          0.07972029596567154,
          0.07584436237812042,
          0.08809950947761536,
          0.06608650833368301,
          0.077115997672081,
          0.07757183909416199,
          0.06878359615802765,
          0.07058221846818924,
          0.06806954741477966,
          0.07342289388179779,
          0.0820281133055687,
          0.06777102500200272,
          0.07388399541378021,
          0.0633293092250824,
          0.08096089959144592,
          0.0773957222700119,
          0.06906841695308685,
          0.07140195369720459,
          0.07207109034061432,
          0.08377572894096375,
          0.07356986403465271,
          0.07875596731901169,
          0.07059665024280548,
          0.08162348717451096,
          0.07155831158161163,
          0.06807439029216766,
          0.08003928512334824,
          0.06662502884864807,
          0.07579554617404938,
          0.07432723045349121,
          0.06696240603923798,
          0.07570833712816238,
          0.0754203051328659,
          0.06990369409322739,
          0.06918951123952866,
          0.07711205631494522,
          0.08065243810415268,
          0.07511480152606964,
          0.08317997306585312,
          0.0769101232290268,
          0.07355351746082306,
          0.07990164309740067,
          0.07399696856737137,
          0.07667282223701477,
          0.08377393335103989,
          0.07313846051692963,
          0.08015761524438858,
          0.08574268221855164,
          0.07686740159988403,
          0.08244360238313675,
          0.07075180858373642,
          0.08226308971643448,
          0.08391160517930984,
          0.07524240016937256,
          0.07868642359972,
          0.06344490498304367,
          0.07791639864444733,
          0.07501249015331268,
          0.06502166390419006,
          0.08025344461202621,
          0.0769960880279541,
          0.08341430127620697,
          0.07061716914176941,
          0.08322387933731079,
          0.08174467831850052,
          0.09054110944271088,
          0.08464474976062775,
          0.0802597776055336,
          0.0809263214468956,
          0.07815764099359512,
          0.08486893773078918,
          0.08651996403932571,
          0.07736656069755554,
          0.08204051107168198,
          0.07644043117761612,
          0.06466099619865417,
          0.07481454312801361,
          0.06927789747714996,
          0.07180890440940857,
          0.07014768570661545,
          0.09230788797140121,
          0.072689488530159,
          0.05743943154811859,
          0.0779920220375061,
          0.07151820510625839,
          0.07254288345575333,
          0.09413255751132965,
          0.08004426956176758,
          0.07039335370063782,
          0.07235449552536011,
          0.09484909474849701,
          0.07465428113937378,
          0.07942681759595871,
          0.07829885929822922,
          0.08272076398134232,
          0.07593393325805664,
          0.0640314519405365,
          0.08325992524623871,
          0.07857772707939148,
          0.06982842832803726,
          0.07462730258703232,
          0.08684366196393967,
          0.07386629283428192,
          0.08566874265670776,
          0.08320937305688858,
          0.08221985399723053,
          0.07036403566598892,
          0.08294688910245895,
          0.07356254756450653,
          0.08635807782411575,
          0.08115695416927338,
          0.07855746150016785,
          0.07017752528190613,
          0.08436541259288788,
          0.06923222541809082,
          0.07054976373910904,
          0.06966088712215424,
          0.07387091219425201,
          0.06814078986644745,
          0.07097530364990234,
          0.07442283630371094,
          0.07705069333314896,
          0.07700051367282867,
          0.07413498312234879,
          0.07759435474872589,
          0.08623849600553513,
          0.08044762909412384,
          0.08657762408256531,
          0.06788808107376099,
          0.07230453193187714,
          0.07566846907138824,
          0.07492136210203171,
          0.07919919490814209,
          0.07342220097780228,
          0.07002315670251846,
          0.0781870037317276,
          0.08473911881446838,
          0.06868980824947357,
          0.07908450812101364,
          0.06746436655521393,
          0.07495932281017303,
          0.0864042416214943,
          0.08466079831123352,
          0.08216211199760437,
          0.08158890902996063,
          0.07135961204767227,
          0.06870903074741364,
          0.06711052358150482,
          0.08037711679935455,
          0.07195860892534256,
          0.08803942799568176,
          0.07803885638713837,
          0.0666295737028122,
          0.07310512661933899,
          0.07954870909452438,
          0.06685303896665573,
          0.07044863700866699,
          0.06922856718301773,
          0.07731156796216965,
          0.06608669459819794,
          0.07521054893732071,
          0.06417278200387955,
          0.07210806757211685,
          0.06768382340669632,
          0.0695548802614212,
          0.06949575990438461,
          0.0767664760351181,
          0.07936090230941772,
          0.05844469740986824,
          0.07334739714860916,
          0.07133857905864716,
          0.06670570373535156,
          0.06532449275255203,
          0.06464256346225739,
          0.06903785467147827,
          0.07771595567464828,
          0.06627912819385529,
          0.0726294219493866,
          0.0693945661187172,
          0.061966005712747574,
          0.06416364759206772,
          0.07159121334552765,
          0.06536801904439926,
          0.06535639613866806,
          0.07713410258293152,
          0.06818955391645432,
          0.07119008153676987,
          0.07122232764959335
         ]
        },
        {
         "marker": {
          "size": 3
         },
         "mode": "markers",
         "name": "gt_5",
         "type": "scatter",
         "y": [
          0.12174681574106216,
          0.1213720515370369,
          0.12136436253786087,
          0.12128719687461853,
          0.12129557132720947,
          0.1212565153837204,
          0.12126254290342331,
          0.1213187500834465,
          0.12130358070135117,
          0.12129015475511551,
          0.12129086256027222,
          0.12129880487918854,
          0.12133108079433441,
          0.12134011834859848,
          0.121320940554142,
          0.12131191790103912,
          0.12132444977760315,
          0.12133001536130905,
          0.12133356928825378,
          0.1213507428765297,
          0.12136975675821304,
          0.12139713019132614,
          0.12142916768789291,
          0.12145978957414627,
          0.12149758636951447,
          0.12154718488454819,
          0.12161468714475632,
          0.12169265747070312,
          0.12178011238574982,
          0.12190588563680649,
          0.12206021696329117,
          0.12214149534702301,
          0.12212920188903809,
          0.12210134416818619,
          0.1221112310886383,
          0.1221630722284317,
          0.12220089137554169,
          0.12222940474748611,
          0.12230940163135529,
          0.12240361422300339,
          0.12245496362447739,
          0.12246371805667877,
          0.12242792546749115,
          0.12239156663417816,
          0.12246217578649521,
          0.12263661623001099,
          0.12277376651763916,
          0.12278972566127777,
          0.12269032746553421,
          0.12256819754838943,
          0.12255378067493439,
          0.12262063473463058,
          0.12259271740913391,
          0.12242531776428223,
          0.1222756877541542,
          0.12222171574831009,
          0.12218416482210159,
          0.12214839458465576,
          0.12215776741504669,
          0.12214843183755875,
          0.12209182977676392,
          0.12203758955001831,
          0.12198550254106522,
          0.12193580716848373,
          0.12190032750368118,
          0.1218818798661232,
          0.12192380428314209,
          0.1220289021730423,
          0.12205301225185394,
          0.12194462865591049,
          0.12182916700839996,
          0.1217651441693306,
          0.12174883484840393,
          0.12177871912717819,
          0.12178903818130493,
          0.12177924066781998,
          0.1218140497803688,
          0.12179146707057953,
          0.12167787551879883,
          0.12164364755153656,
          0.12167934328317642,
          0.12166877835988998,
          0.12161235511302948,
          0.12153823673725128,
          0.12153835594654083,
          0.12180378288030624,
          0.12236529588699341,
          0.12290576100349426,
          0.12313517183065414,
          0.1232249066233635,
          0.12353868782520294,
          0.1240868791937828,
          0.12443699687719345,
          0.12434371560811996,
          0.12414374947547913,
          0.12412111461162567,
          0.12413209676742554,
          0.12401904165744781,
          0.1239040344953537,
          0.12404817342758179,
          0.12433342635631561,
          0.12430442124605179,
          0.1239180788397789,
          0.12353463470935822,
          0.12335669994354248,
          0.12334688752889633,
          0.12346683442592621,
          0.12364353984594345,
          0.12361392378807068,
          0.12336590141057968,
          0.12324567884206772,
          0.12326443940401077,
          0.12318949401378632,
          0.1230691596865654,
          0.12298867106437683,
          0.12293572723865509,
          0.12295500189065933,
          0.1230200007557869,
          0.12307003140449524,
          0.12313897162675858,
          0.12317657470703125,
          0.12303365767002106,
          0.1227695569396019,
          0.122635617852211,
          0.12267569452524185,
          0.12268140912055969,
          0.12258537113666534,
          0.12251291424036026,
          0.12248031795024872,
          0.12244412302970886,
          0.12246806174516678,
          0.12254252284765244,
          0.12257259339094162,
          0.12261617183685303,
          0.12279582768678665,
          0.12305456399917603,
          0.12325246632099152,
          0.12342333048582077,
          0.12369658797979355,
          0.12402188032865524,
          0.12425793707370758,
          0.12446100264787674,
          0.12476275116205215,
          0.1250961869955063,
          0.12531259655952454,
          0.12540651857852936,
          0.1254991739988327,
          0.12568412721157074,
          0.12592695653438568,
          0.12613432109355927,
          0.126292884349823,
          0.12648434937000275,
          0.12678520381450653,
          0.12713588774204254,
          0.12735745310783386,
          0.1273895651102066,
          0.127350315451622,
          0.12731502950191498,
          0.12722700834274292,
          0.12705999612808228,
          0.12688107788562775,
          0.12677128612995148,
          0.12675946950912476,
          0.126779243350029,
          0.1267322450876236,
          0.12663160264492035,
          0.12653788924217224,
          0.12641505897045135,
          0.12622058391571045,
          0.1260436326265335,
          0.12597349286079407,
          0.12595123052597046,
          0.1258784532546997,
          0.12577110528945923,
          0.12569501996040344,
          0.12566782534122467,
          0.1256866455078125,
          0.125804141163826,
          0.1261637657880783,
          0.1268940269947052,
          0.12790696322917938,
          0.12887872755527496,
          0.12951432168483734,
          0.12975746393203735,
          0.12969613075256348,
          0.12940533459186554,
          0.12893399596214294,
          0.12834428250789642,
          0.12771594524383545,
          0.12713772058486938,
          0.12667417526245117,
          0.1263304054737091,
          0.12607280910015106,
          0.12590646743774414,
          0.12586943805217743,
          0.12594245374202728,
          0.12602952122688293,
          0.1260637640953064,
          0.12606218457221985,
          0.12605322897434235,
          0.12603379786014557,
          0.12600752711296082,
          0.1259722113609314,
          0.12590493261814117,
          0.12581074237823486,
          0.1257513016462326,
          0.1257588416337967,
          0.12578020989894867,
          0.12575359642505646,
          0.1256980299949646,
          0.1256764829158783,
          0.12569935619831085,
          0.12573017179965973,
          0.12573523819446564,
          0.12571610510349274,
          0.12569917738437653,
          0.12569986283779144,
          0.1257111132144928,
          0.1257123202085495,
          0.12569154798984528,
          0.12566061317920685,
          0.12563391029834747,
          0.12560315430164337,
          0.125532329082489,
          0.12539911270141602,
          0.12523497641086578,
          0.12509213387966156,
          0.1249818354845047,
          0.12487681955099106,
          0.12476302683353424,
          0.12465350329875946,
          0.12457899004220963,
          0.12455712258815765,
          0.12455885857343674,
          0.12452338635921478,
          0.12443085759878159,
          0.12431894987821579,
          0.1242133304476738,
          0.12409466505050659,
          0.12395364791154861,
          0.12383026629686356,
          0.12376280874013901,
          0.12373975664377213,
          0.12371799349784851,
          0.12366446107625961,
          0.12357116490602493,
          0.12344904243946075,
          0.12332119047641754,
          0.12321197241544724,
          0.123129703104496,
          0.12306433916091919,
          0.12299978733062744,
          0.12292750179767609,
          0.1228484958410263,
          0.12276966869831085,
          0.12270268052816391,
          0.12265630066394806,
          0.12262792140245438,
          0.1226019561290741,
          0.12256154417991638,
          0.12250425666570663,
          0.12244334816932678,
          0.1223917007446289,
          0.12235077470541,
          0.12231452018022537,
          0.12227929383516312,
          0.12224685400724411,
          0.12221760302782059,
          0.12218642979860306,
          0.12214896827936172,
          0.12210926413536072,
          0.12207499146461487,
          0.12204878777265549,
          0.12202721834182739,
          0.12200591713190079,
          0.12198320776224136,
          0.12196190655231476,
          0.12194706499576569,
          0.12193766236305237,
          0.12192351371049881,
          0.12189590185880661,
          0.12185925990343094,
          0.12182583659887314
         ]
        },
        {
         "marker": {
          "size": 3
         },
         "mode": "markers",
         "name": "pred_5",
         "type": "scatter",
         "y": [
          0.12445199489593506,
          0.11869385838508606,
          0.11821567267179489,
          0.11617511510848999,
          0.11863148212432861,
          0.11737894266843796,
          0.11293530464172363,
          0.11545978486537933,
          0.12383288145065308,
          0.11592797189950943,
          0.11918723583221436,
          0.1151711642742157,
          0.12351612001657486,
          0.1215713769197464,
          0.11794785410165787,
          0.1262720376253128,
          0.11884914338588715,
          0.11705678701400757,
          0.11910045146942139,
          0.11724607646465302,
          0.11635736376047134,
          0.1230178251862526,
          0.11649873852729797,
          0.11895154416561127,
          0.1194513812661171,
          0.11932580918073654,
          0.11609571427106857,
          0.12113086134195328,
          0.12134941667318344,
          0.12351381033658981,
          0.12222488224506378,
          0.11856153607368469,
          0.12141501903533936,
          0.11969296634197235,
          0.12208358943462372,
          0.11996723711490631,
          0.11988160759210587,
          0.12323236465454102,
          0.1246907114982605,
          0.1231507807970047,
          0.12110381573438644,
          0.12499236315488815,
          0.11988366395235062,
          0.12264223396778107,
          0.12444678694009781,
          0.12325306981801987,
          0.13132739067077637,
          0.12486883252859116,
          0.1262158900499344,
          0.1194625198841095,
          0.11794991791248322,
          0.11393824964761734,
          0.1225397065281868,
          0.1196669489145279,
          0.13415026664733887,
          0.12658461928367615,
          0.11886052042245865,
          0.11682119220495224,
          0.12468604743480682,
          0.12251927703619003,
          0.11626818031072617,
          0.12031415104866028,
          0.12718631327152252,
          0.11763369292020798,
          0.12285393476486206,
          0.12322360277175903,
          0.12251132726669312,
          0.12610983848571777,
          0.1254904419183731,
          0.12139525264501572,
          0.1257215440273285,
          0.11857365071773529,
          0.12174851447343826,
          0.12294940650463104,
          0.12613075971603394,
          0.12443794310092926,
          0.12130190432071686,
          0.12409664690494537,
          0.12314264476299286,
          0.11801712214946747,
          0.11376411467790604,
          0.12310389429330826,
          0.12118460983037949,
          0.12804895639419556,
          0.12080986797809601,
          0.12508340179920197,
          0.12615682184696198,
          0.12750226259231567,
          0.1267145276069641,
          0.12108693271875381,
          0.12203444540500641,
          0.12699705362319946,
          0.12594972550868988,
          0.12304242700338364,
          0.12452548742294312,
          0.12334754317998886,
          0.12886977195739746,
          0.130238875746727,
          0.12427075952291489,
          0.13506528735160828,
          0.12891438603401184,
          0.12282867729663849,
          0.12355580180883408,
          0.1297372430562973,
          0.122025266289711,
          0.12588049471378326,
          0.12131663411855698,
          0.12342239916324615,
          0.1251138597726822,
          0.1270904541015625,
          0.12772037088871002,
          0.12538914382457733,
          0.12933282554149628,
          0.1229766309261322,
          0.12932419776916504,
          0.12147195637226105,
          0.12615163624286652,
          0.12405255436897278,
          0.13004592061042786,
          0.1258888989686966,
          0.12602289021015167,
          0.1341112107038498,
          0.12410132586956024,
          0.12554199993610382,
          0.12454879283905029,
          0.1256524622440338,
          0.12418314814567566,
          0.12488692998886108,
          0.1262277364730835,
          0.12648020684719086,
          0.12529189884662628,
          0.12378308922052383,
          0.12433210015296936,
          0.12553468346595764,
          0.1236034631729126,
          0.12173278629779816,
          0.13120652735233307,
          0.12512604892253876,
          0.13024446368217468,
          0.12993520498275757,
          0.1264188438653946,
          0.12593315541744232,
          0.13047340512275696,
          0.12631896138191223,
          0.12968958914279938,
          0.12602870166301727,
          0.12914423644542694,
          0.130680114030838,
          0.1331266164779663,
          0.12899939715862274,
          0.12540969252586365,
          0.12764988839626312,
          0.12758579850196838,
          0.12836970388889313,
          0.13203585147857666,
          0.12186773866415024,
          0.12930655479431152,
          0.12557679414749146,
          0.13058196008205414,
          0.13070283830165863,
          0.13376280665397644,
          0.12620507180690765,
          0.1283455491065979,
          0.13304764032363892,
          0.13210803270339966,
          0.1289549469947815,
          0.1295589804649353,
          0.13072046637535095,
          0.13074758648872375,
          0.12347281724214554,
          0.12411679327487946,
          0.1262696236371994,
          0.12443134933710098,
          0.12507212162017822,
          0.1258242428302765,
          0.1307268887758255,
          0.12496975064277649,
          0.12252795696258545,
          0.1347455084323883,
          0.12713079154491425,
          0.12695573270320892,
          0.13489137589931488,
          0.13302674889564514,
          0.12979546189308167,
          0.12855187058448792,
          0.13812369108200073,
          0.1293095201253891,
          0.13361003994941711,
          0.13290975987911224,
          0.12986797094345093,
          0.12941782176494598,
          0.12184102833271027,
          0.12964381277561188,
          0.12801235914230347,
          0.12346292287111282,
          0.1221863329410553,
          0.13160234689712524,
          0.1274299919605255,
          0.13207387924194336,
          0.12984704971313477,
          0.13503290712833405,
          0.12241650372743607,
          0.129231795668602,
          0.12952932715415955,
          0.13281652331352234,
          0.1268896460533142,
          0.1290322244167328,
          0.12435679137706757,
          0.12941761314868927,
          0.12511895596981049,
          0.12682044506072998,
          0.12381699681282043,
          0.12889643013477325,
          0.12252594530582428,
          0.12358596920967102,
          0.12298282980918884,
          0.12403442710638046,
          0.1255924105644226,
          0.12401767075061798,
          0.12852399051189423,
          0.13116103410720825,
          0.12973293662071228,
          0.13073447346687317,
          0.12084484100341797,
          0.12473664432764053,
          0.1282535195350647,
          0.12399449944496155,
          0.1283208280801773,
          0.12361003458499908,
          0.12404891848564148,
          0.12593179941177368,
          0.129705011844635,
          0.12306840717792511,
          0.12794707715511322,
          0.1250191181898117,
          0.12302184849977493,
          0.1284944713115692,
          0.12810882925987244,
          0.1225699782371521,
          0.12503616511821747,
          0.12468545883893967,
          0.12453041225671768,
          0.12014362215995789,
          0.12799561023712158,
          0.12614279985427856,
          0.1285335123538971,
          0.12287873774766922,
          0.12270477414131165,
          0.12208564579486847,
          0.12764409184455872,
          0.12196142971515656,
          0.12161090970039368,
          0.12018194794654846,
          0.12341607362031937,
          0.12159851938486099,
          0.12245289981365204,
          0.12089469283819199,
          0.12715476751327515,
          0.11950663477182388,
          0.11929026991128922,
          0.1191287562251091,
          0.11919615417718887,
          0.12346756458282471,
          0.11377348005771637,
          0.12316882610321045,
          0.12364594638347626,
          0.1197090744972229,
          0.11980179697275162,
          0.11759369820356369,
          0.12061658501625061,
          0.12466927617788315,
          0.11883430182933807,
          0.11888744682073593,
          0.11939533799886703,
          0.11541441082954407,
          0.11917214840650558,
          0.12142369151115417,
          0.12766622006893158,
          0.11305838078260422,
          0.12127881497144699,
          0.11836650222539902,
          0.11902112513780594,
          0.11934927105903625
         ]
        },
        {
         "marker": {
          "size": 3
         },
         "mode": "markers",
         "name": "gt_6",
         "type": "scatter",
         "y": [
          0.19315217435359955,
          0.18937847018241882,
          0.1870228350162506,
          0.186688631772995,
          0.18390290439128876,
          0.18076640367507935,
          0.18312683701515198,
          0.1892879605293274,
          0.18970434367656708,
          0.18791146576404572,
          0.18796396255493164,
          0.18797942996025085,
          0.18881669640541077,
          0.18824777007102966,
          0.18642881512641907,
          0.18595382571220398,
          0.18768776953220367,
          0.18905800580978394,
          0.190342977643013,
          0.19239622354507446,
          0.19419947266578674,
          0.1960688829421997,
          0.19748558104038239,
          0.19860544800758362,
          0.2004847377538681,
          0.20203395187854767,
          0.20408117771148682,
          0.20675978064537048,
          0.20930711925029755,
          0.21480004489421844,
          0.2205541431903839,
          0.22117842733860016,
          0.21912424266338348,
          0.21763703227043152,
          0.21849282085895538,
          0.22125126421451569,
          0.22252318263053894,
          0.22247514128684998,
          0.2236892282962799,
          0.22548170387744904,
          0.22649843990802765,
          0.22641202807426453,
          0.2246427834033966,
          0.22294995188713074,
          0.22365368902683258,
          0.22608332335948944,
          0.22904528677463531,
          0.23099900782108307,
          0.22980041801929474,
          0.2283555269241333,
          0.22997736930847168,
          0.2312949150800705,
          0.2291455864906311,
          0.22464551031589508,
          0.2209557443857193,
          0.2203943133354187,
          0.22072063386440277,
          0.21989890933036804,
          0.2200125902891159,
          0.22051280736923218,
          0.21932338178157806,
          0.2174227088689804,
          0.21552231907844543,
          0.2139136791229248,
          0.21291682124137878,
          0.2122078388929367,
          0.21136780083179474,
          0.2099800407886505,
          0.20830002427101135,
          0.20687367022037506,
          0.20585955679416656,
          0.20540882647037506,
          0.2051522582769394,
          0.20461952686309814,
          0.20444625616073608,
          0.2052781879901886,
          0.20633161067962646,
          0.20628482103347778,
          0.20518779754638672,
          0.20462685823440552,
          0.20508496463298798,
          0.20513440668582916,
          0.203793466091156,
          0.20170997083187103,
          0.20084847509860992,
          0.20279830694198608,
          0.20702239871025085,
          0.2115204781293869,
          0.21403194963932037,
          0.2148664891719818,
          0.21803595125675201,
          0.22383078932762146,
          0.2260332554578781,
          0.22287091612815857,
          0.21972520649433136,
          0.21874438226222992,
          0.21763743460178375,
          0.2152356207370758,
          0.21292978525161743,
          0.21386143565177917,
          0.21722452342510223,
          0.21741922199726105,
          0.21357205510139465,
          0.21028254926204681,
          0.20959381759166718,
          0.21042190492153168,
          0.21256178617477417,
          0.2152782827615738,
          0.21535450220108032,
          0.21323272585868835,
          0.21329638361930847,
          0.21461272239685059,
          0.21355322003364563,
          0.2113281935453415,
          0.2098429948091507,
          0.20874164998531342,
          0.20798468589782715,
          0.20730575919151306,
          0.20617391169071198,
          0.20502112805843353,
          0.20379212498664856,
          0.2016785591840744,
          0.1990564912557602,
          0.197312593460083,
          0.19668683409690857,
          0.19622713327407837,
          0.19583581387996674,
          0.1960877776145935,
          0.19655050337314606,
          0.19668446481227875,
          0.1970478743314743,
          0.19794172048568726,
          0.1990785449743271,
          0.20067419111728668,
          0.20268648862838745,
          0.20411047339439392,
          0.20482511818408966,
          0.2064233124256134,
          0.2095639407634735,
          0.21254652738571167,
          0.2142433375120163,
          0.21585309505462646,
          0.21845020353794098,
          0.22131656110286713,
          0.22334520518779755,
          0.2243226319551468,
          0.22514450550079346,
          0.22697149217128754,
          0.22961153090000153,
          0.231913760304451,
          0.2337920367717743,
          0.23643463850021362,
          0.24069134891033173,
          0.24561233818531036,
          0.24881671369075775,
          0.24948231875896454,
          0.24937666952610016,
          0.24978022277355194,
          0.2497308999300003,
          0.24831855297088623,
          0.24636852741241455,
          0.24558734893798828,
          0.2468230426311493,
          0.24875053763389587,
          0.249233216047287,
          0.24832864105701447,
          0.2474663406610489,
          0.2465275526046753,
          0.24473975598812103,
          0.24313130974769592,
          0.24286958575248718,
          0.2430030107498169,
          0.24213968217372894,
          0.2405713051557541,
          0.23903220891952515,
          0.23747600615024567,
          0.2360052764415741,
          0.23605012893676758,
          0.2401520162820816,
          0.24955995380878448,
          0.2615797519683838,
          0.2708784341812134,
          0.2741592526435852,
          0.272238165140152,
          0.2674756348133087,
          0.26151809096336365,
          0.2555035948753357,
          0.25044339895248413,
          0.2468029111623764,
          0.24437861144542694,
          0.242607980966568,
          0.2410140186548233,
          0.2395576536655426,
          0.23896431922912598,
          0.23999758064746857,
          0.24216876924037933,
          0.24387621879577637,
          0.24428308010101318,
          0.2439528852701187,
          0.24352093040943146,
          0.24310408532619476,
          0.24282211065292358,
          0.2425868809223175,
          0.24207234382629395,
          0.24141420423984528,
          0.24137450754642487,
          0.24223297834396362,
          0.2432624101638794,
          0.24348078668117523,
          0.24265140295028687,
          0.241348534822464,
          0.2402583360671997,
          0.23975875973701477,
          0.23973801732063293,
          0.24004358053207397,
          0.2406499832868576,
          0.2411843240261078,
          0.24108906090259552,
          0.24024242162704468,
          0.23900924623012543,
          0.23777954280376434,
          0.2366887331008911,
          0.23583361506462097,
          0.23522590100765228,
          0.234648659825325,
          0.2338676154613495,
          0.2329193502664566,
          0.2319345772266388,
          0.23096178472042084,
          0.23005445301532745,
          0.22925613820552826,
          0.228702113032341,
          0.2284841537475586,
          0.22833934426307678,
          0.22778429090976715,
          0.22678938508033752,
          0.2259136438369751,
          0.22547028958797455,
          0.22501349449157715,
          0.2240845412015915,
          0.22301974892616272,
          0.2224334180355072,
          0.2223413735628128,
          0.22225220501422882,
          0.22181245684623718,
          0.22101108729839325,
          0.22002120316028595,
          0.2190951406955719,
          0.2183995097875595,
          0.21779954433441162,
          0.2171194702386856,
          0.21648046374320984,
          0.2160537838935852,
          0.21567867696285248,
          0.21518422663211823,
          0.21485058963298798,
          0.21506944298744202,
          0.21567794680595398,
          0.21594800055027008,
          0.21540744602680206,
          0.21440866589546204,
          0.21365489065647125,
          0.21333757042884827,
          0.2130988985300064,
          0.21267558634281158,
          0.21221549808979034,
          0.21190768480300903,
          0.2115774303674698,
          0.21091890335083008,
          0.21003328263759613,
          0.20949314534664154,
          0.2096526175737381,
          0.2101382613182068,
          0.21024595201015472,
          0.2097938060760498,
          0.20930704474449158,
          0.20937445759773254,
          0.2099861204624176,
          0.21058735251426697,
          0.21064965426921844,
          0.2101340889930725,
          0.209397554397583,
          0.2087353765964508
         ]
        },
        {
         "marker": {
          "size": 3
         },
         "mode": "markers",
         "name": "pred_6",
         "type": "scatter",
         "y": [
          0.2254575788974762,
          0.20301707088947296,
          0.21648752689361572,
          0.2035069465637207,
          0.21512219309806824,
          0.21212594211101532,
          0.20492634177207947,
          0.20783470571041107,
          0.21721860766410828,
          0.2151525467634201,
          0.21283195912837982,
          0.20377080142498016,
          0.23046544194221497,
          0.22119858860969543,
          0.21191100776195526,
          0.21257606148719788,
          0.21406537294387817,
          0.2060374766588211,
          0.20627254247665405,
          0.20682393014431,
          0.2184198796749115,
          0.20702694356441498,
          0.21026700735092163,
          0.20038925111293793,
          0.21359726786613464,
          0.21526211500167847,
          0.21761882305145264,
          0.20263494551181793,
          0.22305050492286682,
          0.2294768989086151,
          0.22497600317001343,
          0.22064511477947235,
          0.21318411827087402,
          0.21515077352523804,
          0.23411604762077332,
          0.23959468305110931,
          0.22835466265678406,
          0.24507248401641846,
          0.23227143287658691,
          0.21551068127155304,
          0.2161996066570282,
          0.22808922827243805,
          0.23577335476875305,
          0.212112694978714,
          0.23528099060058594,
          0.19948039948940277,
          0.22146159410476685,
          0.22513458132743835,
          0.23864053189754486,
          0.22496464848518372,
          0.22449550032615662,
          0.2337137907743454,
          0.21899554133415222,
          0.1995498090982437,
          0.22132164239883423,
          0.21100889146327972,
          0.21524733304977417,
          0.19338427484035492,
          0.2168778032064438,
          0.21473605930805206,
          0.20783355832099915,
          0.22171536087989807,
          0.22060316801071167,
          0.20145371556282043,
          0.22153836488723755,
          0.23119324445724487,
          0.2332116961479187,
          0.23738835752010345,
          0.22309371829032898,
          0.1968270093202591,
          0.2235376387834549,
          0.200505793094635,
          0.20817209780216217,
          0.21911749243736267,
          0.2113083004951477,
          0.1971174031496048,
          0.22304148972034454,
          0.22481423616409302,
          0.2050652801990509,
          0.20736949145793915,
          0.22625738382339478,
          0.20233692228794098,
          0.22502407431602478,
          0.20062775909900665,
          0.23067720234394073,
          0.2195604294538498,
          0.2230183631181717,
          0.22636975347995758,
          0.2271290123462677,
          0.21929112076759338,
          0.2417600005865097,
          0.2332017719745636,
          0.21274664998054504,
          0.21399332582950592,
          0.22537465393543243,
          0.23616842925548553,
          0.22227533161640167,
          0.24754698574543,
          0.2093154340982437,
          0.20915314555168152,
          0.2165347933769226,
          0.21983422338962555,
          0.22034628689289093,
          0.18717196583747864,
          0.23133838176727295,
          0.24018530547618866,
          0.21174582839012146,
          0.229975163936615,
          0.19974738359451294,
          0.23080933094024658,
          0.2230600267648697,
          0.2028065025806427,
          0.2074616700410843,
          0.21888619661331177,
          0.23401567339897156,
          0.23123674094676971,
          0.22563782334327698,
          0.20858798921108246,
          0.21230441331863403,
          0.20898987352848053,
          0.20407915115356445,
          0.20779627561569214,
          0.20879912376403809,
          0.21987539529800415,
          0.22447369992733002,
          0.20101690292358398,
          0.2218666523694992,
          0.2234981209039688,
          0.19767458736896515,
          0.1995282620191574,
          0.2240564525127411,
          0.23526251316070557,
          0.22075918316841125,
          0.23889310657978058,
          0.22023427486419678,
          0.2359483540058136,
          0.21259725093841553,
          0.2140258401632309,
          0.21777887642383575,
          0.233170285820961,
          0.22003234922885895,
          0.24152691662311554,
          0.23969438672065735,
          0.2197432518005371,
          0.22532406449317932,
          0.21073296666145325,
          0.22945836186408997,
          0.22309298813343048,
          0.19693928956985474,
          0.2302006185054779,
          0.20651692152023315,
          0.22777105867862701,
          0.22419507801532745,
          0.20344941318035126,
          0.22332967817783356,
          0.2528071999549866,
          0.2398834228515625,
          0.22377191483974457,
          0.24049842357635498,
          0.24617239832878113,
          0.252753347158432,
          0.24585862457752228,
          0.24288110435009003,
          0.23027560114860535,
          0.22817230224609375,
          0.24621936678886414,
          0.2491075098514557,
          0.22312502562999725,
          0.2335425317287445,
          0.24533188343048096,
          0.21218657493591309,
          0.2290143221616745,
          0.22716401517391205,
          0.22708147764205933,
          0.22173942625522614,
          0.25801345705986023,
          0.2310517430305481,
          0.1900387853384018,
          0.2074611932039261,
          0.2247849404811859,
          0.23549313843250275,
          0.2664200961589813,
          0.2422391027212143,
          0.21884886920452118,
          0.23591157793998718,
          0.2573769688606262,
          0.23057593405246735,
          0.22499606013298035,
          0.22370053827762604,
          0.23941224813461304,
          0.2238335758447647,
          0.20271845161914825,
          0.23214909434318542,
          0.22949692606925964,
          0.22475050389766693,
          0.23622384667396545,
          0.24920189380645752,
          0.2257307767868042,
          0.2433210015296936,
          0.24455757439136505,
          0.21890541911125183,
          0.23019929230213165,
          0.22885948419570923,
          0.22247374057769775,
          0.24044063687324524,
          0.2435905933380127,
          0.2227940410375595,
          0.2258741557598114,
          0.24156111478805542,
          0.22299878299236298,
          0.22271719574928284,
          0.2239532619714737,
          0.22497057914733887,
          0.22887323796749115,
          0.22674421966075897,
          0.2355993241071701,
          0.24959711730480194,
          0.23058046400547028,
          0.23425303399562836,
          0.22243237495422363,
          0.23385348916053772,
          0.23584218323230743,
          0.25237634778022766,
          0.22452010214328766,
          0.22284352779388428,
          0.22373691201210022,
          0.2234269082546234,
          0.2427876889705658,
          0.2205410599708557,
          0.21938638389110565,
          0.22925783693790436,
          0.2356843501329422,
          0.22149401903152466,
          0.22558991611003876,
          0.2080322802066803,
          0.23264507949352264,
          0.24135418236255646,
          0.23134681582450867,
          0.24311880767345428,
          0.23322951793670654,
          0.21717290580272675,
          0.21501556038856506,
          0.216615229845047,
          0.22388242185115814,
          0.20452281832695007,
          0.24197202920913696,
          0.23446989059448242,
          0.21384197473526,
          0.2245740443468094,
          0.22513580322265625,
          0.20286160707473755,
          0.21643692255020142,
          0.21569620072841644,
          0.23353031277656555,
          0.2113989144563675,
          0.2347000539302826,
          0.20016388595104218,
          0.20295964181423187,
          0.22352570295333862,
          0.21494324505329132,
          0.21397121250629425,
          0.23222482204437256,
          0.22802069783210754,
          0.21452906727790833,
          0.2261471152305603,
          0.21555954217910767,
          0.1965693235397339,
          0.2091725915670395,
          0.21214339137077332,
          0.21335038542747498,
          0.2238875776529312,
          0.2089499533176422,
          0.2221774011850357,
          0.22037586569786072,
          0.2125285118818283,
          0.2012668251991272,
          0.21653464436531067,
          0.18770228326320648,
          0.2157982438802719,
          0.22493025660514832,
          0.21824023127555847,
          0.22290802001953125,
          0.22188320755958557
         ]
        },
        {
         "marker": {
          "size": 3
         },
         "mode": "markers",
         "name": "gt_7",
         "type": "scatter",
         "y": [
          0.4949282109737396,
          0.5158827304840088,
          0.5101879239082336,
          0.5054380893707275,
          0.5106852650642395,
          0.5064989924430847,
          0.5021470189094543,
          0.5040547251701355,
          0.4999532699584961,
          0.49634870886802673,
          0.4950321316719055,
          0.4934068024158478,
          0.49319353699684143,
          0.4909755289554596,
          0.4882522225379944,
          0.4867861568927765,
          0.48609793186187744,
          0.48536357283592224,
          0.48423683643341064,
          0.48379597067832947,
          0.48315685987472534,
          0.4843200743198395,
          0.4846595823764801,
          0.48446962237358093,
          0.4852433502674103,
          0.48420780897140503,
          0.4825376272201538,
          0.4821389317512512,
          0.4824376702308655,
          0.48431748151779175,
          0.48729217052459717,
          0.48808494210243225,
          0.487608939409256,
          0.48750415444374084,
          0.4876665771007538,
          0.4882676899433136,
          0.4884205758571625,
          0.4878574013710022,
          0.48883962631225586,
          0.4908052980899811,
          0.4907478094100952,
          0.490694135427475,
          0.4931008219718933,
          0.49497294425964355,
          0.4945625960826874,
          0.49451524019241333,
          0.49586158990859985,
          0.49619507789611816,
          0.49498438835144043,
          0.49502328038215637,
          0.4966946542263031,
          0.4992251694202423,
          0.4997667968273163,
          0.49748489260673523,
          0.49642497301101685,
          0.496207594871521,
          0.4951108396053314,
          0.4956943392753601,
          0.497981458902359,
          0.4979717433452606,
          0.498104989528656,
          0.5009161233901978,
          0.5029520988464355,
          0.5030299425125122,
          0.5039045214653015,
          0.5080845355987549,
          0.5137370824813843,
          0.5184229016304016,
          0.5208088159561157,
          0.519626259803772,
          0.5157282948493958,
          0.512773871421814,
          0.5144336819648743,
          0.5182821750640869,
          0.5189093947410583,
          0.5182806849479675,
          0.5201875567436218,
          0.5212593078613281,
          0.520023763179779,
          0.5195351839065552,
          0.5195376873016357,
          0.519423246383667,
          0.5182985067367554,
          0.515519917011261,
          0.5149053335189819,
          0.5186877846717834,
          0.52345210313797,
          0.5265076160430908,
          0.528401255607605,
          0.52985680103302,
          0.5317496657371521,
          0.535390317440033,
          0.5378943085670471,
          0.5346841216087341,
          0.5290089249610901,
          0.5274169445037842,
          0.5298371315002441,
          0.5307732224464417,
          0.5276727676391602,
          0.5263100266456604,
          0.5312818884849548,
          0.5371760129928589,
          0.5373950600624084,
          0.5317974090576172,
          0.525144100189209,
          0.5234827995300293,
          0.5295717716217041,
          0.5381314754486084,
          0.5385521054267883,
          0.5307435989379883,
          0.525745153427124,
          0.5257585644721985,
          0.5249962210655212,
          0.5230780839920044,
          0.5213583707809448,
          0.5199541449546814,
          0.5202017426490784,
          0.5219433903694153,
          0.5235946774482727,
          0.5250436067581177,
          0.5266731381416321,
          0.527104914188385,
          0.5250939130783081,
          0.5234025716781616,
          0.5247738361358643,
          0.5258211493492126,
          0.5240405201911926,
          0.5228603482246399,
          0.5230237245559692,
          0.5220167636871338,
          0.5202151536941528,
          0.5175192356109619,
          0.5134729743003845,
          0.5121257901191711,
          0.5165179371833801,
          0.522715151309967,
          0.5249379277229309,
          0.5225487947463989,
          0.5197634100914001,
          0.5187827944755554,
          0.5174388885498047,
          0.5157167315483093,
          0.5156846642494202,
          0.5147282481193542,
          0.5106439590454102,
          0.5078800320625305,
          0.5088828802108765,
          0.5093732476234436,
          0.5075416564941406,
          0.5065842270851135,
          0.507328987121582,
          0.5083774924278259,
          0.5102866291999817,
          0.5130810737609863,
          0.514928936958313,
          0.5155636072158813,
          0.5164304375648499,
          0.5179464221000671,
          0.5191351771354675,
          0.5190045833587646,
          0.5172083973884583,
          0.5152008533477783,
          0.5153446197509766,
          0.5168575048446655,
          0.51631760597229,
          0.5135338306427002,
          0.5116716623306274,
          0.5118101835250854,
          0.5120076537132263,
          0.5109561681747437,
          0.5092114210128784,
          0.5077807903289795,
          0.5073735117912292,
          0.5077897906303406,
          0.5077362060546875,
          0.5064058303833008,
          0.505084216594696,
          0.5061174035072327,
          0.5105562210083008,
          0.5173115730285645,
          0.5241190195083618,
          0.5287095904350281,
          0.5297460556030273,
          0.5275964140892029,
          0.5238727331161499,
          0.5198875665664673,
          0.515742301940918,
          0.511496365070343,
          0.5084198713302612,
          0.5073549151420593,
          0.5072925090789795,
          0.5069004893302917,
          0.5067232847213745,
          0.5084101557731628,
          0.5118086338043213,
          0.5144442915916443,
          0.5142611265182495,
          0.5118827819824219,
          0.5092913508415222,
          0.5073951482772827,
          0.506345272064209,
          0.506758987903595,
          0.5085887908935547,
          0.5101076364517212,
          0.5100966095924377,
          0.5094165802001953,
          0.509354293346405,
          0.5097758769989014,
          0.5095472931861877,
          0.5081439018249512,
          0.5061744451522827,
          0.5046314597129822,
          0.504009485244751,
          0.503821611404419,
          0.5034886002540588,
          0.503097653388977,
          0.5029410719871521,
          0.5027965307235718,
          0.5022048950195312,
          0.5010977983474731,
          0.4998748004436493,
          0.4989571273326874,
          0.49834299087524414,
          0.4976491332054138,
          0.49675452709198,
          0.4959681034088135,
          0.49552595615386963,
          0.49512118101119995,
          0.4943910241127014,
          0.49341386556625366,
          0.49252742528915405,
          0.49208351969718933,
          0.4922202527523041,
          0.49249833822250366,
          0.4921759366989136,
          0.49117669463157654,
          0.4902404546737671,
          0.48978206515312195,
          0.489344984292984,
          0.4885939657688141,
          0.488055020570755,
          0.4881709814071655,
          0.4884812831878662,
          0.488387793302536,
          0.48793381452560425,
          0.48736828565597534,
          0.4866197109222412,
          0.4857619106769562,
          0.4852631688117981,
          0.48534446954727173,
          0.4857495427131653,
          0.4862128496170044,
          0.4865562319755554,
          0.48642927408218384,
          0.48570746183395386,
          0.4849611520767212,
          0.4847778081893921,
          0.48498934507369995,
          0.48507240414619446,
          0.48494404554367065,
          0.48478958010673523,
          0.4845728576183319,
          0.484305202960968,
          0.4842817485332489,
          0.48461028933525085,
          0.4849027693271637,
          0.4847771227359772,
          0.4843522012233734,
          0.4839703142642975,
          0.4836888611316681,
          0.4833926558494568,
          0.4830884635448456,
          0.48284968733787537,
          0.4826590120792389,
          0.4824920892715454,
          0.4823455810546875,
          0.4822201132774353,
          0.48228567838668823,
          0.4827907681465149,
          0.48360681533813477,
          0.4841105043888092,
          0.4838225543498993,
          0.48302727937698364
         ]
        },
        {
         "marker": {
          "size": 3
         },
         "mode": "markers",
         "name": "pred_7",
         "type": "scatter",
         "y": [
          0.48370087146759033,
          0.4850045144557953,
          0.49073851108551025,
          0.490249902009964,
          0.49240729212760925,
          0.4863109886646271,
          0.4847286343574524,
          0.48433631658554077,
          0.48698264360427856,
          0.48664456605911255,
          0.4829123914241791,
          0.48871520161628723,
          0.48638680577278137,
          0.48362448811531067,
          0.49389150738716125,
          0.4821731150150299,
          0.48308858275413513,
          0.4829557240009308,
          0.48940029740333557,
          0.4876945912837982,
          0.49230217933654785,
          0.4800257384777069,
          0.48756682872772217,
          0.48355016112327576,
          0.4870307147502899,
          0.4826912581920624,
          0.49232015013694763,
          0.4884306490421295,
          0.4924851953983307,
          0.489427387714386,
          0.4929174780845642,
          0.49115189909935,
          0.495157927274704,
          0.49513745307922363,
          0.5011269450187683,
          0.5005530714988708,
          0.5060468316078186,
          0.4952198565006256,
          0.495256245136261,
          0.4943883419036865,
          0.4976906180381775,
          0.49872973561286926,
          0.5020654201507568,
          0.4986816942691803,
          0.49489691853523254,
          0.49095720052719116,
          0.4836713373661041,
          0.4963463544845581,
          0.5055681467056274,
          0.5003577470779419,
          0.49750596284866333,
          0.5068256258964539,
          0.4993754029273987,
          0.49257731437683105,
          0.4845673441886902,
          0.4930817186832428,
          0.49869075417518616,
          0.48722389340400696,
          0.4905964136123657,
          0.49487292766571045,
          0.49567127227783203,
          0.4967441260814667,
          0.49499407410621643,
          0.49422726035118103,
          0.4918704330921173,
          0.4995676577091217,
          0.5000905394554138,
          0.49958664178848267,
          0.49223119020462036,
          0.4907176196575165,
          0.4912785291671753,
          0.48422402143478394,
          0.48610472679138184,
          0.4913806617259979,
          0.4921427369117737,
          0.4845489263534546,
          0.49583524465560913,
          0.4971112608909607,
          0.49046391248703003,
          0.4902556240558624,
          0.49999669194221497,
          0.49694234132766724,
          0.49215155839920044,
          0.48117300868034363,
          0.4964112341403961,
          0.48684483766555786,
          0.49389562010765076,
          0.4989158511161804,
          0.49400827288627625,
          0.49754413962364197,
          0.5095922350883484,
          0.5074283480644226,
          0.5017752647399902,
          0.49958914518356323,
          0.49577587842941284,
          0.5011131763458252,
          0.5038586258888245,
          0.5025721192359924,
          0.49875006079673767,
          0.49312683939933777,
          0.49752387404441833,
          0.498745322227478,
          0.4999355673789978,
          0.486870139837265,
          0.5002965927124023,
          0.4924865961074829,
          0.49373745918273926,
          0.49629029631614685,
          0.4952501654624939,
          0.4987248480319977,
          0.4949134886264801,
          0.49046289920806885,
          0.4933815598487854,
          0.4912538528442383,
          0.4989757239818573,
          0.5031450986862183,
          0.4888150691986084,
          0.4976253807544708,
          0.48604175448417664,
          0.4936273992061615,
          0.4963013827800751,
          0.48336631059646606,
          0.4957602620124817,
          0.4902988374233246,
          0.49759119749069214,
          0.4933759868144989,
          0.4920586347579956,
          0.49737241864204407,
          0.4884483814239502,
          0.486317902803421,
          0.49648603796958923,
          0.501168966293335,
          0.49170178174972534,
          0.49558866024017334,
          0.49122166633605957,
          0.5088504552841187,
          0.48523813486099243,
          0.4908381998538971,
          0.4974623918533325,
          0.49889877438545227,
          0.4932279586791992,
          0.5064404606819153,
          0.49776431918144226,
          0.49180594086647034,
          0.4997667968273163,
          0.4959202706813812,
          0.49631163477897644,
          0.49411970376968384,
          0.4901193380355835,
          0.4978891611099243,
          0.4998098909854889,
          0.49934151768684387,
          0.4998330771923065,
          0.4981674253940582,
          0.5016250014305115,
          0.523152232170105,
          0.5091999173164368,
          0.5108409523963928,
          0.5122830271720886,
          0.5150462985038757,
          0.5157765746116638,
          0.507046103477478,
          0.5055760145187378,
          0.5107254385948181,
          0.5132299661636353,
          0.515028715133667,
          0.5122303366661072,
          0.5049079060554504,
          0.5071824789047241,
          0.5141639113426208,
          0.5009111762046814,
          0.5021463632583618,
          0.5091558694839478,
          0.5092601776123047,
          0.5041338205337524,
          0.5035865902900696,
          0.5038325786590576,
          0.4985024034976959,
          0.4942876100540161,
          0.5107085704803467,
          0.5165895819664001,
          0.5228161215782166,
          0.5195066332817078,
          0.5164797902107239,
          0.5151425004005432,
          0.5207122564315796,
          0.5140499472618103,
          0.505851686000824,
          0.5060784220695496,
          0.5142747759819031,
          0.5060391426086426,
          0.49828729033470154,
          0.5008952021598816,
          0.49989044666290283,
          0.5060709118843079,
          0.5027968287467957,
          0.5101799964904785,
          0.5075605511665344,
          0.5111657977104187,
          0.5079836249351501,
          0.4965735077857971,
          0.5071244835853577,
          0.5055238604545593,
          0.5034059286117554,
          0.5075197815895081,
          0.5165046453475952,
          0.5007615685462952,
          0.5108199715614319,
          0.5033649802207947,
          0.5093587636947632,
          0.5085141062736511,
          0.503535807132721,
          0.503065288066864,
          0.5101398229598999,
          0.4995456635951996,
          0.5031557679176331,
          0.5138342380523682,
          0.5056009292602539,
          0.5026047229766846,
          0.4998199939727783,
          0.4941985309123993,
          0.50077885389328,
          0.5075076818466187,
          0.5065717101097107,
          0.5029160976409912,
          0.5005041360855103,
          0.4987412393093109,
          0.5076698660850525,
          0.49372509121894836,
          0.5008307099342346,
          0.4984879791736603,
          0.4977482855319977,
          0.5013214349746704,
          0.49631717801094055,
          0.49507343769073486,
          0.4970416724681854,
          0.49756312370300293,
          0.49347126483917236,
          0.4976353049278259,
          0.4994185268878937,
          0.49674615263938904,
          0.49269288778305054,
          0.49551481008529663,
          0.4941617250442505,
          0.4908142685890198,
          0.4966534674167633,
          0.4991365671157837,
          0.4931049346923828,
          0.49048787355422974,
          0.4926413297653198,
          0.486926794052124,
          0.4876970052719116,
          0.49412843585014343,
          0.49290937185287476,
          0.49058592319488525,
          0.4971330165863037,
          0.48166796565055847,
          0.4883827567100525,
          0.49889734387397766,
          0.4916645288467407,
          0.49332889914512634,
          0.49313902854919434,
          0.4912624657154083,
          0.49932196736335754,
          0.49295774102211,
          0.49210232496261597,
          0.49110016226768494,
          0.4911646842956543,
          0.4947313964366913,
          0.49068284034729004,
          0.4900558292865753,
          0.48474955558776855,
          0.4922718405723572,
          0.4935603141784668,
          0.4931477904319763,
          0.487947553396225,
          0.4857628345489502,
          0.4812972843647003,
          0.49027693271636963,
          0.48758989572525024,
          0.4920938313007355,
          0.4940343499183655,
          0.49394866824150085
         ]
        },
        {
         "marker": {
          "size": 3
         },
         "mode": "markers",
         "name": "gt_8",
         "type": "scatter",
         "y": [
          0.13791151344776154,
          0.14595697820186615,
          0.14531122148036957,
          0.14464661478996277,
          0.14638341963291168,
          0.14549550414085388,
          0.14460593461990356,
          0.14503581821918488,
          0.14431731402873993,
          0.14398525655269623,
          0.1439332515001297,
          0.14429374039173126,
          0.14466021955013275,
          0.14477361738681793,
          0.1440962702035904,
          0.14294368028640747,
          0.14310139417648315,
          0.14277766644954681,
          0.14173467457294464,
          0.14127449691295624,
          0.14096993207931519,
          0.14124415814876556,
          0.14110733568668365,
          0.14053578674793243,
          0.14025765657424927,
          0.13975270092487335,
          0.13901960849761963,
          0.1385352462530136,
          0.13834059238433838,
          0.13848663866519928,
          0.1387716680765152,
          0.13847845792770386,
          0.13839131593704224,
          0.13888660073280334,
          0.13921314477920532,
          0.13925577700138092,
          0.13891518115997314,
          0.1379811018705368,
          0.13773101568222046,
          0.13824942708015442,
          0.13847434520721436,
          0.13893969357013702,
          0.13964465260505676,
          0.139932319521904,
          0.1397676318883896,
          0.13983403146266937,
          0.14017082750797272,
          0.13992245495319366,
          0.13959898054599762,
          0.1397504061460495,
          0.14025311172008514,
          0.1411559134721756,
          0.14162464439868927,
          0.141713947057724,
          0.14198312163352966,
          0.14207689464092255,
          0.14222249388694763,
          0.14297865331172943,
          0.14376941323280334,
          0.14362399280071259,
          0.14344364404678345,
          0.143960103392601,
          0.14454202353954315,
          0.1446862518787384,
          0.1448855847120285,
          0.14605246484279633,
          0.1478860229253769,
          0.14948686957359314,
          0.15008607506752014,
          0.1493937373161316,
          0.14807695150375366,
          0.14713872969150543,
          0.1471138894557953,
          0.14769256114959717,
          0.14826208353042603,
          0.1489260345697403,
          0.1495891809463501,
          0.14923304319381714,
          0.1481878161430359,
          0.1477237343788147,
          0.14777420461177826,
          0.14795725047588348,
          0.14783023297786713,
          0.14731080830097198,
          0.14731502532958984,
          0.1479860097169876,
          0.14845316112041473,
          0.14849454164505005,
          0.14858576655387878,
          0.14874573051929474,
          0.14859715104103088,
          0.14854739606380463,
          0.14896048605442047,
          0.14910633862018585,
          0.1487940549850464,
          0.14886797964572906,
          0.1496085375547409,
          0.15012922883033752,
          0.14988242089748383,
          0.1498970240354538,
          0.15087798237800598,
          0.1518907994031906,
          0.1519109308719635,
          0.15082919597625732,
          0.14954237639904022,
          0.14926941692829132,
          0.1503036916255951,
          0.1517009139060974,
          0.15181083977222443,
          0.15040914714336395,
          0.14944227039813995,
          0.14971280097961426,
          0.14981934428215027,
          0.14927177131175995,
          0.1489354819059372,
          0.14907090365886688,
          0.14934952557086945,
          0.14970041811466217,
          0.15012045204639435,
          0.15060950815677643,
          0.15123720467090607,
          0.15152496099472046,
          0.1509878933429718,
          0.15046392381191254,
          0.15089894831180573,
          0.15146689116954803,
          0.15120479464530945,
          0.15060655772686005,
          0.15023106336593628,
          0.1502552479505539,
          0.15079008042812347,
          0.1509866714477539,
          0.15016990900039673,
          0.14947471022605896,
          0.1501442790031433,
          0.15160013735294342,
          0.15226340293884277,
          0.15157335996627808,
          0.15065725147724152,
          0.1503807008266449,
          0.1501137763261795,
          0.1498432606458664,
          0.15030531585216522,
          0.15062224864959717,
          0.14980833232402802,
          0.14900557696819305,
          0.1490788608789444,
          0.14905332028865814,
          0.1484231948852539,
          0.14789974689483643,
          0.1477784663438797,
          0.14777962863445282,
          0.14787672460079193,
          0.14809668064117432,
          0.14831873774528503,
          0.1485109180212021,
          0.1486203372478485,
          0.14858378469944,
          0.14840978384017944,
          0.14812086522579193,
          0.14785240590572357,
          0.14788350462913513,
          0.14809702336788177,
          0.147903710603714,
          0.1471938192844391,
          0.1466297209262848,
          0.1466294378042221,
          0.14688532054424286,
          0.14699168503284454,
          0.1468217521905899,
          0.14640098810195923,
          0.1459633708000183,
          0.14587032794952393,
          0.14617323875427246,
          0.14639748632907867,
          0.1460966318845749,
          0.14558087289333344,
          0.14556124806404114,
          0.14608648419380188,
          0.14650842547416687,
          0.14639677107334137,
          0.14598585665225983,
          0.14575901627540588,
          0.14591683447360992,
          0.14621728658676147,
          0.14624148607254028,
          0.1457328498363495,
          0.14487478137016296,
          0.14421994984149933,
          0.1441018432378769,
          0.14429914951324463,
          0.14439289271831512,
          0.1443009227514267,
          0.14432257413864136,
          0.14466920495033264,
          0.14509229362010956,
          0.1450762003660202,
          0.14450319111347198,
          0.14387482404708862,
          0.14366623759269714,
          0.14385898411273956,
          0.14424829185009003,
          0.1446669101715088,
          0.14482328295707703,
          0.14454849064350128,
          0.14411041140556335,
          0.14391706883907318,
          0.14405633509159088,
          0.14424829185009003,
          0.14419680833816528,
          0.1439315229654312,
          0.14375123381614685,
          0.1438041627407074,
          0.1438962072134018,
          0.14386314153671265,
          0.14377620816230774,
          0.14368224143981934,
          0.14347174763679504,
          0.14314278960227966,
          0.142886221408844,
          0.14278337359428406,
          0.14267463982105255,
          0.142437145113945,
          0.1421935260295868,
          0.14216402173042297,
          0.1423748880624771,
          0.14262351393699646,
          0.1427101045846939,
          0.1426330804824829,
          0.14249254763126373,
          0.14238235354423523,
          0.14238497614860535,
          0.1425117701292038,
          0.14259344339370728,
          0.14246627688407898,
          0.1422315537929535,
          0.14210286736488342,
          0.1420799195766449,
          0.14202980697155,
          0.14196309447288513,
          0.14195922017097473,
          0.14189162850379944,
          0.14159922301769257,
          0.14121073484420776,
          0.14096935093402863,
          0.14087137579917908,
          0.14071449637413025,
          0.14044170081615448,
          0.14019295573234558,
          0.14009976387023926,
          0.1401989758014679,
          0.14043018221855164,
          0.14060212671756744,
          0.14048248529434204,
          0.1400933414697647,
          0.139779195189476,
          0.13978590071201324,
          0.1399756222963333,
          0.14005228877067566,
          0.13992877304553986,
          0.13975907862186432,
          0.13968999683856964,
          0.1397216022014618,
          0.1397441029548645,
          0.13968802988529205,
          0.13964959979057312,
          0.13979671895503998,
          0.14011786878108978,
          0.14034950733184814,
          0.14023955166339874,
          0.13984516263008118,
          0.13945280015468597,
          0.1392589807510376,
          0.13925032317638397,
          0.13932789862155914,
          0.13940005004405975,
          0.1393505483865738,
          0.13911601901054382,
          0.13882556557655334,
          0.13870424032211304,
          0.13878902792930603,
          0.13884545862674713,
          0.13870161771774292
         ]
        },
        {
         "marker": {
          "size": 3
         },
         "mode": "markers",
         "name": "pred_8",
         "type": "scatter",
         "y": [
          0.14292442798614502,
          0.1338159590959549,
          0.1330411434173584,
          0.13007299602031708,
          0.13104088604450226,
          0.13375845551490784,
          0.13752107322216034,
          0.13558164238929749,
          0.13999007642269135,
          0.13094723224639893,
          0.13531851768493652,
          0.13271476328372955,
          0.13969391584396362,
          0.1455138921737671,
          0.12865974009037018,
          0.14424562454223633,
          0.13428984582424164,
          0.13595008850097656,
          0.13697479665279388,
          0.13247613608837128,
          0.1331913024187088,
          0.14185704290866852,
          0.13369663059711456,
          0.13056130707263947,
          0.13587544858455658,
          0.13943740725517273,
          0.13103917241096497,
          0.13849198818206787,
          0.13921090960502625,
          0.1404927670955658,
          0.14278635382652283,
          0.1339016556739807,
          0.13413584232330322,
          0.13421417772769928,
          0.14004798233509064,
          0.13619260489940643,
          0.13235445320606232,
          0.14418356120586395,
          0.14477160573005676,
          0.14760294556617737,
          0.1432425081729889,
          0.14136920869350433,
          0.13860423862934113,
          0.13465255498886108,
          0.14307092130184174,
          0.1419677436351776,
          0.14934341609477997,
          0.13954119384288788,
          0.13982482254505157,
          0.13690325617790222,
          0.1360154002904892,
          0.13023729622364044,
          0.14183597266674042,
          0.13495904207229614,
          0.15218786895275116,
          0.14007604122161865,
          0.13667024672031403,
          0.13295809924602509,
          0.14140543341636658,
          0.13883481919765472,
          0.13691803812980652,
          0.13820837438106537,
          0.1455422043800354,
          0.13509204983711243,
          0.1424824446439743,
          0.14082713425159454,
          0.13949880003929138,
          0.14234067499637604,
          0.1403377652168274,
          0.1358359307050705,
          0.14388959109783173,
          0.13783234357833862,
          0.14247098565101624,
          0.137868270277977,
          0.14228646457195282,
          0.14154170453548431,
          0.14006027579307556,
          0.13792814314365387,
          0.1383684277534485,
          0.13886436820030212,
          0.13252697885036469,
          0.13360252976417542,
          0.1386217623949051,
          0.14292827248573303,
          0.13832201063632965,
          0.14626194536685944,
          0.1384875625371933,
          0.1450800597667694,
          0.14164763689041138,
          0.1380811631679535,
          0.14111968874931335,
          0.14374712109565735,
          0.14201509952545166,
          0.13934676349163055,
          0.14347748458385468,
          0.1431986689567566,
          0.1412009298801422,
          0.15068459510803223,
          0.13767915964126587,
          0.14555418491363525,
          0.14437323808670044,
          0.14303719997406006,
          0.14262014627456665,
          0.14814502000808716,
          0.1384364813566208,
          0.14577636122703552,
          0.1381770670413971,
          0.14049357175827026,
          0.1452299803495407,
          0.1416679471731186,
          0.14164431393146515,
          0.1423107385635376,
          0.14228415489196777,
          0.13739648461341858,
          0.14599739015102386,
          0.1393430083990097,
          0.14255772531032562,
          0.14152267575263977,
          0.14973831176757812,
          0.14020942151546478,
          0.14202813804149628,
          0.14975573122501373,
          0.13853006064891815,
          0.14297039806842804,
          0.13902011513710022,
          0.14180874824523926,
          0.14084963500499725,
          0.14230233430862427,
          0.14382675290107727,
          0.13837386667728424,
          0.14553183317184448,
          0.14544610679149628,
          0.1390019953250885,
          0.14496132731437683,
          0.14578640460968018,
          0.13572105765342712,
          0.14782807230949402,
          0.14324359595775604,
          0.14335201680660248,
          0.14851704239845276,
          0.14352697134017944,
          0.14208057522773743,
          0.15043160319328308,
          0.14681407809257507,
          0.1498466581106186,
          0.14167067408561707,
          0.14531512558460236,
          0.14753133058547974,
          0.1461535096168518,
          0.14861002564430237,
          0.14364874362945557,
          0.15022222697734833,
          0.14824402332305908,
          0.14543326199054718,
          0.14844359457492828,
          0.14028671383857727,
          0.15011590719223022,
          0.1385812908411026,
          0.14759446680545807,
          0.14771558344364166,
          0.1471024751663208,
          0.1481645703315735,
          0.14331059157848358,
          0.147863507270813,
          0.14714764058589935,
          0.14429350197315216,
          0.14865995943546295,
          0.14638404548168182,
          0.14956450462341309,
          0.13451427221298218,
          0.13736814260482788,
          0.14736796915531158,
          0.13957443833351135,
          0.1423981785774231,
          0.14261731505393982,
          0.15200094878673553,
          0.1432730108499527,
          0.13740213215351105,
          0.15176506340503693,
          0.14191514253616333,
          0.14388461410999298,
          0.15316450595855713,
          0.1475125551223755,
          0.148610457777977,
          0.14705419540405273,
          0.15794184803962708,
          0.14461149275302887,
          0.15086619555950165,
          0.14669269323349,
          0.14298821985721588,
          0.14297713339328766,
          0.13619591295719147,
          0.1496555656194687,
          0.14367522299289703,
          0.14085978269577026,
          0.1444481611251831,
          0.149006187915802,
          0.14189060032367706,
          0.14769630134105682,
          0.14748737215995789,
          0.15288905799388885,
          0.13323049247264862,
          0.14759761095046997,
          0.1432950794696808,
          0.14641784131526947,
          0.14290156960487366,
          0.14951477944850922,
          0.14317235350608826,
          0.14976179599761963,
          0.1384909451007843,
          0.14048676192760468,
          0.14107725024223328,
          0.14241012930870056,
          0.13456480205059052,
          0.13913863897323608,
          0.13946151733398438,
          0.13698992133140564,
          0.14729075133800507,
          0.14396977424621582,
          0.14354710280895233,
          0.14947468042373657,
          0.14763329923152924,
          0.1489298939704895,
          0.13600347936153412,
          0.14371715486049652,
          0.14143720269203186,
          0.14031074941158295,
          0.14057615399360657,
          0.14294682443141937,
          0.14095881581306458,
          0.14189080893993378,
          0.15278731286525726,
          0.1348661482334137,
          0.14852823317050934,
          0.13881641626358032,
          0.14432746171951294,
          0.1466061770915985,
          0.15109094977378845,
          0.1407393217086792,
          0.14461177587509155,
          0.14231564104557037,
          0.13738828897476196,
          0.13977719843387604,
          0.14283311367034912,
          0.14203967154026031,
          0.14693064987659454,
          0.14034564793109894,
          0.13861936330795288,
          0.14015522599220276,
          0.14579851925373077,
          0.13789908587932587,
          0.13812674582004547,
          0.13693024218082428,
          0.13630515336990356,
          0.13989324867725372,
          0.14277251064777374,
          0.1386854350566864,
          0.14153818786144257,
          0.13198460638523102,
          0.14123384654521942,
          0.13642671704292297,
          0.13987590372562408,
          0.1424047201871872,
          0.13046351075172424,
          0.1418490707874298,
          0.1425643414258957,
          0.1392810195684433,
          0.1374529004096985,
          0.13589349389076233,
          0.14261962473392487,
          0.1397373080253601,
          0.14212632179260254,
          0.13545140624046326,
          0.13501398265361786,
          0.13113738596439362,
          0.13671451807022095,
          0.13871793448925018,
          0.1405162811279297,
          0.1319810450077057,
          0.13901512324810028,
          0.1350184679031372,
          0.13543134927749634,
          0.1382022649049759
         ]
        },
        {
         "marker": {
          "size": 3
         },
         "mode": "markers",
         "name": "gt_9",
         "type": "scatter",
         "y": [
          0.6781328916549683,
          0.6754814982414246,
          0.674930989742279,
          0.6742926239967346,
          0.6741360425949097,
          0.6739464998245239,
          0.6738376617431641,
          0.6740220189094543,
          0.6741492748260498,
          0.6740575432777405,
          0.6741114258766174,
          0.6744093894958496,
          0.6750047206878662,
          0.6759934425354004,
          0.6766479015350342,
          0.6765605211257935,
          0.6772123575210571,
          0.6782301664352417,
          0.6791362166404724,
          0.6803874373435974,
          0.6819171905517578,
          0.6835540533065796,
          0.6849848628044128,
          0.6864199638366699,
          0.6881901025772095,
          0.689588725566864,
          0.6912779211997986,
          0.6933663487434387,
          0.6952775716781616,
          0.6992344260215759,
          0.7034273743629456,
          0.7039563655853271,
          0.7024420499801636,
          0.7012801170349121,
          0.7018994688987732,
          0.7039020657539368,
          0.7048370838165283,
          0.7048595547676086,
          0.7056719064712524,
          0.7068939208984375,
          0.7076388001441956,
          0.7075831890106201,
          0.7063595652580261,
          0.7051543593406677,
          0.7056190967559814,
          0.7073456645011902,
          0.7093358039855957,
          0.7105739712715149,
          0.709804892539978,
          0.7088462114334106,
          0.70986008644104,
          0.7107745409011841,
          0.7093696594238281,
          0.7062942385673523,
          0.703771710395813,
          0.70335453748703,
          0.7035614848136902,
          0.7030231952667236,
          0.7030961513519287,
          0.7034294605255127,
          0.7026359438896179,
          0.7013580799102783,
          0.699988842010498,
          0.6987099647521973,
          0.6978830695152283,
          0.6973918676376343,
          0.6967892646789551,
          0.6956279277801514,
          0.6942591071128845,
          0.6932243704795837,
          0.6925402283668518,
          0.692207396030426,
          0.6918928623199463,
          0.6912803649902344,
          0.6911192536354065,
          0.691895067691803,
          0.6926104426383972,
          0.6922515034675598,
          0.6910823583602905,
          0.690349817276001,
          0.6905823945999146,
          0.690803587436676,
          0.6900146007537842,
          0.6885749697685242,
          0.6876868009567261,
          0.687535285949707,
          0.68695068359375,
          0.6852861642837524,
          0.6835396885871887,
          0.6825634837150574,
          0.6818338632583618,
          0.6812547445297241,
          0.6809055209159851,
          0.6800505518913269,
          0.6789383292198181,
          0.6782536506652832,
          0.677722692489624,
          0.6771969795227051,
          0.6767376661300659,
          0.6767371296882629,
          0.6777868270874023,
          0.678819477558136,
          0.6782520413398743,
          0.6768212914466858,
          0.6761654019355774,
          0.6763572692871094,
          0.6769644618034363,
          0.677795946598053,
          0.6779741048812866,
          0.6772674322128296,
          0.6768237352371216,
          0.6769202947616577,
          0.6769368052482605,
          0.676948070526123,
          0.677089512348175,
          0.6772426962852478,
          0.677578866481781,
          0.678112268447876,
          0.6786624193191528,
          0.6792290210723877,
          0.6796507835388184,
          0.6797198057174683,
          0.6798182129859924,
          0.6803894639015198,
          0.6811126470565796,
          0.6815993189811707,
          0.6821615695953369,
          0.68306565284729,
          0.683925211429596,
          0.6845138072967529,
          0.6852036118507385,
          0.6861410737037659,
          0.6871902942657471,
          0.6885231137275696,
          0.6900576949119568,
          0.6910789608955383,
          0.6915989518165588,
          0.6928551197052002,
          0.6952642202377319,
          0.6974747776985168,
          0.6986887454986572,
          0.6998627781867981,
          0.7017500400543213,
          0.7037642002105713,
          0.7051477432250977,
          0.7058431506156921,
          0.7064693570137024,
          0.7077582478523254,
          0.7095711827278137,
          0.7111399173736572,
          0.7123795747756958,
          0.7140658497810364,
          0.71673583984375,
          0.7197422385215759,
          0.721618115901947,
          0.7219619750976562,
          0.7219116687774658,
          0.7222112417221069,
          0.7222481966018677,
          0.7214639782905579,
          0.7203403115272522,
          0.7198915481567383,
          0.720613420009613,
          0.7217157483100891,
          0.7219604253768921,
          0.7214059829711914,
          0.7208840847015381,
          0.720312774181366,
          0.7192465662956238,
          0.718306303024292,
          0.7181751132011414,
          0.7182559370994568,
          0.7177032232284546,
          0.7167194485664368,
          0.7157696485519409,
          0.7148004770278931,
          0.7138751745223999,
          0.7139143347740173,
          0.7163970470428467,
          0.7219064831733704,
          0.7288150191307068,
          0.7341613173484802,
          0.7361630797386169,
          0.7352603673934937,
          0.732719361782074,
          0.729418158531189,
          0.7259678244590759,
          0.722956120967865,
          0.7207130193710327,
          0.7191770672798157,
          0.7180413603782654,
          0.7170267701148987,
          0.7161046862602234,
          0.7156918048858643,
          0.7162315845489502,
          0.7174696326255798,
          0.7185266613960266,
          0.7189075946807861,
          0.7188441157341003,
          0.7186228036880493,
          0.7183436751365662,
          0.7181522250175476,
          0.7179980874061584,
          0.7176497578620911,
          0.7172029614448547,
          0.7171510457992554,
          0.7176626324653625,
          0.7182725667953491,
          0.7183892726898193,
          0.7178934812545776,
          0.7171404957771301,
          0.7165266871452332,
          0.7162556052207947,
          0.7162500619888306,
          0.7164345383644104,
          0.7168092727661133,
          0.7171366810798645,
          0.7170630693435669,
          0.716524600982666,
          0.7157596349716187,
          0.7149975895881653,
          0.71430903673172,
          0.7137625217437744,
          0.713379979133606,
          0.7130235433578491,
          0.7125328779220581,
          0.7119202613830566,
          0.711271345615387,
          0.7106284499168396,
          0.7100304961204529,
          0.7095069885253906,
          0.7091478109359741,
          0.7090063691139221,
          0.7088971138000488,
          0.7085040211677551,
          0.70782870054245,
          0.7072518467903137,
          0.7069647312164307,
          0.706650972366333,
          0.7060040831565857,
          0.7052488327026367,
          0.7047922015190125,
          0.7046708464622498,
          0.7045949101448059,
          0.7043192386627197,
          0.7037909626960754,
          0.703117847442627,
          0.7024956941604614,
          0.7020273208618164,
          0.701587438583374,
          0.7010684609413147,
          0.7005963921546936,
          0.7002904415130615,
          0.7000089287757874,
          0.6996340155601501,
          0.6993916034698486,
          0.6995667815208435,
          0.7000196576118469,
          0.7001980543136597,
          0.6997549533843994,
          0.6989737749099731,
          0.6984052658081055,
          0.698194146156311,
          0.6980472803115845,
          0.6977543830871582,
          0.6974404454231262,
          0.6972589492797852,
          0.6970608234405518,
          0.6965803503990173,
          0.6958739757537842,
          0.6953914761543274,
          0.6954384446144104,
          0.6957494616508484,
          0.6957830190658569,
          0.6954086422920227,
          0.6950541734695435,
          0.6951667070388794,
          0.6956878900527954,
          0.696151077747345,
          0.6961687207221985,
          0.6957576870918274,
          0.6952076554298401,
          0.6947170495986938
         ]
        },
        {
         "marker": {
          "size": 3
         },
         "mode": "markers",
         "name": "pred_9",
         "type": "scatter",
         "y": [
          0.6688849329948425,
          0.7061699032783508,
          0.6894184947013855,
          0.7031054496765137,
          0.6958304047584534,
          0.6944975852966309,
          0.6967984437942505,
          0.6966539025306702,
          0.6875514388084412,
          0.695258617401123,
          0.6914143562316895,
          0.7026705741882324,
          0.6749005317687988,
          0.6815617680549622,
          0.7002764940261841,
          0.6817429661750793,
          0.6900085210800171,
          0.6916595697402954,
          0.6960980296134949,
          0.6998094320297241,
          0.696448564529419,
          0.6883524060249329,
          0.6970762014389038,
          0.7018729448318481,
          0.698828399181366,
          0.6947494745254517,
          0.6966806054115295,
          0.7025393843650818,
          0.6935510635375977,
          0.6883639693260193,
          0.6949042677879333,
          0.7035800218582153,
          0.7078086733818054,
          0.7067217826843262,
          0.6932327747344971,
          0.6968138813972473,
          0.7070847153663635,
          0.6829313635826111,
          0.6923626661300659,
          0.702553927898407,
          0.7064961194992065,
          0.7013605237007141,
          0.6977837085723877,
          0.7114644646644592,
          0.69100421667099,
          0.714897096157074,
          0.6865980625152588,
          0.7042787671089172,
          0.6957699060440063,
          0.7087029814720154,
          0.7108113765716553,
          0.7127120494842529,
          0.7096957564353943,
          0.7195612192153931,
          0.6796581745147705,
          0.7011897563934326,
          0.7082753777503967,
          0.721738874912262,
          0.7009110450744629,
          0.7030554413795471,
          0.7169502973556519,
          0.7028883695602417,
          0.6948919296264648,
          0.7167930603027344,
          0.6967636942863464,
          0.6966164708137512,
          0.695630669593811,
          0.6895853281021118,
          0.695578396320343,
          0.7181238532066345,
          0.6925561428070068,
          0.7105625867843628,
          0.701245129108429,
          0.6972241401672363,
          0.6990818381309509,
          0.7047778367996216,
          0.6991252303123474,
          0.69529789686203,
          0.7073748111724854,
          0.7111172080039978,
          0.708730936050415,
          0.7125813364982605,
          0.6976838111877441,
          0.6985620260238647,
          0.6915383338928223,
          0.6968257427215576,
          0.6971127986907959,
          0.6945602297782898,
          0.6995786428451538,
          0.7088093161582947,
          0.7006824612617493,
          0.7045716643333435,
          0.7207654714584351,
          0.7205955982208252,
          0.7057715654373169,
          0.6984554529190063,
          0.7081575989723206,
          0.6851731538772583,
          0.7163416743278503,
          0.7076234221458435,
          0.7065508365631104,
          0.716416597366333,
          0.7144376039505005,
          0.7228403687477112,
          0.7064403295516968,
          0.6903404593467712,
          0.7150076627731323,
          0.703665018081665,
          0.7253702282905579,
          0.6965489983558655,
          0.6991217732429504,
          0.714127242565155,
          0.7097114324569702,
          0.7065510153770447,
          0.6896926164627075,
          0.701941728591919,
          0.6964218020439148,
          0.713045060634613,
          0.6904706358909607,
          0.7117356061935425,
          0.7123152613639832,
          0.6931372880935669,
          0.7108821868896484,
          0.6969028115272522,
          0.7012763023376465,
          0.7125813364982605,
          0.6976065039634705,
          0.696262776851654,
          0.7080387473106384,
          0.7048211097717285,
          0.6927890777587891,
          0.6916300058364868,
          0.69599449634552,
          0.6845039129257202,
          0.7003121376037598,
          0.7023445963859558,
          0.6983765363693237,
          0.7032768726348877,
          0.7043429017066956,
          0.6929935812950134,
          0.7021672129631042,
          0.6994270086288452,
          0.6938019394874573,
          0.7075855135917664,
          0.7022318840026855,
          0.715687096118927,
          0.6979609131813049,
          0.6984952092170715,
          0.7088381052017212,
          0.7056516408920288,
          0.7277094721794128,
          0.7107269167900085,
          0.7161154747009277,
          0.7310744524002075,
          0.7139980792999268,
          0.7157992124557495,
          0.7106388807296753,
          0.7298926115036011,
          0.7108660340309143,
          0.7100010514259338,
          0.7000733017921448,
          0.7051981091499329,
          0.7066986560821533,
          0.7159548997879028,
          0.7185240983963013,
          0.7087376713752747,
          0.7065233588218689,
          0.7164727449417114,
          0.7070107460021973,
          0.7130586504936218,
          0.7298369407653809,
          0.7145923972129822,
          0.7180372476577759,
          0.7177767157554626,
          0.7197017073631287,
          0.6862159371376038,
          0.7126142978668213,
          0.7385982275009155,
          0.7122910618782043,
          0.7297740578651428,
          0.730148196220398,
          0.7129063606262207,
          0.731153130531311,
          0.742689847946167,
          0.736699640750885,
          0.7028322219848633,
          0.7293248772621155,
          0.7191135287284851,
          0.7173095941543579,
          0.7108622193336487,
          0.7189131379127502,
          0.7278115153312683,
          0.706269383430481,
          0.7071915864944458,
          0.7193285226821899,
          0.7160291075706482,
          0.6989688277244568,
          0.7157853245735168,
          0.6990548372268677,
          0.703218400478363,
          0.7088420987129211,
          0.7195030450820923,
          0.709035336971283,
          0.718777060508728,
          0.6994678974151611,
          0.708827018737793,
          0.7080279588699341,
          0.7222623825073242,
          0.701327383518219,
          0.7226592898368835,
          0.7218265533447266,
          0.7165260910987854,
          0.7161229848861694,
          0.7215465903282166,
          0.7172214388847351,
          0.7122297883033752,
          0.7100500464439392,
          0.7120075821876526,
          0.7090293765068054,
          0.7097060084342957,
          0.6957879066467285,
          0.7028528451919556,
          0.6929639577865601,
          0.7179445028305054,
          0.713257908821106,
          0.7095047235488892,
          0.708943247795105,
          0.7009822130203247,
          0.7065697312355042,
          0.7129834294319153,
          0.7033389210700989,
          0.6903270483016968,
          0.7106192708015442,
          0.6993571519851685,
          0.7155110836029053,
          0.700098991394043,
          0.6880341172218323,
          0.6893439292907715,
          0.6952643990516663,
          0.6942645907402039,
          0.7070517539978027,
          0.7088735699653625,
          0.7119244337081909,
          0.6981062293052673,
          0.705777645111084,
          0.6823444962501526,
          0.6939414739608765,
          0.7055258750915527,
          0.6990349888801575,
          0.6935997605323792,
          0.7098510265350342,
          0.7019408941268921,
          0.7041536569595337,
          0.6921336054801941,
          0.7055615782737732,
          0.6927107572555542,
          0.7059779167175293,
          0.700764000415802,
          0.7048149704933167,
          0.7015740275382996,
          0.7045086026191711,
          0.6930968165397644,
          0.6875755190849304,
          0.7155876159667969,
          0.6954684853553772,
          0.6953418850898743,
          0.7102371454238892,
          0.704666018486023,
          0.7061555981636047,
          0.6988046169281006,
          0.6889622807502747,
          0.701690137386322,
          0.6945043802261353,
          0.6990393996238708,
          0.7078988552093506,
          0.7068769335746765,
          0.693659245967865,
          0.7071059346199036,
          0.7033669352531433,
          0.6861550807952881,
          0.7033554911613464,
          0.6945884823799133,
          0.6939644813537598
         ]
        }
       ],
       "layout": {
        "template": {
         "data": {
          "bar": [
           {
            "error_x": {
             "color": "#2a3f5f"
            },
            "error_y": {
             "color": "#2a3f5f"
            },
            "marker": {
             "line": {
              "color": "#E5ECF6",
              "width": 0.5
             },
             "pattern": {
              "fillmode": "overlay",
              "size": 10,
              "solidity": 0.2
             }
            },
            "type": "bar"
           }
          ],
          "barpolar": [
           {
            "marker": {
             "line": {
              "color": "#E5ECF6",
              "width": 0.5
             },
             "pattern": {
              "fillmode": "overlay",
              "size": 10,
              "solidity": 0.2
             }
            },
            "type": "barpolar"
           }
          ],
          "carpet": [
           {
            "aaxis": {
             "endlinecolor": "#2a3f5f",
             "gridcolor": "white",
             "linecolor": "white",
             "minorgridcolor": "white",
             "startlinecolor": "#2a3f5f"
            },
            "baxis": {
             "endlinecolor": "#2a3f5f",
             "gridcolor": "white",
             "linecolor": "white",
             "minorgridcolor": "white",
             "startlinecolor": "#2a3f5f"
            },
            "type": "carpet"
           }
          ],
          "choropleth": [
           {
            "colorbar": {
             "outlinewidth": 0,
             "ticks": ""
            },
            "type": "choropleth"
           }
          ],
          "contour": [
           {
            "colorbar": {
             "outlinewidth": 0,
             "ticks": ""
            },
            "colorscale": [
             [
              0,
              "#0d0887"
             ],
             [
              0.1111111111111111,
              "#46039f"
             ],
             [
              0.2222222222222222,
              "#7201a8"
             ],
             [
              0.3333333333333333,
              "#9c179e"
             ],
             [
              0.4444444444444444,
              "#bd3786"
             ],
             [
              0.5555555555555556,
              "#d8576b"
             ],
             [
              0.6666666666666666,
              "#ed7953"
             ],
             [
              0.7777777777777778,
              "#fb9f3a"
             ],
             [
              0.8888888888888888,
              "#fdca26"
             ],
             [
              1,
              "#f0f921"
             ]
            ],
            "type": "contour"
           }
          ],
          "contourcarpet": [
           {
            "colorbar": {
             "outlinewidth": 0,
             "ticks": ""
            },
            "type": "contourcarpet"
           }
          ],
          "heatmap": [
           {
            "colorbar": {
             "outlinewidth": 0,
             "ticks": ""
            },
            "colorscale": [
             [
              0,
              "#0d0887"
             ],
             [
              0.1111111111111111,
              "#46039f"
             ],
             [
              0.2222222222222222,
              "#7201a8"
             ],
             [
              0.3333333333333333,
              "#9c179e"
             ],
             [
              0.4444444444444444,
              "#bd3786"
             ],
             [
              0.5555555555555556,
              "#d8576b"
             ],
             [
              0.6666666666666666,
              "#ed7953"
             ],
             [
              0.7777777777777778,
              "#fb9f3a"
             ],
             [
              0.8888888888888888,
              "#fdca26"
             ],
             [
              1,
              "#f0f921"
             ]
            ],
            "type": "heatmap"
           }
          ],
          "heatmapgl": [
           {
            "colorbar": {
             "outlinewidth": 0,
             "ticks": ""
            },
            "colorscale": [
             [
              0,
              "#0d0887"
             ],
             [
              0.1111111111111111,
              "#46039f"
             ],
             [
              0.2222222222222222,
              "#7201a8"
             ],
             [
              0.3333333333333333,
              "#9c179e"
             ],
             [
              0.4444444444444444,
              "#bd3786"
             ],
             [
              0.5555555555555556,
              "#d8576b"
             ],
             [
              0.6666666666666666,
              "#ed7953"
             ],
             [
              0.7777777777777778,
              "#fb9f3a"
             ],
             [
              0.8888888888888888,
              "#fdca26"
             ],
             [
              1,
              "#f0f921"
             ]
            ],
            "type": "heatmapgl"
           }
          ],
          "histogram": [
           {
            "marker": {
             "pattern": {
              "fillmode": "overlay",
              "size": 10,
              "solidity": 0.2
             }
            },
            "type": "histogram"
           }
          ],
          "histogram2d": [
           {
            "colorbar": {
             "outlinewidth": 0,
             "ticks": ""
            },
            "colorscale": [
             [
              0,
              "#0d0887"
             ],
             [
              0.1111111111111111,
              "#46039f"
             ],
             [
              0.2222222222222222,
              "#7201a8"
             ],
             [
              0.3333333333333333,
              "#9c179e"
             ],
             [
              0.4444444444444444,
              "#bd3786"
             ],
             [
              0.5555555555555556,
              "#d8576b"
             ],
             [
              0.6666666666666666,
              "#ed7953"
             ],
             [
              0.7777777777777778,
              "#fb9f3a"
             ],
             [
              0.8888888888888888,
              "#fdca26"
             ],
             [
              1,
              "#f0f921"
             ]
            ],
            "type": "histogram2d"
           }
          ],
          "histogram2dcontour": [
           {
            "colorbar": {
             "outlinewidth": 0,
             "ticks": ""
            },
            "colorscale": [
             [
              0,
              "#0d0887"
             ],
             [
              0.1111111111111111,
              "#46039f"
             ],
             [
              0.2222222222222222,
              "#7201a8"
             ],
             [
              0.3333333333333333,
              "#9c179e"
             ],
             [
              0.4444444444444444,
              "#bd3786"
             ],
             [
              0.5555555555555556,
              "#d8576b"
             ],
             [
              0.6666666666666666,
              "#ed7953"
             ],
             [
              0.7777777777777778,
              "#fb9f3a"
             ],
             [
              0.8888888888888888,
              "#fdca26"
             ],
             [
              1,
              "#f0f921"
             ]
            ],
            "type": "histogram2dcontour"
           }
          ],
          "mesh3d": [
           {
            "colorbar": {
             "outlinewidth": 0,
             "ticks": ""
            },
            "type": "mesh3d"
           }
          ],
          "parcoords": [
           {
            "line": {
             "colorbar": {
              "outlinewidth": 0,
              "ticks": ""
             }
            },
            "type": "parcoords"
           }
          ],
          "pie": [
           {
            "automargin": true,
            "type": "pie"
           }
          ],
          "scatter": [
           {
            "fillpattern": {
             "fillmode": "overlay",
             "size": 10,
             "solidity": 0.2
            },
            "type": "scatter"
           }
          ],
          "scatter3d": [
           {
            "line": {
             "colorbar": {
              "outlinewidth": 0,
              "ticks": ""
             }
            },
            "marker": {
             "colorbar": {
              "outlinewidth": 0,
              "ticks": ""
             }
            },
            "type": "scatter3d"
           }
          ],
          "scattercarpet": [
           {
            "marker": {
             "colorbar": {
              "outlinewidth": 0,
              "ticks": ""
             }
            },
            "type": "scattercarpet"
           }
          ],
          "scattergeo": [
           {
            "marker": {
             "colorbar": {
              "outlinewidth": 0,
              "ticks": ""
             }
            },
            "type": "scattergeo"
           }
          ],
          "scattergl": [
           {
            "marker": {
             "colorbar": {
              "outlinewidth": 0,
              "ticks": ""
             }
            },
            "type": "scattergl"
           }
          ],
          "scattermapbox": [
           {
            "marker": {
             "colorbar": {
              "outlinewidth": 0,
              "ticks": ""
             }
            },
            "type": "scattermapbox"
           }
          ],
          "scatterpolar": [
           {
            "marker": {
             "colorbar": {
              "outlinewidth": 0,
              "ticks": ""
             }
            },
            "type": "scatterpolar"
           }
          ],
          "scatterpolargl": [
           {
            "marker": {
             "colorbar": {
              "outlinewidth": 0,
              "ticks": ""
             }
            },
            "type": "scatterpolargl"
           }
          ],
          "scatterternary": [
           {
            "marker": {
             "colorbar": {
              "outlinewidth": 0,
              "ticks": ""
             }
            },
            "type": "scatterternary"
           }
          ],
          "surface": [
           {
            "colorbar": {
             "outlinewidth": 0,
             "ticks": ""
            },
            "colorscale": [
             [
              0,
              "#0d0887"
             ],
             [
              0.1111111111111111,
              "#46039f"
             ],
             [
              0.2222222222222222,
              "#7201a8"
             ],
             [
              0.3333333333333333,
              "#9c179e"
             ],
             [
              0.4444444444444444,
              "#bd3786"
             ],
             [
              0.5555555555555556,
              "#d8576b"
             ],
             [
              0.6666666666666666,
              "#ed7953"
             ],
             [
              0.7777777777777778,
              "#fb9f3a"
             ],
             [
              0.8888888888888888,
              "#fdca26"
             ],
             [
              1,
              "#f0f921"
             ]
            ],
            "type": "surface"
           }
          ],
          "table": [
           {
            "cells": {
             "fill": {
              "color": "#EBF0F8"
             },
             "line": {
              "color": "white"
             }
            },
            "header": {
             "fill": {
              "color": "#C8D4E3"
             },
             "line": {
              "color": "white"
             }
            },
            "type": "table"
           }
          ]
         },
         "layout": {
          "annotationdefaults": {
           "arrowcolor": "#2a3f5f",
           "arrowhead": 0,
           "arrowwidth": 1
          },
          "autotypenumbers": "strict",
          "coloraxis": {
           "colorbar": {
            "outlinewidth": 0,
            "ticks": ""
           }
          },
          "colorscale": {
           "diverging": [
            [
             0,
             "#8e0152"
            ],
            [
             0.1,
             "#c51b7d"
            ],
            [
             0.2,
             "#de77ae"
            ],
            [
             0.3,
             "#f1b6da"
            ],
            [
             0.4,
             "#fde0ef"
            ],
            [
             0.5,
             "#f7f7f7"
            ],
            [
             0.6,
             "#e6f5d0"
            ],
            [
             0.7,
             "#b8e186"
            ],
            [
             0.8,
             "#7fbc41"
            ],
            [
             0.9,
             "#4d9221"
            ],
            [
             1,
             "#276419"
            ]
           ],
           "sequential": [
            [
             0,
             "#0d0887"
            ],
            [
             0.1111111111111111,
             "#46039f"
            ],
            [
             0.2222222222222222,
             "#7201a8"
            ],
            [
             0.3333333333333333,
             "#9c179e"
            ],
            [
             0.4444444444444444,
             "#bd3786"
            ],
            [
             0.5555555555555556,
             "#d8576b"
            ],
            [
             0.6666666666666666,
             "#ed7953"
            ],
            [
             0.7777777777777778,
             "#fb9f3a"
            ],
            [
             0.8888888888888888,
             "#fdca26"
            ],
            [
             1,
             "#f0f921"
            ]
           ],
           "sequentialminus": [
            [
             0,
             "#0d0887"
            ],
            [
             0.1111111111111111,
             "#46039f"
            ],
            [
             0.2222222222222222,
             "#7201a8"
            ],
            [
             0.3333333333333333,
             "#9c179e"
            ],
            [
             0.4444444444444444,
             "#bd3786"
            ],
            [
             0.5555555555555556,
             "#d8576b"
            ],
            [
             0.6666666666666666,
             "#ed7953"
            ],
            [
             0.7777777777777778,
             "#fb9f3a"
            ],
            [
             0.8888888888888888,
             "#fdca26"
            ],
            [
             1,
             "#f0f921"
            ]
           ]
          },
          "colorway": [
           "#636efa",
           "#EF553B",
           "#00cc96",
           "#ab63fa",
           "#FFA15A",
           "#19d3f3",
           "#FF6692",
           "#B6E880",
           "#FF97FF",
           "#FECB52"
          ],
          "font": {
           "color": "#2a3f5f"
          },
          "geo": {
           "bgcolor": "white",
           "lakecolor": "white",
           "landcolor": "#E5ECF6",
           "showlakes": true,
           "showland": true,
           "subunitcolor": "white"
          },
          "hoverlabel": {
           "align": "left"
          },
          "hovermode": "closest",
          "mapbox": {
           "style": "light"
          },
          "paper_bgcolor": "white",
          "plot_bgcolor": "#E5ECF6",
          "polar": {
           "angularaxis": {
            "gridcolor": "white",
            "linecolor": "white",
            "ticks": ""
           },
           "bgcolor": "#E5ECF6",
           "radialaxis": {
            "gridcolor": "white",
            "linecolor": "white",
            "ticks": ""
           }
          },
          "scene": {
           "xaxis": {
            "backgroundcolor": "#E5ECF6",
            "gridcolor": "white",
            "gridwidth": 2,
            "linecolor": "white",
            "showbackground": true,
            "ticks": "",
            "zerolinecolor": "white"
           },
           "yaxis": {
            "backgroundcolor": "#E5ECF6",
            "gridcolor": "white",
            "gridwidth": 2,
            "linecolor": "white",
            "showbackground": true,
            "ticks": "",
            "zerolinecolor": "white"
           },
           "zaxis": {
            "backgroundcolor": "#E5ECF6",
            "gridcolor": "white",
            "gridwidth": 2,
            "linecolor": "white",
            "showbackground": true,
            "ticks": "",
            "zerolinecolor": "white"
           }
          },
          "shapedefaults": {
           "line": {
            "color": "#2a3f5f"
           }
          },
          "ternary": {
           "aaxis": {
            "gridcolor": "white",
            "linecolor": "white",
            "ticks": ""
           },
           "baxis": {
            "gridcolor": "white",
            "linecolor": "white",
            "ticks": ""
           },
           "bgcolor": "#E5ECF6",
           "caxis": {
            "gridcolor": "white",
            "linecolor": "white",
            "ticks": ""
           }
          },
          "title": {
           "x": 0.05
          },
          "xaxis": {
           "automargin": true,
           "gridcolor": "white",
           "linecolor": "white",
           "ticks": "",
           "title": {
            "standoff": 15
           },
           "zerolinecolor": "white",
           "zerolinewidth": 2
          },
          "yaxis": {
           "automargin": true,
           "gridcolor": "white",
           "linecolor": "white",
           "ticks": "",
           "title": {
            "standoff": 15
           },
           "zerolinecolor": "white",
           "zerolinewidth": 2
          }
         }
        }
       }
      }
     },
     "metadata": {},
     "output_type": "display_data"
    }
   ],
   "source": [
    "fig = go.Figure()\n",
    "for i in range(10): #range(12):# \n",
    "    fig.add_trace(go.Scatter(y=batch[1][i,:],mode='markers',name=f'gt_{i}',marker=dict(size=3)))\n",
    "    fig.add_trace(go.Scatter(y=pred[i,:,0],mode='markers',name=f'pred_{i}',marker=dict(size=3)))\n",
    "fig.show()"
   ]
  },
  {
   "cell_type": "code",
   "execution_count": 18,
   "metadata": {},
   "outputs": [
    {
     "data": {
      "application/vnd.plotly.v1+json": {
       "config": {
        "plotlyServerURL": "https://plot.ly"
       },
       "data": [
        {
         "marker": {
          "size": 3
         },
         "mode": "markers",
         "name": "gt_0",
         "type": "scatter",
         "y": [
          0.22107931971549988,
          0.2412511706352234,
          0.2378549575805664,
          0.23632703721523285,
          0.235379159450531,
          0.2302902340888977,
          0.23192496597766876,
          0.23992189764976501,
          0.23807919025421143,
          0.23458139598369598,
          0.2347019761800766,
          0.2344798445701599,
          0.23551182448863983,
          0.23262238502502441,
          0.22722500562667847,
          0.22529275715351105,
          0.22558237612247467,
          0.22492672502994537,
          0.2251187264919281,
          0.2263002246618271,
          0.22576694190502167,
          0.22476840019226074,
          0.22315523028373718,
          0.22148370742797852,
          0.2206861674785614,
          0.21969859302043915,
          0.21917514503002167,
          0.21901579201221466,
          0.21876098215579987,
          0.2189486026763916,
          0.21957983076572418,
          0.21970154345035553,
          0.21953579783439636,
          0.2194060981273651,
          0.21928748488426208,
          0.21948124468326569,
          0.2197415679693222,
          0.2196446806192398,
          0.21993201971054077,
          0.22061787545681,
          0.22051404416561127,
          0.2206520140171051,
          0.22229914367198944,
          0.2232724130153656,
          0.22250057756900787,
          0.22210094332695007,
          0.22280564904212952,
          0.22313055396080017,
          0.2224673181772232,
          0.22250430285930634,
          0.2233411818742752,
          0.2244410514831543,
          0.2247348576784134,
          0.2234445959329605,
          0.22279047966003418,
          0.22257481515407562,
          0.22165511548519135,
          0.22163987159729004,
          0.22245846688747406,
          0.22196434438228607,
          0.22159625589847565,
          0.22275348007678986,
          0.22343473136425018,
          0.22306481003761292,
          0.2233252227306366,
          0.22553087770938873,
          0.2290094941854477,
          0.2323475033044815,
          0.23384511470794678,
          0.23264425992965698,
          0.22972315549850464,
          0.22736775875091553,
          0.2281876802444458,
          0.2308303266763687,
          0.23128320276737213,
          0.23066450655460358,
          0.23213043808937073,
          0.2335951179265976,
          0.23372797667980194,
          0.23505717515945435,
          0.2369985580444336,
          0.23705855011940002,
          0.23466642200946808,
          0.23138971626758575,
          0.2315099984407425,
          0.23888923227787018,
          0.2509007453918457,
          0.26099103689193726,
          0.266084223985672,
          0.26876166462898254,
          0.2746312916278839,
          0.28375354409217834,
          0.2877792716026306,
          0.2836880385875702,
          0.2789969742298126,
          0.2777651846408844,
          0.27680692076683044,
          0.2736634612083435,
          0.2700803875923157,
          0.27123239636421204,
          0.2771795094013214,
          0.27961134910583496,
          0.2749800384044647,
          0.2688259184360504,
          0.2657431662082672,
          0.266034871339798,
          0.2700420916080475,
          0.2761025130748749,
          0.2773061990737915,
          0.2728208601474762,
          0.27083244919776917,
          0.2721307575702667,
          0.27079901099205017,
          0.2672010660171509,
          0.26437169313430786,
          0.2626742422580719,
          0.2617717683315277,
          0.26100456714630127,
          0.26026901602745056,
          0.2600300908088684,
          0.2593022286891937,
          0.256441205739975,
          0.25183695554733276,
          0.24846798181533813,
          0.2475758194923401,
          0.24606457352638245,
          0.24296623468399048,
          0.24129453301429749,
          0.24071404337882996,
          0.2388637512922287,
          0.23656271398067474,
          0.23426634073257446,
          0.23136217892169952,
          0.23010800778865814,
          0.232538104057312,
          0.23632223904132843,
          0.23782311379909515,
          0.23661519587039948,
          0.2351999282836914,
          0.23465706408023834,
          0.23354332149028778,
          0.23213109374046326,
          0.2320791780948639,
          0.2317485362291336,
          0.22931770980358124,
          0.2273348718881607,
          0.22764508426189423,
          0.22784686088562012,
          0.22670160233974457,
          0.22616450488567352,
          0.22684279084205627,
          0.22775256633758545,
          0.2292231321334839,
          0.23146088421344757,
          0.23318850994110107,
          0.23381327092647552,
          0.23422272503376007,
          0.23505128920078278,
          0.23576898872852325,
          0.2355312556028366,
          0.23406362533569336,
          0.23253421485424042,
          0.23273709416389465,
          0.23411862552165985,
          0.23406536877155304,
          0.23215670883655548,
          0.23058432340621948,
          0.23038744926452637,
          0.23049354553222656,
          0.23006267845630646,
          0.22926564514636993,
          0.22841757535934448,
          0.22791777551174164,
          0.22804659605026245,
          0.22828362882137299,
          0.22784392535686493,
          0.22707155346870422,
          0.22742605209350586,
          0.23014113306999207,
          0.23515662550926208,
          0.2410149723291397,
          0.2454642355442047,
          0.24678707122802734,
          0.24504323303699493,
          0.24162137508392334,
          0.23783588409423828,
          0.23422802984714508,
          0.23110026121139526,
          0.22907167673110962,
          0.22826611995697021,
          0.2279067039489746,
          0.22731028497219086,
          0.227044478058815,
          0.22830113768577576,
          0.2309049516916275,
          0.23295839130878448,
          0.23291949927806854,
          0.2312898337841034,
          0.22951258718967438,
          0.2282101809978485,
          0.2274979203939438,
          0.22773483395576477,
          0.22875308990478516,
          0.22946593165397644,
          0.22932296991348267,
          0.22898982465267181,
          0.22915905714035034,
          0.22960078716278076,
          0.2295568436384201,
          0.22870203852653503,
          0.22745314240455627,
          0.22650368511676788,
          0.2262096256017685,
          0.2262202948331833,
          0.22611717879772186,
          0.22597044706344604,
          0.22597423195838928,
          0.22594599425792694,
          0.22557231783866882,
          0.22486241161823273,
          0.22411704063415527,
          0.22356945276260376,
          0.22321727871894836,
          0.22290164232254028,
          0.2225659042596817,
          0.22228239476680756,
          0.2220788300037384,
          0.22183313965797424,
          0.22148160636425018,
          0.22112761437892914,
          0.22086697816848755,
          0.22076664865016937,
          0.22087430953979492,
          0.22103852033615112,
          0.22095048427581787,
          0.220544695854187,
          0.22012627124786377,
          0.2199278175830841,
          0.21981483697891235,
          0.21961915493011475,
          0.219485804438591,
          0.21960122883319855,
          0.21982349455356598,
          0.21985945105552673,
          0.21964001655578613,
          0.21932539343833923,
          0.21904978156089783,
          0.21886275708675385,
          0.21879716217517853,
          0.21883589029312134,
          0.2189241349697113,
          0.21904192864894867,
          0.2191571593284607,
          0.2191428691148758,
          0.2189353108406067,
          0.21869482100009918,
          0.21861033141613007,
          0.21865801513195038,
          0.21869000792503357,
          0.21866276860237122,
          0.21861903369426727,
          0.21856079995632172,
          0.21849578619003296,
          0.2184925675392151,
          0.2185693383216858,
          0.21862272918224335,
          0.21855628490447998,
          0.21840885281562805,
          0.2182849645614624,
          0.21821750700473785,
          0.2181791514158249,
          0.2181531935930252,
          0.2181350439786911,
          0.2181093841791153,
          0.2180742621421814,
          0.2180398553609848,
          0.218014657497406,
          0.21804723143577576,
          0.21820437908172607,
          0.2184462994337082,
          0.2185918539762497,
          0.21850040555000305,
          0.21825137734413147
         ]
        },
        {
         "marker": {
          "size": 3
         },
         "mode": "markers",
         "name": "pred_0",
         "type": "scatter",
         "y": [
          0.23445817828178406,
          0.20843885838985443,
          0.22225365042686462,
          0.20774482190608978,
          0.21983739733695984,
          0.2159620225429535,
          0.21380425989627838,
          0.214222252368927,
          0.22577796876430511,
          0.21972525119781494,
          0.2205023169517517,
          0.20984341204166412,
          0.2366890013217926,
          0.22967810928821564,
          0.21688571572303772,
          0.21887506544589996,
          0.2180721014738083,
          0.21178480982780457,
          0.2136116772890091,
          0.21030202507972717,
          0.22340714931488037,
          0.21464133262634277,
          0.2148347795009613,
          0.20539619028568268,
          0.2186001092195511,
          0.21982280910015106,
          0.22379936277866364,
          0.2081782966852188,
          0.2265697866678238,
          0.23412546515464783,
          0.23194479942321777,
          0.22572556138038635,
          0.2183315008878708,
          0.22313226759433746,
          0.24014070630073547,
          0.24179942905902863,
          0.2336965799331665,
          0.24907490611076355,
          0.238322451710701,
          0.22349850833415985,
          0.22126826643943787,
          0.2357739359140396,
          0.24237573146820068,
          0.2161140739917755,
          0.2395510971546173,
          0.20815029740333557,
          0.22765018045902252,
          0.22893685102462769,
          0.24449382722377777,
          0.2315036505460739,
          0.23145362734794617,
          0.23731738328933716,
          0.22598643600940704,
          0.20515598356723785,
          0.2268722504377365,
          0.2178146094083786,
          0.22166068851947784,
          0.19862185418605804,
          0.22393350303173065,
          0.2215198427438736,
          0.21419474482536316,
          0.22822478413581848,
          0.22640550136566162,
          0.20873060822486877,
          0.22869962453842163,
          0.23597024381160736,
          0.23646052181720734,
          0.2431359887123108,
          0.22820869088172913,
          0.20481130480766296,
          0.22882457077503204,
          0.20784984529018402,
          0.2144598811864853,
          0.2223966419696808,
          0.21988968551158905,
          0.20548048615455627,
          0.228327214717865,
          0.22955970466136932,
          0.2102997899055481,
          0.21580228209495544,
          0.23171928524971008,
          0.20943357050418854,
          0.22963960468769073,
          0.20819154381752014,
          0.2344939261674881,
          0.22654934227466583,
          0.2273939996957779,
          0.23388753831386566,
          0.23307135701179504,
          0.22527508437633514,
          0.2475135624408722,
          0.23885641992092133,
          0.21758811175823212,
          0.21937209367752075,
          0.23040352761745453,
          0.24089315533638,
          0.22666463255882263,
          0.25199729204177856,
          0.2151651829481125,
          0.21346299350261688,
          0.2247065305709839,
          0.2254982739686966,
          0.22456321120262146,
          0.19470830261707306,
          0.23729336261749268,
          0.24501186609268188,
          0.2171718180179596,
          0.23608720302581787,
          0.20860730111598969,
          0.23621496558189392,
          0.2286362200975418,
          0.20903827250003815,
          0.2133168876171112,
          0.22263149917125702,
          0.2386883944272995,
          0.23552575707435608,
          0.23043103516101837,
          0.21397614479064941,
          0.21924646198749542,
          0.21377825736999512,
          0.211043581366539,
          0.21512527763843536,
          0.2141999751329422,
          0.22621572017669678,
          0.2298688292503357,
          0.20832589268684387,
          0.22798879444599152,
          0.22687679529190063,
          0.20521052181720734,
          0.20559346675872803,
          0.23038135468959808,
          0.24099983274936676,
          0.22340717911720276,
          0.24446985125541687,
          0.22589410841464996,
          0.24042297899723053,
          0.22171299159526825,
          0.21973975002765656,
          0.22327202558517456,
          0.23958735167980194,
          0.22528919577598572,
          0.24575240910053253,
          0.24378149211406708,
          0.22616751492023468,
          0.230991393327713,
          0.21490809321403503,
          0.23276686668395996,
          0.22766786813735962,
          0.20665250718593597,
          0.23592017590999603,
          0.213128462433815,
          0.23296470940113068,
          0.23059269785881042,
          0.21104861795902252,
          0.22966496646404266,
          0.25604528188705444,
          0.24724668264389038,
          0.22635895013809204,
          0.2474864274263382,
          0.25045210123062134,
          0.2554071843624115,
          0.25030818581581116,
          0.24721147119998932,
          0.23765501379966736,
          0.23383603990077972,
          0.2487044334411621,
          0.25514349341392517,
          0.22990451753139496,
          0.24252672493457794,
          0.2476341277360916,
          0.21705462038516998,
          0.23635554313659668,
          0.2325948178768158,
          0.23570957779884338,
          0.22725921869277954,
          0.2646726071834564,
          0.2361930012702942,
          0.1960509717464447,
          0.21754097938537598,
          0.2320251613855362,
          0.24175938963890076,
          0.2691054046154022,
          0.2483966201543808,
          0.22533032298088074,
          0.24109098315238953,
          0.2639738619327545,
          0.2371300458908081,
          0.23223759233951569,
          0.23136793076992035,
          0.2428252100944519,
          0.22950305044651031,
          0.2101692259311676,
          0.23998764157295227,
          0.23353850841522217,
          0.230647474527359,
          0.2417597770690918,
          0.25258228182792664,
          0.23215433955192566,
          0.24906961619853973,
          0.2484888732433319,
          0.22476348280906677,
          0.23222699761390686,
          0.23559542000293732,
          0.22727906703948975,
          0.24491485953330994,
          0.24988296627998352,
          0.22972331941127777,
          0.23419970273971558,
          0.24638094007968903,
          0.22985903918743134,
          0.22944596409797668,
          0.22979408502578735,
          0.23104657232761383,
          0.2331155687570572,
          0.23408497869968414,
          0.2410057783126831,
          0.2509101331233978,
          0.23921838402748108,
          0.23844364285469055,
          0.2252153754234314,
          0.2425948530435562,
          0.24298450350761414,
          0.2572280764579773,
          0.229274183511734,
          0.23155027627944946,
          0.23035842180252075,
          0.22773125767707825,
          0.24916799366474152,
          0.22787363827228546,
          0.22593028843402863,
          0.23458606004714966,
          0.24393358826637268,
          0.22746092081069946,
          0.23291586339473724,
          0.2127508670091629,
          0.23782441020011902,
          0.24646703898906708,
          0.2361835092306137,
          0.24577884376049042,
          0.23919810354709625,
          0.22514206171035767,
          0.21812506020069122,
          0.221088245511055,
          0.2293233722448349,
          0.21042703092098236,
          0.24766121804714203,
          0.23935332894325256,
          0.21923214197158813,
          0.2278129756450653,
          0.23401618003845215,
          0.20747770369052887,
          0.2225600928068161,
          0.22222767770290375,
          0.23621846735477448,
          0.2180069386959076,
          0.23958587646484375,
          0.20611204206943512,
          0.2106470912694931,
          0.22720171511173248,
          0.22348523139953613,
          0.21969333291053772,
          0.23453862965106964,
          0.23136717081069946,
          0.22177870571613312,
          0.23188284039497375,
          0.22046571969985962,
          0.204421728849411,
          0.21463753283023834,
          0.2192939668893814,
          0.22037102282047272,
          0.2303449660539627,
          0.21493899822235107,
          0.22842974960803986,
          0.22744637727737427,
          0.22047676146030426,
          0.20721681416034698,
          0.22092396020889282,
          0.1952355057001114,
          0.22190499305725098,
          0.2311650812625885,
          0.2215045690536499,
          0.22963660955429077,
          0.22687804698944092
         ]
        }
       ],
       "layout": {
        "template": {
         "data": {
          "bar": [
           {
            "error_x": {
             "color": "#2a3f5f"
            },
            "error_y": {
             "color": "#2a3f5f"
            },
            "marker": {
             "line": {
              "color": "#E5ECF6",
              "width": 0.5
             },
             "pattern": {
              "fillmode": "overlay",
              "size": 10,
              "solidity": 0.2
             }
            },
            "type": "bar"
           }
          ],
          "barpolar": [
           {
            "marker": {
             "line": {
              "color": "#E5ECF6",
              "width": 0.5
             },
             "pattern": {
              "fillmode": "overlay",
              "size": 10,
              "solidity": 0.2
             }
            },
            "type": "barpolar"
           }
          ],
          "carpet": [
           {
            "aaxis": {
             "endlinecolor": "#2a3f5f",
             "gridcolor": "white",
             "linecolor": "white",
             "minorgridcolor": "white",
             "startlinecolor": "#2a3f5f"
            },
            "baxis": {
             "endlinecolor": "#2a3f5f",
             "gridcolor": "white",
             "linecolor": "white",
             "minorgridcolor": "white",
             "startlinecolor": "#2a3f5f"
            },
            "type": "carpet"
           }
          ],
          "choropleth": [
           {
            "colorbar": {
             "outlinewidth": 0,
             "ticks": ""
            },
            "type": "choropleth"
           }
          ],
          "contour": [
           {
            "colorbar": {
             "outlinewidth": 0,
             "ticks": ""
            },
            "colorscale": [
             [
              0,
              "#0d0887"
             ],
             [
              0.1111111111111111,
              "#46039f"
             ],
             [
              0.2222222222222222,
              "#7201a8"
             ],
             [
              0.3333333333333333,
              "#9c179e"
             ],
             [
              0.4444444444444444,
              "#bd3786"
             ],
             [
              0.5555555555555556,
              "#d8576b"
             ],
             [
              0.6666666666666666,
              "#ed7953"
             ],
             [
              0.7777777777777778,
              "#fb9f3a"
             ],
             [
              0.8888888888888888,
              "#fdca26"
             ],
             [
              1,
              "#f0f921"
             ]
            ],
            "type": "contour"
           }
          ],
          "contourcarpet": [
           {
            "colorbar": {
             "outlinewidth": 0,
             "ticks": ""
            },
            "type": "contourcarpet"
           }
          ],
          "heatmap": [
           {
            "colorbar": {
             "outlinewidth": 0,
             "ticks": ""
            },
            "colorscale": [
             [
              0,
              "#0d0887"
             ],
             [
              0.1111111111111111,
              "#46039f"
             ],
             [
              0.2222222222222222,
              "#7201a8"
             ],
             [
              0.3333333333333333,
              "#9c179e"
             ],
             [
              0.4444444444444444,
              "#bd3786"
             ],
             [
              0.5555555555555556,
              "#d8576b"
             ],
             [
              0.6666666666666666,
              "#ed7953"
             ],
             [
              0.7777777777777778,
              "#fb9f3a"
             ],
             [
              0.8888888888888888,
              "#fdca26"
             ],
             [
              1,
              "#f0f921"
             ]
            ],
            "type": "heatmap"
           }
          ],
          "heatmapgl": [
           {
            "colorbar": {
             "outlinewidth": 0,
             "ticks": ""
            },
            "colorscale": [
             [
              0,
              "#0d0887"
             ],
             [
              0.1111111111111111,
              "#46039f"
             ],
             [
              0.2222222222222222,
              "#7201a8"
             ],
             [
              0.3333333333333333,
              "#9c179e"
             ],
             [
              0.4444444444444444,
              "#bd3786"
             ],
             [
              0.5555555555555556,
              "#d8576b"
             ],
             [
              0.6666666666666666,
              "#ed7953"
             ],
             [
              0.7777777777777778,
              "#fb9f3a"
             ],
             [
              0.8888888888888888,
              "#fdca26"
             ],
             [
              1,
              "#f0f921"
             ]
            ],
            "type": "heatmapgl"
           }
          ],
          "histogram": [
           {
            "marker": {
             "pattern": {
              "fillmode": "overlay",
              "size": 10,
              "solidity": 0.2
             }
            },
            "type": "histogram"
           }
          ],
          "histogram2d": [
           {
            "colorbar": {
             "outlinewidth": 0,
             "ticks": ""
            },
            "colorscale": [
             [
              0,
              "#0d0887"
             ],
             [
              0.1111111111111111,
              "#46039f"
             ],
             [
              0.2222222222222222,
              "#7201a8"
             ],
             [
              0.3333333333333333,
              "#9c179e"
             ],
             [
              0.4444444444444444,
              "#bd3786"
             ],
             [
              0.5555555555555556,
              "#d8576b"
             ],
             [
              0.6666666666666666,
              "#ed7953"
             ],
             [
              0.7777777777777778,
              "#fb9f3a"
             ],
             [
              0.8888888888888888,
              "#fdca26"
             ],
             [
              1,
              "#f0f921"
             ]
            ],
            "type": "histogram2d"
           }
          ],
          "histogram2dcontour": [
           {
            "colorbar": {
             "outlinewidth": 0,
             "ticks": ""
            },
            "colorscale": [
             [
              0,
              "#0d0887"
             ],
             [
              0.1111111111111111,
              "#46039f"
             ],
             [
              0.2222222222222222,
              "#7201a8"
             ],
             [
              0.3333333333333333,
              "#9c179e"
             ],
             [
              0.4444444444444444,
              "#bd3786"
             ],
             [
              0.5555555555555556,
              "#d8576b"
             ],
             [
              0.6666666666666666,
              "#ed7953"
             ],
             [
              0.7777777777777778,
              "#fb9f3a"
             ],
             [
              0.8888888888888888,
              "#fdca26"
             ],
             [
              1,
              "#f0f921"
             ]
            ],
            "type": "histogram2dcontour"
           }
          ],
          "mesh3d": [
           {
            "colorbar": {
             "outlinewidth": 0,
             "ticks": ""
            },
            "type": "mesh3d"
           }
          ],
          "parcoords": [
           {
            "line": {
             "colorbar": {
              "outlinewidth": 0,
              "ticks": ""
             }
            },
            "type": "parcoords"
           }
          ],
          "pie": [
           {
            "automargin": true,
            "type": "pie"
           }
          ],
          "scatter": [
           {
            "fillpattern": {
             "fillmode": "overlay",
             "size": 10,
             "solidity": 0.2
            },
            "type": "scatter"
           }
          ],
          "scatter3d": [
           {
            "line": {
             "colorbar": {
              "outlinewidth": 0,
              "ticks": ""
             }
            },
            "marker": {
             "colorbar": {
              "outlinewidth": 0,
              "ticks": ""
             }
            },
            "type": "scatter3d"
           }
          ],
          "scattercarpet": [
           {
            "marker": {
             "colorbar": {
              "outlinewidth": 0,
              "ticks": ""
             }
            },
            "type": "scattercarpet"
           }
          ],
          "scattergeo": [
           {
            "marker": {
             "colorbar": {
              "outlinewidth": 0,
              "ticks": ""
             }
            },
            "type": "scattergeo"
           }
          ],
          "scattergl": [
           {
            "marker": {
             "colorbar": {
              "outlinewidth": 0,
              "ticks": ""
             }
            },
            "type": "scattergl"
           }
          ],
          "scattermapbox": [
           {
            "marker": {
             "colorbar": {
              "outlinewidth": 0,
              "ticks": ""
             }
            },
            "type": "scattermapbox"
           }
          ],
          "scatterpolar": [
           {
            "marker": {
             "colorbar": {
              "outlinewidth": 0,
              "ticks": ""
             }
            },
            "type": "scatterpolar"
           }
          ],
          "scatterpolargl": [
           {
            "marker": {
             "colorbar": {
              "outlinewidth": 0,
              "ticks": ""
             }
            },
            "type": "scatterpolargl"
           }
          ],
          "scatterternary": [
           {
            "marker": {
             "colorbar": {
              "outlinewidth": 0,
              "ticks": ""
             }
            },
            "type": "scatterternary"
           }
          ],
          "surface": [
           {
            "colorbar": {
             "outlinewidth": 0,
             "ticks": ""
            },
            "colorscale": [
             [
              0,
              "#0d0887"
             ],
             [
              0.1111111111111111,
              "#46039f"
             ],
             [
              0.2222222222222222,
              "#7201a8"
             ],
             [
              0.3333333333333333,
              "#9c179e"
             ],
             [
              0.4444444444444444,
              "#bd3786"
             ],
             [
              0.5555555555555556,
              "#d8576b"
             ],
             [
              0.6666666666666666,
              "#ed7953"
             ],
             [
              0.7777777777777778,
              "#fb9f3a"
             ],
             [
              0.8888888888888888,
              "#fdca26"
             ],
             [
              1,
              "#f0f921"
             ]
            ],
            "type": "surface"
           }
          ],
          "table": [
           {
            "cells": {
             "fill": {
              "color": "#EBF0F8"
             },
             "line": {
              "color": "white"
             }
            },
            "header": {
             "fill": {
              "color": "#C8D4E3"
             },
             "line": {
              "color": "white"
             }
            },
            "type": "table"
           }
          ]
         },
         "layout": {
          "annotationdefaults": {
           "arrowcolor": "#2a3f5f",
           "arrowhead": 0,
           "arrowwidth": 1
          },
          "autotypenumbers": "strict",
          "coloraxis": {
           "colorbar": {
            "outlinewidth": 0,
            "ticks": ""
           }
          },
          "colorscale": {
           "diverging": [
            [
             0,
             "#8e0152"
            ],
            [
             0.1,
             "#c51b7d"
            ],
            [
             0.2,
             "#de77ae"
            ],
            [
             0.3,
             "#f1b6da"
            ],
            [
             0.4,
             "#fde0ef"
            ],
            [
             0.5,
             "#f7f7f7"
            ],
            [
             0.6,
             "#e6f5d0"
            ],
            [
             0.7,
             "#b8e186"
            ],
            [
             0.8,
             "#7fbc41"
            ],
            [
             0.9,
             "#4d9221"
            ],
            [
             1,
             "#276419"
            ]
           ],
           "sequential": [
            [
             0,
             "#0d0887"
            ],
            [
             0.1111111111111111,
             "#46039f"
            ],
            [
             0.2222222222222222,
             "#7201a8"
            ],
            [
             0.3333333333333333,
             "#9c179e"
            ],
            [
             0.4444444444444444,
             "#bd3786"
            ],
            [
             0.5555555555555556,
             "#d8576b"
            ],
            [
             0.6666666666666666,
             "#ed7953"
            ],
            [
             0.7777777777777778,
             "#fb9f3a"
            ],
            [
             0.8888888888888888,
             "#fdca26"
            ],
            [
             1,
             "#f0f921"
            ]
           ],
           "sequentialminus": [
            [
             0,
             "#0d0887"
            ],
            [
             0.1111111111111111,
             "#46039f"
            ],
            [
             0.2222222222222222,
             "#7201a8"
            ],
            [
             0.3333333333333333,
             "#9c179e"
            ],
            [
             0.4444444444444444,
             "#bd3786"
            ],
            [
             0.5555555555555556,
             "#d8576b"
            ],
            [
             0.6666666666666666,
             "#ed7953"
            ],
            [
             0.7777777777777778,
             "#fb9f3a"
            ],
            [
             0.8888888888888888,
             "#fdca26"
            ],
            [
             1,
             "#f0f921"
            ]
           ]
          },
          "colorway": [
           "#636efa",
           "#EF553B",
           "#00cc96",
           "#ab63fa",
           "#FFA15A",
           "#19d3f3",
           "#FF6692",
           "#B6E880",
           "#FF97FF",
           "#FECB52"
          ],
          "font": {
           "color": "#2a3f5f"
          },
          "geo": {
           "bgcolor": "white",
           "lakecolor": "white",
           "landcolor": "#E5ECF6",
           "showlakes": true,
           "showland": true,
           "subunitcolor": "white"
          },
          "hoverlabel": {
           "align": "left"
          },
          "hovermode": "closest",
          "mapbox": {
           "style": "light"
          },
          "paper_bgcolor": "white",
          "plot_bgcolor": "#E5ECF6",
          "polar": {
           "angularaxis": {
            "gridcolor": "white",
            "linecolor": "white",
            "ticks": ""
           },
           "bgcolor": "#E5ECF6",
           "radialaxis": {
            "gridcolor": "white",
            "linecolor": "white",
            "ticks": ""
           }
          },
          "scene": {
           "xaxis": {
            "backgroundcolor": "#E5ECF6",
            "gridcolor": "white",
            "gridwidth": 2,
            "linecolor": "white",
            "showbackground": true,
            "ticks": "",
            "zerolinecolor": "white"
           },
           "yaxis": {
            "backgroundcolor": "#E5ECF6",
            "gridcolor": "white",
            "gridwidth": 2,
            "linecolor": "white",
            "showbackground": true,
            "ticks": "",
            "zerolinecolor": "white"
           },
           "zaxis": {
            "backgroundcolor": "#E5ECF6",
            "gridcolor": "white",
            "gridwidth": 2,
            "linecolor": "white",
            "showbackground": true,
            "ticks": "",
            "zerolinecolor": "white"
           }
          },
          "shapedefaults": {
           "line": {
            "color": "#2a3f5f"
           }
          },
          "ternary": {
           "aaxis": {
            "gridcolor": "white",
            "linecolor": "white",
            "ticks": ""
           },
           "baxis": {
            "gridcolor": "white",
            "linecolor": "white",
            "ticks": ""
           },
           "bgcolor": "#E5ECF6",
           "caxis": {
            "gridcolor": "white",
            "linecolor": "white",
            "ticks": ""
           }
          },
          "title": {
           "x": 0.05
          },
          "xaxis": {
           "automargin": true,
           "gridcolor": "white",
           "linecolor": "white",
           "ticks": "",
           "title": {
            "standoff": 15
           },
           "zerolinecolor": "white",
           "zerolinewidth": 2
          },
          "yaxis": {
           "automargin": true,
           "gridcolor": "white",
           "linecolor": "white",
           "ticks": "",
           "title": {
            "standoff": 15
           },
           "zerolinecolor": "white",
           "zerolinewidth": 2
          }
         }
        }
       }
      }
     },
     "metadata": {},
     "output_type": "display_data"
    },
    {
     "data": {
      "application/vnd.plotly.v1+json": {
       "config": {
        "plotlyServerURL": "https://plot.ly"
       },
       "data": [
        {
         "marker": {
          "size": 3
         },
         "mode": "markers",
         "name": "gt_1",
         "type": "scatter",
         "y": [
          0.7412209510803223,
          0.7452429533004761,
          0.7441275119781494,
          0.7428935766220093,
          0.7441025376319885,
          0.7433820366859436,
          0.7422492504119873,
          0.7421635985374451,
          0.7415319085121155,
          0.7412717938423157,
          0.7411085367202759,
          0.7407187223434448,
          0.7406716346740723,
          0.7404690980911255,
          0.7402276396751404,
          0.7400952577590942,
          0.7399219274520874,
          0.7398880124092102,
          0.7399196624755859,
          0.7398736476898193,
          0.7397860884666443,
          0.7399668097496033,
          0.7400338053703308,
          0.7400591969490051,
          0.7402153015136719,
          0.7401169538497925,
          0.7399542331695557,
          0.7399529218673706,
          0.7400346398353577,
          0.7404460906982422,
          0.7410095930099487,
          0.7411179542541504,
          0.7409893274307251,
          0.7408887147903442,
          0.7408775091171265,
          0.7410718202590942,
          0.7412010431289673,
          0.7411227822303772,
          0.7413207292556763,
          0.7417110800743103,
          0.7417154908180237,
          0.7417351007461548,
          0.7422165870666504,
          0.7425053715705872,
          0.7422977685928345,
          0.7422590255737305,
          0.7426542043685913,
          0.7428761720657349,
          0.7425869107246399,
          0.7425602674484253,
          0.7429866194725037,
          0.7434259057044983,
          0.743375837802887,
          0.7427497506141663,
          0.7423959970474243,
          0.7422979474067688,
          0.7419944405555725,
          0.7419693470001221,
          0.7423157691955566,
          0.7422199845314026,
          0.7420884370803833,
          0.742470920085907,
          0.7427049279212952,
          0.7426198720932007,
          0.7428189516067505,
          0.7436971068382263,
          0.7448540329933167,
          0.7458210587501526,
          0.7462927103042603,
          0.74599289894104,
          0.7450972199440002,
          0.7444250583648682,
          0.7448389530181885,
          0.7457469701766968,
          0.7458657622337341,
          0.7456914782524109,
          0.7461443543434143,
          0.7464464902877808,
          0.7462033629417419,
          0.7460570931434631,
          0.746005654335022,
          0.7460020780563354,
          0.7457962036132812,
          0.745151698589325,
          0.7448840737342834,
          0.7454543709754944,
          0.7460588812828064,
          0.7462284564971924,
          0.7464868426322937,
          0.7468962669372559,
          0.746896505355835,
          0.7469250559806824,
          0.7472873330116272,
          0.7469168305397034,
          0.7458539605140686,
          0.7455238103866577,
          0.7462133765220642,
          0.7467303276062012,
          0.7462459802627563,
          0.7458045482635498,
          0.746677041053772,
          0.7481359243392944,
          0.7486134767532349,
          0.7475197315216064,
          0.7458126544952393,
          0.7452865839004517,
          0.7467212677001953,
          0.7487238645553589,
          0.7488951683044434,
          0.7471904158592224,
          0.7459005117416382,
          0.7457266449928284,
          0.745710551738739,
          0.7455636858940125,
          0.7452534437179565,
          0.7448951601982117,
          0.744994044303894,
          0.7455353736877441,
          0.7461045384407043,
          0.746609628200531,
          0.7471246123313904,
          0.7473577857017517,
          0.7470184564590454,
          0.7467198371887207,
          0.7470616698265076,
          0.7472653985023499,
          0.7468273639678955,
          0.7466029524803162,
          0.7467377185821533,
          0.7465636730194092,
          0.746131956577301,
          0.7454923391342163,
          0.7446093559265137,
          0.7443723082542419,
          0.7453960180282593,
          0.7467768788337708,
          0.7472814917564392,
          0.7468258142471313,
          0.7462995052337646,
          0.7461034655570984,
          0.7457955479621887,
          0.7454639077186584,
          0.7455621957778931,
          0.7454637289047241,
          0.744636058807373,
          0.7440257668495178,
          0.7442336678504944,
          0.7444164752960205,
          0.7441495656967163,
          0.7440577745437622,
          0.7443348169326782,
          0.7447289228439331,
          0.7453835010528564,
          0.74626225233078,
          0.7468526363372803,
          0.7470273375511169,
          0.7471767663955688,
          0.7474977970123291,
          0.747771680355072,
          0.7477216720581055,
          0.7472659945487976,
          0.7467743754386902,
          0.7468221783638,
          0.7472444176673889,
          0.7472336888313293,
          0.746681809425354,
          0.746249794960022,
          0.7461772561073303,
          0.7461032867431641,
          0.7458553314208984,
          0.7455732822418213,
          0.7453312873840332,
          0.7451611757278442,
          0.7451027035713196,
          0.7450258731842041,
          0.744744062423706,
          0.7444067597389221,
          0.7445386052131653,
          0.7456060647964478,
          0.7475408315658569,
          0.7496848702430725,
          0.7512044310569763,
          0.7516341209411621,
          0.7511047124862671,
          0.7500562071800232,
          0.7488424777984619,
          0.747601330280304,
          0.7464568614959717,
          0.7456692457199097,
          0.7453276515007019,
          0.7451833486557007,
          0.7449871897697449,
          0.7448837161064148,
          0.7452369332313538,
          0.7460156679153442,
          0.7466641068458557,
          0.7467027306556702,
          0.7462558746337891,
          0.7457473278045654,
          0.7453564405441284,
          0.7451128363609314,
          0.7451592683792114,
          0.745480477809906,
          0.7457246780395508,
          0.7456806302070618,
          0.7455635666847229,
          0.7456251978874207,
          0.7457773089408875,
          0.7457357048988342,
          0.7454020977020264,
          0.7449467778205872,
          0.7445955276489258,
          0.744450569152832,
          0.7444134950637817,
          0.7443772554397583,
          0.7443597912788391,
          0.7443853616714478,
          0.7443708777427673,
          0.7442204356193542,
          0.7439387440681458,
          0.7436203956604004,
          0.7433629035949707,
          0.7431976795196533,
          0.7430668473243713,
          0.7429150938987732,
          0.7427529692649841,
          0.74261474609375,
          0.7424737811088562,
          0.7422952055931091,
          0.7421028017997742,
          0.7419376969337463,
          0.74184650182724,
          0.7418599128723145,
          0.7419076561927795,
          0.7418450713157654,
          0.7416426539421082,
          0.7414443492889404,
          0.7413532733917236,
          0.741289496421814,
          0.7411631345748901,
          0.7410576939582825,
          0.7410843968391418,
          0.7411772608757019,
          0.7411869764328003,
          0.7410796880722046,
          0.7409271597862244,
          0.7407765984535217,
          0.7406464219093323,
          0.7405707836151123,
          0.7405574917793274,
          0.7405778169631958,
          0.7406171560287476,
          0.7406613826751709,
          0.7406481504440308,
          0.7405440211296082,
          0.7404317259788513,
          0.7404083013534546,
          0.7404528260231018,
          0.7404740452766418,
          0.7404432892799377,
          0.7403955459594727,
          0.7403503060340881,
          0.740315318107605,
          0.7403150200843811,
          0.7403504848480225,
          0.74037104845047,
          0.740332305431366,
          0.7402523159980774,
          0.7401796579360962,
          0.7401325702667236,
          0.7401057481765747,
          0.7400956153869629,
          0.7400938868522644,
          0.7400818467140198,
          0.7400553226470947,
          0.7400273680686951,
          0.7400119304656982,
          0.7400343418121338,
          0.7401196956634521,
          0.7402395606040955,
          0.7403028607368469,
          0.7402462363243103,
          0.7401149868965149
         ]
        },
        {
         "marker": {
          "size": 3
         },
         "mode": "markers",
         "name": "pred_1",
         "type": "scatter",
         "y": [
          0.7038560509681702,
          0.7459364533424377,
          0.7278432846069336,
          0.7417609691619873,
          0.7326002717018127,
          0.7309750914573669,
          0.7347749471664429,
          0.7337725162506104,
          0.7224156260490417,
          0.7329915165901184,
          0.7283597588539124,
          0.7390008568763733,
          0.7081572413444519,
          0.715645968914032,
          0.7395671010017395,
          0.7170078158378601,
          0.7259693145751953,
          0.7315331101417542,
          0.732270359992981,
          0.7378848791122437,
          0.733641505241394,
          0.7233325242996216,
          0.73291015625,
          0.7410374879837036,
          0.7351788282394409,
          0.7298496961593628,
          0.7325130701065063,
          0.7386845946311951,
          0.7302839159965515,
          0.7220520377159119,
          0.7287552356719971,
          0.740815281867981,
          0.74546879529953,
          0.7434356808662415,
          0.7299748659133911,
          0.7329688668251038,
          0.7448787689208984,
          0.7157670855522156,
          0.7274932265281677,
          0.7411624193191528,
          0.7435963749885559,
          0.7367731928825378,
          0.7356006503105164,
          0.7510771751403809,
          0.7251455187797546,
          0.7561969757080078,
          0.7238948941230774,
          0.7427524924278259,
          0.7327119708061218,
          0.7480431199073792,
          0.7483494877815247,
          0.749649167060852,
          0.746071457862854,
          0.7596808671951294,
          0.71684730052948,
          0.7405248284339905,
          0.7470518946647644,
          0.7644580602645874,
          0.7384477257728577,
          0.7424245476722717,
          0.7549014091491699,
          0.739647626876831,
          0.7327983379364014,
          0.7556838989257812,
          0.7341334223747253,
          0.7316408157348633,
          0.7308381199836731,
          0.7247989773750305,
          0.7335890531539917,
          0.7590405344963074,
          0.7274017333984375,
          0.7486974000930786,
          0.738924503326416,
          0.7360156774520874,
          0.7387908101081848,
          0.7447939515113831,
          0.7370550632476807,
          0.7316445708274841,
          0.746626079082489,
          0.7496336102485657,
          0.7453156113624573,
          0.7519851922988892,
          0.7335056066513062,
          0.7360038757324219,
          0.7310536503791809,
          0.731892466545105,
          0.7332445383071899,
          0.7316977977752686,
          0.7349364161491394,
          0.7461201548576355,
          0.737617552280426,
          0.7411637306213379,
          0.7590916156768799,
          0.7599999904632568,
          0.7422774434089661,
          0.7359790205955505,
          0.7442430257797241,
          0.718583345413208,
          0.7559825778007507,
          0.7450867295265198,
          0.7461947202682495,
          0.7540622353553772,
          0.7534807324409485,
          0.7639818787574768,
          0.7428992390632629,
          0.7231587767601013,
          0.7538567185401917,
          0.740836501121521,
          0.764930784702301,
          0.7341673374176025,
          0.7354618310928345,
          0.7510541677474976,
          0.7481369376182556,
          0.7440555095672607,
          0.7256091833114624,
          0.7380566000938416,
          0.7331313490867615,
          0.7512896060943604,
          0.7265503406524658,
          0.7489882111549377,
          0.7531624436378479,
          0.7307044863700867,
          0.7502777576446533,
          0.733677864074707,
          0.7397786974906921,
          0.7517762184143066,
          0.7342195510864258,
          0.7316155433654785,
          0.7477405071258545,
          0.7461861968040466,
          0.7311279773712158,
          0.7257066369056702,
          0.732451856136322,
          0.7183895111083984,
          0.7368389964103699,
          0.7381592988967896,
          0.7348136901855469,
          0.7409098744392395,
          0.7406498789787292,
          0.7293059229850769,
          0.7409899830818176,
          0.7345860004425049,
          0.7265738248825073,
          0.7465444207191467,
          0.7390800714492798,
          0.7554269433021545,
          0.7362169027328491,
          0.7331829071044922,
          0.7495220303535461,
          0.7422536611557007,
          0.7675608396530151,
          0.7496902346611023,
          0.7538155913352966,
          0.7708707451820374,
          0.7544121742248535,
          0.7533712387084961,
          0.7473303079605103,
          0.7686057686805725,
          0.7477394938468933,
          0.7455325722694397,
          0.7356008291244507,
          0.7393612265586853,
          0.7419468760490417,
          0.7518428564071655,
          0.7550747990608215,
          0.7444798946380615,
          0.740319550037384,
          0.7544862627983093,
          0.7430688738822937,
          0.7499219179153442,
          0.7687650918960571,
          0.7516223788261414,
          0.757249653339386,
          0.7581849098205566,
          0.7591320276260376,
          0.7180057168006897,
          0.747599184513092,
          0.7804860472679138,
          0.7494164109230042,
          0.7674612402915955,
          0.7705187201499939,
          0.7456779479980469,
          0.769921600818634,
          0.7831832766532898,
          0.7766920328140259,
          0.7406142354011536,
          0.768561840057373,
          0.7554059624671936,
          0.7566449046134949,
          0.7450013756752014,
          0.7547190189361572,
          0.7699487805366516,
          0.7404977083206177,
          0.7457914352416992,
          0.7556015849113464,
          0.75273597240448,
          0.7343849539756775,
          0.7528572678565979,
          0.7371709942817688,
          0.7405362129211426,
          0.7467057108879089,
          0.7559928894042969,
          0.7454559803009033,
          0.7553743124008179,
          0.7367948293685913,
          0.7452624440193176,
          0.7438138723373413,
          0.7600575685501099,
          0.7375224828720093,
          0.7618852853775024,
          0.7613125443458557,
          0.7544707655906677,
          0.7525283694267273,
          0.7601100206375122,
          0.7555791735649109,
          0.7482427358627319,
          0.7453767657279968,
          0.74929279088974,
          0.745712399482727,
          0.7460201978683472,
          0.7304628491401672,
          0.7379667162895203,
          0.726961076259613,
          0.7541924715042114,
          0.7517231702804565,
          0.7494688630104065,
          0.7461858987808228,
          0.737801194190979,
          0.745051920413971,
          0.7525522708892822,
          0.7377246022224426,
          0.7263970375061035,
          0.7488332986831665,
          0.7361446619033813,
          0.7565866708755493,
          0.7367576360702515,
          0.7233777046203613,
          0.7264199256896973,
          0.7295453548431396,
          0.7296650409698486,
          0.7430347204208374,
          0.7476617693901062,
          0.7491071224212646,
          0.7327589988708496,
          0.7432581186294556,
          0.7159513831138611,
          0.7305339574813843,
          0.743776798248291,
          0.7359420657157898,
          0.7274171113967896,
          0.7483221292495728,
          0.738336443901062,
          0.7397476434707642,
          0.7248907089233398,
          0.7435176372528076,
          0.7280837297439575,
          0.7438355684280396,
          0.7403408288955688,
          0.7396517395973206,
          0.7388839721679688,
          0.7426183819770813,
          0.7268564701080322,
          0.7236118316650391,
          0.7547200918197632,
          0.7292238473892212,
          0.733134925365448,
          0.7516677975654602,
          0.743830680847168,
          0.7431049346923828,
          0.735113799571991,
          0.724378764629364,
          0.7386015057563782,
          0.7308173179626465,
          0.7350102066993713,
          0.7444471120834351,
          0.7442421913146973,
          0.7300324440002441,
          0.7470681667327881,
          0.7427791953086853,
          0.7209368348121643,
          0.7397209405899048,
          0.7313961386680603,
          0.7300397157669067
         ]
        }
       ],
       "layout": {
        "template": {
         "data": {
          "bar": [
           {
            "error_x": {
             "color": "#2a3f5f"
            },
            "error_y": {
             "color": "#2a3f5f"
            },
            "marker": {
             "line": {
              "color": "#E5ECF6",
              "width": 0.5
             },
             "pattern": {
              "fillmode": "overlay",
              "size": 10,
              "solidity": 0.2
             }
            },
            "type": "bar"
           }
          ],
          "barpolar": [
           {
            "marker": {
             "line": {
              "color": "#E5ECF6",
              "width": 0.5
             },
             "pattern": {
              "fillmode": "overlay",
              "size": 10,
              "solidity": 0.2
             }
            },
            "type": "barpolar"
           }
          ],
          "carpet": [
           {
            "aaxis": {
             "endlinecolor": "#2a3f5f",
             "gridcolor": "white",
             "linecolor": "white",
             "minorgridcolor": "white",
             "startlinecolor": "#2a3f5f"
            },
            "baxis": {
             "endlinecolor": "#2a3f5f",
             "gridcolor": "white",
             "linecolor": "white",
             "minorgridcolor": "white",
             "startlinecolor": "#2a3f5f"
            },
            "type": "carpet"
           }
          ],
          "choropleth": [
           {
            "colorbar": {
             "outlinewidth": 0,
             "ticks": ""
            },
            "type": "choropleth"
           }
          ],
          "contour": [
           {
            "colorbar": {
             "outlinewidth": 0,
             "ticks": ""
            },
            "colorscale": [
             [
              0,
              "#0d0887"
             ],
             [
              0.1111111111111111,
              "#46039f"
             ],
             [
              0.2222222222222222,
              "#7201a8"
             ],
             [
              0.3333333333333333,
              "#9c179e"
             ],
             [
              0.4444444444444444,
              "#bd3786"
             ],
             [
              0.5555555555555556,
              "#d8576b"
             ],
             [
              0.6666666666666666,
              "#ed7953"
             ],
             [
              0.7777777777777778,
              "#fb9f3a"
             ],
             [
              0.8888888888888888,
              "#fdca26"
             ],
             [
              1,
              "#f0f921"
             ]
            ],
            "type": "contour"
           }
          ],
          "contourcarpet": [
           {
            "colorbar": {
             "outlinewidth": 0,
             "ticks": ""
            },
            "type": "contourcarpet"
           }
          ],
          "heatmap": [
           {
            "colorbar": {
             "outlinewidth": 0,
             "ticks": ""
            },
            "colorscale": [
             [
              0,
              "#0d0887"
             ],
             [
              0.1111111111111111,
              "#46039f"
             ],
             [
              0.2222222222222222,
              "#7201a8"
             ],
             [
              0.3333333333333333,
              "#9c179e"
             ],
             [
              0.4444444444444444,
              "#bd3786"
             ],
             [
              0.5555555555555556,
              "#d8576b"
             ],
             [
              0.6666666666666666,
              "#ed7953"
             ],
             [
              0.7777777777777778,
              "#fb9f3a"
             ],
             [
              0.8888888888888888,
              "#fdca26"
             ],
             [
              1,
              "#f0f921"
             ]
            ],
            "type": "heatmap"
           }
          ],
          "heatmapgl": [
           {
            "colorbar": {
             "outlinewidth": 0,
             "ticks": ""
            },
            "colorscale": [
             [
              0,
              "#0d0887"
             ],
             [
              0.1111111111111111,
              "#46039f"
             ],
             [
              0.2222222222222222,
              "#7201a8"
             ],
             [
              0.3333333333333333,
              "#9c179e"
             ],
             [
              0.4444444444444444,
              "#bd3786"
             ],
             [
              0.5555555555555556,
              "#d8576b"
             ],
             [
              0.6666666666666666,
              "#ed7953"
             ],
             [
              0.7777777777777778,
              "#fb9f3a"
             ],
             [
              0.8888888888888888,
              "#fdca26"
             ],
             [
              1,
              "#f0f921"
             ]
            ],
            "type": "heatmapgl"
           }
          ],
          "histogram": [
           {
            "marker": {
             "pattern": {
              "fillmode": "overlay",
              "size": 10,
              "solidity": 0.2
             }
            },
            "type": "histogram"
           }
          ],
          "histogram2d": [
           {
            "colorbar": {
             "outlinewidth": 0,
             "ticks": ""
            },
            "colorscale": [
             [
              0,
              "#0d0887"
             ],
             [
              0.1111111111111111,
              "#46039f"
             ],
             [
              0.2222222222222222,
              "#7201a8"
             ],
             [
              0.3333333333333333,
              "#9c179e"
             ],
             [
              0.4444444444444444,
              "#bd3786"
             ],
             [
              0.5555555555555556,
              "#d8576b"
             ],
             [
              0.6666666666666666,
              "#ed7953"
             ],
             [
              0.7777777777777778,
              "#fb9f3a"
             ],
             [
              0.8888888888888888,
              "#fdca26"
             ],
             [
              1,
              "#f0f921"
             ]
            ],
            "type": "histogram2d"
           }
          ],
          "histogram2dcontour": [
           {
            "colorbar": {
             "outlinewidth": 0,
             "ticks": ""
            },
            "colorscale": [
             [
              0,
              "#0d0887"
             ],
             [
              0.1111111111111111,
              "#46039f"
             ],
             [
              0.2222222222222222,
              "#7201a8"
             ],
             [
              0.3333333333333333,
              "#9c179e"
             ],
             [
              0.4444444444444444,
              "#bd3786"
             ],
             [
              0.5555555555555556,
              "#d8576b"
             ],
             [
              0.6666666666666666,
              "#ed7953"
             ],
             [
              0.7777777777777778,
              "#fb9f3a"
             ],
             [
              0.8888888888888888,
              "#fdca26"
             ],
             [
              1,
              "#f0f921"
             ]
            ],
            "type": "histogram2dcontour"
           }
          ],
          "mesh3d": [
           {
            "colorbar": {
             "outlinewidth": 0,
             "ticks": ""
            },
            "type": "mesh3d"
           }
          ],
          "parcoords": [
           {
            "line": {
             "colorbar": {
              "outlinewidth": 0,
              "ticks": ""
             }
            },
            "type": "parcoords"
           }
          ],
          "pie": [
           {
            "automargin": true,
            "type": "pie"
           }
          ],
          "scatter": [
           {
            "fillpattern": {
             "fillmode": "overlay",
             "size": 10,
             "solidity": 0.2
            },
            "type": "scatter"
           }
          ],
          "scatter3d": [
           {
            "line": {
             "colorbar": {
              "outlinewidth": 0,
              "ticks": ""
             }
            },
            "marker": {
             "colorbar": {
              "outlinewidth": 0,
              "ticks": ""
             }
            },
            "type": "scatter3d"
           }
          ],
          "scattercarpet": [
           {
            "marker": {
             "colorbar": {
              "outlinewidth": 0,
              "ticks": ""
             }
            },
            "type": "scattercarpet"
           }
          ],
          "scattergeo": [
           {
            "marker": {
             "colorbar": {
              "outlinewidth": 0,
              "ticks": ""
             }
            },
            "type": "scattergeo"
           }
          ],
          "scattergl": [
           {
            "marker": {
             "colorbar": {
              "outlinewidth": 0,
              "ticks": ""
             }
            },
            "type": "scattergl"
           }
          ],
          "scattermapbox": [
           {
            "marker": {
             "colorbar": {
              "outlinewidth": 0,
              "ticks": ""
             }
            },
            "type": "scattermapbox"
           }
          ],
          "scatterpolar": [
           {
            "marker": {
             "colorbar": {
              "outlinewidth": 0,
              "ticks": ""
             }
            },
            "type": "scatterpolar"
           }
          ],
          "scatterpolargl": [
           {
            "marker": {
             "colorbar": {
              "outlinewidth": 0,
              "ticks": ""
             }
            },
            "type": "scatterpolargl"
           }
          ],
          "scatterternary": [
           {
            "marker": {
             "colorbar": {
              "outlinewidth": 0,
              "ticks": ""
             }
            },
            "type": "scatterternary"
           }
          ],
          "surface": [
           {
            "colorbar": {
             "outlinewidth": 0,
             "ticks": ""
            },
            "colorscale": [
             [
              0,
              "#0d0887"
             ],
             [
              0.1111111111111111,
              "#46039f"
             ],
             [
              0.2222222222222222,
              "#7201a8"
             ],
             [
              0.3333333333333333,
              "#9c179e"
             ],
             [
              0.4444444444444444,
              "#bd3786"
             ],
             [
              0.5555555555555556,
              "#d8576b"
             ],
             [
              0.6666666666666666,
              "#ed7953"
             ],
             [
              0.7777777777777778,
              "#fb9f3a"
             ],
             [
              0.8888888888888888,
              "#fdca26"
             ],
             [
              1,
              "#f0f921"
             ]
            ],
            "type": "surface"
           }
          ],
          "table": [
           {
            "cells": {
             "fill": {
              "color": "#EBF0F8"
             },
             "line": {
              "color": "white"
             }
            },
            "header": {
             "fill": {
              "color": "#C8D4E3"
             },
             "line": {
              "color": "white"
             }
            },
            "type": "table"
           }
          ]
         },
         "layout": {
          "annotationdefaults": {
           "arrowcolor": "#2a3f5f",
           "arrowhead": 0,
           "arrowwidth": 1
          },
          "autotypenumbers": "strict",
          "coloraxis": {
           "colorbar": {
            "outlinewidth": 0,
            "ticks": ""
           }
          },
          "colorscale": {
           "diverging": [
            [
             0,
             "#8e0152"
            ],
            [
             0.1,
             "#c51b7d"
            ],
            [
             0.2,
             "#de77ae"
            ],
            [
             0.3,
             "#f1b6da"
            ],
            [
             0.4,
             "#fde0ef"
            ],
            [
             0.5,
             "#f7f7f7"
            ],
            [
             0.6,
             "#e6f5d0"
            ],
            [
             0.7,
             "#b8e186"
            ],
            [
             0.8,
             "#7fbc41"
            ],
            [
             0.9,
             "#4d9221"
            ],
            [
             1,
             "#276419"
            ]
           ],
           "sequential": [
            [
             0,
             "#0d0887"
            ],
            [
             0.1111111111111111,
             "#46039f"
            ],
            [
             0.2222222222222222,
             "#7201a8"
            ],
            [
             0.3333333333333333,
             "#9c179e"
            ],
            [
             0.4444444444444444,
             "#bd3786"
            ],
            [
             0.5555555555555556,
             "#d8576b"
            ],
            [
             0.6666666666666666,
             "#ed7953"
            ],
            [
             0.7777777777777778,
             "#fb9f3a"
            ],
            [
             0.8888888888888888,
             "#fdca26"
            ],
            [
             1,
             "#f0f921"
            ]
           ],
           "sequentialminus": [
            [
             0,
             "#0d0887"
            ],
            [
             0.1111111111111111,
             "#46039f"
            ],
            [
             0.2222222222222222,
             "#7201a8"
            ],
            [
             0.3333333333333333,
             "#9c179e"
            ],
            [
             0.4444444444444444,
             "#bd3786"
            ],
            [
             0.5555555555555556,
             "#d8576b"
            ],
            [
             0.6666666666666666,
             "#ed7953"
            ],
            [
             0.7777777777777778,
             "#fb9f3a"
            ],
            [
             0.8888888888888888,
             "#fdca26"
            ],
            [
             1,
             "#f0f921"
            ]
           ]
          },
          "colorway": [
           "#636efa",
           "#EF553B",
           "#00cc96",
           "#ab63fa",
           "#FFA15A",
           "#19d3f3",
           "#FF6692",
           "#B6E880",
           "#FF97FF",
           "#FECB52"
          ],
          "font": {
           "color": "#2a3f5f"
          },
          "geo": {
           "bgcolor": "white",
           "lakecolor": "white",
           "landcolor": "#E5ECF6",
           "showlakes": true,
           "showland": true,
           "subunitcolor": "white"
          },
          "hoverlabel": {
           "align": "left"
          },
          "hovermode": "closest",
          "mapbox": {
           "style": "light"
          },
          "paper_bgcolor": "white",
          "plot_bgcolor": "#E5ECF6",
          "polar": {
           "angularaxis": {
            "gridcolor": "white",
            "linecolor": "white",
            "ticks": ""
           },
           "bgcolor": "#E5ECF6",
           "radialaxis": {
            "gridcolor": "white",
            "linecolor": "white",
            "ticks": ""
           }
          },
          "scene": {
           "xaxis": {
            "backgroundcolor": "#E5ECF6",
            "gridcolor": "white",
            "gridwidth": 2,
            "linecolor": "white",
            "showbackground": true,
            "ticks": "",
            "zerolinecolor": "white"
           },
           "yaxis": {
            "backgroundcolor": "#E5ECF6",
            "gridcolor": "white",
            "gridwidth": 2,
            "linecolor": "white",
            "showbackground": true,
            "ticks": "",
            "zerolinecolor": "white"
           },
           "zaxis": {
            "backgroundcolor": "#E5ECF6",
            "gridcolor": "white",
            "gridwidth": 2,
            "linecolor": "white",
            "showbackground": true,
            "ticks": "",
            "zerolinecolor": "white"
           }
          },
          "shapedefaults": {
           "line": {
            "color": "#2a3f5f"
           }
          },
          "ternary": {
           "aaxis": {
            "gridcolor": "white",
            "linecolor": "white",
            "ticks": ""
           },
           "baxis": {
            "gridcolor": "white",
            "linecolor": "white",
            "ticks": ""
           },
           "bgcolor": "#E5ECF6",
           "caxis": {
            "gridcolor": "white",
            "linecolor": "white",
            "ticks": ""
           }
          },
          "title": {
           "x": 0.05
          },
          "xaxis": {
           "automargin": true,
           "gridcolor": "white",
           "linecolor": "white",
           "ticks": "",
           "title": {
            "standoff": 15
           },
           "zerolinecolor": "white",
           "zerolinewidth": 2
          },
          "yaxis": {
           "automargin": true,
           "gridcolor": "white",
           "linecolor": "white",
           "ticks": "",
           "title": {
            "standoff": 15
           },
           "zerolinecolor": "white",
           "zerolinewidth": 2
          }
         }
        }
       }
      }
     },
     "metadata": {},
     "output_type": "display_data"
    },
    {
     "data": {
      "application/vnd.plotly.v1+json": {
       "config": {
        "plotlyServerURL": "https://plot.ly"
       },
       "data": [
        {
         "marker": {
          "size": 3
         },
         "mode": "markers",
         "name": "gt_2",
         "type": "scatter",
         "y": [
          0.16193799674510956,
          0.1636883020401001,
          0.16370011866092682,
          0.16344358026981354,
          0.16346172988414764,
          0.16310130059719086,
          0.1634579747915268,
          0.1643955409526825,
          0.16444946825504303,
          0.1644383668899536,
          0.16466271877288818,
          0.16512884199619293,
          0.16590675711631775,
          0.16634273529052734,
          0.16636717319488525,
          0.1664714366197586,
          0.166819766163826,
          0.1670939326286316,
          0.1673581302165985,
          0.16781485080718994,
          0.16827768087387085,
          0.16880632936954498,
          0.16941675543785095,
          0.17000392079353333,
          0.17061522603034973,
          0.17130300402641296,
          0.17209184169769287,
          0.17289525270462036,
          0.17370545864105225,
          0.17462453246116638,
          0.17559805512428284,
          0.1761494278907776,
          0.17614102363586426,
          0.17599797248840332,
          0.17604878544807434,
          0.17630378901958466,
          0.17650024592876434,
          0.17667976021766663,
          0.17709143459796906,
          0.17755857110023499,
          0.17783240973949432,
          0.17789319157600403,
          0.1777431219816208,
          0.1776004284620285,
          0.17792147397994995,
          0.17865882813930511,
          0.17918434739112854,
          0.17919032275676727,
          0.17877879738807678,
          0.17825910449028015,
          0.1781100034713745,
          0.17832103371620178,
          0.17818033695220947,
          0.177438884973526,
          0.1767362505197525,
          0.1764124631881714,
          0.1761506050825119,
          0.17586755752563477,
          0.1758040487766266,
          0.17574767768383026,
          0.17544271051883698,
          0.1750219315290451,
          0.1745932400226593,
          0.17423255741596222,
          0.17394018173217773,
          0.1736975759267807,
          0.1735764443874359,
          0.17350336909294128,
          0.17321373522281647,
          0.17273545265197754,
          0.17234180867671967,
          0.17201434075832367,
          0.17170560359954834,
          0.17154817283153534,
          0.17145311832427979,
          0.17136162519454956,
          0.1713387817144394,
          0.17101821303367615,
          0.1703260838985443,
          0.16988936066627502,
          0.16974258422851562,
          0.16946887969970703,
          0.16904757916927338,
          0.16860823333263397,
          0.16873539984226227,
          0.17035534977912903,
          0.17322281002998352,
          0.1758221685886383,
          0.17723053693771362,
          0.1780955195426941,
          0.17948085069656372,
          0.18125805258750916,
          0.18228355050086975,
          0.18222062289714813,
          0.1819695383310318,
          0.18205298483371735,
          0.18206886947155,
          0.1817038357257843,
          0.18140704929828644,
          0.18183377385139465,
          0.18245923519134521,
          0.18210798501968384,
          0.1809508055448532,
          0.18002037703990936,
          0.17966757714748383,
          0.1795930117368698,
          0.1796022206544876,
          0.17970457673072815,
          0.17955535650253296,
          0.17907895147800446,
          0.17892508208751678,
          0.17909786105155945,
          0.17897969484329224,
          0.17860840260982513,
          0.1782868355512619,
          0.17812104523181915,
          0.1782325953245163,
          0.17851868271827698,
          0.17876356840133667,
          0.17896389961242676,
          0.1790218949317932,
          0.1786835789680481,
          0.17808261513710022,
          0.17774492502212524,
          0.1778089553117752,
          0.17787346243858337,
          0.1777685284614563,
          0.17770402133464813,
          0.17770187556743622,
          0.177690327167511,
          0.1778498888015747,
          0.17823386192321777,
          0.17866270244121552,
          0.17918886244297028,
          0.17996123433113098,
          0.18077977001667023,
          0.18143664300441742,
          0.1821805089712143,
          0.18324658274650574,
          0.18432976305484772,
          0.18510118126869202,
          0.18575561046600342,
          0.18656013906002045,
          0.18737727403640747,
          0.18794456124305725,
          0.18823853135108948,
          0.18850338459014893,
          0.18898867070674896,
          0.1896231472492218,
          0.19013936817646027,
          0.19049187004566193,
          0.19090117514133453,
          0.19155734777450562,
          0.19232454895973206,
          0.1928025484085083,
          0.19285441935062408,
          0.19273445010185242,
          0.19260556995868683,
          0.19235384464263916,
          0.1919369399547577,
          0.19150374829769135,
          0.19122275710105896,
          0.1911529004573822,
          0.19115138053894043,
          0.19100326299667358,
          0.19073893129825592,
          0.19049985706806183,
          0.19021469354629517,
          0.18978548049926758,
          0.18939894437789917,
          0.18925130367279053,
          0.18921633064746857,
          0.18907679617404938,
          0.18886834383010864,
          0.188741073012352,
          0.18873688578605652,
          0.18884827196598053,
          0.18917661905288696,
          0.190006822347641,
          0.1916152685880661,
          0.19386529922485352,
          0.1961151510477066,
          0.19771717488765717,
          0.1984819620847702,
          0.1985393911600113,
          0.19801633059978485,
          0.19699649512767792,
          0.19561448693275452,
          0.19407400488853455,
          0.1926126778125763,
          0.1914118230342865,
          0.19050578773021698,
          0.18982185423374176,
          0.1893530786037445,
          0.1891682893037796,
          0.18923620879650116,
          0.18937548995018005,
          0.189447820186615,
          0.18946419656276703,
          0.1894538849592209,
          0.18939955532550812,
          0.18931113183498383,
          0.1891828328371048,
          0.1889694184064865,
          0.18870344758033752,
          0.18853868544101715,
          0.18853969871997833,
          0.18856868147850037,
          0.18848422169685364,
          0.18834349513053894,
          0.18829883635044098,
          0.18836721777915955,
          0.18845239281654358,
          0.18847383558750153,
          0.18844090402126312,
          0.18841736018657684,
          0.18843653798103333,
          0.1884811818599701,
          0.1885063499212265,
          0.18848729133605957,
          0.18844687938690186,
          0.1884068250656128,
          0.18833912909030914,
          0.1881614476442337,
          0.18782909214496613,
          0.18742574751377106,
          0.18707992136478424,
          0.18681682646274567,
          0.18656332790851593,
          0.186277374625206,
          0.18599125742912292,
          0.18578699231147766,
          0.18571273982524872,
          0.1856973022222519,
          0.18559075891971588,
          0.1853446066379547,
          0.185047909617424,
          0.1847553253173828,
          0.18441621959209442,
          0.1840210109949112,
          0.18368393182754517,
          0.18349367380142212,
          0.18340495228767395,
          0.183309406042099,
          0.18313446640968323,
          0.18285655975341797,
          0.1824878752231598,
          0.18208138644695282,
          0.18171055614948273,
          0.18140994012355804,
          0.18115580081939697,
          0.18089964985847473,
          0.18061083555221558,
          0.1802869439125061,
          0.17995020747184753,
          0.17964868247509003,
          0.17942693829536438,
          0.17928163707256317,
          0.17914679646492004,
          0.1789468675851822,
          0.17866861820220947,
          0.1783670336008072,
          0.17809732258319855,
          0.17786771059036255,
          0.17765477299690247,
          0.17744529247283936,
          0.17725104093551636,
          0.17707550525665283,
          0.1768893599510193,
          0.17666208744049072,
          0.1764097511768341,
          0.17617850005626678,
          0.17599591612815857,
          0.17585107684135437,
          0.17571181058883667,
          0.17555424571037292,
          0.17539037764072418,
          0.17525634169578552,
          0.17515011131763458,
          0.17500914633274078,
          0.17478103935718536,
          0.174498051404953,
          0.1742391586303711
         ]
        },
        {
         "marker": {
          "size": 3
         },
         "mode": "markers",
         "name": "pred_2",
         "type": "scatter",
         "y": [
          0.17149405181407928,
          0.17570573091506958,
          0.17056864500045776,
          0.17261762917041779,
          0.17534461617469788,
          0.16902397572994232,
          0.169625386595726,
          0.1684766262769699,
          0.17427551746368408,
          0.17071223258972168,
          0.17152585089206696,
          0.1711142510175705,
          0.17160454392433167,
          0.17225396633148193,
          0.17249548435211182,
          0.17563362419605255,
          0.17259924113750458,
          0.17594119906425476,
          0.17219509184360504,
          0.17555874586105347,
          0.17068886756896973,
          0.17321275174617767,
          0.17412737011909485,
          0.17437630891799927,
          0.17436327040195465,
          0.17691226303577423,
          0.1750766932964325,
          0.17736466228961945,
          0.1766866147518158,
          0.17316454648971558,
          0.17571844160556793,
          0.17540976405143738,
          0.17564179003238678,
          0.17441391944885254,
          0.17312109470367432,
          0.17226780951023102,
          0.1679164171218872,
          0.17344774305820465,
          0.1775248944759369,
          0.1740972101688385,
          0.1738399863243103,
          0.17209492623806,
          0.17011943459510803,
          0.17699116468429565,
          0.17825323343276978,
          0.18059249222278595,
          0.18179255723953247,
          0.17826080322265625,
          0.17616616189479828,
          0.17045561969280243,
          0.17506401240825653,
          0.17064857482910156,
          0.17806494235992432,
          0.18020734190940857,
          0.1828691065311432,
          0.17701934278011322,
          0.17635993659496307,
          0.17721019685268402,
          0.17545340955257416,
          0.17918778955936432,
          0.1748894602060318,
          0.17274555563926697,
          0.17650042474269867,
          0.17493022978305817,
          0.17367736995220184,
          0.17563098669052124,
          0.17539186775684357,
          0.1714811474084854,
          0.18336309492588043,
          0.17786644399166107,
          0.17689809203147888,
          0.17412517964839935,
          0.1740199476480484,
          0.17976956069469452,
          0.179189994931221,
          0.1759893149137497,
          0.17288431525230408,
          0.17568738758563995,
          0.1767520159482956,
          0.17424537241458893,
          0.17117257416248322,
          0.17533256113529205,
          0.1754673421382904,
          0.1808578073978424,
          0.17608541250228882,
          0.17810973525047302,
          0.1790742129087448,
          0.17723344266414642,
          0.1792687475681305,
          0.18203888833522797,
          0.1739356815814972,
          0.17697811126708984,
          0.17973783612251282,
          0.1811482012271881,
          0.18414147198200226,
          0.17595994472503662,
          0.18292251229286194,
          0.17991749942302704,
          0.17959930002689362,
          0.18689551949501038,
          0.1822095364332199,
          0.18363985419273376,
          0.17786002159118652,
          0.18537336587905884,
          0.17653079330921173,
          0.1759929656982422,
          0.18079128861427307,
          0.17866916954517365,
          0.1805722415447235,
          0.1811450868844986,
          0.17671383917331696,
          0.1805492490530014,
          0.18113717436790466,
          0.18079234659671783,
          0.1805180460214615,
          0.1715324968099594,
          0.17961661517620087,
          0.17940467596054077,
          0.18104134500026703,
          0.18378481268882751,
          0.18297097086906433,
          0.1846449375152588,
          0.18015286326408386,
          0.17956840991973877,
          0.1782769113779068,
          0.18006400763988495,
          0.1783241629600525,
          0.176240935921669,
          0.17906475067138672,
          0.18458107113838196,
          0.17666760087013245,
          0.17748257517814636,
          0.18076805770397186,
          0.17889931797981262,
          0.17846153676509857,
          0.17640216648578644,
          0.1820664405822754,
          0.18037289381027222,
          0.18303731083869934,
          0.17932137846946716,
          0.18192531168460846,
          0.17756305634975433,
          0.18117716908454895,
          0.18012288212776184,
          0.18377742171287537,
          0.18251930177211761,
          0.18201953172683716,
          0.18645435571670532,
          0.18674539029598236,
          0.18336844444274902,
          0.18061284720897675,
          0.18467240035533905,
          0.183944970369339,
          0.18265987932682037,
          0.18813703954219818,
          0.1705252081155777,
          0.17696258425712585,
          0.18679028749465942,
          0.18472950160503387,
          0.17992037534713745,
          0.1851639449596405,
          0.18369373679161072,
          0.18307654559612274,
          0.1840818226337433,
          0.18464457988739014,
          0.1839751899242401,
          0.1814204305410385,
          0.18456009030342102,
          0.18032538890838623,
          0.17715856432914734,
          0.18399211764335632,
          0.17633096873760223,
          0.17617502808570862,
          0.17520081996917725,
          0.17897659540176392,
          0.17968381941318512,
          0.1791621893644333,
          0.18394719064235687,
          0.1851135790348053,
          0.18251711130142212,
          0.17860227823257446,
          0.186178058385849,
          0.18926894664764404,
          0.1842644065618515,
          0.18634028732776642,
          0.18627622723579407,
          0.18419843912124634,
          0.18237705528736115,
          0.185819610953331,
          0.18281857669353485,
          0.18278230726718903,
          0.1815846562385559,
          0.18259437382221222,
          0.18700546026229858,
          0.18293213844299316,
          0.17634813487529755,
          0.18272875249385834,
          0.1811467707157135,
          0.18095789849758148,
          0.18213099241256714,
          0.18472497165203094,
          0.1828313171863556,
          0.18467830121517181,
          0.18578848242759705,
          0.18516206741333008,
          0.1772731989622116,
          0.18010267615318298,
          0.17911767959594727,
          0.18321336805820465,
          0.18152157962322235,
          0.17953017354011536,
          0.17749620974063873,
          0.18300212919712067,
          0.1791742742061615,
          0.17744344472885132,
          0.17875176668167114,
          0.1750842183828354,
          0.1765824258327484,
          0.1827789843082428,
          0.18508213758468628,
          0.1809569150209427,
          0.18050652742385864,
          0.17902003228664398,
          0.17749889194965363,
          0.1809563934803009,
          0.18018479645252228,
          0.1811678558588028,
          0.177833691239357,
          0.18221551179885864,
          0.17817597091197968,
          0.18233689665794373,
          0.17987602949142456,
          0.1763598918914795,
          0.17669807374477386,
          0.18214599788188934,
          0.17863306403160095,
          0.17979593575000763,
          0.1818787008523941,
          0.17739462852478027,
          0.17479661107063293,
          0.17765216529369354,
          0.1808522790670395,
          0.17510953545570374,
          0.18077914416790009,
          0.17654447257518768,
          0.17830625176429749,
          0.17925265431404114,
          0.17503929138183594,
          0.1774565726518631,
          0.17654965817928314,
          0.17916566133499146,
          0.17692133784294128,
          0.17568178474903107,
          0.17571140825748444,
          0.17601393163204193,
          0.17422427237033844,
          0.17675752937793732,
          0.17909185588359833,
          0.17395725846290588,
          0.17131857573986053,
          0.18035370111465454,
          0.17251594364643097,
          0.17743919789791107,
          0.16858236491680145,
          0.1732020378112793,
          0.17560163140296936,
          0.17740392684936523,
          0.17505832016468048,
          0.17313160002231598,
          0.17336860299110413,
          0.1750144213438034,
          0.1737988442182541,
          0.17167344689369202,
          0.17544125020503998,
          0.1725723147392273,
          0.17551596462726593,
          0.1746843159198761,
          0.17955701053142548,
          0.16876128315925598,
          0.1766725778579712,
          0.1721619963645935,
          0.16808998584747314,
          0.1736358106136322
         ]
        }
       ],
       "layout": {
        "template": {
         "data": {
          "bar": [
           {
            "error_x": {
             "color": "#2a3f5f"
            },
            "error_y": {
             "color": "#2a3f5f"
            },
            "marker": {
             "line": {
              "color": "#E5ECF6",
              "width": 0.5
             },
             "pattern": {
              "fillmode": "overlay",
              "size": 10,
              "solidity": 0.2
             }
            },
            "type": "bar"
           }
          ],
          "barpolar": [
           {
            "marker": {
             "line": {
              "color": "#E5ECF6",
              "width": 0.5
             },
             "pattern": {
              "fillmode": "overlay",
              "size": 10,
              "solidity": 0.2
             }
            },
            "type": "barpolar"
           }
          ],
          "carpet": [
           {
            "aaxis": {
             "endlinecolor": "#2a3f5f",
             "gridcolor": "white",
             "linecolor": "white",
             "minorgridcolor": "white",
             "startlinecolor": "#2a3f5f"
            },
            "baxis": {
             "endlinecolor": "#2a3f5f",
             "gridcolor": "white",
             "linecolor": "white",
             "minorgridcolor": "white",
             "startlinecolor": "#2a3f5f"
            },
            "type": "carpet"
           }
          ],
          "choropleth": [
           {
            "colorbar": {
             "outlinewidth": 0,
             "ticks": ""
            },
            "type": "choropleth"
           }
          ],
          "contour": [
           {
            "colorbar": {
             "outlinewidth": 0,
             "ticks": ""
            },
            "colorscale": [
             [
              0,
              "#0d0887"
             ],
             [
              0.1111111111111111,
              "#46039f"
             ],
             [
              0.2222222222222222,
              "#7201a8"
             ],
             [
              0.3333333333333333,
              "#9c179e"
             ],
             [
              0.4444444444444444,
              "#bd3786"
             ],
             [
              0.5555555555555556,
              "#d8576b"
             ],
             [
              0.6666666666666666,
              "#ed7953"
             ],
             [
              0.7777777777777778,
              "#fb9f3a"
             ],
             [
              0.8888888888888888,
              "#fdca26"
             ],
             [
              1,
              "#f0f921"
             ]
            ],
            "type": "contour"
           }
          ],
          "contourcarpet": [
           {
            "colorbar": {
             "outlinewidth": 0,
             "ticks": ""
            },
            "type": "contourcarpet"
           }
          ],
          "heatmap": [
           {
            "colorbar": {
             "outlinewidth": 0,
             "ticks": ""
            },
            "colorscale": [
             [
              0,
              "#0d0887"
             ],
             [
              0.1111111111111111,
              "#46039f"
             ],
             [
              0.2222222222222222,
              "#7201a8"
             ],
             [
              0.3333333333333333,
              "#9c179e"
             ],
             [
              0.4444444444444444,
              "#bd3786"
             ],
             [
              0.5555555555555556,
              "#d8576b"
             ],
             [
              0.6666666666666666,
              "#ed7953"
             ],
             [
              0.7777777777777778,
              "#fb9f3a"
             ],
             [
              0.8888888888888888,
              "#fdca26"
             ],
             [
              1,
              "#f0f921"
             ]
            ],
            "type": "heatmap"
           }
          ],
          "heatmapgl": [
           {
            "colorbar": {
             "outlinewidth": 0,
             "ticks": ""
            },
            "colorscale": [
             [
              0,
              "#0d0887"
             ],
             [
              0.1111111111111111,
              "#46039f"
             ],
             [
              0.2222222222222222,
              "#7201a8"
             ],
             [
              0.3333333333333333,
              "#9c179e"
             ],
             [
              0.4444444444444444,
              "#bd3786"
             ],
             [
              0.5555555555555556,
              "#d8576b"
             ],
             [
              0.6666666666666666,
              "#ed7953"
             ],
             [
              0.7777777777777778,
              "#fb9f3a"
             ],
             [
              0.8888888888888888,
              "#fdca26"
             ],
             [
              1,
              "#f0f921"
             ]
            ],
            "type": "heatmapgl"
           }
          ],
          "histogram": [
           {
            "marker": {
             "pattern": {
              "fillmode": "overlay",
              "size": 10,
              "solidity": 0.2
             }
            },
            "type": "histogram"
           }
          ],
          "histogram2d": [
           {
            "colorbar": {
             "outlinewidth": 0,
             "ticks": ""
            },
            "colorscale": [
             [
              0,
              "#0d0887"
             ],
             [
              0.1111111111111111,
              "#46039f"
             ],
             [
              0.2222222222222222,
              "#7201a8"
             ],
             [
              0.3333333333333333,
              "#9c179e"
             ],
             [
              0.4444444444444444,
              "#bd3786"
             ],
             [
              0.5555555555555556,
              "#d8576b"
             ],
             [
              0.6666666666666666,
              "#ed7953"
             ],
             [
              0.7777777777777778,
              "#fb9f3a"
             ],
             [
              0.8888888888888888,
              "#fdca26"
             ],
             [
              1,
              "#f0f921"
             ]
            ],
            "type": "histogram2d"
           }
          ],
          "histogram2dcontour": [
           {
            "colorbar": {
             "outlinewidth": 0,
             "ticks": ""
            },
            "colorscale": [
             [
              0,
              "#0d0887"
             ],
             [
              0.1111111111111111,
              "#46039f"
             ],
             [
              0.2222222222222222,
              "#7201a8"
             ],
             [
              0.3333333333333333,
              "#9c179e"
             ],
             [
              0.4444444444444444,
              "#bd3786"
             ],
             [
              0.5555555555555556,
              "#d8576b"
             ],
             [
              0.6666666666666666,
              "#ed7953"
             ],
             [
              0.7777777777777778,
              "#fb9f3a"
             ],
             [
              0.8888888888888888,
              "#fdca26"
             ],
             [
              1,
              "#f0f921"
             ]
            ],
            "type": "histogram2dcontour"
           }
          ],
          "mesh3d": [
           {
            "colorbar": {
             "outlinewidth": 0,
             "ticks": ""
            },
            "type": "mesh3d"
           }
          ],
          "parcoords": [
           {
            "line": {
             "colorbar": {
              "outlinewidth": 0,
              "ticks": ""
             }
            },
            "type": "parcoords"
           }
          ],
          "pie": [
           {
            "automargin": true,
            "type": "pie"
           }
          ],
          "scatter": [
           {
            "fillpattern": {
             "fillmode": "overlay",
             "size": 10,
             "solidity": 0.2
            },
            "type": "scatter"
           }
          ],
          "scatter3d": [
           {
            "line": {
             "colorbar": {
              "outlinewidth": 0,
              "ticks": ""
             }
            },
            "marker": {
             "colorbar": {
              "outlinewidth": 0,
              "ticks": ""
             }
            },
            "type": "scatter3d"
           }
          ],
          "scattercarpet": [
           {
            "marker": {
             "colorbar": {
              "outlinewidth": 0,
              "ticks": ""
             }
            },
            "type": "scattercarpet"
           }
          ],
          "scattergeo": [
           {
            "marker": {
             "colorbar": {
              "outlinewidth": 0,
              "ticks": ""
             }
            },
            "type": "scattergeo"
           }
          ],
          "scattergl": [
           {
            "marker": {
             "colorbar": {
              "outlinewidth": 0,
              "ticks": ""
             }
            },
            "type": "scattergl"
           }
          ],
          "scattermapbox": [
           {
            "marker": {
             "colorbar": {
              "outlinewidth": 0,
              "ticks": ""
             }
            },
            "type": "scattermapbox"
           }
          ],
          "scatterpolar": [
           {
            "marker": {
             "colorbar": {
              "outlinewidth": 0,
              "ticks": ""
             }
            },
            "type": "scatterpolar"
           }
          ],
          "scatterpolargl": [
           {
            "marker": {
             "colorbar": {
              "outlinewidth": 0,
              "ticks": ""
             }
            },
            "type": "scatterpolargl"
           }
          ],
          "scatterternary": [
           {
            "marker": {
             "colorbar": {
              "outlinewidth": 0,
              "ticks": ""
             }
            },
            "type": "scatterternary"
           }
          ],
          "surface": [
           {
            "colorbar": {
             "outlinewidth": 0,
             "ticks": ""
            },
            "colorscale": [
             [
              0,
              "#0d0887"
             ],
             [
              0.1111111111111111,
              "#46039f"
             ],
             [
              0.2222222222222222,
              "#7201a8"
             ],
             [
              0.3333333333333333,
              "#9c179e"
             ],
             [
              0.4444444444444444,
              "#bd3786"
             ],
             [
              0.5555555555555556,
              "#d8576b"
             ],
             [
              0.6666666666666666,
              "#ed7953"
             ],
             [
              0.7777777777777778,
              "#fb9f3a"
             ],
             [
              0.8888888888888888,
              "#fdca26"
             ],
             [
              1,
              "#f0f921"
             ]
            ],
            "type": "surface"
           }
          ],
          "table": [
           {
            "cells": {
             "fill": {
              "color": "#EBF0F8"
             },
             "line": {
              "color": "white"
             }
            },
            "header": {
             "fill": {
              "color": "#C8D4E3"
             },
             "line": {
              "color": "white"
             }
            },
            "type": "table"
           }
          ]
         },
         "layout": {
          "annotationdefaults": {
           "arrowcolor": "#2a3f5f",
           "arrowhead": 0,
           "arrowwidth": 1
          },
          "autotypenumbers": "strict",
          "coloraxis": {
           "colorbar": {
            "outlinewidth": 0,
            "ticks": ""
           }
          },
          "colorscale": {
           "diverging": [
            [
             0,
             "#8e0152"
            ],
            [
             0.1,
             "#c51b7d"
            ],
            [
             0.2,
             "#de77ae"
            ],
            [
             0.3,
             "#f1b6da"
            ],
            [
             0.4,
             "#fde0ef"
            ],
            [
             0.5,
             "#f7f7f7"
            ],
            [
             0.6,
             "#e6f5d0"
            ],
            [
             0.7,
             "#b8e186"
            ],
            [
             0.8,
             "#7fbc41"
            ],
            [
             0.9,
             "#4d9221"
            ],
            [
             1,
             "#276419"
            ]
           ],
           "sequential": [
            [
             0,
             "#0d0887"
            ],
            [
             0.1111111111111111,
             "#46039f"
            ],
            [
             0.2222222222222222,
             "#7201a8"
            ],
            [
             0.3333333333333333,
             "#9c179e"
            ],
            [
             0.4444444444444444,
             "#bd3786"
            ],
            [
             0.5555555555555556,
             "#d8576b"
            ],
            [
             0.6666666666666666,
             "#ed7953"
            ],
            [
             0.7777777777777778,
             "#fb9f3a"
            ],
            [
             0.8888888888888888,
             "#fdca26"
            ],
            [
             1,
             "#f0f921"
            ]
           ],
           "sequentialminus": [
            [
             0,
             "#0d0887"
            ],
            [
             0.1111111111111111,
             "#46039f"
            ],
            [
             0.2222222222222222,
             "#7201a8"
            ],
            [
             0.3333333333333333,
             "#9c179e"
            ],
            [
             0.4444444444444444,
             "#bd3786"
            ],
            [
             0.5555555555555556,
             "#d8576b"
            ],
            [
             0.6666666666666666,
             "#ed7953"
            ],
            [
             0.7777777777777778,
             "#fb9f3a"
            ],
            [
             0.8888888888888888,
             "#fdca26"
            ],
            [
             1,
             "#f0f921"
            ]
           ]
          },
          "colorway": [
           "#636efa",
           "#EF553B",
           "#00cc96",
           "#ab63fa",
           "#FFA15A",
           "#19d3f3",
           "#FF6692",
           "#B6E880",
           "#FF97FF",
           "#FECB52"
          ],
          "font": {
           "color": "#2a3f5f"
          },
          "geo": {
           "bgcolor": "white",
           "lakecolor": "white",
           "landcolor": "#E5ECF6",
           "showlakes": true,
           "showland": true,
           "subunitcolor": "white"
          },
          "hoverlabel": {
           "align": "left"
          },
          "hovermode": "closest",
          "mapbox": {
           "style": "light"
          },
          "paper_bgcolor": "white",
          "plot_bgcolor": "#E5ECF6",
          "polar": {
           "angularaxis": {
            "gridcolor": "white",
            "linecolor": "white",
            "ticks": ""
           },
           "bgcolor": "#E5ECF6",
           "radialaxis": {
            "gridcolor": "white",
            "linecolor": "white",
            "ticks": ""
           }
          },
          "scene": {
           "xaxis": {
            "backgroundcolor": "#E5ECF6",
            "gridcolor": "white",
            "gridwidth": 2,
            "linecolor": "white",
            "showbackground": true,
            "ticks": "",
            "zerolinecolor": "white"
           },
           "yaxis": {
            "backgroundcolor": "#E5ECF6",
            "gridcolor": "white",
            "gridwidth": 2,
            "linecolor": "white",
            "showbackground": true,
            "ticks": "",
            "zerolinecolor": "white"
           },
           "zaxis": {
            "backgroundcolor": "#E5ECF6",
            "gridcolor": "white",
            "gridwidth": 2,
            "linecolor": "white",
            "showbackground": true,
            "ticks": "",
            "zerolinecolor": "white"
           }
          },
          "shapedefaults": {
           "line": {
            "color": "#2a3f5f"
           }
          },
          "ternary": {
           "aaxis": {
            "gridcolor": "white",
            "linecolor": "white",
            "ticks": ""
           },
           "baxis": {
            "gridcolor": "white",
            "linecolor": "white",
            "ticks": ""
           },
           "bgcolor": "#E5ECF6",
           "caxis": {
            "gridcolor": "white",
            "linecolor": "white",
            "ticks": ""
           }
          },
          "title": {
           "x": 0.05
          },
          "xaxis": {
           "automargin": true,
           "gridcolor": "white",
           "linecolor": "white",
           "ticks": "",
           "title": {
            "standoff": 15
           },
           "zerolinecolor": "white",
           "zerolinewidth": 2
          },
          "yaxis": {
           "automargin": true,
           "gridcolor": "white",
           "linecolor": "white",
           "ticks": "",
           "title": {
            "standoff": 15
           },
           "zerolinecolor": "white",
           "zerolinewidth": 2
          }
         }
        }
       }
      }
     },
     "metadata": {},
     "output_type": "display_data"
    },
    {
     "data": {
      "application/vnd.plotly.v1+json": {
       "config": {
        "plotlyServerURL": "https://plot.ly"
       },
       "data": [
        {
         "marker": {
          "size": 3
         },
         "mode": "markers",
         "name": "gt_3",
         "type": "scatter",
         "y": [
          0.7479937672615051,
          0.7493627071380615,
          0.7490042448043823,
          0.7488089799880981,
          0.7487541437149048,
          0.7483927011489868,
          0.7485343813896179,
          0.7491351962089539,
          0.7489686012268066,
          0.7487231492996216,
          0.7487158179283142,
          0.7485908269882202,
          0.7485840916633606,
          0.7484344244003296,
          0.7481475472450256,
          0.7480719685554504,
          0.7482008934020996,
          0.7482011914253235,
          0.7481811046600342,
          0.7482390999794006,
          0.7482226490974426,
          0.7482162714004517,
          0.748196005821228,
          0.7481733560562134,
          0.748245358467102,
          0.7482923865318298,
          0.7483957409858704,
          0.7485506534576416,
          0.7487084865570068,
          0.7492268681526184,
          0.7498181462287903,
          0.749880850315094,
          0.749655544757843,
          0.7494666576385498,
          0.7495429515838623,
          0.749867856502533,
          0.7500210404396057,
          0.7500072121620178,
          0.7501524090766907,
          0.7503809928894043,
          0.7505062222480774,
          0.7505128979682922,
          0.7503666281700134,
          0.750180721282959,
          0.7502079606056213,
          0.7504776120185852,
          0.7508500218391418,
          0.7510880827903748,
          0.7509317994117737,
          0.7507597208023071,
          0.7509682774543762,
          0.7511547207832336,
          0.750907838344574,
          0.7503514289855957,
          0.7499287128448486,
          0.7498584985733032,
          0.7498442530632019,
          0.749744176864624,
          0.7497922778129578,
          0.7498442530632019,
          0.7496962547302246,
          0.749509334564209,
          0.7493398189544678,
          0.7492067813873291,
          0.7491725087165833,
          0.7492069005966187,
          0.7493160963058472,
          0.7494878172874451,
          0.749494731426239,
          0.749252200126648,
          0.7489649653434753,
          0.7487891316413879,
          0.7488104701042175,
          0.7489530444145203,
          0.7489883899688721,
          0.7490028738975525,
          0.7491791248321533,
          0.7492976784706116,
          0.7492606043815613,
          0.7493211627006531,
          0.7494639754295349,
          0.7494691610336304,
          0.7492580413818359,
          0.7489451169967651,
          0.7488842606544495,
          0.7494179606437683,
          0.7503942251205444,
          0.7512761354446411,
          0.7517258524894714,
          0.751935601234436,
          0.7524527907371521,
          0.7533228397369385,
          0.7537181377410889,
          0.7532945275306702,
          0.7528096437454224,
          0.7526865005493164,
          0.7525818347930908,
          0.7522339224815369,
          0.7518433332443237,
          0.751973569393158,
          0.7526028752326965,
          0.7528337836265564,
          0.7523524761199951,
          0.7517725825309753,
          0.7515143156051636,
          0.7515695691108704,
          0.7519721388816833,
          0.7525560259819031,
          0.7526425123214722,
          0.7521764039993286,
          0.7519943714141846,
          0.7521475553512573,
          0.7520173788070679,
          0.7516584396362305,
          0.7513684630393982,
          0.7511812448501587,
          0.7511069178581238,
          0.7510546445846558,
          0.7509534955024719,
          0.750884473323822,
          0.7507889866828918,
          0.7504726052284241,
          0.7499814629554749,
          0.7496610283851624,
          0.7496272325515747,
          0.749535083770752,
          0.7492862939834595,
          0.7491846680641174,
          0.7491931915283203,
          0.7490876913070679,
          0.7489677667617798,
          0.7488850355148315,
          0.7487611174583435,
          0.7487583756446838,
          0.7490160465240479,
          0.7493324279785156,
          0.7494738698005676,
          0.7495028972625732,
          0.7496200799942017,
          0.7497931718826294,
          0.749840259552002,
          0.7498430013656616,
          0.7500237226486206,
          0.7502896785736084,
          0.7504091858863831,
          0.7504242062568665,
          0.750522255897522,
          0.7507343292236328,
          0.7509671449661255,
          0.7511795163154602,
          0.751401960849762,
          0.7517182230949402,
          0.7522132992744446,
          0.7527806162834167,
          0.7531354427337646,
          0.7531959414482117,
          0.7531816959381104,
          0.7532446980476379,
          0.7532765865325928,
          0.7531532645225525,
          0.752938985824585,
          0.7528306245803833,
          0.7529515624046326,
          0.7531622052192688,
          0.7532123327255249,
          0.7531003952026367,
          0.7529911994934082,
          0.7528851628303528,
          0.7526989579200745,
          0.7525300979614258,
          0.7524954676628113,
          0.7524937987327576,
          0.7523823380470276,
          0.7521992325782776,
          0.7520290613174438,
          0.7518632411956787,
          0.7517094016075134,
          0.751730740070343,
          0.7522004246711731,
          0.7532268762588501,
          0.7545047402381897,
          0.7554863095283508,
          0.7558483481407166,
          0.7556744813919067,
          0.7551960945129395,
          0.7545751333236694,
          0.753925621509552,
          0.7533574104309082,
          0.7529374957084656,
          0.7526555061340332,
          0.7524480223655701,
          0.7522572875022888,
          0.7520912885665894,
          0.7520485520362854,
          0.7521994113922119,
          0.7524518966674805,
          0.752623438835144,
          0.7526535987854004,
          0.752617597579956,
          0.7525654435157776,
          0.7525060772895813,
          0.7524727582931519,
          0.7524579763412476,
          0.7524053454399109,
          0.7523236274719238,
          0.7523072957992554,
          0.7523955702781677,
          0.7525049448013306,
          0.7525216341018677,
          0.7524210810661316,
          0.7522724270820618,
          0.7521539926528931,
          0.752103328704834,
          0.7521007657051086,
          0.7521311640739441,
          0.7521986961364746,
          0.7522608041763306,
          0.7522478699684143,
          0.7521445751190186,
          0.7519962191581726,
          0.751847505569458,
          0.7517136335372925,
          0.7516091465950012,
          0.7515382170677185,
          0.7514729499816895,
          0.7513811588287354,
          0.7512650489807129,
          0.7511418461799622,
          0.7510207891464233,
          0.750909149646759,
          0.7508108615875244,
          0.7507418990135193,
          0.7507136464118958,
          0.750693142414093,
          0.7506206035614014,
          0.7504944801330566,
          0.7503867745399475,
          0.7503354549407959,
          0.7502818703651428,
          0.7501674890518188,
          0.7500365972518921,
          0.7499681711196899,
          0.7499635219573975,
          0.7499582171440125,
          0.7499064803123474,
          0.7498093843460083,
          0.7496920824050903,
          0.7495854496955872,
          0.7495058178901672,
          0.7494350671768188,
          0.7493559122085571,
          0.7492873072624207,
          0.7492477297782898,
          0.7492119073867798,
          0.7491571307182312,
          0.7491191029548645,
          0.7491458654403687,
          0.7492173314094543,
          0.7492485046386719,
          0.7491872906684875,
          0.7490782141685486,
          0.7490032911300659,
          0.7489834427833557,
          0.7489756345748901,
          0.7489458322525024,
          0.7489061951637268,
          0.7488781213760376,
          0.7488501071929932,
          0.7487959265708923,
          0.7487225532531738,
          0.74867844581604,
          0.748694121837616,
          0.7487369179725647,
          0.748745858669281,
          0.7487073540687561,
          0.7486677765846252,
          0.7486750483512878,
          0.7487269639968872,
          0.7487806677818298,
          0.7487940192222595,
          0.7487573623657227,
          0.7486937046051025,
          0.74863201379776
         ]
        },
        {
         "marker": {
          "size": 3
         },
         "mode": "markers",
         "name": "pred_3",
         "type": "scatter",
         "y": [
          0.713462233543396,
          0.751174807548523,
          0.7401193380355835,
          0.7504274845123291,
          0.742658257484436,
          0.7390714883804321,
          0.7430884838104248,
          0.7426881194114685,
          0.7326677441596985,
          0.7401565313339233,
          0.7352981567382812,
          0.7505934238433838,
          0.7173808217048645,
          0.7240613698959351,
          0.7536275386810303,
          0.7279650568962097,
          0.7325129508972168,
          0.7386136651039124,
          0.7437353134155273,
          0.7479345798492432,
          0.7402686476707458,
          0.7311558127403259,
          0.7425650954246521,
          0.7501962184906006,
          0.7427630424499512,
          0.735100269317627,
          0.7419721484184265,
          0.7500581741333008,
          0.7388782501220703,
          0.7283958196640015,
          0.7350808382034302,
          0.7458339333534241,
          0.7547284960746765,
          0.7548952698707581,
          0.738617479801178,
          0.7397493720054626,
          0.7554526925086975,
          0.7260332703590393,
          0.7357276678085327,
          0.7520955204963684,
          0.7557143568992615,
          0.7478587627410889,
          0.7466035485267639,
          0.7603775858879089,
          0.7310000658035278,
          0.763068437576294,
          0.7301446795463562,
          0.7519342303276062,
          0.7447871565818787,
          0.7571008801460266,
          0.753011167049408,
          0.7572514414787292,
          0.7545973062515259,
          0.7648385763168335,
          0.7253132462501526,
          0.7496862411499023,
          0.7553564310073853,
          0.7680887579917908,
          0.7470587491989136,
          0.747256338596344,
          0.7645297050476074,
          0.7488535046577454,
          0.7435129880905151,
          0.7619299292564392,
          0.7421959042549133,
          0.7423104643821716,
          0.7397782802581787,
          0.7382069230079651,
          0.741144597530365,
          0.7674605250358582,
          0.7384731769561768,
          0.7538895606994629,
          0.7443625330924988,
          0.7410995960235596,
          0.7476187944412231,
          0.7558979988098145,
          0.743914008140564,
          0.7439207434654236,
          0.7565571665763855,
          0.7538931965827942,
          0.7554656863212585,
          0.7634215950965881,
          0.7405210137367249,
          0.743541955947876,
          0.736997127532959,
          0.7379059791564941,
          0.7405301928520203,
          0.7444960474967957,
          0.7435184717178345,
          0.7543087601661682,
          0.7508283257484436,
          0.7549319267272949,
          0.7691201567649841,
          0.7666448354721069,
          0.7463185787200928,
          0.7447373270988464,
          0.7549529671669006,
          0.72934490442276,
          0.7688578963279724,
          0.7548055648803711,
          0.7539926171302795,
          0.7546650171279907,
          0.7622060179710388,
          0.7718714475631714,
          0.7529277801513672,
          0.728455662727356,
          0.757033109664917,
          0.7465966939926147,
          0.7712190747261047,
          0.742213249206543,
          0.7501524090766907,
          0.7621140480041504,
          0.7580568194389343,
          0.7471088171005249,
          0.7361133098602295,
          0.7502734661102295,
          0.7378031015396118,
          0.7636216282844543,
          0.7368287444114685,
          0.7557097673416138,
          0.7636242508888245,
          0.7417717576026917,
          0.7589879035949707,
          0.7405328154563904,
          0.7459146976470947,
          0.762296736240387,
          0.738803505897522,
          0.7467538714408875,
          0.7587703466415405,
          0.7572884559631348,
          0.7412059307098389,
          0.7364368438720703,
          0.7406339049339294,
          0.7267909646034241,
          0.74171382188797,
          0.7544781565666199,
          0.7422946095466614,
          0.7476890087127686,
          0.7499964833259583,
          0.7404313087463379,
          0.7456204891204834,
          0.7466659545898438,
          0.7339681386947632,
          0.7518993020057678,
          0.7469839453697205,
          0.7633800506591797,
          0.7414512038230896,
          0.7422820329666138,
          0.761759877204895,
          0.7445683479309082,
          0.7763502597808838,
          0.7501267194747925,
          0.7572469711303711,
          0.7800184488296509,
          0.7644906044006348,
          0.7654365301132202,
          0.7565240263938904,
          0.7783800959587097,
          0.7585007548332214,
          0.7583936452865601,
          0.748525083065033,
          0.7454134821891785,
          0.7492033243179321,
          0.7655127644538879,
          0.7701201438903809,
          0.7579485774040222,
          0.7505436539649963,
          0.7646089792251587,
          0.7539123892784119,
          0.7618449330329895,
          0.7746013402938843,
          0.7582089900970459,
          0.7698104381561279,
          0.7696722149848938,
          0.7665644288063049,
          0.7265530824661255,
          0.7584683895111084,
          0.7877374887466431,
          0.7580955028533936,
          0.7763606309890747,
          0.7782827019691467,
          0.758577287197113,
          0.7787163257598877,
          0.7928999066352844,
          0.7818169593811035,
          0.7500285506248474,
          0.7755590081214905,
          0.7676971554756165,
          0.7642849087715149,
          0.7578009963035583,
          0.7653380632400513,
          0.778363049030304,
          0.7522143721580505,
          0.7508652806282043,
          0.7636746168136597,
          0.755397617816925,
          0.745040774345398,
          0.7646375894546509,
          0.7470215559005737,
          0.7472675442695618,
          0.7578821778297424,
          0.7637532353401184,
          0.7540811896324158,
          0.7646135687828064,
          0.7468785047531128,
          0.7579424977302551,
          0.7578963041305542,
          0.7716017365455627,
          0.739342451095581,
          0.7702246308326721,
          0.7702584862709045,
          0.7653258442878723,
          0.7627923488616943,
          0.7679128050804138,
          0.7600330114364624,
          0.7521120309829712,
          0.7557553052902222,
          0.759951114654541,
          0.7505183219909668,
          0.7575916647911072,
          0.7360711693763733,
          0.744533896446228,
          0.7394035458564758,
          0.7653218507766724,
          0.7553616166114807,
          0.7563679218292236,
          0.752942681312561,
          0.750771164894104,
          0.7485843896865845,
          0.7598956227302551,
          0.7455930113792419,
          0.7361353635787964,
          0.7587219476699829,
          0.7449440956115723,
          0.7648204565048218,
          0.7387915253639221,
          0.7296808958053589,
          0.7336507439613342,
          0.7333086729049683,
          0.7446001768112183,
          0.7528868913650513,
          0.753616213798523,
          0.7577196359634399,
          0.7424018383026123,
          0.7558496594429016,
          0.7260308265686035,
          0.7377489805221558,
          0.7530327439308167,
          0.7414948344230652,
          0.7373834252357483,
          0.7567310929298401,
          0.7422428131103516,
          0.7494881749153137,
          0.7322365045547485,
          0.7481557726860046,
          0.7355214357376099,
          0.749268651008606,
          0.7519999742507935,
          0.7498065829277039,
          0.7511975765228271,
          0.7483941912651062,
          0.7368746995925903,
          0.7356654405593872,
          0.7588595151901245,
          0.7389281988143921,
          0.7441820502281189,
          0.7634345293045044,
          0.7538154125213623,
          0.754128634929657,
          0.74588942527771,
          0.7331186532974243,
          0.7467111349105835,
          0.7386709451675415,
          0.7406928539276123,
          0.7491671442985535,
          0.7548148036003113,
          0.7384339570999146,
          0.7578144073486328,
          0.7461821436882019,
          0.7273643612861633,
          0.7466486096382141,
          0.7419956922531128,
          0.7387611269950867
         ]
        }
       ],
       "layout": {
        "template": {
         "data": {
          "bar": [
           {
            "error_x": {
             "color": "#2a3f5f"
            },
            "error_y": {
             "color": "#2a3f5f"
            },
            "marker": {
             "line": {
              "color": "#E5ECF6",
              "width": 0.5
             },
             "pattern": {
              "fillmode": "overlay",
              "size": 10,
              "solidity": 0.2
             }
            },
            "type": "bar"
           }
          ],
          "barpolar": [
           {
            "marker": {
             "line": {
              "color": "#E5ECF6",
              "width": 0.5
             },
             "pattern": {
              "fillmode": "overlay",
              "size": 10,
              "solidity": 0.2
             }
            },
            "type": "barpolar"
           }
          ],
          "carpet": [
           {
            "aaxis": {
             "endlinecolor": "#2a3f5f",
             "gridcolor": "white",
             "linecolor": "white",
             "minorgridcolor": "white",
             "startlinecolor": "#2a3f5f"
            },
            "baxis": {
             "endlinecolor": "#2a3f5f",
             "gridcolor": "white",
             "linecolor": "white",
             "minorgridcolor": "white",
             "startlinecolor": "#2a3f5f"
            },
            "type": "carpet"
           }
          ],
          "choropleth": [
           {
            "colorbar": {
             "outlinewidth": 0,
             "ticks": ""
            },
            "type": "choropleth"
           }
          ],
          "contour": [
           {
            "colorbar": {
             "outlinewidth": 0,
             "ticks": ""
            },
            "colorscale": [
             [
              0,
              "#0d0887"
             ],
             [
              0.1111111111111111,
              "#46039f"
             ],
             [
              0.2222222222222222,
              "#7201a8"
             ],
             [
              0.3333333333333333,
              "#9c179e"
             ],
             [
              0.4444444444444444,
              "#bd3786"
             ],
             [
              0.5555555555555556,
              "#d8576b"
             ],
             [
              0.6666666666666666,
              "#ed7953"
             ],
             [
              0.7777777777777778,
              "#fb9f3a"
             ],
             [
              0.8888888888888888,
              "#fdca26"
             ],
             [
              1,
              "#f0f921"
             ]
            ],
            "type": "contour"
           }
          ],
          "contourcarpet": [
           {
            "colorbar": {
             "outlinewidth": 0,
             "ticks": ""
            },
            "type": "contourcarpet"
           }
          ],
          "heatmap": [
           {
            "colorbar": {
             "outlinewidth": 0,
             "ticks": ""
            },
            "colorscale": [
             [
              0,
              "#0d0887"
             ],
             [
              0.1111111111111111,
              "#46039f"
             ],
             [
              0.2222222222222222,
              "#7201a8"
             ],
             [
              0.3333333333333333,
              "#9c179e"
             ],
             [
              0.4444444444444444,
              "#bd3786"
             ],
             [
              0.5555555555555556,
              "#d8576b"
             ],
             [
              0.6666666666666666,
              "#ed7953"
             ],
             [
              0.7777777777777778,
              "#fb9f3a"
             ],
             [
              0.8888888888888888,
              "#fdca26"
             ],
             [
              1,
              "#f0f921"
             ]
            ],
            "type": "heatmap"
           }
          ],
          "heatmapgl": [
           {
            "colorbar": {
             "outlinewidth": 0,
             "ticks": ""
            },
            "colorscale": [
             [
              0,
              "#0d0887"
             ],
             [
              0.1111111111111111,
              "#46039f"
             ],
             [
              0.2222222222222222,
              "#7201a8"
             ],
             [
              0.3333333333333333,
              "#9c179e"
             ],
             [
              0.4444444444444444,
              "#bd3786"
             ],
             [
              0.5555555555555556,
              "#d8576b"
             ],
             [
              0.6666666666666666,
              "#ed7953"
             ],
             [
              0.7777777777777778,
              "#fb9f3a"
             ],
             [
              0.8888888888888888,
              "#fdca26"
             ],
             [
              1,
              "#f0f921"
             ]
            ],
            "type": "heatmapgl"
           }
          ],
          "histogram": [
           {
            "marker": {
             "pattern": {
              "fillmode": "overlay",
              "size": 10,
              "solidity": 0.2
             }
            },
            "type": "histogram"
           }
          ],
          "histogram2d": [
           {
            "colorbar": {
             "outlinewidth": 0,
             "ticks": ""
            },
            "colorscale": [
             [
              0,
              "#0d0887"
             ],
             [
              0.1111111111111111,
              "#46039f"
             ],
             [
              0.2222222222222222,
              "#7201a8"
             ],
             [
              0.3333333333333333,
              "#9c179e"
             ],
             [
              0.4444444444444444,
              "#bd3786"
             ],
             [
              0.5555555555555556,
              "#d8576b"
             ],
             [
              0.6666666666666666,
              "#ed7953"
             ],
             [
              0.7777777777777778,
              "#fb9f3a"
             ],
             [
              0.8888888888888888,
              "#fdca26"
             ],
             [
              1,
              "#f0f921"
             ]
            ],
            "type": "histogram2d"
           }
          ],
          "histogram2dcontour": [
           {
            "colorbar": {
             "outlinewidth": 0,
             "ticks": ""
            },
            "colorscale": [
             [
              0,
              "#0d0887"
             ],
             [
              0.1111111111111111,
              "#46039f"
             ],
             [
              0.2222222222222222,
              "#7201a8"
             ],
             [
              0.3333333333333333,
              "#9c179e"
             ],
             [
              0.4444444444444444,
              "#bd3786"
             ],
             [
              0.5555555555555556,
              "#d8576b"
             ],
             [
              0.6666666666666666,
              "#ed7953"
             ],
             [
              0.7777777777777778,
              "#fb9f3a"
             ],
             [
              0.8888888888888888,
              "#fdca26"
             ],
             [
              1,
              "#f0f921"
             ]
            ],
            "type": "histogram2dcontour"
           }
          ],
          "mesh3d": [
           {
            "colorbar": {
             "outlinewidth": 0,
             "ticks": ""
            },
            "type": "mesh3d"
           }
          ],
          "parcoords": [
           {
            "line": {
             "colorbar": {
              "outlinewidth": 0,
              "ticks": ""
             }
            },
            "type": "parcoords"
           }
          ],
          "pie": [
           {
            "automargin": true,
            "type": "pie"
           }
          ],
          "scatter": [
           {
            "fillpattern": {
             "fillmode": "overlay",
             "size": 10,
             "solidity": 0.2
            },
            "type": "scatter"
           }
          ],
          "scatter3d": [
           {
            "line": {
             "colorbar": {
              "outlinewidth": 0,
              "ticks": ""
             }
            },
            "marker": {
             "colorbar": {
              "outlinewidth": 0,
              "ticks": ""
             }
            },
            "type": "scatter3d"
           }
          ],
          "scattercarpet": [
           {
            "marker": {
             "colorbar": {
              "outlinewidth": 0,
              "ticks": ""
             }
            },
            "type": "scattercarpet"
           }
          ],
          "scattergeo": [
           {
            "marker": {
             "colorbar": {
              "outlinewidth": 0,
              "ticks": ""
             }
            },
            "type": "scattergeo"
           }
          ],
          "scattergl": [
           {
            "marker": {
             "colorbar": {
              "outlinewidth": 0,
              "ticks": ""
             }
            },
            "type": "scattergl"
           }
          ],
          "scattermapbox": [
           {
            "marker": {
             "colorbar": {
              "outlinewidth": 0,
              "ticks": ""
             }
            },
            "type": "scattermapbox"
           }
          ],
          "scatterpolar": [
           {
            "marker": {
             "colorbar": {
              "outlinewidth": 0,
              "ticks": ""
             }
            },
            "type": "scatterpolar"
           }
          ],
          "scatterpolargl": [
           {
            "marker": {
             "colorbar": {
              "outlinewidth": 0,
              "ticks": ""
             }
            },
            "type": "scatterpolargl"
           }
          ],
          "scatterternary": [
           {
            "marker": {
             "colorbar": {
              "outlinewidth": 0,
              "ticks": ""
             }
            },
            "type": "scatterternary"
           }
          ],
          "surface": [
           {
            "colorbar": {
             "outlinewidth": 0,
             "ticks": ""
            },
            "colorscale": [
             [
              0,
              "#0d0887"
             ],
             [
              0.1111111111111111,
              "#46039f"
             ],
             [
              0.2222222222222222,
              "#7201a8"
             ],
             [
              0.3333333333333333,
              "#9c179e"
             ],
             [
              0.4444444444444444,
              "#bd3786"
             ],
             [
              0.5555555555555556,
              "#d8576b"
             ],
             [
              0.6666666666666666,
              "#ed7953"
             ],
             [
              0.7777777777777778,
              "#fb9f3a"
             ],
             [
              0.8888888888888888,
              "#fdca26"
             ],
             [
              1,
              "#f0f921"
             ]
            ],
            "type": "surface"
           }
          ],
          "table": [
           {
            "cells": {
             "fill": {
              "color": "#EBF0F8"
             },
             "line": {
              "color": "white"
             }
            },
            "header": {
             "fill": {
              "color": "#C8D4E3"
             },
             "line": {
              "color": "white"
             }
            },
            "type": "table"
           }
          ]
         },
         "layout": {
          "annotationdefaults": {
           "arrowcolor": "#2a3f5f",
           "arrowhead": 0,
           "arrowwidth": 1
          },
          "autotypenumbers": "strict",
          "coloraxis": {
           "colorbar": {
            "outlinewidth": 0,
            "ticks": ""
           }
          },
          "colorscale": {
           "diverging": [
            [
             0,
             "#8e0152"
            ],
            [
             0.1,
             "#c51b7d"
            ],
            [
             0.2,
             "#de77ae"
            ],
            [
             0.3,
             "#f1b6da"
            ],
            [
             0.4,
             "#fde0ef"
            ],
            [
             0.5,
             "#f7f7f7"
            ],
            [
             0.6,
             "#e6f5d0"
            ],
            [
             0.7,
             "#b8e186"
            ],
            [
             0.8,
             "#7fbc41"
            ],
            [
             0.9,
             "#4d9221"
            ],
            [
             1,
             "#276419"
            ]
           ],
           "sequential": [
            [
             0,
             "#0d0887"
            ],
            [
             0.1111111111111111,
             "#46039f"
            ],
            [
             0.2222222222222222,
             "#7201a8"
            ],
            [
             0.3333333333333333,
             "#9c179e"
            ],
            [
             0.4444444444444444,
             "#bd3786"
            ],
            [
             0.5555555555555556,
             "#d8576b"
            ],
            [
             0.6666666666666666,
             "#ed7953"
            ],
            [
             0.7777777777777778,
             "#fb9f3a"
            ],
            [
             0.8888888888888888,
             "#fdca26"
            ],
            [
             1,
             "#f0f921"
            ]
           ],
           "sequentialminus": [
            [
             0,
             "#0d0887"
            ],
            [
             0.1111111111111111,
             "#46039f"
            ],
            [
             0.2222222222222222,
             "#7201a8"
            ],
            [
             0.3333333333333333,
             "#9c179e"
            ],
            [
             0.4444444444444444,
             "#bd3786"
            ],
            [
             0.5555555555555556,
             "#d8576b"
            ],
            [
             0.6666666666666666,
             "#ed7953"
            ],
            [
             0.7777777777777778,
             "#fb9f3a"
            ],
            [
             0.8888888888888888,
             "#fdca26"
            ],
            [
             1,
             "#f0f921"
            ]
           ]
          },
          "colorway": [
           "#636efa",
           "#EF553B",
           "#00cc96",
           "#ab63fa",
           "#FFA15A",
           "#19d3f3",
           "#FF6692",
           "#B6E880",
           "#FF97FF",
           "#FECB52"
          ],
          "font": {
           "color": "#2a3f5f"
          },
          "geo": {
           "bgcolor": "white",
           "lakecolor": "white",
           "landcolor": "#E5ECF6",
           "showlakes": true,
           "showland": true,
           "subunitcolor": "white"
          },
          "hoverlabel": {
           "align": "left"
          },
          "hovermode": "closest",
          "mapbox": {
           "style": "light"
          },
          "paper_bgcolor": "white",
          "plot_bgcolor": "#E5ECF6",
          "polar": {
           "angularaxis": {
            "gridcolor": "white",
            "linecolor": "white",
            "ticks": ""
           },
           "bgcolor": "#E5ECF6",
           "radialaxis": {
            "gridcolor": "white",
            "linecolor": "white",
            "ticks": ""
           }
          },
          "scene": {
           "xaxis": {
            "backgroundcolor": "#E5ECF6",
            "gridcolor": "white",
            "gridwidth": 2,
            "linecolor": "white",
            "showbackground": true,
            "ticks": "",
            "zerolinecolor": "white"
           },
           "yaxis": {
            "backgroundcolor": "#E5ECF6",
            "gridcolor": "white",
            "gridwidth": 2,
            "linecolor": "white",
            "showbackground": true,
            "ticks": "",
            "zerolinecolor": "white"
           },
           "zaxis": {
            "backgroundcolor": "#E5ECF6",
            "gridcolor": "white",
            "gridwidth": 2,
            "linecolor": "white",
            "showbackground": true,
            "ticks": "",
            "zerolinecolor": "white"
           }
          },
          "shapedefaults": {
           "line": {
            "color": "#2a3f5f"
           }
          },
          "ternary": {
           "aaxis": {
            "gridcolor": "white",
            "linecolor": "white",
            "ticks": ""
           },
           "baxis": {
            "gridcolor": "white",
            "linecolor": "white",
            "ticks": ""
           },
           "bgcolor": "#E5ECF6",
           "caxis": {
            "gridcolor": "white",
            "linecolor": "white",
            "ticks": ""
           }
          },
          "title": {
           "x": 0.05
          },
          "xaxis": {
           "automargin": true,
           "gridcolor": "white",
           "linecolor": "white",
           "ticks": "",
           "title": {
            "standoff": 15
           },
           "zerolinecolor": "white",
           "zerolinewidth": 2
          },
          "yaxis": {
           "automargin": true,
           "gridcolor": "white",
           "linecolor": "white",
           "ticks": "",
           "title": {
            "standoff": 15
           },
           "zerolinecolor": "white",
           "zerolinewidth": 2
          }
         }
        }
       }
      }
     },
     "metadata": {},
     "output_type": "display_data"
    },
    {
     "data": {
      "application/vnd.plotly.v1+json": {
       "config": {
        "plotlyServerURL": "https://plot.ly"
       },
       "data": [
        {
         "marker": {
          "size": 3
         },
         "mode": "markers",
         "name": "gt_4",
         "type": "scatter",
         "y": [
          0.07115500420331955,
          0.07161841541528702,
          0.07155948877334595,
          0.07142195850610733,
          0.07152970880270004,
          0.07146928459405899,
          0.07145386934280396,
          0.07156820595264435,
          0.07160092890262604,
          0.07166675478219986,
          0.07175816595554352,
          0.0718846470117569,
          0.07205936312675476,
          0.07221699506044388,
          0.07235173881053925,
          0.07247541099786758,
          0.07262424379587173,
          0.07277576625347137,
          0.07290612161159515,
          0.07304838299751282,
          0.07319749891757965,
          0.07335356622934341,
          0.07351160794496536,
          0.07365532219409943,
          0.07380127161741257,
          0.07396077364683151,
          0.07413609325885773,
          0.0743107870221138,
          0.07448527216911316,
          0.07469737529754639,
          0.07492426782846451,
          0.07504088431596756,
          0.07502773404121399,
          0.07498885691165924,
          0.07500079274177551,
          0.07506691664457321,
          0.0751129686832428,
          0.07514605671167374,
          0.07523384690284729,
          0.07533399015665054,
          0.07538716495037079,
          0.07539471238851547,
          0.07535513490438461,
          0.07531275600194931,
          0.07537545263767242,
          0.07553678750991821,
          0.0756598711013794,
          0.07567663490772247,
          0.07559680938720703,
          0.07549278438091278,
          0.07548006623983383,
          0.07553848624229431,
          0.07550477236509323,
          0.07533737272024155,
          0.07518426328897476,
          0.0751255601644516,
          0.07508227974176407,
          0.07502298802137375,
          0.07501372694969177,
          0.07501399517059326,
          0.07495395839214325,
          0.07486381381750107,
          0.07477505505084991,
          0.07470482587814331,
          0.07464825361967087,
          0.07459867745637894,
          0.07456862926483154,
          0.07453959435224533,
          0.07447051256895065,
          0.07437526434659958,
          0.07430057972669601,
          0.07423864305019379,
          0.0741729736328125,
          0.07412589341402054,
          0.074098140001297,
          0.0740862488746643,
          0.07408511638641357,
          0.07401597499847412,
          0.07386714965105057,
          0.07375967502593994,
          0.07371513545513153,
          0.07366849482059479,
          0.07358904182910919,
          0.07347594946622849,
          0.07338143140077591,
          0.07335039228200912,
          0.07334838807582855,
          0.07330479472875595,
          0.07322151213884354,
          0.0731588825583458,
          0.07312701642513275,
          0.07314582914113998,
          0.07317861914634705,
          0.07309982180595398,
          0.0729617103934288,
          0.07291534543037415,
          0.07294053584337234,
          0.072926364839077,
          0.07285919040441513,
          0.07287097722291946,
          0.07302035391330719,
          0.07314746826887131,
          0.07312040776014328,
          0.07299000769853592,
          0.07287555187940598,
          0.07286444306373596,
          0.07299404591321945,
          0.07319509983062744,
          0.0732763260602951,
          0.07319296151399612,
          0.07313621044158936,
          0.07318556308746338,
          0.07324524223804474,
          0.07328667491674423,
          0.07333386689424515,
          0.07339364290237427,
          0.07347740978002548,
          0.0735749825835228,
          0.07367883622646332,
          0.07380490750074387,
          0.07392698526382446,
          0.07398360967636108,
          0.0739932581782341,
          0.0740484669804573,
          0.07416604459285736,
          0.07426727563142776,
          0.07432632893323898,
          0.0743933618068695,
          0.074480339884758,
          0.07457418739795685,
          0.07470031082630157,
          0.07485471665859222,
          0.07500097155570984,
          0.07515770196914673,
          0.0753520205616951,
          0.07553665339946747,
          0.07567553222179413,
          0.07583515346050262,
          0.07606785744428635,
          0.07629983127117157,
          0.07645720988512039,
          0.0765853151679039,
          0.07674463093280792,
          0.07690881192684174,
          0.07702372223138809,
          0.07708156853914261,
          0.07713158428668976,
          0.07722905278205872,
          0.07736093550920486,
          0.07746909558773041,
          0.07754383236169815,
          0.07763402163982391,
          0.07777926325798035,
          0.07794737815856934,
          0.07805144786834717,
          0.07806426286697388,
          0.0780445858836174,
          0.07802882790565491,
          0.07798861712217331,
          0.07791051268577576,
          0.07782687246799469,
          0.0777772068977356,
          0.07777539640665054,
          0.07778836786746979,
          0.07776670902967453,
          0.0777168795466423,
          0.07767215371131897,
          0.07761815190315247,
          0.07753187417984009,
          0.0774528980255127,
          0.07742384076118469,
          0.07741621136665344,
          0.07738206535577774,
          0.07733003795146942,
          0.07729271799325943,
          0.07727779448032379,
          0.07728374004364014,
          0.07733646035194397,
          0.07750200480222702,
          0.07783762365579605,
          0.0783025398850441,
          0.07874923944473267,
          0.07904191315174103,
          0.07915282994508743,
          0.07912183552980423,
          0.07898503541946411,
          0.07876716554164886,
          0.07849770039319992,
          0.07821222394704819,
          0.07794950902462006,
          0.07773810625076294,
          0.07758031040430069,
          0.07746095210313797,
          0.07738303393125534,
          0.07736488431692123,
          0.07739860564470291,
          0.07744146138429642,
          0.07746291905641556,
          0.07746792584657669,
          0.07746578007936478,
          0.0774555653333664,
          0.07744134217500687,
          0.07742137461900711,
          0.07738383114337921,
          0.07733425498008728,
          0.07730583846569061,
          0.07731360197067261,
          0.0773288831114769,
          0.07731911540031433,
          0.07729199528694153,
          0.07727836817502975,
          0.0772855132818222,
          0.07729818671941757,
          0.0773014947772026,
          0.07729653269052505,
          0.07729419320821762,
          0.077298104763031,
          0.07730282098054886,
          0.0773002877831459,
          0.07728832215070724,
          0.07727357000112534,
          0.07726044952869415,
          0.07724298536777496,
          0.07720492780208588,
          0.07713762670755386,
          0.07705743610858917,
          0.07698938995599747,
          0.07693822681903839,
          0.07688935101032257,
          0.07683413475751877,
          0.07677876949310303,
          0.0767403319478035,
          0.07672899216413498,
          0.07672908157110214,
          0.07670864462852478,
          0.07665865123271942,
          0.07659992575645447,
          0.07654467970132828,
          0.07648074626922607,
          0.07640386372804642,
          0.07633703202009201,
          0.07629958540201187,
          0.07628350704908371,
          0.07626692205667496,
          0.07623449712991714,
          0.07618095725774765,
          0.07610893994569778,
          0.07602974772453308,
          0.07595867663621902,
          0.07590251415967941,
          0.0758557841181755,
          0.07580824941396713,
          0.07575386762619019,
          0.07569283992052078,
          0.0756305605173111,
          0.0755770355463028,
          0.07554055750370026,
          0.07551925629377365,
          0.07549845427274704,
          0.07546225190162659,
          0.07540920376777649,
          0.07535269856452942,
          0.07530449330806732,
          0.07526461035013199,
          0.07522707432508469,
          0.07519005984067917,
          0.0751568004488945,
          0.07512668520212173,
          0.0750918760895729,
          0.07504687458276749,
          0.07499794661998749,
          0.07495582848787308,
          0.07492408901453018,
          0.07489783316850662,
          0.0748705193400383,
          0.07483968138694763,
          0.07481018453836441,
          0.07479012757539749,
          0.07477766275405884,
          0.07475712895393372,
          0.07471568137407303,
          0.07466019690036774,
          0.07460867613554001
         ]
        },
        {
         "marker": {
          "size": 3
         },
         "mode": "markers",
         "name": "pred_4",
         "type": "scatter",
         "y": [
          0.08215317130088806,
          0.06305378675460815,
          0.07145588845014572,
          0.060138627886772156,
          0.06908348202705383,
          0.06638462096452713,
          0.060215532779693604,
          0.06553980708122253,
          0.07598181068897247,
          0.06736019253730774,
          0.07036736607551575,
          0.06172353774309158,
          0.0820007249712944,
          0.07763826102018356,
          0.06579306721687317,
          0.07988423854112625,
          0.07085823267698288,
          0.06526871025562286,
          0.06632682681083679,
          0.06268905103206635,
          0.06570560485124588,
          0.07178451120853424,
          0.06589892506599426,
          0.06200827285647392,
          0.06691055744886398,
          0.07174422591924667,
          0.06727207452058792,
          0.06691502779722214,
          0.07184288650751114,
          0.07900363951921463,
          0.07614817470312119,
          0.06955668330192566,
          0.06714529544115067,
          0.06717680394649506,
          0.07582803815603256,
          0.0766768604516983,
          0.06638788431882858,
          0.08280462771654129,
          0.07964321970939636,
          0.07151992619037628,
          0.06864083558320999,
          0.07432261854410172,
          0.07397156953811646,
          0.06628698855638504,
          0.08235606551170349,
          0.06685223430395126,
          0.08228081464767456,
          0.07356386631727219,
          0.08010341972112656,
          0.06974756717681885,
          0.06505902111530304,
          0.06370606273412704,
          0.07115641236305237,
          0.0619024932384491,
          0.08908543735742569,
          0.07255811989307404,
          0.06656994670629501,
          0.05510503426194191,
          0.07343360781669617,
          0.07229869067668915,
          0.06124068796634674,
          0.06963574886322021,
          0.07563021779060364,
          0.06119200959801674,
          0.07425804436206818,
          0.07641872763633728,
          0.0754806250333786,
          0.08154022693634033,
          0.0776410773396492,
          0.05923145264387131,
          0.07896160334348679,
          0.06345006823539734,
          0.06758389621973038,
          0.07317860424518585,
          0.07176773995161057,
          0.06816060096025467,
          0.07198117673397064,
          0.07556000351905823,
          0.06583785265684128,
          0.06298041343688965,
          0.06366775929927826,
          0.06241048872470856,
          0.07323378324508667,
          0.07333460450172424,
          0.07400518655776978,
          0.07630803436040878,
          0.07616478204727173,
          0.08226796239614487,
          0.07852206379175186,
          0.07233946025371552,
          0.07671855390071869,
          0.07649421691894531,
          0.0691157802939415,
          0.06657197326421738,
          0.07647651433944702,
          0.07972029596567154,
          0.07584436237812042,
          0.08809950947761536,
          0.06608650833368301,
          0.077115997672081,
          0.07757183909416199,
          0.06878359615802765,
          0.07058221846818924,
          0.06806954741477966,
          0.07342289388179779,
          0.0820281133055687,
          0.06777102500200272,
          0.07388399541378021,
          0.0633293092250824,
          0.08096089959144592,
          0.0773957222700119,
          0.06906841695308685,
          0.07140195369720459,
          0.07207109034061432,
          0.08377572894096375,
          0.07356986403465271,
          0.07875596731901169,
          0.07059665024280548,
          0.08162348717451096,
          0.07155831158161163,
          0.06807439029216766,
          0.08003928512334824,
          0.06662502884864807,
          0.07579554617404938,
          0.07432723045349121,
          0.06696240603923798,
          0.07570833712816238,
          0.0754203051328659,
          0.06990369409322739,
          0.06918951123952866,
          0.07711205631494522,
          0.08065243810415268,
          0.07511480152606964,
          0.08317997306585312,
          0.0769101232290268,
          0.07355351746082306,
          0.07990164309740067,
          0.07399696856737137,
          0.07667282223701477,
          0.08377393335103989,
          0.07313846051692963,
          0.08015761524438858,
          0.08574268221855164,
          0.07686740159988403,
          0.08244360238313675,
          0.07075180858373642,
          0.08226308971643448,
          0.08391160517930984,
          0.07524240016937256,
          0.07868642359972,
          0.06344490498304367,
          0.07791639864444733,
          0.07501249015331268,
          0.06502166390419006,
          0.08025344461202621,
          0.0769960880279541,
          0.08341430127620697,
          0.07061716914176941,
          0.08322387933731079,
          0.08174467831850052,
          0.09054110944271088,
          0.08464474976062775,
          0.0802597776055336,
          0.0809263214468956,
          0.07815764099359512,
          0.08486893773078918,
          0.08651996403932571,
          0.07736656069755554,
          0.08204051107168198,
          0.07644043117761612,
          0.06466099619865417,
          0.07481454312801361,
          0.06927789747714996,
          0.07180890440940857,
          0.07014768570661545,
          0.09230788797140121,
          0.072689488530159,
          0.05743943154811859,
          0.0779920220375061,
          0.07151820510625839,
          0.07254288345575333,
          0.09413255751132965,
          0.08004426956176758,
          0.07039335370063782,
          0.07235449552536011,
          0.09484909474849701,
          0.07465428113937378,
          0.07942681759595871,
          0.07829885929822922,
          0.08272076398134232,
          0.07593393325805664,
          0.0640314519405365,
          0.08325992524623871,
          0.07857772707939148,
          0.06982842832803726,
          0.07462730258703232,
          0.08684366196393967,
          0.07386629283428192,
          0.08566874265670776,
          0.08320937305688858,
          0.08221985399723053,
          0.07036403566598892,
          0.08294688910245895,
          0.07356254756450653,
          0.08635807782411575,
          0.08115695416927338,
          0.07855746150016785,
          0.07017752528190613,
          0.08436541259288788,
          0.06923222541809082,
          0.07054976373910904,
          0.06966088712215424,
          0.07387091219425201,
          0.06814078986644745,
          0.07097530364990234,
          0.07442283630371094,
          0.07705069333314896,
          0.07700051367282867,
          0.07413498312234879,
          0.07759435474872589,
          0.08623849600553513,
          0.08044762909412384,
          0.08657762408256531,
          0.06788808107376099,
          0.07230453193187714,
          0.07566846907138824,
          0.07492136210203171,
          0.07919919490814209,
          0.07342220097780228,
          0.07002315670251846,
          0.0781870037317276,
          0.08473911881446838,
          0.06868980824947357,
          0.07908450812101364,
          0.06746436655521393,
          0.07495932281017303,
          0.0864042416214943,
          0.08466079831123352,
          0.08216211199760437,
          0.08158890902996063,
          0.07135961204767227,
          0.06870903074741364,
          0.06711052358150482,
          0.08037711679935455,
          0.07195860892534256,
          0.08803942799568176,
          0.07803885638713837,
          0.0666295737028122,
          0.07310512661933899,
          0.07954870909452438,
          0.06685303896665573,
          0.07044863700866699,
          0.06922856718301773,
          0.07731156796216965,
          0.06608669459819794,
          0.07521054893732071,
          0.06417278200387955,
          0.07210806757211685,
          0.06768382340669632,
          0.0695548802614212,
          0.06949575990438461,
          0.0767664760351181,
          0.07936090230941772,
          0.05844469740986824,
          0.07334739714860916,
          0.07133857905864716,
          0.06670570373535156,
          0.06532449275255203,
          0.06464256346225739,
          0.06903785467147827,
          0.07771595567464828,
          0.06627912819385529,
          0.0726294219493866,
          0.0693945661187172,
          0.061966005712747574,
          0.06416364759206772,
          0.07159121334552765,
          0.06536801904439926,
          0.06535639613866806,
          0.07713410258293152,
          0.06818955391645432,
          0.07119008153676987,
          0.07122232764959335
         ]
        }
       ],
       "layout": {
        "template": {
         "data": {
          "bar": [
           {
            "error_x": {
             "color": "#2a3f5f"
            },
            "error_y": {
             "color": "#2a3f5f"
            },
            "marker": {
             "line": {
              "color": "#E5ECF6",
              "width": 0.5
             },
             "pattern": {
              "fillmode": "overlay",
              "size": 10,
              "solidity": 0.2
             }
            },
            "type": "bar"
           }
          ],
          "barpolar": [
           {
            "marker": {
             "line": {
              "color": "#E5ECF6",
              "width": 0.5
             },
             "pattern": {
              "fillmode": "overlay",
              "size": 10,
              "solidity": 0.2
             }
            },
            "type": "barpolar"
           }
          ],
          "carpet": [
           {
            "aaxis": {
             "endlinecolor": "#2a3f5f",
             "gridcolor": "white",
             "linecolor": "white",
             "minorgridcolor": "white",
             "startlinecolor": "#2a3f5f"
            },
            "baxis": {
             "endlinecolor": "#2a3f5f",
             "gridcolor": "white",
             "linecolor": "white",
             "minorgridcolor": "white",
             "startlinecolor": "#2a3f5f"
            },
            "type": "carpet"
           }
          ],
          "choropleth": [
           {
            "colorbar": {
             "outlinewidth": 0,
             "ticks": ""
            },
            "type": "choropleth"
           }
          ],
          "contour": [
           {
            "colorbar": {
             "outlinewidth": 0,
             "ticks": ""
            },
            "colorscale": [
             [
              0,
              "#0d0887"
             ],
             [
              0.1111111111111111,
              "#46039f"
             ],
             [
              0.2222222222222222,
              "#7201a8"
             ],
             [
              0.3333333333333333,
              "#9c179e"
             ],
             [
              0.4444444444444444,
              "#bd3786"
             ],
             [
              0.5555555555555556,
              "#d8576b"
             ],
             [
              0.6666666666666666,
              "#ed7953"
             ],
             [
              0.7777777777777778,
              "#fb9f3a"
             ],
             [
              0.8888888888888888,
              "#fdca26"
             ],
             [
              1,
              "#f0f921"
             ]
            ],
            "type": "contour"
           }
          ],
          "contourcarpet": [
           {
            "colorbar": {
             "outlinewidth": 0,
             "ticks": ""
            },
            "type": "contourcarpet"
           }
          ],
          "heatmap": [
           {
            "colorbar": {
             "outlinewidth": 0,
             "ticks": ""
            },
            "colorscale": [
             [
              0,
              "#0d0887"
             ],
             [
              0.1111111111111111,
              "#46039f"
             ],
             [
              0.2222222222222222,
              "#7201a8"
             ],
             [
              0.3333333333333333,
              "#9c179e"
             ],
             [
              0.4444444444444444,
              "#bd3786"
             ],
             [
              0.5555555555555556,
              "#d8576b"
             ],
             [
              0.6666666666666666,
              "#ed7953"
             ],
             [
              0.7777777777777778,
              "#fb9f3a"
             ],
             [
              0.8888888888888888,
              "#fdca26"
             ],
             [
              1,
              "#f0f921"
             ]
            ],
            "type": "heatmap"
           }
          ],
          "heatmapgl": [
           {
            "colorbar": {
             "outlinewidth": 0,
             "ticks": ""
            },
            "colorscale": [
             [
              0,
              "#0d0887"
             ],
             [
              0.1111111111111111,
              "#46039f"
             ],
             [
              0.2222222222222222,
              "#7201a8"
             ],
             [
              0.3333333333333333,
              "#9c179e"
             ],
             [
              0.4444444444444444,
              "#bd3786"
             ],
             [
              0.5555555555555556,
              "#d8576b"
             ],
             [
              0.6666666666666666,
              "#ed7953"
             ],
             [
              0.7777777777777778,
              "#fb9f3a"
             ],
             [
              0.8888888888888888,
              "#fdca26"
             ],
             [
              1,
              "#f0f921"
             ]
            ],
            "type": "heatmapgl"
           }
          ],
          "histogram": [
           {
            "marker": {
             "pattern": {
              "fillmode": "overlay",
              "size": 10,
              "solidity": 0.2
             }
            },
            "type": "histogram"
           }
          ],
          "histogram2d": [
           {
            "colorbar": {
             "outlinewidth": 0,
             "ticks": ""
            },
            "colorscale": [
             [
              0,
              "#0d0887"
             ],
             [
              0.1111111111111111,
              "#46039f"
             ],
             [
              0.2222222222222222,
              "#7201a8"
             ],
             [
              0.3333333333333333,
              "#9c179e"
             ],
             [
              0.4444444444444444,
              "#bd3786"
             ],
             [
              0.5555555555555556,
              "#d8576b"
             ],
             [
              0.6666666666666666,
              "#ed7953"
             ],
             [
              0.7777777777777778,
              "#fb9f3a"
             ],
             [
              0.8888888888888888,
              "#fdca26"
             ],
             [
              1,
              "#f0f921"
             ]
            ],
            "type": "histogram2d"
           }
          ],
          "histogram2dcontour": [
           {
            "colorbar": {
             "outlinewidth": 0,
             "ticks": ""
            },
            "colorscale": [
             [
              0,
              "#0d0887"
             ],
             [
              0.1111111111111111,
              "#46039f"
             ],
             [
              0.2222222222222222,
              "#7201a8"
             ],
             [
              0.3333333333333333,
              "#9c179e"
             ],
             [
              0.4444444444444444,
              "#bd3786"
             ],
             [
              0.5555555555555556,
              "#d8576b"
             ],
             [
              0.6666666666666666,
              "#ed7953"
             ],
             [
              0.7777777777777778,
              "#fb9f3a"
             ],
             [
              0.8888888888888888,
              "#fdca26"
             ],
             [
              1,
              "#f0f921"
             ]
            ],
            "type": "histogram2dcontour"
           }
          ],
          "mesh3d": [
           {
            "colorbar": {
             "outlinewidth": 0,
             "ticks": ""
            },
            "type": "mesh3d"
           }
          ],
          "parcoords": [
           {
            "line": {
             "colorbar": {
              "outlinewidth": 0,
              "ticks": ""
             }
            },
            "type": "parcoords"
           }
          ],
          "pie": [
           {
            "automargin": true,
            "type": "pie"
           }
          ],
          "scatter": [
           {
            "fillpattern": {
             "fillmode": "overlay",
             "size": 10,
             "solidity": 0.2
            },
            "type": "scatter"
           }
          ],
          "scatter3d": [
           {
            "line": {
             "colorbar": {
              "outlinewidth": 0,
              "ticks": ""
             }
            },
            "marker": {
             "colorbar": {
              "outlinewidth": 0,
              "ticks": ""
             }
            },
            "type": "scatter3d"
           }
          ],
          "scattercarpet": [
           {
            "marker": {
             "colorbar": {
              "outlinewidth": 0,
              "ticks": ""
             }
            },
            "type": "scattercarpet"
           }
          ],
          "scattergeo": [
           {
            "marker": {
             "colorbar": {
              "outlinewidth": 0,
              "ticks": ""
             }
            },
            "type": "scattergeo"
           }
          ],
          "scattergl": [
           {
            "marker": {
             "colorbar": {
              "outlinewidth": 0,
              "ticks": ""
             }
            },
            "type": "scattergl"
           }
          ],
          "scattermapbox": [
           {
            "marker": {
             "colorbar": {
              "outlinewidth": 0,
              "ticks": ""
             }
            },
            "type": "scattermapbox"
           }
          ],
          "scatterpolar": [
           {
            "marker": {
             "colorbar": {
              "outlinewidth": 0,
              "ticks": ""
             }
            },
            "type": "scatterpolar"
           }
          ],
          "scatterpolargl": [
           {
            "marker": {
             "colorbar": {
              "outlinewidth": 0,
              "ticks": ""
             }
            },
            "type": "scatterpolargl"
           }
          ],
          "scatterternary": [
           {
            "marker": {
             "colorbar": {
              "outlinewidth": 0,
              "ticks": ""
             }
            },
            "type": "scatterternary"
           }
          ],
          "surface": [
           {
            "colorbar": {
             "outlinewidth": 0,
             "ticks": ""
            },
            "colorscale": [
             [
              0,
              "#0d0887"
             ],
             [
              0.1111111111111111,
              "#46039f"
             ],
             [
              0.2222222222222222,
              "#7201a8"
             ],
             [
              0.3333333333333333,
              "#9c179e"
             ],
             [
              0.4444444444444444,
              "#bd3786"
             ],
             [
              0.5555555555555556,
              "#d8576b"
             ],
             [
              0.6666666666666666,
              "#ed7953"
             ],
             [
              0.7777777777777778,
              "#fb9f3a"
             ],
             [
              0.8888888888888888,
              "#fdca26"
             ],
             [
              1,
              "#f0f921"
             ]
            ],
            "type": "surface"
           }
          ],
          "table": [
           {
            "cells": {
             "fill": {
              "color": "#EBF0F8"
             },
             "line": {
              "color": "white"
             }
            },
            "header": {
             "fill": {
              "color": "#C8D4E3"
             },
             "line": {
              "color": "white"
             }
            },
            "type": "table"
           }
          ]
         },
         "layout": {
          "annotationdefaults": {
           "arrowcolor": "#2a3f5f",
           "arrowhead": 0,
           "arrowwidth": 1
          },
          "autotypenumbers": "strict",
          "coloraxis": {
           "colorbar": {
            "outlinewidth": 0,
            "ticks": ""
           }
          },
          "colorscale": {
           "diverging": [
            [
             0,
             "#8e0152"
            ],
            [
             0.1,
             "#c51b7d"
            ],
            [
             0.2,
             "#de77ae"
            ],
            [
             0.3,
             "#f1b6da"
            ],
            [
             0.4,
             "#fde0ef"
            ],
            [
             0.5,
             "#f7f7f7"
            ],
            [
             0.6,
             "#e6f5d0"
            ],
            [
             0.7,
             "#b8e186"
            ],
            [
             0.8,
             "#7fbc41"
            ],
            [
             0.9,
             "#4d9221"
            ],
            [
             1,
             "#276419"
            ]
           ],
           "sequential": [
            [
             0,
             "#0d0887"
            ],
            [
             0.1111111111111111,
             "#46039f"
            ],
            [
             0.2222222222222222,
             "#7201a8"
            ],
            [
             0.3333333333333333,
             "#9c179e"
            ],
            [
             0.4444444444444444,
             "#bd3786"
            ],
            [
             0.5555555555555556,
             "#d8576b"
            ],
            [
             0.6666666666666666,
             "#ed7953"
            ],
            [
             0.7777777777777778,
             "#fb9f3a"
            ],
            [
             0.8888888888888888,
             "#fdca26"
            ],
            [
             1,
             "#f0f921"
            ]
           ],
           "sequentialminus": [
            [
             0,
             "#0d0887"
            ],
            [
             0.1111111111111111,
             "#46039f"
            ],
            [
             0.2222222222222222,
             "#7201a8"
            ],
            [
             0.3333333333333333,
             "#9c179e"
            ],
            [
             0.4444444444444444,
             "#bd3786"
            ],
            [
             0.5555555555555556,
             "#d8576b"
            ],
            [
             0.6666666666666666,
             "#ed7953"
            ],
            [
             0.7777777777777778,
             "#fb9f3a"
            ],
            [
             0.8888888888888888,
             "#fdca26"
            ],
            [
             1,
             "#f0f921"
            ]
           ]
          },
          "colorway": [
           "#636efa",
           "#EF553B",
           "#00cc96",
           "#ab63fa",
           "#FFA15A",
           "#19d3f3",
           "#FF6692",
           "#B6E880",
           "#FF97FF",
           "#FECB52"
          ],
          "font": {
           "color": "#2a3f5f"
          },
          "geo": {
           "bgcolor": "white",
           "lakecolor": "white",
           "landcolor": "#E5ECF6",
           "showlakes": true,
           "showland": true,
           "subunitcolor": "white"
          },
          "hoverlabel": {
           "align": "left"
          },
          "hovermode": "closest",
          "mapbox": {
           "style": "light"
          },
          "paper_bgcolor": "white",
          "plot_bgcolor": "#E5ECF6",
          "polar": {
           "angularaxis": {
            "gridcolor": "white",
            "linecolor": "white",
            "ticks": ""
           },
           "bgcolor": "#E5ECF6",
           "radialaxis": {
            "gridcolor": "white",
            "linecolor": "white",
            "ticks": ""
           }
          },
          "scene": {
           "xaxis": {
            "backgroundcolor": "#E5ECF6",
            "gridcolor": "white",
            "gridwidth": 2,
            "linecolor": "white",
            "showbackground": true,
            "ticks": "",
            "zerolinecolor": "white"
           },
           "yaxis": {
            "backgroundcolor": "#E5ECF6",
            "gridcolor": "white",
            "gridwidth": 2,
            "linecolor": "white",
            "showbackground": true,
            "ticks": "",
            "zerolinecolor": "white"
           },
           "zaxis": {
            "backgroundcolor": "#E5ECF6",
            "gridcolor": "white",
            "gridwidth": 2,
            "linecolor": "white",
            "showbackground": true,
            "ticks": "",
            "zerolinecolor": "white"
           }
          },
          "shapedefaults": {
           "line": {
            "color": "#2a3f5f"
           }
          },
          "ternary": {
           "aaxis": {
            "gridcolor": "white",
            "linecolor": "white",
            "ticks": ""
           },
           "baxis": {
            "gridcolor": "white",
            "linecolor": "white",
            "ticks": ""
           },
           "bgcolor": "#E5ECF6",
           "caxis": {
            "gridcolor": "white",
            "linecolor": "white",
            "ticks": ""
           }
          },
          "title": {
           "x": 0.05
          },
          "xaxis": {
           "automargin": true,
           "gridcolor": "white",
           "linecolor": "white",
           "ticks": "",
           "title": {
            "standoff": 15
           },
           "zerolinecolor": "white",
           "zerolinewidth": 2
          },
          "yaxis": {
           "automargin": true,
           "gridcolor": "white",
           "linecolor": "white",
           "ticks": "",
           "title": {
            "standoff": 15
           },
           "zerolinecolor": "white",
           "zerolinewidth": 2
          }
         }
        }
       }
      }
     },
     "metadata": {},
     "output_type": "display_data"
    },
    {
     "data": {
      "application/vnd.plotly.v1+json": {
       "config": {
        "plotlyServerURL": "https://plot.ly"
       },
       "data": [
        {
         "marker": {
          "size": 3
         },
         "mode": "markers",
         "name": "gt_5",
         "type": "scatter",
         "y": [
          0.12174681574106216,
          0.1213720515370369,
          0.12136436253786087,
          0.12128719687461853,
          0.12129557132720947,
          0.1212565153837204,
          0.12126254290342331,
          0.1213187500834465,
          0.12130358070135117,
          0.12129015475511551,
          0.12129086256027222,
          0.12129880487918854,
          0.12133108079433441,
          0.12134011834859848,
          0.121320940554142,
          0.12131191790103912,
          0.12132444977760315,
          0.12133001536130905,
          0.12133356928825378,
          0.1213507428765297,
          0.12136975675821304,
          0.12139713019132614,
          0.12142916768789291,
          0.12145978957414627,
          0.12149758636951447,
          0.12154718488454819,
          0.12161468714475632,
          0.12169265747070312,
          0.12178011238574982,
          0.12190588563680649,
          0.12206021696329117,
          0.12214149534702301,
          0.12212920188903809,
          0.12210134416818619,
          0.1221112310886383,
          0.1221630722284317,
          0.12220089137554169,
          0.12222940474748611,
          0.12230940163135529,
          0.12240361422300339,
          0.12245496362447739,
          0.12246371805667877,
          0.12242792546749115,
          0.12239156663417816,
          0.12246217578649521,
          0.12263661623001099,
          0.12277376651763916,
          0.12278972566127777,
          0.12269032746553421,
          0.12256819754838943,
          0.12255378067493439,
          0.12262063473463058,
          0.12259271740913391,
          0.12242531776428223,
          0.1222756877541542,
          0.12222171574831009,
          0.12218416482210159,
          0.12214839458465576,
          0.12215776741504669,
          0.12214843183755875,
          0.12209182977676392,
          0.12203758955001831,
          0.12198550254106522,
          0.12193580716848373,
          0.12190032750368118,
          0.1218818798661232,
          0.12192380428314209,
          0.1220289021730423,
          0.12205301225185394,
          0.12194462865591049,
          0.12182916700839996,
          0.1217651441693306,
          0.12174883484840393,
          0.12177871912717819,
          0.12178903818130493,
          0.12177924066781998,
          0.1218140497803688,
          0.12179146707057953,
          0.12167787551879883,
          0.12164364755153656,
          0.12167934328317642,
          0.12166877835988998,
          0.12161235511302948,
          0.12153823673725128,
          0.12153835594654083,
          0.12180378288030624,
          0.12236529588699341,
          0.12290576100349426,
          0.12313517183065414,
          0.1232249066233635,
          0.12353868782520294,
          0.1240868791937828,
          0.12443699687719345,
          0.12434371560811996,
          0.12414374947547913,
          0.12412111461162567,
          0.12413209676742554,
          0.12401904165744781,
          0.1239040344953537,
          0.12404817342758179,
          0.12433342635631561,
          0.12430442124605179,
          0.1239180788397789,
          0.12353463470935822,
          0.12335669994354248,
          0.12334688752889633,
          0.12346683442592621,
          0.12364353984594345,
          0.12361392378807068,
          0.12336590141057968,
          0.12324567884206772,
          0.12326443940401077,
          0.12318949401378632,
          0.1230691596865654,
          0.12298867106437683,
          0.12293572723865509,
          0.12295500189065933,
          0.1230200007557869,
          0.12307003140449524,
          0.12313897162675858,
          0.12317657470703125,
          0.12303365767002106,
          0.1227695569396019,
          0.122635617852211,
          0.12267569452524185,
          0.12268140912055969,
          0.12258537113666534,
          0.12251291424036026,
          0.12248031795024872,
          0.12244412302970886,
          0.12246806174516678,
          0.12254252284765244,
          0.12257259339094162,
          0.12261617183685303,
          0.12279582768678665,
          0.12305456399917603,
          0.12325246632099152,
          0.12342333048582077,
          0.12369658797979355,
          0.12402188032865524,
          0.12425793707370758,
          0.12446100264787674,
          0.12476275116205215,
          0.1250961869955063,
          0.12531259655952454,
          0.12540651857852936,
          0.1254991739988327,
          0.12568412721157074,
          0.12592695653438568,
          0.12613432109355927,
          0.126292884349823,
          0.12648434937000275,
          0.12678520381450653,
          0.12713588774204254,
          0.12735745310783386,
          0.1273895651102066,
          0.127350315451622,
          0.12731502950191498,
          0.12722700834274292,
          0.12705999612808228,
          0.12688107788562775,
          0.12677128612995148,
          0.12675946950912476,
          0.126779243350029,
          0.1267322450876236,
          0.12663160264492035,
          0.12653788924217224,
          0.12641505897045135,
          0.12622058391571045,
          0.1260436326265335,
          0.12597349286079407,
          0.12595123052597046,
          0.1258784532546997,
          0.12577110528945923,
          0.12569501996040344,
          0.12566782534122467,
          0.1256866455078125,
          0.125804141163826,
          0.1261637657880783,
          0.1268940269947052,
          0.12790696322917938,
          0.12887872755527496,
          0.12951432168483734,
          0.12975746393203735,
          0.12969613075256348,
          0.12940533459186554,
          0.12893399596214294,
          0.12834428250789642,
          0.12771594524383545,
          0.12713772058486938,
          0.12667417526245117,
          0.1263304054737091,
          0.12607280910015106,
          0.12590646743774414,
          0.12586943805217743,
          0.12594245374202728,
          0.12602952122688293,
          0.1260637640953064,
          0.12606218457221985,
          0.12605322897434235,
          0.12603379786014557,
          0.12600752711296082,
          0.1259722113609314,
          0.12590493261814117,
          0.12581074237823486,
          0.1257513016462326,
          0.1257588416337967,
          0.12578020989894867,
          0.12575359642505646,
          0.1256980299949646,
          0.1256764829158783,
          0.12569935619831085,
          0.12573017179965973,
          0.12573523819446564,
          0.12571610510349274,
          0.12569917738437653,
          0.12569986283779144,
          0.1257111132144928,
          0.1257123202085495,
          0.12569154798984528,
          0.12566061317920685,
          0.12563391029834747,
          0.12560315430164337,
          0.125532329082489,
          0.12539911270141602,
          0.12523497641086578,
          0.12509213387966156,
          0.1249818354845047,
          0.12487681955099106,
          0.12476302683353424,
          0.12465350329875946,
          0.12457899004220963,
          0.12455712258815765,
          0.12455885857343674,
          0.12452338635921478,
          0.12443085759878159,
          0.12431894987821579,
          0.1242133304476738,
          0.12409466505050659,
          0.12395364791154861,
          0.12383026629686356,
          0.12376280874013901,
          0.12373975664377213,
          0.12371799349784851,
          0.12366446107625961,
          0.12357116490602493,
          0.12344904243946075,
          0.12332119047641754,
          0.12321197241544724,
          0.123129703104496,
          0.12306433916091919,
          0.12299978733062744,
          0.12292750179767609,
          0.1228484958410263,
          0.12276966869831085,
          0.12270268052816391,
          0.12265630066394806,
          0.12262792140245438,
          0.1226019561290741,
          0.12256154417991638,
          0.12250425666570663,
          0.12244334816932678,
          0.1223917007446289,
          0.12235077470541,
          0.12231452018022537,
          0.12227929383516312,
          0.12224685400724411,
          0.12221760302782059,
          0.12218642979860306,
          0.12214896827936172,
          0.12210926413536072,
          0.12207499146461487,
          0.12204878777265549,
          0.12202721834182739,
          0.12200591713190079,
          0.12198320776224136,
          0.12196190655231476,
          0.12194706499576569,
          0.12193766236305237,
          0.12192351371049881,
          0.12189590185880661,
          0.12185925990343094,
          0.12182583659887314
         ]
        },
        {
         "marker": {
          "size": 3
         },
         "mode": "markers",
         "name": "pred_5",
         "type": "scatter",
         "y": [
          0.12445199489593506,
          0.11869385838508606,
          0.11821567267179489,
          0.11617511510848999,
          0.11863148212432861,
          0.11737894266843796,
          0.11293530464172363,
          0.11545978486537933,
          0.12383288145065308,
          0.11592797189950943,
          0.11918723583221436,
          0.1151711642742157,
          0.12351612001657486,
          0.1215713769197464,
          0.11794785410165787,
          0.1262720376253128,
          0.11884914338588715,
          0.11705678701400757,
          0.11910045146942139,
          0.11724607646465302,
          0.11635736376047134,
          0.1230178251862526,
          0.11649873852729797,
          0.11895154416561127,
          0.1194513812661171,
          0.11932580918073654,
          0.11609571427106857,
          0.12113086134195328,
          0.12134941667318344,
          0.12351381033658981,
          0.12222488224506378,
          0.11856153607368469,
          0.12141501903533936,
          0.11969296634197235,
          0.12208358943462372,
          0.11996723711490631,
          0.11988160759210587,
          0.12323236465454102,
          0.1246907114982605,
          0.1231507807970047,
          0.12110381573438644,
          0.12499236315488815,
          0.11988366395235062,
          0.12264223396778107,
          0.12444678694009781,
          0.12325306981801987,
          0.13132739067077637,
          0.12486883252859116,
          0.1262158900499344,
          0.1194625198841095,
          0.11794991791248322,
          0.11393824964761734,
          0.1225397065281868,
          0.1196669489145279,
          0.13415026664733887,
          0.12658461928367615,
          0.11886052042245865,
          0.11682119220495224,
          0.12468604743480682,
          0.12251927703619003,
          0.11626818031072617,
          0.12031415104866028,
          0.12718631327152252,
          0.11763369292020798,
          0.12285393476486206,
          0.12322360277175903,
          0.12251132726669312,
          0.12610983848571777,
          0.1254904419183731,
          0.12139525264501572,
          0.1257215440273285,
          0.11857365071773529,
          0.12174851447343826,
          0.12294940650463104,
          0.12613075971603394,
          0.12443794310092926,
          0.12130190432071686,
          0.12409664690494537,
          0.12314264476299286,
          0.11801712214946747,
          0.11376411467790604,
          0.12310389429330826,
          0.12118460983037949,
          0.12804895639419556,
          0.12080986797809601,
          0.12508340179920197,
          0.12615682184696198,
          0.12750226259231567,
          0.1267145276069641,
          0.12108693271875381,
          0.12203444540500641,
          0.12699705362319946,
          0.12594972550868988,
          0.12304242700338364,
          0.12452548742294312,
          0.12334754317998886,
          0.12886977195739746,
          0.130238875746727,
          0.12427075952291489,
          0.13506528735160828,
          0.12891438603401184,
          0.12282867729663849,
          0.12355580180883408,
          0.1297372430562973,
          0.122025266289711,
          0.12588049471378326,
          0.12131663411855698,
          0.12342239916324615,
          0.1251138597726822,
          0.1270904541015625,
          0.12772037088871002,
          0.12538914382457733,
          0.12933282554149628,
          0.1229766309261322,
          0.12932419776916504,
          0.12147195637226105,
          0.12615163624286652,
          0.12405255436897278,
          0.13004592061042786,
          0.1258888989686966,
          0.12602289021015167,
          0.1341112107038498,
          0.12410132586956024,
          0.12554199993610382,
          0.12454879283905029,
          0.1256524622440338,
          0.12418314814567566,
          0.12488692998886108,
          0.1262277364730835,
          0.12648020684719086,
          0.12529189884662628,
          0.12378308922052383,
          0.12433210015296936,
          0.12553468346595764,
          0.1236034631729126,
          0.12173278629779816,
          0.13120652735233307,
          0.12512604892253876,
          0.13024446368217468,
          0.12993520498275757,
          0.1264188438653946,
          0.12593315541744232,
          0.13047340512275696,
          0.12631896138191223,
          0.12968958914279938,
          0.12602870166301727,
          0.12914423644542694,
          0.130680114030838,
          0.1331266164779663,
          0.12899939715862274,
          0.12540969252586365,
          0.12764988839626312,
          0.12758579850196838,
          0.12836970388889313,
          0.13203585147857666,
          0.12186773866415024,
          0.12930655479431152,
          0.12557679414749146,
          0.13058196008205414,
          0.13070283830165863,
          0.13376280665397644,
          0.12620507180690765,
          0.1283455491065979,
          0.13304764032363892,
          0.13210803270339966,
          0.1289549469947815,
          0.1295589804649353,
          0.13072046637535095,
          0.13074758648872375,
          0.12347281724214554,
          0.12411679327487946,
          0.1262696236371994,
          0.12443134933710098,
          0.12507212162017822,
          0.1258242428302765,
          0.1307268887758255,
          0.12496975064277649,
          0.12252795696258545,
          0.1347455084323883,
          0.12713079154491425,
          0.12695573270320892,
          0.13489137589931488,
          0.13302674889564514,
          0.12979546189308167,
          0.12855187058448792,
          0.13812369108200073,
          0.1293095201253891,
          0.13361003994941711,
          0.13290975987911224,
          0.12986797094345093,
          0.12941782176494598,
          0.12184102833271027,
          0.12964381277561188,
          0.12801235914230347,
          0.12346292287111282,
          0.1221863329410553,
          0.13160234689712524,
          0.1274299919605255,
          0.13207387924194336,
          0.12984704971313477,
          0.13503290712833405,
          0.12241650372743607,
          0.129231795668602,
          0.12952932715415955,
          0.13281652331352234,
          0.1268896460533142,
          0.1290322244167328,
          0.12435679137706757,
          0.12941761314868927,
          0.12511895596981049,
          0.12682044506072998,
          0.12381699681282043,
          0.12889643013477325,
          0.12252594530582428,
          0.12358596920967102,
          0.12298282980918884,
          0.12403442710638046,
          0.1255924105644226,
          0.12401767075061798,
          0.12852399051189423,
          0.13116103410720825,
          0.12973293662071228,
          0.13073447346687317,
          0.12084484100341797,
          0.12473664432764053,
          0.1282535195350647,
          0.12399449944496155,
          0.1283208280801773,
          0.12361003458499908,
          0.12404891848564148,
          0.12593179941177368,
          0.129705011844635,
          0.12306840717792511,
          0.12794707715511322,
          0.1250191181898117,
          0.12302184849977493,
          0.1284944713115692,
          0.12810882925987244,
          0.1225699782371521,
          0.12503616511821747,
          0.12468545883893967,
          0.12453041225671768,
          0.12014362215995789,
          0.12799561023712158,
          0.12614279985427856,
          0.1285335123538971,
          0.12287873774766922,
          0.12270477414131165,
          0.12208564579486847,
          0.12764409184455872,
          0.12196142971515656,
          0.12161090970039368,
          0.12018194794654846,
          0.12341607362031937,
          0.12159851938486099,
          0.12245289981365204,
          0.12089469283819199,
          0.12715476751327515,
          0.11950663477182388,
          0.11929026991128922,
          0.1191287562251091,
          0.11919615417718887,
          0.12346756458282471,
          0.11377348005771637,
          0.12316882610321045,
          0.12364594638347626,
          0.1197090744972229,
          0.11980179697275162,
          0.11759369820356369,
          0.12061658501625061,
          0.12466927617788315,
          0.11883430182933807,
          0.11888744682073593,
          0.11939533799886703,
          0.11541441082954407,
          0.11917214840650558,
          0.12142369151115417,
          0.12766622006893158,
          0.11305838078260422,
          0.12127881497144699,
          0.11836650222539902,
          0.11902112513780594,
          0.11934927105903625
         ]
        }
       ],
       "layout": {
        "template": {
         "data": {
          "bar": [
           {
            "error_x": {
             "color": "#2a3f5f"
            },
            "error_y": {
             "color": "#2a3f5f"
            },
            "marker": {
             "line": {
              "color": "#E5ECF6",
              "width": 0.5
             },
             "pattern": {
              "fillmode": "overlay",
              "size": 10,
              "solidity": 0.2
             }
            },
            "type": "bar"
           }
          ],
          "barpolar": [
           {
            "marker": {
             "line": {
              "color": "#E5ECF6",
              "width": 0.5
             },
             "pattern": {
              "fillmode": "overlay",
              "size": 10,
              "solidity": 0.2
             }
            },
            "type": "barpolar"
           }
          ],
          "carpet": [
           {
            "aaxis": {
             "endlinecolor": "#2a3f5f",
             "gridcolor": "white",
             "linecolor": "white",
             "minorgridcolor": "white",
             "startlinecolor": "#2a3f5f"
            },
            "baxis": {
             "endlinecolor": "#2a3f5f",
             "gridcolor": "white",
             "linecolor": "white",
             "minorgridcolor": "white",
             "startlinecolor": "#2a3f5f"
            },
            "type": "carpet"
           }
          ],
          "choropleth": [
           {
            "colorbar": {
             "outlinewidth": 0,
             "ticks": ""
            },
            "type": "choropleth"
           }
          ],
          "contour": [
           {
            "colorbar": {
             "outlinewidth": 0,
             "ticks": ""
            },
            "colorscale": [
             [
              0,
              "#0d0887"
             ],
             [
              0.1111111111111111,
              "#46039f"
             ],
             [
              0.2222222222222222,
              "#7201a8"
             ],
             [
              0.3333333333333333,
              "#9c179e"
             ],
             [
              0.4444444444444444,
              "#bd3786"
             ],
             [
              0.5555555555555556,
              "#d8576b"
             ],
             [
              0.6666666666666666,
              "#ed7953"
             ],
             [
              0.7777777777777778,
              "#fb9f3a"
             ],
             [
              0.8888888888888888,
              "#fdca26"
             ],
             [
              1,
              "#f0f921"
             ]
            ],
            "type": "contour"
           }
          ],
          "contourcarpet": [
           {
            "colorbar": {
             "outlinewidth": 0,
             "ticks": ""
            },
            "type": "contourcarpet"
           }
          ],
          "heatmap": [
           {
            "colorbar": {
             "outlinewidth": 0,
             "ticks": ""
            },
            "colorscale": [
             [
              0,
              "#0d0887"
             ],
             [
              0.1111111111111111,
              "#46039f"
             ],
             [
              0.2222222222222222,
              "#7201a8"
             ],
             [
              0.3333333333333333,
              "#9c179e"
             ],
             [
              0.4444444444444444,
              "#bd3786"
             ],
             [
              0.5555555555555556,
              "#d8576b"
             ],
             [
              0.6666666666666666,
              "#ed7953"
             ],
             [
              0.7777777777777778,
              "#fb9f3a"
             ],
             [
              0.8888888888888888,
              "#fdca26"
             ],
             [
              1,
              "#f0f921"
             ]
            ],
            "type": "heatmap"
           }
          ],
          "heatmapgl": [
           {
            "colorbar": {
             "outlinewidth": 0,
             "ticks": ""
            },
            "colorscale": [
             [
              0,
              "#0d0887"
             ],
             [
              0.1111111111111111,
              "#46039f"
             ],
             [
              0.2222222222222222,
              "#7201a8"
             ],
             [
              0.3333333333333333,
              "#9c179e"
             ],
             [
              0.4444444444444444,
              "#bd3786"
             ],
             [
              0.5555555555555556,
              "#d8576b"
             ],
             [
              0.6666666666666666,
              "#ed7953"
             ],
             [
              0.7777777777777778,
              "#fb9f3a"
             ],
             [
              0.8888888888888888,
              "#fdca26"
             ],
             [
              1,
              "#f0f921"
             ]
            ],
            "type": "heatmapgl"
           }
          ],
          "histogram": [
           {
            "marker": {
             "pattern": {
              "fillmode": "overlay",
              "size": 10,
              "solidity": 0.2
             }
            },
            "type": "histogram"
           }
          ],
          "histogram2d": [
           {
            "colorbar": {
             "outlinewidth": 0,
             "ticks": ""
            },
            "colorscale": [
             [
              0,
              "#0d0887"
             ],
             [
              0.1111111111111111,
              "#46039f"
             ],
             [
              0.2222222222222222,
              "#7201a8"
             ],
             [
              0.3333333333333333,
              "#9c179e"
             ],
             [
              0.4444444444444444,
              "#bd3786"
             ],
             [
              0.5555555555555556,
              "#d8576b"
             ],
             [
              0.6666666666666666,
              "#ed7953"
             ],
             [
              0.7777777777777778,
              "#fb9f3a"
             ],
             [
              0.8888888888888888,
              "#fdca26"
             ],
             [
              1,
              "#f0f921"
             ]
            ],
            "type": "histogram2d"
           }
          ],
          "histogram2dcontour": [
           {
            "colorbar": {
             "outlinewidth": 0,
             "ticks": ""
            },
            "colorscale": [
             [
              0,
              "#0d0887"
             ],
             [
              0.1111111111111111,
              "#46039f"
             ],
             [
              0.2222222222222222,
              "#7201a8"
             ],
             [
              0.3333333333333333,
              "#9c179e"
             ],
             [
              0.4444444444444444,
              "#bd3786"
             ],
             [
              0.5555555555555556,
              "#d8576b"
             ],
             [
              0.6666666666666666,
              "#ed7953"
             ],
             [
              0.7777777777777778,
              "#fb9f3a"
             ],
             [
              0.8888888888888888,
              "#fdca26"
             ],
             [
              1,
              "#f0f921"
             ]
            ],
            "type": "histogram2dcontour"
           }
          ],
          "mesh3d": [
           {
            "colorbar": {
             "outlinewidth": 0,
             "ticks": ""
            },
            "type": "mesh3d"
           }
          ],
          "parcoords": [
           {
            "line": {
             "colorbar": {
              "outlinewidth": 0,
              "ticks": ""
             }
            },
            "type": "parcoords"
           }
          ],
          "pie": [
           {
            "automargin": true,
            "type": "pie"
           }
          ],
          "scatter": [
           {
            "fillpattern": {
             "fillmode": "overlay",
             "size": 10,
             "solidity": 0.2
            },
            "type": "scatter"
           }
          ],
          "scatter3d": [
           {
            "line": {
             "colorbar": {
              "outlinewidth": 0,
              "ticks": ""
             }
            },
            "marker": {
             "colorbar": {
              "outlinewidth": 0,
              "ticks": ""
             }
            },
            "type": "scatter3d"
           }
          ],
          "scattercarpet": [
           {
            "marker": {
             "colorbar": {
              "outlinewidth": 0,
              "ticks": ""
             }
            },
            "type": "scattercarpet"
           }
          ],
          "scattergeo": [
           {
            "marker": {
             "colorbar": {
              "outlinewidth": 0,
              "ticks": ""
             }
            },
            "type": "scattergeo"
           }
          ],
          "scattergl": [
           {
            "marker": {
             "colorbar": {
              "outlinewidth": 0,
              "ticks": ""
             }
            },
            "type": "scattergl"
           }
          ],
          "scattermapbox": [
           {
            "marker": {
             "colorbar": {
              "outlinewidth": 0,
              "ticks": ""
             }
            },
            "type": "scattermapbox"
           }
          ],
          "scatterpolar": [
           {
            "marker": {
             "colorbar": {
              "outlinewidth": 0,
              "ticks": ""
             }
            },
            "type": "scatterpolar"
           }
          ],
          "scatterpolargl": [
           {
            "marker": {
             "colorbar": {
              "outlinewidth": 0,
              "ticks": ""
             }
            },
            "type": "scatterpolargl"
           }
          ],
          "scatterternary": [
           {
            "marker": {
             "colorbar": {
              "outlinewidth": 0,
              "ticks": ""
             }
            },
            "type": "scatterternary"
           }
          ],
          "surface": [
           {
            "colorbar": {
             "outlinewidth": 0,
             "ticks": ""
            },
            "colorscale": [
             [
              0,
              "#0d0887"
             ],
             [
              0.1111111111111111,
              "#46039f"
             ],
             [
              0.2222222222222222,
              "#7201a8"
             ],
             [
              0.3333333333333333,
              "#9c179e"
             ],
             [
              0.4444444444444444,
              "#bd3786"
             ],
             [
              0.5555555555555556,
              "#d8576b"
             ],
             [
              0.6666666666666666,
              "#ed7953"
             ],
             [
              0.7777777777777778,
              "#fb9f3a"
             ],
             [
              0.8888888888888888,
              "#fdca26"
             ],
             [
              1,
              "#f0f921"
             ]
            ],
            "type": "surface"
           }
          ],
          "table": [
           {
            "cells": {
             "fill": {
              "color": "#EBF0F8"
             },
             "line": {
              "color": "white"
             }
            },
            "header": {
             "fill": {
              "color": "#C8D4E3"
             },
             "line": {
              "color": "white"
             }
            },
            "type": "table"
           }
          ]
         },
         "layout": {
          "annotationdefaults": {
           "arrowcolor": "#2a3f5f",
           "arrowhead": 0,
           "arrowwidth": 1
          },
          "autotypenumbers": "strict",
          "coloraxis": {
           "colorbar": {
            "outlinewidth": 0,
            "ticks": ""
           }
          },
          "colorscale": {
           "diverging": [
            [
             0,
             "#8e0152"
            ],
            [
             0.1,
             "#c51b7d"
            ],
            [
             0.2,
             "#de77ae"
            ],
            [
             0.3,
             "#f1b6da"
            ],
            [
             0.4,
             "#fde0ef"
            ],
            [
             0.5,
             "#f7f7f7"
            ],
            [
             0.6,
             "#e6f5d0"
            ],
            [
             0.7,
             "#b8e186"
            ],
            [
             0.8,
             "#7fbc41"
            ],
            [
             0.9,
             "#4d9221"
            ],
            [
             1,
             "#276419"
            ]
           ],
           "sequential": [
            [
             0,
             "#0d0887"
            ],
            [
             0.1111111111111111,
             "#46039f"
            ],
            [
             0.2222222222222222,
             "#7201a8"
            ],
            [
             0.3333333333333333,
             "#9c179e"
            ],
            [
             0.4444444444444444,
             "#bd3786"
            ],
            [
             0.5555555555555556,
             "#d8576b"
            ],
            [
             0.6666666666666666,
             "#ed7953"
            ],
            [
             0.7777777777777778,
             "#fb9f3a"
            ],
            [
             0.8888888888888888,
             "#fdca26"
            ],
            [
             1,
             "#f0f921"
            ]
           ],
           "sequentialminus": [
            [
             0,
             "#0d0887"
            ],
            [
             0.1111111111111111,
             "#46039f"
            ],
            [
             0.2222222222222222,
             "#7201a8"
            ],
            [
             0.3333333333333333,
             "#9c179e"
            ],
            [
             0.4444444444444444,
             "#bd3786"
            ],
            [
             0.5555555555555556,
             "#d8576b"
            ],
            [
             0.6666666666666666,
             "#ed7953"
            ],
            [
             0.7777777777777778,
             "#fb9f3a"
            ],
            [
             0.8888888888888888,
             "#fdca26"
            ],
            [
             1,
             "#f0f921"
            ]
           ]
          },
          "colorway": [
           "#636efa",
           "#EF553B",
           "#00cc96",
           "#ab63fa",
           "#FFA15A",
           "#19d3f3",
           "#FF6692",
           "#B6E880",
           "#FF97FF",
           "#FECB52"
          ],
          "font": {
           "color": "#2a3f5f"
          },
          "geo": {
           "bgcolor": "white",
           "lakecolor": "white",
           "landcolor": "#E5ECF6",
           "showlakes": true,
           "showland": true,
           "subunitcolor": "white"
          },
          "hoverlabel": {
           "align": "left"
          },
          "hovermode": "closest",
          "mapbox": {
           "style": "light"
          },
          "paper_bgcolor": "white",
          "plot_bgcolor": "#E5ECF6",
          "polar": {
           "angularaxis": {
            "gridcolor": "white",
            "linecolor": "white",
            "ticks": ""
           },
           "bgcolor": "#E5ECF6",
           "radialaxis": {
            "gridcolor": "white",
            "linecolor": "white",
            "ticks": ""
           }
          },
          "scene": {
           "xaxis": {
            "backgroundcolor": "#E5ECF6",
            "gridcolor": "white",
            "gridwidth": 2,
            "linecolor": "white",
            "showbackground": true,
            "ticks": "",
            "zerolinecolor": "white"
           },
           "yaxis": {
            "backgroundcolor": "#E5ECF6",
            "gridcolor": "white",
            "gridwidth": 2,
            "linecolor": "white",
            "showbackground": true,
            "ticks": "",
            "zerolinecolor": "white"
           },
           "zaxis": {
            "backgroundcolor": "#E5ECF6",
            "gridcolor": "white",
            "gridwidth": 2,
            "linecolor": "white",
            "showbackground": true,
            "ticks": "",
            "zerolinecolor": "white"
           }
          },
          "shapedefaults": {
           "line": {
            "color": "#2a3f5f"
           }
          },
          "ternary": {
           "aaxis": {
            "gridcolor": "white",
            "linecolor": "white",
            "ticks": ""
           },
           "baxis": {
            "gridcolor": "white",
            "linecolor": "white",
            "ticks": ""
           },
           "bgcolor": "#E5ECF6",
           "caxis": {
            "gridcolor": "white",
            "linecolor": "white",
            "ticks": ""
           }
          },
          "title": {
           "x": 0.05
          },
          "xaxis": {
           "automargin": true,
           "gridcolor": "white",
           "linecolor": "white",
           "ticks": "",
           "title": {
            "standoff": 15
           },
           "zerolinecolor": "white",
           "zerolinewidth": 2
          },
          "yaxis": {
           "automargin": true,
           "gridcolor": "white",
           "linecolor": "white",
           "ticks": "",
           "title": {
            "standoff": 15
           },
           "zerolinecolor": "white",
           "zerolinewidth": 2
          }
         }
        }
       }
      }
     },
     "metadata": {},
     "output_type": "display_data"
    },
    {
     "data": {
      "application/vnd.plotly.v1+json": {
       "config": {
        "plotlyServerURL": "https://plot.ly"
       },
       "data": [
        {
         "marker": {
          "size": 3
         },
         "mode": "markers",
         "name": "gt_6",
         "type": "scatter",
         "y": [
          0.19315217435359955,
          0.18937847018241882,
          0.1870228350162506,
          0.186688631772995,
          0.18390290439128876,
          0.18076640367507935,
          0.18312683701515198,
          0.1892879605293274,
          0.18970434367656708,
          0.18791146576404572,
          0.18796396255493164,
          0.18797942996025085,
          0.18881669640541077,
          0.18824777007102966,
          0.18642881512641907,
          0.18595382571220398,
          0.18768776953220367,
          0.18905800580978394,
          0.190342977643013,
          0.19239622354507446,
          0.19419947266578674,
          0.1960688829421997,
          0.19748558104038239,
          0.19860544800758362,
          0.2004847377538681,
          0.20203395187854767,
          0.20408117771148682,
          0.20675978064537048,
          0.20930711925029755,
          0.21480004489421844,
          0.2205541431903839,
          0.22117842733860016,
          0.21912424266338348,
          0.21763703227043152,
          0.21849282085895538,
          0.22125126421451569,
          0.22252318263053894,
          0.22247514128684998,
          0.2236892282962799,
          0.22548170387744904,
          0.22649843990802765,
          0.22641202807426453,
          0.2246427834033966,
          0.22294995188713074,
          0.22365368902683258,
          0.22608332335948944,
          0.22904528677463531,
          0.23099900782108307,
          0.22980041801929474,
          0.2283555269241333,
          0.22997736930847168,
          0.2312949150800705,
          0.2291455864906311,
          0.22464551031589508,
          0.2209557443857193,
          0.2203943133354187,
          0.22072063386440277,
          0.21989890933036804,
          0.2200125902891159,
          0.22051280736923218,
          0.21932338178157806,
          0.2174227088689804,
          0.21552231907844543,
          0.2139136791229248,
          0.21291682124137878,
          0.2122078388929367,
          0.21136780083179474,
          0.2099800407886505,
          0.20830002427101135,
          0.20687367022037506,
          0.20585955679416656,
          0.20540882647037506,
          0.2051522582769394,
          0.20461952686309814,
          0.20444625616073608,
          0.2052781879901886,
          0.20633161067962646,
          0.20628482103347778,
          0.20518779754638672,
          0.20462685823440552,
          0.20508496463298798,
          0.20513440668582916,
          0.203793466091156,
          0.20170997083187103,
          0.20084847509860992,
          0.20279830694198608,
          0.20702239871025085,
          0.2115204781293869,
          0.21403194963932037,
          0.2148664891719818,
          0.21803595125675201,
          0.22383078932762146,
          0.2260332554578781,
          0.22287091612815857,
          0.21972520649433136,
          0.21874438226222992,
          0.21763743460178375,
          0.2152356207370758,
          0.21292978525161743,
          0.21386143565177917,
          0.21722452342510223,
          0.21741922199726105,
          0.21357205510139465,
          0.21028254926204681,
          0.20959381759166718,
          0.21042190492153168,
          0.21256178617477417,
          0.2152782827615738,
          0.21535450220108032,
          0.21323272585868835,
          0.21329638361930847,
          0.21461272239685059,
          0.21355322003364563,
          0.2113281935453415,
          0.2098429948091507,
          0.20874164998531342,
          0.20798468589782715,
          0.20730575919151306,
          0.20617391169071198,
          0.20502112805843353,
          0.20379212498664856,
          0.2016785591840744,
          0.1990564912557602,
          0.197312593460083,
          0.19668683409690857,
          0.19622713327407837,
          0.19583581387996674,
          0.1960877776145935,
          0.19655050337314606,
          0.19668446481227875,
          0.1970478743314743,
          0.19794172048568726,
          0.1990785449743271,
          0.20067419111728668,
          0.20268648862838745,
          0.20411047339439392,
          0.20482511818408966,
          0.2064233124256134,
          0.2095639407634735,
          0.21254652738571167,
          0.2142433375120163,
          0.21585309505462646,
          0.21845020353794098,
          0.22131656110286713,
          0.22334520518779755,
          0.2243226319551468,
          0.22514450550079346,
          0.22697149217128754,
          0.22961153090000153,
          0.231913760304451,
          0.2337920367717743,
          0.23643463850021362,
          0.24069134891033173,
          0.24561233818531036,
          0.24881671369075775,
          0.24948231875896454,
          0.24937666952610016,
          0.24978022277355194,
          0.2497308999300003,
          0.24831855297088623,
          0.24636852741241455,
          0.24558734893798828,
          0.2468230426311493,
          0.24875053763389587,
          0.249233216047287,
          0.24832864105701447,
          0.2474663406610489,
          0.2465275526046753,
          0.24473975598812103,
          0.24313130974769592,
          0.24286958575248718,
          0.2430030107498169,
          0.24213968217372894,
          0.2405713051557541,
          0.23903220891952515,
          0.23747600615024567,
          0.2360052764415741,
          0.23605012893676758,
          0.2401520162820816,
          0.24955995380878448,
          0.2615797519683838,
          0.2708784341812134,
          0.2741592526435852,
          0.272238165140152,
          0.2674756348133087,
          0.26151809096336365,
          0.2555035948753357,
          0.25044339895248413,
          0.2468029111623764,
          0.24437861144542694,
          0.242607980966568,
          0.2410140186548233,
          0.2395576536655426,
          0.23896431922912598,
          0.23999758064746857,
          0.24216876924037933,
          0.24387621879577637,
          0.24428308010101318,
          0.2439528852701187,
          0.24352093040943146,
          0.24310408532619476,
          0.24282211065292358,
          0.2425868809223175,
          0.24207234382629395,
          0.24141420423984528,
          0.24137450754642487,
          0.24223297834396362,
          0.2432624101638794,
          0.24348078668117523,
          0.24265140295028687,
          0.241348534822464,
          0.2402583360671997,
          0.23975875973701477,
          0.23973801732063293,
          0.24004358053207397,
          0.2406499832868576,
          0.2411843240261078,
          0.24108906090259552,
          0.24024242162704468,
          0.23900924623012543,
          0.23777954280376434,
          0.2366887331008911,
          0.23583361506462097,
          0.23522590100765228,
          0.234648659825325,
          0.2338676154613495,
          0.2329193502664566,
          0.2319345772266388,
          0.23096178472042084,
          0.23005445301532745,
          0.22925613820552826,
          0.228702113032341,
          0.2284841537475586,
          0.22833934426307678,
          0.22778429090976715,
          0.22678938508033752,
          0.2259136438369751,
          0.22547028958797455,
          0.22501349449157715,
          0.2240845412015915,
          0.22301974892616272,
          0.2224334180355072,
          0.2223413735628128,
          0.22225220501422882,
          0.22181245684623718,
          0.22101108729839325,
          0.22002120316028595,
          0.2190951406955719,
          0.2183995097875595,
          0.21779954433441162,
          0.2171194702386856,
          0.21648046374320984,
          0.2160537838935852,
          0.21567867696285248,
          0.21518422663211823,
          0.21485058963298798,
          0.21506944298744202,
          0.21567794680595398,
          0.21594800055027008,
          0.21540744602680206,
          0.21440866589546204,
          0.21365489065647125,
          0.21333757042884827,
          0.2130988985300064,
          0.21267558634281158,
          0.21221549808979034,
          0.21190768480300903,
          0.2115774303674698,
          0.21091890335083008,
          0.21003328263759613,
          0.20949314534664154,
          0.2096526175737381,
          0.2101382613182068,
          0.21024595201015472,
          0.2097938060760498,
          0.20930704474449158,
          0.20937445759773254,
          0.2099861204624176,
          0.21058735251426697,
          0.21064965426921844,
          0.2101340889930725,
          0.209397554397583,
          0.2087353765964508
         ]
        },
        {
         "marker": {
          "size": 3
         },
         "mode": "markers",
         "name": "pred_6",
         "type": "scatter",
         "y": [
          0.2254575788974762,
          0.20301707088947296,
          0.21648752689361572,
          0.2035069465637207,
          0.21512219309806824,
          0.21212594211101532,
          0.20492634177207947,
          0.20783470571041107,
          0.21721860766410828,
          0.2151525467634201,
          0.21283195912837982,
          0.20377080142498016,
          0.23046544194221497,
          0.22119858860969543,
          0.21191100776195526,
          0.21257606148719788,
          0.21406537294387817,
          0.2060374766588211,
          0.20627254247665405,
          0.20682393014431,
          0.2184198796749115,
          0.20702694356441498,
          0.21026700735092163,
          0.20038925111293793,
          0.21359726786613464,
          0.21526211500167847,
          0.21761882305145264,
          0.20263494551181793,
          0.22305050492286682,
          0.2294768989086151,
          0.22497600317001343,
          0.22064511477947235,
          0.21318411827087402,
          0.21515077352523804,
          0.23411604762077332,
          0.23959468305110931,
          0.22835466265678406,
          0.24507248401641846,
          0.23227143287658691,
          0.21551068127155304,
          0.2161996066570282,
          0.22808922827243805,
          0.23577335476875305,
          0.212112694978714,
          0.23528099060058594,
          0.19948039948940277,
          0.22146159410476685,
          0.22513458132743835,
          0.23864053189754486,
          0.22496464848518372,
          0.22449550032615662,
          0.2337137907743454,
          0.21899554133415222,
          0.1995498090982437,
          0.22132164239883423,
          0.21100889146327972,
          0.21524733304977417,
          0.19338427484035492,
          0.2168778032064438,
          0.21473605930805206,
          0.20783355832099915,
          0.22171536087989807,
          0.22060316801071167,
          0.20145371556282043,
          0.22153836488723755,
          0.23119324445724487,
          0.2332116961479187,
          0.23738835752010345,
          0.22309371829032898,
          0.1968270093202591,
          0.2235376387834549,
          0.200505793094635,
          0.20817209780216217,
          0.21911749243736267,
          0.2113083004951477,
          0.1971174031496048,
          0.22304148972034454,
          0.22481423616409302,
          0.2050652801990509,
          0.20736949145793915,
          0.22625738382339478,
          0.20233692228794098,
          0.22502407431602478,
          0.20062775909900665,
          0.23067720234394073,
          0.2195604294538498,
          0.2230183631181717,
          0.22636975347995758,
          0.2271290123462677,
          0.21929112076759338,
          0.2417600005865097,
          0.2332017719745636,
          0.21274664998054504,
          0.21399332582950592,
          0.22537465393543243,
          0.23616842925548553,
          0.22227533161640167,
          0.24754698574543,
          0.2093154340982437,
          0.20915314555168152,
          0.2165347933769226,
          0.21983422338962555,
          0.22034628689289093,
          0.18717196583747864,
          0.23133838176727295,
          0.24018530547618866,
          0.21174582839012146,
          0.229975163936615,
          0.19974738359451294,
          0.23080933094024658,
          0.2230600267648697,
          0.2028065025806427,
          0.2074616700410843,
          0.21888619661331177,
          0.23401567339897156,
          0.23123674094676971,
          0.22563782334327698,
          0.20858798921108246,
          0.21230441331863403,
          0.20898987352848053,
          0.20407915115356445,
          0.20779627561569214,
          0.20879912376403809,
          0.21987539529800415,
          0.22447369992733002,
          0.20101690292358398,
          0.2218666523694992,
          0.2234981209039688,
          0.19767458736896515,
          0.1995282620191574,
          0.2240564525127411,
          0.23526251316070557,
          0.22075918316841125,
          0.23889310657978058,
          0.22023427486419678,
          0.2359483540058136,
          0.21259725093841553,
          0.2140258401632309,
          0.21777887642383575,
          0.233170285820961,
          0.22003234922885895,
          0.24152691662311554,
          0.23969438672065735,
          0.2197432518005371,
          0.22532406449317932,
          0.21073296666145325,
          0.22945836186408997,
          0.22309298813343048,
          0.19693928956985474,
          0.2302006185054779,
          0.20651692152023315,
          0.22777105867862701,
          0.22419507801532745,
          0.20344941318035126,
          0.22332967817783356,
          0.2528071999549866,
          0.2398834228515625,
          0.22377191483974457,
          0.24049842357635498,
          0.24617239832878113,
          0.252753347158432,
          0.24585862457752228,
          0.24288110435009003,
          0.23027560114860535,
          0.22817230224609375,
          0.24621936678886414,
          0.2491075098514557,
          0.22312502562999725,
          0.2335425317287445,
          0.24533188343048096,
          0.21218657493591309,
          0.2290143221616745,
          0.22716401517391205,
          0.22708147764205933,
          0.22173942625522614,
          0.25801345705986023,
          0.2310517430305481,
          0.1900387853384018,
          0.2074611932039261,
          0.2247849404811859,
          0.23549313843250275,
          0.2664200961589813,
          0.2422391027212143,
          0.21884886920452118,
          0.23591157793998718,
          0.2573769688606262,
          0.23057593405246735,
          0.22499606013298035,
          0.22370053827762604,
          0.23941224813461304,
          0.2238335758447647,
          0.20271845161914825,
          0.23214909434318542,
          0.22949692606925964,
          0.22475050389766693,
          0.23622384667396545,
          0.24920189380645752,
          0.2257307767868042,
          0.2433210015296936,
          0.24455757439136505,
          0.21890541911125183,
          0.23019929230213165,
          0.22885948419570923,
          0.22247374057769775,
          0.24044063687324524,
          0.2435905933380127,
          0.2227940410375595,
          0.2258741557598114,
          0.24156111478805542,
          0.22299878299236298,
          0.22271719574928284,
          0.2239532619714737,
          0.22497057914733887,
          0.22887323796749115,
          0.22674421966075897,
          0.2355993241071701,
          0.24959711730480194,
          0.23058046400547028,
          0.23425303399562836,
          0.22243237495422363,
          0.23385348916053772,
          0.23584218323230743,
          0.25237634778022766,
          0.22452010214328766,
          0.22284352779388428,
          0.22373691201210022,
          0.2234269082546234,
          0.2427876889705658,
          0.2205410599708557,
          0.21938638389110565,
          0.22925783693790436,
          0.2356843501329422,
          0.22149401903152466,
          0.22558991611003876,
          0.2080322802066803,
          0.23264507949352264,
          0.24135418236255646,
          0.23134681582450867,
          0.24311880767345428,
          0.23322951793670654,
          0.21717290580272675,
          0.21501556038856506,
          0.216615229845047,
          0.22388242185115814,
          0.20452281832695007,
          0.24197202920913696,
          0.23446989059448242,
          0.21384197473526,
          0.2245740443468094,
          0.22513580322265625,
          0.20286160707473755,
          0.21643692255020142,
          0.21569620072841644,
          0.23353031277656555,
          0.2113989144563675,
          0.2347000539302826,
          0.20016388595104218,
          0.20295964181423187,
          0.22352570295333862,
          0.21494324505329132,
          0.21397121250629425,
          0.23222482204437256,
          0.22802069783210754,
          0.21452906727790833,
          0.2261471152305603,
          0.21555954217910767,
          0.1965693235397339,
          0.2091725915670395,
          0.21214339137077332,
          0.21335038542747498,
          0.2238875776529312,
          0.2089499533176422,
          0.2221774011850357,
          0.22037586569786072,
          0.2125285118818283,
          0.2012668251991272,
          0.21653464436531067,
          0.18770228326320648,
          0.2157982438802719,
          0.22493025660514832,
          0.21824023127555847,
          0.22290802001953125,
          0.22188320755958557
         ]
        }
       ],
       "layout": {
        "template": {
         "data": {
          "bar": [
           {
            "error_x": {
             "color": "#2a3f5f"
            },
            "error_y": {
             "color": "#2a3f5f"
            },
            "marker": {
             "line": {
              "color": "#E5ECF6",
              "width": 0.5
             },
             "pattern": {
              "fillmode": "overlay",
              "size": 10,
              "solidity": 0.2
             }
            },
            "type": "bar"
           }
          ],
          "barpolar": [
           {
            "marker": {
             "line": {
              "color": "#E5ECF6",
              "width": 0.5
             },
             "pattern": {
              "fillmode": "overlay",
              "size": 10,
              "solidity": 0.2
             }
            },
            "type": "barpolar"
           }
          ],
          "carpet": [
           {
            "aaxis": {
             "endlinecolor": "#2a3f5f",
             "gridcolor": "white",
             "linecolor": "white",
             "minorgridcolor": "white",
             "startlinecolor": "#2a3f5f"
            },
            "baxis": {
             "endlinecolor": "#2a3f5f",
             "gridcolor": "white",
             "linecolor": "white",
             "minorgridcolor": "white",
             "startlinecolor": "#2a3f5f"
            },
            "type": "carpet"
           }
          ],
          "choropleth": [
           {
            "colorbar": {
             "outlinewidth": 0,
             "ticks": ""
            },
            "type": "choropleth"
           }
          ],
          "contour": [
           {
            "colorbar": {
             "outlinewidth": 0,
             "ticks": ""
            },
            "colorscale": [
             [
              0,
              "#0d0887"
             ],
             [
              0.1111111111111111,
              "#46039f"
             ],
             [
              0.2222222222222222,
              "#7201a8"
             ],
             [
              0.3333333333333333,
              "#9c179e"
             ],
             [
              0.4444444444444444,
              "#bd3786"
             ],
             [
              0.5555555555555556,
              "#d8576b"
             ],
             [
              0.6666666666666666,
              "#ed7953"
             ],
             [
              0.7777777777777778,
              "#fb9f3a"
             ],
             [
              0.8888888888888888,
              "#fdca26"
             ],
             [
              1,
              "#f0f921"
             ]
            ],
            "type": "contour"
           }
          ],
          "contourcarpet": [
           {
            "colorbar": {
             "outlinewidth": 0,
             "ticks": ""
            },
            "type": "contourcarpet"
           }
          ],
          "heatmap": [
           {
            "colorbar": {
             "outlinewidth": 0,
             "ticks": ""
            },
            "colorscale": [
             [
              0,
              "#0d0887"
             ],
             [
              0.1111111111111111,
              "#46039f"
             ],
             [
              0.2222222222222222,
              "#7201a8"
             ],
             [
              0.3333333333333333,
              "#9c179e"
             ],
             [
              0.4444444444444444,
              "#bd3786"
             ],
             [
              0.5555555555555556,
              "#d8576b"
             ],
             [
              0.6666666666666666,
              "#ed7953"
             ],
             [
              0.7777777777777778,
              "#fb9f3a"
             ],
             [
              0.8888888888888888,
              "#fdca26"
             ],
             [
              1,
              "#f0f921"
             ]
            ],
            "type": "heatmap"
           }
          ],
          "heatmapgl": [
           {
            "colorbar": {
             "outlinewidth": 0,
             "ticks": ""
            },
            "colorscale": [
             [
              0,
              "#0d0887"
             ],
             [
              0.1111111111111111,
              "#46039f"
             ],
             [
              0.2222222222222222,
              "#7201a8"
             ],
             [
              0.3333333333333333,
              "#9c179e"
             ],
             [
              0.4444444444444444,
              "#bd3786"
             ],
             [
              0.5555555555555556,
              "#d8576b"
             ],
             [
              0.6666666666666666,
              "#ed7953"
             ],
             [
              0.7777777777777778,
              "#fb9f3a"
             ],
             [
              0.8888888888888888,
              "#fdca26"
             ],
             [
              1,
              "#f0f921"
             ]
            ],
            "type": "heatmapgl"
           }
          ],
          "histogram": [
           {
            "marker": {
             "pattern": {
              "fillmode": "overlay",
              "size": 10,
              "solidity": 0.2
             }
            },
            "type": "histogram"
           }
          ],
          "histogram2d": [
           {
            "colorbar": {
             "outlinewidth": 0,
             "ticks": ""
            },
            "colorscale": [
             [
              0,
              "#0d0887"
             ],
             [
              0.1111111111111111,
              "#46039f"
             ],
             [
              0.2222222222222222,
              "#7201a8"
             ],
             [
              0.3333333333333333,
              "#9c179e"
             ],
             [
              0.4444444444444444,
              "#bd3786"
             ],
             [
              0.5555555555555556,
              "#d8576b"
             ],
             [
              0.6666666666666666,
              "#ed7953"
             ],
             [
              0.7777777777777778,
              "#fb9f3a"
             ],
             [
              0.8888888888888888,
              "#fdca26"
             ],
             [
              1,
              "#f0f921"
             ]
            ],
            "type": "histogram2d"
           }
          ],
          "histogram2dcontour": [
           {
            "colorbar": {
             "outlinewidth": 0,
             "ticks": ""
            },
            "colorscale": [
             [
              0,
              "#0d0887"
             ],
             [
              0.1111111111111111,
              "#46039f"
             ],
             [
              0.2222222222222222,
              "#7201a8"
             ],
             [
              0.3333333333333333,
              "#9c179e"
             ],
             [
              0.4444444444444444,
              "#bd3786"
             ],
             [
              0.5555555555555556,
              "#d8576b"
             ],
             [
              0.6666666666666666,
              "#ed7953"
             ],
             [
              0.7777777777777778,
              "#fb9f3a"
             ],
             [
              0.8888888888888888,
              "#fdca26"
             ],
             [
              1,
              "#f0f921"
             ]
            ],
            "type": "histogram2dcontour"
           }
          ],
          "mesh3d": [
           {
            "colorbar": {
             "outlinewidth": 0,
             "ticks": ""
            },
            "type": "mesh3d"
           }
          ],
          "parcoords": [
           {
            "line": {
             "colorbar": {
              "outlinewidth": 0,
              "ticks": ""
             }
            },
            "type": "parcoords"
           }
          ],
          "pie": [
           {
            "automargin": true,
            "type": "pie"
           }
          ],
          "scatter": [
           {
            "fillpattern": {
             "fillmode": "overlay",
             "size": 10,
             "solidity": 0.2
            },
            "type": "scatter"
           }
          ],
          "scatter3d": [
           {
            "line": {
             "colorbar": {
              "outlinewidth": 0,
              "ticks": ""
             }
            },
            "marker": {
             "colorbar": {
              "outlinewidth": 0,
              "ticks": ""
             }
            },
            "type": "scatter3d"
           }
          ],
          "scattercarpet": [
           {
            "marker": {
             "colorbar": {
              "outlinewidth": 0,
              "ticks": ""
             }
            },
            "type": "scattercarpet"
           }
          ],
          "scattergeo": [
           {
            "marker": {
             "colorbar": {
              "outlinewidth": 0,
              "ticks": ""
             }
            },
            "type": "scattergeo"
           }
          ],
          "scattergl": [
           {
            "marker": {
             "colorbar": {
              "outlinewidth": 0,
              "ticks": ""
             }
            },
            "type": "scattergl"
           }
          ],
          "scattermapbox": [
           {
            "marker": {
             "colorbar": {
              "outlinewidth": 0,
              "ticks": ""
             }
            },
            "type": "scattermapbox"
           }
          ],
          "scatterpolar": [
           {
            "marker": {
             "colorbar": {
              "outlinewidth": 0,
              "ticks": ""
             }
            },
            "type": "scatterpolar"
           }
          ],
          "scatterpolargl": [
           {
            "marker": {
             "colorbar": {
              "outlinewidth": 0,
              "ticks": ""
             }
            },
            "type": "scatterpolargl"
           }
          ],
          "scatterternary": [
           {
            "marker": {
             "colorbar": {
              "outlinewidth": 0,
              "ticks": ""
             }
            },
            "type": "scatterternary"
           }
          ],
          "surface": [
           {
            "colorbar": {
             "outlinewidth": 0,
             "ticks": ""
            },
            "colorscale": [
             [
              0,
              "#0d0887"
             ],
             [
              0.1111111111111111,
              "#46039f"
             ],
             [
              0.2222222222222222,
              "#7201a8"
             ],
             [
              0.3333333333333333,
              "#9c179e"
             ],
             [
              0.4444444444444444,
              "#bd3786"
             ],
             [
              0.5555555555555556,
              "#d8576b"
             ],
             [
              0.6666666666666666,
              "#ed7953"
             ],
             [
              0.7777777777777778,
              "#fb9f3a"
             ],
             [
              0.8888888888888888,
              "#fdca26"
             ],
             [
              1,
              "#f0f921"
             ]
            ],
            "type": "surface"
           }
          ],
          "table": [
           {
            "cells": {
             "fill": {
              "color": "#EBF0F8"
             },
             "line": {
              "color": "white"
             }
            },
            "header": {
             "fill": {
              "color": "#C8D4E3"
             },
             "line": {
              "color": "white"
             }
            },
            "type": "table"
           }
          ]
         },
         "layout": {
          "annotationdefaults": {
           "arrowcolor": "#2a3f5f",
           "arrowhead": 0,
           "arrowwidth": 1
          },
          "autotypenumbers": "strict",
          "coloraxis": {
           "colorbar": {
            "outlinewidth": 0,
            "ticks": ""
           }
          },
          "colorscale": {
           "diverging": [
            [
             0,
             "#8e0152"
            ],
            [
             0.1,
             "#c51b7d"
            ],
            [
             0.2,
             "#de77ae"
            ],
            [
             0.3,
             "#f1b6da"
            ],
            [
             0.4,
             "#fde0ef"
            ],
            [
             0.5,
             "#f7f7f7"
            ],
            [
             0.6,
             "#e6f5d0"
            ],
            [
             0.7,
             "#b8e186"
            ],
            [
             0.8,
             "#7fbc41"
            ],
            [
             0.9,
             "#4d9221"
            ],
            [
             1,
             "#276419"
            ]
           ],
           "sequential": [
            [
             0,
             "#0d0887"
            ],
            [
             0.1111111111111111,
             "#46039f"
            ],
            [
             0.2222222222222222,
             "#7201a8"
            ],
            [
             0.3333333333333333,
             "#9c179e"
            ],
            [
             0.4444444444444444,
             "#bd3786"
            ],
            [
             0.5555555555555556,
             "#d8576b"
            ],
            [
             0.6666666666666666,
             "#ed7953"
            ],
            [
             0.7777777777777778,
             "#fb9f3a"
            ],
            [
             0.8888888888888888,
             "#fdca26"
            ],
            [
             1,
             "#f0f921"
            ]
           ],
           "sequentialminus": [
            [
             0,
             "#0d0887"
            ],
            [
             0.1111111111111111,
             "#46039f"
            ],
            [
             0.2222222222222222,
             "#7201a8"
            ],
            [
             0.3333333333333333,
             "#9c179e"
            ],
            [
             0.4444444444444444,
             "#bd3786"
            ],
            [
             0.5555555555555556,
             "#d8576b"
            ],
            [
             0.6666666666666666,
             "#ed7953"
            ],
            [
             0.7777777777777778,
             "#fb9f3a"
            ],
            [
             0.8888888888888888,
             "#fdca26"
            ],
            [
             1,
             "#f0f921"
            ]
           ]
          },
          "colorway": [
           "#636efa",
           "#EF553B",
           "#00cc96",
           "#ab63fa",
           "#FFA15A",
           "#19d3f3",
           "#FF6692",
           "#B6E880",
           "#FF97FF",
           "#FECB52"
          ],
          "font": {
           "color": "#2a3f5f"
          },
          "geo": {
           "bgcolor": "white",
           "lakecolor": "white",
           "landcolor": "#E5ECF6",
           "showlakes": true,
           "showland": true,
           "subunitcolor": "white"
          },
          "hoverlabel": {
           "align": "left"
          },
          "hovermode": "closest",
          "mapbox": {
           "style": "light"
          },
          "paper_bgcolor": "white",
          "plot_bgcolor": "#E5ECF6",
          "polar": {
           "angularaxis": {
            "gridcolor": "white",
            "linecolor": "white",
            "ticks": ""
           },
           "bgcolor": "#E5ECF6",
           "radialaxis": {
            "gridcolor": "white",
            "linecolor": "white",
            "ticks": ""
           }
          },
          "scene": {
           "xaxis": {
            "backgroundcolor": "#E5ECF6",
            "gridcolor": "white",
            "gridwidth": 2,
            "linecolor": "white",
            "showbackground": true,
            "ticks": "",
            "zerolinecolor": "white"
           },
           "yaxis": {
            "backgroundcolor": "#E5ECF6",
            "gridcolor": "white",
            "gridwidth": 2,
            "linecolor": "white",
            "showbackground": true,
            "ticks": "",
            "zerolinecolor": "white"
           },
           "zaxis": {
            "backgroundcolor": "#E5ECF6",
            "gridcolor": "white",
            "gridwidth": 2,
            "linecolor": "white",
            "showbackground": true,
            "ticks": "",
            "zerolinecolor": "white"
           }
          },
          "shapedefaults": {
           "line": {
            "color": "#2a3f5f"
           }
          },
          "ternary": {
           "aaxis": {
            "gridcolor": "white",
            "linecolor": "white",
            "ticks": ""
           },
           "baxis": {
            "gridcolor": "white",
            "linecolor": "white",
            "ticks": ""
           },
           "bgcolor": "#E5ECF6",
           "caxis": {
            "gridcolor": "white",
            "linecolor": "white",
            "ticks": ""
           }
          },
          "title": {
           "x": 0.05
          },
          "xaxis": {
           "automargin": true,
           "gridcolor": "white",
           "linecolor": "white",
           "ticks": "",
           "title": {
            "standoff": 15
           },
           "zerolinecolor": "white",
           "zerolinewidth": 2
          },
          "yaxis": {
           "automargin": true,
           "gridcolor": "white",
           "linecolor": "white",
           "ticks": "",
           "title": {
            "standoff": 15
           },
           "zerolinecolor": "white",
           "zerolinewidth": 2
          }
         }
        }
       }
      }
     },
     "metadata": {},
     "output_type": "display_data"
    },
    {
     "data": {
      "application/vnd.plotly.v1+json": {
       "config": {
        "plotlyServerURL": "https://plot.ly"
       },
       "data": [
        {
         "marker": {
          "size": 3
         },
         "mode": "markers",
         "name": "gt_7",
         "type": "scatter",
         "y": [
          0.4949282109737396,
          0.5158827304840088,
          0.5101879239082336,
          0.5054380893707275,
          0.5106852650642395,
          0.5064989924430847,
          0.5021470189094543,
          0.5040547251701355,
          0.4999532699584961,
          0.49634870886802673,
          0.4950321316719055,
          0.4934068024158478,
          0.49319353699684143,
          0.4909755289554596,
          0.4882522225379944,
          0.4867861568927765,
          0.48609793186187744,
          0.48536357283592224,
          0.48423683643341064,
          0.48379597067832947,
          0.48315685987472534,
          0.4843200743198395,
          0.4846595823764801,
          0.48446962237358093,
          0.4852433502674103,
          0.48420780897140503,
          0.4825376272201538,
          0.4821389317512512,
          0.4824376702308655,
          0.48431748151779175,
          0.48729217052459717,
          0.48808494210243225,
          0.487608939409256,
          0.48750415444374084,
          0.4876665771007538,
          0.4882676899433136,
          0.4884205758571625,
          0.4878574013710022,
          0.48883962631225586,
          0.4908052980899811,
          0.4907478094100952,
          0.490694135427475,
          0.4931008219718933,
          0.49497294425964355,
          0.4945625960826874,
          0.49451524019241333,
          0.49586158990859985,
          0.49619507789611816,
          0.49498438835144043,
          0.49502328038215637,
          0.4966946542263031,
          0.4992251694202423,
          0.4997667968273163,
          0.49748489260673523,
          0.49642497301101685,
          0.496207594871521,
          0.4951108396053314,
          0.4956943392753601,
          0.497981458902359,
          0.4979717433452606,
          0.498104989528656,
          0.5009161233901978,
          0.5029520988464355,
          0.5030299425125122,
          0.5039045214653015,
          0.5080845355987549,
          0.5137370824813843,
          0.5184229016304016,
          0.5208088159561157,
          0.519626259803772,
          0.5157282948493958,
          0.512773871421814,
          0.5144336819648743,
          0.5182821750640869,
          0.5189093947410583,
          0.5182806849479675,
          0.5201875567436218,
          0.5212593078613281,
          0.520023763179779,
          0.5195351839065552,
          0.5195376873016357,
          0.519423246383667,
          0.5182985067367554,
          0.515519917011261,
          0.5149053335189819,
          0.5186877846717834,
          0.52345210313797,
          0.5265076160430908,
          0.528401255607605,
          0.52985680103302,
          0.5317496657371521,
          0.535390317440033,
          0.5378943085670471,
          0.5346841216087341,
          0.5290089249610901,
          0.5274169445037842,
          0.5298371315002441,
          0.5307732224464417,
          0.5276727676391602,
          0.5263100266456604,
          0.5312818884849548,
          0.5371760129928589,
          0.5373950600624084,
          0.5317974090576172,
          0.525144100189209,
          0.5234827995300293,
          0.5295717716217041,
          0.5381314754486084,
          0.5385521054267883,
          0.5307435989379883,
          0.525745153427124,
          0.5257585644721985,
          0.5249962210655212,
          0.5230780839920044,
          0.5213583707809448,
          0.5199541449546814,
          0.5202017426490784,
          0.5219433903694153,
          0.5235946774482727,
          0.5250436067581177,
          0.5266731381416321,
          0.527104914188385,
          0.5250939130783081,
          0.5234025716781616,
          0.5247738361358643,
          0.5258211493492126,
          0.5240405201911926,
          0.5228603482246399,
          0.5230237245559692,
          0.5220167636871338,
          0.5202151536941528,
          0.5175192356109619,
          0.5134729743003845,
          0.5121257901191711,
          0.5165179371833801,
          0.522715151309967,
          0.5249379277229309,
          0.5225487947463989,
          0.5197634100914001,
          0.5187827944755554,
          0.5174388885498047,
          0.5157167315483093,
          0.5156846642494202,
          0.5147282481193542,
          0.5106439590454102,
          0.5078800320625305,
          0.5088828802108765,
          0.5093732476234436,
          0.5075416564941406,
          0.5065842270851135,
          0.507328987121582,
          0.5083774924278259,
          0.5102866291999817,
          0.5130810737609863,
          0.514928936958313,
          0.5155636072158813,
          0.5164304375648499,
          0.5179464221000671,
          0.5191351771354675,
          0.5190045833587646,
          0.5172083973884583,
          0.5152008533477783,
          0.5153446197509766,
          0.5168575048446655,
          0.51631760597229,
          0.5135338306427002,
          0.5116716623306274,
          0.5118101835250854,
          0.5120076537132263,
          0.5109561681747437,
          0.5092114210128784,
          0.5077807903289795,
          0.5073735117912292,
          0.5077897906303406,
          0.5077362060546875,
          0.5064058303833008,
          0.505084216594696,
          0.5061174035072327,
          0.5105562210083008,
          0.5173115730285645,
          0.5241190195083618,
          0.5287095904350281,
          0.5297460556030273,
          0.5275964140892029,
          0.5238727331161499,
          0.5198875665664673,
          0.515742301940918,
          0.511496365070343,
          0.5084198713302612,
          0.5073549151420593,
          0.5072925090789795,
          0.5069004893302917,
          0.5067232847213745,
          0.5084101557731628,
          0.5118086338043213,
          0.5144442915916443,
          0.5142611265182495,
          0.5118827819824219,
          0.5092913508415222,
          0.5073951482772827,
          0.506345272064209,
          0.506758987903595,
          0.5085887908935547,
          0.5101076364517212,
          0.5100966095924377,
          0.5094165802001953,
          0.509354293346405,
          0.5097758769989014,
          0.5095472931861877,
          0.5081439018249512,
          0.5061744451522827,
          0.5046314597129822,
          0.504009485244751,
          0.503821611404419,
          0.5034886002540588,
          0.503097653388977,
          0.5029410719871521,
          0.5027965307235718,
          0.5022048950195312,
          0.5010977983474731,
          0.4998748004436493,
          0.4989571273326874,
          0.49834299087524414,
          0.4976491332054138,
          0.49675452709198,
          0.4959681034088135,
          0.49552595615386963,
          0.49512118101119995,
          0.4943910241127014,
          0.49341386556625366,
          0.49252742528915405,
          0.49208351969718933,
          0.4922202527523041,
          0.49249833822250366,
          0.4921759366989136,
          0.49117669463157654,
          0.4902404546737671,
          0.48978206515312195,
          0.489344984292984,
          0.4885939657688141,
          0.488055020570755,
          0.4881709814071655,
          0.4884812831878662,
          0.488387793302536,
          0.48793381452560425,
          0.48736828565597534,
          0.4866197109222412,
          0.4857619106769562,
          0.4852631688117981,
          0.48534446954727173,
          0.4857495427131653,
          0.4862128496170044,
          0.4865562319755554,
          0.48642927408218384,
          0.48570746183395386,
          0.4849611520767212,
          0.4847778081893921,
          0.48498934507369995,
          0.48507240414619446,
          0.48494404554367065,
          0.48478958010673523,
          0.4845728576183319,
          0.484305202960968,
          0.4842817485332489,
          0.48461028933525085,
          0.4849027693271637,
          0.4847771227359772,
          0.4843522012233734,
          0.4839703142642975,
          0.4836888611316681,
          0.4833926558494568,
          0.4830884635448456,
          0.48284968733787537,
          0.4826590120792389,
          0.4824920892715454,
          0.4823455810546875,
          0.4822201132774353,
          0.48228567838668823,
          0.4827907681465149,
          0.48360681533813477,
          0.4841105043888092,
          0.4838225543498993,
          0.48302727937698364
         ]
        },
        {
         "marker": {
          "size": 3
         },
         "mode": "markers",
         "name": "pred_7",
         "type": "scatter",
         "y": [
          0.48370087146759033,
          0.4850045144557953,
          0.49073851108551025,
          0.490249902009964,
          0.49240729212760925,
          0.4863109886646271,
          0.4847286343574524,
          0.48433631658554077,
          0.48698264360427856,
          0.48664456605911255,
          0.4829123914241791,
          0.48871520161628723,
          0.48638680577278137,
          0.48362448811531067,
          0.49389150738716125,
          0.4821731150150299,
          0.48308858275413513,
          0.4829557240009308,
          0.48940029740333557,
          0.4876945912837982,
          0.49230217933654785,
          0.4800257384777069,
          0.48756682872772217,
          0.48355016112327576,
          0.4870307147502899,
          0.4826912581920624,
          0.49232015013694763,
          0.4884306490421295,
          0.4924851953983307,
          0.489427387714386,
          0.4929174780845642,
          0.49115189909935,
          0.495157927274704,
          0.49513745307922363,
          0.5011269450187683,
          0.5005530714988708,
          0.5060468316078186,
          0.4952198565006256,
          0.495256245136261,
          0.4943883419036865,
          0.4976906180381775,
          0.49872973561286926,
          0.5020654201507568,
          0.4986816942691803,
          0.49489691853523254,
          0.49095720052719116,
          0.4836713373661041,
          0.4963463544845581,
          0.5055681467056274,
          0.5003577470779419,
          0.49750596284866333,
          0.5068256258964539,
          0.4993754029273987,
          0.49257731437683105,
          0.4845673441886902,
          0.4930817186832428,
          0.49869075417518616,
          0.48722389340400696,
          0.4905964136123657,
          0.49487292766571045,
          0.49567127227783203,
          0.4967441260814667,
          0.49499407410621643,
          0.49422726035118103,
          0.4918704330921173,
          0.4995676577091217,
          0.5000905394554138,
          0.49958664178848267,
          0.49223119020462036,
          0.4907176196575165,
          0.4912785291671753,
          0.48422402143478394,
          0.48610472679138184,
          0.4913806617259979,
          0.4921427369117737,
          0.4845489263534546,
          0.49583524465560913,
          0.4971112608909607,
          0.49046391248703003,
          0.4902556240558624,
          0.49999669194221497,
          0.49694234132766724,
          0.49215155839920044,
          0.48117300868034363,
          0.4964112341403961,
          0.48684483766555786,
          0.49389562010765076,
          0.4989158511161804,
          0.49400827288627625,
          0.49754413962364197,
          0.5095922350883484,
          0.5074283480644226,
          0.5017752647399902,
          0.49958914518356323,
          0.49577587842941284,
          0.5011131763458252,
          0.5038586258888245,
          0.5025721192359924,
          0.49875006079673767,
          0.49312683939933777,
          0.49752387404441833,
          0.498745322227478,
          0.4999355673789978,
          0.486870139837265,
          0.5002965927124023,
          0.4924865961074829,
          0.49373745918273926,
          0.49629029631614685,
          0.4952501654624939,
          0.4987248480319977,
          0.4949134886264801,
          0.49046289920806885,
          0.4933815598487854,
          0.4912538528442383,
          0.4989757239818573,
          0.5031450986862183,
          0.4888150691986084,
          0.4976253807544708,
          0.48604175448417664,
          0.4936273992061615,
          0.4963013827800751,
          0.48336631059646606,
          0.4957602620124817,
          0.4902988374233246,
          0.49759119749069214,
          0.4933759868144989,
          0.4920586347579956,
          0.49737241864204407,
          0.4884483814239502,
          0.486317902803421,
          0.49648603796958923,
          0.501168966293335,
          0.49170178174972534,
          0.49558866024017334,
          0.49122166633605957,
          0.5088504552841187,
          0.48523813486099243,
          0.4908381998538971,
          0.4974623918533325,
          0.49889877438545227,
          0.4932279586791992,
          0.5064404606819153,
          0.49776431918144226,
          0.49180594086647034,
          0.4997667968273163,
          0.4959202706813812,
          0.49631163477897644,
          0.49411970376968384,
          0.4901193380355835,
          0.4978891611099243,
          0.4998098909854889,
          0.49934151768684387,
          0.4998330771923065,
          0.4981674253940582,
          0.5016250014305115,
          0.523152232170105,
          0.5091999173164368,
          0.5108409523963928,
          0.5122830271720886,
          0.5150462985038757,
          0.5157765746116638,
          0.507046103477478,
          0.5055760145187378,
          0.5107254385948181,
          0.5132299661636353,
          0.515028715133667,
          0.5122303366661072,
          0.5049079060554504,
          0.5071824789047241,
          0.5141639113426208,
          0.5009111762046814,
          0.5021463632583618,
          0.5091558694839478,
          0.5092601776123047,
          0.5041338205337524,
          0.5035865902900696,
          0.5038325786590576,
          0.4985024034976959,
          0.4942876100540161,
          0.5107085704803467,
          0.5165895819664001,
          0.5228161215782166,
          0.5195066332817078,
          0.5164797902107239,
          0.5151425004005432,
          0.5207122564315796,
          0.5140499472618103,
          0.505851686000824,
          0.5060784220695496,
          0.5142747759819031,
          0.5060391426086426,
          0.49828729033470154,
          0.5008952021598816,
          0.49989044666290283,
          0.5060709118843079,
          0.5027968287467957,
          0.5101799964904785,
          0.5075605511665344,
          0.5111657977104187,
          0.5079836249351501,
          0.4965735077857971,
          0.5071244835853577,
          0.5055238604545593,
          0.5034059286117554,
          0.5075197815895081,
          0.5165046453475952,
          0.5007615685462952,
          0.5108199715614319,
          0.5033649802207947,
          0.5093587636947632,
          0.5085141062736511,
          0.503535807132721,
          0.503065288066864,
          0.5101398229598999,
          0.4995456635951996,
          0.5031557679176331,
          0.5138342380523682,
          0.5056009292602539,
          0.5026047229766846,
          0.4998199939727783,
          0.4941985309123993,
          0.50077885389328,
          0.5075076818466187,
          0.5065717101097107,
          0.5029160976409912,
          0.5005041360855103,
          0.4987412393093109,
          0.5076698660850525,
          0.49372509121894836,
          0.5008307099342346,
          0.4984879791736603,
          0.4977482855319977,
          0.5013214349746704,
          0.49631717801094055,
          0.49507343769073486,
          0.4970416724681854,
          0.49756312370300293,
          0.49347126483917236,
          0.4976353049278259,
          0.4994185268878937,
          0.49674615263938904,
          0.49269288778305054,
          0.49551481008529663,
          0.4941617250442505,
          0.4908142685890198,
          0.4966534674167633,
          0.4991365671157837,
          0.4931049346923828,
          0.49048787355422974,
          0.4926413297653198,
          0.486926794052124,
          0.4876970052719116,
          0.49412843585014343,
          0.49290937185287476,
          0.49058592319488525,
          0.4971330165863037,
          0.48166796565055847,
          0.4883827567100525,
          0.49889734387397766,
          0.4916645288467407,
          0.49332889914512634,
          0.49313902854919434,
          0.4912624657154083,
          0.49932196736335754,
          0.49295774102211,
          0.49210232496261597,
          0.49110016226768494,
          0.4911646842956543,
          0.4947313964366913,
          0.49068284034729004,
          0.4900558292865753,
          0.48474955558776855,
          0.4922718405723572,
          0.4935603141784668,
          0.4931477904319763,
          0.487947553396225,
          0.4857628345489502,
          0.4812972843647003,
          0.49027693271636963,
          0.48758989572525024,
          0.4920938313007355,
          0.4940343499183655,
          0.49394866824150085
         ]
        }
       ],
       "layout": {
        "template": {
         "data": {
          "bar": [
           {
            "error_x": {
             "color": "#2a3f5f"
            },
            "error_y": {
             "color": "#2a3f5f"
            },
            "marker": {
             "line": {
              "color": "#E5ECF6",
              "width": 0.5
             },
             "pattern": {
              "fillmode": "overlay",
              "size": 10,
              "solidity": 0.2
             }
            },
            "type": "bar"
           }
          ],
          "barpolar": [
           {
            "marker": {
             "line": {
              "color": "#E5ECF6",
              "width": 0.5
             },
             "pattern": {
              "fillmode": "overlay",
              "size": 10,
              "solidity": 0.2
             }
            },
            "type": "barpolar"
           }
          ],
          "carpet": [
           {
            "aaxis": {
             "endlinecolor": "#2a3f5f",
             "gridcolor": "white",
             "linecolor": "white",
             "minorgridcolor": "white",
             "startlinecolor": "#2a3f5f"
            },
            "baxis": {
             "endlinecolor": "#2a3f5f",
             "gridcolor": "white",
             "linecolor": "white",
             "minorgridcolor": "white",
             "startlinecolor": "#2a3f5f"
            },
            "type": "carpet"
           }
          ],
          "choropleth": [
           {
            "colorbar": {
             "outlinewidth": 0,
             "ticks": ""
            },
            "type": "choropleth"
           }
          ],
          "contour": [
           {
            "colorbar": {
             "outlinewidth": 0,
             "ticks": ""
            },
            "colorscale": [
             [
              0,
              "#0d0887"
             ],
             [
              0.1111111111111111,
              "#46039f"
             ],
             [
              0.2222222222222222,
              "#7201a8"
             ],
             [
              0.3333333333333333,
              "#9c179e"
             ],
             [
              0.4444444444444444,
              "#bd3786"
             ],
             [
              0.5555555555555556,
              "#d8576b"
             ],
             [
              0.6666666666666666,
              "#ed7953"
             ],
             [
              0.7777777777777778,
              "#fb9f3a"
             ],
             [
              0.8888888888888888,
              "#fdca26"
             ],
             [
              1,
              "#f0f921"
             ]
            ],
            "type": "contour"
           }
          ],
          "contourcarpet": [
           {
            "colorbar": {
             "outlinewidth": 0,
             "ticks": ""
            },
            "type": "contourcarpet"
           }
          ],
          "heatmap": [
           {
            "colorbar": {
             "outlinewidth": 0,
             "ticks": ""
            },
            "colorscale": [
             [
              0,
              "#0d0887"
             ],
             [
              0.1111111111111111,
              "#46039f"
             ],
             [
              0.2222222222222222,
              "#7201a8"
             ],
             [
              0.3333333333333333,
              "#9c179e"
             ],
             [
              0.4444444444444444,
              "#bd3786"
             ],
             [
              0.5555555555555556,
              "#d8576b"
             ],
             [
              0.6666666666666666,
              "#ed7953"
             ],
             [
              0.7777777777777778,
              "#fb9f3a"
             ],
             [
              0.8888888888888888,
              "#fdca26"
             ],
             [
              1,
              "#f0f921"
             ]
            ],
            "type": "heatmap"
           }
          ],
          "heatmapgl": [
           {
            "colorbar": {
             "outlinewidth": 0,
             "ticks": ""
            },
            "colorscale": [
             [
              0,
              "#0d0887"
             ],
             [
              0.1111111111111111,
              "#46039f"
             ],
             [
              0.2222222222222222,
              "#7201a8"
             ],
             [
              0.3333333333333333,
              "#9c179e"
             ],
             [
              0.4444444444444444,
              "#bd3786"
             ],
             [
              0.5555555555555556,
              "#d8576b"
             ],
             [
              0.6666666666666666,
              "#ed7953"
             ],
             [
              0.7777777777777778,
              "#fb9f3a"
             ],
             [
              0.8888888888888888,
              "#fdca26"
             ],
             [
              1,
              "#f0f921"
             ]
            ],
            "type": "heatmapgl"
           }
          ],
          "histogram": [
           {
            "marker": {
             "pattern": {
              "fillmode": "overlay",
              "size": 10,
              "solidity": 0.2
             }
            },
            "type": "histogram"
           }
          ],
          "histogram2d": [
           {
            "colorbar": {
             "outlinewidth": 0,
             "ticks": ""
            },
            "colorscale": [
             [
              0,
              "#0d0887"
             ],
             [
              0.1111111111111111,
              "#46039f"
             ],
             [
              0.2222222222222222,
              "#7201a8"
             ],
             [
              0.3333333333333333,
              "#9c179e"
             ],
             [
              0.4444444444444444,
              "#bd3786"
             ],
             [
              0.5555555555555556,
              "#d8576b"
             ],
             [
              0.6666666666666666,
              "#ed7953"
             ],
             [
              0.7777777777777778,
              "#fb9f3a"
             ],
             [
              0.8888888888888888,
              "#fdca26"
             ],
             [
              1,
              "#f0f921"
             ]
            ],
            "type": "histogram2d"
           }
          ],
          "histogram2dcontour": [
           {
            "colorbar": {
             "outlinewidth": 0,
             "ticks": ""
            },
            "colorscale": [
             [
              0,
              "#0d0887"
             ],
             [
              0.1111111111111111,
              "#46039f"
             ],
             [
              0.2222222222222222,
              "#7201a8"
             ],
             [
              0.3333333333333333,
              "#9c179e"
             ],
             [
              0.4444444444444444,
              "#bd3786"
             ],
             [
              0.5555555555555556,
              "#d8576b"
             ],
             [
              0.6666666666666666,
              "#ed7953"
             ],
             [
              0.7777777777777778,
              "#fb9f3a"
             ],
             [
              0.8888888888888888,
              "#fdca26"
             ],
             [
              1,
              "#f0f921"
             ]
            ],
            "type": "histogram2dcontour"
           }
          ],
          "mesh3d": [
           {
            "colorbar": {
             "outlinewidth": 0,
             "ticks": ""
            },
            "type": "mesh3d"
           }
          ],
          "parcoords": [
           {
            "line": {
             "colorbar": {
              "outlinewidth": 0,
              "ticks": ""
             }
            },
            "type": "parcoords"
           }
          ],
          "pie": [
           {
            "automargin": true,
            "type": "pie"
           }
          ],
          "scatter": [
           {
            "fillpattern": {
             "fillmode": "overlay",
             "size": 10,
             "solidity": 0.2
            },
            "type": "scatter"
           }
          ],
          "scatter3d": [
           {
            "line": {
             "colorbar": {
              "outlinewidth": 0,
              "ticks": ""
             }
            },
            "marker": {
             "colorbar": {
              "outlinewidth": 0,
              "ticks": ""
             }
            },
            "type": "scatter3d"
           }
          ],
          "scattercarpet": [
           {
            "marker": {
             "colorbar": {
              "outlinewidth": 0,
              "ticks": ""
             }
            },
            "type": "scattercarpet"
           }
          ],
          "scattergeo": [
           {
            "marker": {
             "colorbar": {
              "outlinewidth": 0,
              "ticks": ""
             }
            },
            "type": "scattergeo"
           }
          ],
          "scattergl": [
           {
            "marker": {
             "colorbar": {
              "outlinewidth": 0,
              "ticks": ""
             }
            },
            "type": "scattergl"
           }
          ],
          "scattermapbox": [
           {
            "marker": {
             "colorbar": {
              "outlinewidth": 0,
              "ticks": ""
             }
            },
            "type": "scattermapbox"
           }
          ],
          "scatterpolar": [
           {
            "marker": {
             "colorbar": {
              "outlinewidth": 0,
              "ticks": ""
             }
            },
            "type": "scatterpolar"
           }
          ],
          "scatterpolargl": [
           {
            "marker": {
             "colorbar": {
              "outlinewidth": 0,
              "ticks": ""
             }
            },
            "type": "scatterpolargl"
           }
          ],
          "scatterternary": [
           {
            "marker": {
             "colorbar": {
              "outlinewidth": 0,
              "ticks": ""
             }
            },
            "type": "scatterternary"
           }
          ],
          "surface": [
           {
            "colorbar": {
             "outlinewidth": 0,
             "ticks": ""
            },
            "colorscale": [
             [
              0,
              "#0d0887"
             ],
             [
              0.1111111111111111,
              "#46039f"
             ],
             [
              0.2222222222222222,
              "#7201a8"
             ],
             [
              0.3333333333333333,
              "#9c179e"
             ],
             [
              0.4444444444444444,
              "#bd3786"
             ],
             [
              0.5555555555555556,
              "#d8576b"
             ],
             [
              0.6666666666666666,
              "#ed7953"
             ],
             [
              0.7777777777777778,
              "#fb9f3a"
             ],
             [
              0.8888888888888888,
              "#fdca26"
             ],
             [
              1,
              "#f0f921"
             ]
            ],
            "type": "surface"
           }
          ],
          "table": [
           {
            "cells": {
             "fill": {
              "color": "#EBF0F8"
             },
             "line": {
              "color": "white"
             }
            },
            "header": {
             "fill": {
              "color": "#C8D4E3"
             },
             "line": {
              "color": "white"
             }
            },
            "type": "table"
           }
          ]
         },
         "layout": {
          "annotationdefaults": {
           "arrowcolor": "#2a3f5f",
           "arrowhead": 0,
           "arrowwidth": 1
          },
          "autotypenumbers": "strict",
          "coloraxis": {
           "colorbar": {
            "outlinewidth": 0,
            "ticks": ""
           }
          },
          "colorscale": {
           "diverging": [
            [
             0,
             "#8e0152"
            ],
            [
             0.1,
             "#c51b7d"
            ],
            [
             0.2,
             "#de77ae"
            ],
            [
             0.3,
             "#f1b6da"
            ],
            [
             0.4,
             "#fde0ef"
            ],
            [
             0.5,
             "#f7f7f7"
            ],
            [
             0.6,
             "#e6f5d0"
            ],
            [
             0.7,
             "#b8e186"
            ],
            [
             0.8,
             "#7fbc41"
            ],
            [
             0.9,
             "#4d9221"
            ],
            [
             1,
             "#276419"
            ]
           ],
           "sequential": [
            [
             0,
             "#0d0887"
            ],
            [
             0.1111111111111111,
             "#46039f"
            ],
            [
             0.2222222222222222,
             "#7201a8"
            ],
            [
             0.3333333333333333,
             "#9c179e"
            ],
            [
             0.4444444444444444,
             "#bd3786"
            ],
            [
             0.5555555555555556,
             "#d8576b"
            ],
            [
             0.6666666666666666,
             "#ed7953"
            ],
            [
             0.7777777777777778,
             "#fb9f3a"
            ],
            [
             0.8888888888888888,
             "#fdca26"
            ],
            [
             1,
             "#f0f921"
            ]
           ],
           "sequentialminus": [
            [
             0,
             "#0d0887"
            ],
            [
             0.1111111111111111,
             "#46039f"
            ],
            [
             0.2222222222222222,
             "#7201a8"
            ],
            [
             0.3333333333333333,
             "#9c179e"
            ],
            [
             0.4444444444444444,
             "#bd3786"
            ],
            [
             0.5555555555555556,
             "#d8576b"
            ],
            [
             0.6666666666666666,
             "#ed7953"
            ],
            [
             0.7777777777777778,
             "#fb9f3a"
            ],
            [
             0.8888888888888888,
             "#fdca26"
            ],
            [
             1,
             "#f0f921"
            ]
           ]
          },
          "colorway": [
           "#636efa",
           "#EF553B",
           "#00cc96",
           "#ab63fa",
           "#FFA15A",
           "#19d3f3",
           "#FF6692",
           "#B6E880",
           "#FF97FF",
           "#FECB52"
          ],
          "font": {
           "color": "#2a3f5f"
          },
          "geo": {
           "bgcolor": "white",
           "lakecolor": "white",
           "landcolor": "#E5ECF6",
           "showlakes": true,
           "showland": true,
           "subunitcolor": "white"
          },
          "hoverlabel": {
           "align": "left"
          },
          "hovermode": "closest",
          "mapbox": {
           "style": "light"
          },
          "paper_bgcolor": "white",
          "plot_bgcolor": "#E5ECF6",
          "polar": {
           "angularaxis": {
            "gridcolor": "white",
            "linecolor": "white",
            "ticks": ""
           },
           "bgcolor": "#E5ECF6",
           "radialaxis": {
            "gridcolor": "white",
            "linecolor": "white",
            "ticks": ""
           }
          },
          "scene": {
           "xaxis": {
            "backgroundcolor": "#E5ECF6",
            "gridcolor": "white",
            "gridwidth": 2,
            "linecolor": "white",
            "showbackground": true,
            "ticks": "",
            "zerolinecolor": "white"
           },
           "yaxis": {
            "backgroundcolor": "#E5ECF6",
            "gridcolor": "white",
            "gridwidth": 2,
            "linecolor": "white",
            "showbackground": true,
            "ticks": "",
            "zerolinecolor": "white"
           },
           "zaxis": {
            "backgroundcolor": "#E5ECF6",
            "gridcolor": "white",
            "gridwidth": 2,
            "linecolor": "white",
            "showbackground": true,
            "ticks": "",
            "zerolinecolor": "white"
           }
          },
          "shapedefaults": {
           "line": {
            "color": "#2a3f5f"
           }
          },
          "ternary": {
           "aaxis": {
            "gridcolor": "white",
            "linecolor": "white",
            "ticks": ""
           },
           "baxis": {
            "gridcolor": "white",
            "linecolor": "white",
            "ticks": ""
           },
           "bgcolor": "#E5ECF6",
           "caxis": {
            "gridcolor": "white",
            "linecolor": "white",
            "ticks": ""
           }
          },
          "title": {
           "x": 0.05
          },
          "xaxis": {
           "automargin": true,
           "gridcolor": "white",
           "linecolor": "white",
           "ticks": "",
           "title": {
            "standoff": 15
           },
           "zerolinecolor": "white",
           "zerolinewidth": 2
          },
          "yaxis": {
           "automargin": true,
           "gridcolor": "white",
           "linecolor": "white",
           "ticks": "",
           "title": {
            "standoff": 15
           },
           "zerolinecolor": "white",
           "zerolinewidth": 2
          }
         }
        }
       }
      }
     },
     "metadata": {},
     "output_type": "display_data"
    },
    {
     "data": {
      "application/vnd.plotly.v1+json": {
       "config": {
        "plotlyServerURL": "https://plot.ly"
       },
       "data": [
        {
         "marker": {
          "size": 3
         },
         "mode": "markers",
         "name": "gt_8",
         "type": "scatter",
         "y": [
          0.13791151344776154,
          0.14595697820186615,
          0.14531122148036957,
          0.14464661478996277,
          0.14638341963291168,
          0.14549550414085388,
          0.14460593461990356,
          0.14503581821918488,
          0.14431731402873993,
          0.14398525655269623,
          0.1439332515001297,
          0.14429374039173126,
          0.14466021955013275,
          0.14477361738681793,
          0.1440962702035904,
          0.14294368028640747,
          0.14310139417648315,
          0.14277766644954681,
          0.14173467457294464,
          0.14127449691295624,
          0.14096993207931519,
          0.14124415814876556,
          0.14110733568668365,
          0.14053578674793243,
          0.14025765657424927,
          0.13975270092487335,
          0.13901960849761963,
          0.1385352462530136,
          0.13834059238433838,
          0.13848663866519928,
          0.1387716680765152,
          0.13847845792770386,
          0.13839131593704224,
          0.13888660073280334,
          0.13921314477920532,
          0.13925577700138092,
          0.13891518115997314,
          0.1379811018705368,
          0.13773101568222046,
          0.13824942708015442,
          0.13847434520721436,
          0.13893969357013702,
          0.13964465260505676,
          0.139932319521904,
          0.1397676318883896,
          0.13983403146266937,
          0.14017082750797272,
          0.13992245495319366,
          0.13959898054599762,
          0.1397504061460495,
          0.14025311172008514,
          0.1411559134721756,
          0.14162464439868927,
          0.141713947057724,
          0.14198312163352966,
          0.14207689464092255,
          0.14222249388694763,
          0.14297865331172943,
          0.14376941323280334,
          0.14362399280071259,
          0.14344364404678345,
          0.143960103392601,
          0.14454202353954315,
          0.1446862518787384,
          0.1448855847120285,
          0.14605246484279633,
          0.1478860229253769,
          0.14948686957359314,
          0.15008607506752014,
          0.1493937373161316,
          0.14807695150375366,
          0.14713872969150543,
          0.1471138894557953,
          0.14769256114959717,
          0.14826208353042603,
          0.1489260345697403,
          0.1495891809463501,
          0.14923304319381714,
          0.1481878161430359,
          0.1477237343788147,
          0.14777420461177826,
          0.14795725047588348,
          0.14783023297786713,
          0.14731080830097198,
          0.14731502532958984,
          0.1479860097169876,
          0.14845316112041473,
          0.14849454164505005,
          0.14858576655387878,
          0.14874573051929474,
          0.14859715104103088,
          0.14854739606380463,
          0.14896048605442047,
          0.14910633862018585,
          0.1487940549850464,
          0.14886797964572906,
          0.1496085375547409,
          0.15012922883033752,
          0.14988242089748383,
          0.1498970240354538,
          0.15087798237800598,
          0.1518907994031906,
          0.1519109308719635,
          0.15082919597625732,
          0.14954237639904022,
          0.14926941692829132,
          0.1503036916255951,
          0.1517009139060974,
          0.15181083977222443,
          0.15040914714336395,
          0.14944227039813995,
          0.14971280097961426,
          0.14981934428215027,
          0.14927177131175995,
          0.1489354819059372,
          0.14907090365886688,
          0.14934952557086945,
          0.14970041811466217,
          0.15012045204639435,
          0.15060950815677643,
          0.15123720467090607,
          0.15152496099472046,
          0.1509878933429718,
          0.15046392381191254,
          0.15089894831180573,
          0.15146689116954803,
          0.15120479464530945,
          0.15060655772686005,
          0.15023106336593628,
          0.1502552479505539,
          0.15079008042812347,
          0.1509866714477539,
          0.15016990900039673,
          0.14947471022605896,
          0.1501442790031433,
          0.15160013735294342,
          0.15226340293884277,
          0.15157335996627808,
          0.15065725147724152,
          0.1503807008266449,
          0.1501137763261795,
          0.1498432606458664,
          0.15030531585216522,
          0.15062224864959717,
          0.14980833232402802,
          0.14900557696819305,
          0.1490788608789444,
          0.14905332028865814,
          0.1484231948852539,
          0.14789974689483643,
          0.1477784663438797,
          0.14777962863445282,
          0.14787672460079193,
          0.14809668064117432,
          0.14831873774528503,
          0.1485109180212021,
          0.1486203372478485,
          0.14858378469944,
          0.14840978384017944,
          0.14812086522579193,
          0.14785240590572357,
          0.14788350462913513,
          0.14809702336788177,
          0.147903710603714,
          0.1471938192844391,
          0.1466297209262848,
          0.1466294378042221,
          0.14688532054424286,
          0.14699168503284454,
          0.1468217521905899,
          0.14640098810195923,
          0.1459633708000183,
          0.14587032794952393,
          0.14617323875427246,
          0.14639748632907867,
          0.1460966318845749,
          0.14558087289333344,
          0.14556124806404114,
          0.14608648419380188,
          0.14650842547416687,
          0.14639677107334137,
          0.14598585665225983,
          0.14575901627540588,
          0.14591683447360992,
          0.14621728658676147,
          0.14624148607254028,
          0.1457328498363495,
          0.14487478137016296,
          0.14421994984149933,
          0.1441018432378769,
          0.14429914951324463,
          0.14439289271831512,
          0.1443009227514267,
          0.14432257413864136,
          0.14466920495033264,
          0.14509229362010956,
          0.1450762003660202,
          0.14450319111347198,
          0.14387482404708862,
          0.14366623759269714,
          0.14385898411273956,
          0.14424829185009003,
          0.1446669101715088,
          0.14482328295707703,
          0.14454849064350128,
          0.14411041140556335,
          0.14391706883907318,
          0.14405633509159088,
          0.14424829185009003,
          0.14419680833816528,
          0.1439315229654312,
          0.14375123381614685,
          0.1438041627407074,
          0.1438962072134018,
          0.14386314153671265,
          0.14377620816230774,
          0.14368224143981934,
          0.14347174763679504,
          0.14314278960227966,
          0.142886221408844,
          0.14278337359428406,
          0.14267463982105255,
          0.142437145113945,
          0.1421935260295868,
          0.14216402173042297,
          0.1423748880624771,
          0.14262351393699646,
          0.1427101045846939,
          0.1426330804824829,
          0.14249254763126373,
          0.14238235354423523,
          0.14238497614860535,
          0.1425117701292038,
          0.14259344339370728,
          0.14246627688407898,
          0.1422315537929535,
          0.14210286736488342,
          0.1420799195766449,
          0.14202980697155,
          0.14196309447288513,
          0.14195922017097473,
          0.14189162850379944,
          0.14159922301769257,
          0.14121073484420776,
          0.14096935093402863,
          0.14087137579917908,
          0.14071449637413025,
          0.14044170081615448,
          0.14019295573234558,
          0.14009976387023926,
          0.1401989758014679,
          0.14043018221855164,
          0.14060212671756744,
          0.14048248529434204,
          0.1400933414697647,
          0.139779195189476,
          0.13978590071201324,
          0.1399756222963333,
          0.14005228877067566,
          0.13992877304553986,
          0.13975907862186432,
          0.13968999683856964,
          0.1397216022014618,
          0.1397441029548645,
          0.13968802988529205,
          0.13964959979057312,
          0.13979671895503998,
          0.14011786878108978,
          0.14034950733184814,
          0.14023955166339874,
          0.13984516263008118,
          0.13945280015468597,
          0.1392589807510376,
          0.13925032317638397,
          0.13932789862155914,
          0.13940005004405975,
          0.1393505483865738,
          0.13911601901054382,
          0.13882556557655334,
          0.13870424032211304,
          0.13878902792930603,
          0.13884545862674713,
          0.13870161771774292
         ]
        },
        {
         "marker": {
          "size": 3
         },
         "mode": "markers",
         "name": "pred_8",
         "type": "scatter",
         "y": [
          0.14292442798614502,
          0.1338159590959549,
          0.1330411434173584,
          0.13007299602031708,
          0.13104088604450226,
          0.13375845551490784,
          0.13752107322216034,
          0.13558164238929749,
          0.13999007642269135,
          0.13094723224639893,
          0.13531851768493652,
          0.13271476328372955,
          0.13969391584396362,
          0.1455138921737671,
          0.12865974009037018,
          0.14424562454223633,
          0.13428984582424164,
          0.13595008850097656,
          0.13697479665279388,
          0.13247613608837128,
          0.1331913024187088,
          0.14185704290866852,
          0.13369663059711456,
          0.13056130707263947,
          0.13587544858455658,
          0.13943740725517273,
          0.13103917241096497,
          0.13849198818206787,
          0.13921090960502625,
          0.1404927670955658,
          0.14278635382652283,
          0.1339016556739807,
          0.13413584232330322,
          0.13421417772769928,
          0.14004798233509064,
          0.13619260489940643,
          0.13235445320606232,
          0.14418356120586395,
          0.14477160573005676,
          0.14760294556617737,
          0.1432425081729889,
          0.14136920869350433,
          0.13860423862934113,
          0.13465255498886108,
          0.14307092130184174,
          0.1419677436351776,
          0.14934341609477997,
          0.13954119384288788,
          0.13982482254505157,
          0.13690325617790222,
          0.1360154002904892,
          0.13023729622364044,
          0.14183597266674042,
          0.13495904207229614,
          0.15218786895275116,
          0.14007604122161865,
          0.13667024672031403,
          0.13295809924602509,
          0.14140543341636658,
          0.13883481919765472,
          0.13691803812980652,
          0.13820837438106537,
          0.1455422043800354,
          0.13509204983711243,
          0.1424824446439743,
          0.14082713425159454,
          0.13949880003929138,
          0.14234067499637604,
          0.1403377652168274,
          0.1358359307050705,
          0.14388959109783173,
          0.13783234357833862,
          0.14247098565101624,
          0.137868270277977,
          0.14228646457195282,
          0.14154170453548431,
          0.14006027579307556,
          0.13792814314365387,
          0.1383684277534485,
          0.13886436820030212,
          0.13252697885036469,
          0.13360252976417542,
          0.1386217623949051,
          0.14292827248573303,
          0.13832201063632965,
          0.14626194536685944,
          0.1384875625371933,
          0.1450800597667694,
          0.14164763689041138,
          0.1380811631679535,
          0.14111968874931335,
          0.14374712109565735,
          0.14201509952545166,
          0.13934676349163055,
          0.14347748458385468,
          0.1431986689567566,
          0.1412009298801422,
          0.15068459510803223,
          0.13767915964126587,
          0.14555418491363525,
          0.14437323808670044,
          0.14303719997406006,
          0.14262014627456665,
          0.14814502000808716,
          0.1384364813566208,
          0.14577636122703552,
          0.1381770670413971,
          0.14049357175827026,
          0.1452299803495407,
          0.1416679471731186,
          0.14164431393146515,
          0.1423107385635376,
          0.14228415489196777,
          0.13739648461341858,
          0.14599739015102386,
          0.1393430083990097,
          0.14255772531032562,
          0.14152267575263977,
          0.14973831176757812,
          0.14020942151546478,
          0.14202813804149628,
          0.14975573122501373,
          0.13853006064891815,
          0.14297039806842804,
          0.13902011513710022,
          0.14180874824523926,
          0.14084963500499725,
          0.14230233430862427,
          0.14382675290107727,
          0.13837386667728424,
          0.14553183317184448,
          0.14544610679149628,
          0.1390019953250885,
          0.14496132731437683,
          0.14578640460968018,
          0.13572105765342712,
          0.14782807230949402,
          0.14324359595775604,
          0.14335201680660248,
          0.14851704239845276,
          0.14352697134017944,
          0.14208057522773743,
          0.15043160319328308,
          0.14681407809257507,
          0.1498466581106186,
          0.14167067408561707,
          0.14531512558460236,
          0.14753133058547974,
          0.1461535096168518,
          0.14861002564430237,
          0.14364874362945557,
          0.15022222697734833,
          0.14824402332305908,
          0.14543326199054718,
          0.14844359457492828,
          0.14028671383857727,
          0.15011590719223022,
          0.1385812908411026,
          0.14759446680545807,
          0.14771558344364166,
          0.1471024751663208,
          0.1481645703315735,
          0.14331059157848358,
          0.147863507270813,
          0.14714764058589935,
          0.14429350197315216,
          0.14865995943546295,
          0.14638404548168182,
          0.14956450462341309,
          0.13451427221298218,
          0.13736814260482788,
          0.14736796915531158,
          0.13957443833351135,
          0.1423981785774231,
          0.14261731505393982,
          0.15200094878673553,
          0.1432730108499527,
          0.13740213215351105,
          0.15176506340503693,
          0.14191514253616333,
          0.14388461410999298,
          0.15316450595855713,
          0.1475125551223755,
          0.148610457777977,
          0.14705419540405273,
          0.15794184803962708,
          0.14461149275302887,
          0.15086619555950165,
          0.14669269323349,
          0.14298821985721588,
          0.14297713339328766,
          0.13619591295719147,
          0.1496555656194687,
          0.14367522299289703,
          0.14085978269577026,
          0.1444481611251831,
          0.149006187915802,
          0.14189060032367706,
          0.14769630134105682,
          0.14748737215995789,
          0.15288905799388885,
          0.13323049247264862,
          0.14759761095046997,
          0.1432950794696808,
          0.14641784131526947,
          0.14290156960487366,
          0.14951477944850922,
          0.14317235350608826,
          0.14976179599761963,
          0.1384909451007843,
          0.14048676192760468,
          0.14107725024223328,
          0.14241012930870056,
          0.13456480205059052,
          0.13913863897323608,
          0.13946151733398438,
          0.13698992133140564,
          0.14729075133800507,
          0.14396977424621582,
          0.14354710280895233,
          0.14947468042373657,
          0.14763329923152924,
          0.1489298939704895,
          0.13600347936153412,
          0.14371715486049652,
          0.14143720269203186,
          0.14031074941158295,
          0.14057615399360657,
          0.14294682443141937,
          0.14095881581306458,
          0.14189080893993378,
          0.15278731286525726,
          0.1348661482334137,
          0.14852823317050934,
          0.13881641626358032,
          0.14432746171951294,
          0.1466061770915985,
          0.15109094977378845,
          0.1407393217086792,
          0.14461177587509155,
          0.14231564104557037,
          0.13738828897476196,
          0.13977719843387604,
          0.14283311367034912,
          0.14203967154026031,
          0.14693064987659454,
          0.14034564793109894,
          0.13861936330795288,
          0.14015522599220276,
          0.14579851925373077,
          0.13789908587932587,
          0.13812674582004547,
          0.13693024218082428,
          0.13630515336990356,
          0.13989324867725372,
          0.14277251064777374,
          0.1386854350566864,
          0.14153818786144257,
          0.13198460638523102,
          0.14123384654521942,
          0.13642671704292297,
          0.13987590372562408,
          0.1424047201871872,
          0.13046351075172424,
          0.1418490707874298,
          0.1425643414258957,
          0.1392810195684433,
          0.1374529004096985,
          0.13589349389076233,
          0.14261962473392487,
          0.1397373080253601,
          0.14212632179260254,
          0.13545140624046326,
          0.13501398265361786,
          0.13113738596439362,
          0.13671451807022095,
          0.13871793448925018,
          0.1405162811279297,
          0.1319810450077057,
          0.13901512324810028,
          0.1350184679031372,
          0.13543134927749634,
          0.1382022649049759
         ]
        }
       ],
       "layout": {
        "template": {
         "data": {
          "bar": [
           {
            "error_x": {
             "color": "#2a3f5f"
            },
            "error_y": {
             "color": "#2a3f5f"
            },
            "marker": {
             "line": {
              "color": "#E5ECF6",
              "width": 0.5
             },
             "pattern": {
              "fillmode": "overlay",
              "size": 10,
              "solidity": 0.2
             }
            },
            "type": "bar"
           }
          ],
          "barpolar": [
           {
            "marker": {
             "line": {
              "color": "#E5ECF6",
              "width": 0.5
             },
             "pattern": {
              "fillmode": "overlay",
              "size": 10,
              "solidity": 0.2
             }
            },
            "type": "barpolar"
           }
          ],
          "carpet": [
           {
            "aaxis": {
             "endlinecolor": "#2a3f5f",
             "gridcolor": "white",
             "linecolor": "white",
             "minorgridcolor": "white",
             "startlinecolor": "#2a3f5f"
            },
            "baxis": {
             "endlinecolor": "#2a3f5f",
             "gridcolor": "white",
             "linecolor": "white",
             "minorgridcolor": "white",
             "startlinecolor": "#2a3f5f"
            },
            "type": "carpet"
           }
          ],
          "choropleth": [
           {
            "colorbar": {
             "outlinewidth": 0,
             "ticks": ""
            },
            "type": "choropleth"
           }
          ],
          "contour": [
           {
            "colorbar": {
             "outlinewidth": 0,
             "ticks": ""
            },
            "colorscale": [
             [
              0,
              "#0d0887"
             ],
             [
              0.1111111111111111,
              "#46039f"
             ],
             [
              0.2222222222222222,
              "#7201a8"
             ],
             [
              0.3333333333333333,
              "#9c179e"
             ],
             [
              0.4444444444444444,
              "#bd3786"
             ],
             [
              0.5555555555555556,
              "#d8576b"
             ],
             [
              0.6666666666666666,
              "#ed7953"
             ],
             [
              0.7777777777777778,
              "#fb9f3a"
             ],
             [
              0.8888888888888888,
              "#fdca26"
             ],
             [
              1,
              "#f0f921"
             ]
            ],
            "type": "contour"
           }
          ],
          "contourcarpet": [
           {
            "colorbar": {
             "outlinewidth": 0,
             "ticks": ""
            },
            "type": "contourcarpet"
           }
          ],
          "heatmap": [
           {
            "colorbar": {
             "outlinewidth": 0,
             "ticks": ""
            },
            "colorscale": [
             [
              0,
              "#0d0887"
             ],
             [
              0.1111111111111111,
              "#46039f"
             ],
             [
              0.2222222222222222,
              "#7201a8"
             ],
             [
              0.3333333333333333,
              "#9c179e"
             ],
             [
              0.4444444444444444,
              "#bd3786"
             ],
             [
              0.5555555555555556,
              "#d8576b"
             ],
             [
              0.6666666666666666,
              "#ed7953"
             ],
             [
              0.7777777777777778,
              "#fb9f3a"
             ],
             [
              0.8888888888888888,
              "#fdca26"
             ],
             [
              1,
              "#f0f921"
             ]
            ],
            "type": "heatmap"
           }
          ],
          "heatmapgl": [
           {
            "colorbar": {
             "outlinewidth": 0,
             "ticks": ""
            },
            "colorscale": [
             [
              0,
              "#0d0887"
             ],
             [
              0.1111111111111111,
              "#46039f"
             ],
             [
              0.2222222222222222,
              "#7201a8"
             ],
             [
              0.3333333333333333,
              "#9c179e"
             ],
             [
              0.4444444444444444,
              "#bd3786"
             ],
             [
              0.5555555555555556,
              "#d8576b"
             ],
             [
              0.6666666666666666,
              "#ed7953"
             ],
             [
              0.7777777777777778,
              "#fb9f3a"
             ],
             [
              0.8888888888888888,
              "#fdca26"
             ],
             [
              1,
              "#f0f921"
             ]
            ],
            "type": "heatmapgl"
           }
          ],
          "histogram": [
           {
            "marker": {
             "pattern": {
              "fillmode": "overlay",
              "size": 10,
              "solidity": 0.2
             }
            },
            "type": "histogram"
           }
          ],
          "histogram2d": [
           {
            "colorbar": {
             "outlinewidth": 0,
             "ticks": ""
            },
            "colorscale": [
             [
              0,
              "#0d0887"
             ],
             [
              0.1111111111111111,
              "#46039f"
             ],
             [
              0.2222222222222222,
              "#7201a8"
             ],
             [
              0.3333333333333333,
              "#9c179e"
             ],
             [
              0.4444444444444444,
              "#bd3786"
             ],
             [
              0.5555555555555556,
              "#d8576b"
             ],
             [
              0.6666666666666666,
              "#ed7953"
             ],
             [
              0.7777777777777778,
              "#fb9f3a"
             ],
             [
              0.8888888888888888,
              "#fdca26"
             ],
             [
              1,
              "#f0f921"
             ]
            ],
            "type": "histogram2d"
           }
          ],
          "histogram2dcontour": [
           {
            "colorbar": {
             "outlinewidth": 0,
             "ticks": ""
            },
            "colorscale": [
             [
              0,
              "#0d0887"
             ],
             [
              0.1111111111111111,
              "#46039f"
             ],
             [
              0.2222222222222222,
              "#7201a8"
             ],
             [
              0.3333333333333333,
              "#9c179e"
             ],
             [
              0.4444444444444444,
              "#bd3786"
             ],
             [
              0.5555555555555556,
              "#d8576b"
             ],
             [
              0.6666666666666666,
              "#ed7953"
             ],
             [
              0.7777777777777778,
              "#fb9f3a"
             ],
             [
              0.8888888888888888,
              "#fdca26"
             ],
             [
              1,
              "#f0f921"
             ]
            ],
            "type": "histogram2dcontour"
           }
          ],
          "mesh3d": [
           {
            "colorbar": {
             "outlinewidth": 0,
             "ticks": ""
            },
            "type": "mesh3d"
           }
          ],
          "parcoords": [
           {
            "line": {
             "colorbar": {
              "outlinewidth": 0,
              "ticks": ""
             }
            },
            "type": "parcoords"
           }
          ],
          "pie": [
           {
            "automargin": true,
            "type": "pie"
           }
          ],
          "scatter": [
           {
            "fillpattern": {
             "fillmode": "overlay",
             "size": 10,
             "solidity": 0.2
            },
            "type": "scatter"
           }
          ],
          "scatter3d": [
           {
            "line": {
             "colorbar": {
              "outlinewidth": 0,
              "ticks": ""
             }
            },
            "marker": {
             "colorbar": {
              "outlinewidth": 0,
              "ticks": ""
             }
            },
            "type": "scatter3d"
           }
          ],
          "scattercarpet": [
           {
            "marker": {
             "colorbar": {
              "outlinewidth": 0,
              "ticks": ""
             }
            },
            "type": "scattercarpet"
           }
          ],
          "scattergeo": [
           {
            "marker": {
             "colorbar": {
              "outlinewidth": 0,
              "ticks": ""
             }
            },
            "type": "scattergeo"
           }
          ],
          "scattergl": [
           {
            "marker": {
             "colorbar": {
              "outlinewidth": 0,
              "ticks": ""
             }
            },
            "type": "scattergl"
           }
          ],
          "scattermapbox": [
           {
            "marker": {
             "colorbar": {
              "outlinewidth": 0,
              "ticks": ""
             }
            },
            "type": "scattermapbox"
           }
          ],
          "scatterpolar": [
           {
            "marker": {
             "colorbar": {
              "outlinewidth": 0,
              "ticks": ""
             }
            },
            "type": "scatterpolar"
           }
          ],
          "scatterpolargl": [
           {
            "marker": {
             "colorbar": {
              "outlinewidth": 0,
              "ticks": ""
             }
            },
            "type": "scatterpolargl"
           }
          ],
          "scatterternary": [
           {
            "marker": {
             "colorbar": {
              "outlinewidth": 0,
              "ticks": ""
             }
            },
            "type": "scatterternary"
           }
          ],
          "surface": [
           {
            "colorbar": {
             "outlinewidth": 0,
             "ticks": ""
            },
            "colorscale": [
             [
              0,
              "#0d0887"
             ],
             [
              0.1111111111111111,
              "#46039f"
             ],
             [
              0.2222222222222222,
              "#7201a8"
             ],
             [
              0.3333333333333333,
              "#9c179e"
             ],
             [
              0.4444444444444444,
              "#bd3786"
             ],
             [
              0.5555555555555556,
              "#d8576b"
             ],
             [
              0.6666666666666666,
              "#ed7953"
             ],
             [
              0.7777777777777778,
              "#fb9f3a"
             ],
             [
              0.8888888888888888,
              "#fdca26"
             ],
             [
              1,
              "#f0f921"
             ]
            ],
            "type": "surface"
           }
          ],
          "table": [
           {
            "cells": {
             "fill": {
              "color": "#EBF0F8"
             },
             "line": {
              "color": "white"
             }
            },
            "header": {
             "fill": {
              "color": "#C8D4E3"
             },
             "line": {
              "color": "white"
             }
            },
            "type": "table"
           }
          ]
         },
         "layout": {
          "annotationdefaults": {
           "arrowcolor": "#2a3f5f",
           "arrowhead": 0,
           "arrowwidth": 1
          },
          "autotypenumbers": "strict",
          "coloraxis": {
           "colorbar": {
            "outlinewidth": 0,
            "ticks": ""
           }
          },
          "colorscale": {
           "diverging": [
            [
             0,
             "#8e0152"
            ],
            [
             0.1,
             "#c51b7d"
            ],
            [
             0.2,
             "#de77ae"
            ],
            [
             0.3,
             "#f1b6da"
            ],
            [
             0.4,
             "#fde0ef"
            ],
            [
             0.5,
             "#f7f7f7"
            ],
            [
             0.6,
             "#e6f5d0"
            ],
            [
             0.7,
             "#b8e186"
            ],
            [
             0.8,
             "#7fbc41"
            ],
            [
             0.9,
             "#4d9221"
            ],
            [
             1,
             "#276419"
            ]
           ],
           "sequential": [
            [
             0,
             "#0d0887"
            ],
            [
             0.1111111111111111,
             "#46039f"
            ],
            [
             0.2222222222222222,
             "#7201a8"
            ],
            [
             0.3333333333333333,
             "#9c179e"
            ],
            [
             0.4444444444444444,
             "#bd3786"
            ],
            [
             0.5555555555555556,
             "#d8576b"
            ],
            [
             0.6666666666666666,
             "#ed7953"
            ],
            [
             0.7777777777777778,
             "#fb9f3a"
            ],
            [
             0.8888888888888888,
             "#fdca26"
            ],
            [
             1,
             "#f0f921"
            ]
           ],
           "sequentialminus": [
            [
             0,
             "#0d0887"
            ],
            [
             0.1111111111111111,
             "#46039f"
            ],
            [
             0.2222222222222222,
             "#7201a8"
            ],
            [
             0.3333333333333333,
             "#9c179e"
            ],
            [
             0.4444444444444444,
             "#bd3786"
            ],
            [
             0.5555555555555556,
             "#d8576b"
            ],
            [
             0.6666666666666666,
             "#ed7953"
            ],
            [
             0.7777777777777778,
             "#fb9f3a"
            ],
            [
             0.8888888888888888,
             "#fdca26"
            ],
            [
             1,
             "#f0f921"
            ]
           ]
          },
          "colorway": [
           "#636efa",
           "#EF553B",
           "#00cc96",
           "#ab63fa",
           "#FFA15A",
           "#19d3f3",
           "#FF6692",
           "#B6E880",
           "#FF97FF",
           "#FECB52"
          ],
          "font": {
           "color": "#2a3f5f"
          },
          "geo": {
           "bgcolor": "white",
           "lakecolor": "white",
           "landcolor": "#E5ECF6",
           "showlakes": true,
           "showland": true,
           "subunitcolor": "white"
          },
          "hoverlabel": {
           "align": "left"
          },
          "hovermode": "closest",
          "mapbox": {
           "style": "light"
          },
          "paper_bgcolor": "white",
          "plot_bgcolor": "#E5ECF6",
          "polar": {
           "angularaxis": {
            "gridcolor": "white",
            "linecolor": "white",
            "ticks": ""
           },
           "bgcolor": "#E5ECF6",
           "radialaxis": {
            "gridcolor": "white",
            "linecolor": "white",
            "ticks": ""
           }
          },
          "scene": {
           "xaxis": {
            "backgroundcolor": "#E5ECF6",
            "gridcolor": "white",
            "gridwidth": 2,
            "linecolor": "white",
            "showbackground": true,
            "ticks": "",
            "zerolinecolor": "white"
           },
           "yaxis": {
            "backgroundcolor": "#E5ECF6",
            "gridcolor": "white",
            "gridwidth": 2,
            "linecolor": "white",
            "showbackground": true,
            "ticks": "",
            "zerolinecolor": "white"
           },
           "zaxis": {
            "backgroundcolor": "#E5ECF6",
            "gridcolor": "white",
            "gridwidth": 2,
            "linecolor": "white",
            "showbackground": true,
            "ticks": "",
            "zerolinecolor": "white"
           }
          },
          "shapedefaults": {
           "line": {
            "color": "#2a3f5f"
           }
          },
          "ternary": {
           "aaxis": {
            "gridcolor": "white",
            "linecolor": "white",
            "ticks": ""
           },
           "baxis": {
            "gridcolor": "white",
            "linecolor": "white",
            "ticks": ""
           },
           "bgcolor": "#E5ECF6",
           "caxis": {
            "gridcolor": "white",
            "linecolor": "white",
            "ticks": ""
           }
          },
          "title": {
           "x": 0.05
          },
          "xaxis": {
           "automargin": true,
           "gridcolor": "white",
           "linecolor": "white",
           "ticks": "",
           "title": {
            "standoff": 15
           },
           "zerolinecolor": "white",
           "zerolinewidth": 2
          },
          "yaxis": {
           "automargin": true,
           "gridcolor": "white",
           "linecolor": "white",
           "ticks": "",
           "title": {
            "standoff": 15
           },
           "zerolinecolor": "white",
           "zerolinewidth": 2
          }
         }
        }
       }
      }
     },
     "metadata": {},
     "output_type": "display_data"
    },
    {
     "data": {
      "application/vnd.plotly.v1+json": {
       "config": {
        "plotlyServerURL": "https://plot.ly"
       },
       "data": [
        {
         "marker": {
          "size": 3
         },
         "mode": "markers",
         "name": "gt_9",
         "type": "scatter",
         "y": [
          0.6781328916549683,
          0.6754814982414246,
          0.674930989742279,
          0.6742926239967346,
          0.6741360425949097,
          0.6739464998245239,
          0.6738376617431641,
          0.6740220189094543,
          0.6741492748260498,
          0.6740575432777405,
          0.6741114258766174,
          0.6744093894958496,
          0.6750047206878662,
          0.6759934425354004,
          0.6766479015350342,
          0.6765605211257935,
          0.6772123575210571,
          0.6782301664352417,
          0.6791362166404724,
          0.6803874373435974,
          0.6819171905517578,
          0.6835540533065796,
          0.6849848628044128,
          0.6864199638366699,
          0.6881901025772095,
          0.689588725566864,
          0.6912779211997986,
          0.6933663487434387,
          0.6952775716781616,
          0.6992344260215759,
          0.7034273743629456,
          0.7039563655853271,
          0.7024420499801636,
          0.7012801170349121,
          0.7018994688987732,
          0.7039020657539368,
          0.7048370838165283,
          0.7048595547676086,
          0.7056719064712524,
          0.7068939208984375,
          0.7076388001441956,
          0.7075831890106201,
          0.7063595652580261,
          0.7051543593406677,
          0.7056190967559814,
          0.7073456645011902,
          0.7093358039855957,
          0.7105739712715149,
          0.709804892539978,
          0.7088462114334106,
          0.70986008644104,
          0.7107745409011841,
          0.7093696594238281,
          0.7062942385673523,
          0.703771710395813,
          0.70335453748703,
          0.7035614848136902,
          0.7030231952667236,
          0.7030961513519287,
          0.7034294605255127,
          0.7026359438896179,
          0.7013580799102783,
          0.699988842010498,
          0.6987099647521973,
          0.6978830695152283,
          0.6973918676376343,
          0.6967892646789551,
          0.6956279277801514,
          0.6942591071128845,
          0.6932243704795837,
          0.6925402283668518,
          0.692207396030426,
          0.6918928623199463,
          0.6912803649902344,
          0.6911192536354065,
          0.691895067691803,
          0.6926104426383972,
          0.6922515034675598,
          0.6910823583602905,
          0.690349817276001,
          0.6905823945999146,
          0.690803587436676,
          0.6900146007537842,
          0.6885749697685242,
          0.6876868009567261,
          0.687535285949707,
          0.68695068359375,
          0.6852861642837524,
          0.6835396885871887,
          0.6825634837150574,
          0.6818338632583618,
          0.6812547445297241,
          0.6809055209159851,
          0.6800505518913269,
          0.6789383292198181,
          0.6782536506652832,
          0.677722692489624,
          0.6771969795227051,
          0.6767376661300659,
          0.6767371296882629,
          0.6777868270874023,
          0.678819477558136,
          0.6782520413398743,
          0.6768212914466858,
          0.6761654019355774,
          0.6763572692871094,
          0.6769644618034363,
          0.677795946598053,
          0.6779741048812866,
          0.6772674322128296,
          0.6768237352371216,
          0.6769202947616577,
          0.6769368052482605,
          0.676948070526123,
          0.677089512348175,
          0.6772426962852478,
          0.677578866481781,
          0.678112268447876,
          0.6786624193191528,
          0.6792290210723877,
          0.6796507835388184,
          0.6797198057174683,
          0.6798182129859924,
          0.6803894639015198,
          0.6811126470565796,
          0.6815993189811707,
          0.6821615695953369,
          0.68306565284729,
          0.683925211429596,
          0.6845138072967529,
          0.6852036118507385,
          0.6861410737037659,
          0.6871902942657471,
          0.6885231137275696,
          0.6900576949119568,
          0.6910789608955383,
          0.6915989518165588,
          0.6928551197052002,
          0.6952642202377319,
          0.6974747776985168,
          0.6986887454986572,
          0.6998627781867981,
          0.7017500400543213,
          0.7037642002105713,
          0.7051477432250977,
          0.7058431506156921,
          0.7064693570137024,
          0.7077582478523254,
          0.7095711827278137,
          0.7111399173736572,
          0.7123795747756958,
          0.7140658497810364,
          0.71673583984375,
          0.7197422385215759,
          0.721618115901947,
          0.7219619750976562,
          0.7219116687774658,
          0.7222112417221069,
          0.7222481966018677,
          0.7214639782905579,
          0.7203403115272522,
          0.7198915481567383,
          0.720613420009613,
          0.7217157483100891,
          0.7219604253768921,
          0.7214059829711914,
          0.7208840847015381,
          0.720312774181366,
          0.7192465662956238,
          0.718306303024292,
          0.7181751132011414,
          0.7182559370994568,
          0.7177032232284546,
          0.7167194485664368,
          0.7157696485519409,
          0.7148004770278931,
          0.7138751745223999,
          0.7139143347740173,
          0.7163970470428467,
          0.7219064831733704,
          0.7288150191307068,
          0.7341613173484802,
          0.7361630797386169,
          0.7352603673934937,
          0.732719361782074,
          0.729418158531189,
          0.7259678244590759,
          0.722956120967865,
          0.7207130193710327,
          0.7191770672798157,
          0.7180413603782654,
          0.7170267701148987,
          0.7161046862602234,
          0.7156918048858643,
          0.7162315845489502,
          0.7174696326255798,
          0.7185266613960266,
          0.7189075946807861,
          0.7188441157341003,
          0.7186228036880493,
          0.7183436751365662,
          0.7181522250175476,
          0.7179980874061584,
          0.7176497578620911,
          0.7172029614448547,
          0.7171510457992554,
          0.7176626324653625,
          0.7182725667953491,
          0.7183892726898193,
          0.7178934812545776,
          0.7171404957771301,
          0.7165266871452332,
          0.7162556052207947,
          0.7162500619888306,
          0.7164345383644104,
          0.7168092727661133,
          0.7171366810798645,
          0.7170630693435669,
          0.716524600982666,
          0.7157596349716187,
          0.7149975895881653,
          0.71430903673172,
          0.7137625217437744,
          0.713379979133606,
          0.7130235433578491,
          0.7125328779220581,
          0.7119202613830566,
          0.711271345615387,
          0.7106284499168396,
          0.7100304961204529,
          0.7095069885253906,
          0.7091478109359741,
          0.7090063691139221,
          0.7088971138000488,
          0.7085040211677551,
          0.70782870054245,
          0.7072518467903137,
          0.7069647312164307,
          0.706650972366333,
          0.7060040831565857,
          0.7052488327026367,
          0.7047922015190125,
          0.7046708464622498,
          0.7045949101448059,
          0.7043192386627197,
          0.7037909626960754,
          0.703117847442627,
          0.7024956941604614,
          0.7020273208618164,
          0.701587438583374,
          0.7010684609413147,
          0.7005963921546936,
          0.7002904415130615,
          0.7000089287757874,
          0.6996340155601501,
          0.6993916034698486,
          0.6995667815208435,
          0.7000196576118469,
          0.7001980543136597,
          0.6997549533843994,
          0.6989737749099731,
          0.6984052658081055,
          0.698194146156311,
          0.6980472803115845,
          0.6977543830871582,
          0.6974404454231262,
          0.6972589492797852,
          0.6970608234405518,
          0.6965803503990173,
          0.6958739757537842,
          0.6953914761543274,
          0.6954384446144104,
          0.6957494616508484,
          0.6957830190658569,
          0.6954086422920227,
          0.6950541734695435,
          0.6951667070388794,
          0.6956878900527954,
          0.696151077747345,
          0.6961687207221985,
          0.6957576870918274,
          0.6952076554298401,
          0.6947170495986938
         ]
        },
        {
         "marker": {
          "size": 3
         },
         "mode": "markers",
         "name": "pred_9",
         "type": "scatter",
         "y": [
          0.6688849329948425,
          0.7061699032783508,
          0.6894184947013855,
          0.7031054496765137,
          0.6958304047584534,
          0.6944975852966309,
          0.6967984437942505,
          0.6966539025306702,
          0.6875514388084412,
          0.695258617401123,
          0.6914143562316895,
          0.7026705741882324,
          0.6749005317687988,
          0.6815617680549622,
          0.7002764940261841,
          0.6817429661750793,
          0.6900085210800171,
          0.6916595697402954,
          0.6960980296134949,
          0.6998094320297241,
          0.696448564529419,
          0.6883524060249329,
          0.6970762014389038,
          0.7018729448318481,
          0.698828399181366,
          0.6947494745254517,
          0.6966806054115295,
          0.7025393843650818,
          0.6935510635375977,
          0.6883639693260193,
          0.6949042677879333,
          0.7035800218582153,
          0.7078086733818054,
          0.7067217826843262,
          0.6932327747344971,
          0.6968138813972473,
          0.7070847153663635,
          0.6829313635826111,
          0.6923626661300659,
          0.702553927898407,
          0.7064961194992065,
          0.7013605237007141,
          0.6977837085723877,
          0.7114644646644592,
          0.69100421667099,
          0.714897096157074,
          0.6865980625152588,
          0.7042787671089172,
          0.6957699060440063,
          0.7087029814720154,
          0.7108113765716553,
          0.7127120494842529,
          0.7096957564353943,
          0.7195612192153931,
          0.6796581745147705,
          0.7011897563934326,
          0.7082753777503967,
          0.721738874912262,
          0.7009110450744629,
          0.7030554413795471,
          0.7169502973556519,
          0.7028883695602417,
          0.6948919296264648,
          0.7167930603027344,
          0.6967636942863464,
          0.6966164708137512,
          0.695630669593811,
          0.6895853281021118,
          0.695578396320343,
          0.7181238532066345,
          0.6925561428070068,
          0.7105625867843628,
          0.701245129108429,
          0.6972241401672363,
          0.6990818381309509,
          0.7047778367996216,
          0.6991252303123474,
          0.69529789686203,
          0.7073748111724854,
          0.7111172080039978,
          0.708730936050415,
          0.7125813364982605,
          0.6976838111877441,
          0.6985620260238647,
          0.6915383338928223,
          0.6968257427215576,
          0.6971127986907959,
          0.6945602297782898,
          0.6995786428451538,
          0.7088093161582947,
          0.7006824612617493,
          0.7045716643333435,
          0.7207654714584351,
          0.7205955982208252,
          0.7057715654373169,
          0.6984554529190063,
          0.7081575989723206,
          0.6851731538772583,
          0.7163416743278503,
          0.7076234221458435,
          0.7065508365631104,
          0.716416597366333,
          0.7144376039505005,
          0.7228403687477112,
          0.7064403295516968,
          0.6903404593467712,
          0.7150076627731323,
          0.703665018081665,
          0.7253702282905579,
          0.6965489983558655,
          0.6991217732429504,
          0.714127242565155,
          0.7097114324569702,
          0.7065510153770447,
          0.6896926164627075,
          0.701941728591919,
          0.6964218020439148,
          0.713045060634613,
          0.6904706358909607,
          0.7117356061935425,
          0.7123152613639832,
          0.6931372880935669,
          0.7108821868896484,
          0.6969028115272522,
          0.7012763023376465,
          0.7125813364982605,
          0.6976065039634705,
          0.696262776851654,
          0.7080387473106384,
          0.7048211097717285,
          0.6927890777587891,
          0.6916300058364868,
          0.69599449634552,
          0.6845039129257202,
          0.7003121376037598,
          0.7023445963859558,
          0.6983765363693237,
          0.7032768726348877,
          0.7043429017066956,
          0.6929935812950134,
          0.7021672129631042,
          0.6994270086288452,
          0.6938019394874573,
          0.7075855135917664,
          0.7022318840026855,
          0.715687096118927,
          0.6979609131813049,
          0.6984952092170715,
          0.7088381052017212,
          0.7056516408920288,
          0.7277094721794128,
          0.7107269167900085,
          0.7161154747009277,
          0.7310744524002075,
          0.7139980792999268,
          0.7157992124557495,
          0.7106388807296753,
          0.7298926115036011,
          0.7108660340309143,
          0.7100010514259338,
          0.7000733017921448,
          0.7051981091499329,
          0.7066986560821533,
          0.7159548997879028,
          0.7185240983963013,
          0.7087376713752747,
          0.7065233588218689,
          0.7164727449417114,
          0.7070107460021973,
          0.7130586504936218,
          0.7298369407653809,
          0.7145923972129822,
          0.7180372476577759,
          0.7177767157554626,
          0.7197017073631287,
          0.6862159371376038,
          0.7126142978668213,
          0.7385982275009155,
          0.7122910618782043,
          0.7297740578651428,
          0.730148196220398,
          0.7129063606262207,
          0.731153130531311,
          0.742689847946167,
          0.736699640750885,
          0.7028322219848633,
          0.7293248772621155,
          0.7191135287284851,
          0.7173095941543579,
          0.7108622193336487,
          0.7189131379127502,
          0.7278115153312683,
          0.706269383430481,
          0.7071915864944458,
          0.7193285226821899,
          0.7160291075706482,
          0.6989688277244568,
          0.7157853245735168,
          0.6990548372268677,
          0.703218400478363,
          0.7088420987129211,
          0.7195030450820923,
          0.709035336971283,
          0.718777060508728,
          0.6994678974151611,
          0.708827018737793,
          0.7080279588699341,
          0.7222623825073242,
          0.701327383518219,
          0.7226592898368835,
          0.7218265533447266,
          0.7165260910987854,
          0.7161229848861694,
          0.7215465903282166,
          0.7172214388847351,
          0.7122297883033752,
          0.7100500464439392,
          0.7120075821876526,
          0.7090293765068054,
          0.7097060084342957,
          0.6957879066467285,
          0.7028528451919556,
          0.6929639577865601,
          0.7179445028305054,
          0.713257908821106,
          0.7095047235488892,
          0.708943247795105,
          0.7009822130203247,
          0.7065697312355042,
          0.7129834294319153,
          0.7033389210700989,
          0.6903270483016968,
          0.7106192708015442,
          0.6993571519851685,
          0.7155110836029053,
          0.700098991394043,
          0.6880341172218323,
          0.6893439292907715,
          0.6952643990516663,
          0.6942645907402039,
          0.7070517539978027,
          0.7088735699653625,
          0.7119244337081909,
          0.6981062293052673,
          0.705777645111084,
          0.6823444962501526,
          0.6939414739608765,
          0.7055258750915527,
          0.6990349888801575,
          0.6935997605323792,
          0.7098510265350342,
          0.7019408941268921,
          0.7041536569595337,
          0.6921336054801941,
          0.7055615782737732,
          0.6927107572555542,
          0.7059779167175293,
          0.700764000415802,
          0.7048149704933167,
          0.7015740275382996,
          0.7045086026191711,
          0.6930968165397644,
          0.6875755190849304,
          0.7155876159667969,
          0.6954684853553772,
          0.6953418850898743,
          0.7102371454238892,
          0.704666018486023,
          0.7061555981636047,
          0.6988046169281006,
          0.6889622807502747,
          0.701690137386322,
          0.6945043802261353,
          0.6990393996238708,
          0.7078988552093506,
          0.7068769335746765,
          0.693659245967865,
          0.7071059346199036,
          0.7033669352531433,
          0.6861550807952881,
          0.7033554911613464,
          0.6945884823799133,
          0.6939644813537598
         ]
        }
       ],
       "layout": {
        "template": {
         "data": {
          "bar": [
           {
            "error_x": {
             "color": "#2a3f5f"
            },
            "error_y": {
             "color": "#2a3f5f"
            },
            "marker": {
             "line": {
              "color": "#E5ECF6",
              "width": 0.5
             },
             "pattern": {
              "fillmode": "overlay",
              "size": 10,
              "solidity": 0.2
             }
            },
            "type": "bar"
           }
          ],
          "barpolar": [
           {
            "marker": {
             "line": {
              "color": "#E5ECF6",
              "width": 0.5
             },
             "pattern": {
              "fillmode": "overlay",
              "size": 10,
              "solidity": 0.2
             }
            },
            "type": "barpolar"
           }
          ],
          "carpet": [
           {
            "aaxis": {
             "endlinecolor": "#2a3f5f",
             "gridcolor": "white",
             "linecolor": "white",
             "minorgridcolor": "white",
             "startlinecolor": "#2a3f5f"
            },
            "baxis": {
             "endlinecolor": "#2a3f5f",
             "gridcolor": "white",
             "linecolor": "white",
             "minorgridcolor": "white",
             "startlinecolor": "#2a3f5f"
            },
            "type": "carpet"
           }
          ],
          "choropleth": [
           {
            "colorbar": {
             "outlinewidth": 0,
             "ticks": ""
            },
            "type": "choropleth"
           }
          ],
          "contour": [
           {
            "colorbar": {
             "outlinewidth": 0,
             "ticks": ""
            },
            "colorscale": [
             [
              0,
              "#0d0887"
             ],
             [
              0.1111111111111111,
              "#46039f"
             ],
             [
              0.2222222222222222,
              "#7201a8"
             ],
             [
              0.3333333333333333,
              "#9c179e"
             ],
             [
              0.4444444444444444,
              "#bd3786"
             ],
             [
              0.5555555555555556,
              "#d8576b"
             ],
             [
              0.6666666666666666,
              "#ed7953"
             ],
             [
              0.7777777777777778,
              "#fb9f3a"
             ],
             [
              0.8888888888888888,
              "#fdca26"
             ],
             [
              1,
              "#f0f921"
             ]
            ],
            "type": "contour"
           }
          ],
          "contourcarpet": [
           {
            "colorbar": {
             "outlinewidth": 0,
             "ticks": ""
            },
            "type": "contourcarpet"
           }
          ],
          "heatmap": [
           {
            "colorbar": {
             "outlinewidth": 0,
             "ticks": ""
            },
            "colorscale": [
             [
              0,
              "#0d0887"
             ],
             [
              0.1111111111111111,
              "#46039f"
             ],
             [
              0.2222222222222222,
              "#7201a8"
             ],
             [
              0.3333333333333333,
              "#9c179e"
             ],
             [
              0.4444444444444444,
              "#bd3786"
             ],
             [
              0.5555555555555556,
              "#d8576b"
             ],
             [
              0.6666666666666666,
              "#ed7953"
             ],
             [
              0.7777777777777778,
              "#fb9f3a"
             ],
             [
              0.8888888888888888,
              "#fdca26"
             ],
             [
              1,
              "#f0f921"
             ]
            ],
            "type": "heatmap"
           }
          ],
          "heatmapgl": [
           {
            "colorbar": {
             "outlinewidth": 0,
             "ticks": ""
            },
            "colorscale": [
             [
              0,
              "#0d0887"
             ],
             [
              0.1111111111111111,
              "#46039f"
             ],
             [
              0.2222222222222222,
              "#7201a8"
             ],
             [
              0.3333333333333333,
              "#9c179e"
             ],
             [
              0.4444444444444444,
              "#bd3786"
             ],
             [
              0.5555555555555556,
              "#d8576b"
             ],
             [
              0.6666666666666666,
              "#ed7953"
             ],
             [
              0.7777777777777778,
              "#fb9f3a"
             ],
             [
              0.8888888888888888,
              "#fdca26"
             ],
             [
              1,
              "#f0f921"
             ]
            ],
            "type": "heatmapgl"
           }
          ],
          "histogram": [
           {
            "marker": {
             "pattern": {
              "fillmode": "overlay",
              "size": 10,
              "solidity": 0.2
             }
            },
            "type": "histogram"
           }
          ],
          "histogram2d": [
           {
            "colorbar": {
             "outlinewidth": 0,
             "ticks": ""
            },
            "colorscale": [
             [
              0,
              "#0d0887"
             ],
             [
              0.1111111111111111,
              "#46039f"
             ],
             [
              0.2222222222222222,
              "#7201a8"
             ],
             [
              0.3333333333333333,
              "#9c179e"
             ],
             [
              0.4444444444444444,
              "#bd3786"
             ],
             [
              0.5555555555555556,
              "#d8576b"
             ],
             [
              0.6666666666666666,
              "#ed7953"
             ],
             [
              0.7777777777777778,
              "#fb9f3a"
             ],
             [
              0.8888888888888888,
              "#fdca26"
             ],
             [
              1,
              "#f0f921"
             ]
            ],
            "type": "histogram2d"
           }
          ],
          "histogram2dcontour": [
           {
            "colorbar": {
             "outlinewidth": 0,
             "ticks": ""
            },
            "colorscale": [
             [
              0,
              "#0d0887"
             ],
             [
              0.1111111111111111,
              "#46039f"
             ],
             [
              0.2222222222222222,
              "#7201a8"
             ],
             [
              0.3333333333333333,
              "#9c179e"
             ],
             [
              0.4444444444444444,
              "#bd3786"
             ],
             [
              0.5555555555555556,
              "#d8576b"
             ],
             [
              0.6666666666666666,
              "#ed7953"
             ],
             [
              0.7777777777777778,
              "#fb9f3a"
             ],
             [
              0.8888888888888888,
              "#fdca26"
             ],
             [
              1,
              "#f0f921"
             ]
            ],
            "type": "histogram2dcontour"
           }
          ],
          "mesh3d": [
           {
            "colorbar": {
             "outlinewidth": 0,
             "ticks": ""
            },
            "type": "mesh3d"
           }
          ],
          "parcoords": [
           {
            "line": {
             "colorbar": {
              "outlinewidth": 0,
              "ticks": ""
             }
            },
            "type": "parcoords"
           }
          ],
          "pie": [
           {
            "automargin": true,
            "type": "pie"
           }
          ],
          "scatter": [
           {
            "fillpattern": {
             "fillmode": "overlay",
             "size": 10,
             "solidity": 0.2
            },
            "type": "scatter"
           }
          ],
          "scatter3d": [
           {
            "line": {
             "colorbar": {
              "outlinewidth": 0,
              "ticks": ""
             }
            },
            "marker": {
             "colorbar": {
              "outlinewidth": 0,
              "ticks": ""
             }
            },
            "type": "scatter3d"
           }
          ],
          "scattercarpet": [
           {
            "marker": {
             "colorbar": {
              "outlinewidth": 0,
              "ticks": ""
             }
            },
            "type": "scattercarpet"
           }
          ],
          "scattergeo": [
           {
            "marker": {
             "colorbar": {
              "outlinewidth": 0,
              "ticks": ""
             }
            },
            "type": "scattergeo"
           }
          ],
          "scattergl": [
           {
            "marker": {
             "colorbar": {
              "outlinewidth": 0,
              "ticks": ""
             }
            },
            "type": "scattergl"
           }
          ],
          "scattermapbox": [
           {
            "marker": {
             "colorbar": {
              "outlinewidth": 0,
              "ticks": ""
             }
            },
            "type": "scattermapbox"
           }
          ],
          "scatterpolar": [
           {
            "marker": {
             "colorbar": {
              "outlinewidth": 0,
              "ticks": ""
             }
            },
            "type": "scatterpolar"
           }
          ],
          "scatterpolargl": [
           {
            "marker": {
             "colorbar": {
              "outlinewidth": 0,
              "ticks": ""
             }
            },
            "type": "scatterpolargl"
           }
          ],
          "scatterternary": [
           {
            "marker": {
             "colorbar": {
              "outlinewidth": 0,
              "ticks": ""
             }
            },
            "type": "scatterternary"
           }
          ],
          "surface": [
           {
            "colorbar": {
             "outlinewidth": 0,
             "ticks": ""
            },
            "colorscale": [
             [
              0,
              "#0d0887"
             ],
             [
              0.1111111111111111,
              "#46039f"
             ],
             [
              0.2222222222222222,
              "#7201a8"
             ],
             [
              0.3333333333333333,
              "#9c179e"
             ],
             [
              0.4444444444444444,
              "#bd3786"
             ],
             [
              0.5555555555555556,
              "#d8576b"
             ],
             [
              0.6666666666666666,
              "#ed7953"
             ],
             [
              0.7777777777777778,
              "#fb9f3a"
             ],
             [
              0.8888888888888888,
              "#fdca26"
             ],
             [
              1,
              "#f0f921"
             ]
            ],
            "type": "surface"
           }
          ],
          "table": [
           {
            "cells": {
             "fill": {
              "color": "#EBF0F8"
             },
             "line": {
              "color": "white"
             }
            },
            "header": {
             "fill": {
              "color": "#C8D4E3"
             },
             "line": {
              "color": "white"
             }
            },
            "type": "table"
           }
          ]
         },
         "layout": {
          "annotationdefaults": {
           "arrowcolor": "#2a3f5f",
           "arrowhead": 0,
           "arrowwidth": 1
          },
          "autotypenumbers": "strict",
          "coloraxis": {
           "colorbar": {
            "outlinewidth": 0,
            "ticks": ""
           }
          },
          "colorscale": {
           "diverging": [
            [
             0,
             "#8e0152"
            ],
            [
             0.1,
             "#c51b7d"
            ],
            [
             0.2,
             "#de77ae"
            ],
            [
             0.3,
             "#f1b6da"
            ],
            [
             0.4,
             "#fde0ef"
            ],
            [
             0.5,
             "#f7f7f7"
            ],
            [
             0.6,
             "#e6f5d0"
            ],
            [
             0.7,
             "#b8e186"
            ],
            [
             0.8,
             "#7fbc41"
            ],
            [
             0.9,
             "#4d9221"
            ],
            [
             1,
             "#276419"
            ]
           ],
           "sequential": [
            [
             0,
             "#0d0887"
            ],
            [
             0.1111111111111111,
             "#46039f"
            ],
            [
             0.2222222222222222,
             "#7201a8"
            ],
            [
             0.3333333333333333,
             "#9c179e"
            ],
            [
             0.4444444444444444,
             "#bd3786"
            ],
            [
             0.5555555555555556,
             "#d8576b"
            ],
            [
             0.6666666666666666,
             "#ed7953"
            ],
            [
             0.7777777777777778,
             "#fb9f3a"
            ],
            [
             0.8888888888888888,
             "#fdca26"
            ],
            [
             1,
             "#f0f921"
            ]
           ],
           "sequentialminus": [
            [
             0,
             "#0d0887"
            ],
            [
             0.1111111111111111,
             "#46039f"
            ],
            [
             0.2222222222222222,
             "#7201a8"
            ],
            [
             0.3333333333333333,
             "#9c179e"
            ],
            [
             0.4444444444444444,
             "#bd3786"
            ],
            [
             0.5555555555555556,
             "#d8576b"
            ],
            [
             0.6666666666666666,
             "#ed7953"
            ],
            [
             0.7777777777777778,
             "#fb9f3a"
            ],
            [
             0.8888888888888888,
             "#fdca26"
            ],
            [
             1,
             "#f0f921"
            ]
           ]
          },
          "colorway": [
           "#636efa",
           "#EF553B",
           "#00cc96",
           "#ab63fa",
           "#FFA15A",
           "#19d3f3",
           "#FF6692",
           "#B6E880",
           "#FF97FF",
           "#FECB52"
          ],
          "font": {
           "color": "#2a3f5f"
          },
          "geo": {
           "bgcolor": "white",
           "lakecolor": "white",
           "landcolor": "#E5ECF6",
           "showlakes": true,
           "showland": true,
           "subunitcolor": "white"
          },
          "hoverlabel": {
           "align": "left"
          },
          "hovermode": "closest",
          "mapbox": {
           "style": "light"
          },
          "paper_bgcolor": "white",
          "plot_bgcolor": "#E5ECF6",
          "polar": {
           "angularaxis": {
            "gridcolor": "white",
            "linecolor": "white",
            "ticks": ""
           },
           "bgcolor": "#E5ECF6",
           "radialaxis": {
            "gridcolor": "white",
            "linecolor": "white",
            "ticks": ""
           }
          },
          "scene": {
           "xaxis": {
            "backgroundcolor": "#E5ECF6",
            "gridcolor": "white",
            "gridwidth": 2,
            "linecolor": "white",
            "showbackground": true,
            "ticks": "",
            "zerolinecolor": "white"
           },
           "yaxis": {
            "backgroundcolor": "#E5ECF6",
            "gridcolor": "white",
            "gridwidth": 2,
            "linecolor": "white",
            "showbackground": true,
            "ticks": "",
            "zerolinecolor": "white"
           },
           "zaxis": {
            "backgroundcolor": "#E5ECF6",
            "gridcolor": "white",
            "gridwidth": 2,
            "linecolor": "white",
            "showbackground": true,
            "ticks": "",
            "zerolinecolor": "white"
           }
          },
          "shapedefaults": {
           "line": {
            "color": "#2a3f5f"
           }
          },
          "ternary": {
           "aaxis": {
            "gridcolor": "white",
            "linecolor": "white",
            "ticks": ""
           },
           "baxis": {
            "gridcolor": "white",
            "linecolor": "white",
            "ticks": ""
           },
           "bgcolor": "#E5ECF6",
           "caxis": {
            "gridcolor": "white",
            "linecolor": "white",
            "ticks": ""
           }
          },
          "title": {
           "x": 0.05
          },
          "xaxis": {
           "automargin": true,
           "gridcolor": "white",
           "linecolor": "white",
           "ticks": "",
           "title": {
            "standoff": 15
           },
           "zerolinecolor": "white",
           "zerolinewidth": 2
          },
          "yaxis": {
           "automargin": true,
           "gridcolor": "white",
           "linecolor": "white",
           "ticks": "",
           "title": {
            "standoff": 15
           },
           "zerolinecolor": "white",
           "zerolinewidth": 2
          }
         }
        }
       }
      }
     },
     "metadata": {},
     "output_type": "display_data"
    }
   ],
   "source": [
    "for i in range(10): #range(12):#\n",
    "    fig = go.Figure()\n",
    "    fig.add_trace(go.Scatter(y=batch[1][i,:],mode='markers',name=f'gt_{i}',marker=dict(size=3)))\n",
    "    fig.add_trace(go.Scatter(y=pred[i,:,0],mode='markers',name=f'pred_{i}',marker=dict(size=3)))\n",
    "    fig.show()"
   ]
  },
  {
   "cell_type": "code",
   "execution_count": null,
   "metadata": {},
   "outputs": [],
   "source": []
  }
 ],
 "metadata": {
  "kernelspec": {
   "display_name": "base",
   "language": "python",
   "name": "python3"
  },
  "language_info": {
   "codemirror_mode": {
    "name": "ipython",
    "version": 3
   },
   "file_extension": ".py",
   "mimetype": "text/x-python",
   "name": "python",
   "nbconvert_exporter": "python",
   "pygments_lexer": "ipython3",
   "version": "3.12.4"
  }
 },
 "nbformat": 4,
 "nbformat_minor": 2
}
