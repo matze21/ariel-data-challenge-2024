{
 "cells": [
  {
   "cell_type": "code",
   "execution_count": 32,
   "metadata": {},
   "outputs": [],
   "source": [
    "import os\n",
    "import glob\n",
    "import numpy as np\n",
    "import tensorflow as tf\n",
    "import pandas as pd\n",
    "import plotly.express as px\n",
    "import plotly.graph_objects as go"
   ]
  },
  {
   "cell_type": "code",
   "execution_count": 24,
   "metadata": {},
   "outputs": [],
   "source": [
    "labelDf = pd.read_csv(\"train_labels.csv\")\n",
    "labelDf = labelDf.set_index('planet_id')"
   ]
  },
  {
   "cell_type": "code",
   "execution_count": null,
   "metadata": {},
   "outputs": [],
   "source": [
    "labelDf = pd.read_csv(\"train_labels.csv\")\n",
    "labelDf = labelDf.set_index('planet_id')\n",
    "\n",
    "mean = np.mean(labelDf.mean())\n",
    "std = np.std(labelDf.std())\n",
    "max = np.max(labelDf.max())\n",
    "min = np.min(labelDf.min())\n",
    "mean, std, max, min\n",
    "\n",
    "for col in labelDf.columns:\n",
    "    labelDf.loc[:,col] = (labelDf[col] - mean) / (std)\n",
    "labelDf"
   ]
  },
  {
   "cell_type": "code",
   "execution_count": 36,
   "metadata": {},
   "outputs": [],
   "source": [
    "star = labelDf.index[0]\n",
    "file_path = 'train/'+str(star)+'/combined.npz'\n",
    "with np.load(file_path) as data:\n",
    "        data = data['a'][0,:,0:283,:]\n",
    "\n",
    "dataDf = pd.DataFrame(data[:,:,0], columns=labelDf.columns)"
   ]
  },
  {
   "cell_type": "code",
   "execution_count": null,
   "metadata": {},
   "outputs": [],
   "source": [
    "wavelength = labelDf.columns[12]\n",
    "\n",
    "print(labelDf.loc[star,wavelength])\n",
    "fig = go.Figure()\n",
    "fig.add_trace(go.Scatter(y=dataDf[wavelength],mode='markers',name='flux',marker=dict(size=3, color='blue')))\n",
    "fig.add_trace(go.Scatter(y=dataDf[wavelength].diff(),mode='markers',name='diff',marker=dict(size=3, color='red')))\n",
    "for i in [100,300,500,1000]:#[2,6,10,20,100]:\n",
    "    fig.add_trace(go.Scatter(y=dataDf[wavelength].rolling(i, center=True).mean(),mode='markers',name=f'rolling_{i}',marker=dict(size=3)))\n",
    "    fig.add_trace(go.Scatter(y=dataDf[wavelength].diff().rolling(i,center=True).mean(),mode='markers',name=f'diff_roll_{i}',marker=dict(size=3)))\n",
    "\n",
    "fig.show()"
   ]
  },
  {
   "cell_type": "code",
   "execution_count": null,
   "metadata": {},
   "outputs": [],
   "source": [
    "# 1. filter & get some mean to remove noise\n",
    "# 2. calculate difference of top / bottom\n",
    "# 3. difference / top = spectrum\n",
    "\n",
    "\n",
    "# confirmed the target is delF / F -> delta flux / flux\n",
    "# normalize by flux -> we have to introduce a scaling such that we can scale the flux to 1 -> target will be absolute then\n",
    "# lots of cnns to filter for the mean"
   ]
  }
 ],
 "metadata": {
  "kernelspec": {
   "display_name": "base",
   "language": "python",
   "name": "python3"
  },
  "language_info": {
   "codemirror_mode": {
    "name": "ipython",
    "version": 3
   },
   "file_extension": ".py",
   "mimetype": "text/x-python",
   "name": "python",
   "nbconvert_exporter": "python",
   "pygments_lexer": "ipython3",
   "version": "3.12.4"
  }
 },
 "nbformat": 4,
 "nbformat_minor": 2
}
