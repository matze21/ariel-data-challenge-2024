{
 "cells": [
  {
   "cell_type": "code",
   "execution_count": 2,
   "metadata": {},
   "outputs": [],
   "source": [
    "import os\n",
    "import glob\n",
    "import numpy as np\n",
    "import tensorflow as tf\n",
    "import pandas as pd\n",
    "import plotly.express as px\n",
    "import plotly.graph_objects as go"
   ]
  },
  {
   "cell_type": "code",
   "execution_count": null,
   "metadata": {},
   "outputs": [],
   "source": [
    "labelDf = pd.read_csv(\"train_labels.csv\")\n",
    "labelDf = labelDf.set_index('planet_id')\n",
    "labelDf"
   ]
  },
  {
   "cell_type": "code",
   "execution_count": null,
   "metadata": {},
   "outputs": [],
   "source": [
    "labelDf = pd.read_csv(\"train_labels.csv\")\n",
    "labelDf = labelDf.set_index('planet_id')\n",
    "\n",
    "mean = np.mean(labelDf.mean())\n",
    "std = np.std(labelDf.std())\n",
    "max = np.max(labelDf.max())\n",
    "min = np.min(labelDf.min())\n",
    "mean, std, max, min\n",
    "\n",
    "for col in labelDf.columns:\n",
    "    labelDf.loc[:,col] = (labelDf[col] - mean) / (std)\n",
    "labelDf"
   ]
  },
  {
   "cell_type": "code",
   "execution_count": null,
   "metadata": {},
   "outputs": [],
   "source": [
    "star = labelDf.index[0]\n",
    "file_path = 'train/'+str(star)+'/combined.npz'\n",
    "with np.load(file_path) as data:\n",
    "        data = data['a'][0,:,0:283,:]\n",
    "\n",
    "features = np.reshape(data,(-1,25,283,4))\n",
    "features = np.mean(features,axis=1)\n",
    "print(features.shape)\n",
    "dataDf = pd.DataFrame(data[:,:,1], columns=labelDf.columns)\n",
    "dataDfFiltered = pd.DataFrame(features[:,:,1], columns=labelDf.columns)"
   ]
  },
  {
   "cell_type": "code",
   "execution_count": null,
   "metadata": {},
   "outputs": [],
   "source": [
    "wavelength = labelDf.columns[0]\n",
    "print(wavelength)\n",
    "\n",
    "print(labelDf.loc[star,wavelength])\n",
    "fig = go.Figure()\n",
    "fig.add_trace(go.Scatter(y=dataDf[wavelength],mode='markers',name='flux',marker=dict(size=3, color='blue'), visible='legendonly'))\n",
    "#fig.add_trace(go.Scatter(y=dataDf[wavelength].diff(),mode='markers',name='diff',marker=dict(size=3, color='red')))\n",
    "for i in [100,300,500,1000]:#[2,6,10,20,100]:\n",
    "    fig.add_trace(go.Scatter(y=dataDf[wavelength].rolling(i, center=True).mean(),mode='markers',name=f'rolling_{i}',marker=dict(size=3)))\n",
    "    #fig.add_trace(go.Scatter(y=dataDf[wavelength].diff().rolling(i,center=True).mean(),mode='markers',name=f'diff_roll_{i}',marker=dict(size=3)))\n",
    "fig.show()\n",
    "\n",
    "fig2 = go.Figure()\n",
    "fig2.add_trace(go.Scatter(y=dataDfFiltered[wavelength],mode='markers',name='flux',marker=dict(size=3, color='blue'), visible='legendonly'))\n",
    "#fig.add_trace(go.Scatter(y=dataDf[wavelength].diff(),mode='markers',name='diff',marker=dict(size=3, color='red')))\n",
    "for i in [10,30,50]:#[2,6,10,20,100]:\n",
    "    fig2.add_trace(go.Scatter(y=dataDfFiltered[wavelength].rolling(i, center=True).mean(),mode='markers',name=f'rolling_{i}',marker=dict(size=3)))\n",
    "    #fig.add_trace(go.Scatter(y=dataDf[wavelength].diff().rolling(i,center=True).mean(),mode='markers',name=f'diff_roll_{i}',marker=dict(size=3)))\n",
    "fig2.show()"
   ]
  },
  {
   "cell_type": "code",
   "execution_count": null,
   "metadata": {},
   "outputs": [],
   "source": [
    "fig2 = go.Figure()\n",
    "for i,wavelength in enumerate(labelDf.columns):\n",
    "    if i%10 != 0:\n",
    "        continue\n",
    "    #fig2.add_trace(go.Scatter(y=dataDfFiltered[wavelength],mode='markers',name='flux',marker=dict(size=3, color='blue'), visible='legendonly'))\n",
    "    fig2.add_trace(go.Scatter(y=dataDfFiltered[wavelength].rolling(50, center=True).mean() / dataDfFiltered[wavelength].max(),mode='markers',name=f'rolling_{wavelength}',marker=dict(size=3)))\n",
    "fig2.show()"
   ]
  },
  {
   "cell_type": "code",
   "execution_count": 15,
   "metadata": {},
   "outputs": [],
   "source": [
    "est = []\n",
    "for i,wavelength in enumerate(labelDf.columns):\n",
    "    roll = dataDfFiltered[wavelength].rolling(50, center=True).mean()# / dataDfFiltered[wavelength].max()\n",
    "    est.append((roll.max()-roll.min())/roll.max())"
   ]
  },
  {
   "cell_type": "code",
   "execution_count": null,
   "metadata": {},
   "outputs": [],
   "source": [
    "labelDf.loc[star],est"
   ]
  },
  {
   "cell_type": "code",
   "execution_count": null,
   "metadata": {},
   "outputs": [],
   "source": [
    "# 1. filter & get some mean to remove noise\n",
    "# 2. calculate difference of top / bottom\n",
    "# 3. difference / top = spectrum\n",
    "\n",
    "\n",
    "# confirmed the target is delF / F -> delta flux / flux\n",
    "# normalize by flux -> we have to introduce a scaling such that we can scale the flux to 1 -> target will be absolute then\n",
    "# lots of cnns to filter for the mean"
   ]
  }
 ],
 "metadata": {
  "kernelspec": {
   "display_name": "base",
   "language": "python",
   "name": "python3"
  },
  "language_info": {
   "codemirror_mode": {
    "name": "ipython",
    "version": 3
   },
   "file_extension": ".py",
   "mimetype": "text/x-python",
   "name": "python",
   "nbconvert_exporter": "python",
   "pygments_lexer": "ipython3",
   "version": "3.12.4"
  }
 },
 "nbformat": 4,
 "nbformat_minor": 2
}
