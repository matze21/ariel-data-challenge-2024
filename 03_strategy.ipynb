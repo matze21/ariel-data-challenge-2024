{
 "cells": [
  {
   "cell_type": "code",
   "execution_count": null,
   "metadata": {},
   "outputs": [],
   "source": []
  },
  {
   "cell_type": "markdown",
   "metadata": {},
   "source": [
    "# competition host example\n",
    "how to make fsg & airs data same length: The observations are binned in time by group of 30 frames for AIRS and 360 frames for FGS1\n",
    "- time binned signal\n",
    "- sum over entire fgs image and just create absolute value\n",
    "- predict mean of spectrum in 1 filter and afterwards predict difference on summed intensities over wavelengths & times\n",
    "- predict mean with 1d cnn\n",
    "- predict diff of mean with 2d cnn (normalize targets)\n"
   ]
  },
  {
   "cell_type": "markdown",
   "metadata": {},
   "source": [
    "# options:\n",
    "\n",
    "- aggregatet (sum over spatial dimension) vs basic data representation (on full image -> let ai learn the sum via attention)\n",
    "- predict mean + diff or predict target directly \n",
    "- investigate if targets are distributed weirdly (careful train/test split?)\n",
    "\n",
    "data representations:\n",
    "- correct data based on comp\n",
    "- normalize data based on dark pixel\n",
    "- normalize data with min/max\n",
    "- normalize data with zscore -> check if we loose information by making plots too similar\n",
    "- basic data\n",
    "\n",
    "\n",
    "Models:\n",
    "- add AIRS and FGS data together or have separate encoders\n",
    "- transformer/squeezeformer with embeddings over time (aggregated)\n",
    "- transformer with embeddings over time and space (full data)\n",
    "- Arima model to fit time trend\n",
    "\n",
    "Questions:\n",
    "- what does network need to do, does it need attention to learn the relation between different timesteps \n",
    "- can I use squeezeformers to filter out info (intuitively yes?)\n",
    "- do I need to model the division operation of the spectrum somehow\n",
    "\n"
   ]
  }
 ],
 "metadata": {
  "language_info": {
   "name": "python"
  }
 },
 "nbformat": 4,
 "nbformat_minor": 2
}
